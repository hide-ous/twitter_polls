{
 "cells": [
  {
   "cell_type": "code",
   "execution_count": 1,
   "metadata": {
    "collapsed": true,
    "ExecuteTime": {
     "start_time": "2023-05-12T20:26:07.615841Z",
     "end_time": "2023-05-12T20:26:08.087478Z"
    }
   },
   "outputs": [],
   "source": [
    "import pandas as pd\n",
    "import os\n",
    "import json\n",
    "from collections import defaultdict\n",
    "\n",
    "\n",
    "from data_utils import DATA_PATH, YEARS"
   ]
  },
  {
   "cell_type": "code",
   "execution_count": 2,
   "outputs": [],
   "source": [
    "polls= dict()\n",
    "for year in YEARS:\n",
    "    poll_fpath = os.path.join(DATA_PATH, 'paper_data','polls', f'polls-{year}-query1-2options-clean.json')\n",
    "    with open(poll_fpath) as f:\n",
    "        polls[year] = json.load(f)"
   ],
   "metadata": {
    "collapsed": false,
    "ExecuteTime": {
     "start_time": "2023-05-12T19:15:11.810264Z",
     "end_time": "2023-05-12T19:15:11.886277Z"
    }
   }
  },
  {
   "cell_type": "code",
   "execution_count": 3,
   "outputs": [],
   "source": [
    "twitter_polls = {year:list(filter(lambda poll:poll['type']=='twitter', polls_)) for year, polls_ in polls.items()}"
   ],
   "metadata": {
    "collapsed": false,
    "ExecuteTime": {
     "start_time": "2023-05-12T19:15:11.997251Z",
     "end_time": "2023-05-12T19:15:12.013249Z"
    }
   }
  },
  {
   "cell_type": "code",
   "execution_count": 4,
   "outputs": [
    {
     "data": {
      "text/plain": "(401, 993)"
     },
     "execution_count": 4,
     "metadata": {},
     "output_type": "execute_result"
    }
   ],
   "source": [
    "len(twitter_polls[2016]), len(twitter_polls[2020])"
   ],
   "metadata": {
    "collapsed": false,
    "ExecuteTime": {
     "start_time": "2023-05-12T19:15:12.125802Z",
     "end_time": "2023-05-12T19:15:12.141799Z"
    }
   }
  },
  {
   "cell_type": "code",
   "execution_count": 5,
   "outputs": [],
   "source": [
    "twitter_author_ids_and_trump_percent = {year:defaultdict(list) for year in YEARS}\n",
    "for year, polls_ in twitter_polls.items():\n",
    "    for poll in polls_:\n",
    "        twitter_author_ids_and_trump_percent[year][poll['meta']['author_id']].append(poll['trump_perc'])\n"
   ],
   "metadata": {
    "collapsed": false,
    "ExecuteTime": {
     "start_time": "2023-05-12T19:15:12.380302Z",
     "end_time": "2023-05-12T19:15:12.400916Z"
    }
   }
  },
  {
   "cell_type": "code",
   "execution_count": 6,
   "outputs": [],
   "source": [
    "twitter_author_ids = {year:set(poll['meta']['author_id'] for poll in polls_) for year, polls_ in twitter_polls.items()}"
   ],
   "metadata": {
    "collapsed": false,
    "ExecuteTime": {
     "start_time": "2023-05-12T19:15:12.955596Z",
     "end_time": "2023-05-12T19:15:12.962593Z"
    }
   }
  },
  {
   "cell_type": "code",
   "execution_count": 7,
   "outputs": [
    {
     "name": "stdout",
     "output_type": "stream",
     "text": [
      "data\\follower_lists_2016.jsonl\n",
      "data\\follower_lists_2020.jsonl\n",
      "data\\follower_lists_new.jsonl\n",
      "data\\follower_lists_newer.jsonl\n"
     ]
    }
   ],
   "source": [
    "twitter_follower_lists = dict()\n",
    "\n",
    "fpaths = [os.path.join(DATA_PATH, fname) for fname in os.listdir(DATA_PATH) if ('follower_list' in fname) and fname.endswith('jsonl')]\n",
    "_follower_lists = dict()\n",
    "for fpath in fpaths:\n",
    "    print(fpath)\n",
    "    with open(fpath, encoding='utf8') as f:\n",
    "        for l in f:\n",
    "            _follower_lists.update(json.loads(l))\n",
    "_twitter_missing_follower_lists=dict()\n",
    "for year, authors in twitter_author_ids.items():\n",
    "    twitter_follower_lists[year] = dict()\n",
    "    _twitter_missing_follower_lists[year] = set()\n",
    "    for author in authors:\n",
    "        if author not in _follower_lists:\n",
    "            _twitter_missing_follower_lists[year].add(author)\n",
    "        else:\n",
    "            twitter_follower_lists[year][author] = [str(id_) for id_ in _follower_lists[author]]"
   ],
   "metadata": {
    "collapsed": false,
    "ExecuteTime": {
     "start_time": "2023-05-12T19:15:13.454570Z",
     "end_time": "2023-05-12T19:15:18.701082Z"
    }
   }
  },
  {
   "cell_type": "code",
   "execution_count": 8,
   "outputs": [
    {
     "data": {
      "text/plain": "(334, 636, 14, 46)"
     },
     "execution_count": 8,
     "metadata": {},
     "output_type": "execute_result"
    }
   ],
   "source": [
    "len(twitter_follower_lists[2016]), len(twitter_follower_lists[2020]), len(_twitter_missing_follower_lists[2016]), len(_twitter_missing_follower_lists[2020])"
   ],
   "metadata": {
    "collapsed": false,
    "ExecuteTime": {
     "start_time": "2023-05-12T19:15:18.702085Z",
     "end_time": "2023-05-12T19:15:18.717092Z"
    }
   }
  },
  {
   "cell_type": "code",
   "execution_count": 9,
   "outputs": [],
   "source": [
    "twitter_follower_ids = {year:{follower for followers in follow_lists.values() for follower in followers} for year, follow_lists in twitter_follower_lists.items()}"
   ],
   "metadata": {
    "collapsed": false,
    "ExecuteTime": {
     "start_time": "2023-05-12T19:15:18.719098Z",
     "end_time": "2023-05-12T19:15:21.227683Z"
    }
   }
  },
  {
   "cell_type": "code",
   "execution_count": 10,
   "outputs": [
    {
     "data": {
      "text/plain": "(4508491, 8353619)"
     },
     "execution_count": 10,
     "metadata": {},
     "output_type": "execute_result"
    }
   ],
   "source": [
    "len(twitter_follower_ids[2016]), len(twitter_follower_ids[2020])"
   ],
   "metadata": {
    "collapsed": false,
    "ExecuteTime": {
     "start_time": "2023-05-12T19:15:21.226680Z",
     "end_time": "2023-05-12T19:15:21.242680Z"
    }
   }
  },
  {
   "cell_type": "code",
   "execution_count": 11,
   "outputs": [
    {
     "name": "stdout",
     "output_type": "stream",
     "text": [
      "data\\authors_missing.jsonl\n",
      "data\\author_profiles_missing.jsonl\n",
      "data\\complotto_missing.jsonl\n",
      "data\\followers_missing.jsonl\n",
      "data\\newer_followees_missing.jsonl\n",
      "data\\newer_followers_missing.jsonl\n",
      "data\\new_authors_missing.jsonl\n",
      "data\\new_followees_missing.jsonl\n",
      "data\\new_followees_of_authors_missing.jsonl\n",
      "data\\new_followers_missing.jsonl\n",
      "data\\repliers_missing.jsonl\n"
     ]
    }
   ],
   "source": [
    "fpaths = [os.path.join(DATA_PATH, fname) for fname in os.listdir(DATA_PATH) if ('missing' in fname) and fname.endswith('jsonl')]\n",
    "_missing = set()\n",
    "for fpath in fpaths:\n",
    "    print(fpath)\n",
    "    with open(fpath, encoding='utf8') as f:\n",
    "        for message in  map(json.loads, f):\n",
    "            _missing.add(message['value'] if 'value' in message else list(message.keys())[0])"
   ],
   "metadata": {
    "collapsed": false,
    "ExecuteTime": {
     "start_time": "2023-05-12T19:15:40.470165Z",
     "end_time": "2023-05-12T19:15:40.533891Z"
    }
   }
  },
  {
   "cell_type": "code",
   "execution_count": 12,
   "outputs": [
    {
     "data": {
      "text/plain": "17188"
     },
     "execution_count": 12,
     "metadata": {},
     "output_type": "execute_result"
    }
   ],
   "source": [
    "len(_missing)"
   ],
   "metadata": {
    "collapsed": false,
    "ExecuteTime": {
     "start_time": "2023-05-12T19:15:43.497423Z",
     "end_time": "2023-05-12T19:15:43.509434Z"
    }
   }
  },
  {
   "cell_type": "code",
   "execution_count": 13,
   "outputs": [
    {
     "data": {
      "text/plain": "(0, 0)"
     },
     "execution_count": 13,
     "metadata": {},
     "output_type": "execute_result"
    }
   ],
   "source": [
    "len([i for i in _twitter_missing_follower_lists[2016] if i not in _missing]),len([i for i in _twitter_missing_follower_lists[2020] if i not in _missing])"
   ],
   "metadata": {
    "collapsed": false,
    "ExecuteTime": {
     "start_time": "2023-05-12T19:15:47.019660Z",
     "end_time": "2023-05-12T19:15:47.033826Z"
    }
   }
  },
  {
   "cell_type": "code",
   "execution_count": 14,
   "outputs": [
    {
     "name": "stdout",
     "output_type": "stream",
     "text": [
      "data\\followers_rehydrated.jsonl\n",
      "data\\newer_followers_rehydrated.jsonl\n",
      "data\\new_followers_rehydrated.jsonl\n"
     ]
    }
   ],
   "source": [
    "\n",
    "twitter_follower_profiles = defaultdict(dict)\n",
    "_twitter_follower_ids_to_years = defaultdict(list)\n",
    "for year, followers in twitter_follower_ids.items():\n",
    "    for follower in followers:\n",
    "        _twitter_follower_ids_to_years[follower].append(year)\n",
    "\n",
    "fpaths = [os.path.join(DATA_PATH, fname) for fname in os.listdir(DATA_PATH) if ('follower' in fname) and ('rehydrated' in fname) and fname.endswith('jsonl')]\n",
    "for fpath in fpaths:\n",
    "    print(fpath)\n",
    "    with open(fpath, encoding='utf8') as f:\n",
    "        for profile in map(json.loads, f):\n",
    "            id_ = profile['id']\n",
    "            for year in _twitter_follower_ids_to_years[id_]:\n",
    "                twitter_follower_profiles[year][id_] = profile"
   ],
   "metadata": {
    "collapsed": false,
    "ExecuteTime": {
     "start_time": "2023-05-12T19:15:47.034826Z",
     "end_time": "2023-05-12T19:19:43.370285Z"
    }
   }
  },
  {
   "cell_type": "code",
   "execution_count": 15,
   "outputs": [
    {
     "data": {
      "text/plain": "(496, 1215)"
     },
     "execution_count": 15,
     "metadata": {},
     "output_type": "execute_result"
    }
   ],
   "source": [
    "len([i for i in twitter_follower_profiles[2016] if i in _missing]),len([i for i in twitter_follower_profiles[2020] if i in _missing])"
   ],
   "metadata": {
    "collapsed": false,
    "ExecuteTime": {
     "start_time": "2023-05-12T19:19:43.369284Z",
     "end_time": "2023-05-12T19:19:44.543080Z"
    }
   }
  },
  {
   "cell_type": "code",
   "execution_count": 16,
   "outputs": [
    {
     "data": {
      "text/plain": "(4507571, 8351916)"
     },
     "execution_count": 16,
     "metadata": {},
     "output_type": "execute_result"
    }
   ],
   "source": [
    "len(twitter_follower_profiles[2016]),len(twitter_follower_profiles[2020])"
   ],
   "metadata": {
    "collapsed": false,
    "ExecuteTime": {
     "start_time": "2023-05-12T19:19:44.542080Z",
     "end_time": "2023-05-12T19:19:44.559094Z"
    }
   }
  },
  {
   "cell_type": "code",
   "execution_count": 17,
   "outputs": [
    {
     "name": "stdout",
     "output_type": "stream",
     "text": [
      "data\\authors_rehydrated.jsonl\n",
      "data\\new_followees_of_authors_rehydrated.jsonl\n"
     ]
    }
   ],
   "source": [
    "\n",
    "twitter_author_profiles = defaultdict(dict)\n",
    "_twitter_author_ids_to_years = defaultdict(list)\n",
    "for year, authors in twitter_author_ids.items():\n",
    "    for author in authors:\n",
    "        _twitter_author_ids_to_years[author].append(year)\n",
    "\n",
    "fpaths = [os.path.join(DATA_PATH, fname) for fname in os.listdir(DATA_PATH) if ('author' in fname) and ('rehydrated' in fname) and fname.endswith('jsonl')]\n",
    "for fpath in fpaths:\n",
    "    print(fpath)\n",
    "    with open(fpath, encoding='utf8') as f:\n",
    "        for profile in map(json.loads, f):\n",
    "            id_ = profile['id']\n",
    "            for year in _twitter_author_ids_to_years[id_]:\n",
    "                twitter_author_profiles[year][id_] = profile"
   ],
   "metadata": {
    "collapsed": false,
    "ExecuteTime": {
     "start_time": "2023-05-12T19:19:44.575989Z",
     "end_time": "2023-05-12T19:19:44.685491Z"
    }
   }
  },
  {
   "cell_type": "code",
   "execution_count": 18,
   "outputs": [
    {
     "data": {
      "text/plain": "(5, 14)"
     },
     "execution_count": 18,
     "metadata": {},
     "output_type": "execute_result"
    }
   ],
   "source": [
    "len([i for i in twitter_author_profiles[2016] if i in _missing]),len([i for i in twitter_author_profiles[2020] if i in _missing])"
   ],
   "metadata": {
    "collapsed": false,
    "ExecuteTime": {
     "start_time": "2023-05-12T19:19:44.683491Z",
     "end_time": "2023-05-12T19:19:44.727254Z"
    }
   }
  },
  {
   "cell_type": "code",
   "execution_count": 19,
   "outputs": [
    {
     "data": {
      "text/plain": "(339, 649)"
     },
     "execution_count": 19,
     "metadata": {},
     "output_type": "execute_result"
    }
   ],
   "source": [
    "len(twitter_author_profiles[2016]),len(twitter_author_profiles[2020])"
   ],
   "metadata": {
    "collapsed": false,
    "ExecuteTime": {
     "start_time": "2023-05-12T19:19:44.699258Z",
     "end_time": "2023-05-12T19:19:44.736256Z"
    }
   }
  },
  {
   "cell_type": "code",
   "execution_count": 10,
   "outputs": [],
   "source": [
    "locations = pd.read_csv(os.path.join(DATA_PATH, 'locations_resolved.csv'), index_col=0)\n",
    "locations = {i['location_str']:i for i in locations.to_dict(orient='records')}"
   ],
   "metadata": {
    "collapsed": false,
    "ExecuteTime": {
     "start_time": "2023-05-12T20:46:35.829339Z",
     "end_time": "2023-05-12T20:46:53.266664Z"
    }
   }
  },
  {
   "cell_type": "code",
   "execution_count": 21,
   "outputs": [],
   "source": [
    "twitter_follower_locations = {year:\n",
    "    {user_id: locations[user_profile['location']] for user_id, user_profile in profiles.items() if\n",
    "     ('location' in user_profile) and (user_profile['location'] in locations)} for year, profiles in\n",
    "    twitter_follower_profiles.items()}\n"
   ],
   "metadata": {
    "collapsed": false,
    "ExecuteTime": {
     "start_time": "2023-05-12T19:20:00.702253Z",
     "end_time": "2023-05-12T19:20:12.316629Z"
    }
   }
  },
  {
   "cell_type": "code",
   "execution_count": 22,
   "outputs": [
    {
     "data": {
      "text/plain": "(2152390, 3520349)"
     },
     "execution_count": 22,
     "metadata": {},
     "output_type": "execute_result"
    }
   ],
   "source": [
    "len(twitter_follower_locations[2016]),len(twitter_follower_locations[2020])"
   ],
   "metadata": {
    "collapsed": false,
    "ExecuteTime": {
     "start_time": "2023-05-12T19:20:12.319629Z",
     "end_time": "2023-05-12T19:20:12.331630Z"
    }
   }
  },
  {
   "cell_type": "code",
   "execution_count": 23,
   "outputs": [
    {
     "data": {
      "text/plain": "(259, 437)"
     },
     "execution_count": 23,
     "metadata": {},
     "output_type": "execute_result"
    }
   ],
   "source": [
    "twitter_author_locations = {year:\n",
    "    {user_id: locations[user_profile['location']] for user_id, user_profile in profiles.items() if\n",
    "     ('location' in user_profile) and (user_profile['location'] in locations)} for year, profiles in\n",
    "    twitter_author_profiles.items()}\n",
    "len(twitter_author_locations[2016]),len(twitter_author_locations[2020])"
   ],
   "metadata": {
    "collapsed": false,
    "ExecuteTime": {
     "start_time": "2023-05-12T19:20:12.331630Z",
     "end_time": "2023-05-12T19:20:12.376632Z"
    }
   }
  },
  {
   "cell_type": "code",
   "execution_count": 24,
   "outputs": [
    {
     "name": "stdout",
     "output_type": "stream",
     "text": [
      "twitter_follower_ids.json\n",
      "twitter_follower_lists.json\n",
      "twitter_follower_locations.json\n",
      "twitter_follower_profiles.json\n",
      "twitter_author_ids.json\n",
      "twitter_author_profiles.json\n",
      "twitter_author_locations.json\n",
      "twitter_author_ids_and_trump_percent.json\n"
     ]
    }
   ],
   "source": [
    "twitter_follower_ids = {year:list(ids) for year, ids in twitter_follower_ids.items()}\n",
    "twitter_author_ids = {year:list(ids) for year, ids in twitter_author_ids.items()}\n",
    "out_dir = os.path.join(DATA_PATH, 'paper_data', 'meta')\n",
    "os.makedirs(out_dir, exist_ok=True)\n",
    "for obj, fname in [(twitter_follower_ids,'twitter_follower_ids.json'),\n",
    "                   (twitter_follower_lists,'twitter_follower_lists.json'),\n",
    "                   (twitter_follower_locations,'twitter_follower_locations.json'),\n",
    "                   (twitter_follower_profiles,'twitter_follower_profiles.json'),\n",
    "                   (twitter_author_ids,'twitter_author_ids.json'),\n",
    "                   (twitter_author_profiles,'twitter_author_profiles.json'),\n",
    "                   (twitter_author_locations,'twitter_author_locations.json'),\n",
    "                   (twitter_author_ids_and_trump_percent,'twitter_author_ids_and_trump_percent.json')\n",
    "                   ]:\n",
    "    print(fname)\n",
    "    with open(os.path.join(out_dir, fname), 'w+', encoding='utf8') as f:\n",
    "        json.dump(obj, f)"
   ],
   "metadata": {
    "collapsed": false,
    "ExecuteTime": {
     "start_time": "2023-05-12T19:20:12.350629Z",
     "end_time": "2023-05-12T19:27:25.030550Z"
    }
   }
  },
  {
   "cell_type": "code",
   "execution_count": 5,
   "outputs": [
    {
     "name": "stdout",
     "output_type": "stream",
     "text": [
      "data\\authors_rehydrated.jsonl\n",
      "data\\followers_rehydrated.jsonl\n",
      "data\\newer_followees_rehydrated.jsonl\n",
      "data\\newer_followers_rehydrated.jsonl\n",
      "data\\new_followees_of_authors_rehydrated.jsonl\n",
      "data\\new_followees_rehydrated.jsonl\n",
      "data\\new_followers_rehydrated.jsonl\n",
      "data\\repliers_rehydrated.jsonl\n"
     ]
    }
   ],
   "source": [
    "fpaths = [os.path.join(DATA_PATH, fname) for fname in os.listdir(DATA_PATH) if('rehydrated' in fname) and fname.endswith('jsonl') and ('complotto' not in fname)]\n",
    "__ids = set()\n",
    "for fpath in fpaths:\n",
    "    print(fpath)\n",
    "    with open(fpath, encoding='utf8') as f, open(os.path.join(DATA_PATH, 'profiles.jsonl'), 'a+', encoding='utf8') as outf:\n",
    "        for profile in map(json.loads, f):\n",
    "            id_ = profile['id']\n",
    "            if id_ not in __ids:\n",
    "                outf.write(json.dumps(profile, sort_keys=True)+'\\n')\n",
    "                __ids.add(id_)"
   ],
   "metadata": {
    "collapsed": false,
    "ExecuteTime": {
     "start_time": "2023-05-12T20:27:52.803130Z",
     "end_time": "2023-05-12T20:33:53.998731Z"
    }
   }
  },
  {
   "cell_type": "code",
   "execution_count": 7,
   "outputs": [
    {
     "name": "stdout",
     "output_type": "stream",
     "text": [
      "data\\follower_lists.jsonl\n",
      "data\\follower_lists_2016.jsonl\n",
      "data\\follower_lists_2020.jsonl\n",
      "data\\follower_lists_new.jsonl\n",
      "data\\follower_lists_newer.jsonl\n"
     ]
    }
   ],
   "source": [
    "fpaths = [os.path.join(DATA_PATH, fname) for fname in os.listdir(DATA_PATH) if ('follower_list' in fname) and fname.endswith('jsonl') and ('complotto' not in fname)]\n",
    "__ids = set()\n",
    "for fpath in fpaths:\n",
    "    print(fpath)\n",
    "    with open(fpath, encoding='utf8') as f, open(os.path.join(DATA_PATH, 'follower_lists.jsonl'), 'a+', encoding='utf8') as outf:\n",
    "        for l in f:\n",
    "            id_ = list(json.loads(l).keys())[0]\n",
    "            if id_ not in __ids:\n",
    "                outf.write(l)\n",
    "                __ids.add(id_)\n",
    "\n"
   ],
   "metadata": {
    "collapsed": false,
    "ExecuteTime": {
     "start_time": "2023-05-12T20:35:00.049508Z",
     "end_time": "2023-05-12T20:35:08.286536Z"
    }
   }
  },
  {
   "cell_type": "code",
   "execution_count": 8,
   "outputs": [
    {
     "name": "stdout",
     "output_type": "stream",
     "text": [
      "data\\followee_lists_2016.jsonl\n",
      "data\\followee_lists_2020.jsonl\n",
      "data\\followee_lists_new.jsonl\n",
      "data\\followee_lists_newer.jsonl\n",
      "data\\followee_lists_of_new_retweeters_repliers.jsonl\n",
      "data\\followee_lists_of_repliers.jsonl\n",
      "data\\followee_lists_of_repliers_2.jsonl\n",
      "data\\followee_lists_of_repliers_stephen.jsonl\n",
      "data\\followee_lists_of_retweeters_repliers.jsonl\n",
      "data\\followee_lists_overlapping.jsonl\n"
     ]
    }
   ],
   "source": [
    "fpaths = [os.path.join(DATA_PATH, fname) for fname in os.listdir(DATA_PATH) if ('followee_list' in fname) and fname.endswith('jsonl') and ('complotto' not in fname)]\n",
    "__ids = set()\n",
    "for fpath in fpaths:\n",
    "    print(fpath)\n",
    "    with open(fpath, encoding='utf8') as f, open(os.path.join(DATA_PATH, 'followee_lists.jsonl'), 'a+', encoding='utf8') as outf:\n",
    "        for l in f:\n",
    "            id_ = list(json.loads(l).keys())[0]\n",
    "            if id_ not in __ids:\n",
    "                outf.write(l)\n",
    "                __ids.add(id_)\n",
    "\n"
   ],
   "metadata": {
    "collapsed": false,
    "ExecuteTime": {
     "start_time": "2023-05-12T20:35:11.788834Z",
     "end_time": "2023-05-12T20:35:22.301239Z"
    }
   }
  },
  {
   "cell_type": "code",
   "execution_count": 15,
   "outputs": [],
   "source": [
    "with open(os.path.join(DATA_PATH, 'locations.json'), 'w+') as f:\n",
    "    json.dump(locations, f)"
   ],
   "metadata": {
    "collapsed": false,
    "ExecuteTime": {
     "start_time": "2023-05-12T20:52:14.702123Z",
     "end_time": "2023-05-12T20:53:14.146080Z"
    }
   }
  },
  {
   "cell_type": "code",
   "execution_count": 13,
   "outputs": [
    {
     "data": {
      "text/plain": "1800321"
     },
     "execution_count": 13,
     "metadata": {},
     "output_type": "execute_result"
    }
   ],
   "source": [
    "len(locations)"
   ],
   "metadata": {
    "collapsed": false,
    "ExecuteTime": {
     "start_time": "2023-05-12T20:50:17.770708Z",
     "end_time": "2023-05-12T20:50:17.787219Z"
    }
   }
  },
  {
   "cell_type": "code",
   "execution_count": null,
   "outputs": [],
   "source": [],
   "metadata": {
    "collapsed": false
   }
  }
 ],
 "metadata": {
  "kernelspec": {
   "display_name": "Python 3",
   "language": "python",
   "name": "python3"
  },
  "language_info": {
   "codemirror_mode": {
    "name": "ipython",
    "version": 2
   },
   "file_extension": ".py",
   "mimetype": "text/x-python",
   "name": "python",
   "nbconvert_exporter": "python",
   "pygments_lexer": "ipython2",
   "version": "2.7.6"
  }
 },
 "nbformat": 4,
 "nbformat_minor": 0
}
