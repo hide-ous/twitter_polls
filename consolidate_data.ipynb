{
 "cells": [
  {
   "cell_type": "code",
   "execution_count": 2,
   "metadata": {
    "collapsed": true,
    "ExecuteTime": {
     "start_time": "2023-04-14T16:57:52.006344Z",
     "end_time": "2023-04-14T16:57:52.235512Z"
    }
   },
   "outputs": [],
   "source": [
    "import pandas as pd\n",
    "import os\n",
    "import json\n",
    "\n",
    "from data_utils import DATA_PATH, YEARS"
   ]
  },
  {
   "cell_type": "code",
   "execution_count": 8,
   "outputs": [],
   "source": [
    "for year in YEARS:\n",
    "    poll_fpath = os.path.join(DATA_PATH, f'polls-{year}.json')\n",
    "    with open(poll_fpath) as f:\n",
    "        polls = json.load(f)\n",
    "    for poll in polls:\n",
    "        poll['meta']['year'] = year\n",
    "        poll['meta']['query'] = 'vote trump biden'\n"
   ],
   "metadata": {
    "collapsed": false,
    "ExecuteTime": {
     "start_time": "2023-04-14T17:04:01.031654Z",
     "end_time": "2023-04-14T17:04:01.081333Z"
    }
   }
  },
  {
   "cell_type": "code",
   "execution_count": 7,
   "outputs": [
    {
     "data": {
      "text/plain": "{'type': 'twitter',\n 'trump_raw': 50,\n 'biden_raw': 9,\n 'end_datetime': '12/03/2020',\n 'num_votes': 59,\n 'trump_perc': 84.7457627118644,\n 'biden_perc': 15.254237288135593,\n 'meta': {'duration_minutes': 10080,\n  'id': '1331794489137041412',\n  'options': [{'position': 1, 'label': 'For Biden', 'votes': 9},\n   {'position': 2, 'label': 'Against Trump', 'votes': 50}],\n  'text': 'If you voted the Democrat ticket for president, was it a vote for Biden or against Trump?',\n  'author_id': '1292939157375987712',\n  'tweet_id': '1331794490382819331',\n  'author_name': 'KalamityJohn',\n  'year': 2020}}"
     },
     "execution_count": 7,
     "metadata": {},
     "output_type": "execute_result"
    }
   ],
   "source": [
    "os.path.join(DATA_PATH, f'polls-{year}.json')\n"
   ],
   "metadata": {
    "collapsed": false,
    "ExecuteTime": {
     "start_time": "2023-04-14T17:02:05.916764Z",
     "end_time": "2023-04-14T17:02:05.925958Z"
    }
   }
  },
  {
   "cell_type": "code",
   "execution_count": null,
   "outputs": [],
   "source": [],
   "metadata": {
    "collapsed": false
   }
  }
 ],
 "metadata": {
  "kernelspec": {
   "display_name": "Python 3",
   "language": "python",
   "name": "python3"
  },
  "language_info": {
   "codemirror_mode": {
    "name": "ipython",
    "version": 2
   },
   "file_extension": ".py",
   "mimetype": "text/x-python",
   "name": "python",
   "nbconvert_exporter": "python",
   "pygments_lexer": "ipython2",
   "version": "2.7.6"
  }
 },
 "nbformat": 4,
 "nbformat_minor": 0
}
