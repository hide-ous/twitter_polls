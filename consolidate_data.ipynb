{
 "cells": [
  {
   "cell_type": "code",
   "execution_count": 19,
   "metadata": {
    "collapsed": true,
    "ExecuteTime": {
     "start_time": "2023-05-04T12:28:27.993056Z",
     "end_time": "2023-05-04T12:28:28.004560Z"
    }
   },
   "outputs": [],
   "source": [
    "import pandas as pd\n",
    "import os\n",
    "import json\n",
    "from collections import defaultdict\n",
    "\n",
    "\n",
    "from data_utils import DATA_PATH, YEARS"
   ]
  },
  {
   "cell_type": "code",
   "execution_count": 2,
   "outputs": [],
   "source": [
    "polls= dict()\n",
    "for year in YEARS:\n",
    "    poll_fpath = os.path.join(DATA_PATH, 'paper_data','polls', f'polls-{year}-query1-2options-clean.json')\n",
    "    with open(poll_fpath) as f:\n",
    "        polls[year] = json.load(f)"
   ],
   "metadata": {
    "collapsed": false,
    "ExecuteTime": {
     "start_time": "2023-05-04T12:07:27.083727Z",
     "end_time": "2023-05-04T12:07:27.142408Z"
    }
   }
  },
  {
   "cell_type": "code",
   "execution_count": 3,
   "outputs": [],
   "source": [
    "twitter_polls = {year:list(filter(lambda poll:poll['type']=='twitter', polls_)) for year, polls_ in polls.items()}"
   ],
   "metadata": {
    "collapsed": false,
    "ExecuteTime": {
     "start_time": "2023-05-04T12:07:27.130124Z",
     "end_time": "2023-05-04T12:07:27.147914Z"
    }
   }
  },
  {
   "cell_type": "code",
   "execution_count": 4,
   "outputs": [
    {
     "data": {
      "text/plain": "(401, 993)"
     },
     "execution_count": 4,
     "metadata": {},
     "output_type": "execute_result"
    }
   ],
   "source": [
    "len(twitter_polls[2016]), len(twitter_polls[2020])"
   ],
   "metadata": {
    "collapsed": false,
    "ExecuteTime": {
     "start_time": "2023-05-04T12:07:27.146408Z",
     "end_time": "2023-05-04T12:07:27.161216Z"
    }
   }
  },
  {
   "cell_type": "code",
   "execution_count": 5,
   "outputs": [],
   "source": [
    "twitter_author_ids = {year:list(poll['meta']['author_id'] for poll in polls_) for year, polls_ in twitter_polls.items()}"
   ],
   "metadata": {
    "collapsed": false,
    "ExecuteTime": {
     "start_time": "2023-05-04T12:07:27.162215Z",
     "end_time": "2023-05-04T12:07:27.202810Z"
    }
   }
  },
  {
   "cell_type": "code",
   "execution_count": 6,
   "outputs": [
    {
     "name": "stdout",
     "output_type": "stream",
     "text": [
      "data\\follower_lists_2016.jsonl\n",
      "data\\follower_lists_2020.jsonl\n",
      "data\\follower_lists_new.jsonl\n",
      "data\\follower_lists_newer.jsonl\n"
     ]
    }
   ],
   "source": [
    "twitter_follower_lists = dict()\n",
    "\n",
    "fpaths = [os.path.join(DATA_PATH, fname) for fname in os.listdir(DATA_PATH) if ('follower_list' in fname) and fname.endswith('jsonl')]\n",
    "_follower_lists = dict()\n",
    "for fpath in fpaths:\n",
    "    print(fpath)\n",
    "    with open(fpath, encoding='utf8') as f:\n",
    "        for l in f:\n",
    "            _follower_lists.update(json.loads(l))\n",
    "_twitter_missing_follower_lists=dict()\n",
    "for year, authors in twitter_author_ids.items():\n",
    "    twitter_follower_lists[year] = dict()\n",
    "    _twitter_missing_follower_lists[year] = set()\n",
    "    for author in authors:\n",
    "        if author not in _follower_lists:\n",
    "            _twitter_missing_follower_lists[year].add(author)\n",
    "        else:\n",
    "            twitter_follower_lists[year][author] = [str(id_) for id_ in _follower_lists[author]]"
   ],
   "metadata": {
    "collapsed": false,
    "ExecuteTime": {
     "start_time": "2023-05-04T12:07:27.175930Z",
     "end_time": "2023-05-04T12:07:32.675783Z"
    }
   }
  },
  {
   "cell_type": "code",
   "execution_count": 7,
   "outputs": [
    {
     "data": {
      "text/plain": "(334, 636, 14, 46)"
     },
     "execution_count": 7,
     "metadata": {},
     "output_type": "execute_result"
    }
   ],
   "source": [
    "len(twitter_follower_lists[2016]), len(twitter_follower_lists[2020]), len(_twitter_missing_follower_lists[2016]), len(_twitter_missing_follower_lists[2020])"
   ],
   "metadata": {
    "collapsed": false,
    "ExecuteTime": {
     "start_time": "2023-05-04T12:07:32.676784Z",
     "end_time": "2023-05-04T12:07:32.690987Z"
    }
   }
  },
  {
   "cell_type": "code",
   "execution_count": 8,
   "outputs": [],
   "source": [
    "twitter_follower_ids = {year:{follower for follower in followers} for year, follow_lists in twitter_follower_lists.items() for followers in follow_lists.values()}"
   ],
   "metadata": {
    "collapsed": false,
    "ExecuteTime": {
     "start_time": "2023-05-04T12:07:32.690987Z",
     "end_time": "2023-05-04T12:07:34.228122Z"
    }
   }
  },
  {
   "cell_type": "code",
   "execution_count": 9,
   "outputs": [
    {
     "data": {
      "text/plain": "(1400, 11283)"
     },
     "execution_count": 9,
     "metadata": {},
     "output_type": "execute_result"
    }
   ],
   "source": [
    "len(twitter_follower_ids[2016]), len(twitter_follower_ids[2020])"
   ],
   "metadata": {
    "collapsed": false,
    "ExecuteTime": {
     "start_time": "2023-05-04T12:07:34.228122Z",
     "end_time": "2023-05-04T12:07:34.244660Z"
    }
   }
  },
  {
   "cell_type": "code",
   "execution_count": 10,
   "outputs": [
    {
     "name": "stdout",
     "output_type": "stream",
     "text": [
      "data\\authors_missing.jsonl\n",
      "data\\author_profiles_missing.jsonl\n",
      "data\\complotto_missing.jsonl\n",
      "data\\followers_missing.jsonl\n",
      "data\\newer_followees_missing.jsonl\n",
      "data\\newer_followers_missing.jsonl\n",
      "data\\new_authors_missing.jsonl\n",
      "data\\new_followees_missing.jsonl\n",
      "data\\new_followees_of_authors_missing.jsonl\n",
      "data\\new_followers_missing.jsonl\n",
      "data\\repliers_missing.jsonl\n"
     ]
    }
   ],
   "source": [
    "fpaths = [os.path.join(DATA_PATH, fname) for fname in os.listdir(DATA_PATH) if ('missing' in fname) and fname.endswith('jsonl')]\n",
    "_missing = set()\n",
    "for fpath in fpaths:\n",
    "    print(fpath)\n",
    "    with open(fpath, encoding='utf8') as f:\n",
    "        for message in  map(json.loads, f):\n",
    "            _missing.add(message['value'] if 'value' in message else list(message.keys())[0])"
   ],
   "metadata": {
    "collapsed": false,
    "ExecuteTime": {
     "start_time": "2023-05-04T12:07:34.246656Z",
     "end_time": "2023-05-04T12:07:34.306199Z"
    }
   }
  },
  {
   "cell_type": "code",
   "execution_count": 11,
   "outputs": [
    {
     "data": {
      "text/plain": "17188"
     },
     "execution_count": 11,
     "metadata": {},
     "output_type": "execute_result"
    }
   ],
   "source": [
    "len(_missing)"
   ],
   "metadata": {
    "collapsed": false,
    "ExecuteTime": {
     "start_time": "2023-05-04T12:07:34.307199Z",
     "end_time": "2023-05-04T12:07:34.350878Z"
    }
   }
  },
  {
   "cell_type": "code",
   "execution_count": 12,
   "outputs": [
    {
     "data": {
      "text/plain": "(0, 0)"
     },
     "execution_count": 12,
     "metadata": {},
     "output_type": "execute_result"
    }
   ],
   "source": [
    "len([i for i in _twitter_missing_follower_lists[2016] if i not in _missing]),len([i for i in _twitter_missing_follower_lists[2020] if i not in _missing])"
   ],
   "metadata": {
    "collapsed": false,
    "ExecuteTime": {
     "start_time": "2023-05-04T12:07:34.323075Z",
     "end_time": "2023-05-04T12:07:34.372923Z"
    }
   }
  },
  {
   "cell_type": "code",
   "execution_count": 13,
   "outputs": [
    {
     "name": "stdout",
     "output_type": "stream",
     "text": [
      "data\\followers_rehydrated.jsonl\n",
      "data\\newer_followers_rehydrated.jsonl\n",
      "data\\new_followers_rehydrated.jsonl\n"
     ]
    }
   ],
   "source": [
    "\n",
    "twitter_follower_profiles = defaultdict(dict)\n",
    "_twitter_follower_ids_to_years = defaultdict(list)\n",
    "for year, followers in twitter_follower_ids.items():\n",
    "    for follower in followers:\n",
    "        _twitter_follower_ids_to_years[follower].append(year)\n",
    "\n",
    "fpaths = [os.path.join(DATA_PATH, fname) for fname in os.listdir(DATA_PATH) if ('follower' in fname) and ('rehydrated' in fname) and fname.endswith('jsonl')]\n",
    "for fpath in fpaths:\n",
    "    print(fpath)\n",
    "    with open(fpath, encoding='utf8') as f:\n",
    "        for profile in map(json.loads, f):\n",
    "            id_ = profile['id']\n",
    "            for year in _twitter_follower_ids_to_years[id_]:\n",
    "                twitter_follower_profiles[year][id_] = profile"
   ],
   "metadata": {
    "collapsed": false,
    "ExecuteTime": {
     "start_time": "2023-05-04T12:07:34.414078Z",
     "end_time": "2023-05-04T12:10:05.199021Z"
    }
   }
  },
  {
   "cell_type": "code",
   "execution_count": 14,
   "outputs": [
    {
     "data": {
      "text/plain": "(0, 11)"
     },
     "execution_count": 14,
     "metadata": {},
     "output_type": "execute_result"
    }
   ],
   "source": [
    "len([i for i in twitter_follower_profiles[2016] if i in _missing]),len([i for i in twitter_follower_profiles[2020] if i in _missing])"
   ],
   "metadata": {
    "collapsed": false,
    "ExecuteTime": {
     "start_time": "2023-05-04T12:10:05.200022Z",
     "end_time": "2023-05-04T12:10:05.215342Z"
    }
   }
  },
  {
   "cell_type": "code",
   "execution_count": 15,
   "outputs": [
    {
     "data": {
      "text/plain": "(1400, 11283)"
     },
     "execution_count": 15,
     "metadata": {},
     "output_type": "execute_result"
    }
   ],
   "source": [
    "len(twitter_follower_profiles[2016]),len(twitter_follower_profiles[2020])"
   ],
   "metadata": {
    "collapsed": false,
    "ExecuteTime": {
     "start_time": "2023-05-04T12:10:05.216342Z",
     "end_time": "2023-05-04T12:10:05.260963Z"
    }
   }
  },
  {
   "cell_type": "code",
   "execution_count": 16,
   "outputs": [
    {
     "name": "stdout",
     "output_type": "stream",
     "text": [
      "data\\authors_rehydrated.jsonl\n",
      "data\\new_followees_of_authors_rehydrated.jsonl\n"
     ]
    }
   ],
   "source": [
    "\n",
    "twitter_author_profiles = defaultdict(dict)\n",
    "_twitter_author_ids_to_years = defaultdict(list)\n",
    "for year, authors in twitter_author_ids.items():\n",
    "    for author in authors:\n",
    "        _twitter_author_ids_to_years[author].append(year)\n",
    "\n",
    "fpaths = [os.path.join(DATA_PATH, fname) for fname in os.listdir(DATA_PATH) if ('author' in fname) and ('rehydrated' in fname) and fname.endswith('jsonl')]\n",
    "for fpath in fpaths:\n",
    "    print(fpath)\n",
    "    with open(fpath, encoding='utf8') as f:\n",
    "        for profile in map(json.loads, f):\n",
    "            id_ = profile['id']\n",
    "            for year in _twitter_author_ids_to_years[id_]:\n",
    "                twitter_author_profiles[year][id_] = profile"
   ],
   "metadata": {
    "collapsed": false,
    "ExecuteTime": {
     "start_time": "2023-05-04T12:10:05.234079Z",
     "end_time": "2023-05-04T12:10:05.342108Z"
    }
   }
  },
  {
   "cell_type": "code",
   "execution_count": 17,
   "outputs": [
    {
     "data": {
      "text/plain": "(5, 14)"
     },
     "execution_count": 17,
     "metadata": {},
     "output_type": "execute_result"
    }
   ],
   "source": [
    "len([i for i in twitter_author_profiles[2016] if i in _missing]),len([i for i in twitter_author_profiles[2020] if i in _missing])"
   ],
   "metadata": {
    "collapsed": false,
    "ExecuteTime": {
     "start_time": "2023-05-04T12:10:05.344117Z",
     "end_time": "2023-05-04T12:10:05.385898Z"
    }
   }
  },
  {
   "cell_type": "code",
   "execution_count": 18,
   "outputs": [
    {
     "data": {
      "text/plain": "(339, 649)"
     },
     "execution_count": 18,
     "metadata": {},
     "output_type": "execute_result"
    }
   ],
   "source": [
    "len(twitter_author_profiles[2016]),len(twitter_author_profiles[2020])"
   ],
   "metadata": {
    "collapsed": false,
    "ExecuteTime": {
     "start_time": "2023-05-04T12:10:05.358627Z",
     "end_time": "2023-05-04T12:10:05.391625Z"
    }
   }
  },
  {
   "cell_type": "code",
   "execution_count": 32,
   "outputs": [],
   "source": [
    "locations = pd.read_csv(os.path.join(DATA_PATH, 'locations_resolved.csv'), index_col=0)\n",
    "locations = {i['location_str']:i for i in locations.to_dict(orient='records')}"
   ],
   "metadata": {
    "collapsed": false,
    "ExecuteTime": {
     "start_time": "2023-05-04T12:33:41.789741Z",
     "end_time": "2023-05-04T12:33:57.891064Z"
    }
   }
  },
  {
   "cell_type": "code",
   "execution_count": 34,
   "outputs": [],
   "source": [
    "twitter_follower_locations = {year:\n",
    "    {user_id: locations[user_profile['location']] for user_id, user_profile in profiles.items() if\n",
    "     ('location' in user_profile) and (user_profile['location'] in locations)} for year, profiles in\n",
    "    twitter_follower_profiles.items()}\n"
   ],
   "metadata": {
    "collapsed": false,
    "ExecuteTime": {
     "start_time": "2023-05-04T12:44:16.694843Z",
     "end_time": "2023-05-04T12:44:16.705397Z"
    }
   }
  },
  {
   "cell_type": "code",
   "execution_count": 35,
   "outputs": [
    {
     "data": {
      "text/plain": "(788, 8046)"
     },
     "execution_count": 35,
     "metadata": {},
     "output_type": "execute_result"
    }
   ],
   "source": [
    "len(twitter_follower_locations[2016]),len(twitter_follower_locations[2020])"
   ],
   "metadata": {
    "collapsed": false,
    "ExecuteTime": {
     "start_time": "2023-05-04T12:44:32.298055Z",
     "end_time": "2023-05-04T12:44:32.317075Z"
    }
   }
  },
  {
   "cell_type": "code",
   "execution_count": 40,
   "outputs": [
    {
     "data": {
      "text/plain": "(259, 437)"
     },
     "execution_count": 40,
     "metadata": {},
     "output_type": "execute_result"
    }
   ],
   "source": [
    "twitter_author_locations = {year:\n",
    "    {user_id: locations[user_profile['location']] for user_id, user_profile in profiles.items() if\n",
    "     ('location' in user_profile) and (user_profile['location'] in locations)} for year, profiles in\n",
    "    twitter_author_profiles.items()}\n",
    "len(twitter_author_locations[2016]),len(twitter_author_locations[2020])"
   ],
   "metadata": {
    "collapsed": false,
    "ExecuteTime": {
     "start_time": "2023-05-04T13:13:57.604497Z",
     "end_time": "2023-05-04T13:13:57.622654Z"
    }
   }
  },
  {
   "cell_type": "code",
   "execution_count": 39,
   "outputs": [
    {
     "name": "stdout",
     "output_type": "stream",
     "text": [
      "twitter_follower_ids.json\n",
      "twitter_follower_lists.json\n",
      "twitter_follower_locations.json\n",
      "twitter_follower_profiles.json\n",
      "twitter_author_ids.json\n",
      "twitter_author_profiles.json\n"
     ]
    }
   ],
   "source": [
    "twitter_follower_ids = {year:list(ids) for year, ids in twitter_follower_ids.items()}\n",
    "twitter_author_ids = {year:list(ids) for year, ids in twitter_author_ids.items()}\n",
    "out_dir = os.path.join(DATA_PATH, 'paper_data', 'meta')\n",
    "os.makedirs(out_dir, exist_ok=True)\n",
    "for obj, fname in [(twitter_follower_ids,'twitter_follower_ids.json'),\n",
    "                   (twitter_follower_lists,'twitter_follower_lists.json'),\n",
    "                   (twitter_follower_locations,'twitter_follower_locations.json'),\n",
    "                   (twitter_follower_profiles,'twitter_follower_profiles.json'),\n",
    "                   (twitter_author_ids,'twitter_author_ids.json'),\n",
    "                   (twitter_author_profiles,'twitter_author_profiles.json'),\n",
    "                   (twitter_author_locations,'twitter_author_locations.json'),\n",
    "                   ]:\n",
    "    print(fname)\n",
    "    with open(os.path.join(out_dir, fname), 'w+', encoding='utf8') as f:\n",
    "        json.dump(obj, f)"
   ],
   "metadata": {
    "collapsed": false,
    "ExecuteTime": {
     "start_time": "2023-05-04T13:10:18.807015Z",
     "end_time": "2023-05-04T13:10:24.503776Z"
    }
   }
  },
  {
   "cell_type": "code",
   "execution_count": 41,
   "outputs": [],
   "source": [
    "with open(os.path.join(out_dir, 'twitter_author_locations.json'), 'w+', encoding='utf8') as f:\n",
    "        json.dump(twitter_author_locations, f)"
   ],
   "metadata": {
    "collapsed": false,
    "ExecuteTime": {
     "start_time": "2023-05-04T13:14:56.771304Z",
     "end_time": "2023-05-04T13:14:56.808869Z"
    }
   }
  },
  {
   "cell_type": "code",
   "execution_count": null,
   "outputs": [],
   "source": [],
   "metadata": {
    "collapsed": false
   }
  }
 ],
 "metadata": {
  "kernelspec": {
   "display_name": "Python 3",
   "language": "python",
   "name": "python3"
  },
  "language_info": {
   "codemirror_mode": {
    "name": "ipython",
    "version": 2
   },
   "file_extension": ".py",
   "mimetype": "text/x-python",
   "name": "python",
   "nbconvert_exporter": "python",
   "pygments_lexer": "ipython2",
   "version": "2.7.6"
  }
 },
 "nbformat": 4,
 "nbformat_minor": 0
}
