{
 "cells": [
  {
   "cell_type": "code",
   "execution_count": 1,
   "metadata": {
    "collapsed": true
   },
   "outputs": [
    {
     "data": {
      "text/plain": "True"
     },
     "execution_count": 1,
     "metadata": {},
     "output_type": "execute_result"
    }
   ],
   "source": [
    "import json\n",
    "import time\n",
    "\n",
    "from dotenv import load_dotenv\n",
    "import os\n",
    "\n",
    "from data_utils import get_followers_from_lists, DATA_PATH, get_scaraped_profiles, get_retweeters_repliers, get_author_ids, get_follow_from_lists\n",
    "from twitter_utils import get_client, get_profiles\n",
    "\n",
    "load_dotenv()  # take environment variables from .env."
   ]
  },
  {
   "cell_type": "code",
   "execution_count": 2,
   "outputs": [],
   "source": [
    "client = get_client()"
   ],
   "metadata": {
    "collapsed": false
   }
  },
  {
   "cell_type": "code",
   "execution_count": 4,
   "outputs": [],
   "source": [
    "ids = get_followers_from_lists()"
   ],
   "metadata": {
    "collapsed": false
   }
  },
  {
   "cell_type": "code",
   "execution_count": 5,
   "outputs": [
    {
     "data": {
      "text/plain": "12439182"
     },
     "execution_count": 5,
     "metadata": {},
     "output_type": "execute_result"
    }
   ],
   "source": [
    "len(ids)"
   ],
   "metadata": {
    "collapsed": false
   }
  },
  {
   "cell_type": "code",
   "execution_count": 6,
   "outputs": [
    {
     "name": "stdout",
     "output_type": "stream",
     "text": [
      "12439182 users were already scraped\n",
      "0 users left to scrape\n"
     ]
    }
   ],
   "source": [
    "out_path = os.path.join(DATA_PATH, 'followers_rehydrated.jsonl')\n",
    "err_path = os.path.join(DATA_PATH, 'followers_missing.jsonl')\n",
    "already_scraped = get_scaraped_profiles(out_path, err_path)\n",
    "print(f\"{len(already_scraped)} users were already scraped\")\n",
    "\n",
    "ids_ = [id_ for id_ in ids if id_ not in already_scraped]\n",
    "print(f\"{len(ids_)} users left to scrape\")"
   ],
   "metadata": {
    "collapsed": false
   }
  },
  {
   "cell_type": "code",
   "execution_count": 45,
   "outputs": [
    {
     "name": "stderr",
     "output_type": "stream",
     "text": [
      "batch: 100%|██████████| 6/6 [00:02<00:00,  2.58it/s]\n"
     ]
    }
   ],
   "source": [
    "errors = get_profiles(ids=ids_, client=client, out_path=out_path, error_path=err_path)"
   ],
   "metadata": {
    "collapsed": false
   }
  },
  {
   "cell_type": "code",
   "execution_count": 46,
   "outputs": [
    {
     "name": "stdout",
     "output_type": "stream",
     "text": [
      "0\n"
     ]
    }
   ],
   "source": [
    "print(len(errors))"
   ],
   "metadata": {
    "collapsed": false
   }
  },
  {
   "cell_type": "code",
   "execution_count": 33,
   "outputs": [
    {
     "name": "stderr",
     "output_type": "stream",
     "text": [
      "batch: 100%|██████████| 2/2 [00:00<00:00,  3.16it/s]\n"
     ]
    }
   ],
   "source": [
    "other_errors = get_profiles(ids=errors, client=client, out_path=out_path, error_path=err_path)"
   ],
   "metadata": {
    "collapsed": false
   }
  },
  {
   "cell_type": "code",
   "execution_count": null,
   "outputs": [],
   "source": [],
   "metadata": {
    "collapsed": false
   }
  },
  {
   "cell_type": "code",
   "execution_count": 4,
   "outputs": [
    {
     "data": {
      "text/plain": "8155"
     },
     "execution_count": 4,
     "metadata": {},
     "output_type": "execute_result"
    }
   ],
   "source": [
    "repliers = get_retweeters_repliers()\n",
    "len(repliers)"
   ],
   "metadata": {
    "collapsed": false
   }
  },
  {
   "cell_type": "code",
   "execution_count": 6,
   "outputs": [
    {
     "name": "stdout",
     "output_type": "stream",
     "text": [
      "8157 users were already scraped\n",
      "8155 users left to scrape\n"
     ]
    },
    {
     "name": "stderr",
     "output_type": "stream",
     "text": [
      "batch: 100%|██████████| 82/82 [00:31<00:00,  2.61it/s]\n"
     ]
    }
   ],
   "source": [
    "out_path = os.path.join(DATA_PATH, 'repliers_rehydrated.jsonl')\n",
    "err_path = os.path.join(DATA_PATH, 'repliers_missing.jsonl')\n",
    "\n",
    "already_scraped = get_scaraped_profiles(out_path, err_path)\n",
    "print(f\"{len(already_scraped)} users were already scraped\")\n",
    "\n",
    "repliers = [id_ for id_ in repliers if id_ not in already_scraped]\n",
    "print(f\"{len(repliers)} users left to scrape\")\n",
    "\n",
    "follower_errors = get_profiles(ids=repliers, client=client, out_path=out_path, error_path=err_path)"
   ],
   "metadata": {
    "collapsed": false
   }
  },
  {
   "cell_type": "code",
   "execution_count": 7,
   "outputs": [
    {
     "data": {
      "text/plain": "0"
     },
     "execution_count": 7,
     "metadata": {},
     "output_type": "execute_result"
    }
   ],
   "source": [
    "len(follower_errors)"
   ],
   "metadata": {
    "collapsed": false
   }
  },
  {
   "cell_type": "code",
   "execution_count": 15,
   "outputs": [
    {
     "name": "stdout",
     "output_type": "stream",
     "text": [
      "1024\n"
     ]
    }
   ],
   "source": [
    "author_ids = set(get_author_ids(2016))\n",
    "author_ids.update(get_author_ids(2020))\n",
    "author_ids = list(sorted(author_ids))\n",
    "print(len(author_ids))"
   ],
   "metadata": {
    "collapsed": false
   }
  },
  {
   "cell_type": "code",
   "execution_count": 16,
   "outputs": [
    {
     "name": "stderr",
     "output_type": "stream",
     "text": [
      "batch: 100%|██████████| 11/11 [00:04<00:00,  2.51it/s]\n"
     ]
    }
   ],
   "source": [
    "out_path = os.path.join(DATA_PATH, 'authors_rehydrated.jsonl')\n",
    "err_path = os.path.join(DATA_PATH, 'author_profiles_missing.jsonl')\n",
    "\n",
    "already_scraped = get_scaraped_profiles(out_path, err_path)\n",
    "print(f\"{len(already_scraped)} users were already scraped\")\n",
    "\n",
    "author_ids = [id_ for id_ in author_ids if id_ not in already_scraped]\n",
    "print(f\"{len(ids_)} users left to scrape\")\n",
    "\n",
    "author_errors = get_profiles(ids=author_ids, client=client, out_path=out_path, error_path=err_path)"
   ],
   "metadata": {
    "collapsed": false
   }
  },
  {
   "cell_type": "code",
   "execution_count": 17,
   "outputs": [
    {
     "data": {
      "text/plain": "0"
     },
     "execution_count": 17,
     "metadata": {},
     "output_type": "execute_result"
    }
   ],
   "source": [
    "len(author_errors)"
   ],
   "metadata": {
    "collapsed": false
   }
  },
  {
   "cell_type": "code",
   "execution_count": null,
   "outputs": [],
   "source": [
    "'follower_lists_new.jsonl'\n",
    "os.path.join(DATA_PATH, )"
   ],
   "metadata": {
    "collapsed": false
   }
  },
  {
   "cell_type": "code",
   "execution_count": 5,
   "outputs": [
    {
     "name": "stdout",
     "output_type": "stream",
     "text": [
      "0 users were already scraped\n",
      "3759136 users left to scrape\n"
     ]
    },
    {
     "name": "stderr",
     "output_type": "stream",
     "text": [
      "batch:   1%|          | 300/37592 [01:57<3:56:43,  2.63it/s]Rate limit exceeded. Sleeping for 784 seconds.\n",
      "batch:   2%|▏         | 600/37592 [16:45<3:40:44,  2.79it/s]    Rate limit exceeded. Sleeping for 797 seconds.\n",
      "batch:   2%|▏         | 900/37592 [31:38<3:07:40,  3.26it/s]    Rate limit exceeded. Sleeping for 806 seconds.\n",
      "batch:   3%|▎         | 1200/37592 [46:42<4:08:36,  2.44it/s]   Rate limit exceeded. Sleeping for 803 seconds.\n",
      "batch:   4%|▍         | 1500/37592 [1:01:37<2:57:11,  3.39it/s]    Rate limit exceeded. Sleeping for 808 seconds.\n",
      "batch:   5%|▍         | 1800/37592 [1:16:39<3:05:43,  3.21it/s]    Rate limit exceeded. Sleeping for 808 seconds.\n",
      "batch:   6%|▌         | 2100/37592 [1:31:38<3:04:12,  3.21it/s]    Rate limit exceeded. Sleeping for 809 seconds.\n",
      "batch:   6%|▋         | 2400/37592 [1:46:42<3:10:24,  3.08it/s]    Rate limit exceeded. Sleeping for 807 seconds.\n",
      "batch:   7%|▋         | 2700/37592 [2:01:47<3:11:28,  3.04it/s]    Rate limit exceeded. Sleeping for 802 seconds.\n",
      "batch:   8%|▊         | 3000/37592 [2:16:48<2:59:45,  3.21it/s]    Rate limit exceeded. Sleeping for 803 seconds.\n",
      "batch:   9%|▉         | 3300/37592 [2:31:45<3:12:42,  2.97it/s]    Rate limit exceeded. Sleeping for 807 seconds.\n",
      "batch:  10%|▉         | 3600/37592 [2:46:46<3:06:05,  3.04it/s]    Rate limit exceeded. Sleeping for 806 seconds.\n",
      "batch:  10%|█         | 3900/37592 [3:01:43<2:58:34,  3.14it/s]    Rate limit exceeded. Sleeping for 810 seconds.\n",
      "batch:  11%|█         | 4200/37592 [3:16:47<2:45:43,  3.36it/s]    Rate limit exceeded. Sleeping for 807 seconds.\n",
      "batch:  12%|█▏        | 4500/37592 [3:31:44<2:36:48,  3.52it/s]    Rate limit exceeded. Sleeping for 812 seconds.\n",
      "batch:  13%|█▎        | 4800/37592 [3:46:46<2:44:45,  3.32it/s]    Rate limit exceeded. Sleeping for 810 seconds.\n",
      "batch:  14%|█▎        | 5100/37592 [4:01:46<2:37:18,  3.44it/s]    Rate limit exceeded. Sleeping for 812 seconds.\n",
      "batch:  14%|█▍        | 5400/37592 [4:16:45<2:52:09,  3.12it/s]    Rate limit exceeded. Sleeping for 814 seconds.\n",
      "batch:  15%|█▌        | 5700/37592 [4:31:45<2:33:31,  3.46it/s]    Rate limit exceeded. Sleeping for 814 seconds.\n",
      "batch:  16%|█▌        | 6000/37592 [4:46:48<2:27:42,  3.56it/s]    Rate limit exceeded. Sleeping for 813 seconds.\n",
      "batch:  17%|█▋        | 6300/37592 [5:01:46<2:27:41,  3.53it/s]    Rate limit exceeded. Sleeping for 816 seconds.\n",
      "batch:  18%|█▊        | 6600/37592 [5:16:46<2:21:36,  3.65it/s]    Rate limit exceeded. Sleeping for 818 seconds.\n",
      "batch:  18%|█▊        | 6900/37592 [5:31:50<2:22:31,  3.59it/s]    Rate limit exceeded. Sleeping for 816 seconds.\n",
      "batch:  19%|█▉        | 7200/37592 [5:46:52<2:23:07,  3.54it/s]    Rate limit exceeded. Sleeping for 816 seconds.\n",
      "batch:  20%|█▉        | 7500/37592 [6:01:51<2:16:56,  3.66it/s]    Rate limit exceeded. Sleeping for 818 seconds.\n",
      "batch:  21%|██        | 7800/37592 [6:16:51<2:10:19,  3.81it/s]    Rate limit exceeded. Sleeping for 820 seconds.\n",
      "batch:  22%|██▏       | 8100/37592 [6:31:53<2:10:30,  3.77it/s]    Rate limit exceeded. Sleeping for 818 seconds.\n",
      "batch:  22%|██▏       | 8400/37592 [6:46:55<2:09:01,  3.77it/s]    Rate limit exceeded. Sleeping for 818 seconds.\n",
      "batch:  23%|██▎       | 8700/37592 [7:01:56<2:10:21,  3.69it/s]    Rate limit exceeded. Sleeping for 818 seconds.\n",
      "batch:  24%|██▍       | 9000/37592 [7:16:57<2:03:29,  3.86it/s]    Rate limit exceeded. Sleeping for 817 seconds.\n",
      "batch:  25%|██▍       | 9300/37592 [7:31:56<2:08:49,  3.66it/s]    Rate limit exceeded. Sleeping for 820 seconds.\n",
      "batch:  26%|██▌       | 9600/37592 [7:47:00<2:09:39,  3.60it/s]    Rate limit exceeded. Sleeping for 817 seconds.\n",
      "batch:  26%|██▋       | 9900/37592 [8:01:58<2:00:52,  3.82it/s]    Rate limit exceeded. Sleeping for 820 seconds.\n",
      "batch:  27%|██▋       | 10200/37592 [8:17:00<2:03:00,  3.71it/s]   Rate limit exceeded. Sleeping for 819 seconds.\n",
      "batch:  28%|██▊       | 10500/37592 [8:31:59<1:55:31,  3.91it/s]    Rate limit exceeded. Sleeping for 822 seconds.\n",
      "batch:  29%|██▊       | 10800/37592 [8:47:01<1:59:02,  3.75it/s]    Rate limit exceeded. Sleeping for 820 seconds.\n",
      "batch:  30%|██▉       | 11100/37592 [9:02:00<1:54:36,  3.85it/s]    Rate limit exceeded. Sleeping for 822 seconds.\n",
      "batch:  30%|███       | 11400/37592 [9:17:00<1:51:26,  3.92it/s]    Rate limit exceeded. Sleeping for 824 seconds.\n",
      "batch:  31%|███       | 11700/37592 [9:31:59<1:44:21,  4.13it/s]    Rate limit exceeded. Sleeping for 827 seconds.\n",
      "batch:  32%|███▏      | 12000/37592 [9:47:01<1:44:42,  4.07it/s]    Rate limit exceeded. Sleeping for 827 seconds.\n",
      "batch:  33%|███▎      | 12300/37592 [10:02:02<1:45:11,  4.01it/s]    Rate limit exceeded. Sleeping for 827 seconds.\n",
      "batch:  34%|███▎      | 12600/37592 [10:17:04<1:47:20,  3.88it/s]    Rate limit exceeded. Sleeping for 826 seconds.\n",
      "batch:  34%|███▍      | 12900/37592 [10:32:07<1:42:44,  4.01it/s]    Rate limit exceeded. Sleeping for 824 seconds.\n",
      "batch:  35%|███▌      | 13200/37592 [10:47:08<1:39:04,  4.10it/s]    Rate limit exceeded. Sleeping for 824 seconds.\n",
      "batch:  36%|███▌      | 13500/37592 [11:02:09<1:42:59,  3.90it/s]    Rate limit exceeded. Sleeping for 824 seconds.\n",
      "batch:  37%|███▋      | 13800/37592 [11:17:12<1:42:42,  3.86it/s]    Rate limit exceeded. Sleeping for 823 seconds.\n",
      "batch:  38%|███▊      | 14100/37592 [11:32:11<1:35:41,  4.09it/s]    Rate limit exceeded. Sleeping for 824 seconds.\n",
      "batch:  38%|███▊      | 14400/37592 [11:47:12<1:38:57,  3.91it/s]    Rate limit exceeded. Sleeping for 825 seconds.\n",
      "batch:  39%|███▉      | 14700/37592 [12:02:14<1:34:52,  4.02it/s]    Rate limit exceeded. Sleeping for 825 seconds.\n",
      "batch:  40%|███▉      | 15000/37592 [12:17:16<1:39:46,  3.77it/s]    Rate limit exceeded. Sleeping for 824 seconds.\n",
      "batch:  41%|████      | 15300/37592 [12:32:16<1:32:57,  4.00it/s]    Rate limit exceeded. Sleeping for 825 seconds.\n",
      "batch:  41%|████▏     | 15600/37592 [12:47:20<1:34:11,  3.89it/s]    Rate limit exceeded. Sleeping for 822 seconds.\n",
      "batch:  42%|████▏     | 15900/37592 [13:02:18<1:26:37,  4.17it/s]    Rate limit exceeded. Sleeping for 824 seconds.\n",
      "batch:  43%|████▎     | 16200/37592 [13:17:19<1:43:21,  3.45it/s]    Rate limit exceeded. Sleeping for 824 seconds.\n",
      "batch:  44%|████▍     | 16500/37592 [13:32:22<1:28:56,  3.95it/s]    Rate limit exceeded. Sleeping for 823 seconds.\n",
      "batch:  45%|████▍     | 16800/37592 [13:47:22<1:27:36,  3.96it/s]    Rate limit exceeded. Sleeping for 824 seconds.\n",
      "batch:  45%|████▌     | 17100/37592 [14:02:23<1:26:40,  3.94it/s]    Rate limit exceeded. Sleeping for 824 seconds.\n",
      "batch:  46%|████▋     | 17400/37592 [14:17:25<1:26:15,  3.90it/s]    Rate limit exceeded. Sleeping for 823 seconds.\n",
      "batch:  47%|████▋     | 17700/37592 [14:32:28<1:24:14,  3.94it/s]    Rate limit exceeded. Sleeping for 821 seconds.\n",
      "batch:  48%|████▊     | 18000/37592 [14:47:27<1:23:31,  3.91it/s]    Rate limit exceeded. Sleeping for 824 seconds.\n",
      "batch:  49%|████▊     | 18300/37592 [15:02:28<1:23:34,  3.85it/s]    Rate limit exceeded. Sleeping for 824 seconds.\n",
      "batch:  49%|████▉     | 18600/37592 [15:17:31<1:21:56,  3.86it/s]    Rate limit exceeded. Sleeping for 823 seconds.\n",
      "batch:  50%|█████     | 18900/37592 [15:32:32<1:20:35,  3.87it/s]    Rate limit exceeded. Sleeping for 822 seconds.\n",
      "batch:  51%|█████     | 19200/37592 [15:47:32<1:18:19,  3.91it/s]    Rate limit exceeded. Sleeping for 823 seconds.\n",
      "batch:  52%|█████▏    | 19500/37592 [16:02:37<1:23:23,  3.62it/s]    Rate limit exceeded. Sleeping for 819 seconds.\n",
      "batch:  53%|█████▎    | 19800/37592 [16:17:39<1:19:16,  3.74it/s]    Rate limit exceeded. Sleeping for 819 seconds.\n",
      "batch:  53%|█████▎    | 20100/37592 [16:32:39<1:18:43,  3.70it/s]    Rate limit exceeded. Sleeping for 821 seconds.\n",
      "batch:  54%|█████▍    | 20400/37592 [16:47:40<1:17:12,  3.71it/s]    Rate limit exceeded. Sleeping for 821 seconds.\n",
      "batch:  55%|█████▌    | 20700/37592 [17:02:44<1:13:03,  3.85it/s]    Rate limit exceeded. Sleeping for 819 seconds.\n",
      "batch:  56%|█████▌    | 21000/37592 [17:17:45<1:16:43,  3.60it/s]    Rate limit exceeded. Sleeping for 819 seconds.\n",
      "batch:  57%|█████▋    | 21300/37592 [17:32:47<1:16:56,  3.53it/s]    Rate limit exceeded. Sleeping for 818 seconds.\n",
      "batch:  57%|█████▋    | 21600/37592 [17:47:49<1:13:20,  3.63it/s]    Rate limit exceeded. Sleeping for 818 seconds.\n",
      "batch:  58%|█████▊    | 21900/37592 [18:02:52<1:13:04,  3.58it/s]    Rate limit exceeded. Sleeping for 816 seconds.\n",
      "batch:  59%|█████▉    | 22200/37592 [18:17:52<1:10:12,  3.65it/s]    Rate limit exceeded. Sleeping for 817 seconds.\n",
      "batch:  60%|█████▉    | 22500/37592 [18:32:54<1:12:37,  3.46it/s]    Rate limit exceeded. Sleeping for 816 seconds.\n",
      "batch:  61%|██████    | 22800/37592 [18:47:55<1:08:55,  3.58it/s]    Rate limit exceeded. Sleeping for 816 seconds.\n",
      "batch:  61%|██████▏   | 23100/37592 [19:02:56<1:07:42,  3.57it/s]    Rate limit exceeded. Sleeping for 817 seconds.\n",
      "batch:  62%|██████▏   | 23400/37592 [19:17:59<1:11:42,  3.30it/s]   Rate limit exceeded. Sleeping for 815 seconds.\n",
      "batch:  63%|██████▎   | 23700/37592 [19:33:01<1:05:54,  3.51it/s]   Rate limit exceeded. Sleeping for 814 seconds.\n",
      "batch:  64%|██████▍   | 24000/37592 [19:48:00<1:02:44,  3.61it/s]   Rate limit exceeded. Sleeping for 816 seconds.\n",
      "batch:  65%|██████▍   | 24300/37592 [20:03:03<1:05:56,  3.36it/s]   Rate limit exceeded. Sleeping for 814 seconds.\n",
      "batch:  65%|██████▌   | 24600/37592 [20:18:04<1:00:51,  3.56it/s]   Rate limit exceeded. Sleeping for 815 seconds.\n",
      "batch:  66%|██████▌   | 24900/37592 [20:33:10<1:08:40,  3.08it/s]   Rate limit exceeded. Sleeping for 809 seconds.\n",
      "batch:  67%|██████▋   | 25200/37592 [20:48:11<1:00:58,  3.39it/s]   Rate limit exceeded. Sleeping for 810 seconds.\n",
      "batch:  68%|██████▊   | 25500/37592 [21:03:11<59:01,  3.41it/s]     Rate limit exceeded. Sleeping for 812 seconds.\n",
      "batch:  69%|██████▊   | 25800/37592 [21:18:12<58:51,  3.34it/s]     Rate limit exceeded. Sleeping for 813 seconds.\n",
      "batch:  69%|██████▉   | 26100/37592 [21:33:12<53:00,  3.61it/s]     Rate limit exceeded. Sleeping for 814 seconds.\n",
      "batch:  70%|███████   | 26400/37592 [21:48:13<54:36,  3.42it/s]     Rate limit exceeded. Sleeping for 814 seconds.\n",
      "batch:  71%|███████   | 26700/37592 [22:03:17<54:06,  3.36it/s]     Rate limit exceeded. Sleeping for 812 seconds.\n",
      "batch:  72%|███████▏  | 27000/37592 [22:18:20<51:57,  3.40it/s]     Rate limit exceeded. Sleeping for 810 seconds.\n",
      "batch:  73%|███████▎  | 27300/37592 [22:33:22<52:04,  3.29it/s]     Rate limit exceeded. Sleeping for 810 seconds.\n",
      "batch:  73%|███████▎  | 27600/37592 [22:48:21<50:38,  3.29it/s]     Rate limit exceeded. Sleeping for 812 seconds.\n",
      "batch:  74%|███████▍  | 27900/37592 [23:03:21<46:37,  3.46it/s]     Rate limit exceeded. Sleeping for 813 seconds.\n",
      "batch:  75%|███████▌  | 28200/37592 [23:18:22<43:08,  3.63it/s]     Rate limit exceeded. Sleeping for 812 seconds.\n",
      "batch:  76%|███████▌  | 28500/37592 [23:33:26<47:37,  3.18it/s]     Rate limit exceeded. Sleeping for 810 seconds.\n",
      "batch:  77%|███████▋  | 28800/37592 [23:48:28<44:29,  3.29it/s]     Rate limit exceeded. Sleeping for 809 seconds.\n",
      "batch:  77%|███████▋  | 29100/37592 [24:03:30<43:08,  3.28it/s]     Rate limit exceeded. Sleeping for 807 seconds.\n",
      "batch:  78%|███████▊  | 29400/37592 [24:18:27<39:45,  3.43it/s]     Rate limit exceeded. Sleeping for 812 seconds.\n",
      "batch:  79%|███████▉  | 29700/37592 [24:33:29<38:50,  3.39it/s]     Rate limit exceeded. Sleeping for 811 seconds.\n",
      "batch:  80%|███████▉  | 30000/37592 [24:48:28<36:08,  3.50it/s]     Rate limit exceeded. Sleeping for 812 seconds.\n",
      "batch:  81%|████████  | 30300/37592 [25:03:31<35:19,  3.44it/s]     Rate limit exceeded. Sleeping for 810 seconds.\n",
      "batch:  81%|████████▏ | 30600/37592 [25:18:32<33:15,  3.50it/s]     Rate limit exceeded. Sleeping for 811 seconds.\n",
      "batch:  82%|████████▏ | 30900/37592 [25:33:35<33:18,  3.35it/s]     Rate limit exceeded. Sleeping for 810 seconds.\n",
      "batch:  83%|████████▎ | 31200/37592 [25:48:34<31:53,  3.34it/s]     Rate limit exceeded. Sleeping for 811 seconds.\n",
      "batch:  84%|████████▍ | 31500/37592 [26:03:37<31:56,  3.18it/s]     Rate limit exceeded. Sleeping for 809 seconds.\n",
      "batch:  85%|████████▍ | 31800/37592 [26:18:38<28:21,  3.40it/s]     Rate limit exceeded. Sleeping for 809 seconds.\n",
      "batch:  85%|████████▌ | 32100/37592 [26:33:41<28:02,  3.26it/s]     Rate limit exceeded. Sleeping for 808 seconds.\n",
      "batch:  86%|████████▌ | 32400/37592 [26:48:39<25:51,  3.35it/s]     Rate limit exceeded. Sleeping for 811 seconds.\n",
      "batch:  87%|████████▋ | 32700/37592 [27:03:41<25:34,  3.19it/s]     Rate limit exceeded. Sleeping for 809 seconds.\n",
      "batch:  88%|████████▊ | 33000/37592 [27:18:42<22:38,  3.38it/s]     Rate limit exceeded. Sleeping for 810 seconds.\n",
      "batch:  89%|████████▊ | 33300/37592 [27:33:43<20:43,  3.45it/s]     Rate limit exceeded. Sleeping for 809 seconds.\n",
      "batch:  89%|████████▉ | 33600/37592 [27:48:47<19:54,  3.34it/s]     Rate limit exceeded. Sleeping for 807 seconds.\n",
      "batch:  90%|█████████ | 33900/37592 [28:03:46<18:17,  3.36it/s]     Rate limit exceeded. Sleeping for 810 seconds.\n",
      "batch:  91%|█████████ | 34200/37592 [28:18:45<17:55,  3.15it/s]     Rate limit exceeded. Sleeping for 812 seconds.\n",
      "batch:  92%|█████████▏| 34500/37592 [28:33:45<14:33,  3.54it/s]     Rate limit exceeded. Sleeping for 812 seconds.\n",
      "batch:  93%|█████████▎| 34800/37592 [28:48:42<13:04,  3.56it/s]     Rate limit exceeded. Sleeping for 816 seconds.\n",
      "batch:  93%|█████████▎| 35100/37592 [29:03:43<11:20,  3.66it/s]     Rate limit exceeded. Sleeping for 817 seconds.\n",
      "batch:  94%|█████████▍| 35400/37592 [29:18:44<12:13,  2.99it/s]     Rate limit exceeded. Sleeping for 817 seconds.\n",
      "batch:  95%|█████████▍| 35700/37592 [29:33:43<08:43,  3.62it/s]     Rate limit exceeded. Sleeping for 820 seconds.\n",
      "batch:  96%|█████████▌| 36000/37592 [29:48:48<07:11,  3.69it/s]     Rate limit exceeded. Sleeping for 816 seconds.\n",
      "batch:  97%|█████████▋| 36300/37592 [30:03:49<06:12,  3.47it/s]     Rate limit exceeded. Sleeping for 817 seconds.\n",
      "batch:  97%|█████████▋| 36600/37592 [30:18:46<04:21,  3.79it/s]    Rate limit exceeded. Sleeping for 821 seconds.\n",
      "batch:  98%|█████████▊| 36900/37592 [30:33:47<03:04,  3.74it/s]    Rate limit exceeded. Sleeping for 821 seconds.\n",
      "batch:  99%|█████████▉| 37200/37592 [30:48:48<01:40,  3.91it/s]    Rate limit exceeded. Sleeping for 821 seconds.\n",
      "batch: 100%|█████████▉| 37500/37592 [31:03:49<00:23,  3.87it/s]    Rate limit exceeded. Sleeping for 822 seconds.\n",
      "batch: 100%|██████████| 37592/37592 [31:17:57<00:00,  3.00s/it]   \n"
     ]
    }
   ],
   "source": [
    "author_ids = get_follow_from_lists()\n",
    "out_path = os.path.join(DATA_PATH, 'new_followers_rehydrated.jsonl')\n",
    "err_path = os.path.join(DATA_PATH, 'new_followers_missing.jsonl')\n",
    "\n",
    "already_scraped = get_scaraped_profiles(out_path, err_path)\n",
    "print(f\"{len(already_scraped)} users were already scraped\")\n",
    "\n",
    "author_ids = [id_ for id_ in author_ids if id_ not in already_scraped]\n",
    "print(f\"{len(author_ids)} users left to scrape\")\n",
    "\n",
    "follower_errors = get_profiles(ids=author_ids, client=client, out_path=out_path, error_path=err_path)"
   ],
   "metadata": {
    "collapsed": false
   }
  },
  {
   "cell_type": "code",
   "execution_count": 6,
   "outputs": [
    {
     "name": "stdout",
     "output_type": "stream",
     "text": [
      "0 users were already scraped\n",
      "1590084 users left to scrape\n"
     ]
    },
    {
     "name": "stderr",
     "output_type": "stream",
     "text": [
      "batch:   1%|▏         | 208/15901 [01:21<1:39:57,  2.62it/s]Rate limit exceeded. Sleeping for 786 seconds.\n",
      "batch:   3%|▎         | 508/15901 [16:22<1:40:26,  2.55it/s]    Rate limit exceeded. Sleeping for 786 seconds.\n",
      "batch:   5%|▌         | 808/15901 [31:21<1:37:35,  2.58it/s]    Rate limit exceeded. Sleeping for 788 seconds.\n",
      "batch:   7%|▋         | 1108/15901 [46:22<1:30:56,  2.71it/s]  Rate limit exceeded. Sleeping for 789 seconds.\n",
      "batch:   9%|▉         | 1408/15901 [1:01:24<1:32:53,  2.60it/s] Rate limit exceeded. Sleeping for 788 seconds.\n",
      "batch:  11%|█         | 1708/15901 [1:16:24<1:19:04,  2.99it/s]   Rate limit exceeded. Sleeping for 789 seconds.\n",
      "batch:  13%|█▎        | 2008/15901 [1:31:28<1:27:44,  2.64it/s]   Rate limit exceeded. Sleeping for 786 seconds.\n",
      "batch:  15%|█▍        | 2308/15901 [1:46:24<1:21:38,  2.77it/s]   Rate limit exceeded. Sleeping for 791 seconds.\n",
      "batch:  16%|█▋        | 2608/15901 [2:01:25<1:19:20,  2.79it/s]   Rate limit exceeded. Sleeping for 791 seconds.\n",
      "batch:  18%|█▊        | 2908/15901 [2:16:28<1:21:00,  2.67it/s]   Rate limit exceeded. Sleeping for 789 seconds.\n",
      "batch:  20%|██        | 3208/15901 [2:31:27<1:17:13,  2.74it/s]   Rate limit exceeded. Sleeping for 791 seconds.\n",
      "batch:  22%|██▏       | 3508/15901 [2:46:26<1:13:18,  2.82it/s]   Rate limit exceeded. Sleeping for 794 seconds.\n",
      "batch:  24%|██▍       | 3808/15901 [3:01:28<1:12:28,  2.78it/s]   Rate limit exceeded. Sleeping for 794 seconds.\n",
      "batch:  26%|██▌       | 4108/15901 [3:16:28<1:09:48,  2.82it/s]   Rate limit exceeded. Sleeping for 795 seconds.\n",
      "batch:  28%|██▊       | 4408/15901 [3:31:31<1:09:51,  2.74it/s]   Rate limit exceeded. Sleeping for 793 seconds.\n",
      "batch:  30%|██▉       | 4708/15901 [3:46:33<1:05:46,  2.84it/s]   Rate limit exceeded. Sleeping for 793 seconds.\n",
      "batch:  31%|███▏      | 5008/15901 [4:01:32<1:05:01,  2.79it/s]   Rate limit exceeded. Sleeping for 795 seconds.\n",
      "batch:  33%|███▎      | 5308/15901 [4:16:34<1:06:25,  2.66it/s]   Rate limit exceeded. Sleeping for 794 seconds.\n",
      "batch:  35%|███▌      | 5608/15901 [4:31:35<1:00:48,  2.82it/s]   Rate limit exceeded. Sleeping for 794 seconds.\n",
      "batch:  37%|███▋      | 5908/15901 [4:46:39<59:19,  2.81it/s]     Rate limit exceeded. Sleeping for 791 seconds.\n",
      "batch:  39%|███▉      | 6208/15901 [5:01:37<57:57,  2.79it/s]     Rate limit exceeded. Sleeping for 794 seconds.\n",
      "batch:  41%|████      | 6508/15901 [5:16:38<56:14,  2.78it/s]     Rate limit exceeded. Sleeping for 794 seconds.\n",
      "batch:  43%|████▎     | 6808/15901 [5:31:41<54:07,  2.80it/s]     Rate limit exceeded. Sleeping for 793 seconds.\n",
      "batch:  45%|████▍     | 7108/15901 [5:46:40<52:47,  2.78it/s]     Rate limit exceeded. Sleeping for 795 seconds.\n",
      "batch:  47%|████▋     | 7408/15901 [6:01:43<51:00,  2.78it/s]     Rate limit exceeded. Sleeping for 793 seconds.\n",
      "batch:  48%|████▊     | 7708/15901 [6:16:45<49:27,  2.76it/s]     Rate limit exceeded. Sleeping for 792 seconds.\n",
      "batch:  50%|█████     | 8008/15901 [6:31:46<50:22,  2.61it/s]     Rate limit exceeded. Sleeping for 792 seconds.\n",
      "batch:  52%|█████▏    | 8308/15901 [6:46:46<44:29,  2.84it/s]     Rate limit exceeded. Sleeping for 793 seconds.\n",
      "batch:  54%|█████▍    | 8608/15901 [7:01:49<45:00,  2.70it/s]     Rate limit exceeded. Sleeping for 793 seconds.\n",
      "batch:  56%|█████▌    | 8908/15901 [7:16:51<42:43,  2.73it/s]     Rate limit exceeded. Sleeping for 793 seconds.\n",
      "batch:  58%|█████▊    | 9208/15901 [7:31:53<41:01,  2.72it/s]     Rate limit exceeded. Sleeping for 792 seconds.\n",
      "batch:  60%|█████▉    | 9508/15901 [7:46:54<39:16,  2.71it/s]     Rate limit exceeded. Sleeping for 792 seconds.\n",
      "batch:  62%|██████▏   | 9808/15901 [8:01:55<37:37,  2.70it/s]     Rate limit exceeded. Sleeping for 792 seconds.\n",
      "batch:  64%|██████▎   | 10108/15901 [8:16:56<35:22,  2.73it/s]    Rate limit exceeded. Sleeping for 792 seconds.\n",
      "batch:  65%|██████▌   | 10408/15901 [8:31:55<31:55,  2.87it/s]     Rate limit exceeded. Sleeping for 794 seconds.\n",
      "batch:  67%|██████▋   | 10708/15901 [8:46:57<31:12,  2.77it/s]     Rate limit exceeded. Sleeping for 793 seconds.\n",
      "batch:  69%|██████▉   | 11008/15901 [9:02:01<30:23,  2.68it/s]     Rate limit exceeded. Sleeping for 791 seconds.\n",
      "batch:  71%|███████   | 11308/15901 [9:17:01<28:31,  2.68it/s]     Rate limit exceeded. Sleeping for 792 seconds.\n",
      "batch:  73%|███████▎  | 11608/15901 [9:32:06<26:36,  2.69it/s]     Rate limit exceeded. Sleeping for 789 seconds.\n",
      "batch:  75%|███████▍  | 11908/15901 [9:47:08<24:33,  2.71it/s]     Rate limit exceeded. Sleeping for 788 seconds.\n",
      "batch:  77%|███████▋  | 12208/15901 [10:02:10<24:20,  2.53it/s]     Rate limit exceeded. Sleeping for 787 seconds.\n",
      "batch:  79%|███████▊  | 12508/15901 [10:17:12<21:16,  2.66it/s]     Rate limit exceeded. Sleeping for 786 seconds.\n",
      "batch:  81%|████████  | 12808/15901 [10:32:14<20:04,  2.57it/s]     Rate limit exceeded. Sleeping for 785 seconds.\n",
      "batch:  82%|████████▏ | 13108/15901 [10:47:15<17:50,  2.61it/s]     Rate limit exceeded. Sleeping for 786 seconds.\n",
      "batch:  84%|████████▍ | 13408/15901 [11:02:21<16:50,  2.47it/s]     Rate limit exceeded. Sleeping for 781 seconds.\n",
      "batch:  86%|████████▌ | 13708/15901 [11:17:20<14:10,  2.58it/s]     Rate limit exceeded. Sleeping for 783 seconds.\n",
      "batch:  88%|████████▊ | 14008/15901 [11:32:20<12:01,  2.62it/s]     Rate limit exceeded. Sleeping for 785 seconds.\n",
      "batch:  90%|████████▉ | 14308/15901 [11:47:25<10:40,  2.49it/s]     Rate limit exceeded. Sleeping for 781 seconds.\n",
      "batch:  92%|█████████▏| 14608/15901 [12:02:23<09:01,  2.39it/s]     Rate limit exceeded. Sleeping for 784 seconds.\n",
      "batch:  94%|█████████▍| 14908/15901 [12:17:24<06:24,  2.58it/s]    Rate limit exceeded. Sleeping for 784 seconds.\n",
      "batch:  96%|█████████▌| 15208/15901 [12:32:25<03:42,  3.12it/s]    Rate limit exceeded. Sleeping for 784 seconds.\n",
      "batch:  98%|█████████▊| 15508/15901 [12:47:15<02:33,  2.56it/s]    Rate limit exceeded. Sleeping for 795 seconds.\n",
      "batch:  99%|█████████▉| 15808/15901 [13:02:18<00:26,  3.58it/s]    Rate limit exceeded. Sleeping for 794 seconds.\n",
      "batch: 100%|██████████| 15901/15901 [13:16:04<00:00,  3.00s/it]   \n"
     ]
    }
   ],
   "source": [
    "author_ids = get_follow_from_lists('followee_lists_of_new_retweeters_repliers.jsonl')\n",
    "out_path = os.path.join(DATA_PATH, 'new_followees_rehydrated.jsonl')\n",
    "err_path = os.path.join(DATA_PATH, 'new_followees_missing.jsonl')\n",
    "\n",
    "already_scraped = get_scaraped_profiles(out_path, err_path)\n",
    "print(f\"{len(already_scraped)} users were already scraped\")\n",
    "\n",
    "author_ids = [id_ for id_ in author_ids if id_ not in already_scraped]\n",
    "print(f\"{len(author_ids)} users left to scrape\")\n",
    "\n",
    "followee_errors = get_profiles(ids=author_ids, client=client, out_path=out_path, error_path=err_path)"
   ],
   "metadata": {
    "collapsed": false
   }
  },
  {
   "cell_type": "code",
   "execution_count": 7,
   "outputs": [
    {
     "data": {
      "text/plain": "(0, 0)"
     },
     "execution_count": 7,
     "metadata": {},
     "output_type": "execute_result"
    }
   ],
   "source": [
    "len(followee_errors), len(follower_errors)"
   ],
   "metadata": {
    "collapsed": false
   }
  },
  {
   "cell_type": "code",
   "execution_count": 9,
   "outputs": [
    {
     "name": "stdout",
     "output_type": "stream",
     "text": [
      "0 users were already scraped\n",
      "12521 users left to scrape\n"
     ]
    },
    {
     "name": "stderr",
     "output_type": "stream",
     "text": [
      "batch: 100%|██████████| 126/126 [00:49<00:00,  2.57it/s]\n"
     ]
    }
   ],
   "source": [
    "author_ids = get_follow_from_lists('followee_lists_new.jsonl')\n",
    "out_path = os.path.join(DATA_PATH, 'new_followees_of_authors_rehydrated.jsonl')\n",
    "err_path = os.path.join(DATA_PATH, 'new_followees_of_authors_missing.jsonl')\n",
    "\n",
    "already_scraped = get_scaraped_profiles(out_path, err_path)\n",
    "print(f\"{len(already_scraped)} users were already scraped\")\n",
    "\n",
    "author_ids = [id_ for id_ in author_ids if id_ not in already_scraped]\n",
    "print(f\"{len(author_ids)} users left to scrape\")\n",
    "import time\n",
    "time.sleep(60*60*6)\n",
    "followee_errors = get_profiles(ids=author_ids, client=client, out_path=out_path, error_path=err_path)"
   ],
   "metadata": {
    "collapsed": false
   }
  },
  {
   "cell_type": "code",
   "execution_count": 3,
   "outputs": [
    {
     "name": "stdout",
     "output_type": "stream",
     "text": [
      "1290120 users were already scraped\n",
      "699657 users left to scrape\n"
     ]
    },
    {
     "name": "stderr",
     "output_type": "stream",
     "text": [
      "batch:   4%|▍         | 300/6997 [01:34<36:03,  3.10it/s]Rate limit exceeded. Sleeping for 805 seconds.\n",
      "batch:   9%|▊         | 600/6997 [16:39<37:53,  2.81it/s]     Rate limit exceeded. Sleeping for 800 seconds.\n",
      "batch:  13%|█▎        | 900/6997 [31:37<34:09,  2.98it/s]     Rate limit exceeded. Sleeping for 801 seconds.\n",
      "batch:  17%|█▋        | 1200/6997 [46:37<31:46,  3.04it/s]    Rate limit exceeded. Sleeping for 802 seconds.\n",
      "batch:  21%|██▏       | 1500/6997 [1:01:34<29:34,  3.10it/s]     Rate limit exceeded. Sleeping for 805 seconds.\n",
      "batch:  26%|██▌       | 1800/6997 [1:16:46<30:46,  2.82it/s]     Rate limit exceeded. Sleeping for 793 seconds.\n",
      "batch:  30%|███       | 2100/6997 [1:31:42<29:21,  2.78it/s]     Rate limit exceeded. Sleeping for 797 seconds.\n",
      "batch:  34%|███▍      | 2400/6997 [1:46:35<24:30,  3.13it/s]     Rate limit exceeded. Sleeping for 804 seconds.\n",
      "batch:  39%|███▊      | 2700/6997 [2:01:22<21:12,  3.38it/s]     Rate limit exceeded. Sleeping for 816 seconds.\n",
      "batch:  43%|████▎     | 3000/6997 [2:16:18<17:01,  3.91it/s]     Rate limit exceeded. Sleeping for 821 seconds.\n",
      "batch:  47%|████▋     | 3300/6997 [2:31:25<19:04,  3.23it/s]     Rate limit exceeded. Sleeping for 814 seconds.\n",
      "batch:  51%|█████▏    | 3600/6997 [2:46:20<14:52,  3.80it/s]     Rate limit exceeded. Sleeping for 819 seconds.\n",
      "batch:  56%|█████▌    | 3900/6997 [3:01:30<17:51,  2.89it/s]     Rate limit exceeded. Sleeping for 809 seconds.\n",
      "batch:  60%|██████    | 4200/6997 [3:16:44<17:11,  2.71it/s]     Rate limit exceeded. Sleeping for 794 seconds.\n",
      "batch:  64%|██████▍   | 4500/6997 [3:31:49<15:39,  2.66it/s]     Rate limit exceeded. Sleeping for 789 seconds.\n",
      "batch:  69%|██████▊   | 4800/6997 [3:46:51<13:20,  2.74it/s]     Rate limit exceeded. Sleeping for 788 seconds.\n",
      "batch:  73%|███████▎  | 5100/6997 [4:01:50<11:38,  2.72it/s]     Rate limit exceeded. Sleeping for 788 seconds.\n",
      "batch:  77%|███████▋  | 5400/6997 [4:16:50<09:57,  2.67it/s]     Rate limit exceeded. Sleeping for 789 seconds.\n",
      "batch:  81%|████████▏ | 5700/6997 [4:31:49<07:58,  2.71it/s]     Rate limit exceeded. Sleeping for 789 seconds.\n",
      "batch:  86%|████████▌ | 6000/6997 [4:46:51<06:00,  2.76it/s]    Rate limit exceeded. Sleeping for 787 seconds.\n",
      "batch:  90%|█████████ | 6300/6997 [5:01:49<04:21,  2.67it/s]    Rate limit exceeded. Sleeping for 790 seconds.\n",
      "batch:  94%|█████████▍| 6600/6997 [5:16:49<02:23,  2.77it/s]    Rate limit exceeded. Sleeping for 789 seconds.\n",
      "batch:  99%|█████████▊| 6900/6997 [5:31:49<00:35,  2.74it/s]    Rate limit exceeded. Sleeping for 789 seconds.\n",
      "batch: 100%|██████████| 6997/6997 [5:45:34<00:00,  2.96s/it]   \n"
     ]
    }
   ],
   "source": [
    "author_ids = get_follow_from_lists('followee_lists_newer.jsonl')\n",
    "out_path = os.path.join(DATA_PATH, 'newer_followees_rehydrated.jsonl')\n",
    "err_path = os.path.join(DATA_PATH, 'newer_followees_missing.jsonl')\n",
    "\n",
    "already_scraped = get_scaraped_profiles(out_path, err_path)\n",
    "print(f\"{len(already_scraped)} users were already scraped\")\n",
    "\n",
    "author_ids = [id_ for id_ in author_ids if id_ not in already_scraped]\n",
    "print(f\"{len(author_ids)} users left to scrape\")\n",
    "\n",
    "follower_errors = get_profiles(ids=author_ids, client=client, out_path=out_path, error_path=err_path)"
   ],
   "metadata": {
    "collapsed": false
   }
  },
  {
   "cell_type": "code",
   "execution_count": 3,
   "outputs": [
    {
     "name": "stdout",
     "output_type": "stream",
     "text": [
      "11561311 users were already scraped\n",
      "0 users left to scrape\n"
     ]
    },
    {
     "name": "stderr",
     "output_type": "stream",
     "text": [
      "batch: 0it [00:00, ?it/s]\n"
     ]
    }
   ],
   "source": [
    "author_ids = get_follow_from_lists('follower_lists_newer.jsonl')\n",
    "out_path = os.path.join(DATA_PATH, 'newer_followers_rehydrated.jsonl')\n",
    "err_path = os.path.join(DATA_PATH, 'newer_followers_missing.jsonl')\n",
    "\n",
    "already_scraped = get_scaraped_profiles(out_path, err_path)\n",
    "print(f\"{len(already_scraped)} users were already scraped\")\n",
    "\n",
    "author_ids = [id_ for id_ in author_ids if id_ not in already_scraped]\n",
    "print(f\"{len(author_ids)} users left to scrape\")\n",
    "\n",
    "follower_errors = get_profiles(ids=author_ids, client=client, out_path=out_path, error_path=err_path)"
   ],
   "metadata": {
    "collapsed": false
   }
  },
  {
   "cell_type": "code",
   "execution_count": 4,
   "outputs": [
    {
     "name": "stderr",
     "output_type": "stream",
     "text": [
      "batch: 0it [00:00, ?it/s]\n"
     ]
    }
   ],
   "source": [
    "len(follower_errors)\n",
    "follower_errors2 = get_profiles(ids=follower_errors, client=client, out_path=out_path, error_path=err_path)\n"
   ],
   "metadata": {
    "collapsed": false
   }
  },
  {
   "cell_type": "code",
   "execution_count": 5,
   "outputs": [
    {
     "data": {
      "text/plain": "0"
     },
     "execution_count": 5,
     "metadata": {},
     "output_type": "execute_result"
    }
   ],
   "source": [
    "len(follower_errors2)"
   ],
   "metadata": {
    "collapsed": false
   }
  },
  {
   "cell_type": "code",
   "execution_count": null,
   "outputs": [],
   "source": [],
   "metadata": {
    "collapsed": false
   }
  }
 ],
 "metadata": {
  "kernelspec": {
   "display_name": "Python 3",
   "language": "python",
   "name": "python3"
  },
  "language_info": {
   "codemirror_mode": {
    "name": "ipython",
    "version": 2
   },
   "file_extension": ".py",
   "mimetype": "text/x-python",
   "name": "python",
   "nbconvert_exporter": "python",
   "pygments_lexer": "ipython2",
   "version": "2.7.6"
  }
 },
 "nbformat": 4,
 "nbformat_minor": 0
}
