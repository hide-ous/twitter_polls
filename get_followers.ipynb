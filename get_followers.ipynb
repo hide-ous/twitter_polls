{
 "cells": [
  {
   "cell_type": "code",
   "execution_count": 21,
   "metadata": {
    "collapsed": true
   },
   "outputs": [
    {
     "data": {
      "text/plain": "True"
     },
     "execution_count": 21,
     "metadata": {},
     "output_type": "execute_result"
    }
   ],
   "source": [
    "import json\n",
    "import time\n",
    "\n",
    "import pandas as pd\n",
    "from tqdm import tqdm\n",
    "import tweepy\n",
    "from dotenv import load_dotenv\n",
    "import os\n",
    "\n",
    "from tweepy import TweepyException\n",
    "\n",
    "from utils import divide_chunks\n",
    "\n",
    "load_dotenv()  # take environment variables from .env."
   ]
  },
  {
   "cell_type": "code",
   "execution_count": 18,
   "outputs": [],
   "source": [
    "client = tweepy.Client(bearer_token=os.environ['BEARER'],\n",
    "                       wait_on_rate_limit=True,)\n",
    "# with API rather than client, could add                        retry_count=10, retry_delay=60, retry_errors=set([503])"
   ],
   "metadata": {
    "collapsed": false
   }
  },
  {
   "cell_type": "code",
   "execution_count": 9,
   "outputs": [],
   "source": [
    "DATA_PATH = 'data'\n",
    "YEARS = [2016, 2020]\n",
    "ids = set()\n",
    "for year in YEARS:\n",
    "    with open(os.path.join(DATA_PATH, f'follower_lists_{year}.jsonl')) as f:\n",
    "        for l in f:\n",
    "            for _, ids_ in json.loads(l).items():\n",
    "                ids.update(ids_)\n",
    "ids = list(ids)"
   ],
   "metadata": {
    "collapsed": false
   }
  },
  {
   "cell_type": "code",
   "execution_count": 10,
   "outputs": [],
   "source": [
    "# DATA_PATH = 'data'\n",
    "# users_path = os.path.join(DATA_PATH, 'followers_2016.jsonl')\n",
    "# with open(users_path, encoding='utf8') as f:\n",
    "#     users = pd.concat(\n",
    "#         pd.DataFrame([dict(follower, **{'follows':pollster}) for follower in followers])\n",
    "#         for l in f for pollster, followers in json.loads(l).items()\n",
    "#     )\n",
    "# users.head()"
   ],
   "metadata": {
    "collapsed": false
   }
  },
  {
   "cell_type": "code",
   "execution_count": 11,
   "outputs": [],
   "source": [
    "# # Replace User IDs\n",
    "# ids = users.id.tolist()\n",
    "# ids[:3]"
   ],
   "metadata": {
    "collapsed": false
   }
  },
  {
   "cell_type": "code",
   "execution_count": 12,
   "outputs": [
    {
     "data": {
      "text/plain": "5458196"
     },
     "execution_count": 12,
     "metadata": {},
     "output_type": "execute_result"
    }
   ],
   "source": [
    "len(ids)"
   ],
   "metadata": {
    "collapsed": false
   }
  },
  {
   "cell_type": "code",
   "execution_count": 22,
   "outputs": [],
   "source": [
    "errors = list()"
   ],
   "metadata": {
    "collapsed": false
   }
  },
  {
   "cell_type": "code",
   "execution_count": 23,
   "outputs": [
    {
     "name": "stdout",
     "output_type": "stream",
     "text": [
      "found 1097530 users\n"
     ]
    },
    {
     "name": "stderr",
     "output_type": "stream",
     "text": [
      "batch:   1%|          | 300/54582 [01:23<4:38:39,  3.25it/s]Rate limit exceeded. Sleeping for 818 seconds.\n",
      "batch:   1%|          | 600/54582 [16:22<4:04:48,  3.68it/s]    Rate limit exceeded. Sleeping for 819 seconds.\n",
      "batch:   2%|▏         | 900/54582 [31:24<4:05:00,  3.65it/s]    Rate limit exceeded. Sleeping for 819 seconds.\n",
      "batch:   2%|▏         | 1200/54582 [46:28<4:15:16,  3.49it/s]   Rate limit exceeded. Sleeping for 816 seconds.\n",
      "batch:   3%|▎         | 1500/54582 [1:01:27<3:58:42,  3.71it/s]    Rate limit exceeded. Sleeping for 818 seconds.\n",
      "batch:   3%|▎         | 1800/54582 [1:16:30<4:06:31,  3.57it/s]    Rate limit exceeded. Sleeping for 816 seconds.\n",
      "batch:   4%|▍         | 2100/54582 [1:31:35<4:47:44,  3.04it/s]    Rate limit exceeded. Sleeping for 813 seconds.\n",
      "batch:   4%|▍         | 2400/54582 [1:46:36<4:02:42,  3.58it/s]    Rate limit exceeded. Sleeping for 814 seconds.\n",
      "batch:   5%|▍         | 2700/54582 [2:01:38<4:28:35,  3.22it/s]    Rate limit exceeded. Sleeping for 812 seconds.\n",
      "batch:   5%|▌         | 3000/54582 [2:16:42<4:15:41,  3.36it/s]    Rate limit exceeded. Sleeping for 810 seconds.\n",
      "batch:   6%|▌         | 3300/54582 [2:31:38<3:55:28,  3.63it/s]    Rate limit exceeded. Sleeping for 816 seconds.\n",
      "batch:   7%|▋         | 3600/54582 [2:46:42<4:08:51,  3.41it/s]    Rate limit exceeded. Sleeping for 813 seconds.\n",
      "batch:   7%|▋         | 3900/54582 [3:01:47<4:21:49,  3.23it/s]    Rate limit exceeded. Sleeping for 809 seconds.\n",
      "batch:   8%|▊         | 4200/54582 [3:16:46<4:44:20,  2.95it/s]    Rate limit exceeded. Sleeping for 810 seconds.\n",
      "batch:   8%|▊         | 4500/54582 [3:31:48<4:14:39,  3.28it/s]    Rate limit exceeded. Sleeping for 809 seconds.\n",
      "batch:   9%|▉         | 4800/54582 [3:46:53<4:04:51,  3.39it/s]    Rate limit exceeded. Sleeping for 806 seconds.\n",
      "batch:   9%|▉         | 5100/54582 [4:01:51<4:01:05,  3.42it/s]    Rate limit exceeded. Sleeping for 808 seconds.\n",
      "batch:  10%|▉         | 5400/54582 [4:16:51<4:01:10,  3.40it/s]    Rate limit exceeded. Sleeping for 810 seconds.\n",
      "batch:  10%|█         | 5700/54582 [4:31:54<3:56:35,  3.44it/s]    Rate limit exceeded. Sleeping for 808 seconds.\n",
      "batch:  11%|█         | 6000/54582 [4:46:57<4:22:45,  3.08it/s]    Rate limit exceeded. Sleeping for 806 seconds.\n",
      "batch:  12%|█▏        | 6300/54582 [5:01:59<4:24:47,  3.04it/s]    Rate limit exceeded. Sleeping for 806 seconds.\n",
      "batch:  12%|█▏        | 6600/54582 [5:16:59<4:09:44,  3.20it/s]    Rate limit exceeded. Sleeping for 807 seconds.\n",
      "batch:  13%|█▎        | 6900/54582 [5:31:52<3:47:25,  3.49it/s]    Rate limit exceeded. Sleeping for 814 seconds.\n",
      "batch:  13%|█▎        | 7200/54582 [5:48:02<7:20:51,  1.79it/s]    Rate limit exceeded. Sleeping for 746 seconds.\n",
      "batch:  14%|█▎        | 7500/54582 [6:03:15<7:49:23,  1.67it/s]    Rate limit exceeded. Sleeping for 734 seconds.\n",
      "batch:  14%|█▍        | 7800/54582 [6:18:12<6:19:30,  2.05it/s]    Rate limit exceeded. Sleeping for 738 seconds.\n",
      "batch:  15%|█▍        | 8100/54582 [6:32:55<6:16:36,  2.06it/s]    Rate limit exceeded. Sleeping for 756 seconds.\n",
      "batch:  15%|█▌        | 8400/54582 [6:47:09<4:17:43,  2.99it/s]    Rate limit exceeded. Sleeping for 803 seconds.\n",
      "batch:  16%|█▌        | 8700/54582 [7:02:11<4:47:35,  2.66it/s]    Rate limit exceeded. Sleeping for 802 seconds.\n",
      "batch:  16%|█▋        | 9000/54582 [7:17:11<3:51:03,  3.29it/s]    Rate limit exceeded. Sleeping for 804 seconds.\n",
      "batch:  17%|█▋        | 9300/54582 [7:32:16<4:44:20,  2.65it/s]    Rate limit exceeded. Sleeping for 800 seconds.\n",
      "batch:  18%|█▊        | 9600/54582 [7:47:23<4:32:22,  2.75it/s]    Rate limit exceeded. Sleeping for 795 seconds.\n",
      "batch:  18%|█▊        | 9900/54582 [8:02:22<4:09:10,  2.99it/s]    Rate limit exceeded. Sleeping for 797 seconds.\n",
      "batch:  19%|█▊        | 10200/54582 [8:17:23<3:59:50,  3.08it/s]   Rate limit exceeded. Sleeping for 797 seconds.\n",
      "batch:  19%|█▉        | 10500/54582 [8:32:26<4:07:01,  2.97it/s]    Rate limit exceeded. Sleeping for 796 seconds.\n",
      "batch:  20%|█▉        | 10800/54582 [8:47:21<4:16:28,  2.85it/s]    Rate limit exceeded. Sleeping for 802 seconds.\n",
      "batch:  20%|██        | 11100/54582 [9:02:20<4:27:43,  2.71it/s]    Rate limit exceeded. Sleeping for 805 seconds.\n",
      "batch:  21%|██        | 11400/54582 [9:17:31<3:48:31,  3.15it/s]    Rate limit exceeded. Sleeping for 795 seconds.\n",
      "batch:  21%|██▏       | 11700/54582 [9:32:32<4:13:41,  2.82it/s]    Rate limit exceeded. Sleeping for 796 seconds.\n",
      "batch:  22%|██▏       | 12000/54582 [9:47:35<4:03:40,  2.91it/s]    Rate limit exceeded. Sleeping for 795 seconds.\n",
      "batch:  23%|██▎       | 12300/54582 [10:02:36<4:00:51,  2.93it/s]    Rate limit exceeded. Sleeping for 795 seconds.\n",
      "batch:  23%|██▎       | 12600/54582 [10:17:33<3:45:56,  3.10it/s]    Rate limit exceeded. Sleeping for 800 seconds.\n",
      "batch:  24%|██▎       | 12900/54582 [10:32:40<4:04:38,  2.84it/s]    Rate limit exceeded. Sleeping for 795 seconds.\n",
      "batch:  24%|██▍       | 13200/54582 [10:47:47<4:28:43,  2.57it/s]    Rate limit exceeded. Sleeping for 790 seconds.\n",
      "batch:  25%|██▍       | 13500/54582 [11:02:42<4:00:20,  2.85it/s]    Rate limit exceeded. Sleeping for 796 seconds.\n",
      "batch:  25%|██▌       | 13800/54582 [11:17:42<3:44:39,  3.03it/s]    Rate limit exceeded. Sleeping for 798 seconds.\n",
      "batch:  26%|██▌       | 14100/54582 [11:32:41<4:09:04,  2.71it/s]    Rate limit exceeded. Sleeping for 800 seconds.\n",
      "batch:  26%|██▋       | 14400/54582 [11:47:45<3:49:01,  2.92it/s]    Rate limit exceeded. Sleeping for 798 seconds.\n",
      "batch:  27%|██▋       | 14700/54582 [12:02:48<4:04:31,  2.72it/s]    Rate limit exceeded. Sleeping for 797 seconds.\n",
      "batch:  27%|██▋       | 15000/54582 [12:17:45<3:41:43,  2.98it/s]    Rate limit exceeded. Sleeping for 801 seconds.\n",
      "batch:  28%|██▊       | 15300/54582 [12:32:51<4:22:23,  2.50it/s]    Rate limit exceeded. Sleeping for 796 seconds.\n",
      "batch:  28%|██▊       | 15505/54582 [12:47:18<3:47:31,  2.86it/s]    "
     ]
    },
    {
     "name": "stdout",
     "output_type": "stream",
     "text": [
      "503 Service Unavailable\n",
      "Service Unavailable\n"
     ]
    },
    {
     "name": "stderr",
     "output_type": "stream",
     "text": [
      "batch:  29%|██▊       | 15600/54582 [12:48:52<3:49:28,  2.83it/s]  Rate limit exceeded. Sleeping for 736 seconds.\n",
      "batch:  29%|██▉       | 15900/54582 [13:02:48<3:27:59,  3.10it/s]    Rate limit exceeded. Sleeping for 800 seconds.\n",
      "batch:  30%|██▉       | 16200/54582 [13:17:56<3:49:06,  2.79it/s]    Rate limit exceeded. Sleeping for 794 seconds.\n",
      "batch:  30%|███       | 16500/54582 [13:32:55<3:47:22,  2.79it/s]    Rate limit exceeded. Sleeping for 796 seconds.\n",
      "batch:  31%|███       | 16800/54582 [13:47:54<3:24:43,  3.08it/s]    Rate limit exceeded. Sleeping for 797 seconds.\n",
      "batch:  31%|███▏      | 17100/54582 [14:03:05<3:30:30,  2.97it/s]    Rate limit exceeded. Sleeping for 788 seconds.\n",
      "batch:  32%|███▏      | 17400/54582 [14:18:02<3:43:00,  2.78it/s]    Rate limit exceeded. Sleeping for 791 seconds.\n",
      "batch:  32%|███▏      | 17700/54582 [14:33:01<3:38:31,  2.81it/s]    Rate limit exceeded. Sleeping for 794 seconds.\n",
      "batch:  33%|███▎      | 18000/54582 [14:47:55<3:13:45,  3.15it/s]    Rate limit exceeded. Sleeping for 801 seconds.\n",
      "batch:  34%|███▎      | 18300/54582 [15:02:58<3:12:50,  3.14it/s]    Rate limit exceeded. Sleeping for 799 seconds.\n",
      "batch:  34%|███▍      | 18600/54582 [15:17:57<3:37:01,  2.76it/s]    Rate limit exceeded. Sleeping for 801 seconds.\n",
      "batch:  35%|███▍      | 18900/54582 [15:32:53<2:55:03,  3.40it/s]    Rate limit exceeded. Sleeping for 806 seconds.\n",
      "batch:  35%|███▌      | 19200/54582 [15:47:59<3:34:59,  2.74it/s]    Rate limit exceeded. Sleeping for 801 seconds.\n",
      "batch:  36%|███▌      | 19500/54582 [16:03:00<3:14:43,  3.00it/s]    Rate limit exceeded. Sleeping for 800 seconds.\n",
      "batch:  36%|███▋      | 19800/54582 [16:17:56<3:02:56,  3.17it/s]    Rate limit exceeded. Sleeping for 806 seconds.\n",
      "batch:  37%|███▋      | 20100/54582 [16:33:00<3:11:09,  3.01it/s]    Rate limit exceeded. Sleeping for 803 seconds.\n",
      "batch:  37%|███▋      | 20400/54582 [16:48:00<2:54:00,  3.27it/s]    Rate limit exceeded. Sleeping for 804 seconds.\n",
      "batch:  38%|███▊      | 20700/54582 [17:02:58<2:56:41,  3.20it/s]    Rate limit exceeded. Sleeping for 807 seconds.\n",
      "batch:  38%|███▊      | 21000/54582 [17:17:58<2:39:19,  3.51it/s]    Rate limit exceeded. Sleeping for 809 seconds.\n",
      "batch:  39%|███▉      | 21300/54582 [17:33:01<2:53:54,  3.19it/s]    Rate limit exceeded. Sleeping for 806 seconds.\n",
      "batch:  40%|███▉      | 21600/54582 [17:48:02<2:52:14,  3.19it/s]    Rate limit exceeded. Sleeping for 807 seconds.\n",
      "batch:  40%|████      | 21900/54582 [18:03:05<2:52:36,  3.16it/s]    Rate limit exceeded. Sleeping for 805 seconds.\n",
      "batch:  41%|████      | 22200/54582 [18:18:06<2:53:10,  3.12it/s]    Rate limit exceeded. Sleeping for 805 seconds.\n",
      "batch:  41%|████      | 22500/54582 [18:33:10<2:49:27,  3.16it/s]    Rate limit exceeded. Sleeping for 803 seconds.\n",
      "batch:  42%|████▏     | 22800/54582 [18:48:07<2:44:33,  3.22it/s]    Rate limit exceeded. Sleeping for 806 seconds.\n",
      "batch:  42%|████▏     | 23100/54582 [19:03:05<2:44:11,  3.20it/s]    Rate limit exceeded. Sleeping for 810 seconds.\n",
      "batch:  43%|████▎     | 23400/54582 [19:18:07<2:40:59,  3.23it/s]    Rate limit exceeded. Sleeping for 809 seconds.\n",
      "batch:  43%|████▎     | 23700/54582 [19:33:10<2:39:26,  3.23it/s]    Rate limit exceeded. Sleeping for 808 seconds.\n",
      "batch:  44%|████▍     | 24000/54582 [19:48:08<2:33:59,  3.31it/s]    Rate limit exceeded. Sleeping for 811 seconds.\n",
      "batch:  45%|████▍     | 24300/54582 [20:03:13<2:31:51,  3.32it/s]    Rate limit exceeded. Sleeping for 808 seconds.\n",
      "batch:  45%|████▌     | 24600/54582 [20:18:13<2:29:00,  3.35it/s]    Rate limit exceeded. Sleeping for 808 seconds.\n",
      "batch:  46%|████▌     | 24900/54582 [20:33:10<2:29:17,  3.31it/s]    Rate limit exceeded. Sleeping for 813 seconds.\n",
      "batch:  46%|████▌     | 25200/54582 [20:48:10<2:16:22,  3.59it/s]    Rate limit exceeded. Sleeping for 814 seconds.\n",
      "batch:  47%|████▋     | 25500/54582 [21:03:11<2:29:04,  3.25it/s]    Rate limit exceeded. Sleeping for 813 seconds.\n",
      "batch:  47%|████▋     | 25800/54582 [21:18:12<2:22:34,  3.36it/s]    Rate limit exceeded. Sleeping for 814 seconds.\n",
      "batch:  48%|████▊     | 26100/54582 [21:33:16<2:15:49,  3.49it/s]    Rate limit exceeded. Sleeping for 811 seconds.\n",
      "batch:  48%|████▊     | 26400/54582 [21:48:16<2:20:32,  3.34it/s]    Rate limit exceeded. Sleeping for 812 seconds.\n",
      "batch:  49%|████▉     | 26700/54582 [22:03:19<2:32:58,  3.04it/s]    Rate limit exceeded. Sleeping for 809 seconds.\n",
      "batch:  49%|████▉     | 27000/54582 [22:18:16<2:12:26,  3.47it/s]    Rate limit exceeded. Sleeping for 813 seconds.\n",
      "batch:  50%|█████     | 27300/54582 [22:33:20<2:13:16,  3.41it/s]    Rate limit exceeded. Sleeping for 811 seconds.\n",
      "batch:  51%|█████     | 27600/54582 [22:48:18<2:07:48,  3.52it/s]    Rate limit exceeded. Sleeping for 813 seconds.\n",
      "batch:  51%|█████     | 27900/54582 [23:03:17<2:11:46,  3.37it/s]    Rate limit exceeded. Sleeping for 816 seconds.\n",
      "batch:  52%|█████▏    | 28200/54582 [23:18:18<2:08:07,  3.43it/s]    Rate limit exceeded. Sleeping for 816 seconds.\n",
      "batch:  52%|█████▏    | 28500/54582 [23:33:22<2:04:49,  3.48it/s]    Rate limit exceeded. Sleeping for 814 seconds.\n",
      "batch:  53%|█████▎    | 28800/54582 [23:48:21<1:58:37,  3.62it/s]    Rate limit exceeded. Sleeping for 816 seconds.\n",
      "batch:  53%|█████▎    | 29100/54582 [24:03:25<2:04:14,  3.42it/s]    Rate limit exceeded. Sleeping for 813 seconds.\n",
      "batch:  54%|█████▍    | 29400/54582 [24:18:29<2:07:37,  3.29it/s]    Rate limit exceeded. Sleeping for 811 seconds.\n",
      "batch:  54%|█████▍    | 29700/54582 [24:33:27<2:00:56,  3.43it/s]    Rate limit exceeded. Sleeping for 814 seconds.\n",
      "batch:  55%|█████▍    | 30000/54582 [24:48:29<1:54:52,  3.57it/s]    Rate limit exceeded. Sleeping for 813 seconds.\n",
      "batch:  56%|█████▌    | 30300/54582 [25:03:28<1:51:17,  3.64it/s]    Rate limit exceeded. Sleeping for 816 seconds.\n",
      "batch:  56%|█████▌    | 30600/54582 [25:18:29<1:49:10,  3.66it/s]    Rate limit exceeded. Sleeping for 817 seconds.\n",
      "batch:  57%|█████▋    | 30900/54582 [25:33:33<1:56:10,  3.40it/s]    Rate limit exceeded. Sleeping for 814 seconds.\n",
      "batch:  57%|█████▋    | 31200/54582 [25:48:33<1:49:58,  3.54it/s]    Rate limit exceeded. Sleeping for 815 seconds.\n",
      "batch:  58%|█████▊    | 31500/54582 [26:03:36<1:49:47,  3.50it/s]    Rate limit exceeded. Sleeping for 814 seconds.\n",
      "batch:  58%|█████▊    | 31800/54582 [26:18:39<1:54:41,  3.31it/s]    Rate limit exceeded. Sleeping for 811 seconds.\n",
      "batch:  59%|█████▉    | 32100/54582 [26:33:38<1:46:08,  3.53it/s]    Rate limit exceeded. Sleeping for 814 seconds.\n",
      "batch:  59%|█████▉    | 32400/54582 [26:48:40<1:51:58,  3.30it/s]    Rate limit exceeded. Sleeping for 813 seconds.\n",
      "batch:  60%|█████▉    | 32700/54582 [27:03:45<1:47:15,  3.40it/s]    Rate limit exceeded. Sleeping for 809 seconds.\n",
      "batch:  60%|██████    | 33000/54582 [27:18:43<1:45:55,  3.40it/s]    Rate limit exceeded. Sleeping for 812 seconds.\n",
      "batch:  61%|██████    | 33300/54582 [27:33:45<1:47:30,  3.30it/s]    Rate limit exceeded. Sleeping for 810 seconds.\n",
      "batch:  62%|██████▏   | 33600/54582 [27:48:46<1:40:13,  3.49it/s]    Rate limit exceeded. Sleeping for 811 seconds.\n",
      "batch:  62%|██████▏   | 33900/54582 [28:03:47<1:43:20,  3.34it/s]    Rate limit exceeded. Sleeping for 811 seconds.\n",
      "batch:  63%|██████▎   | 34200/54582 [28:18:49<1:42:34,  3.31it/s]    Rate limit exceeded. Sleeping for 811 seconds.\n",
      "batch:  63%|██████▎   | 34500/54582 [28:33:56<1:43:39,  3.23it/s]    Rate limit exceeded. Sleeping for 805 seconds.\n",
      "batch:  64%|██████▍   | 34800/54582 [28:48:55<1:42:23,  3.22it/s]    Rate limit exceeded. Sleeping for 808 seconds.\n",
      "batch:  64%|██████▍   | 35100/54582 [29:03:56<1:36:17,  3.37it/s]    Rate limit exceeded. Sleeping for 808 seconds.\n",
      "batch:  65%|██████▍   | 35400/54582 [29:18:55<1:37:46,  3.27it/s]    Rate limit exceeded. Sleeping for 810 seconds.\n",
      "batch:  65%|██████▌   | 35541/54582 [29:33:47<2:57:13,  1.79it/s]    "
     ]
    },
    {
     "name": "stdout",
     "output_type": "stream",
     "text": [
      "503 Service Unavailable\n",
      "Service Unavailable\n"
     ]
    },
    {
     "name": "stderr",
     "output_type": "stream",
     "text": [
      "batch:  65%|██████▌   | 35700/54582 [29:36:18<2:56:18,  1.79it/s] Rate limit exceeded. Sleeping for 669 seconds.\n",
      "batch:  66%|██████▌   | 36000/54582 [29:50:17<2:57:57,  1.74it/s]    Rate limit exceeded. Sleeping for 731 seconds.\n",
      "batch:  67%|██████▋   | 36300/54582 [30:04:00<1:28:34,  3.44it/s]    Rate limit exceeded. Sleeping for 809 seconds.\n",
      "batch:  67%|██████▋   | 36600/54582 [30:19:09<1:42:48,  2.92it/s]    Rate limit exceeded. Sleeping for 801 seconds.\n",
      "batch:  68%|██████▊   | 36900/54582 [30:34:09<1:40:12,  2.94it/s]    Rate limit exceeded. Sleeping for 802 seconds.\n",
      "batch:  68%|██████▊   | 37200/54582 [30:49:11<1:41:15,  2.86it/s]    Rate limit exceeded. Sleeping for 801 seconds.\n",
      "batch:  69%|██████▊   | 37500/54582 [31:04:11<1:34:42,  3.01it/s]    Rate limit exceeded. Sleeping for 802 seconds.\n",
      "batch:  69%|██████▉   | 37800/54582 [31:19:14<1:34:13,  2.97it/s]    Rate limit exceeded. Sleeping for 800 seconds.\n",
      "batch:  70%|██████▉   | 38100/54582 [31:34:12<1:28:58,  3.09it/s]    Rate limit exceeded. Sleeping for 803 seconds.\n",
      "batch:  70%|███████   | 38400/54582 [31:49:17<1:28:06,  3.06it/s]    Rate limit exceeded. Sleeping for 798 seconds.\n",
      "batch:  71%|███████   | 38700/54582 [32:04:17<1:28:26,  2.99it/s]    Rate limit exceeded. Sleeping for 800 seconds.\n",
      "batch:  71%|███████▏  | 39000/54582 [32:19:16<1:27:09,  2.98it/s]    Rate limit exceeded. Sleeping for 802 seconds.\n",
      "batch:  72%|███████▏  | 39300/54582 [32:34:17<1:26:24,  2.95it/s]    Rate limit exceeded. Sleeping for 801 seconds.\n",
      "batch:  73%|███████▎  | 39600/54582 [32:49:19<1:19:33,  3.14it/s]    Rate limit exceeded. Sleeping for 801 seconds.\n",
      "batch:  73%|███████▎  | 39900/54582 [33:04:24<1:24:08,  2.91it/s]    Rate limit exceeded. Sleeping for 796 seconds.\n",
      "batch:  74%|███████▎  | 40200/54582 [33:19:21<1:21:38,  2.94it/s]   Rate limit exceeded. Sleeping for 801 seconds.\n",
      "batch:  74%|███████▍  | 40500/54582 [33:34:21<1:19:27,  2.95it/s]   Rate limit exceeded. Sleeping for 802 seconds.\n",
      "batch:  75%|███████▍  | 40800/54582 [33:49:30<1:52:30,  2.04it/s]   Rate limit exceeded. Sleeping for 795 seconds.\n",
      "batch:  75%|███████▌  | 41100/54582 [34:04:28<1:15:05,  2.99it/s]   Rate limit exceeded. Sleeping for 799 seconds.\n",
      "batch:  76%|███████▌  | 41400/54582 [34:19:32<1:15:29,  2.91it/s]   Rate limit exceeded. Sleeping for 795 seconds.\n",
      "batch:  76%|███████▋  | 41700/54582 [34:34:32<1:11:13,  3.01it/s]   Rate limit exceeded. Sleeping for 797 seconds.\n",
      "batch:  77%|███████▋  | 42000/54582 [34:49:30<1:11:38,  2.93it/s]   Rate limit exceeded. Sleeping for 799 seconds.\n",
      "batch:  77%|███████▋  | 42300/54582 [35:04:33<1:11:11,  2.88it/s]   Rate limit exceeded. Sleeping for 797 seconds.\n",
      "batch:  78%|███████▊  | 42600/54582 [35:19:33<1:04:17,  3.11it/s]   Rate limit exceeded. Sleeping for 799 seconds.\n",
      "batch:  79%|███████▊  | 42900/54582 [35:34:33<1:03:24,  3.07it/s]   Rate limit exceeded. Sleeping for 800 seconds.\n",
      "batch:  79%|███████▉  | 43200/54582 [35:49:36<1:11:31,  2.65it/s]   Rate limit exceeded. Sleeping for 798 seconds.\n",
      "batch:  80%|███████▉  | 43500/54582 [36:04:37<1:02:37,  2.95it/s]   Rate limit exceeded. Sleeping for 797 seconds.\n",
      "batch:  80%|████████  | 43800/54582 [36:19:43<1:04:35,  2.78it/s]   Rate limit exceeded. Sleeping for 792 seconds.\n",
      "batch:  81%|████████  | 44100/54582 [36:34:37<58:30,  2.99it/s]     Rate limit exceeded. Sleeping for 799 seconds.\n",
      "batch:  81%|████████▏ | 44400/54582 [36:49:41<1:07:00,  2.53it/s]   Rate limit exceeded. Sleeping for 797 seconds.\n",
      "batch:  82%|████████▏ | 44700/54582 [37:04:45<1:03:15,  2.60it/s]   Rate limit exceeded. Sleeping for 794 seconds.\n",
      "batch:  82%|████████▏ | 45000/54582 [37:19:45<56:27,  2.83it/s]     Rate limit exceeded. Sleeping for 796 seconds.\n",
      "batch:  83%|████████▎ | 45300/54582 [37:34:43<51:24,  3.01it/s]     Rate limit exceeded. Sleeping for 799 seconds.\n",
      "batch:  84%|████████▎ | 45600/54582 [37:49:45<50:09,  2.98it/s]     Rate limit exceeded. Sleeping for 799 seconds.\n",
      "batch:  84%|████████▍ | 45900/54582 [38:04:49<48:57,  2.96it/s]     Rate limit exceeded. Sleeping for 796 seconds.\n",
      "batch:  85%|████████▍ | 46200/54582 [38:19:50<46:19,  3.02it/s]     Rate limit exceeded. Sleeping for 797 seconds.\n",
      "batch:  85%|████████▌ | 46500/54582 [38:34:48<50:55,  2.64it/s]     Rate limit exceeded. Sleeping for 799 seconds.\n",
      "batch:  86%|████████▌ | 46800/54582 [38:49:47<41:57,  3.09it/s]     Rate limit exceeded. Sleeping for 802 seconds.\n",
      "batch:  86%|████████▋ | 47100/54582 [39:04:47<39:59,  3.12it/s]     Rate limit exceeded. Sleeping for 804 seconds.\n",
      "batch:  87%|████████▋ | 47368/54582 [39:19:39<39:30,  3.04it/s]     "
     ]
    },
    {
     "name": "stdout",
     "output_type": "stream",
     "text": [
      "503 Service Unavailable\n",
      "Service Unavailable\n"
     ]
    },
    {
     "name": "stderr",
     "output_type": "stream",
     "text": [
      "batch:  87%|████████▋ | 47400/54582 [39:20:50<42:45,  2.80it/s]   Rate limit exceeded. Sleeping for 742 seconds.\n",
      "batch:  87%|████████▋ | 47700/54582 [39:34:49<37:04,  3.09it/s]     Rate limit exceeded. Sleeping for 804 seconds.\n",
      "batch:  88%|████████▊ | 48000/54582 [39:49:52<34:52,  3.15it/s]     Rate limit exceeded. Sleeping for 803 seconds.\n",
      "batch:  88%|████████▊ | 48300/54582 [40:04:51<33:39,  3.11it/s]     Rate limit exceeded. Sleeping for 806 seconds.\n",
      "batch:  89%|████████▉ | 48600/54582 [40:19:54<34:01,  2.93it/s]     Rate limit exceeded. Sleeping for 804 seconds.\n",
      "batch:  90%|████████▉ | 48900/54582 [40:34:50<28:59,  3.27it/s]     Rate limit exceeded. Sleeping for 809 seconds.\n",
      "batch:  90%|█████████ | 49200/54582 [40:49:57<33:56,  2.64it/s]     Rate limit exceeded. Sleeping for 803 seconds.\n",
      "batch:  91%|█████████ | 49500/54582 [41:04:52<24:57,  3.39it/s]     Rate limit exceeded. Sleeping for 810 seconds.\n",
      "batch:  91%|█████████ | 49800/54582 [41:19:53<24:17,  3.28it/s]     Rate limit exceeded. Sleeping for 810 seconds.\n",
      "batch:  92%|█████████▏| 50100/54582 [41:34:55<24:50,  3.01it/s]     Rate limit exceeded. Sleeping for 809 seconds.\n",
      "batch:  92%|█████████▏| 50400/54582 [41:49:55<20:27,  3.41it/s]     Rate limit exceeded. Sleeping for 810 seconds.\n",
      "batch:  93%|█████████▎| 50700/54582 [42:04:59<19:36,  3.30it/s]     Rate limit exceeded. Sleeping for 808 seconds.\n",
      "batch:  93%|█████████▎| 51000/54582 [42:20:00<18:20,  3.26it/s]     Rate limit exceeded. Sleeping for 807 seconds.\n",
      "batch:  94%|█████████▍| 51300/54582 [42:34:59<15:53,  3.44it/s]     Rate limit exceeded. Sleeping for 809 seconds.\n",
      "batch:  95%|█████████▍| 51600/54582 [42:49:59<15:41,  3.17it/s]     Rate limit exceeded. Sleeping for 811 seconds.\n",
      "batch:  95%|█████████▌| 51900/54582 [43:05:01<13:19,  3.36it/s]     Rate limit exceeded. Sleeping for 810 seconds.\n",
      "batch:  96%|█████████▌| 52200/54582 [43:20:05<11:50,  3.35it/s]     Rate limit exceeded. Sleeping for 807 seconds.\n",
      "batch:  96%|█████████▌| 52500/54582 [43:35:05<10:44,  3.23it/s]     Rate limit exceeded. Sleeping for 808 seconds.\n",
      "batch:  97%|█████████▋| 52800/54582 [43:50:07<08:51,  3.35it/s]     Rate limit exceeded. Sleeping for 806 seconds.\n",
      "batch:  97%|█████████▋| 53100/54582 [44:05:02<07:24,  3.33it/s]     Rate limit exceeded. Sleeping for 813 seconds.\n",
      "batch:  98%|█████████▊| 53400/54582 [44:20:02<05:49,  3.38it/s]     Rate limit exceeded. Sleeping for 814 seconds.\n",
      "batch:  98%|█████████▊| 53700/54582 [44:35:03<04:19,  3.39it/s]    Rate limit exceeded. Sleeping for 814 seconds.\n",
      "batch:  99%|█████████▉| 54000/54582 [44:50:05<02:57,  3.28it/s]    Rate limit exceeded. Sleeping for 813 seconds.\n",
      "batch:  99%|█████████▉| 54300/54582 [45:05:05<01:29,  3.14it/s]    Rate limit exceeded. Sleeping for 815 seconds.\n",
      "batch: 100%|██████████| 54582/54582 [45:20:02<00:00,  2.99s/it]    \n"
     ]
    }
   ],
   "source": [
    "out_path = os.path.join(DATA_PATH, 'followers_rehydrated.jsonl')\n",
    "already_scraped = set()\n",
    "if os.path.exists(out_path):\n",
    "    with open(out_path) as f:\n",
    "        already_scraped = {json.loads(l)['id'] for l in f}\n",
    "print(f\"found {len(already_scraped)} users\")\n",
    "\n",
    "with open(out_path, 'a+', encoding='utf8') as f:\n",
    "    ids_ = [id_ for id_ in ids if id_ not in already_scraped]\n",
    "    for chunk in tqdm(divide_chunks(ids_, 100), desc='batch', total = len(ids_)//100+bool(len(ids_)%100)):\n",
    "        user_fields = ['created_at','description','entities','id','location','name','pinned_tweet_id','profile_image_url','protected','public_metrics','url','username','verified','withheld']\n",
    "        try:\n",
    "            returned = client.get_users(ids=chunk, user_fields=user_fields)\n",
    "            for user in returned.data:\n",
    "                f.write(json.dumps(user.data)+'\\n')\n",
    "        except TweepyException as e:\n",
    "            print(e)\n",
    "            errors.extend(chunk)\n",
    "            time.sleep(60)\n"
   ],
   "metadata": {
    "collapsed": false
   }
  },
  {
   "cell_type": "code",
   "execution_count": 24,
   "outputs": [
    {
     "data": {
      "text/plain": "300"
     },
     "execution_count": 24,
     "metadata": {},
     "output_type": "execute_result"
    }
   ],
   "source": [
    "len(errors)"
   ],
   "metadata": {
    "collapsed": false
   }
  },
  {
   "cell_type": "code",
   "execution_count": 26,
   "outputs": [
    {
     "name": "stderr",
     "output_type": "stream",
     "text": [
      "batch: 100%|██████████| 3/3 [00:00<00:00,  3.21it/s]\n"
     ]
    }
   ],
   "source": [
    "with open(out_path, 'a', encoding='utf8') as f:\n",
    "    for chunk in tqdm(divide_chunks(errors, 100), desc='batch', total = len(errors)//100+bool(len(errors)%100)):\n",
    "        user_fields = ['created_at','description','entities','id','location','name','pinned_tweet_id','profile_image_url','protected','public_metrics','url','username','verified','withheld']\n",
    "        try:\n",
    "            returned = client.get_users(ids=chunk, user_fields=user_fields)\n",
    "            for user in returned.data:\n",
    "                f.write(json.dumps(user.data)+'\\n')\n",
    "        except TweepyException as e:\n",
    "            print(e)\n",
    "            errors.extend(chunk)\n",
    "            time.sleep(60)"
   ],
   "metadata": {
    "collapsed": false
   }
  },
  {
   "cell_type": "code",
   "execution_count": 27,
   "outputs": [
    {
     "name": "stdout",
     "output_type": "stream",
     "text": [
      "found 5456127 users\n"
     ]
    }
   ],
   "source": [
    "already_scraped = set()\n",
    "if os.path.exists(out_path):\n",
    "    with open(out_path) as f:\n",
    "        already_scraped = {json.loads(l)['id'] for l in f}\n",
    "print(f\"found {len(already_scraped)} users\")"
   ],
   "metadata": {
    "collapsed": false
   }
  },
  {
   "cell_type": "code",
   "execution_count": null,
   "outputs": [],
   "source": [],
   "metadata": {
    "collapsed": false
   }
  }
 ],
 "metadata": {
  "kernelspec": {
   "display_name": "Python 3",
   "language": "python",
   "name": "python3"
  },
  "language_info": {
   "codemirror_mode": {
    "name": "ipython",
    "version": 2
   },
   "file_extension": ".py",
   "mimetype": "text/x-python",
   "name": "python",
   "nbconvert_exporter": "python",
   "pygments_lexer": "ipython2",
   "version": "2.7.6"
  }
 },
 "nbformat": 4,
 "nbformat_minor": 0
}
