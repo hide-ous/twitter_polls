{
 "cells": [
  {
   "cell_type": "code",
   "execution_count": 1,
   "metadata": {
    "collapsed": true
   },
   "outputs": [
    {
     "data": {
      "text/plain": "True"
     },
     "execution_count": 1,
     "metadata": {},
     "output_type": "execute_result"
    }
   ],
   "source": [
    "import json\n",
    "import time\n",
    "\n",
    "import pandas as pd\n",
    "from tqdm import tqdm\n",
    "import tweepy\n",
    "from dotenv import load_dotenv\n",
    "import os\n",
    "\n",
    "from tweepy import TweepyException\n",
    "\n",
    "from utils import divide_chunks\n",
    "\n",
    "load_dotenv()  # take environment variables from .env."
   ]
  },
  {
   "cell_type": "code",
   "execution_count": 2,
   "outputs": [],
   "source": [
    "USER_FIELDS = ['created_at','description','entities','id','location','name','pinned_tweet_id','profile_image_url','protected','public_metrics','url','username','verified','withheld']\n",
    "BATCH_SIZE=100\n",
    "def get_profiles(ids, client, out_path, error_path, user_fields=USER_FIELDS, batch_size=BATCH_SIZE):\n",
    "    errors = list()\n",
    "\n",
    "    with open(out_path, 'a+', encoding='utf8') as f, open(error_path, 'a+', encoding='utf8') as err:\n",
    "\n",
    "        for chunk in tqdm(divide_chunks(ids, batch_size), desc='batch', total = len(ids)//batch_size+bool(len(ids)%batch_size)):\n",
    "            try:\n",
    "                returned = client.get_users(ids=chunk, user_fields=user_fields)\n",
    "                for user in returned.data:\n",
    "                    f.write(json.dumps(user.data)+'\\n')\n",
    "                for error in returned.errors:\n",
    "                    err.write(json.dumps(error)+'\\n')\n",
    "            except TweepyException as e:\n",
    "                print(e)\n",
    "                errors.extend(chunk)\n",
    "                time.sleep(60)\n",
    "    return errors"
   ],
   "metadata": {
    "collapsed": false
   }
  },
  {
   "cell_type": "code",
   "execution_count": 3,
   "outputs": [],
   "source": [
    "client = tweepy.Client(bearer_token=os.environ['BEARER'],\n",
    "                       wait_on_rate_limit=True,)\n",
    "# with API rather than client, could add                        retry_count=10, retry_delay=60, retry_errors=set([503])"
   ],
   "metadata": {
    "collapsed": false
   }
  },
  {
   "cell_type": "code",
   "execution_count": 4,
   "outputs": [],
   "source": [
    "DATA_PATH = 'data'\n",
    "YEARS = [2016, 2020]\n",
    "ids = set()\n",
    "for year in YEARS:\n",
    "    with open(os.path.join(DATA_PATH, f'follower_lists_{year}.jsonl')) as f:\n",
    "        for l in f:\n",
    "            for _, ids_ in json.loads(l).items():\n",
    "                ids.update(ids_)\n",
    "ids = list(ids)"
   ],
   "metadata": {
    "collapsed": false
   }
  },
  {
   "cell_type": "code",
   "execution_count": 5,
   "outputs": [
    {
     "data": {
      "text/plain": "12439182"
     },
     "execution_count": 5,
     "metadata": {},
     "output_type": "execute_result"
    }
   ],
   "source": [
    "len(ids)"
   ],
   "metadata": {
    "collapsed": false
   }
  },
  {
   "cell_type": "code",
   "execution_count": 6,
   "outputs": [
    {
     "name": "stdout",
     "output_type": "stream",
     "text": [
      "12439182 users were already scraped\n",
      "0 users left to scrape\n"
     ]
    }
   ],
   "source": [
    "out_path = os.path.join(DATA_PATH, 'followers_rehydrated.jsonl')\n",
    "err_path = os.path.join(DATA_PATH, 'followers_missing.jsonl')\n",
    "already_scraped = set()\n",
    "if os.path.exists(out_path):\n",
    "    with open(out_path) as f:\n",
    "        already_scraped = {json.loads(l)['id'] for l in f}\n",
    "if os.path.exists(err_path):\n",
    "    with open(err_path) as f:\n",
    "        already_scraped.update({json.loads(l)['resource_id'] for l in f})\n",
    "already_scraped = set(map(int, already_scraped))\n",
    "print(f\"{len(already_scraped)} users were already scraped\")\n",
    "\n",
    "ids_ = [id_ for id_ in ids if id_ not in already_scraped]\n",
    "print(f\"{len(ids_)} users left to scrape\")\n"
   ],
   "metadata": {
    "collapsed": false
   }
  },
  {
   "cell_type": "code",
   "execution_count": 45,
   "outputs": [
    {
     "name": "stderr",
     "output_type": "stream",
     "text": [
      "batch: 100%|██████████| 6/6 [00:02<00:00,  2.58it/s]\n"
     ]
    }
   ],
   "source": [
    "errors = get_profiles(ids=ids_, client=client, out_path=out_path, error_path=err_path)"
   ],
   "metadata": {
    "collapsed": false
   }
  },
  {
   "cell_type": "code",
   "execution_count": 46,
   "outputs": [
    {
     "name": "stdout",
     "output_type": "stream",
     "text": [
      "0\n"
     ]
    }
   ],
   "source": [
    "print(len(errors))"
   ],
   "metadata": {
    "collapsed": false
   }
  },
  {
   "cell_type": "code",
   "execution_count": 33,
   "outputs": [
    {
     "name": "stderr",
     "output_type": "stream",
     "text": [
      "batch: 100%|██████████| 2/2 [00:00<00:00,  3.16it/s]\n"
     ]
    }
   ],
   "source": [
    "other_errors = get_profiles(ids=errors, client=client, out_path=out_path, error_path=err_path)"
   ],
   "metadata": {
    "collapsed": false
   }
  },
  {
   "cell_type": "code",
   "execution_count": null,
   "outputs": [],
   "source": [],
   "metadata": {
    "collapsed": false
   }
  },
  {
   "cell_type": "code",
   "execution_count": 10,
   "outputs": [
    {
     "data": {
      "text/plain": "8157"
     },
     "execution_count": 10,
     "metadata": {},
     "output_type": "execute_result"
    }
   ],
   "source": [
    "replies = dict()\n",
    "for fname in ['reply_2016.json', 'reply_2020.json', 'retweet_2016.json', 'retweet_2020.json']:\n",
    "    with open(os.path.join(DATA_PATH, fname)) as f:\n",
    "        replies.update(json.load(f))\n",
    "repliers = list(set(filter(lambda x: x is not None, [vv.get('id', None) for k, v in replies.items() for vv in v])))\n",
    "len(repliers)"
   ],
   "metadata": {
    "collapsed": false
   }
  },
  {
   "cell_type": "code",
   "execution_count": 11,
   "outputs": [
    {
     "name": "stderr",
     "output_type": "stream",
     "text": [
      "batch: 100%|██████████| 82/82 [00:30<00:00,  2.65it/s]\n"
     ]
    }
   ],
   "source": [
    "out_path = os.path.join(DATA_PATH, 'repliers_rehydrated.jsonl')\n",
    "err_path = os.path.join(DATA_PATH, 'repliers_missing.jsonl')\n",
    "follower_errors = get_profiles(ids=repliers, client=client, out_path=out_path, error_path=err_path)"
   ],
   "metadata": {
    "collapsed": false
   }
  },
  {
   "cell_type": "code",
   "execution_count": 13,
   "outputs": [
    {
     "data": {
      "text/plain": "0"
     },
     "execution_count": 13,
     "metadata": {},
     "output_type": "execute_result"
    }
   ],
   "source": [
    "len(follower_errors)"
   ],
   "metadata": {
    "collapsed": false
   }
  },
  {
   "cell_type": "code",
   "execution_count": 15,
   "outputs": [
    {
     "name": "stdout",
     "output_type": "stream",
     "text": [
      "1024\n"
     ]
    }
   ],
   "source": [
    "author_ids = set()\n",
    "for year in YEARS:\n",
    "    with open(os.path.join(DATA_PATH, f'polls-{year}.json')) as f:\n",
    "        polls = json.load(f)\n",
    "    author_ids.update([poll['meta']['author_id'] for poll in filter(lambda x: x['type']=='twitter', polls)])\n",
    "author_ids = list(author_ids)\n",
    "print(len(author_ids))"
   ],
   "metadata": {
    "collapsed": false
   }
  },
  {
   "cell_type": "code",
   "execution_count": 16,
   "outputs": [
    {
     "name": "stderr",
     "output_type": "stream",
     "text": [
      "batch: 100%|██████████| 11/11 [00:04<00:00,  2.51it/s]\n"
     ]
    }
   ],
   "source": [
    "out_path = os.path.join(DATA_PATH, 'authors_rehydrated.jsonl')\n",
    "err_path = os.path.join(DATA_PATH, 'author_profiles_missing.jsonl')\n",
    "author_errors = get_profiles(ids=author_ids, client=client, out_path=out_path, error_path=err_path)"
   ],
   "metadata": {
    "collapsed": false
   }
  },
  {
   "cell_type": "code",
   "execution_count": 17,
   "outputs": [
    {
     "data": {
      "text/plain": "0"
     },
     "execution_count": 17,
     "metadata": {},
     "output_type": "execute_result"
    }
   ],
   "source": [
    "len(author_errors)"
   ],
   "metadata": {
    "collapsed": false
   }
  }
 ],
 "metadata": {
  "kernelspec": {
   "display_name": "Python 3",
   "language": "python",
   "name": "python3"
  },
  "language_info": {
   "codemirror_mode": {
    "name": "ipython",
    "version": 2
   },
   "file_extension": ".py",
   "mimetype": "text/x-python",
   "name": "python",
   "nbconvert_exporter": "python",
   "pygments_lexer": "ipython2",
   "version": "2.7.6"
  }
 },
 "nbformat": 4,
 "nbformat_minor": 0
}
