{
 "cells": [
  {
   "cell_type": "code",
   "execution_count": 1,
   "metadata": {
    "collapsed": true
   },
   "outputs": [
    {
     "data": {
      "text/plain": "True"
     },
     "execution_count": 1,
     "metadata": {},
     "output_type": "execute_result"
    }
   ],
   "source": [
    "import json\n",
    "\n",
    "import pandas as pd\n",
    "from tqdm import tqdm\n",
    "import tweepy\n",
    "from dotenv import load_dotenv\n",
    "import os\n",
    "\n",
    "from utils import divide_chunks\n",
    "\n",
    "load_dotenv()  # take environment variables from .env."
   ]
  },
  {
   "cell_type": "code",
   "execution_count": 2,
   "outputs": [],
   "source": [
    "client = tweepy.Client(bearer_token=os.environ['BEARER'],\n",
    "                       wait_on_rate_limit=True)"
   ],
   "metadata": {
    "collapsed": false
   }
  },
  {
   "cell_type": "code",
   "execution_count": 3,
   "outputs": [
    {
     "data": {
      "text/plain": "                  name                                        description  \\\n0     Beautiful flower  Like fitness do yoga, Play golf for fun not pr...   \n1         Elisa Fenlon                                                      \n2       Alecia Delbene                                 🙊Trampoline🧡Artist   \n3    Charleigh Pottier                                                      \n4  Catherine Seagroves                                                      \n\n                                   profile_image_url                   id  \\\n0  https://pbs.twimg.com/profile_images/160820000...  1596715669684363264   \n1  https://pbs.twimg.com/profile_images/159954889...  1599548681694466049   \n2  https://pbs.twimg.com/profile_images/155788042...  1557880267653533696   \n3  https://pbs.twimg.com/profile_images/155937871...  1559378560384507904   \n4  https://pbs.twimg.com/profile_images/158861629...  1588616089159843844   \n\n          username    follows withheld  \n0   Alyssa12348597  120664539      NaN  \n1      ElisaFenlon  120664539      NaN  \n2    AleciaDelbene  120664539      NaN  \n3  CharleighPotti1  120664539      NaN  \n4  CatherineSeagr8  120664539      NaN  ",
      "text/html": "<div>\n<style scoped>\n    .dataframe tbody tr th:only-of-type {\n        vertical-align: middle;\n    }\n\n    .dataframe tbody tr th {\n        vertical-align: top;\n    }\n\n    .dataframe thead th {\n        text-align: right;\n    }\n</style>\n<table border=\"1\" class=\"dataframe\">\n  <thead>\n    <tr style=\"text-align: right;\">\n      <th></th>\n      <th>name</th>\n      <th>description</th>\n      <th>profile_image_url</th>\n      <th>id</th>\n      <th>username</th>\n      <th>follows</th>\n      <th>withheld</th>\n    </tr>\n  </thead>\n  <tbody>\n    <tr>\n      <th>0</th>\n      <td>Beautiful flower</td>\n      <td>Like fitness do yoga, Play golf for fun not pr...</td>\n      <td>https://pbs.twimg.com/profile_images/160820000...</td>\n      <td>1596715669684363264</td>\n      <td>Alyssa12348597</td>\n      <td>120664539</td>\n      <td>NaN</td>\n    </tr>\n    <tr>\n      <th>1</th>\n      <td>Elisa Fenlon</td>\n      <td></td>\n      <td>https://pbs.twimg.com/profile_images/159954889...</td>\n      <td>1599548681694466049</td>\n      <td>ElisaFenlon</td>\n      <td>120664539</td>\n      <td>NaN</td>\n    </tr>\n    <tr>\n      <th>2</th>\n      <td>Alecia Delbene</td>\n      <td>🙊Trampoline🧡Artist</td>\n      <td>https://pbs.twimg.com/profile_images/155788042...</td>\n      <td>1557880267653533696</td>\n      <td>AleciaDelbene</td>\n      <td>120664539</td>\n      <td>NaN</td>\n    </tr>\n    <tr>\n      <th>3</th>\n      <td>Charleigh Pottier</td>\n      <td></td>\n      <td>https://pbs.twimg.com/profile_images/155937871...</td>\n      <td>1559378560384507904</td>\n      <td>CharleighPotti1</td>\n      <td>120664539</td>\n      <td>NaN</td>\n    </tr>\n    <tr>\n      <th>4</th>\n      <td>Catherine Seagroves</td>\n      <td></td>\n      <td>https://pbs.twimg.com/profile_images/158861629...</td>\n      <td>1588616089159843844</td>\n      <td>CatherineSeagr8</td>\n      <td>120664539</td>\n      <td>NaN</td>\n    </tr>\n  </tbody>\n</table>\n</div>"
     },
     "execution_count": 3,
     "metadata": {},
     "output_type": "execute_result"
    }
   ],
   "source": [
    "DATA_PATH = 'data'\n",
    "users_path = os.path.join(DATA_PATH, 'followers_2016.jsonl')\n",
    "with open(users_path, encoding='utf8') as f:\n",
    "    users = pd.concat(\n",
    "        pd.DataFrame([dict(follower, **{'follows':pollster}) for follower in followers])\n",
    "        for l in f for pollster, followers in json.loads(l).items()\n",
    "    )\n",
    "users.head()"
   ],
   "metadata": {
    "collapsed": false
   }
  },
  {
   "cell_type": "code",
   "execution_count": 4,
   "outputs": [
    {
     "data": {
      "text/plain": "['1596715669684363264', '1599548681694466049', '1557880267653533696']"
     },
     "execution_count": 4,
     "metadata": {},
     "output_type": "execute_result"
    }
   ],
   "source": [
    "# Replace User IDs\n",
    "ids = users.id.tolist()\n",
    "ids[:3]"
   ],
   "metadata": {
    "collapsed": false
   }
  },
  {
   "cell_type": "code",
   "execution_count": 5,
   "outputs": [
    {
     "data": {
      "text/plain": "44618"
     },
     "execution_count": 5,
     "metadata": {},
     "output_type": "execute_result"
    }
   ],
   "source": [
    "len(ids)"
   ],
   "metadata": {
    "collapsed": false
   }
  },
  {
   "cell_type": "code",
   "execution_count": 9,
   "outputs": [
    {
     "name": "stderr",
     "output_type": "stream",
     "text": [
      "batch:  67%|██████▋   | 300/447 [02:01<00:59,  2.47it/s]Rate limit exceeded. Sleeping for 780 seconds.\n",
      "batch: 100%|██████████| 447/447 [16:00<00:00,  2.15s/it]   \n"
     ]
    }
   ],
   "source": [
    "with open(os.path.join(DATA_PATH, 'followers_2016_rehydrated.jsonl'), 'w+', encoding='utf8') as f:\n",
    "    for chunk in tqdm(divide_chunks(ids, 100), desc='batch', total = len(ids)//100+bool(len(ids)%100)):\n",
    "        user_fields = ['created_at','description','entities','id','location','name','pinned_tweet_id','profile_image_url','protected','public_metrics','url','username','verified','withheld']\n",
    "        returned = client.get_users(ids=chunk, user_fields=user_fields)\n",
    "        for user in returned.data:\n",
    "            f.write(json.dumps(user.data)+'\\n')"
   ],
   "metadata": {
    "collapsed": false
   }
  },
  {
   "cell_type": "code",
   "execution_count": null,
   "outputs": [],
   "source": [],
   "metadata": {
    "collapsed": false
   }
  }
 ],
 "metadata": {
  "kernelspec": {
   "display_name": "Python 3",
   "language": "python",
   "name": "python3"
  },
  "language_info": {
   "codemirror_mode": {
    "name": "ipython",
    "version": 2
   },
   "file_extension": ".py",
   "mimetype": "text/x-python",
   "name": "python",
   "nbconvert_exporter": "python",
   "pygments_lexer": "ipython2",
   "version": "2.7.6"
  }
 },
 "nbformat": 4,
 "nbformat_minor": 0
}
