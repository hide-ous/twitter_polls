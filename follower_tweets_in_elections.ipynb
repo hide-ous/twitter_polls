{
 "cells": [
  {
   "cell_type": "code",
   "execution_count": 1,
   "outputs": [],
   "source": [
    "import datetime\n",
    "import json\n",
    "import os\n",
    "import time\n",
    "\n",
    "from tqdm import tqdm\n",
    "from tweepy import TweepyException\n",
    "\n",
    "from data_utils import DATA_PATH\n",
    "from twitter_utils import get_client"
   ],
   "metadata": {
    "collapsed": false
   }
  },
  {
   "cell_type": "code",
   "execution_count": null,
   "outputs": [],
   "source": [
    "ids = set()\n",
    "year = 2016\n",
    "with open(os.path.join('data', f'follower_lists_{year}.jsonl')) as f:\n",
    "    for l in f:\n",
    "        for _, ids_ in json.loads(l).items():\n",
    "            ids.update(ids_)\n",
    "\n",
    "accounts = list() #id, username, tweet_count\n",
    "with open('data/followers_rehydrated.jsonl') as f:\n",
    "    for l in f:\n",
    "        account = json.loads(l)\n",
    "        if int(account['id']) in ids:\n",
    "            accounts.append((account['id'],account['username'],account[\"public_metrics\"][\"tweet_count\"]))"
   ],
   "metadata": {
    "collapsed": false,
    "pycharm": {
     "is_executing": true
    }
   }
  },
  {
   "cell_type": "code",
   "execution_count": null,
   "outputs": [],
   "source": [
    "accounts_100plus = set(filter(lambda x:x[2]>100,accounts))"
   ],
   "metadata": {
    "collapsed": false,
    "pycharm": {
     "is_executing": true
    }
   }
  },
  {
   "cell_type": "code",
   "execution_count": null,
   "outputs": [],
   "source": [
    "queries = list()\n",
    "\n",
    "while(len(accounts_100plus)):\n",
    "    query = '-is:retweet '\n",
    "    while len(query)<=1024:\n",
    "        if not len(accounts_100plus):\n",
    "            break\n",
    "        next_user= accounts_100plus.pop()\n",
    "        next_username=f\"from:{next_user[1]} OR \"\n",
    "        if (len(query)+len(next_username)>1024):\n",
    "            query = query[:-len(\" OR \")]\n",
    "            accounts_100plus.add(next_user)\n",
    "            break\n",
    "        else:\n",
    "            query+=next_username\n",
    "    queries.append(query)"
   ],
   "metadata": {
    "collapsed": false,
    "pycharm": {
     "is_executing": true
    }
   }
  },
  {
   "cell_type": "code",
   "execution_count": null,
   "outputs": [],
   "source": [
    "window = 5\n",
    "start_date = datetime.datetime(2016, 11, 8-window, 0, 0, 0)\n",
    "end_date =   datetime.datetime(2016, 11, 8+window, 0, 0, 0)\n"
   ],
   "metadata": {
    "collapsed": false,
    "pycharm": {
     "is_executing": true
    }
   }
  },
  {
   "cell_type": "code",
   "execution_count": null,
   "outputs": [],
   "source": [
    "client = get_client()\n"
   ],
   "metadata": {
    "collapsed": false,
    "pycharm": {
     "is_executing": true
    }
   }
  },
  {
   "cell_type": "code",
   "execution_count": null,
   "outputs": [],
   "source": [
    "out_path = os.path.join(DATA_PATH, f'election_tweets_{year}.jsonl')\n",
    "errors = list()"
   ],
   "metadata": {
    "collapsed": false,
    "pycharm": {
     "is_executing": true
    }
   }
  },
  {
   "cell_type": "code",
   "execution_count": null,
   "outputs": [],
   "source": [
    "with open(out_path, 'a+') as f:\n",
    "    for query in tqdm(queries, desc='processing queries'):\n",
    "        done = False\n",
    "        next_token = None\n",
    "        while not done:\n",
    "            try:\n",
    "                res = client.search_all_tweets(query=query, end_time=end_date, next_token=next_token, start_time=start_date, max_results=500, \\\n",
    "                                               place_fields = ['id','full_name', 'country', 'geo', 'name', 'place_type'],\n",
    "                                             tweet_fields = ['id', 'created_at', 'geo', 'public_metrics', 'text', 'edit_history_tweet_ids', 'attachments', 'author_id',  'conversation_id', 'entities', 'in_reply_to_user_id', 'lang', 'possibly_sensitive', 'referenced_tweets', 'reply_settings', 'source', 'withheld'], # missing edit controls and  other fields that require user auth, 'context_annotations' requires <100 results\n",
    "                            media_fields=None,  \\\n",
    "                            poll_fields=None, since_id=None, sort_order=None, \\\n",
    "                            until_id=None, \\\n",
    "                            user_fields=None)\n",
    "                for tweet in res.data:\n",
    "                    f.write(json.dumps(tweet.data, sort_keys=True)+'\\n')\n",
    "                next_token = res.meta.get('next_token', None)\n",
    "                if not next_token:\n",
    "                    done=True\n",
    "\n",
    "            except TweepyException as e:\n",
    "                print(e)\n",
    "                errors.extend(query)\n",
    "                time.sleep(60)\n",
    "                done=True"
   ],
   "metadata": {
    "collapsed": false,
    "pycharm": {
     "is_executing": true
    }
   }
  },
  {
   "cell_type": "code",
   "execution_count": null,
   "outputs": [],
   "source": [],
   "metadata": {
    "collapsed": false
   }
  }
 ],
 "metadata": {
  "kernelspec": {
   "display_name": "Python 3",
   "language": "python",
   "name": "python3"
  },
  "language_info": {
   "codemirror_mode": {
    "name": "ipython",
    "version": 2
   },
   "file_extension": ".py",
   "mimetype": "text/x-python",
   "name": "python",
   "nbconvert_exporter": "python",
   "pygments_lexer": "ipython2",
   "version": "2.7.6"
  }
 },
 "nbformat": 4,
 "nbformat_minor": 0
}
