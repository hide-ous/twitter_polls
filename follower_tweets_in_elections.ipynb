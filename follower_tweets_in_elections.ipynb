{
 "cells": [
  {
   "cell_type": "code",
   "execution_count": 1,
   "outputs": [],
   "source": [
    "import datetime\n",
    "import json\n",
    "import os\n",
    "import time\n",
    "\n",
    "from tqdm import tqdm\n",
    "from tweepy import TweepyException\n",
    "\n",
    "from data_utils import DATA_PATH\n",
    "from twitter_utils import get_client"
   ],
   "metadata": {
    "collapsed": false
   }
  },
  {
   "cell_type": "code",
   "execution_count": 2,
   "outputs": [],
   "source": [
    "ids = set()\n",
    "year = 2016\n",
    "with open(os.path.join('data', f'follower_lists_{year}.jsonl')) as f:\n",
    "    for l in f:\n",
    "        for _, ids_ in json.loads(l).items():\n",
    "            ids.update(ids_)\n",
    "\n",
    "accounts = list() #id, username, tweet_count\n",
    "with open('data/followers_rehydrated.jsonl') as f:\n",
    "    for l in f:\n",
    "        account = json.loads(l)\n",
    "        if int(account['id']) in ids:\n",
    "            accounts.append((account['id'],account['username'],account[\"public_metrics\"][\"tweet_count\"]))"
   ],
   "metadata": {
    "collapsed": false
   }
  },
  {
   "cell_type": "code",
   "execution_count": 3,
   "outputs": [],
   "source": [
    "accounts_100plus = set(filter(lambda x:x[2]>100,accounts))"
   ],
   "metadata": {
    "collapsed": false
   }
  },
  {
   "cell_type": "code",
   "execution_count": 4,
   "outputs": [],
   "source": [
    "queries = list()\n",
    "\n",
    "while(len(accounts_100plus)):\n",
    "    query = '-is:retweet '\n",
    "    while len(query)<=1024:\n",
    "        if not len(accounts_100plus):\n",
    "            break\n",
    "        next_user= accounts_100plus.pop()\n",
    "        next_username=f\"from:{next_user[1]} OR \"\n",
    "        if (len(query)+len(next_username)>1024):\n",
    "            query = query[:-len(\" OR \")]\n",
    "            accounts_100plus.add(next_user)\n",
    "            break\n",
    "        else:\n",
    "            query+=next_username\n",
    "    queries.append(query)"
   ],
   "metadata": {
    "collapsed": false
   }
  },
  {
   "cell_type": "code",
   "execution_count": 5,
   "outputs": [],
   "source": [
    "window = 5\n",
    "start_date = datetime.datetime(2016, 11, 8-window, 0, 0, 0)\n",
    "end_date =   datetime.datetime(2016, 11, 8+window, 0, 0, 0)\n"
   ],
   "metadata": {
    "collapsed": false
   }
  },
  {
   "cell_type": "code",
   "execution_count": 6,
   "outputs": [],
   "source": [
    "client = get_client()\n"
   ],
   "metadata": {
    "collapsed": false
   }
  },
  {
   "cell_type": "code",
   "execution_count": 7,
   "outputs": [],
   "source": [
    "out_path = os.path.join(DATA_PATH, f'election_tweets_{year}.jsonl')\n",
    "errors = list()"
   ],
   "metadata": {
    "collapsed": false
   }
  },
  {
   "cell_type": "code",
   "execution_count": 8,
   "outputs": [
    {
     "name": "stderr",
     "output_type": "stream",
     "text": [
      "processing queries:   0%|          | 14/47119 [01:48<119:18:16,  9.12s/it]Rate limit exceeded. Sleeping for 488 seconds.\n",
      "processing queries:   0%|          | 20/47119 [10:38<396:00:00, 30.27s/it]  Rate limit exceeded. Sleeping for 859 seconds.\n",
      "processing queries:   0%|          | 33/47119 [27:55<253:58:15, 19.42s/it]  Rate limit exceeded. Sleeping for 724 seconds.\n",
      "processing queries:   0%|          | 45/47119 [42:06<146:39:44, 11.22s/it]  Rate limit exceeded. Sleeping for 774 seconds.\n",
      "processing queries:   0%|          | 54/47119 [56:06<266:15:55, 20.37s/it]  Rate limit exceeded. Sleeping for 835 seconds.\n",
      "processing queries:   0%|          | 99/47119 [1:16:05<104:57:58,  8.04s/it]  Rate limit exceeded. Sleeping for 538 seconds.\n",
      "processing queries:   0%|          | 180/47119 [1:35:07<80:30:44,  6.17s/it]   Rate limit exceeded. Sleeping for 297 seconds.\n",
      "processing queries:   0%|          | 192/47119 [1:41:41<138:24:27, 10.62s/it] "
     ]
    },
    {
     "name": "stdout",
     "output_type": "stream",
     "text": [
      "503 Service Unavailable\n",
      "Service Unavailable\n"
     ]
    },
    {
     "name": "stderr",
     "output_type": "stream",
     "text": [
      "processing queries:   0%|          | 200/47119 [1:43:46<110:47:15,  8.50s/it]Rate limit exceeded. Sleeping for 680 seconds.\n",
      "processing queries:   0%|          | 214/47119 [1:56:39<101:08:30,  7.76s/it]  Rate limit exceeded. Sleeping for 810 seconds.\n",
      "processing queries:   0%|          | 224/47119 [2:11:29<253:49:21, 19.49s/it]  Rate limit exceeded. Sleeping for 822 seconds.\n",
      "processing queries:   1%|          | 237/47119 [2:26:34<167:31:24, 12.86s/it]  Rate limit exceeded. Sleeping for 819 seconds.\n",
      "processing queries:   1%|          | 241/47119 [2:40:32<1188:58:46, 91.31s/it] Rate limit exceeded. Sleeping for 882 seconds.\n",
      "processing queries:   1%|          | 244/47119 [2:55:37<2152:53:33, 165.34s/it]Rate limit exceeded. Sleeping for 880 seconds.\n",
      "processing queries:   1%|          | 271/47119 [3:13:18<114:13:25,  8.78s/it]  Rate limit exceeded. Sleeping for 720 seconds.\n",
      "processing queries:   1%|          | 279/47119 [3:25:49<284:35:24, 21.87s/it]  Rate limit exceeded. Sleeping for 870 seconds.\n",
      "processing queries:   1%|          | 295/47119 [3:41:54<79:18:48,  6.10s/it]   Rate limit exceeded. Sleeping for 807 seconds.\n",
      "processing queries:   1%|          | 308/47119 [3:56:39<99:19:12,  7.64s/it]   Rate limit exceeded. Sleeping for 824 seconds.\n",
      "processing queries:   1%|          | 309/47119 [4:10:31<3317:33:19, 255.14s/it]"
     ]
    },
    {
     "name": "stdout",
     "output_type": "stream",
     "text": [
      "503 Service Unavailable\n",
      "Service Unavailable\n"
     ]
    },
    {
     "name": "stderr",
     "output_type": "stream",
     "text": [
      "processing queries:   1%|          | 327/47119 [4:14:12<157:13:49, 12.10s/it]  "
     ]
    },
    {
     "name": "stdout",
     "output_type": "stream",
     "text": [
      "503 Service Unavailable\n",
      "Service Unavailable\n"
     ]
    },
    {
     "name": "stderr",
     "output_type": "stream",
     "text": [
      "processing queries:   1%|          | 335/47119 [4:16:40<107:29:48,  8.27s/it]Rate limit exceeded. Sleeping for 524 seconds.\n",
      "processing queries:   1%|          | 344/47119 [4:26:26<214:01:10, 16.47s/it]  Rate limit exceeded. Sleeping for 840 seconds.\n",
      "processing queries:   1%|          | 365/47119 [4:42:53<86:20:14,  6.65s/it]   Rate limit exceeded. Sleeping for 754 seconds.\n",
      "processing queries:   1%|          | 377/47119 [4:56:45<131:13:04, 10.11s/it]  Rate limit exceeded. Sleeping for 824 seconds.\n",
      "processing queries:   1%|          | 384/47119 [5:11:16<450:10:33, 34.68s/it]  "
     ]
    },
    {
     "name": "stdout",
     "output_type": "stream",
     "text": [
      "503 Service Unavailable\n",
      "Service Unavailable\n"
     ]
    },
    {
     "name": "stderr",
     "output_type": "stream",
     "text": [
      "processing queries:   1%|          | 398/47119 [5:13:45<71:15:55,  5.49s/it] Rate limit exceeded. Sleeping for 706 seconds.\n",
      "processing queries:   1%|          | 399/47119 [5:25:38<2828:50:01, 217.98s/it]"
     ]
    },
    {
     "name": "stdout",
     "output_type": "stream",
     "text": [
      "503 Service Unavailable\n",
      "Service Unavailable\n"
     ]
    },
    {
     "name": "stderr",
     "output_type": "stream",
     "text": [
      "processing queries:   1%|          | 402/47119 [5:26:48<1112:50:06, 85.75s/it] Rate limit exceeded. Sleeping for 824 seconds.\n",
      "processing queries:   1%|          | 406/47119 [5:41:04<1461:49:03, 112.66s/it]Rate limit exceeded. Sleeping for 870 seconds.\n",
      "processing queries:   1%|          | 432/47119 [5:58:19<70:53:26,  5.47s/it]   Rate limit exceeded. Sleeping for 737 seconds.\n",
      "processing queries:   1%|          | 444/47119 [6:12:20<158:18:07, 12.21s/it]  Rate limit exceeded. Sleeping for 798 seconds.\n",
      "processing queries:   1%|          | 459/47119 [6:28:01<176:15:50, 13.60s/it]  "
     ]
    },
    {
     "name": "stdout",
     "output_type": "stream",
     "text": [
      "503 Service Unavailable\n",
      "Service Unavailable\n"
     ]
    },
    {
     "name": "stderr",
     "output_type": "stream",
     "text": [
      "processing queries:   1%|          | 481/47119 [6:32:08<50:01:47,  3.86s/it] Rate limit exceeded. Sleeping for 511 seconds.\n",
      "processing queries:   1%|          | 486/47119 [6:41:28<578:26:15, 44.65s/it]  Rate limit exceeded. Sleeping for 853 seconds.\n",
      "processing queries:   1%|          | 502/47119 [6:58:52<224:01:37, 17.30s/it]  Rate limit exceeded. Sleeping for 712 seconds.\n",
      "processing queries:   1%|          | 511/47119 [7:11:47<276:08:53, 21.33s/it]  Rate limit exceeded. Sleeping for 838 seconds.\n",
      "processing queries:   1%|          | 544/47119 [7:29:50<153:56:38, 11.90s/it]  Rate limit exceeded. Sleeping for 656 seconds.\n",
      "processing queries:   1%|          | 586/47119 [7:45:20<103:35:38,  8.01s/it]  Rate limit exceeded. Sleeping for 627 seconds.\n",
      "processing queries:   1%|▏         | 597/47119 [7:57:01<147:00:26, 11.38s/it]  Rate limit exceeded. Sleeping for 827 seconds.\n",
      "processing queries:   1%|▏         | 610/47119 [8:12:28<164:00:12, 12.69s/it]  Rate limit exceeded. Sleeping for 802 seconds.\n",
      "processing queries:   1%|▏         | 613/47119 [8:26:04<1622:32:49, 125.60s/it]Rate limit exceeded. Sleeping for 887 seconds.\n",
      "processing queries:   1%|▏         | 635/47119 [8:42:52<59:57:12,  4.64s/it]   Rate limit exceeded. Sleeping for 781 seconds.\n",
      "processing queries:   1%|▏         | 644/47119 [8:56:50<241:39:00, 18.72s/it]  Rate limit exceeded. Sleeping for 844 seconds.\n",
      "processing queries:   1%|▏         | 647/47119 [9:11:33<1812:55:29, 140.44s/it]Rate limit exceeded. Sleeping for 864 seconds.\n",
      "processing queries:   1%|▏         | 650/47119 [9:26:14<2307:06:21, 178.73s/it]Rate limit exceeded. Sleeping for 884 seconds.\n",
      "processing queries:   1%|▏         | 656/47119 [9:41:37<909:15:56, 70.45s/it]  Rate limit exceeded. Sleeping for 862 seconds.\n",
      "processing queries:   1%|▏         | 664/47119 [9:56:38<398:38:08, 30.89s/it]  Rate limit exceeded. Sleeping for 863 seconds.\n",
      "processing queries:   1%|▏         | 677/47119 [10:12:45<138:14:48, 10.72s/it]  Rate limit exceeded. Sleeping for 797 seconds.\n",
      "processing queries:   1%|▏         | 681/47119 [10:26:26<1147:43:55, 88.98s/it] Rate limit exceeded. Sleeping for 877 seconds.\n",
      "processing queries:   1%|▏         | 701/47119 [10:43:27<101:03:57,  7.84s/it]  Rate limit exceeded. Sleeping for 757 seconds.\n",
      "processing queries:   2%|▏         | 731/47119 [10:59:34<77:55:42,  6.05s/it]   Rate limit exceeded. Sleeping for 693 seconds.\n",
      "processing queries:   2%|▏         | 734/47119 [11:11:26<1392:15:07, 108.05s/it]Rate limit exceeded. Sleeping for 883 seconds.\n",
      "processing queries:   2%|▏         | 737/47119 [11:26:43<2256:02:30, 175.11s/it]Rate limit exceeded. Sleeping for 867 seconds.\n",
      "processing queries:   2%|▏         | 749/47119 [11:42:50<162:54:53, 12.65s/it]  Rate limit exceeded. Sleeping for 801 seconds.\n",
      "processing queries:   2%|▏         | 782/47119 [11:59:37<110:15:08,  8.57s/it]  Rate limit exceeded. Sleeping for 695 seconds.\n",
      "processing queries:   2%|▏         | 789/47119 [12:11:38<372:24:14, 28.94s/it]  Rate limit exceeded. Sleeping for 875 seconds.\n",
      "processing queries:   2%|▏         | 795/47119 [12:26:55<691:54:01, 53.77s/it]  Rate limit exceeded. Sleeping for 859 seconds.\n",
      "processing queries:   2%|▏         | 797/47119 [12:41:24<2695:46:08, 209.51s/it]Rate limit exceeded. Sleeping for 891 seconds.\n",
      "processing queries:   2%|▏         | 818/47119 [12:57:55<59:19:08,  4.61s/it]   Rate limit exceeded. Sleeping for 802 seconds.\n",
      "processing queries:   2%|▏         | 822/47119 [13:11:58<1183:13:57, 92.01s/it] Rate limit exceeded. Sleeping for 860 seconds.\n",
      "processing queries:   2%|▏         | 849/47119 [13:29:28<70:55:49,  5.52s/it]   Rate limit exceeded. Sleeping for 712 seconds.\n",
      "processing queries:   2%|▏         | 868/47119 [13:43:17<59:53:12,  4.66s/it]   Rate limit exceeded. Sleeping for 785 seconds.\n",
      "processing queries:   2%|▏         | 869/47119 [13:56:28<3092:43:25, 240.73s/it]Rate limit exceeded. Sleeping for 895 seconds.\n",
      "processing queries:   2%|▏         | 875/47119 [14:11:57<993:38:22, 77.35s/it]  Rate limit exceeded. Sleeping for 868 seconds.\n",
      "processing queries:   2%|▏         | 876/47119 [14:26:26<4047:20:17, 315.08s/it]Rate limit exceeded. Sleeping for 900 seconds.\n",
      "processing queries:   2%|▏         | 883/47119 [14:42:06<803:43:56, 62.58s/it]  Rate limit exceeded. Sleeping for 861 seconds.\n",
      "processing queries:   2%|▏         | 885/47119 [14:56:35<2744:34:55, 213.71s/it]Rate limit exceeded. Sleeping for 894 seconds.\n",
      "processing queries:   2%|▏         | 888/47119 [15:11:46<2667:31:52, 207.72s/it]Rate limit exceeded. Sleeping for 884 seconds.\n",
      "processing queries:   2%|▏         | 890/47119 [15:26:38<3712:22:20, 289.09s/it]Rate limit exceeded. Sleeping for 894 seconds.\n",
      "processing queries:   2%|▏         | 891/47119 [15:41:33<6046:25:36, 470.86s/it]Rate limit exceeded. Sleeping for 901 seconds.\n",
      "processing queries:   2%|▏         | 892/47119 [15:56:43<7738:12:28, 602.63s/it]Rate limit exceeded. Sleeping for 893 seconds.\n",
      "processing queries:   2%|▏         | 903/47119 [16:12:59<328:56:47, 25.62s/it]  Rate limit exceeded. Sleeping for 818 seconds.\n",
      "processing queries:   2%|▏         | 942/47119 [16:31:22<110:37:18,  8.62s/it]  Rate limit exceeded. Sleeping for 617 seconds.\n",
      "processing queries:   2%|▏         | 960/47119 [16:43:19<62:57:50,  4.91s/it]   Rate limit exceeded. Sleeping for 801 seconds.\n",
      "processing queries:   2%|▏         | 973/47119 [16:58:48<167:36:36, 13.08s/it]  Rate limit exceeded. Sleeping for 774 seconds.\n",
      "processing queries:   2%|▏         | 986/47119 [17:13:24<139:16:52, 10.87s/it]  Rate limit exceeded. Sleeping for 800 seconds.\n",
      "processing queries:   2%|▏         | 991/47119 [17:27:10<813:15:05, 63.47s/it]  Rate limit exceeded. Sleeping for 876 seconds.\n",
      "processing queries:   2%|▏         | 999/47119 [17:42:28<367:36:08, 28.69s/it]  Rate limit exceeded. Sleeping for 859 seconds.\n",
      "processing queries:   2%|▏         | 1000/47119 [17:57:02<3613:03:16, 282.03s/it]Rate limit exceeded. Sleeping for 888 seconds.\n",
      "processing queries:   2%|▏         | 1005/47119 [18:12:13<1478:59:34, 115.46s/it]Rate limit exceeded. Sleeping for 878 seconds.\n",
      "processing queries:   2%|▏         | 1007/47119 [18:27:00<3115:33:24, 243.23s/it]Rate limit exceeded. Sleeping for 893 seconds.\n",
      "processing queries:   2%|▏         | 1020/47119 [18:43:04<161:53:52, 12.64s/it]  Rate limit exceeded. Sleeping for 831 seconds.\n",
      "processing queries:   2%|▏         | 1026/47119 [18:57:28<612:11:29, 47.81s/it]  Rate limit exceeded. Sleeping for 868 seconds.\n",
      "processing queries:   2%|▏         | 1040/47119 [19:12:54<87:29:45,  6.84s/it]   Rate limit exceeded. Sleeping for 844 seconds.\n",
      "processing queries:   2%|▏         | 1052/47119 [19:28:13<147:42:13, 11.54s/it]  Rate limit exceeded. Sleeping for 827 seconds.\n",
      "processing queries:   2%|▏         | 1067/47119 [19:43:27<102:59:47,  8.05s/it]  Rate limit exceeded. Sleeping for 814 seconds.\n",
      "processing queries:   2%|▏         | 1069/47119 [19:57:06<2250:09:38, 175.91s/it]Rate limit exceeded. Sleeping for 897 seconds.\n",
      "processing queries:   2%|▏         | 1070/47119 [20:12:08<5038:00:48, 393.86s/it]Rate limit exceeded. Sleeping for 896 seconds.\n",
      "processing queries:   2%|▏         | 1076/47119 [20:28:09<1275:39:10, 99.74s/it] Rate limit exceeded. Sleeping for 837 seconds.\n",
      "processing queries:   2%|▏         | 1076/47119 [20:42:06<885:50:45, 69.26s/it] \n"
     ]
    },
    {
     "ename": "KeyboardInterrupt",
     "evalue": "",
     "output_type": "error",
     "traceback": [
      "\u001B[1;31m---------------------------------------------------------------------------\u001B[0m",
      "\u001B[1;31mKeyboardInterrupt\u001B[0m                         Traceback (most recent call last)",
      "Cell \u001B[1;32mIn[8], line 7\u001B[0m\n\u001B[0;32m      5\u001B[0m \u001B[38;5;28;01mwhile\u001B[39;00m \u001B[38;5;129;01mnot\u001B[39;00m done:\n\u001B[0;32m      6\u001B[0m     \u001B[38;5;28;01mtry\u001B[39;00m:\n\u001B[1;32m----> 7\u001B[0m         res \u001B[38;5;241m=\u001B[39m \u001B[43mclient\u001B[49m\u001B[38;5;241;43m.\u001B[39;49m\u001B[43msearch_all_tweets\u001B[49m\u001B[43m(\u001B[49m\u001B[43mquery\u001B[49m\u001B[38;5;241;43m=\u001B[39;49m\u001B[43mquery\u001B[49m\u001B[43m,\u001B[49m\u001B[43m \u001B[49m\u001B[43mend_time\u001B[49m\u001B[38;5;241;43m=\u001B[39;49m\u001B[43mend_date\u001B[49m\u001B[43m,\u001B[49m\u001B[43m \u001B[49m\u001B[43mnext_token\u001B[49m\u001B[38;5;241;43m=\u001B[39;49m\u001B[43mnext_token\u001B[49m\u001B[43m,\u001B[49m\u001B[43m \u001B[49m\u001B[43mstart_time\u001B[49m\u001B[38;5;241;43m=\u001B[39;49m\u001B[43mstart_date\u001B[49m\u001B[43m,\u001B[49m\u001B[43m \u001B[49m\u001B[43mmax_results\u001B[49m\u001B[38;5;241;43m=\u001B[39;49m\u001B[38;5;241;43m500\u001B[39;49m\u001B[43m,\u001B[49m\u001B[43m \u001B[49m\u001B[43m\\\u001B[49m\n\u001B[0;32m      8\u001B[0m \u001B[43m                                       \u001B[49m\u001B[43mplace_fields\u001B[49m\u001B[43m \u001B[49m\u001B[38;5;241;43m=\u001B[39;49m\u001B[43m \u001B[49m\u001B[43m[\u001B[49m\u001B[38;5;124;43m'\u001B[39;49m\u001B[38;5;124;43mid\u001B[39;49m\u001B[38;5;124;43m'\u001B[39;49m\u001B[43m,\u001B[49m\u001B[38;5;124;43m'\u001B[39;49m\u001B[38;5;124;43mfull_name\u001B[39;49m\u001B[38;5;124;43m'\u001B[39;49m\u001B[43m,\u001B[49m\u001B[43m \u001B[49m\u001B[38;5;124;43m'\u001B[39;49m\u001B[38;5;124;43mcountry\u001B[39;49m\u001B[38;5;124;43m'\u001B[39;49m\u001B[43m,\u001B[49m\u001B[43m \u001B[49m\u001B[38;5;124;43m'\u001B[39;49m\u001B[38;5;124;43mgeo\u001B[39;49m\u001B[38;5;124;43m'\u001B[39;49m\u001B[43m,\u001B[49m\u001B[43m \u001B[49m\u001B[38;5;124;43m'\u001B[39;49m\u001B[38;5;124;43mname\u001B[39;49m\u001B[38;5;124;43m'\u001B[39;49m\u001B[43m,\u001B[49m\u001B[43m \u001B[49m\u001B[38;5;124;43m'\u001B[39;49m\u001B[38;5;124;43mplace_type\u001B[39;49m\u001B[38;5;124;43m'\u001B[39;49m\u001B[43m]\u001B[49m\u001B[43m,\u001B[49m\n\u001B[0;32m      9\u001B[0m \u001B[43m                                     \u001B[49m\u001B[43mtweet_fields\u001B[49m\u001B[43m \u001B[49m\u001B[38;5;241;43m=\u001B[39;49m\u001B[43m \u001B[49m\u001B[43m[\u001B[49m\u001B[38;5;124;43m'\u001B[39;49m\u001B[38;5;124;43mid\u001B[39;49m\u001B[38;5;124;43m'\u001B[39;49m\u001B[43m,\u001B[49m\u001B[43m \u001B[49m\u001B[38;5;124;43m'\u001B[39;49m\u001B[38;5;124;43mcreated_at\u001B[39;49m\u001B[38;5;124;43m'\u001B[39;49m\u001B[43m,\u001B[49m\u001B[43m \u001B[49m\u001B[38;5;124;43m'\u001B[39;49m\u001B[38;5;124;43mgeo\u001B[39;49m\u001B[38;5;124;43m'\u001B[39;49m\u001B[43m,\u001B[49m\u001B[43m \u001B[49m\u001B[38;5;124;43m'\u001B[39;49m\u001B[38;5;124;43mpublic_metrics\u001B[39;49m\u001B[38;5;124;43m'\u001B[39;49m\u001B[43m,\u001B[49m\u001B[43m \u001B[49m\u001B[38;5;124;43m'\u001B[39;49m\u001B[38;5;124;43mtext\u001B[39;49m\u001B[38;5;124;43m'\u001B[39;49m\u001B[43m,\u001B[49m\u001B[43m \u001B[49m\u001B[38;5;124;43m'\u001B[39;49m\u001B[38;5;124;43medit_history_tweet_ids\u001B[39;49m\u001B[38;5;124;43m'\u001B[39;49m\u001B[43m,\u001B[49m\u001B[43m \u001B[49m\u001B[38;5;124;43m'\u001B[39;49m\u001B[38;5;124;43mattachments\u001B[39;49m\u001B[38;5;124;43m'\u001B[39;49m\u001B[43m,\u001B[49m\u001B[43m \u001B[49m\u001B[38;5;124;43m'\u001B[39;49m\u001B[38;5;124;43mauthor_id\u001B[39;49m\u001B[38;5;124;43m'\u001B[39;49m\u001B[43m,\u001B[49m\u001B[43m  \u001B[49m\u001B[38;5;124;43m'\u001B[39;49m\u001B[38;5;124;43mconversation_id\u001B[39;49m\u001B[38;5;124;43m'\u001B[39;49m\u001B[43m,\u001B[49m\u001B[43m \u001B[49m\u001B[38;5;124;43m'\u001B[39;49m\u001B[38;5;124;43mentities\u001B[39;49m\u001B[38;5;124;43m'\u001B[39;49m\u001B[43m,\u001B[49m\u001B[43m \u001B[49m\u001B[38;5;124;43m'\u001B[39;49m\u001B[38;5;124;43min_reply_to_user_id\u001B[39;49m\u001B[38;5;124;43m'\u001B[39;49m\u001B[43m,\u001B[49m\u001B[43m \u001B[49m\u001B[38;5;124;43m'\u001B[39;49m\u001B[38;5;124;43mlang\u001B[39;49m\u001B[38;5;124;43m'\u001B[39;49m\u001B[43m,\u001B[49m\u001B[43m \u001B[49m\u001B[38;5;124;43m'\u001B[39;49m\u001B[38;5;124;43mpossibly_sensitive\u001B[39;49m\u001B[38;5;124;43m'\u001B[39;49m\u001B[43m,\u001B[49m\u001B[43m \u001B[49m\u001B[38;5;124;43m'\u001B[39;49m\u001B[38;5;124;43mreferenced_tweets\u001B[39;49m\u001B[38;5;124;43m'\u001B[39;49m\u001B[43m,\u001B[49m\u001B[43m \u001B[49m\u001B[38;5;124;43m'\u001B[39;49m\u001B[38;5;124;43mreply_settings\u001B[39;49m\u001B[38;5;124;43m'\u001B[39;49m\u001B[43m,\u001B[49m\u001B[43m \u001B[49m\u001B[38;5;124;43m'\u001B[39;49m\u001B[38;5;124;43msource\u001B[39;49m\u001B[38;5;124;43m'\u001B[39;49m\u001B[43m,\u001B[49m\u001B[43m \u001B[49m\u001B[38;5;124;43m'\u001B[39;49m\u001B[38;5;124;43mwithheld\u001B[39;49m\u001B[38;5;124;43m'\u001B[39;49m\u001B[43m]\u001B[49m\u001B[43m,\u001B[49m\u001B[43m \u001B[49m\u001B[38;5;66;43;03m# missing edit controls and  other fields that require user auth, 'context_annotations' requires <100 results\u001B[39;49;00m\n\u001B[0;32m     10\u001B[0m \u001B[43m                    \u001B[49m\u001B[43mmedia_fields\u001B[49m\u001B[38;5;241;43m=\u001B[39;49m\u001B[38;5;28;43;01mNone\u001B[39;49;00m\u001B[43m,\u001B[49m\u001B[43m  \u001B[49m\u001B[43m\\\u001B[49m\n\u001B[0;32m     11\u001B[0m \u001B[43m                    \u001B[49m\u001B[43mpoll_fields\u001B[49m\u001B[38;5;241;43m=\u001B[39;49m\u001B[38;5;28;43;01mNone\u001B[39;49;00m\u001B[43m,\u001B[49m\u001B[43m \u001B[49m\u001B[43msince_id\u001B[49m\u001B[38;5;241;43m=\u001B[39;49m\u001B[38;5;28;43;01mNone\u001B[39;49;00m\u001B[43m,\u001B[49m\u001B[43m \u001B[49m\u001B[43msort_order\u001B[49m\u001B[38;5;241;43m=\u001B[39;49m\u001B[38;5;28;43;01mNone\u001B[39;49;00m\u001B[43m,\u001B[49m\u001B[43m \u001B[49m\u001B[43m\\\u001B[49m\n\u001B[0;32m     12\u001B[0m \u001B[43m                    \u001B[49m\u001B[43muntil_id\u001B[49m\u001B[38;5;241;43m=\u001B[39;49m\u001B[38;5;28;43;01mNone\u001B[39;49;00m\u001B[43m,\u001B[49m\u001B[43m \u001B[49m\u001B[43m\\\u001B[49m\n\u001B[0;32m     13\u001B[0m \u001B[43m                    \u001B[49m\u001B[43muser_fields\u001B[49m\u001B[38;5;241;43m=\u001B[39;49m\u001B[38;5;28;43;01mNone\u001B[39;49;00m\u001B[43m)\u001B[49m\n\u001B[0;32m     14\u001B[0m         \u001B[38;5;28;01mfor\u001B[39;00m tweet \u001B[38;5;129;01min\u001B[39;00m res\u001B[38;5;241m.\u001B[39mdata:\n\u001B[0;32m     15\u001B[0m             f\u001B[38;5;241m.\u001B[39mwrite(json\u001B[38;5;241m.\u001B[39mdumps(tweet\u001B[38;5;241m.\u001B[39mdata, sort_keys\u001B[38;5;241m=\u001B[39m\u001B[38;5;28;01mTrue\u001B[39;00m)\u001B[38;5;241m+\u001B[39m\u001B[38;5;124m'\u001B[39m\u001B[38;5;130;01m\\n\u001B[39;00m\u001B[38;5;124m'\u001B[39m)\n",
      "File \u001B[1;32m~\\PycharmProjects\\twitter_polls\\venv\\lib\\site-packages\\tweepy\\client.py:1163\u001B[0m, in \u001B[0;36mClient.search_all_tweets\u001B[1;34m(self, query, **params)\u001B[0m\n\u001B[0;32m   1071\u001B[0m \u001B[38;5;250m\u001B[39m\u001B[38;5;124;03m\"\"\"search_all_tweets( \\\u001B[39;00m\n\u001B[0;32m   1072\u001B[0m \u001B[38;5;124;03m    query, *, end_time=None, expansions=None, max_results=None, \\\u001B[39;00m\n\u001B[0;32m   1073\u001B[0m \u001B[38;5;124;03m    media_fields=None, next_token=None, place_fields=None, \\\u001B[39;00m\n\u001B[1;32m   (...)\u001B[0m\n\u001B[0;32m   1160\u001B[0m \u001B[38;5;124;03m.. _pagination: https://developer.twitter.com/en/docs/twitter-api/tweets/search/integrate/paginate\u001B[39;00m\n\u001B[0;32m   1161\u001B[0m \u001B[38;5;124;03m\"\"\"\u001B[39;00m\n\u001B[0;32m   1162\u001B[0m params[\u001B[38;5;124m\"\u001B[39m\u001B[38;5;124mquery\u001B[39m\u001B[38;5;124m\"\u001B[39m] \u001B[38;5;241m=\u001B[39m query\n\u001B[1;32m-> 1163\u001B[0m \u001B[38;5;28;01mreturn\u001B[39;00m \u001B[38;5;28;43mself\u001B[39;49m\u001B[38;5;241;43m.\u001B[39;49m\u001B[43m_make_request\u001B[49m\u001B[43m(\u001B[49m\n\u001B[0;32m   1164\u001B[0m \u001B[43m    \u001B[49m\u001B[38;5;124;43m\"\u001B[39;49m\u001B[38;5;124;43mGET\u001B[39;49m\u001B[38;5;124;43m\"\u001B[39;49m\u001B[43m,\u001B[49m\u001B[43m \u001B[49m\u001B[38;5;124;43m\"\u001B[39;49m\u001B[38;5;124;43m/2/tweets/search/all\u001B[39;49m\u001B[38;5;124;43m\"\u001B[39;49m\u001B[43m,\u001B[49m\u001B[43m \u001B[49m\u001B[43mparams\u001B[49m\u001B[38;5;241;43m=\u001B[39;49m\u001B[43mparams\u001B[49m\u001B[43m,\u001B[49m\n\u001B[0;32m   1165\u001B[0m \u001B[43m    \u001B[49m\u001B[43mendpoint_parameters\u001B[49m\u001B[38;5;241;43m=\u001B[39;49m\u001B[43m(\u001B[49m\n\u001B[0;32m   1166\u001B[0m \u001B[43m        \u001B[49m\u001B[38;5;124;43m\"\u001B[39;49m\u001B[38;5;124;43mend_time\u001B[39;49m\u001B[38;5;124;43m\"\u001B[39;49m\u001B[43m,\u001B[49m\u001B[43m \u001B[49m\u001B[38;5;124;43m\"\u001B[39;49m\u001B[38;5;124;43mexpansions\u001B[39;49m\u001B[38;5;124;43m\"\u001B[39;49m\u001B[43m,\u001B[49m\u001B[43m \u001B[49m\u001B[38;5;124;43m\"\u001B[39;49m\u001B[38;5;124;43mmax_results\u001B[39;49m\u001B[38;5;124;43m\"\u001B[39;49m\u001B[43m,\u001B[49m\u001B[43m \u001B[49m\u001B[38;5;124;43m\"\u001B[39;49m\u001B[38;5;124;43mmedia.fields\u001B[39;49m\u001B[38;5;124;43m\"\u001B[39;49m\u001B[43m,\u001B[49m\n\u001B[0;32m   1167\u001B[0m \u001B[43m        \u001B[49m\u001B[38;5;124;43m\"\u001B[39;49m\u001B[38;5;124;43mnext_token\u001B[39;49m\u001B[38;5;124;43m\"\u001B[39;49m\u001B[43m,\u001B[49m\u001B[43m \u001B[49m\u001B[38;5;124;43m\"\u001B[39;49m\u001B[38;5;124;43mplace.fields\u001B[39;49m\u001B[38;5;124;43m\"\u001B[39;49m\u001B[43m,\u001B[49m\u001B[43m \u001B[49m\u001B[38;5;124;43m\"\u001B[39;49m\u001B[38;5;124;43mpoll.fields\u001B[39;49m\u001B[38;5;124;43m\"\u001B[39;49m\u001B[43m,\u001B[49m\u001B[43m \u001B[49m\u001B[38;5;124;43m\"\u001B[39;49m\u001B[38;5;124;43mquery\u001B[39;49m\u001B[38;5;124;43m\"\u001B[39;49m\u001B[43m,\u001B[49m\n\u001B[0;32m   1168\u001B[0m \u001B[43m        \u001B[49m\u001B[38;5;124;43m\"\u001B[39;49m\u001B[38;5;124;43msince_id\u001B[39;49m\u001B[38;5;124;43m\"\u001B[39;49m\u001B[43m,\u001B[49m\u001B[43m \u001B[49m\u001B[38;5;124;43m\"\u001B[39;49m\u001B[38;5;124;43msort_order\u001B[39;49m\u001B[38;5;124;43m\"\u001B[39;49m\u001B[43m,\u001B[49m\u001B[43m \u001B[49m\u001B[38;5;124;43m\"\u001B[39;49m\u001B[38;5;124;43mstart_time\u001B[39;49m\u001B[38;5;124;43m\"\u001B[39;49m\u001B[43m,\u001B[49m\u001B[43m \u001B[49m\u001B[38;5;124;43m\"\u001B[39;49m\u001B[38;5;124;43mtweet.fields\u001B[39;49m\u001B[38;5;124;43m\"\u001B[39;49m\u001B[43m,\u001B[49m\n\u001B[0;32m   1169\u001B[0m \u001B[43m        \u001B[49m\u001B[38;5;124;43m\"\u001B[39;49m\u001B[38;5;124;43muntil_id\u001B[39;49m\u001B[38;5;124;43m\"\u001B[39;49m\u001B[43m,\u001B[49m\u001B[43m \u001B[49m\u001B[38;5;124;43m\"\u001B[39;49m\u001B[38;5;124;43muser.fields\u001B[39;49m\u001B[38;5;124;43m\"\u001B[39;49m\n\u001B[0;32m   1170\u001B[0m \u001B[43m    \u001B[49m\u001B[43m)\u001B[49m\u001B[43m,\u001B[49m\u001B[43m \u001B[49m\u001B[43mdata_type\u001B[49m\u001B[38;5;241;43m=\u001B[39;49m\u001B[43mTweet\u001B[49m\n\u001B[0;32m   1171\u001B[0m \u001B[43m\u001B[49m\u001B[43m)\u001B[49m\n",
      "File \u001B[1;32m~\\PycharmProjects\\twitter_polls\\venv\\lib\\site-packages\\tweepy\\client.py:129\u001B[0m, in \u001B[0;36mBaseClient._make_request\u001B[1;34m(self, method, route, params, endpoint_parameters, json, data_type, user_auth)\u001B[0m\n\u001B[0;32m    123\u001B[0m \u001B[38;5;28;01mdef\u001B[39;00m \u001B[38;5;21m_make_request\u001B[39m(\n\u001B[0;32m    124\u001B[0m     \u001B[38;5;28mself\u001B[39m, method, route, params\u001B[38;5;241m=\u001B[39m{}, endpoint_parameters\u001B[38;5;241m=\u001B[39m(), json\u001B[38;5;241m=\u001B[39m\u001B[38;5;28;01mNone\u001B[39;00m,\n\u001B[0;32m    125\u001B[0m     data_type\u001B[38;5;241m=\u001B[39m\u001B[38;5;28;01mNone\u001B[39;00m, user_auth\u001B[38;5;241m=\u001B[39m\u001B[38;5;28;01mFalse\u001B[39;00m\n\u001B[0;32m    126\u001B[0m ):\n\u001B[0;32m    127\u001B[0m     request_params \u001B[38;5;241m=\u001B[39m \u001B[38;5;28mself\u001B[39m\u001B[38;5;241m.\u001B[39m_process_params(params, endpoint_parameters)\n\u001B[1;32m--> 129\u001B[0m     response \u001B[38;5;241m=\u001B[39m \u001B[38;5;28;43mself\u001B[39;49m\u001B[38;5;241;43m.\u001B[39;49m\u001B[43mrequest\u001B[49m\u001B[43m(\u001B[49m\u001B[43mmethod\u001B[49m\u001B[43m,\u001B[49m\u001B[43m \u001B[49m\u001B[43mroute\u001B[49m\u001B[43m,\u001B[49m\u001B[43m \u001B[49m\u001B[43mparams\u001B[49m\u001B[38;5;241;43m=\u001B[39;49m\u001B[43mrequest_params\u001B[49m\u001B[43m,\u001B[49m\n\u001B[0;32m    130\u001B[0m \u001B[43m                            \u001B[49m\u001B[43mjson\u001B[49m\u001B[38;5;241;43m=\u001B[39;49m\u001B[43mjson\u001B[49m\u001B[43m,\u001B[49m\u001B[43m \u001B[49m\u001B[43muser_auth\u001B[49m\u001B[38;5;241;43m=\u001B[39;49m\u001B[43muser_auth\u001B[49m\u001B[43m)\u001B[49m\n\u001B[0;32m    132\u001B[0m     \u001B[38;5;28;01mif\u001B[39;00m \u001B[38;5;28mself\u001B[39m\u001B[38;5;241m.\u001B[39mreturn_type \u001B[38;5;129;01mis\u001B[39;00m requests\u001B[38;5;241m.\u001B[39mResponse:\n\u001B[0;32m    133\u001B[0m         \u001B[38;5;28;01mreturn\u001B[39;00m response\n",
      "File \u001B[1;32m~\\PycharmProjects\\twitter_polls\\venv\\lib\\site-packages\\tweepy\\client.py:112\u001B[0m, in \u001B[0;36mBaseClient.request\u001B[1;34m(self, method, route, params, json, user_auth)\u001B[0m\n\u001B[0;32m    107\u001B[0m     \u001B[38;5;28;01mif\u001B[39;00m sleep_time \u001B[38;5;241m>\u001B[39m \u001B[38;5;241m0\u001B[39m:\n\u001B[0;32m    108\u001B[0m         log\u001B[38;5;241m.\u001B[39mwarning(\n\u001B[0;32m    109\u001B[0m             \u001B[38;5;124m\"\u001B[39m\u001B[38;5;124mRate limit exceeded. \u001B[39m\u001B[38;5;124m\"\u001B[39m\n\u001B[0;32m    110\u001B[0m             \u001B[38;5;124mf\u001B[39m\u001B[38;5;124m\"\u001B[39m\u001B[38;5;124mSleeping for \u001B[39m\u001B[38;5;132;01m{\u001B[39;00msleep_time\u001B[38;5;132;01m}\u001B[39;00m\u001B[38;5;124m seconds.\u001B[39m\u001B[38;5;124m\"\u001B[39m\n\u001B[0;32m    111\u001B[0m         )\n\u001B[1;32m--> 112\u001B[0m         \u001B[43mtime\u001B[49m\u001B[38;5;241;43m.\u001B[39;49m\u001B[43msleep\u001B[49m\u001B[43m(\u001B[49m\u001B[43msleep_time\u001B[49m\u001B[43m)\u001B[49m\n\u001B[0;32m    113\u001B[0m     \u001B[38;5;28;01mreturn\u001B[39;00m \u001B[38;5;28mself\u001B[39m\u001B[38;5;241m.\u001B[39mrequest(method, route, params, json, user_auth)\n\u001B[0;32m    114\u001B[0m \u001B[38;5;28;01melse\u001B[39;00m:\n",
      "\u001B[1;31mKeyboardInterrupt\u001B[0m: "
     ]
    }
   ],
   "source": [
    "with open(out_path, 'a+') as f:\n",
    "    for query in tqdm(queries, desc='processing queries'):\n",
    "        done = False\n",
    "        next_token = None\n",
    "        while not done:\n",
    "            try:\n",
    "                res = client.search_all_tweets(query=query, end_time=end_date, next_token=next_token, start_time=start_date, max_results=500, \\\n",
    "                                               place_fields = ['id','full_name', 'country', 'geo', 'name', 'place_type'],\n",
    "                                             tweet_fields = ['id', 'created_at', 'geo', 'public_metrics', 'text', 'edit_history_tweet_ids', 'attachments', 'author_id',  'conversation_id', 'entities', 'in_reply_to_user_id', 'lang', 'possibly_sensitive', 'referenced_tweets', 'reply_settings', 'source', 'withheld'], # missing edit controls and  other fields that require user auth, 'context_annotations' requires <100 results\n",
    "                            media_fields=None,  \\\n",
    "                            poll_fields=None, since_id=None, sort_order=None, \\\n",
    "                            until_id=None, \\\n",
    "                            user_fields=None)\n",
    "                for tweet in res.data:\n",
    "                    f.write(json.dumps(tweet.data, sort_keys=True)+'\\n')\n",
    "                next_token = res.meta.get('next_token', None)\n",
    "                if not next_token:\n",
    "                    done=True\n",
    "\n",
    "            except TweepyException as e:\n",
    "                print(e)\n",
    "                errors.extend(query)\n",
    "                time.sleep(60)\n",
    "                done=True"
   ],
   "metadata": {
    "collapsed": false
   }
  },
  {
   "cell_type": "code",
   "execution_count": null,
   "outputs": [],
   "source": [],
   "metadata": {
    "collapsed": false
   }
  }
 ],
 "metadata": {
  "kernelspec": {
   "display_name": "Python 3",
   "language": "python",
   "name": "python3"
  },
  "language_info": {
   "codemirror_mode": {
    "name": "ipython",
    "version": 2
   },
   "file_extension": ".py",
   "mimetype": "text/x-python",
   "name": "python",
   "nbconvert_exporter": "python",
   "pygments_lexer": "ipython2",
   "version": "2.7.6"
  }
 },
 "nbformat": 4,
 "nbformat_minor": 0
}
