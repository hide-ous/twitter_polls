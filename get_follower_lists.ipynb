{
 "cells": [
  {
   "cell_type": "code",
   "execution_count": 2,
   "metadata": {
    "collapsed": true
   },
   "outputs": [
    {
     "data": {
      "text/plain": "True"
     },
     "execution_count": 2,
     "metadata": {},
     "output_type": "execute_result"
    }
   ],
   "source": [
    "import json\n",
    "\n",
    "import os\n",
    "\n",
    "from data_utils import get_author_ids, YEARS, get_authors_from_follower_lists, DATA_PATH, get_authors_from_keys, \\\n",
    "    write_error_users\n",
    "from twitter_utils import get_api, get_follower_lists"
   ]
  },
  {
   "cell_type": "code",
   "execution_count": 16,
   "outputs": [],
   "source": [
    "author_ids = set(get_author_ids(2016, save=True))\n",
    "author_ids.update(get_author_ids(2020, save=True))\n",
    "author_ids = list(sorted(author_ids))\n",
    "print(len(author_ids))"
   ],
   "metadata": {
    "collapsed": false
   }
  },
  {
   "cell_type": "code",
   "execution_count": 5,
   "outputs": [],
   "source": [
    "api = get_api()"
   ],
   "metadata": {
    "collapsed": false
   }
  },
  {
   "cell_type": "code",
   "execution_count": 29,
   "outputs": [],
   "source": [
    "exception_users = dict()"
   ],
   "metadata": {
    "collapsed": false
   }
  },
  {
   "cell_type": "code",
   "execution_count": null,
   "outputs": [],
   "source": [
    "for year in YEARS:\n",
    "    out_path = os.path.join(DATA_PATH, f'follower_lists_{year}.jsonl')\n",
    "    existing_users = get_authors_from_follower_lists(out_path)\n",
    "    print(f'found {len(existing_users)} scraped users')\n",
    "\n",
    "    fpath = os.path.join(DATA_PATH, f'polls_{year}_author_ids.json')\n",
    "    author_ids = get_authors_from_keys(fpath)\n",
    "    author_ids = list(sorted(id for id in author_ids if id not in existing_users))\n",
    "\n",
    "    exception_users = get_follower_lists(author_ids, out_path, api)"
   ],
   "metadata": {
    "collapsed": false,
    "pycharm": {
     "is_executing": true
    }
   }
  },
  {
   "cell_type": "code",
   "execution_count": 31,
   "outputs": [
    {
     "data": {
      "text/plain": "60"
     },
     "execution_count": 31,
     "metadata": {},
     "output_type": "execute_result"
    }
   ],
   "source": [
    "len(exception_users)"
   ],
   "metadata": {
    "collapsed": false
   }
  },
  {
   "cell_type": "code",
   "execution_count": 41,
   "outputs": [],
   "source": [
    "fpath = os.path.join(DATA_PATH, 'authors_missing.jsonl')\n",
    "write_error_users(exception_users, fpath)"
   ],
   "metadata": {
    "collapsed": false
   }
  },
  {
   "cell_type": "code",
   "execution_count": null,
   "outputs": [],
   "source": [],
   "metadata": {
    "collapsed": false
   }
  }
 ],
 "metadata": {
  "kernelspec": {
   "display_name": "Python 3",
   "language": "python",
   "name": "python3"
  },
  "language_info": {
   "codemirror_mode": {
    "name": "ipython",
    "version": 2
   },
   "file_extension": ".py",
   "mimetype": "text/x-python",
   "name": "python",
   "nbconvert_exporter": "python",
   "pygments_lexer": "ipython2",
   "version": "2.7.6"
  }
 },
 "nbformat": 4,
 "nbformat_minor": 0
}
