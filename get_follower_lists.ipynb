{
 "cells": [
  {
   "cell_type": "code",
   "execution_count": 1,
   "metadata": {
    "collapsed": true
   },
   "outputs": [
    {
     "data": {
      "text/plain": "True"
     },
     "execution_count": 1,
     "metadata": {},
     "output_type": "execute_result"
    }
   ],
   "source": [
    "import json\n",
    "\n",
    "from tqdm import tqdm\n",
    "import tweepy\n",
    "from dotenv import load_dotenv\n",
    "import os\n",
    "\n",
    "from tweepy import TweepyException\n",
    "\n",
    "load_dotenv()  # load environment variables from .env"
   ]
  },
  {
   "cell_type": "code",
   "execution_count": 2,
   "outputs": [],
   "source": [
    "DATA_PATH = 'data'\n",
    "YEARS = [2016, 2020]"
   ],
   "metadata": {
    "collapsed": false
   }
  },
  {
   "cell_type": "code",
   "execution_count": 16,
   "outputs": [],
   "source": [
    "for year in YEARS:\n",
    "    with open(os.path.join(DATA_PATH, f'polls-{year}.json')) as f:\n",
    "        polls = json.load(f)\n",
    "    author_ids = [poll['meta']['author_id'] for poll in filter(lambda x: x['type']=='twitter', polls)]\n",
    "    with open(os.path.join(DATA_PATH, f'polls_{year}_author_ids.json'), 'w+') as f:\n",
    "        json.dump(author_ids, f)"
   ],
   "metadata": {
    "collapsed": false
   }
  },
  {
   "cell_type": "code",
   "execution_count": 17,
   "outputs": [],
   "source": [
    "auth = tweepy.OAuth2BearerHandler(\n",
    "    bearer_token= os.environ['BEARER'])\n",
    "api = tweepy.API(auth, wait_on_rate_limit=True)"
   ],
   "metadata": {
    "collapsed": false
   }
  },
  {
   "cell_type": "code",
   "execution_count": 18,
   "outputs": [],
   "source": [
    "exception_users = dict()"
   ],
   "metadata": {
    "collapsed": false
   }
  },
  {
   "cell_type": "code",
   "execution_count": null,
   "outputs": [
    {
     "name": "stdout",
     "output_type": "stream",
     "text": [
      "found 95 scraped users\n"
     ]
    },
    {
     "name": "stderr",
     "output_type": "stream",
     "text": [
      "checking followers of poll authors:   0%|          | 1/292 [00:00<01:04,  4.50it/s]"
     ]
    },
    {
     "name": "stdout",
     "output_type": "stream",
     "text": [
      "404 Not Found\n",
      "34 - Sorry, that page does not exist.\n",
      "2515437133\n"
     ]
    },
    {
     "name": "stderr",
     "output_type": "stream",
     "text": [
      "checking followers of poll authors:   2%|▏         | 5/292 [00:02<02:33,  1.87it/s]Rate limit reached. Sleeping for: 895\n"
     ]
    }
   ],
   "source": [
    "\n",
    "for year in YEARS:\n",
    "    out_path = os.path.join(DATA_PATH, f'follower_lists_{year}.jsonl')\n",
    "    existing_users = set()\n",
    "    if os.path.exists(out_path):\n",
    "        with open(out_path) as f:\n",
    "            existing_users.update(k for l in f for k in json.loads(l))\n",
    "            print(f'found {len(existing_users)} scraped users')\n",
    "\n",
    "    with open(os.path.join(DATA_PATH, f'polls_{year}_author_ids.json')) as f:\n",
    "        author_ids = [id for id in json.load(f) if id not in existing_users]\n",
    "\n",
    "    with open(os.path.join(DATA_PATH, f'follower_lists_{year}.jsonl'), 'a+', encoding='utf8') as f:\n",
    "        for author_id in tqdm(author_ids, desc='checking followers of poll authors'):\n",
    "            follower_ids = []\n",
    "            try:\n",
    "                for page in tweepy.Cursor(api.get_follower_ids, user_id = author_id, count = 5000).pages():\n",
    "                    follower_ids.extend(page)\n",
    "                f.write(json.dumps({author_id:follower_ids}) + '\\n')\n",
    "            except TweepyException as e:\n",
    "                print(e)\n",
    "                print(author_id)\n",
    "                exception_users[id]=e\n"
   ],
   "metadata": {
    "collapsed": false,
    "pycharm": {
     "is_executing": true
    }
   }
  },
  {
   "cell_type": "code",
   "execution_count": null,
   "outputs": [],
   "source": [
    "# client = tweepy.Client(bearer_token=os.environ['BEARER'],\n",
    "#                        wait_on_rate_limit=True)\n",
    "# author_id = author_ids[0]\n",
    "# user_fields = ['id']\n",
    "# response = client.get_users_followers(id=author_id, user_fields=user_fields, max_results=1000)\n",
    "# one_user = response.data[0]\n",
    "# one_user.data\n",
    "# next_token = response.meta['next_token']"
   ],
   "metadata": {
    "collapsed": false
   }
  },
  {
   "cell_type": "code",
   "execution_count": null,
   "outputs": [],
   "source": [],
   "metadata": {
    "collapsed": false
   }
  },
  {
   "cell_type": "markdown",
   "source": [],
   "metadata": {
    "collapsed": false
   }
  }
 ],
 "metadata": {
  "kernelspec": {
   "display_name": "Python 3",
   "language": "python",
   "name": "python3"
  },
  "language_info": {
   "codemirror_mode": {
    "name": "ipython",
    "version": 2
   },
   "file_extension": ".py",
   "mimetype": "text/x-python",
   "name": "python",
   "nbconvert_exporter": "python",
   "pygments_lexer": "ipython2",
   "version": "2.7.6"
  }
 },
 "nbformat": 4,
 "nbformat_minor": 0
}
