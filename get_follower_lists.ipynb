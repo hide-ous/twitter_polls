{
 "cells": [
  {
   "cell_type": "code",
   "execution_count": 1,
   "metadata": {
    "collapsed": true
   },
   "outputs": [
    {
     "data": {
      "text/plain": "True"
     },
     "execution_count": 1,
     "metadata": {},
     "output_type": "execute_result"
    }
   ],
   "source": [
    "import json\n",
    "\n",
    "from tqdm import tqdm\n",
    "import tweepy\n",
    "from dotenv import load_dotenv\n",
    "import os\n",
    "\n",
    "from tweepy import TweepyException\n",
    "\n",
    "load_dotenv()  # take environment variables from .env."
   ]
  },
  {
   "cell_type": "code",
   "execution_count": 2,
   "outputs": [],
   "source": [
    "DATA_PATH = 'data'\n",
    "YEARS = [2016, 2020]"
   ],
   "metadata": {
    "collapsed": false
   }
  },
  {
   "cell_type": "code",
   "execution_count": 3,
   "outputs": [],
   "source": [
    "for year in YEARS:\n",
    "    with open(os.path.join(DATA_PATH, f'polls_{year}_labeled.json')) as f:\n",
    "        polls = json.load(f)\n",
    "    author_ids = list(map(lambda x: x['meta']['author_id'], polls))\n",
    "    with open(os.path.join(DATA_PATH, f'polls_{year}_author_ids.json'), 'w+') as f:\n",
    "        json.dump(author_ids, f)"
   ],
   "metadata": {
    "collapsed": false
   }
  },
  {
   "cell_type": "code",
   "execution_count": 4,
   "outputs": [],
   "source": [
    "auth = tweepy.OAuth2BearerHandler(\n",
    "    bearer_token= os.environ['BEARER'])\n",
    "api = tweepy.API(auth, wait_on_rate_limit=True)"
   ],
   "metadata": {
    "collapsed": false
   }
  },
  {
   "cell_type": "code",
   "execution_count": 7,
   "outputs": [],
   "source": [
    "exception_users = dict()"
   ],
   "metadata": {
    "collapsed": false
   }
  },
  {
   "cell_type": "code",
   "execution_count": 8,
   "outputs": [
    {
     "name": "stdout",
     "output_type": "stream",
     "text": [
      "found 59 scraped users\n"
     ]
    },
    {
     "name": "stderr",
     "output_type": "stream",
     "text": [
      "checking followers of poll authors:   0%|          | 0/50 [00:00<?, ?it/s]Rate limit reached. Sleeping for: 702\n",
      "checking followers of poll authors:   2%|▏         | 1/50 [11:43<9:34:29, 703.46s/it]"
     ]
    },
    {
     "name": "stdout",
     "output_type": "stream",
     "text": [
      "401 Unauthorized\n",
      "Not authorized.\n",
      "349240397\n"
     ]
    },
    {
     "name": "stderr",
     "output_type": "stream",
     "text": [
      "checking followers of poll authors:   4%|▍         | 2/50 [11:43<3:51:51, 289.81s/it]"
     ]
    },
    {
     "name": "stdout",
     "output_type": "stream",
     "text": [
      "401 Unauthorized\n",
      "Not authorized.\n",
      "155939890\n"
     ]
    },
    {
     "name": "stderr",
     "output_type": "stream",
     "text": [
      "Rate limit reached. Sleeping for: 894\n",
      "checking followers of poll authors:  24%|██▍       | 12/50 [26:48<09:56, 15.68s/it]  Rate limit reached. Sleeping for: 895\n",
      "checking followers of poll authors:  36%|███▌      | 18/50 [41:47<25:15, 47.36s/it]   Rate limit reached. Sleeping for: 894\n",
      "checking followers of poll authors:  40%|████      | 20/50 [56:50<1:46:29, 212.98s/it]Rate limit reached. Sleeping for: 895\n",
      "checking followers of poll authors:  46%|████▌     | 23/50 [1:11:48<1:32:19, 205.15s/it]Rate limit reached. Sleeping for: 895\n",
      "checking followers of poll authors:  54%|█████▍    | 27/50 [1:26:52<54:39, 142.59s/it]  Rate limit reached. Sleeping for: 895\n",
      "checking followers of poll authors:  72%|███████▏  | 36/50 [1:41:55<05:04, 21.73s/it]   Rate limit reached. Sleeping for: 895\n",
      "checking followers of poll authors:  84%|████████▍ | 42/50 [1:56:55<06:26, 48.27s/it]   Rate limit reached. Sleeping for: 895\n",
      "checking followers of poll authors:  90%|█████████ | 45/50 [2:11:59<12:29, 149.83s/it]Rate limit reached. Sleeping for: 894\n",
      "checking followers of poll authors:  98%|█████████▊| 49/50 [2:27:00<02:09, 129.21s/it]Rate limit reached. Sleeping for: 894\n",
      "checking followers of poll authors: 100%|██████████| 50/50 [2:41:56<00:00, 194.32s/it]\n",
      "checking followers of poll authors:   2%|▏         | 13/580 [00:03<02:25,  3.89it/s]Rate limit reached. Sleeping for: 896\n",
      "checking followers of poll authors:   4%|▍         | 25/580 [15:04<51:53,  5.61s/it]    Rate limit reached. Sleeping for: 896\n",
      "checking followers of poll authors:   7%|▋         | 40/580 [30:05<18:45,  2.08s/it]    Rate limit reached. Sleeping for: 896\n",
      "checking followers of poll authors:   9%|▉         | 55/580 [45:06<18:06,  2.07s/it]    Rate limit reached. Sleeping for: 896\n",
      "checking followers of poll authors:  12%|█▏        | 70/580 [1:00:07<17:38,  2.08s/it]    Rate limit reached. Sleeping for: 897\n",
      "checking followers of poll authors:  14%|█▍        | 84/580 [1:15:09<23:42,  2.87s/it]    Rate limit reached. Sleeping for: 897\n",
      "checking followers of poll authors:  17%|█▋        | 99/580 [1:30:10<16:34,  2.07s/it]    Rate limit reached. Sleeping for: 897\n",
      "checking followers of poll authors:  20%|█▉        | 114/580 [1:45:12<16:03,  2.07s/it]    Rate limit reached. Sleeping for: 896\n",
      "checking followers of poll authors:  22%|██▏       | 129/580 [2:00:12<15:27,  2.06s/it]    Rate limit reached. Sleeping for: 897\n",
      "checking followers of poll authors:  25%|██▍       | 144/580 [2:15:14<14:55,  2.05s/it]    Rate limit reached. Sleeping for: 896\n",
      "checking followers of poll authors:  26%|██▌       | 150/580 [2:30:12<5:27:19, 45.67s/it]  "
     ]
    },
    {
     "name": "stdout",
     "output_type": "stream",
     "text": [
      "404 Not Found\n",
      "34 - Sorry, that page does not exist.\n",
      "1273811445269106688\n"
     ]
    },
    {
     "name": "stderr",
     "output_type": "stream",
     "text": [
      "checking followers of poll authors:  27%|██▋       | 159/580 [2:30:15<14:25,  2.06s/it]  Rate limit reached. Sleeping for: 897\n",
      "checking followers of poll authors:  30%|███       | 174/580 [2:45:16<14:04,  2.08s/it]    Rate limit reached. Sleeping for: 897\n",
      "checking followers of poll authors:  33%|███▎      | 189/580 [3:00:18<13:29,  2.07s/it]    Rate limit reached. Sleeping for: 896\n",
      "checking followers of poll authors:  35%|███▌      | 204/580 [3:15:19<12:59,  2.07s/it]    Rate limit reached. Sleeping for: 896\n",
      "checking followers of poll authors:  36%|███▌      | 209/580 [3:30:17<6:42:58, 65.17s/it]  Rate limit reached. Sleeping for: 895\n",
      "checking followers of poll authors:  37%|███▋      | 217/580 [3:45:22<2:38:58, 26.28s/it]  Rate limit reached. Sleeping for: 895\n",
      "checking followers of poll authors:  40%|████      | 232/580 [4:00:21<12:35,  2.17s/it]    Rate limit reached. Sleeping for: 897\n",
      "checking followers of poll authors:  43%|████▎     | 247/580 [4:15:23<11:24,  2.06s/it]    Rate limit reached. Sleeping for: 896\n",
      "checking followers of poll authors:  45%|████▌     | 262/580 [4:30:24<11:00,  2.08s/it]    Rate limit reached. Sleeping for: 896\n",
      "checking followers of poll authors:  48%|████▊     | 277/580 [4:45:25<10:30,  2.08s/it]    Rate limit reached. Sleeping for: 897\n",
      "checking followers of poll authors:  50%|████▉     | 289/580 [5:00:27<27:59,  5.77s/it]    Rate limit reached. Sleeping for: 896\n",
      "checking followers of poll authors:  51%|█████     | 296/580 [5:15:28<2:34:00, 32.54s/it]  Rate limit reached. Sleeping for: 895\n",
      "checking followers of poll authors:  51%|█████     | 297/580 [5:30:31<23:05:28, 293.74s/it]Rate limit reached. Sleeping for: 894\n",
      "checking followers of poll authors:  53%|█████▎    | 306/580 [5:45:30<2:05:55, 27.57s/it]  Rate limit reached. Sleeping for: 895\n",
      "checking followers of poll authors:  55%|█████▍    | 318/580 [6:00:32<26:09,  5.99s/it]    Rate limit reached. Sleeping for: 895\n",
      "checking followers of poll authors:  57%|█████▋    | 328/580 [6:15:32<47:17, 11.26s/it]    Rate limit reached. Sleeping for: 896\n",
      "checking followers of poll authors:  59%|█████▉    | 343/580 [6:30:33<08:19,  2.11s/it]    Rate limit reached. Sleeping for: 897\n",
      "checking followers of poll authors:  60%|██████    | 349/580 [6:45:36<2:58:09, 46.28s/it]  Rate limit reached. Sleeping for: 894\n",
      "checking followers of poll authors:  61%|██████    | 351/580 [7:00:33<13:25:52, 211.15s/it]Rate limit reached. Sleeping for: 893\n",
      "Rate limit reached. Sleeping for: 893\n",
      "Rate limit reached. Sleeping for: 894\n",
      "Rate limit reached. Sleeping for: 893\n",
      "Rate limit reached. Sleeping for: 894\n",
      "Rate limit reached. Sleeping for: 894\n",
      "Rate limit reached. Sleeping for: 894\n",
      "Rate limit reached. Sleeping for: 894\n",
      "Rate limit reached. Sleeping for: 893\n",
      "Rate limit reached. Sleeping for: 894\n",
      "Rate limit reached. Sleeping for: 894\n",
      "Rate limit reached. Sleeping for: 894\n",
      "Rate limit reached. Sleeping for: 894\n",
      "Rate limit reached. Sleeping for: 894\n",
      "Rate limit reached. Sleeping for: 894\n",
      "Rate limit reached. Sleeping for: 894\n",
      "Rate limit reached. Sleeping for: 893\n",
      "Rate limit reached. Sleeping for: 894\n",
      "Rate limit reached. Sleeping for: 893\n",
      "Rate limit reached. Sleeping for: 894\n",
      "Rate limit reached. Sleeping for: 894\n",
      "Rate limit reached. Sleeping for: 894\n",
      "Rate limit reached. Sleeping for: 894\n",
      "Rate limit reached. Sleeping for: 894\n",
      "Rate limit reached. Sleeping for: 893\n",
      "Rate limit reached. Sleeping for: 894\n",
      "Rate limit reached. Sleeping for: 895\n",
      "Rate limit reached. Sleeping for: 894\n",
      "Rate limit reached. Sleeping for: 894\n",
      "Rate limit reached. Sleeping for: 894\n",
      "Rate limit reached. Sleeping for: 894\n",
      "Rate limit reached. Sleeping for: 894\n",
      "Rate limit reached. Sleeping for: 894\n",
      "Rate limit reached. Sleeping for: 894\n",
      "Rate limit reached. Sleeping for: 894\n",
      "Rate limit reached. Sleeping for: 894\n",
      "Rate limit reached. Sleeping for: 894\n",
      "Rate limit reached. Sleeping for: 894\n",
      "Rate limit reached. Sleeping for: 894\n",
      "Rate limit reached. Sleeping for: 894\n",
      "Rate limit reached. Sleeping for: 894\n",
      "Rate limit reached. Sleeping for: 894\n",
      "Rate limit reached. Sleeping for: 894\n",
      "Rate limit reached. Sleeping for: 894\n",
      "Rate limit reached. Sleeping for: 894\n",
      "Rate limit reached. Sleeping for: 894\n",
      "Rate limit reached. Sleeping for: 894\n",
      "Rate limit reached. Sleeping for: 894\n",
      "Rate limit reached. Sleeping for: 894\n",
      "checking followers of poll authors:  61%|██████    | 353/580 [19:16:34<591:16:46, 9377.12s/it] Rate limit reached. Sleeping for: 894\n",
      "checking followers of poll authors:  62%|██████▏   | 361/580 [19:31:33<34:15:05, 563.04s/it]  Rate limit reached. Sleeping for: 895\n",
      "checking followers of poll authors:  64%|██████▍   | 370/580 [19:46:33<2:14:40, 38.48s/it]  Rate limit reached. Sleeping for: 895\n",
      "checking followers of poll authors:  64%|██████▍   | 371/580 [20:01:37<17:17:56, 297.97s/it]Rate limit reached. Sleeping for: 893\n",
      "checking followers of poll authors:  64%|██████▍   | 373/580 [20:16:39<19:17:32, 335.52s/it]Rate limit reached. Sleeping for: 893\n",
      "checking followers of poll authors:  66%|██████▋   | 385/580 [20:31:38<33:13, 10.22s/it]    Rate limit reached. Sleeping for: 895\n",
      "checking followers of poll authors:  69%|██████▊   | 398/580 [20:46:37<12:23,  4.08s/it]    Rate limit reached. Sleeping for: 896\n",
      "checking followers of poll authors:  71%|███████   | 409/580 [21:01:41<22:46,  7.99s/it]    Rate limit reached. Sleeping for: 895\n",
      "checking followers of poll authors:  73%|███████▎  | 421/580 [21:16:40<15:06,  5.70s/it]    "
     ]
    },
    {
     "name": "stdout",
     "output_type": "stream",
     "text": [
      "404 Not Found\n",
      "34 - Sorry, that page does not exist.\n",
      "1273811445269106688\n"
     ]
    },
    {
     "name": "stderr",
     "output_type": "stream",
     "text": [
      "checking followers of poll authors:  73%|███████▎  | 424/580 [21:16:41<05:29,  2.11s/it]Rate limit reached. Sleeping for: 896\n",
      "checking followers of poll authors:  76%|███████▌  | 439/580 [21:31:42<04:53,  2.08s/it]    Rate limit reached. Sleeping for: 896\n",
      "checking followers of poll authors:  78%|███████▊  | 451/580 [21:46:43<12:12,  5.68s/it]    Rate limit reached. Sleeping for: 896\n",
      "checking followers of poll authors:  80%|███████▉  | 462/580 [22:01:45<16:07,  8.20s/it]   Rate limit reached. Sleeping for: 895\n",
      "checking followers of poll authors:  82%|████████▏ | 475/580 [22:16:45<07:04,  4.04s/it]   Rate limit reached. Sleeping for: 896\n",
      "checking followers of poll authors:  83%|████████▎ | 484/580 [22:31:45<25:30, 15.94s/it]   "
     ]
    },
    {
     "name": "stdout",
     "output_type": "stream",
     "text": [
      "404 Not Found\n",
      "34 - Sorry, that page does not exist.\n",
      "1216703337317457921\n"
     ]
    },
    {
     "name": "stderr",
     "output_type": "stream",
     "text": [
      "checking followers of poll authors:  84%|████████▍ | 489/580 [22:31:46<04:20,  2.86s/it]Rate limit reached. Sleeping for: 897\n",
      "checking followers of poll authors:  87%|████████▋ | 502/580 [22:46:48<05:23,  4.15s/it]   Rate limit reached. Sleeping for: 896\n",
      "checking followers of poll authors:  89%|████████▉ | 517/580 [23:01:50<02:12,  2.10s/it]   Rate limit reached. Sleeping for: 896\n",
      "checking followers of poll authors:  91%|█████████ | 529/580 [23:16:52<05:00,  5.90s/it]   Rate limit reached. Sleeping for: 895\n",
      "checking followers of poll authors:  93%|█████████▎| 539/580 [23:31:53<07:44, 11.34s/it]   Rate limit reached. Sleeping for: 895\n",
      "checking followers of poll authors:  95%|█████████▌| 553/580 [23:46:52<01:19,  2.94s/it]   Rate limit reached. Sleeping for: 897\n",
      "checking followers of poll authors:  98%|█████████▊| 566/580 [24:01:55<00:55,  4.00s/it]   Rate limit reached. Sleeping for: 896\n",
      "checking followers of poll authors: 100%|██████████| 580/580 [24:16:55<00:00, 150.72s/it]\n"
     ]
    }
   ],
   "source": [
    "\n",
    "for year in YEARS:\n",
    "    out_path = os.path.join(DATA_PATH, f'follower_lists_{year}.jsonl')\n",
    "    existing_users = set()\n",
    "    if os.path.exists(out_path):\n",
    "        with open(out_path) as f:\n",
    "            existing_users.update(k for l in f for k in json.loads(l))\n",
    "            print(f'found {len(existing_users)} scraped users')\n",
    "\n",
    "    with open(os.path.join(DATA_PATH, f'polls_{year}_author_ids.json')) as f:\n",
    "        author_ids = [id for id in json.load(f) if id not in existing_users]\n",
    "\n",
    "    with open(os.path.join(DATA_PATH, f'follower_lists_{year}.jsonl'), 'a+', encoding='utf8') as f:\n",
    "        for author_id in tqdm(author_ids, desc='checking followers of poll authors'):\n",
    "            follower_ids = []\n",
    "            try:\n",
    "                for page in tweepy.Cursor(api.get_follower_ids, user_id = author_id, count = 5000).pages():\n",
    "                    follower_ids.extend(page)\n",
    "                f.write(json.dumps({author_id:follower_ids}) + '\\n')\n",
    "            except TweepyException as e:\n",
    "                print(e)\n",
    "                print(author_id)\n",
    "                exception_users[id]=e\n"
   ],
   "metadata": {
    "collapsed": false
   }
  },
  {
   "cell_type": "code",
   "execution_count": null,
   "outputs": [],
   "source": [
    "# client = tweepy.Client(bearer_token=os.environ['BEARER'],\n",
    "#                        wait_on_rate_limit=True)\n",
    "# author_id = author_ids[0]\n",
    "# user_fields = ['id']\n",
    "# response = client.get_users_followers(id=author_id, user_fields=user_fields, max_results=1000)\n",
    "# one_user = response.data[0]\n",
    "# one_user.data\n",
    "# next_token = response.meta['next_token']"
   ],
   "metadata": {
    "collapsed": false
   }
  },
  {
   "cell_type": "code",
   "execution_count": null,
   "outputs": [],
   "source": [],
   "metadata": {
    "collapsed": false
   }
  },
  {
   "cell_type": "markdown",
   "source": [],
   "metadata": {
    "collapsed": false
   }
  }
 ],
 "metadata": {
  "kernelspec": {
   "display_name": "Python 3",
   "language": "python",
   "name": "python3"
  },
  "language_info": {
   "codemirror_mode": {
    "name": "ipython",
    "version": 2
   },
   "file_extension": ".py",
   "mimetype": "text/x-python",
   "name": "python",
   "nbconvert_exporter": "python",
   "pygments_lexer": "ipython2",
   "version": "2.7.6"
  }
 },
 "nbformat": 4,
 "nbformat_minor": 0
}
