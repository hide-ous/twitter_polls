{
 "cells": [
  {
   "cell_type": "code",
   "execution_count": 1,
   "metadata": {
    "collapsed": true
   },
   "outputs": [
    {
     "data": {
      "text/plain": "True"
     },
     "execution_count": 1,
     "metadata": {},
     "output_type": "execute_result"
    }
   ],
   "source": [
    "import json\n",
    "\n",
    "import pandas as pd\n",
    "from tqdm import tqdm\n",
    "import tweepy\n",
    "from dotenv import load_dotenv\n",
    "import os\n",
    "\n",
    "from tweepy import TweepyException\n",
    "\n",
    "load_dotenv()  # load environment variables from .env"
   ]
  },
  {
   "cell_type": "code",
   "execution_count": 2,
   "outputs": [],
   "source": [
    "DATA_PATH = 'data'\n",
    "YEARS = [2016, 2020]"
   ],
   "metadata": {
    "collapsed": false
   }
  },
  {
   "cell_type": "code",
   "execution_count": 16,
   "outputs": [],
   "source": [
    "for year in YEARS:\n",
    "    with open(os.path.join(DATA_PATH, f'polls-{year}.json')) as f:\n",
    "        polls = json.load(f)\n",
    "    author_ids = [poll['meta']['author_id'] for poll in filter(lambda x: x['type']=='twitter', polls)]\n",
    "    with open(os.path.join(DATA_PATH, f'polls_{year}_author_ids.json'), 'w+') as f:\n",
    "        json.dump(author_ids, f)"
   ],
   "metadata": {
    "collapsed": false
   }
  },
  {
   "cell_type": "code",
   "execution_count": 17,
   "outputs": [],
   "source": [
    "auth = tweepy.OAuth2BearerHandler(\n",
    "    bearer_token= os.environ['BEARER'])\n",
    "api = tweepy.API(auth, wait_on_rate_limit=True)"
   ],
   "metadata": {
    "collapsed": false
   }
  },
  {
   "cell_type": "code",
   "execution_count": 29,
   "outputs": [],
   "source": [
    "exception_users = dict()"
   ],
   "metadata": {
    "collapsed": false
   }
  },
  {
   "cell_type": "code",
   "execution_count": 30,
   "outputs": [
    {
     "name": "stdout",
     "output_type": "stream",
     "text": [
      "found 333 scraped users\n"
     ]
    },
    {
     "name": "stderr",
     "output_type": "stream",
     "text": [
      "checking followers of poll authors:   6%|▌         | 1/17 [00:00<00:03,  4.91it/s]"
     ]
    },
    {
     "name": "stdout",
     "output_type": "stream",
     "text": [
      "404 Not Found\n",
      "34 - Sorry, that page does not exist.\n",
      "2515437133\n"
     ]
    },
    {
     "name": "stderr",
     "output_type": "stream",
     "text": [
      "checking followers of poll authors:  18%|█▊        | 3/17 [00:00<00:02,  4.86it/s]"
     ]
    },
    {
     "name": "stdout",
     "output_type": "stream",
     "text": [
      "401 Unauthorized\n",
      "Not authorized.\n",
      "155939890\n"
     ]
    },
    {
     "name": "stderr",
     "output_type": "stream",
     "text": [
      "checking followers of poll authors:  24%|██▎       | 4/17 [00:00<00:02,  4.61it/s]"
     ]
    },
    {
     "name": "stdout",
     "output_type": "stream",
     "text": [
      "401 Unauthorized\n",
      "Not authorized.\n",
      "871921008\n"
     ]
    },
    {
     "name": "stderr",
     "output_type": "stream",
     "text": [
      "checking followers of poll authors:  29%|██▉       | 5/17 [00:01<00:02,  4.48it/s]"
     ]
    },
    {
     "name": "stdout",
     "output_type": "stream",
     "text": [
      "401 Unauthorized\n",
      "Not authorized.\n",
      "215886325\n"
     ]
    },
    {
     "name": "stderr",
     "output_type": "stream",
     "text": [
      "checking followers of poll authors:  41%|████      | 7/17 [00:01<00:02,  4.65it/s]"
     ]
    },
    {
     "name": "stdout",
     "output_type": "stream",
     "text": [
      "404 Not Found\n",
      "34 - Sorry, that page does not exist.\n",
      "742938016495378433\n",
      "404 Not Found\n",
      "34 - Sorry, that page does not exist.\n",
      "3224102715\n"
     ]
    },
    {
     "name": "stderr",
     "output_type": "stream",
     "text": [
      "checking followers of poll authors:  47%|████▋     | 8/17 [00:01<00:01,  4.74it/s]"
     ]
    },
    {
     "name": "stdout",
     "output_type": "stream",
     "text": [
      "401 Unauthorized\n",
      "Not authorized.\n",
      "206061601\n"
     ]
    },
    {
     "name": "stderr",
     "output_type": "stream",
     "text": [
      "checking followers of poll authors:  53%|█████▎    | 9/17 [00:01<00:01,  4.62it/s]"
     ]
    },
    {
     "name": "stdout",
     "output_type": "stream",
     "text": [
      "401 Unauthorized\n",
      "Not authorized.\n",
      "390502765\n"
     ]
    },
    {
     "name": "stderr",
     "output_type": "stream",
     "text": [
      "checking followers of poll authors:  59%|█████▉    | 10/17 [00:02<00:01,  4.70it/s]"
     ]
    },
    {
     "name": "stdout",
     "output_type": "stream",
     "text": [
      "401 Unauthorized\n",
      "Not authorized.\n",
      "414845225\n"
     ]
    },
    {
     "name": "stderr",
     "output_type": "stream",
     "text": [
      "checking followers of poll authors:  71%|███████   | 12/17 [00:02<00:01,  4.68it/s]"
     ]
    },
    {
     "name": "stdout",
     "output_type": "stream",
     "text": [
      "404 Not Found\n",
      "34 - Sorry, that page does not exist.\n",
      "261306457\n",
      "404 Not Found\n",
      "34 - Sorry, that page does not exist.\n",
      "2669804190\n"
     ]
    },
    {
     "name": "stderr",
     "output_type": "stream",
     "text": [
      "checking followers of poll authors:  76%|███████▋  | 13/17 [00:02<00:00,  4.67it/s]"
     ]
    },
    {
     "name": "stdout",
     "output_type": "stream",
     "text": [
      "401 Unauthorized\n",
      "Not authorized.\n",
      "728059399\n"
     ]
    },
    {
     "name": "stderr",
     "output_type": "stream",
     "text": [
      "checking followers of poll authors:  82%|████████▏ | 14/17 [00:03<00:00,  4.63it/s]"
     ]
    },
    {
     "name": "stdout",
     "output_type": "stream",
     "text": [
      "401 Unauthorized\n",
      "Not authorized.\n",
      "206061601\n"
     ]
    },
    {
     "name": "stderr",
     "output_type": "stream",
     "text": [
      "checking followers of poll authors:  88%|████████▊ | 15/17 [00:03<00:00,  4.64it/s]"
     ]
    },
    {
     "name": "stdout",
     "output_type": "stream",
     "text": [
      "401 Unauthorized\n",
      "Not authorized.\n",
      "728059399\n"
     ]
    },
    {
     "name": "stderr",
     "output_type": "stream",
     "text": [
      "Rate limit reached. Sleeping for: 896\n",
      "checking followers of poll authors:  94%|█████████▍| 16/17 [15:00<04:30, 270.29s/it]"
     ]
    },
    {
     "name": "stdout",
     "output_type": "stream",
     "text": [
      "404 Not Found\n",
      "34 - Sorry, that page does not exist.\n",
      "752989213851877377\n"
     ]
    },
    {
     "name": "stderr",
     "output_type": "stream",
     "text": [
      "checking followers of poll authors: 100%|██████████| 17/17 [15:00<00:00, 52.99s/it] "
     ]
    },
    {
     "name": "stdout",
     "output_type": "stream",
     "text": [
      "401 Unauthorized\n",
      "Not authorized.\n",
      "2381862440\n"
     ]
    },
    {
     "name": "stderr",
     "output_type": "stream",
     "text": [
      "\n"
     ]
    },
    {
     "name": "stdout",
     "output_type": "stream",
     "text": [
      "found 636 scraped users\n"
     ]
    },
    {
     "name": "stderr",
     "output_type": "stream",
     "text": [
      "checking followers of poll authors:   2%|▏         | 1/55 [00:00<00:12,  4.21it/s]"
     ]
    },
    {
     "name": "stdout",
     "output_type": "stream",
     "text": [
      "401 Unauthorized\n",
      "Not authorized.\n",
      "86815264\n"
     ]
    },
    {
     "name": "stderr",
     "output_type": "stream",
     "text": [
      "checking followers of poll authors:   4%|▎         | 2/55 [00:00<00:12,  4.35it/s]"
     ]
    },
    {
     "name": "stdout",
     "output_type": "stream",
     "text": [
      "401 Unauthorized\n",
      "Not authorized.\n",
      "1594409988\n"
     ]
    },
    {
     "name": "stderr",
     "output_type": "stream",
     "text": [
      "checking followers of poll authors:   5%|▌         | 3/55 [00:00<00:11,  4.52it/s]"
     ]
    },
    {
     "name": "stdout",
     "output_type": "stream",
     "text": [
      "401 Unauthorized\n",
      "Not authorized.\n",
      "1594409988\n"
     ]
    },
    {
     "name": "stderr",
     "output_type": "stream",
     "text": [
      "checking followers of poll authors:   7%|▋         | 4/55 [00:00<00:11,  4.37it/s]"
     ]
    },
    {
     "name": "stdout",
     "output_type": "stream",
     "text": [
      "401 Unauthorized\n",
      "Not authorized.\n",
      "1594409988\n"
     ]
    },
    {
     "name": "stderr",
     "output_type": "stream",
     "text": [
      "checking followers of poll authors:   9%|▉         | 5/55 [00:01<00:11,  4.44it/s]"
     ]
    },
    {
     "name": "stdout",
     "output_type": "stream",
     "text": [
      "401 Unauthorized\n",
      "Not authorized.\n",
      "1194495690191360004\n"
     ]
    },
    {
     "name": "stderr",
     "output_type": "stream",
     "text": [
      "checking followers of poll authors:  11%|█         | 6/55 [00:01<00:10,  4.53it/s]"
     ]
    },
    {
     "name": "stdout",
     "output_type": "stream",
     "text": [
      "401 Unauthorized\n",
      "Not authorized.\n",
      "1594409988\n"
     ]
    },
    {
     "name": "stderr",
     "output_type": "stream",
     "text": [
      "checking followers of poll authors:  13%|█▎        | 7/55 [00:01<00:10,  4.58it/s]"
     ]
    },
    {
     "name": "stdout",
     "output_type": "stream",
     "text": [
      "404 Not Found\n",
      "34 - Sorry, that page does not exist.\n",
      "42841187\n",
      "401 Unauthorized\n",
      "Not authorized.\n",
      "86815264\n"
     ]
    },
    {
     "name": "stderr",
     "output_type": "stream",
     "text": [
      "checking followers of poll authors:  16%|█▋        | 9/55 [00:01<00:10,  4.59it/s]"
     ]
    },
    {
     "name": "stdout",
     "output_type": "stream",
     "text": [
      "404 Not Found\n",
      "34 - Sorry, that page does not exist.\n",
      "209684798\n"
     ]
    },
    {
     "name": "stderr",
     "output_type": "stream",
     "text": [
      "checking followers of poll authors:  18%|█▊        | 10/55 [00:02<00:09,  4.53it/s]"
     ]
    },
    {
     "name": "stdout",
     "output_type": "stream",
     "text": [
      "401 Unauthorized\n",
      "Not authorized.\n",
      "4875048329\n"
     ]
    },
    {
     "name": "stderr",
     "output_type": "stream",
     "text": [
      "checking followers of poll authors:  20%|██        | 11/55 [00:02<00:09,  4.55it/s]"
     ]
    },
    {
     "name": "stdout",
     "output_type": "stream",
     "text": [
      "404 Not Found\n",
      "34 - Sorry, that page does not exist.\n",
      "553581707\n",
      "401 Unauthorized\n",
      "Not authorized.\n",
      "86815264\n"
     ]
    },
    {
     "name": "stderr",
     "output_type": "stream",
     "text": [
      "checking followers of poll authors:  24%|██▎       | 13/55 [00:02<00:09,  4.57it/s]"
     ]
    },
    {
     "name": "stdout",
     "output_type": "stream",
     "text": [
      "404 Not Found\n",
      "34 - Sorry, that page does not exist.\n",
      "3140006645\n"
     ]
    },
    {
     "name": "stderr",
     "output_type": "stream",
     "text": [
      "Rate limit reached. Sleeping for: 895\n",
      "checking followers of poll authors:  25%|██▌       | 14/55 [14:59<3:05:07, 270.92s/it]"
     ]
    },
    {
     "name": "stdout",
     "output_type": "stream",
     "text": [
      "401 Unauthorized\n",
      "Not authorized.\n",
      "86815264\n"
     ]
    },
    {
     "name": "stderr",
     "output_type": "stream",
     "text": [
      "checking followers of poll authors:  27%|██▋       | 15/55 [14:59<2:06:12, 189.32s/it]"
     ]
    },
    {
     "name": "stdout",
     "output_type": "stream",
     "text": [
      "404 Not Found\n",
      "34 - Sorry, that page does not exist.\n",
      "401757176\n"
     ]
    },
    {
     "name": "stderr",
     "output_type": "stream",
     "text": [
      "checking followers of poll authors:  31%|███       | 17/55 [14:59<58:40, 92.65s/it]   "
     ]
    },
    {
     "name": "stdout",
     "output_type": "stream",
     "text": [
      "401 Unauthorized\n",
      "Not authorized.\n",
      "24096463\n",
      "401 Unauthorized\n",
      "Not authorized.\n",
      "3389073989\n"
     ]
    },
    {
     "name": "stderr",
     "output_type": "stream",
     "text": [
      "checking followers of poll authors:  33%|███▎      | 18/55 [15:00<40:00, 64.88s/it]"
     ]
    },
    {
     "name": "stdout",
     "output_type": "stream",
     "text": [
      "401 Unauthorized\n",
      "Not authorized.\n",
      "786209354\n"
     ]
    },
    {
     "name": "stderr",
     "output_type": "stream",
     "text": [
      "checking followers of poll authors:  35%|███▍      | 19/55 [15:00<27:16, 45.46s/it]"
     ]
    },
    {
     "name": "stdout",
     "output_type": "stream",
     "text": [
      "401 Unauthorized\n",
      "Not authorized.\n",
      "1089300681872175104\n",
      "401 Unauthorized\n",
      "Not authorized.\n",
      "1037663718686031879\n"
     ]
    },
    {
     "name": "stderr",
     "output_type": "stream",
     "text": [
      "checking followers of poll authors:  38%|███▊      | 21/55 [15:00<12:40, 22.37s/it]"
     ]
    },
    {
     "name": "stdout",
     "output_type": "stream",
     "text": [
      "404 Not Found\n",
      "34 - Sorry, that page does not exist.\n",
      "4030465994\n"
     ]
    },
    {
     "name": "stderr",
     "output_type": "stream",
     "text": [
      "checking followers of poll authors:  40%|████      | 22/55 [15:01<08:38, 15.72s/it]"
     ]
    },
    {
     "name": "stdout",
     "output_type": "stream",
     "text": [
      "404 Not Found\n",
      "34 - Sorry, that page does not exist.\n",
      "1257444286934781952\n"
     ]
    },
    {
     "name": "stderr",
     "output_type": "stream",
     "text": [
      "checking followers of poll authors:  42%|████▏     | 23/55 [15:01<05:54, 11.08s/it]"
     ]
    },
    {
     "name": "stdout",
     "output_type": "stream",
     "text": [
      "404 Not Found\n",
      "34 - Sorry, that page does not exist.\n",
      "1201768582402711552\n"
     ]
    },
    {
     "name": "stderr",
     "output_type": "stream",
     "text": [
      "checking followers of poll authors:  44%|████▎     | 24/55 [15:01<04:02,  7.82s/it]"
     ]
    },
    {
     "name": "stdout",
     "output_type": "stream",
     "text": [
      "401 Unauthorized\n",
      "Not authorized.\n",
      "1077552804930224128\n"
     ]
    },
    {
     "name": "stderr",
     "output_type": "stream",
     "text": [
      "checking followers of poll authors:  45%|████▌     | 25/55 [15:01<02:46,  5.54s/it]"
     ]
    },
    {
     "name": "stdout",
     "output_type": "stream",
     "text": [
      "404 Not Found\n",
      "34 - Sorry, that page does not exist.\n",
      "1273811445269106688\n",
      "404 Not Found\n",
      "34 - Sorry, that page does not exist.\n",
      "1109108413966049280\n"
     ]
    },
    {
     "name": "stderr",
     "output_type": "stream",
     "text": [
      "checking followers of poll authors:  51%|█████     | 28/55 [15:02<00:55,  2.04s/it]"
     ]
    },
    {
     "name": "stdout",
     "output_type": "stream",
     "text": [
      "401 Unauthorized\n",
      "Not authorized.\n",
      "2930966494\n",
      "401 Unauthorized\n",
      "Not authorized.\n",
      "1277427101633613824\n"
     ]
    },
    {
     "name": "stderr",
     "output_type": "stream",
     "text": [
      "Rate limit reached. Sleeping for: 897\n",
      "checking followers of poll authors:  53%|█████▎    | 29/55 [30:00<1:57:25, 270.97s/it]"
     ]
    },
    {
     "name": "stdout",
     "output_type": "stream",
     "text": [
      "401 Unauthorized\n",
      "Not authorized.\n",
      "30109729\n",
      "404 Not Found\n",
      "34 - Sorry, that page does not exist.\n",
      "1302297223632482305\n"
     ]
    },
    {
     "name": "stderr",
     "output_type": "stream",
     "text": [
      "checking followers of poll authors:  56%|█████▋    | 31/55 [30:01<53:09, 132.88s/it]  "
     ]
    },
    {
     "name": "stdout",
     "output_type": "stream",
     "text": [
      "404 Not Found\n",
      "34 - Sorry, that page does not exist.\n",
      "2275031188\n"
     ]
    },
    {
     "name": "stderr",
     "output_type": "stream",
     "text": [
      "checking followers of poll authors:  58%|█████▊    | 32/55 [30:01<35:40, 93.09s/it] "
     ]
    },
    {
     "name": "stdout",
     "output_type": "stream",
     "text": [
      "404 Not Found\n",
      "34 - Sorry, that page does not exist.\n",
      "946409530853855232\n"
     ]
    },
    {
     "name": "stderr",
     "output_type": "stream",
     "text": [
      "checking followers of poll authors:  60%|██████    | 33/55 [30:01<23:54, 65.23s/it]"
     ]
    },
    {
     "name": "stdout",
     "output_type": "stream",
     "text": [
      "401 Unauthorized\n",
      "Not authorized.\n",
      "1077552804930224128\n"
     ]
    },
    {
     "name": "stderr",
     "output_type": "stream",
     "text": [
      "checking followers of poll authors:  62%|██████▏   | 34/55 [30:01<16:00, 45.72s/it]"
     ]
    },
    {
     "name": "stdout",
     "output_type": "stream",
     "text": [
      "404 Not Found\n",
      "34 - Sorry, that page does not exist.\n",
      "1066864102406946816\n"
     ]
    },
    {
     "name": "stderr",
     "output_type": "stream",
     "text": [
      "checking followers of poll authors:  64%|██████▎   | 35/55 [30:02<10:41, 32.08s/it]"
     ]
    },
    {
     "name": "stdout",
     "output_type": "stream",
     "text": [
      "404 Not Found\n",
      "34 - Sorry, that page does not exist.\n",
      "743520822610911233\n"
     ]
    },
    {
     "name": "stderr",
     "output_type": "stream",
     "text": [
      "checking followers of poll authors:  65%|██████▌   | 36/55 [30:02<07:07, 22.52s/it]"
     ]
    },
    {
     "name": "stdout",
     "output_type": "stream",
     "text": [
      "401 Unauthorized\n",
      "Not authorized.\n",
      "32372752\n",
      "404 Not Found\n",
      "34 - Sorry, that page does not exist.\n",
      "2268746017\n"
     ]
    },
    {
     "name": "stderr",
     "output_type": "stream",
     "text": [
      "checking followers of poll authors:  69%|██████▉   | 38/55 [30:02<03:09, 11.17s/it]"
     ]
    },
    {
     "name": "stdout",
     "output_type": "stream",
     "text": [
      "404 Not Found\n",
      "34 - Sorry, that page does not exist.\n",
      "1187154684408188928\n"
     ]
    },
    {
     "name": "stderr",
     "output_type": "stream",
     "text": [
      "checking followers of poll authors:  71%|███████   | 39/55 [30:03<02:06,  7.89s/it]"
     ]
    },
    {
     "name": "stdout",
     "output_type": "stream",
     "text": [
      "401 Unauthorized\n",
      "Not authorized.\n",
      "147733355\n"
     ]
    },
    {
     "name": "stderr",
     "output_type": "stream",
     "text": [
      "checking followers of poll authors:  73%|███████▎  | 40/55 [30:03<01:23,  5.59s/it]"
     ]
    },
    {
     "name": "stdout",
     "output_type": "stream",
     "text": [
      "401 Unauthorized\n",
      "Not authorized.\n",
      "2271320364\n"
     ]
    },
    {
     "name": "stderr",
     "output_type": "stream",
     "text": [
      "checking followers of poll authors:  76%|███████▋  | 42/55 [30:03<00:37,  2.87s/it]"
     ]
    },
    {
     "name": "stdout",
     "output_type": "stream",
     "text": [
      "404 Not Found\n",
      "34 - Sorry, that page does not exist.\n",
      "1135633178440425472\n",
      "401 Unauthorized\n",
      "Not authorized.\n",
      "714976928323805185\n"
     ]
    },
    {
     "name": "stderr",
     "output_type": "stream",
     "text": [
      "checking followers of poll authors:  78%|███████▊  | 43/55 [30:04<00:24,  2.07s/it]Rate limit reached. Sleeping for: 896\n"
     ]
    },
    {
     "name": "stdout",
     "output_type": "stream",
     "text": [
      "401 Unauthorized\n",
      "Not authorized.\n",
      "1258037784474013696\n"
     ]
    },
    {
     "name": "stderr",
     "output_type": "stream",
     "text": [
      "checking followers of poll authors:  80%|████████  | 44/55 [45:01<49:37, 270.69s/it]"
     ]
    },
    {
     "name": "stdout",
     "output_type": "stream",
     "text": [
      "401 Unauthorized\n",
      "Not authorized.\n",
      "101044787\n",
      "404 Not Found\n",
      "34 - Sorry, that page does not exist.\n",
      "4591703001\n"
     ]
    },
    {
     "name": "stderr",
     "output_type": "stream",
     "text": [
      "checking followers of poll authors:  84%|████████▎ | 46/55 [45:01<19:54, 132.75s/it]"
     ]
    },
    {
     "name": "stdout",
     "output_type": "stream",
     "text": [
      "401 Unauthorized\n",
      "Not authorized.\n",
      "1281175699580055552\n"
     ]
    },
    {
     "name": "stderr",
     "output_type": "stream",
     "text": [
      "checking followers of poll authors:  85%|████████▌ | 47/55 [45:02<12:23, 92.99s/it] "
     ]
    },
    {
     "name": "stdout",
     "output_type": "stream",
     "text": [
      "404 Not Found\n",
      "34 - Sorry, that page does not exist.\n",
      "1273811445269106688\n"
     ]
    },
    {
     "name": "stderr",
     "output_type": "stream",
     "text": [
      "checking followers of poll authors:  87%|████████▋ | 48/55 [45:02<07:36, 65.15s/it]"
     ]
    },
    {
     "name": "stdout",
     "output_type": "stream",
     "text": [
      "401 Unauthorized\n",
      "Not authorized.\n",
      "1258037784474013696\n"
     ]
    },
    {
     "name": "stderr",
     "output_type": "stream",
     "text": [
      "checking followers of poll authors:  89%|████████▉ | 49/55 [45:02<04:34, 45.67s/it]"
     ]
    },
    {
     "name": "stdout",
     "output_type": "stream",
     "text": [
      "401 Unauthorized\n",
      "Not authorized.\n",
      "970653049596203008\n",
      "404 Not Found\n",
      "34 - Sorry, that page does not exist.\n",
      "1005708111741628419\n"
     ]
    },
    {
     "name": "stderr",
     "output_type": "stream",
     "text": [
      "checking followers of poll authors:  93%|█████████▎| 51/55 [45:03<01:29, 22.49s/it]"
     ]
    },
    {
     "name": "stdout",
     "output_type": "stream",
     "text": [
      "404 Not Found\n",
      "34 - Sorry, that page does not exist.\n",
      "1268830393597407238\n"
     ]
    },
    {
     "name": "stderr",
     "output_type": "stream",
     "text": [
      "checking followers of poll authors:  95%|█████████▍| 52/55 [45:03<00:47, 15.81s/it]"
     ]
    },
    {
     "name": "stdout",
     "output_type": "stream",
     "text": [
      "404 Not Found\n",
      "34 - Sorry, that page does not exist.\n",
      "1216703337317457921\n",
      "401 Unauthorized\n",
      "Not authorized.\n",
      "63998604\n"
     ]
    },
    {
     "name": "stderr",
     "output_type": "stream",
     "text": [
      "checking followers of poll authors:  98%|█████████▊| 54/55 [45:03<00:07,  7.85s/it]"
     ]
    },
    {
     "name": "stdout",
     "output_type": "stream",
     "text": [
      "401 Unauthorized\n",
      "Not authorized.\n",
      "1110075862328717312\n"
     ]
    },
    {
     "name": "stderr",
     "output_type": "stream",
     "text": [
      "checking followers of poll authors: 100%|██████████| 55/55 [45:03<00:00, 49.16s/it]"
     ]
    },
    {
     "name": "stdout",
     "output_type": "stream",
     "text": [
      "404 Not Found\n",
      "34 - Sorry, that page does not exist.\n",
      "1292939157375987712\n"
     ]
    },
    {
     "name": "stderr",
     "output_type": "stream",
     "text": [
      "\n"
     ]
    }
   ],
   "source": [
    "\n",
    "for year in YEARS:\n",
    "    out_path = os.path.join(DATA_PATH, f'follower_lists_{year}.jsonl')\n",
    "    existing_users = set()\n",
    "    if os.path.exists(out_path):\n",
    "        with open(out_path) as f:\n",
    "            existing_users.update(k for l in f for k in json.loads(l))\n",
    "            print(f'found {len(existing_users)} scraped users')\n",
    "\n",
    "    with open(os.path.join(DATA_PATH, f'polls_{year}_author_ids.json')) as f:\n",
    "        author_ids = [id for id in json.load(f) if id not in existing_users]\n",
    "\n",
    "    with open(os.path.join(DATA_PATH, f'follower_lists_{year}.jsonl'), 'a+', encoding='utf8') as f:\n",
    "        for author_id in tqdm(author_ids, desc='checking followers of poll authors'):\n",
    "            follower_ids = []\n",
    "            try:\n",
    "                for page in tweepy.Cursor(api.get_follower_ids, user_id = author_id, count = 5000).pages():\n",
    "                    follower_ids.extend(page)\n",
    "                f.write(json.dumps({author_id:follower_ids}) + '\\n')\n",
    "            except TweepyException as e:\n",
    "                print(e)\n",
    "                print(author_id)\n",
    "                exception_users[author_id]=e\n"
   ],
   "metadata": {
    "collapsed": false
   }
  },
  {
   "cell_type": "code",
   "execution_count": 31,
   "outputs": [
    {
     "data": {
      "text/plain": "60"
     },
     "execution_count": 31,
     "metadata": {},
     "output_type": "execute_result"
    }
   ],
   "source": [
    "len(exception_users)"
   ],
   "metadata": {
    "collapsed": false
   }
  },
  {
   "cell_type": "code",
   "execution_count": 41,
   "outputs": [],
   "source": [
    "with open(os.path.join(DATA_PATH, 'authors_missing.jsonl'), 'w+') as f:\n",
    "    for k, v in exception_users.items():\n",
    "        f.write(json.dumps({k:v.api_errors[0]})+'\\n')"
   ],
   "metadata": {
    "collapsed": false
   }
  },
  {
   "cell_type": "code",
   "execution_count": 42,
   "outputs": [
    {
     "name": "stdout",
     "output_type": "stream",
     "text": [
      "found 334 scraped users\n",
      "16\n",
      "0\n",
      "found 636 scraped users\n",
      "55\n",
      "0\n"
     ]
    }
   ],
   "source": [
    "for year in YEARS:\n",
    "    out_path = os.path.join(DATA_PATH, f'follower_lists_{year}.jsonl')\n",
    "    existing_users = set()\n",
    "    if os.path.exists(out_path):\n",
    "        with open(out_path) as f:\n",
    "            existing_users.update(k for l in f for k in json.loads(l))\n",
    "            print(f'found {len(existing_users)} scraped users')\n",
    "\n",
    "    with open(os.path.join(DATA_PATH, f'polls_{year}_author_ids.json')) as f:\n",
    "        author_ids = [id for id in json.load(f) if id not in existing_users]\n",
    "        print(len(author_ids))\n",
    "        print(len([i for i in author_ids if i not in exception_users]))"
   ],
   "metadata": {
    "collapsed": false
   }
  },
  {
   "cell_type": "code",
   "execution_count": 54,
   "outputs": [
    {
     "data": {
      "text/plain": "1050"
     },
     "execution_count": 54,
     "metadata": {},
     "output_type": "execute_result"
    }
   ],
   "source": [
    "import pandas as pd\n",
    "\n",
    "fnames = ['senators-accounts-1.csv',\n",
    "'representatives-accounts-1.csv',\n",
    "'congress116-house-accounts.csv',\n",
    "'congress116-senate-accounts.csv',]\n",
    "congress_ids = set(pd.concat([pd.read_csv(os.path.join(DATA_PATH, fname)) for fname in fnames]).Uid.unique())\n",
    "len(congress_ids)"
   ],
   "metadata": {
    "collapsed": false
   }
  },
  {
   "cell_type": "code",
   "execution_count": 55,
   "outputs": [
    {
     "data": {
      "text/plain": "{803694179079458816,\n 816683274076614656,\n 818554054309715969,\n 817076257770835968,\n 811313565760163844,\n 811986281177772032,\n 816157667882373120,\n 2974648323,\n 806583915012046854,\n 818472418620608512,\n 816298918468259841,\n 815966620300480514,\n 816652616625168388,\n 798973032362606600,\n 161411080,\n 442824717,\n 21157904,\n 855240223432769538,\n 829061809135030272,\n 304138251,\n 193441812,\n 4228409359,\n 1080574793630527505,\n 158890005,\n 1058717720,\n 1129029661,\n 242376736,\n 42481696,\n 550131748,\n 385429543,\n 5558312,\n 2976606250,\n 117501995,\n 43986986,\n 2933760046,\n 303861808,\n 404355121,\n 4827594804,\n 188403766,\n 22044727,\n 237862972,\n 231510077,\n 1058807868,\n 218292287,\n 153507902,\n 158470209,\n 970207298,\n 3018670151,\n 816303263586914304,\n 721127537674489856,\n 233949261,\n 241207373,\n 3026622545,\n 1058345042,\n 22812754,\n 27775884,\n 239548513,\n 1060487274,\n 233693291,\n 377534571,\n 435331179,\n 291756142,\n 3170031728,\n 2973870195,\n 223166587,\n 231108733,\n 1080307235350241280,\n 816030424778543104,\n 11651202,\n 14135426,\n 796736612554117120,\n 742735530287304704,\n 816047090849746945,\n 819744763020775425,\n 281540744,\n 246341769,\n 15394954,\n 824281456079933442,\n 278005891,\n 482713734,\n 24195214,\n 722555010588872705,\n 35567751,\n 1410590874,\n 266719387,\n 235251868,\n 27676828,\n 237299871,\n 727242919,\n 237750442,\n 34715823,\n 47798449,\n 702601370344402944,\n 142332083,\n 236916916,\n 216881337,\n 252819642,\n 22012091,\n 1011053278304591872,\n 1017500185356853248,\n 92186819,\n 494291143,\n 4749863113,\n 15773898,\n 229966028,\n 1206227149,\n 37920978,\n 3044993235,\n 22669526,\n 36686040,\n 3612420317,\n 2953922782,\n 995193054,\n 600463589,\n 975200486,\n 258900199,\n 3431000296,\n 140529899,\n 199325935,\n 51228911,\n 24768753,\n 170111219,\n 15808765,\n 18004222,\n 1081243468327018496,\n 941000686275387392,\n 20545793,\n 816181091673448448,\n 796183515998068736,\n 806906355214852096,\n 815985039485837312,\n 745372686596120576,\n 479017220,\n 29442313,\n 20879626,\n 876894308309147650,\n 59969802,\n 789244177,\n 19929362,\n 19726613,\n 15116570,\n 462143773,\n 466532637,\n 262756641,\n 339822881,\n 242426145,\n 4849654052,\n 2409478435,\n 1071102246,\n 292495654,\n 3686482216,\n 46184745,\n 48255275,\n 36948268,\n 344201516,\n 3237898542,\n 947956236804337664,\n 109287731,\n 1078771401497161728,\n 1079061579973439488,\n 13218102,\n 1080986167003230208,\n 2863210809,\n 21111098,\n 22055226,\n 193872188,\n 427872569,\n 122124607,\n 30216513,\n 2389877058,\n 1077446982,\n 18907463,\n 2976598347,\n 1080504024695222273,\n 1080898026418384897,\n 1176522535531360257,\n 76456274,\n 395419988,\n 183351637,\n 236511574,\n 1068499286,\n 15745368,\n 942156122,\n 20552026,\n 140519774,\n 180564322,\n 18061669,\n 193794406,\n 15673703,\n 14573926,\n 3420965229,\n 880480631108644864,\n 404132211,\n 113494390,\n 327625079,\n 23970171,\n 23976316,\n 1092757885,\n 155654527,\n 235190657,\n 125706625,\n 20113797,\n 899978622416695297,\n 837722935095930883,\n 4049197462,\n 34959770,\n 1140648348,\n 587100576,\n 219429281,\n 31611298,\n 135623073,\n 516880804,\n 811239440916054016,\n 23712174,\n 477223342,\n 81191343,\n 169331127,\n 286476728,\n 81207735,\n 1137590713,\n 10615232,\n 571214272,\n 1382011333,\n 235373000,\n 1009269193,\n 4069841354,\n 76069325,\n 2930635215,\n 381577682,\n 603083228,\n 137794015,\n 309070309,\n 2914515430,\n 1082427779583541248,\n 1076161611033968640,\n 1082790600292925440,\n 459051498,\n 1086316494450032640,\n 23593446,\n 1080844782,\n 217543151,\n 19739126,\n 15356407,\n 55677432,\n 26057209,\n 18907639,\n 2869746172,\n 518644221,\n 26778110,\n 1052896620797460481,\n 2432952828,\n 814103950404239360,\n 816282029276938240,\n 817138492614524928,\n 818713465653051392,\n 1075205691621720064,\n 818536152588238849,\n 823552974253342721,\n 1080292515939565568,\n 1080485692298444800,\n 1080573351914061825,\n 817050219007328258,\n 1061310112013434882,\n 1383059977,\n 115186195,\n 2212905492,\n 818460870573441028,\n 461720085,\n 2968451607,\n 50055701,\n 2167097881,\n 33563161,\n 76132891,\n 1222257180,\n 398193180,\n 586730005,\n 1067748650485497862,\n 278145569,\n 432771620,\n 61608485,\n 2968007206,\n 23775782,\n 242772524,\n 127941167,\n 4212470319,\n 28267055,\n 122174004,\n 18805303,\n 224285242,\n 14836282,\n 136526394,\n 24183358,\n 364415553,\n 28602948,\n 31013444,\n 97583689,\n 946549322,\n 2966205003,\n 4433285713,\n 346964561,\n 1257667158,\n 32010840,\n 834069080,\n 977247448820305920,\n 983348251972816896,\n 3166120541,\n 248699486,\n 44251742,\n 1531521632,\n 1491350114,\n 1262017122,\n 210926192,\n 1623308912,\n 113355380,\n 112740986,\n 2953974395,\n 66804351,\n 816284664658874368,\n 843636970538618880,\n 826589191412862976,\n 712783082336571392,\n 515822213,\n 797201048490430465,\n 818948638890217473,\n 234797704,\n 1096059529,\n 2964949642,\n 31801993,\n 930552552302792705,\n 1068273911224094721,\n 1730030220,\n 847098017274613761,\n 278094476,\n 18137749,\n 72198806,\n 235217558,\n 29201047,\n 57334424,\n 93575832,\n 23124635,\n 353890966,\n 267938462,\n 3609064098,\n 124224165,\n 237312687,\n 476256944,\n 80612021,\n 4490291893,\n 109071031,\n 833673914,\n 62649021,\n 25086658,\n 33655490,\n 182217410,\n 2951574214,\n 1074129612,\n 409719505,\n 29450962,\n 20597460,\n 14275291,\n 225921757,\n 29766367,\n 18909919,\n 242873057,\n 1074518754,\n 2966758114,\n 2853309155,\n 21048033,\n 389554914,\n 93412074,\n 15856366,\n 33977070,\n 3109108467,\n 237763317,\n 1243902714,\n 2962891515,\n 21572351,\n 151247615,\n 1078741899572240384,\n 862393019173003264,\n 409522947,\n 751799352755052544,\n 892491627088011264,\n 752590435537739776,\n 1148757025012277249,\n 950328072,\n 63150856,\n 912608010,\n 110545675,\n 1065995022,\n 827279765287559171,\n 1305596696,\n 1074101017,\n 20015903,\n 95546148,\n 414436134,\n 26653478,\n 294126378,\n 40264497,\n 1262099252,\n 264219447,\n 893496121,\n 4304448314,\n 26424123,\n 1961794370,\n 2914163523,\n 153944899,\n 18674498,\n 19168067,\n 467823431,\n 312134473,\n 85396297,\n 14125897,\n 325231436,\n 50789200,\n 292594517,\n 240427862,\n 17513304,\n 242926427,\n 41417564,\n 155585373,\n 306389855,\n 783792992,\n 1339931490,\n 16102244,\n 1128514404,\n 15874918,\n 1289319271,\n 771152516,\n 130003817,\n 63169388,\n 373586796,\n 323490669,\n 161743731,\n 368948092,\n 808416682972770304,\n 2382685057,\n 828977216595849216,\n 756123897783808000,\n 917408119222923264,\n 816111677917851649,\n 1080978331535896576,\n 752364246218862592,\n 890038958104735744,\n 984456621417000960,\n 882958562296819714,\n 991721030631780354,\n 2847603597,\n 105290638,\n 15600527,\n 171598736,\n 164369297,\n 3317799825,\n 411861905,\n 926446070812602371,\n 25781141,\n 188019606,\n 257180565,\n 903354645623566340,\n 1077121945,\n 1081350574589833221,\n 586191770,\n 76452765,\n 1155212191,\n 1069124515,\n 115676070,\n 1240107944,\n 343358379,\n 113763245,\n 1872999342,\n 249410485,\n 1080509366,\n 1083125649609506816,\n 253252536,\n 2863006655,\n 240812994,\n 2962813893,\n 158520264,\n 18967498,\n 131546062,\n 155669457,\n 915831762,\n 2861616083,\n 82453460,\n 250188760,\n 19407835,\n 18695134,\n 1908143071,\n 1630397408,\n 133028836,\n 58579942,\n 380498919,\n 20546536,\n 34884583,\n 1089334250,\n 21924842,\n 7429102,\n 3353670647,\n 482450423,\n 2975091705,\n 50152441,\n 18166778,\n 515736574,\n 747806211983179776,\n 811632636598910976,\n 814179031956488192,\n 2253968388,\n 581141508,\n 815952318487298048,\n 1083469084648505344,\n 935033864,\n 860547911268139008,\n 757666785244119040,\n 402719755,\n 90639372,\n 1082380458976051202,\n 2296943622,\n 267854863,\n 38960144,\n 163570705,\n 2962994194,\n 963480595,\n 2554870803,\n 816012124505931780,\n 130901013,\n 17800215,\n 245451804,\n 221162525,\n 21826591,\n 2433737761,\n 169198625,\n 26637348,\n 308794407,\n 952540201,\n 1068481578,\n 1080515866255593472,\n 1080870981877534720,\n 602919981,\n 1055730738,\n 344972339,\n 15954997,\n 584012853,\n 4905487413,\n 1058520120,\n 242836537,\n 2361650234,\n 153486399,\n 1074480192,\n 549579841,\n 1081240074946252801,\n 111635527,\n 2559398984,\n 4851790919,\n 3090076743,\n 18916432,\n 22545491,\n 1480852568,\n 219010139,\n 26051676,\n 242555999,\n 248495200,\n 23022687,\n 1260172386,\n 366304362,\n 941080085121175552,\n 385111151,\n 13491312,\n 314223728,\n 21406834,\n 2196360306,\n 122713203,\n 26594419,\n 1265423480,\n 3067974778,\n 98471035,\n 296361085,\n 254082173,\n 85896319,\n 816719802328715264,\n 961312723035394048,\n 162069635,\n 950111395378597888,\n 1064595993222615040,\n 23600262,\n 996094929733652481,\n 237814920,\n 1072158357237174272,\n 1079769536730140672,\n 964996994623311874,\n 234128524,\n 2916086925,\n 381152398,\n 894940941039144962,\n 1080894931311431682,\n 252249233,\n 1058460818,\n 1060584809095925762,\n 1080587263132733442,\n 1082311988926124036,\n 65541270,\n 935717078966964228,\n 2750127259,\n 211530910,\n 1017819745880543238,\n 343041182,\n 1037321378,\n 15764644,\n 1080198683713507335,\n 18773159,\n 2282437802,\n 130714799,\n 89992368,\n 24913074,\n 115979444,\n 234812598,\n 1061029050,\n 1058917562,\n 59536644,\n 272004287,\n 431105217,\n 172944579,\n 533324996,\n 52503751,\n 22523087,\n 2746741969,\n 47724293,\n 334245076,\n 1071840474,\n 47747074,\n 1200451909406121984,\n 486694111,\n 319829219,\n 2543008999,\n 479872233,\n 408816873,\n 510516465,\n 22195441,\n 310310133,\n 600470774,\n 1262814457,\n 1092979962,\n 378631423,\n 76649729,\n 1045110018,\n 1061385474,\n 1083019402046513152,\n 1054381765224210432,\n 857009033882083329,\n 1136060761422405633,\n 1029094268542099457,\n 1075040139351597056,\n 1078771848882593793,\n 1080277407867772930,\n 872148729184362497,\n 16256269,\n 176512266,\n 1067818539179024386,\n 60828944,\n 234822928,\n 1080516116395499522,\n 109579534,\n 1090328229548826627,\n 4624539143,\n 2560169238,\n 18277655,\n 1067541214671577093,\n 232992031,\n 20053279,\n 1499993378,\n 1075830599007510535,\n 94154021,\n 295685416,\n 87510313,\n 4895651115,\n 316165422,\n 1209417007,\n 583486767,\n 407039290,\n 1055685948,\n 2852998461,\n 2891210047,\n 39834947,\n 37094727,\n 720353279176081408,\n 74198348,\n 17544524,\n 2965083477,\n 776664410,\n 432895323,\n 56864092,\n 1099199839,\n 88806753,\n 1051446626,\n 295712099,\n 128664931,\n 21669223,\n 26533227,\n 234022257,\n 2696643955,\n 2543742324,\n 239949176,\n 1074412920,\n 19139963,\n 48117116,\n 3091316093,\n 377609596,\n 303633791,\n 1592481150,\n 815241612154417152,\n 1037341536592310272,\n 1079770852302958592,\n 1081256295469068288,\n 1080462532815532032,\n 1082334352711790593,\n 234014087,\n 481437062,\n 1080865917377097728,\n 737719829579345920,\n 915975047545749504,\n 2371339658,\n 1075904377221722113,\n 1542372750,\n 305216911,\n 1173978070535024642,\n 39249305,\n 78445977,\n 854715071116849157,\n 112651673,\n 3122099613,\n 194729373,\n 950758571821629441,\n 172858784,\n 229197216,\n 16874915,\n 299883942,\n 937723303,\n 617266600,\n 41225640,\n 39894447,\n 45645232,\n 382791093,\n 743601590,\n 14984637,\n 19658173,\n 262192574,\n 14845376,\n 236279233,\n 211420609,\n 234057152,\n 584912320,\n 815733290955112448,\n 1058256326,\n 816705409486618624,\n 521731529,\n 26283468,\n 119250381,\n 114607567,\n 1060984272,\n 50036176,\n 21269970,\n 1071900114,\n 1378000346,\n 20467163,\n 2914571740,\n 2964526557,\n 259364314,\n 816833925456789505,\n 818507671284416513,\n 558769636,\n 202206694,\n 20688358,\n 16473577,\n 168502762,\n 164007407,\n 1089859058,\n 246769138,\n 787373558,\n 432676344,\n 1444015610,\n 317386234,\n 1558285818,\n 2573587962,\n 361569788,\n 150078976,\n 851621377,\n 1083472286089396224,\n 1078749802765139968,\n 1078355119920562176,\n 249288197,\n 1075517806551154689,\n 49217025,\n 1082369392229400576,\n 249787913,\n 171968009,\n 22527499,\n 28599820,\n 111635980,\n 1072467470,\n 38254095,\n 1080851152151953410,\n 1080191866509901826,\n 838462994,\n 1080222360643485698,\n 1134292500,\n 1081312310059253763,\n 1079104563280527364,\n 357606935,\n 24905240,\n 278124059,\n 293131808,\n 2962923040,\n 1135486501,\n 33576489,\n 19318314,\n 63073834,\n 24852012,\n 839226269627621376,\n 234374703,\n 1045853744,\n 26062385,\n 58928690,\n 30354991,\n 1072008757,\n 190328374,\n 156333623,\n 88784440,\n 246478393,\n 14562874,\n 3404875323,\n 91125308,\n 1075080722241736704,\n 38970940,\n 1080477288955826176,\n 1080854935535800320,\n 1080941062028447744,\n 2352629311,\n 1083448909,\n 1071402577,\n 193732179,\n 235312723,\n 266133081,\n 17976923,\n 2929491549,\n 374816353,\n 42337890,\n 605615715,\n 54412900,\n 3282677347,\n 2612307559,\n 20747881,\n 240363117,\n 1048784496,\n 24215154,\n 138203134,\n 968650362,\n 976969338,\n 349296252,\n 138770045,\n 1081222837459996672,\n 880850093548687360,\n 233737858,\n 1080695666760929280,\n 1081318716573470720,\n 153865861,\n 1078692057940742144,\n 1080885078425784320,\n 872156132688711681,\n 950952511556538368,\n 882843534750961664,\n 130733698,\n 19394188,\n 43910797,\n 867495243482058755,\n 146099856,\n 19926675,\n 216503958,\n 2964287128,\n 1028854804087492613,\n 391445643,\n 1080584229510172678,\n 26574496,\n 116616867,\n 1058051748,\n 435500714,\n 935368364,\n 3145735852,\n 1080960924687704064,\n 15324851,\n 57065141,\n 389840566,\n 21059255,\n 1155335864,\n 239871673,\n 2953713339,\n 1072134139560620033,\n 1064206014,\n 142419647,\n 1883356866,\n 1729773254,\n 73303753,\n 11650762,\n 247334603,\n 2724095695,\n 613725908,\n 161791703,\n 2319503065,\n 550401754,\n 555474658,\n 50452197,\n 24735461,\n 2862577383,\n 248735463,\n 78403308,\n 2853793517,\n 1577754348,\n 38285038,\n 900516768032202752,\n 900025544032624640,\n 240393970,\n 1861019372,\n 97171189,\n 1880674038,\n 21061366,\n 145292853,\n 12726012,\n 213339899,\n 40302336,\n 18566912,\n 23725826,\n 1039879658400112640,\n 582070020,\n 314205957,\n 986423555025002497,\n 1078401427347857408,\n 1079802482640019456,\n 1080830346915209216,\n 935756923806343168,\n 1069636653353000962,\n 1080539438508400642,\n 129259273,\n 21509894,\n 770121222,\n 784965392,\n 2461810448,\n 233842454,\n 851477335052140544,\n 931614483050414080,\n 2966570782,\n 1080875913926139910,\n 1083474782602125318,\n 960962340,\n 156045092,\n 1055907624,\n 2856787757,\n 2293131060,\n 84119348,\n 168673083,\n 88291132,\n 97963837,\n 41533245,\n 72431423,\n 18829123,\n 240760644,\n 29501253,\n 296245061,\n 18915145,\n 148006729,\n 148453195,\n 3433189197,\n 2970462034,\n 221792092,\n 1849261916,\n 334894942,\n 18030431,\n 74313566,\n 953749679166156800,\n 196362083,\n 54300515,\n 969328139485802496,\n 1078693601356509184,\n 1060370282,\n 801478506,\n 61886317,\n 138553197,\n 4205133682,\n 75364211,\n 17907578,\n 252819323,\n 1074782372594413569,\n 1080569698536878081,\n 815310506596691968,\n 224294785,\n 816131319033950208,\n 815931811348017152,\n 2970279814,\n 384913290,\n 818975124460335106,\n 463132556,\n 750046943905058816,\n 1869975300,\n ...}"
     },
     "execution_count": 55,
     "metadata": {},
     "output_type": "execute_result"
    }
   ],
   "source": [
    "congress_ids"
   ],
   "metadata": {
    "collapsed": false
   }
  },
  {
   "cell_type": "code",
   "execution_count": null,
   "outputs": [],
   "source": [],
   "metadata": {
    "collapsed": false
   }
  }
 ],
 "metadata": {
  "kernelspec": {
   "display_name": "Python 3",
   "language": "python",
   "name": "python3"
  },
  "language_info": {
   "codemirror_mode": {
    "name": "ipython",
    "version": 2
   },
   "file_extension": ".py",
   "mimetype": "text/x-python",
   "name": "python",
   "nbconvert_exporter": "python",
   "pygments_lexer": "ipython2",
   "version": "2.7.6"
  }
 },
 "nbformat": 4,
 "nbformat_minor": 0
}
