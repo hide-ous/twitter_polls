{
 "cells": [
  {
   "cell_type": "code",
   "execution_count": 1,
   "metadata": {
    "collapsed": true
   },
   "outputs": [
    {
     "data": {
      "text/plain": "True"
     },
     "execution_count": 1,
     "metadata": {},
     "output_type": "execute_result"
    }
   ],
   "source": [
    "import json\n",
    "\n",
    "from tqdm import tqdm\n",
    "import tweepy\n",
    "from dotenv import load_dotenv\n",
    "import os\n",
    "\n",
    "from tweepy import TweepyException\n",
    "\n",
    "load_dotenv()  # load environment variables from .env"
   ]
  },
  {
   "cell_type": "code",
   "execution_count": 2,
   "outputs": [],
   "source": [
    "DATA_PATH = 'data'\n",
    "YEARS = [2016, 2020]"
   ],
   "metadata": {
    "collapsed": false
   }
  },
  {
   "cell_type": "code",
   "execution_count": 16,
   "outputs": [],
   "source": [
    "for year in YEARS:\n",
    "    with open(os.path.join(DATA_PATH, f'polls-{year}.json')) as f:\n",
    "        polls = json.load(f)\n",
    "    author_ids = [poll['meta']['author_id'] for poll in filter(lambda x: x['type']=='twitter', polls)]\n",
    "    with open(os.path.join(DATA_PATH, f'polls_{year}_author_ids.json'), 'w+') as f:\n",
    "        json.dump(author_ids, f)"
   ],
   "metadata": {
    "collapsed": false
   }
  },
  {
   "cell_type": "code",
   "execution_count": 17,
   "outputs": [],
   "source": [
    "auth = tweepy.OAuth2BearerHandler(\n",
    "    bearer_token= os.environ['BEARER'])\n",
    "api = tweepy.API(auth, wait_on_rate_limit=True)"
   ],
   "metadata": {
    "collapsed": false
   }
  },
  {
   "cell_type": "code",
   "execution_count": 18,
   "outputs": [],
   "source": [
    "exception_users = dict()"
   ],
   "metadata": {
    "collapsed": false
   }
  },
  {
   "cell_type": "code",
   "execution_count": null,
   "outputs": [
    {
     "name": "stdout",
     "output_type": "stream",
     "text": [
      "found 95 scraped users\n"
     ]
    },
    {
     "name": "stderr",
     "output_type": "stream",
     "text": [
      "checking followers of poll authors:   0%|          | 1/292 [00:00<01:04,  4.50it/s]"
     ]
    },
    {
     "name": "stdout",
     "output_type": "stream",
     "text": [
      "404 Not Found\n",
      "34 - Sorry, that page does not exist.\n",
      "2515437133\n"
     ]
    },
    {
     "name": "stderr",
     "output_type": "stream",
     "text": [
      "checking followers of poll authors:   2%|▏         | 5/292 [00:02<02:33,  1.87it/s]Rate limit reached. Sleeping for: 895\n",
      "checking followers of poll authors:   3%|▎         | 10/292 [15:03<5:15:00, 67.02s/it] "
     ]
    },
    {
     "name": "stdout",
     "output_type": "stream",
     "text": [
      "401 Unauthorized\n",
      "Not authorized.\n",
      "349240397\n"
     ]
    },
    {
     "name": "stderr",
     "output_type": "stream",
     "text": [
      "checking followers of poll authors:   4%|▍         | 11/292 [15:03<3:38:07, 46.58s/it]"
     ]
    },
    {
     "name": "stdout",
     "output_type": "stream",
     "text": [
      "401 Unauthorized\n",
      "Not authorized.\n",
      "155939890\n"
     ]
    },
    {
     "name": "stderr",
     "output_type": "stream",
     "text": [
      "checking followers of poll authors:   5%|▌         | 15/292 [15:04<51:38, 11.19s/it]  "
     ]
    },
    {
     "name": "stdout",
     "output_type": "stream",
     "text": [
      "401 Unauthorized\n",
      "Not authorized.\n",
      "871921008\n"
     ]
    },
    {
     "name": "stderr",
     "output_type": "stream",
     "text": [
      "checking followers of poll authors:   6%|▌         | 18/292 [15:05<18:09,  3.98s/it]Rate limit reached. Sleeping for: 896\n",
      "checking followers of poll authors:  10%|█         | 30/292 [30:06<24:41,  5.65s/it]    Rate limit reached. Sleeping for: 895\n",
      "checking followers of poll authors:  13%|█▎        | 38/292 [45:08<1:37:42, 23.08s/it]  Rate limit reached. Sleeping for: 895\n",
      "checking followers of poll authors:  14%|█▍        | 42/292 [1:00:05<6:48:02, 97.93s/it]  Rate limit reached. Sleeping for: 894\n",
      "checking followers of poll authors:  15%|█▌        | 44/292 [1:15:10<16:24:35, 238.21s/it]Rate limit reached. Sleeping for: 894\n",
      "checking followers of poll authors:  18%|█▊        | 53/292 [1:30:10<1:42:01, 25.61s/it]  Rate limit reached. Sleeping for: 896\n",
      "checking followers of poll authors:  19%|█▉        | 56/292 [1:45:09<9:14:22, 140.94s/it] "
     ]
    },
    {
     "name": "stdout",
     "output_type": "stream",
     "text": [
      "401 Unauthorized\n",
      "Not authorized.\n",
      "215886325\n"
     ]
    },
    {
     "name": "stderr",
     "output_type": "stream",
     "text": [
      "checking followers of poll authors:  20%|█▉        | 58/292 [1:45:09<4:29:48, 69.18s/it] Rate limit reached. Sleeping for: 895\n",
      "checking followers of poll authors:  22%|██▏       | 64/292 [2:00:12<3:24:35, 53.84s/it]  Rate limit reached. Sleeping for: 894\n",
      "checking followers of poll authors:  23%|██▎       | 68/292 [2:15:16<6:35:51, 106.03s/it] Rate limit reached. Sleeping for: 894\n",
      "checking followers of poll authors:  25%|██▌       | 74/292 [2:30:16<3:32:37, 58.52s/it]  Rate limit reached. Sleeping for: 895\n",
      "checking followers of poll authors:  29%|██▉       | 84/292 [2:45:18<44:20, 12.79s/it]    Rate limit reached. Sleeping for: 895\n",
      "checking followers of poll authors:  30%|██▉       | 87/292 [3:00:17<7:47:29, 136.83s/it] Rate limit reached. Sleeping for: 894\n",
      "Rate limit reached. Sleeping for: 894\n",
      "Rate limit reached. Sleeping for: 893\n",
      "Rate limit reached. Sleeping for: 894\n",
      "Rate limit reached. Sleeping for: 894\n",
      "Rate limit reached. Sleeping for: 894\n",
      "Rate limit reached. Sleeping for: 894\n",
      "checking followers of poll authors:  33%|███▎      | 95/292 [4:45:26<8:58:16, 163.94s/it]   Rate limit reached. Sleeping for: 896\n",
      "checking followers of poll authors:  33%|███▎      | 97/292 [5:00:26<14:35:03, 269.25s/it]Rate limit reached. Sleeping for: 895\n",
      "Rate limit reached. Sleeping for: 895\n",
      "checking followers of poll authors:  35%|███▍      | 102/292 [5:30:33<9:15:52, 175.54s/it] "
     ]
    },
    {
     "name": "stdout",
     "output_type": "stream",
     "text": [
      "404 Not Found\n",
      "34 - Sorry, that page does not exist.\n",
      "742938016495378433\n"
     ]
    },
    {
     "name": "stderr",
     "output_type": "stream",
     "text": [
      "Rate limit reached. Sleeping for: 895\n",
      "checking followers of poll authors:  36%|███▌      | 105/292 [5:45:30<9:58:44, 192.11s/it] Rate limit reached. Sleeping for: 894\n",
      "checking followers of poll authors:  37%|███▋      | 107/292 [6:00:30<14:33:41, 283.36s/it]Rate limit reached. Sleeping for: 894\n",
      "Rate limit reached. Sleeping for: 894\n",
      "Rate limit reached. Sleeping for: 894\n",
      "Rate limit reached. Sleeping for: 893\n",
      "Rate limit reached. Sleeping for: 892\n",
      "Rate limit reached. Sleeping for: 894\n",
      "checking followers of poll authors:  39%|███▊      | 113/292 [7:30:42<15:15:24, 306.84s/it] Rate limit reached. Sleeping for: 895\n",
      "checking followers of poll authors:  42%|████▏     | 122/292 [7:45:43<1:21:31, 28.77s/it]  Rate limit reached. Sleeping for: 896\n",
      "checking followers of poll authors:  44%|████▍     | 129/292 [8:00:42<1:33:09, 34.29s/it]  Rate limit reached. Sleeping for: 895\n",
      "Rate limit reached. Sleeping for: 894\n",
      "checking followers of poll authors:  47%|████▋     | 136/292 [8:30:47<2:53:25, 66.70s/it]  Rate limit reached. Sleeping for: 895\n",
      "checking followers of poll authors:  48%|████▊     | 141/292 [8:45:49<3:11:54, 76.25s/it]  "
     ]
    },
    {
     "name": "stdout",
     "output_type": "stream",
     "text": [
      "404 Not Found\n",
      "34 - Sorry, that page does not exist.\n",
      "3224102715\n"
     ]
    },
    {
     "name": "stderr",
     "output_type": "stream",
     "text": [
      "checking followers of poll authors:  49%|████▊     | 142/292 [8:45:49<2:13:36, 53.45s/it]Rate limit reached. Sleeping for: 896\n",
      "checking followers of poll authors:  50%|████▉     | 145/292 [9:00:47<6:08:25, 150.37s/it] "
     ]
    },
    {
     "name": "stdout",
     "output_type": "stream",
     "text": [
      "401 Unauthorized\n",
      "Not authorized.\n",
      "206061601\n"
     ]
    },
    {
     "name": "stderr",
     "output_type": "stream",
     "text": [
      "checking followers of poll authors:  51%|█████     | 148/292 [9:00:48<2:04:08, 51.72s/it] "
     ]
    },
    {
     "name": "stdout",
     "output_type": "stream",
     "text": [
      "401 Unauthorized\n",
      "Not authorized.\n",
      "390502765\n"
     ]
    },
    {
     "name": "stderr",
     "output_type": "stream",
     "text": [
      "checking followers of poll authors:  52%|█████▏    | 151/292 [9:00:48<42:06, 17.92s/it]  "
     ]
    },
    {
     "name": "stdout",
     "output_type": "stream",
     "text": [
      "401 Unauthorized\n",
      "Not authorized.\n",
      "414845225\n"
     ]
    },
    {
     "name": "stderr",
     "output_type": "stream",
     "text": [
      "checking followers of poll authors:  54%|█████▍    | 157/292 [9:00:50<05:14,  2.33s/it]Rate limit reached. Sleeping for: 897\n",
      "Rate limit reached. Sleeping for: 895\n",
      "checking followers of poll authors:  55%|█████▌    | 161/292 [9:30:55<6:47:04, 186.44s/it] Rate limit reached. Sleeping for: 895\n",
      "checking followers of poll authors:  58%|█████▊    | 169/292 [9:45:54<1:08:02, 33.19s/it]  Rate limit reached. Sleeping for: 895\n",
      "Rate limit reached. Sleeping for: 893\n",
      "Rate limit reached. Sleeping for: 893\n",
      "Rate limit reached. Sleeping for: 893\n",
      "Rate limit reached. Sleeping for: 893\n",
      "Rate limit reached. Sleeping for: 894\n",
      "checking followers of poll authors:  62%|██████▏   | 181/292 [11:16:04<1:00:47, 32.86s/it]   Rate limit reached. Sleeping for: 895\n",
      "checking followers of poll authors:  63%|██████▎   | 183/292 [11:31:02<6:12:14, 204.91s/it]Rate limit reached. Sleeping for: 894\n",
      "checking followers of poll authors:  65%|██████▍   | 189/292 [11:46:07<2:00:00, 69.91s/it]  Rate limit reached. Sleeping for: 894\n",
      "checking followers of poll authors:  67%|██████▋   | 196/292 [12:01:07<1:01:14, 38.28s/it] Rate limit reached. Sleeping for: 895\n",
      "checking followers of poll authors:  68%|██████▊   | 200/292 [12:16:05<2:35:58, 101.72s/it]"
     ]
    },
    {
     "name": "stdout",
     "output_type": "stream",
     "text": [
      "404 Not Found\n",
      "34 - Sorry, that page does not exist.\n",
      "261306457\n"
     ]
    },
    {
     "name": "stderr",
     "output_type": "stream",
     "text": [
      "checking followers of poll authors:  70%|███████   | 205/292 [12:16:07<25:13, 17.39s/it]   Rate limit reached. Sleeping for: 895\n",
      "Rate limit reached. Sleeping for: 893\n",
      "Rate limit reached. Sleeping for: 893\n",
      "Rate limit reached. Sleeping for: 893\n",
      "checking followers of poll authors:  71%|███████   | 208/292 [13:16:14<12:30:42, 536.23s/it] "
     ]
    },
    {
     "name": "stdout",
     "output_type": "stream",
     "text": [
      "404 Not Found\n",
      "34 - Sorry, that page does not exist.\n",
      "2669804190\n"
     ]
    },
    {
     "name": "stderr",
     "output_type": "stream",
     "text": [
      "Rate limit reached. Sleeping for: 894\n",
      "checking followers of poll authors:  73%|███████▎  | 214/292 [13:31:14<2:22:17, 109.45s/it] Rate limit reached. Sleeping for: 895\n",
      "checking followers of poll authors:  75%|███████▌  | 219/292 [13:46:12<1:41:14, 83.21s/it] "
     ]
    },
    {
     "name": "stdout",
     "output_type": "stream",
     "text": [
      "401 Unauthorized\n",
      "Not authorized.\n",
      "728059399\n"
     ]
    },
    {
     "name": "stderr",
     "output_type": "stream",
     "text": [
      "checking followers of poll authors:  78%|███████▊  | 227/292 [13:46:14<05:30,  5.09s/it]  Rate limit reached. Sleeping for: 896\n",
      "checking followers of poll authors:  80%|████████  | 234/292 [14:01:16<31:26, 32.53s/it]   Rate limit reached. Sleeping for: 895\n",
      "checking followers of poll authors:  83%|████████▎ | 243/292 [14:16:15<13:57, 17.10s/it]   "
     ]
    },
    {
     "name": "stdout",
     "output_type": "stream",
     "text": [
      "401 Unauthorized\n",
      "Not authorized.\n",
      "206061601\n"
     ]
    },
    {
     "name": "stderr",
     "output_type": "stream",
     "text": [
      "checking followers of poll authors:  84%|████████▎ | 244/292 [14:16:16<09:37, 12.04s/it]"
     ]
    },
    {
     "name": "stdout",
     "output_type": "stream",
     "text": [
      "401 Unauthorized\n",
      "Not authorized.\n",
      "728059399\n"
     ]
    },
    {
     "name": "stderr",
     "output_type": "stream",
     "text": [
      "checking followers of poll authors:  85%|████████▍ | 248/292 [14:16:17<02:16,  3.10s/it]Rate limit reached. Sleeping for: 896\n",
      "checking followers of poll authors:  86%|████████▌ | 251/292 [14:31:16<1:31:06, 133.33s/it]"
     ]
    },
    {
     "name": "stdout",
     "output_type": "stream",
     "text": [
      "404 Not Found\n",
      "34 - Sorry, that page does not exist.\n",
      "752989213851877377\n"
     ]
    },
    {
     "name": "stderr",
     "output_type": "stream",
     "text": [
      "checking followers of poll authors:  88%|████████▊ | 256/292 [14:31:18<13:36, 22.67s/it]   Rate limit reached. Sleeping for: 895\n",
      "checking followers of poll authors:  89%|████████▉ | 260/292 [14:46:21<52:38, 98.71s/it]   Rate limit reached. Sleeping for: 895\n",
      "checking followers of poll authors:  90%|████████▉ | 262/292 [15:01:18<1:58:20, 236.69s/it]Rate limit reached. Sleeping for: 895\n"
     ]
    }
   ],
   "source": [
    "\n",
    "for year in YEARS:\n",
    "    out_path = os.path.join(DATA_PATH, f'follower_lists_{year}.jsonl')\n",
    "    existing_users = set()\n",
    "    if os.path.exists(out_path):\n",
    "        with open(out_path) as f:\n",
    "            existing_users.update(k for l in f for k in json.loads(l))\n",
    "            print(f'found {len(existing_users)} scraped users')\n",
    "\n",
    "    with open(os.path.join(DATA_PATH, f'polls_{year}_author_ids.json')) as f:\n",
    "        author_ids = [id for id in json.load(f) if id not in existing_users]\n",
    "\n",
    "    with open(os.path.join(DATA_PATH, f'follower_lists_{year}.jsonl'), 'a+', encoding='utf8') as f:\n",
    "        for author_id in tqdm(author_ids, desc='checking followers of poll authors'):\n",
    "            follower_ids = []\n",
    "            try:\n",
    "                for page in tweepy.Cursor(api.get_follower_ids, user_id = author_id, count = 5000).pages():\n",
    "                    follower_ids.extend(page)\n",
    "                f.write(json.dumps({author_id:follower_ids}) + '\\n')\n",
    "            except TweepyException as e:\n",
    "                print(e)\n",
    "                print(author_id)\n",
    "                exception_users[id]=e\n"
   ],
   "metadata": {
    "collapsed": false,
    "pycharm": {
     "is_executing": true
    }
   }
  },
  {
   "cell_type": "code",
   "execution_count": null,
   "outputs": [],
   "source": [
    "# client = tweepy.Client(bearer_token=os.environ['BEARER'],\n",
    "#                        wait_on_rate_limit=True)\n",
    "# author_id = author_ids[0]\n",
    "# user_fields = ['id']\n",
    "# response = client.get_users_followers(id=author_id, user_fields=user_fields, max_results=1000)\n",
    "# one_user = response.data[0]\n",
    "# one_user.data\n",
    "# next_token = response.meta['next_token']"
   ],
   "metadata": {
    "collapsed": false
   }
  },
  {
   "cell_type": "code",
   "execution_count": null,
   "outputs": [],
   "source": [],
   "metadata": {
    "collapsed": false
   }
  },
  {
   "cell_type": "markdown",
   "source": [],
   "metadata": {
    "collapsed": false
   }
  }
 ],
 "metadata": {
  "kernelspec": {
   "display_name": "Python 3",
   "language": "python",
   "name": "python3"
  },
  "language_info": {
   "codemirror_mode": {
    "name": "ipython",
    "version": 2
   },
   "file_extension": ".py",
   "mimetype": "text/x-python",
   "name": "python",
   "nbconvert_exporter": "python",
   "pygments_lexer": "ipython2",
   "version": "2.7.6"
  }
 },
 "nbformat": 4,
 "nbformat_minor": 0
}
