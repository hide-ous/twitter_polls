{
 "cells": [
  {
   "cell_type": "code",
   "execution_count": 1,
   "metadata": {
    "collapsed": true
   },
   "outputs": [],
   "source": [
    "import os\n",
    "\n",
    "from data_utils import get_author_ids, YEARS, get_authors_from_follower_lists, DATA_PATH, get_authors_from_keys, \\\n",
    "    write_error_users, read_error_users\n",
    "from twitter_utils import get_api, get_follower_lists"
   ]
  },
  {
   "cell_type": "code",
   "execution_count": 2,
   "outputs": [
    {
     "name": "stdout",
     "output_type": "stream",
     "text": [
      "1024\n"
     ]
    }
   ],
   "source": [
    "SAVE=False\n",
    "author_ids = set(get_author_ids(2016, save=False))\n",
    "author_ids.update(get_author_ids(2020, save=False))\n",
    "author_ids = list(sorted(author_ids))\n",
    "print(len(author_ids))"
   ],
   "metadata": {
    "collapsed": false
   }
  },
  {
   "cell_type": "code",
   "execution_count": 3,
   "outputs": [],
   "source": [
    "api = get_api()"
   ],
   "metadata": {
    "collapsed": false
   }
  },
  {
   "cell_type": "code",
   "execution_count": 4,
   "outputs": [],
   "source": [
    "exception_users = dict()"
   ],
   "metadata": {
    "collapsed": false
   }
  },
  {
   "cell_type": "code",
   "execution_count": 5,
   "outputs": [
    {
     "name": "stdout",
     "output_type": "stream",
     "text": [
      "found 394 scraped users\n",
      "0\n",
      "found 696 scraped users\n",
      "0\n"
     ]
    }
   ],
   "source": [
    "for year in YEARS:\n",
    "    out_path = os.path.join(DATA_PATH, f'follower_lists_{year}.jsonl')\n",
    "    existing_users = set(get_authors_from_follower_lists(out_path))\n",
    "    errpath = os.path.join(DATA_PATH, 'authors_missing.jsonl')\n",
    "    existing_users.update(read_error_users(errpath))\n",
    "    existing_users = existing_users\n",
    "    print(f'found {len(existing_users)} scraped users')\n",
    "\n",
    "    fpath = os.path.join(DATA_PATH, f'polls_{year}_author_ids.json')\n",
    "    author_ids = get_authors_from_keys(fpath)\n",
    "    author_ids = list(sorted(id for id in author_ids if id not in existing_users))\n",
    "    print(len(author_ids))\n",
    "    exception_users = get_follower_lists(author_ids, out_path, api)"
   ],
   "metadata": {
    "collapsed": false
   }
  },
  {
   "cell_type": "code",
   "execution_count": 31,
   "outputs": [
    {
     "data": {
      "text/plain": "60"
     },
     "execution_count": 31,
     "metadata": {},
     "output_type": "execute_result"
    }
   ],
   "source": [
    "len(exception_users)"
   ],
   "metadata": {
    "collapsed": false
   }
  },
  {
   "cell_type": "code",
   "execution_count": 41,
   "outputs": [],
   "source": [
    "write_error_users(exception_users, errpath)"
   ],
   "metadata": {
    "collapsed": false
   }
  }
 ],
 "metadata": {
  "kernelspec": {
   "display_name": "Python 3",
   "language": "python",
   "name": "python3"
  },
  "language_info": {
   "codemirror_mode": {
    "name": "ipython",
    "version": 2
   },
   "file_extension": ".py",
   "mimetype": "text/x-python",
   "name": "python",
   "nbconvert_exporter": "python",
   "pygments_lexer": "ipython2",
   "version": "2.7.6"
  }
 },
 "nbformat": 4,
 "nbformat_minor": 0
}
