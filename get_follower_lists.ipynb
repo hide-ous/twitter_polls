{
 "cells": [
  {
   "cell_type": "code",
   "execution_count": 1,
   "metadata": {
    "collapsed": true
   },
   "outputs": [],
   "source": [
    "import os\n",
    "\n",
    "from data_utils import get_author_ids, YEARS, get_authors_from_follower_lists, DATA_PATH, get_authors_from_keys, \\\n",
    "    write_error_users, read_error_users, get_new_author_ids, get_newer_author_ids\n",
    "from twitter_utils import get_api, get_follower_lists\n",
    "api = get_api()\n"
   ]
  },
  {
   "cell_type": "code",
   "execution_count": 2,
   "outputs": [
    {
     "name": "stdout",
     "output_type": "stream",
     "text": [
      "1024\n"
     ]
    }
   ],
   "source": [
    "SAVE=False\n",
    "author_ids = set(get_author_ids(2016, save=False))\n",
    "author_ids.update(get_author_ids(2020, save=False))\n",
    "author_ids = list(sorted(author_ids))\n",
    "print(len(author_ids))"
   ],
   "metadata": {
    "collapsed": false
   }
  },
  {
   "cell_type": "code",
   "execution_count": 2,
   "outputs": [],
   "source": [],
   "metadata": {
    "collapsed": false
   }
  },
  {
   "cell_type": "code",
   "execution_count": 5,
   "outputs": [],
   "source": [
    "exception_users = dict()"
   ],
   "metadata": {
    "collapsed": false
   }
  },
  {
   "cell_type": "code",
   "execution_count": 5,
   "outputs": [
    {
     "name": "stdout",
     "output_type": "stream",
     "text": [
      "found 394 scraped users\n",
      "0\n",
      "found 696 scraped users\n",
      "0\n"
     ]
    }
   ],
   "source": [
    "for year in YEARS:\n",
    "    out_path = os.path.join(DATA_PATH, f'follower_lists_{year}.jsonl')\n",
    "    existing_users = set(get_authors_from_follower_lists(out_path))\n",
    "    errpath = os.path.join(DATA_PATH, 'authors_missing.jsonl')\n",
    "    existing_users.update(read_error_users(errpath))\n",
    "    existing_users = existing_users\n",
    "    print(f'found {len(existing_users)} scraped users')\n",
    "\n",
    "    fpath = os.path.join(DATA_PATH, f'polls_{year}_author_ids.json')\n",
    "    author_ids = get_authors_from_keys(fpath)\n",
    "    author_ids = list(sorted(id for id in author_ids if id not in existing_users))\n",
    "    print(len(author_ids))\n",
    "    exception_users = get_follower_lists(author_ids, out_path, api)"
   ],
   "metadata": {
    "collapsed": false
   }
  },
  {
   "cell_type": "code",
   "execution_count": 31,
   "outputs": [
    {
     "data": {
      "text/plain": "60"
     },
     "execution_count": 31,
     "metadata": {},
     "output_type": "execute_result"
    }
   ],
   "source": [
    "len(exception_users)"
   ],
   "metadata": {
    "collapsed": false
   }
  },
  {
   "cell_type": "code",
   "execution_count": 41,
   "outputs": [],
   "source": [
    "write_error_users(exception_users, errpath)"
   ],
   "metadata": {
    "collapsed": false
   }
  },
  {
   "cell_type": "code",
   "execution_count": 3,
   "outputs": [],
   "source": [
    "new_author_ids = get_new_author_ids()"
   ],
   "metadata": {
    "collapsed": false
   }
  },
  {
   "cell_type": "code",
   "execution_count": 6,
   "outputs": [
    {
     "name": "stderr",
     "output_type": "stream",
     "text": [
      "checking followers:   2%|▏         | 5/204 [00:02<02:11,  1.51it/s]Rate limit reached. Sleeping for: 895\n",
      "checking followers:   5%|▌         | 11/204 [15:06<2:31:05, 46.97s/it] Rate limit reached. Sleeping for: 895\n",
      "Rate limit reached. Sleeping for: 893\n",
      "checking followers:   7%|▋         | 15/204 [45:08<10:22:56, 197.76s/it]Rate limit reached. Sleeping for: 894\n",
      "checking followers:  14%|█▎        | 28/204 [1:00:08<17:20,  5.91s/it]    Rate limit reached. Sleeping for: 896\n",
      "checking followers:  21%|██        | 43/204 [1:15:09<05:38,  2.10s/it]    Rate limit reached. Sleeping for: 895\n",
      "checking followers:  24%|██▎       | 48/204 [1:30:07<2:49:18, 65.12s/it]  Rate limit reached. Sleeping for: 895\n",
      "checking followers:  28%|██▊       | 58/204 [1:45:12<31:37, 13.00s/it]    Rate limit reached. Sleeping for: 895\n",
      "checking followers:  34%|███▍      | 70/204 [2:00:12<12:46,  5.72s/it]    Rate limit reached. Sleeping for: 896\n",
      "checking followers:  35%|███▌      | 72/204 [2:15:10<7:01:04, 191.40s/it] Rate limit reached. Sleeping for: 894\n",
      "checking followers:  36%|███▌      | 73/204 [2:30:16<14:46:11, 405.89s/it]Rate limit reached. Sleeping for: 895\n",
      "checking followers:  41%|████      | 83/204 [2:45:17<46:17, 22.95s/it]    Rate limit reached. Sleeping for: 895\n",
      "checking followers:  44%|████▍     | 90/204 [3:00:16<1:04:17, 33.84s/it] Rate limit reached. Sleeping for: 896\n",
      "checking followers:  50%|████▉     | 101/204 [3:15:19<14:52,  8.66s/it]  Rate limit reached. Sleeping for: 896\n",
      "checking followers:  50%|█████     | 103/204 [3:30:18<5:24:47, 192.95s/it]Rate limit reached. Sleeping for: 893\n",
      "Rate limit reached. Sleeping for: 893\n",
      "Rate limit reached. Sleeping for: 893\n",
      "Rate limit reached. Sleeping for: 893\n",
      "Rate limit reached. Sleeping for: 893\n",
      "Rate limit reached. Sleeping for: 894\n",
      "Rate limit reached. Sleeping for: 894\n",
      "Rate limit reached. Sleeping for: 894\n",
      "Rate limit reached. Sleeping for: 894\n",
      "Rate limit reached. Sleeping for: 894\n",
      "Rate limit reached. Sleeping for: 894\n",
      "Rate limit reached. Sleeping for: 894\n",
      "Rate limit reached. Sleeping for: 894\n",
      "Rate limit reached. Sleeping for: 894\n",
      "Rate limit reached. Sleeping for: 894\n",
      "Rate limit reached. Sleeping for: 894\n",
      "Rate limit reached. Sleeping for: 894\n",
      "Rate limit reached. Sleeping for: 894\n",
      "Rate limit reached. Sleeping for: 894\n",
      "Rate limit reached. Sleeping for: 894\n",
      "Rate limit reached. Sleeping for: 894\n",
      "Rate limit reached. Sleeping for: 894\n",
      "Rate limit reached. Sleeping for: 894\n",
      "Rate limit reached. Sleeping for: 894\n",
      "Rate limit reached. Sleeping for: 895\n",
      "Rate limit reached. Sleeping for: 895\n",
      "Rate limit reached. Sleeping for: 894\n",
      "Rate limit reached. Sleeping for: 894\n",
      "Rate limit reached. Sleeping for: 894\n",
      "Rate limit reached. Sleeping for: 894\n",
      "Rate limit reached. Sleeping for: 894\n",
      "checking followers:  51%|█████▏    | 105/204 [11:15:59<163:57:28, 5962.11s/it]Rate limit reached. Sleeping for: 894\n",
      "checking followers:  56%|█████▌    | 114/204 [11:30:58<6:24:30, 256.34s/it]   Rate limit reached. Sleeping for: 896\n",
      "checking followers:  58%|█████▊    | 119/204 [11:46:00<2:33:25, 108.29s/it] Rate limit reached. Sleeping for: 894\n",
      "checking followers:  64%|██████▍   | 131/204 [12:01:00<08:46,  7.22s/it]   Rate limit reached. Sleeping for: 896\n",
      "checking followers:  65%|██████▌   | 133/204 [12:16:03<3:48:43, 193.28s/it]Rate limit reached. Sleeping for: 895\n",
      "checking followers:  68%|██████▊   | 138/204 [12:31:05<1:47:52, 98.07s/it] Rate limit reached. Sleeping for: 894\n",
      "checking followers:  72%|███████▏  | 147/204 [12:46:04<18:43, 19.70s/it]   Rate limit reached. Sleeping for: 896\n",
      "checking followers:  75%|███████▌  | 153/204 [13:01:03<40:39, 47.84s/it]   Rate limit reached. Sleeping for: 895\n",
      "Rate limit reached. Sleeping for: 894\n",
      "Rate limit reached. Sleeping for: 894\n",
      "Rate limit reached. Sleeping for: 894\n",
      "Rate limit reached. Sleeping for: 894\n",
      "checking followers:  78%|███████▊  | 159/204 [14:16:12<2:54:49, 233.10s/it]  Rate limit reached. Sleeping for: 895\n",
      "checking followers:  85%|████████▍ | 173/204 [14:31:12<02:17,  4.43s/it]   Rate limit reached. Sleeping for: 896\n",
      "checking followers:  92%|█████████▏| 187/204 [14:46:13<00:51,  3.01s/it]   Rate limit reached. Sleeping for: 896\n",
      "checking followers:  93%|█████████▎| 189/204 [15:01:11<47:30, 190.01s/it]  Rate limit reached. Sleeping for: 895\n",
      "checking followers:  97%|█████████▋| 197/204 [15:16:17<03:56, 33.76s/it]   Rate limit reached. Sleeping for: 894\n",
      "checking followers: 100%|█████████▉| 203/204 [15:31:17<00:49, 49.80s/it] Rate limit reached. Sleeping for: 895\n",
      "checking followers: 100%|██████████| 204/204 [15:46:14<00:00, 278.31s/it]\n"
     ]
    }
   ],
   "source": [
    "out_path = os.path.join(DATA_PATH, f'follower_lists_new.jsonl')\n",
    "exception_users = get_follower_lists(new_author_ids, out_path, api)"
   ],
   "metadata": {
    "collapsed": false
   }
  },
  {
   "cell_type": "code",
   "execution_count": 2,
   "outputs": [
    {
     "name": "stdout",
     "output_type": "stream",
     "text": [
      "found 344 scraped users\n"
     ]
    },
    {
     "name": "stderr",
     "output_type": "stream",
     "text": [
      "checking followers:   0%|          | 0/198 [00:00<?, ?it/s]Rate limit reached. Sleeping for: 891\n",
      "Rate limit reached. Sleeping for: 891\n",
      "Rate limit reached. Sleeping for: 892\n",
      "Rate limit reached. Sleeping for: 892\n",
      "Rate limit reached. Sleeping for: 892\n",
      "Rate limit reached. Sleeping for: 892\n",
      "Rate limit reached. Sleeping for: 892\n",
      "Rate limit reached. Sleeping for: 892\n",
      "Rate limit reached. Sleeping for: 892\n",
      "Rate limit reached. Sleeping for: 891\n",
      "Rate limit reached. Sleeping for: 892\n",
      "Rate limit reached. Sleeping for: 892\n",
      "Rate limit reached. Sleeping for: 892\n",
      "Rate limit reached. Sleeping for: 892\n",
      "Rate limit reached. Sleeping for: 892\n",
      "Rate limit reached. Sleeping for: 892\n",
      "Rate limit reached. Sleeping for: 892\n",
      "Rate limit reached. Sleeping for: 892\n",
      "Rate limit reached. Sleeping for: 892\n",
      "Rate limit reached. Sleeping for: 892\n",
      "Rate limit reached. Sleeping for: 892\n",
      "Rate limit reached. Sleeping for: 893\n",
      "Rate limit reached. Sleeping for: 892\n",
      "Rate limit reached. Sleeping for: 892\n",
      "Rate limit reached. Sleeping for: 893\n",
      "Rate limit reached. Sleeping for: 894\n",
      "Rate limit reached. Sleeping for: 894\n",
      "Rate limit reached. Sleeping for: 894\n",
      "Rate limit reached. Sleeping for: 894\n",
      "Rate limit reached. Sleeping for: 894\n",
      "Rate limit reached. Sleeping for: 893\n",
      "Rate limit reached. Sleeping for: 894\n",
      "Rate limit reached. Sleeping for: 894\n",
      "Rate limit reached. Sleeping for: 894\n",
      "Rate limit reached. Sleeping for: 895\n",
      "Rate limit reached. Sleeping for: 894\n",
      "Rate limit reached. Sleeping for: 894\n",
      "Rate limit reached. Sleeping for: 893\n",
      "Rate limit reached. Sleeping for: 894\n",
      "Rate limit reached. Sleeping for: 894\n",
      "Rate limit reached. Sleeping for: 893\n",
      "Rate limit reached. Sleeping for: 894\n",
      "Rate limit reached. Sleeping for: 894\n",
      "Rate limit reached. Sleeping for: 894\n",
      "Rate limit reached. Sleeping for: 894\n",
      "Rate limit reached. Sleeping for: 894\n",
      "Rate limit reached. Sleeping for: 895\n",
      "Rate limit reached. Sleeping for: 894\n",
      "Rate limit reached. Sleeping for: 894\n",
      "Rate limit reached. Sleeping for: 894\n",
      "Rate limit reached. Sleeping for: 894\n",
      "Rate limit reached. Sleeping for: 894\n",
      "Rate limit reached. Sleeping for: 895\n",
      "Rate limit reached. Sleeping for: 894\n",
      "Rate limit reached. Sleeping for: 895\n",
      "Rate limit reached. Sleeping for: 895\n",
      "Rate limit reached. Sleeping for: 895\n",
      "Rate limit reached. Sleeping for: 894\n",
      "Rate limit reached. Sleeping for: 895\n",
      "Rate limit reached. Sleeping for: 895\n",
      "Rate limit reached. Sleeping for: 894\n",
      "Rate limit reached. Sleeping for: 894\n",
      "Rate limit reached. Sleeping for: 894\n",
      "Rate limit reached. Sleeping for: 894\n",
      "Rate limit reached. Sleeping for: 895\n",
      "Rate limit reached. Sleeping for: 894\n",
      "Rate limit reached. Sleeping for: 894\n",
      "Rate limit reached. Sleeping for: 894\n",
      "Rate limit reached. Sleeping for: 894\n",
      "Rate limit reached. Sleeping for: 895\n",
      "Rate limit reached. Sleeping for: 895\n",
      "checking followers:   2%|▏         | 3/198 [17:46:08<775:16:13, 14312.69s/it] Rate limit reached. Sleeping for: 895\n",
      "checking followers:   5%|▌         | 10/198 [18:01:08<43:20:32, 829.96s/it]  Rate limit reached. Sleeping for: 895\n",
      "checking followers:   6%|▌         | 11/198 [18:16:11<44:16:55, 852.49s/it]Rate limit reached. Sleeping for: 895\n",
      "checking followers:  10%|▉         | 19/198 [18:31:11<3:31:17, 70.82s/it]  Rate limit reached. Sleeping for: 895\n",
      "Rate limit reached. Sleeping for: 893\n",
      "Rate limit reached. Sleeping for: 893\n",
      "Rate limit reached. Sleeping for: 893\n",
      "Rate limit reached. Sleeping for: 893\n",
      "Rate limit reached. Sleeping for: 893\n",
      "checking followers:  11%|█         | 21/198 [20:01:18<57:33:40, 1170.74s/it]Rate limit reached. Sleeping for: 895\n",
      "checking followers:  13%|█▎        | 25/198 [20:16:22<17:59:46, 374.49s/it] Rate limit reached. Sleeping for: 894\n",
      "checking followers:  18%|█▊        | 35/198 [20:31:22<59:25, 21.88s/it]    Rate limit reached. Sleeping for: 896\n",
      "checking followers:  23%|██▎       | 45/198 [20:46:24<30:08, 11.82s/it]    Rate limit reached. Sleeping for: 896\n",
      "Rate limit reached. Sleeping for: 894\n",
      "Rate limit reached. Sleeping for: 894\n",
      "checking followers:  27%|██▋       | 53/198 [21:31:29<2:43:52, 67.81s/it]  Rate limit reached. Sleeping for: 895\n",
      "checking followers:  29%|██▉       | 57/198 [21:46:29<4:18:06, 109.83s/it] Rate limit reached. Sleeping for: 895\n",
      "checking followers:  32%|███▏      | 63/198 [22:01:30<2:11:59, 58.66s/it]  Rate limit reached. Sleeping for: 896\n",
      "checking followers:  34%|███▍      | 68/198 [22:16:32<2:42:43, 75.10s/it]  Rate limit reached. Sleeping for: 895\n",
      "Rate limit reached. Sleeping for: 894\n",
      "Rate limit reached. Sleeping for: 894\n",
      "Rate limit reached. Sleeping for: 895\n",
      "Rate limit reached. Sleeping for: 894\n",
      "Rate limit reached. Sleeping for: 895\n",
      "checking followers:  36%|███▋      | 72/198 [23:46:43<20:07:22, 574.94s/it] Rate limit reached. Sleeping for: 896\n",
      "checking followers:  42%|████▏     | 84/198 [24:01:44<25:42, 13.53s/it]    Rate limit reached. Sleeping for: 896\n",
      "checking followers:  48%|████▊     | 96/198 [24:16:46<09:48,  5.77s/it]   Rate limit reached. Sleeping for: 896\n",
      "checking followers:  55%|█████▌    | 109/198 [24:31:47<06:03,  4.09s/it]  Rate limit reached. Sleeping for: 896\n",
      "checking followers:  58%|█████▊    | 115/198 [24:46:47<1:03:58, 46.24s/it] Rate limit reached. Sleeping for: 895\n",
      "checking followers:  62%|██████▏   | 122/198 [25:01:51<45:54, 36.24s/it]   Rate limit reached. Sleeping for: 895\n",
      "checking followers:  66%|██████▌   | 130/198 [25:16:52<28:03, 24.75s/it]   Rate limit reached. Sleeping for: 895\n",
      "checking followers:  69%|██████▉   | 137/198 [25:31:54<34:44, 34.18s/it]   Rate limit reached. Sleeping for: 895\n",
      "checking followers:  75%|███████▍  | 148/198 [25:46:53<07:17,  8.75s/it]   Rate limit reached. Sleeping for: 895\n",
      "checking followers:  78%|███████▊  | 154/198 [26:01:56<34:23, 46.90s/it]   Rate limit reached. Sleeping for: 895\n",
      "checking followers:  80%|███████▉  | 158/198 [26:16:56<1:09:31, 104.28s/it]Rate limit reached. Sleeping for: 895\n",
      "checking followers:  83%|████████▎ | 165/198 [26:31:58<22:24, 40.75s/it]   Rate limit reached. Sleeping for: 896\n",
      "checking followers:  90%|████████▉ | 178/198 [26:46:59<01:28,  4.41s/it]   Rate limit reached. Sleeping for: 896\n",
      "checking followers:  94%|█████████▍| 186/198 [27:02:02<04:33, 22.79s/it]   Rate limit reached. Sleeping for: 895\n",
      "checking followers:  98%|█████████▊| 195/198 [27:17:01<00:49, 16.67s/it] Rate limit reached. Sleeping for: 896\n",
      "checking followers: 100%|██████████| 198/198 [27:32:03<00:00, 500.62s/it]\n"
     ]
    }
   ],
   "source": [
    "newer_author_ids = get_newer_author_ids('all-new-polls.json')\n",
    "out_path = os.path.join(DATA_PATH, f'follower_lists_newer.jsonl')\n",
    "errpath = os.path.join(DATA_PATH, 'authors_missing.jsonl')\n",
    "existing_users = set(get_authors_from_follower_lists(out_path))\n",
    "existing_users.update(read_error_users(errpath))\n",
    "print(f'found {len(existing_users)} scraped users')\n",
    "newer_author_ids = list(sorted(id for id in newer_author_ids if id not in existing_users))\n",
    "exception_users = get_follower_lists(newer_author_ids, out_path, api)\n",
    "write_error_users(exception_users, errpath)"
   ],
   "metadata": {
    "collapsed": false
   }
  },
  {
   "cell_type": "code",
   "execution_count": null,
   "outputs": [],
   "source": [],
   "metadata": {
    "collapsed": false
   }
  }
 ],
 "metadata": {
  "kernelspec": {
   "display_name": "Python 3",
   "language": "python",
   "name": "python3"
  },
  "language_info": {
   "codemirror_mode": {
    "name": "ipython",
    "version": 2
   },
   "file_extension": ".py",
   "mimetype": "text/x-python",
   "name": "python",
   "nbconvert_exporter": "python",
   "pygments_lexer": "ipython2",
   "version": "2.7.6"
  }
 },
 "nbformat": 4,
 "nbformat_minor": 0
}
