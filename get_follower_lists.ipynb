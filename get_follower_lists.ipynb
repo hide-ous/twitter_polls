{
 "cells": [
  {
   "cell_type": "code",
   "execution_count": 2,
   "metadata": {
    "collapsed": true
   },
   "outputs": [
    {
     "data": {
      "text/plain": "True"
     },
     "execution_count": 2,
     "metadata": {},
     "output_type": "execute_result"
    }
   ],
   "source": [
    "import json\n",
    "\n",
    "from tqdm import tqdm\n",
    "import tweepy\n",
    "from dotenv import load_dotenv\n",
    "import os\n",
    "\n",
    "load_dotenv()  # take environment variables from .env."
   ]
  },
  {
   "cell_type": "code",
   "execution_count": 36,
   "outputs": [],
   "source": [
    "DATA_PATH = 'data'\n",
    "YEARS = [2016, 2020]"
   ],
   "metadata": {
    "collapsed": false
   }
  },
  {
   "cell_type": "code",
   "execution_count": 14,
   "outputs": [],
   "source": [
    "for year in YEARS:\n",
    "    with open(os.path.join(DATA_PATH, f'polls_{year}_labeled.json')) as f:\n",
    "        polls = json.load(f)\n",
    "    author_ids = list(map(lambda x: x['meta']['author_id'], polls))\n",
    "    with open(os.path.join(DATA_PATH, f'polls_{year}_author_ids.json'), 'w+') as f:\n",
    "        json.dump(author_ids, f)"
   ],
   "metadata": {
    "collapsed": false
   }
  },
  {
   "cell_type": "code",
   "execution_count": 32,
   "outputs": [],
   "source": [
    "auth = tweepy.OAuth2BearerHandler(\n",
    "    bearer_token= os.environ['BEARER'])\n",
    "api = tweepy.API(auth, wait_on_rate_limit=True)"
   ],
   "metadata": {
    "collapsed": false
   }
  },
  {
   "cell_type": "code",
   "execution_count": null,
   "outputs": [
    {
     "name": "stderr",
     "output_type": "stream",
     "text": [
      "checking followers of poll authors:   6%|▋         | 7/111 [00:04<01:48,  1.04s/it]Rate limit reached. Sleeping for: 721\n"
     ]
    }
   ],
   "source": [
    "for year in YEARS:\n",
    "    with open(os.path.join(DATA_PATH, f'polls_{year}_author_ids.json')) as f:\n",
    "        author_ids = json.load(f)\n",
    "    with open(os.path.join(DATA_PATH, f'follower_lists_{year}.jsonl'), 'w+', encoding='utf8') as f:\n",
    "        for author_id in tqdm(author_ids, desc='checking followers of poll authors'):\n",
    "            follower_ids = []\n",
    "            for page in tweepy.Cursor(api.get_follower_ids, user_id = author_id, count = 5000).pages():\n",
    "                follower_ids.extend(page)\n",
    "                f.write(json.dumps({author_id:follower_ids}) + '\\n')"
   ],
   "metadata": {
    "collapsed": false,
    "pycharm": {
     "is_executing": true
    }
   }
  },
  {
   "cell_type": "code",
   "execution_count": 19,
   "outputs": [],
   "source": [
    "# client = tweepy.Client(bearer_token=os.environ['BEARER'],\n",
    "#                        wait_on_rate_limit=True)\n",
    "# author_id = author_ids[0]\n",
    "# user_fields = ['id']\n",
    "# response = client.get_users_followers(id=author_id, user_fields=user_fields, max_results=1000)\n",
    "# one_user = response.data[0]\n",
    "# one_user.data\n",
    "# next_token = response.meta['next_token']"
   ],
   "metadata": {
    "collapsed": false
   }
  },
  {
   "cell_type": "code",
   "execution_count": null,
   "outputs": [],
   "source": [],
   "metadata": {
    "collapsed": false
   }
  }
 ],
 "metadata": {
  "kernelspec": {
   "display_name": "Python 3",
   "language": "python",
   "name": "python3"
  },
  "language_info": {
   "codemirror_mode": {
    "name": "ipython",
    "version": 2
   },
   "file_extension": ".py",
   "mimetype": "text/x-python",
   "name": "python",
   "nbconvert_exporter": "python",
   "pygments_lexer": "ipython2",
   "version": "2.7.6"
  }
 },
 "nbformat": 4,
 "nbformat_minor": 0
}
