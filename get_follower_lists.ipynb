{
 "cells": [
  {
   "cell_type": "code",
   "execution_count": 2,
   "metadata": {
    "collapsed": true
   },
   "outputs": [
    {
     "data": {
      "text/plain": "True"
     },
     "execution_count": 2,
     "metadata": {},
     "output_type": "execute_result"
    }
   ],
   "source": [
    "import json\n",
    "\n",
    "import pandas as pd\n",
    "from tqdm import tqdm\n",
    "import tweepy\n",
    "from dotenv import load_dotenv\n",
    "import os\n",
    "\n",
    "from tweepy import TweepyException\n",
    "\n",
    "load_dotenv()  # load environment variables from .env"
   ]
  },
  {
   "cell_type": "code",
   "execution_count": 3,
   "outputs": [],
   "source": [
    "DATA_PATH = 'data'\n",
    "YEARS = [2016, 2020]"
   ],
   "metadata": {
    "collapsed": false
   }
  },
  {
   "cell_type": "code",
   "execution_count": 16,
   "outputs": [],
   "source": [
    "for year in YEARS:\n",
    "    with open(os.path.join(DATA_PATH, f'polls-{year}.json')) as f:\n",
    "        polls = json.load(f)\n",
    "    author_ids = [poll['meta']['author_id'] for poll in filter(lambda x: x['type']=='twitter', polls)]\n",
    "    with open(os.path.join(DATA_PATH, f'polls_{year}_author_ids.json'), 'w+') as f:\n",
    "        json.dump(author_ids, f)"
   ],
   "metadata": {
    "collapsed": false
   }
  },
  {
   "cell_type": "code",
   "execution_count": 5,
   "outputs": [],
   "source": [
    "auth = tweepy.OAuth2BearerHandler(\n",
    "    bearer_token= os.environ['BEARER'])\n",
    "api = tweepy.API(auth, wait_on_rate_limit=True)"
   ],
   "metadata": {
    "collapsed": false
   }
  },
  {
   "cell_type": "code",
   "execution_count": 29,
   "outputs": [],
   "source": [
    "exception_users = dict()"
   ],
   "metadata": {
    "collapsed": false
   }
  },
  {
   "cell_type": "code",
   "execution_count": 30,
   "outputs": [
    {
     "name": "stdout",
     "output_type": "stream",
     "text": [
      "found 333 scraped users\n"
     ]
    },
    {
     "name": "stderr",
     "output_type": "stream",
     "text": [
      "checking followers of poll authors:   6%|▌         | 1/17 [00:00<00:03,  4.91it/s]"
     ]
    },
    {
     "name": "stdout",
     "output_type": "stream",
     "text": [
      "404 Not Found\n",
      "34 - Sorry, that page does not exist.\n",
      "2515437133\n"
     ]
    },
    {
     "name": "stderr",
     "output_type": "stream",
     "text": [
      "checking followers of poll authors:  18%|█▊        | 3/17 [00:00<00:02,  4.86it/s]"
     ]
    },
    {
     "name": "stdout",
     "output_type": "stream",
     "text": [
      "401 Unauthorized\n",
      "Not authorized.\n",
      "155939890\n"
     ]
    },
    {
     "name": "stderr",
     "output_type": "stream",
     "text": [
      "checking followers of poll authors:  24%|██▎       | 4/17 [00:00<00:02,  4.61it/s]"
     ]
    },
    {
     "name": "stdout",
     "output_type": "stream",
     "text": [
      "401 Unauthorized\n",
      "Not authorized.\n",
      "871921008\n"
     ]
    },
    {
     "name": "stderr",
     "output_type": "stream",
     "text": [
      "checking followers of poll authors:  29%|██▉       | 5/17 [00:01<00:02,  4.48it/s]"
     ]
    },
    {
     "name": "stdout",
     "output_type": "stream",
     "text": [
      "401 Unauthorized\n",
      "Not authorized.\n",
      "215886325\n"
     ]
    },
    {
     "name": "stderr",
     "output_type": "stream",
     "text": [
      "checking followers of poll authors:  41%|████      | 7/17 [00:01<00:02,  4.65it/s]"
     ]
    },
    {
     "name": "stdout",
     "output_type": "stream",
     "text": [
      "404 Not Found\n",
      "34 - Sorry, that page does not exist.\n",
      "742938016495378433\n",
      "404 Not Found\n",
      "34 - Sorry, that page does not exist.\n",
      "3224102715\n"
     ]
    },
    {
     "name": "stderr",
     "output_type": "stream",
     "text": [
      "checking followers of poll authors:  47%|████▋     | 8/17 [00:01<00:01,  4.74it/s]"
     ]
    },
    {
     "name": "stdout",
     "output_type": "stream",
     "text": [
      "401 Unauthorized\n",
      "Not authorized.\n",
      "206061601\n"
     ]
    },
    {
     "name": "stderr",
     "output_type": "stream",
     "text": [
      "checking followers of poll authors:  53%|█████▎    | 9/17 [00:01<00:01,  4.62it/s]"
     ]
    },
    {
     "name": "stdout",
     "output_type": "stream",
     "text": [
      "401 Unauthorized\n",
      "Not authorized.\n",
      "390502765\n"
     ]
    },
    {
     "name": "stderr",
     "output_type": "stream",
     "text": [
      "checking followers of poll authors:  59%|█████▉    | 10/17 [00:02<00:01,  4.70it/s]"
     ]
    },
    {
     "name": "stdout",
     "output_type": "stream",
     "text": [
      "401 Unauthorized\n",
      "Not authorized.\n",
      "414845225\n"
     ]
    },
    {
     "name": "stderr",
     "output_type": "stream",
     "text": [
      "checking followers of poll authors:  71%|███████   | 12/17 [00:02<00:01,  4.68it/s]"
     ]
    },
    {
     "name": "stdout",
     "output_type": "stream",
     "text": [
      "404 Not Found\n",
      "34 - Sorry, that page does not exist.\n",
      "261306457\n",
      "404 Not Found\n",
      "34 - Sorry, that page does not exist.\n",
      "2669804190\n"
     ]
    },
    {
     "name": "stderr",
     "output_type": "stream",
     "text": [
      "checking followers of poll authors:  76%|███████▋  | 13/17 [00:02<00:00,  4.67it/s]"
     ]
    },
    {
     "name": "stdout",
     "output_type": "stream",
     "text": [
      "401 Unauthorized\n",
      "Not authorized.\n",
      "728059399\n"
     ]
    },
    {
     "name": "stderr",
     "output_type": "stream",
     "text": [
      "checking followers of poll authors:  82%|████████▏ | 14/17 [00:03<00:00,  4.63it/s]"
     ]
    },
    {
     "name": "stdout",
     "output_type": "stream",
     "text": [
      "401 Unauthorized\n",
      "Not authorized.\n",
      "206061601\n"
     ]
    },
    {
     "name": "stderr",
     "output_type": "stream",
     "text": [
      "checking followers of poll authors:  88%|████████▊ | 15/17 [00:03<00:00,  4.64it/s]"
     ]
    },
    {
     "name": "stdout",
     "output_type": "stream",
     "text": [
      "401 Unauthorized\n",
      "Not authorized.\n",
      "728059399\n"
     ]
    },
    {
     "name": "stderr",
     "output_type": "stream",
     "text": [
      "Rate limit reached. Sleeping for: 896\n",
      "checking followers of poll authors:  94%|█████████▍| 16/17 [15:00<04:30, 270.29s/it]"
     ]
    },
    {
     "name": "stdout",
     "output_type": "stream",
     "text": [
      "404 Not Found\n",
      "34 - Sorry, that page does not exist.\n",
      "752989213851877377\n"
     ]
    },
    {
     "name": "stderr",
     "output_type": "stream",
     "text": [
      "checking followers of poll authors: 100%|██████████| 17/17 [15:00<00:00, 52.99s/it] "
     ]
    },
    {
     "name": "stdout",
     "output_type": "stream",
     "text": [
      "401 Unauthorized\n",
      "Not authorized.\n",
      "2381862440\n"
     ]
    },
    {
     "name": "stderr",
     "output_type": "stream",
     "text": [
      "\n"
     ]
    },
    {
     "name": "stdout",
     "output_type": "stream",
     "text": [
      "found 636 scraped users\n"
     ]
    },
    {
     "name": "stderr",
     "output_type": "stream",
     "text": [
      "checking followers of poll authors:   2%|▏         | 1/55 [00:00<00:12,  4.21it/s]"
     ]
    },
    {
     "name": "stdout",
     "output_type": "stream",
     "text": [
      "401 Unauthorized\n",
      "Not authorized.\n",
      "86815264\n"
     ]
    },
    {
     "name": "stderr",
     "output_type": "stream",
     "text": [
      "checking followers of poll authors:   4%|▎         | 2/55 [00:00<00:12,  4.35it/s]"
     ]
    },
    {
     "name": "stdout",
     "output_type": "stream",
     "text": [
      "401 Unauthorized\n",
      "Not authorized.\n",
      "1594409988\n"
     ]
    },
    {
     "name": "stderr",
     "output_type": "stream",
     "text": [
      "checking followers of poll authors:   5%|▌         | 3/55 [00:00<00:11,  4.52it/s]"
     ]
    },
    {
     "name": "stdout",
     "output_type": "stream",
     "text": [
      "401 Unauthorized\n",
      "Not authorized.\n",
      "1594409988\n"
     ]
    },
    {
     "name": "stderr",
     "output_type": "stream",
     "text": [
      "checking followers of poll authors:   7%|▋         | 4/55 [00:00<00:11,  4.37it/s]"
     ]
    },
    {
     "name": "stdout",
     "output_type": "stream",
     "text": [
      "401 Unauthorized\n",
      "Not authorized.\n",
      "1594409988\n"
     ]
    },
    {
     "name": "stderr",
     "output_type": "stream",
     "text": [
      "checking followers of poll authors:   9%|▉         | 5/55 [00:01<00:11,  4.44it/s]"
     ]
    },
    {
     "name": "stdout",
     "output_type": "stream",
     "text": [
      "401 Unauthorized\n",
      "Not authorized.\n",
      "1194495690191360004\n"
     ]
    },
    {
     "name": "stderr",
     "output_type": "stream",
     "text": [
      "checking followers of poll authors:  11%|█         | 6/55 [00:01<00:10,  4.53it/s]"
     ]
    },
    {
     "name": "stdout",
     "output_type": "stream",
     "text": [
      "401 Unauthorized\n",
      "Not authorized.\n",
      "1594409988\n"
     ]
    },
    {
     "name": "stderr",
     "output_type": "stream",
     "text": [
      "checking followers of poll authors:  13%|█▎        | 7/55 [00:01<00:10,  4.58it/s]"
     ]
    },
    {
     "name": "stdout",
     "output_type": "stream",
     "text": [
      "404 Not Found\n",
      "34 - Sorry, that page does not exist.\n",
      "42841187\n",
      "401 Unauthorized\n",
      "Not authorized.\n",
      "86815264\n"
     ]
    },
    {
     "name": "stderr",
     "output_type": "stream",
     "text": [
      "checking followers of poll authors:  16%|█▋        | 9/55 [00:01<00:10,  4.59it/s]"
     ]
    },
    {
     "name": "stdout",
     "output_type": "stream",
     "text": [
      "404 Not Found\n",
      "34 - Sorry, that page does not exist.\n",
      "209684798\n"
     ]
    },
    {
     "name": "stderr",
     "output_type": "stream",
     "text": [
      "checking followers of poll authors:  18%|█▊        | 10/55 [00:02<00:09,  4.53it/s]"
     ]
    },
    {
     "name": "stdout",
     "output_type": "stream",
     "text": [
      "401 Unauthorized\n",
      "Not authorized.\n",
      "4875048329\n"
     ]
    },
    {
     "name": "stderr",
     "output_type": "stream",
     "text": [
      "checking followers of poll authors:  20%|██        | 11/55 [00:02<00:09,  4.55it/s]"
     ]
    },
    {
     "name": "stdout",
     "output_type": "stream",
     "text": [
      "404 Not Found\n",
      "34 - Sorry, that page does not exist.\n",
      "553581707\n",
      "401 Unauthorized\n",
      "Not authorized.\n",
      "86815264\n"
     ]
    },
    {
     "name": "stderr",
     "output_type": "stream",
     "text": [
      "checking followers of poll authors:  24%|██▎       | 13/55 [00:02<00:09,  4.57it/s]"
     ]
    },
    {
     "name": "stdout",
     "output_type": "stream",
     "text": [
      "404 Not Found\n",
      "34 - Sorry, that page does not exist.\n",
      "3140006645\n"
     ]
    },
    {
     "name": "stderr",
     "output_type": "stream",
     "text": [
      "Rate limit reached. Sleeping for: 895\n",
      "checking followers of poll authors:  25%|██▌       | 14/55 [14:59<3:05:07, 270.92s/it]"
     ]
    },
    {
     "name": "stdout",
     "output_type": "stream",
     "text": [
      "401 Unauthorized\n",
      "Not authorized.\n",
      "86815264\n"
     ]
    },
    {
     "name": "stderr",
     "output_type": "stream",
     "text": [
      "checking followers of poll authors:  27%|██▋       | 15/55 [14:59<2:06:12, 189.32s/it]"
     ]
    },
    {
     "name": "stdout",
     "output_type": "stream",
     "text": [
      "404 Not Found\n",
      "34 - Sorry, that page does not exist.\n",
      "401757176\n"
     ]
    },
    {
     "name": "stderr",
     "output_type": "stream",
     "text": [
      "checking followers of poll authors:  31%|███       | 17/55 [14:59<58:40, 92.65s/it]   "
     ]
    },
    {
     "name": "stdout",
     "output_type": "stream",
     "text": [
      "401 Unauthorized\n",
      "Not authorized.\n",
      "24096463\n",
      "401 Unauthorized\n",
      "Not authorized.\n",
      "3389073989\n"
     ]
    },
    {
     "name": "stderr",
     "output_type": "stream",
     "text": [
      "checking followers of poll authors:  33%|███▎      | 18/55 [15:00<40:00, 64.88s/it]"
     ]
    },
    {
     "name": "stdout",
     "output_type": "stream",
     "text": [
      "401 Unauthorized\n",
      "Not authorized.\n",
      "786209354\n"
     ]
    },
    {
     "name": "stderr",
     "output_type": "stream",
     "text": [
      "checking followers of poll authors:  35%|███▍      | 19/55 [15:00<27:16, 45.46s/it]"
     ]
    },
    {
     "name": "stdout",
     "output_type": "stream",
     "text": [
      "401 Unauthorized\n",
      "Not authorized.\n",
      "1089300681872175104\n",
      "401 Unauthorized\n",
      "Not authorized.\n",
      "1037663718686031879\n"
     ]
    },
    {
     "name": "stderr",
     "output_type": "stream",
     "text": [
      "checking followers of poll authors:  38%|███▊      | 21/55 [15:00<12:40, 22.37s/it]"
     ]
    },
    {
     "name": "stdout",
     "output_type": "stream",
     "text": [
      "404 Not Found\n",
      "34 - Sorry, that page does not exist.\n",
      "4030465994\n"
     ]
    },
    {
     "name": "stderr",
     "output_type": "stream",
     "text": [
      "checking followers of poll authors:  40%|████      | 22/55 [15:01<08:38, 15.72s/it]"
     ]
    },
    {
     "name": "stdout",
     "output_type": "stream",
     "text": [
      "404 Not Found\n",
      "34 - Sorry, that page does not exist.\n",
      "1257444286934781952\n"
     ]
    },
    {
     "name": "stderr",
     "output_type": "stream",
     "text": [
      "checking followers of poll authors:  42%|████▏     | 23/55 [15:01<05:54, 11.08s/it]"
     ]
    },
    {
     "name": "stdout",
     "output_type": "stream",
     "text": [
      "404 Not Found\n",
      "34 - Sorry, that page does not exist.\n",
      "1201768582402711552\n"
     ]
    },
    {
     "name": "stderr",
     "output_type": "stream",
     "text": [
      "checking followers of poll authors:  44%|████▎     | 24/55 [15:01<04:02,  7.82s/it]"
     ]
    },
    {
     "name": "stdout",
     "output_type": "stream",
     "text": [
      "401 Unauthorized\n",
      "Not authorized.\n",
      "1077552804930224128\n"
     ]
    },
    {
     "name": "stderr",
     "output_type": "stream",
     "text": [
      "checking followers of poll authors:  45%|████▌     | 25/55 [15:01<02:46,  5.54s/it]"
     ]
    },
    {
     "name": "stdout",
     "output_type": "stream",
     "text": [
      "404 Not Found\n",
      "34 - Sorry, that page does not exist.\n",
      "1273811445269106688\n",
      "404 Not Found\n",
      "34 - Sorry, that page does not exist.\n",
      "1109108413966049280\n"
     ]
    },
    {
     "name": "stderr",
     "output_type": "stream",
     "text": [
      "checking followers of poll authors:  51%|█████     | 28/55 [15:02<00:55,  2.04s/it]"
     ]
    },
    {
     "name": "stdout",
     "output_type": "stream",
     "text": [
      "401 Unauthorized\n",
      "Not authorized.\n",
      "2930966494\n",
      "401 Unauthorized\n",
      "Not authorized.\n",
      "1277427101633613824\n"
     ]
    },
    {
     "name": "stderr",
     "output_type": "stream",
     "text": [
      "Rate limit reached. Sleeping for: 897\n",
      "checking followers of poll authors:  53%|█████▎    | 29/55 [30:00<1:57:25, 270.97s/it]"
     ]
    },
    {
     "name": "stdout",
     "output_type": "stream",
     "text": [
      "401 Unauthorized\n",
      "Not authorized.\n",
      "30109729\n",
      "404 Not Found\n",
      "34 - Sorry, that page does not exist.\n",
      "1302297223632482305\n"
     ]
    },
    {
     "name": "stderr",
     "output_type": "stream",
     "text": [
      "checking followers of poll authors:  56%|█████▋    | 31/55 [30:01<53:09, 132.88s/it]  "
     ]
    },
    {
     "name": "stdout",
     "output_type": "stream",
     "text": [
      "404 Not Found\n",
      "34 - Sorry, that page does not exist.\n",
      "2275031188\n"
     ]
    },
    {
     "name": "stderr",
     "output_type": "stream",
     "text": [
      "checking followers of poll authors:  58%|█████▊    | 32/55 [30:01<35:40, 93.09s/it] "
     ]
    },
    {
     "name": "stdout",
     "output_type": "stream",
     "text": [
      "404 Not Found\n",
      "34 - Sorry, that page does not exist.\n",
      "946409530853855232\n"
     ]
    },
    {
     "name": "stderr",
     "output_type": "stream",
     "text": [
      "checking followers of poll authors:  60%|██████    | 33/55 [30:01<23:54, 65.23s/it]"
     ]
    },
    {
     "name": "stdout",
     "output_type": "stream",
     "text": [
      "401 Unauthorized\n",
      "Not authorized.\n",
      "1077552804930224128\n"
     ]
    },
    {
     "name": "stderr",
     "output_type": "stream",
     "text": [
      "checking followers of poll authors:  62%|██████▏   | 34/55 [30:01<16:00, 45.72s/it]"
     ]
    },
    {
     "name": "stdout",
     "output_type": "stream",
     "text": [
      "404 Not Found\n",
      "34 - Sorry, that page does not exist.\n",
      "1066864102406946816\n"
     ]
    },
    {
     "name": "stderr",
     "output_type": "stream",
     "text": [
      "checking followers of poll authors:  64%|██████▎   | 35/55 [30:02<10:41, 32.08s/it]"
     ]
    },
    {
     "name": "stdout",
     "output_type": "stream",
     "text": [
      "404 Not Found\n",
      "34 - Sorry, that page does not exist.\n",
      "743520822610911233\n"
     ]
    },
    {
     "name": "stderr",
     "output_type": "stream",
     "text": [
      "checking followers of poll authors:  65%|██████▌   | 36/55 [30:02<07:07, 22.52s/it]"
     ]
    },
    {
     "name": "stdout",
     "output_type": "stream",
     "text": [
      "401 Unauthorized\n",
      "Not authorized.\n",
      "32372752\n",
      "404 Not Found\n",
      "34 - Sorry, that page does not exist.\n",
      "2268746017\n"
     ]
    },
    {
     "name": "stderr",
     "output_type": "stream",
     "text": [
      "checking followers of poll authors:  69%|██████▉   | 38/55 [30:02<03:09, 11.17s/it]"
     ]
    },
    {
     "name": "stdout",
     "output_type": "stream",
     "text": [
      "404 Not Found\n",
      "34 - Sorry, that page does not exist.\n",
      "1187154684408188928\n"
     ]
    },
    {
     "name": "stderr",
     "output_type": "stream",
     "text": [
      "checking followers of poll authors:  71%|███████   | 39/55 [30:03<02:06,  7.89s/it]"
     ]
    },
    {
     "name": "stdout",
     "output_type": "stream",
     "text": [
      "401 Unauthorized\n",
      "Not authorized.\n",
      "147733355\n"
     ]
    },
    {
     "name": "stderr",
     "output_type": "stream",
     "text": [
      "checking followers of poll authors:  73%|███████▎  | 40/55 [30:03<01:23,  5.59s/it]"
     ]
    },
    {
     "name": "stdout",
     "output_type": "stream",
     "text": [
      "401 Unauthorized\n",
      "Not authorized.\n",
      "2271320364\n"
     ]
    },
    {
     "name": "stderr",
     "output_type": "stream",
     "text": [
      "checking followers of poll authors:  76%|███████▋  | 42/55 [30:03<00:37,  2.87s/it]"
     ]
    },
    {
     "name": "stdout",
     "output_type": "stream",
     "text": [
      "404 Not Found\n",
      "34 - Sorry, that page does not exist.\n",
      "1135633178440425472\n",
      "401 Unauthorized\n",
      "Not authorized.\n",
      "714976928323805185\n"
     ]
    },
    {
     "name": "stderr",
     "output_type": "stream",
     "text": [
      "checking followers of poll authors:  78%|███████▊  | 43/55 [30:04<00:24,  2.07s/it]Rate limit reached. Sleeping for: 896\n"
     ]
    },
    {
     "name": "stdout",
     "output_type": "stream",
     "text": [
      "401 Unauthorized\n",
      "Not authorized.\n",
      "1258037784474013696\n"
     ]
    },
    {
     "name": "stderr",
     "output_type": "stream",
     "text": [
      "checking followers of poll authors:  80%|████████  | 44/55 [45:01<49:37, 270.69s/it]"
     ]
    },
    {
     "name": "stdout",
     "output_type": "stream",
     "text": [
      "401 Unauthorized\n",
      "Not authorized.\n",
      "101044787\n",
      "404 Not Found\n",
      "34 - Sorry, that page does not exist.\n",
      "4591703001\n"
     ]
    },
    {
     "name": "stderr",
     "output_type": "stream",
     "text": [
      "checking followers of poll authors:  84%|████████▎ | 46/55 [45:01<19:54, 132.75s/it]"
     ]
    },
    {
     "name": "stdout",
     "output_type": "stream",
     "text": [
      "401 Unauthorized\n",
      "Not authorized.\n",
      "1281175699580055552\n"
     ]
    },
    {
     "name": "stderr",
     "output_type": "stream",
     "text": [
      "checking followers of poll authors:  85%|████████▌ | 47/55 [45:02<12:23, 92.99s/it] "
     ]
    },
    {
     "name": "stdout",
     "output_type": "stream",
     "text": [
      "404 Not Found\n",
      "34 - Sorry, that page does not exist.\n",
      "1273811445269106688\n"
     ]
    },
    {
     "name": "stderr",
     "output_type": "stream",
     "text": [
      "checking followers of poll authors:  87%|████████▋ | 48/55 [45:02<07:36, 65.15s/it]"
     ]
    },
    {
     "name": "stdout",
     "output_type": "stream",
     "text": [
      "401 Unauthorized\n",
      "Not authorized.\n",
      "1258037784474013696\n"
     ]
    },
    {
     "name": "stderr",
     "output_type": "stream",
     "text": [
      "checking followers of poll authors:  89%|████████▉ | 49/55 [45:02<04:34, 45.67s/it]"
     ]
    },
    {
     "name": "stdout",
     "output_type": "stream",
     "text": [
      "401 Unauthorized\n",
      "Not authorized.\n",
      "970653049596203008\n",
      "404 Not Found\n",
      "34 - Sorry, that page does not exist.\n",
      "1005708111741628419\n"
     ]
    },
    {
     "name": "stderr",
     "output_type": "stream",
     "text": [
      "checking followers of poll authors:  93%|█████████▎| 51/55 [45:03<01:29, 22.49s/it]"
     ]
    },
    {
     "name": "stdout",
     "output_type": "stream",
     "text": [
      "404 Not Found\n",
      "34 - Sorry, that page does not exist.\n",
      "1268830393597407238\n"
     ]
    },
    {
     "name": "stderr",
     "output_type": "stream",
     "text": [
      "checking followers of poll authors:  95%|█████████▍| 52/55 [45:03<00:47, 15.81s/it]"
     ]
    },
    {
     "name": "stdout",
     "output_type": "stream",
     "text": [
      "404 Not Found\n",
      "34 - Sorry, that page does not exist.\n",
      "1216703337317457921\n",
      "401 Unauthorized\n",
      "Not authorized.\n",
      "63998604\n"
     ]
    },
    {
     "name": "stderr",
     "output_type": "stream",
     "text": [
      "checking followers of poll authors:  98%|█████████▊| 54/55 [45:03<00:07,  7.85s/it]"
     ]
    },
    {
     "name": "stdout",
     "output_type": "stream",
     "text": [
      "401 Unauthorized\n",
      "Not authorized.\n",
      "1110075862328717312\n"
     ]
    },
    {
     "name": "stderr",
     "output_type": "stream",
     "text": [
      "checking followers of poll authors: 100%|██████████| 55/55 [45:03<00:00, 49.16s/it]"
     ]
    },
    {
     "name": "stdout",
     "output_type": "stream",
     "text": [
      "404 Not Found\n",
      "34 - Sorry, that page does not exist.\n",
      "1292939157375987712\n"
     ]
    },
    {
     "name": "stderr",
     "output_type": "stream",
     "text": [
      "\n"
     ]
    }
   ],
   "source": [
    "\n",
    "for year in YEARS:\n",
    "    out_path = os.path.join(DATA_PATH, f'follower_lists_{year}.jsonl')\n",
    "    existing_users = set()\n",
    "    if os.path.exists(out_path):\n",
    "        with open(out_path) as f:\n",
    "            existing_users.update(k for l in f for k in json.loads(l))\n",
    "            print(f'found {len(existing_users)} scraped users')\n",
    "\n",
    "    with open(os.path.join(DATA_PATH, f'polls_{year}_author_ids.json')) as f:\n",
    "        author_ids = [id for id in json.load(f) if id not in existing_users]\n",
    "\n",
    "    with open(os.path.join(DATA_PATH, f'follower_lists_{year}.jsonl'), 'a+', encoding='utf8') as f:\n",
    "        for author_id in tqdm(author_ids, desc='checking followers of poll authors'):\n",
    "            follower_ids = []\n",
    "            try:\n",
    "                for page in tweepy.Cursor(api.get_follower_ids, user_id = author_id, count = 5000).pages():\n",
    "                    follower_ids.extend(page)\n",
    "                f.write(json.dumps({author_id:follower_ids}) + '\\n')\n",
    "            except TweepyException as e:\n",
    "                print(e)\n",
    "                print(author_id)\n",
    "                exception_users[author_id]=e\n"
   ],
   "metadata": {
    "collapsed": false
   }
  },
  {
   "cell_type": "code",
   "execution_count": 31,
   "outputs": [
    {
     "data": {
      "text/plain": "60"
     },
     "execution_count": 31,
     "metadata": {},
     "output_type": "execute_result"
    }
   ],
   "source": [
    "len(exception_users)"
   ],
   "metadata": {
    "collapsed": false
   }
  },
  {
   "cell_type": "code",
   "execution_count": 41,
   "outputs": [],
   "source": [
    "with open(os.path.join(DATA_PATH, 'authors_missing.jsonl'), 'w+') as f:\n",
    "    for k, v in exception_users.items():\n",
    "        f.write(json.dumps({k:v.api_errors[0]})+'\\n')"
   ],
   "metadata": {
    "collapsed": false
   }
  },
  {
   "cell_type": "code",
   "execution_count": 42,
   "outputs": [
    {
     "name": "stdout",
     "output_type": "stream",
     "text": [
      "found 334 scraped users\n",
      "16\n",
      "0\n",
      "found 636 scraped users\n",
      "55\n",
      "0\n"
     ]
    }
   ],
   "source": [
    "for year in YEARS:\n",
    "    out_path = os.path.join(DATA_PATH, f'follower_lists_{year}.jsonl')\n",
    "    existing_users = set()\n",
    "    if os.path.exists(out_path):\n",
    "        with open(out_path) as f:\n",
    "            existing_users.update(k for l in f for k in json.loads(l))\n",
    "            print(f'found {len(existing_users)} scraped users')\n",
    "\n",
    "    with open(os.path.join(DATA_PATH, f'polls_{year}_author_ids.json')) as f:\n",
    "        author_ids = [id for id in json.load(f) if id not in existing_users]\n",
    "        print(len(author_ids))\n",
    "        print(len([i for i in author_ids if i not in exception_users]))"
   ],
   "metadata": {
    "collapsed": false
   }
  },
  {
   "cell_type": "code",
   "execution_count": 54,
   "outputs": [
    {
     "data": {
      "text/plain": "1050"
     },
     "execution_count": 54,
     "metadata": {},
     "output_type": "execute_result"
    }
   ],
   "source": [
    "import pandas as pd\n",
    "\n",
    "fnames = ['senators-accounts-1.csv',\n",
    "'representatives-accounts-1.csv',\n",
    "'congress116-house-accounts.csv',\n",
    "'congress116-senate-accounts.csv',]\n",
    "congress_ids = set(pd.concat([pd.read_csv(os.path.join(DATA_PATH, fname)) for fname in fnames]).Uid.unique())\n",
    "len(congress_ids)"
   ],
   "metadata": {
    "collapsed": false
   }
  },
  {
   "cell_type": "code",
   "execution_count": 7,
   "outputs": [],
   "source": [
    "def get_follower_lists(author_ids, out_path, api):\n",
    "    exception_users = dict()\n",
    "    with open(out_path, 'a+', encoding='utf8') as f:\n",
    "        for author_id in tqdm(author_ids, desc='checking followers'):\n",
    "            follower_ids = []\n",
    "            try:\n",
    "                for page in tweepy.Cursor(api.get_follower_ids, user_id = author_id, count = 5000).pages():\n",
    "                    follower_ids.extend(page)\n",
    "                f.write(json.dumps({author_id:follower_ids}) + '\\n')\n",
    "            except TweepyException as e:\n",
    "                print(e)\n",
    "                print(author_id)\n",
    "                exception_users[author_id]=e\n",
    "    return exception_users"
   ],
   "metadata": {
    "collapsed": false
   }
  },
  {
   "cell_type": "code",
   "execution_count": null,
   "outputs": [
    {
     "name": "stderr",
     "output_type": "stream",
     "text": [
      "checking followers:   0%|          | 0/1050 [00:00<?, ?it/s]Rate limit reached. Sleeping for: 893\n",
      "Rate limit reached. Sleeping for: 893\n",
      "Rate limit reached. Sleeping for: 894\n",
      "Rate limit reached. Sleeping for: 894\n",
      "Rate limit reached. Sleeping for: 893\n",
      "Rate limit reached. Sleeping for: 894\n",
      "Rate limit reached. Sleeping for: 894\n",
      "Rate limit reached. Sleeping for: 893\n",
      "Rate limit reached. Sleeping for: 894\n",
      "Rate limit reached. Sleeping for: 894\n",
      "Rate limit reached. Sleeping for: 893\n",
      "Rate limit reached. Sleeping for: 894\n",
      "Rate limit reached. Sleeping for: 894\n",
      "Rate limit reached. Sleeping for: 894\n",
      "Rate limit reached. Sleeping for: 894\n",
      "Rate limit reached. Sleeping for: 894\n",
      "Rate limit reached. Sleeping for: 893\n",
      "Rate limit reached. Sleeping for: 893\n",
      "Rate limit reached. Sleeping for: 893\n",
      "Rate limit reached. Sleeping for: 894\n",
      "Rate limit reached. Sleeping for: 893\n",
      "Rate limit reached. Sleeping for: 894\n",
      "Rate limit reached. Sleeping for: 893\n",
      "Rate limit reached. Sleeping for: 894\n",
      "Rate limit reached. Sleeping for: 894\n",
      "Rate limit reached. Sleeping for: 894\n",
      "Rate limit reached. Sleeping for: 893\n",
      "Rate limit reached. Sleeping for: 894\n",
      "Rate limit reached. Sleeping for: 893\n",
      "Rate limit reached. Sleeping for: 894\n",
      "Rate limit reached. Sleeping for: 893\n",
      "Rate limit reached. Sleeping for: 894\n",
      "Rate limit reached. Sleeping for: 893\n",
      "Rate limit reached. Sleeping for: 894\n",
      "Rate limit reached. Sleeping for: 893\n",
      "Rate limit reached. Sleeping for: 894\n",
      "Rate limit reached. Sleeping for: 893\n",
      "Rate limit reached. Sleeping for: 894\n",
      "Rate limit reached. Sleeping for: 894\n",
      "Rate limit reached. Sleeping for: 893\n",
      "Rate limit reached. Sleeping for: 894\n",
      "Rate limit reached. Sleeping for: 894\n",
      "Rate limit reached. Sleeping for: 893\n",
      "Rate limit reached. Sleeping for: 894\n",
      "Rate limit reached. Sleeping for: 894\n",
      "Rate limit reached. Sleeping for: 894\n",
      "Rate limit reached. Sleeping for: 894\n",
      "Rate limit reached. Sleeping for: 894\n",
      "Rate limit reached. Sleeping for: 894\n",
      "Rate limit reached. Sleeping for: 893\n",
      "Rate limit reached. Sleeping for: 894\n",
      "Rate limit reached. Sleeping for: 894\n",
      "Rate limit reached. Sleeping for: 894\n",
      "Rate limit reached. Sleeping for: 894\n",
      "Rate limit reached. Sleeping for: 894\n",
      "Rate limit reached. Sleeping for: 894\n",
      "Rate limit reached. Sleeping for: 894\n",
      "Rate limit reached. Sleeping for: 894\n",
      "Rate limit reached. Sleeping for: 893\n",
      "Rate limit reached. Sleeping for: 894\n",
      "Rate limit reached. Sleeping for: 894\n",
      "Rate limit reached. Sleeping for: 893\n",
      "Rate limit reached. Sleeping for: 894\n",
      "Rate limit reached. Sleeping for: 894\n",
      "Rate limit reached. Sleeping for: 894\n",
      "Rate limit reached. Sleeping for: 894\n",
      "Rate limit reached. Sleeping for: 894\n",
      "Rate limit reached. Sleeping for: 894\n",
      "Rate limit reached. Sleeping for: 894\n",
      "Rate limit reached. Sleeping for: 894\n",
      "Rate limit reached. Sleeping for: 894\n",
      "Rate limit reached. Sleeping for: 894\n",
      "Rate limit reached. Sleeping for: 894\n",
      "Rate limit reached. Sleeping for: 894\n",
      "Rate limit reached. Sleeping for: 894\n",
      "Rate limit reached. Sleeping for: 894\n",
      "Rate limit reached. Sleeping for: 894\n",
      "Rate limit reached. Sleeping for: 894\n",
      "Rate limit reached. Sleeping for: 894\n",
      "Rate limit reached. Sleeping for: 894\n",
      "Rate limit reached. Sleeping for: 894\n",
      "Rate limit reached. Sleeping for: 894\n",
      "Rate limit reached. Sleeping for: 894\n",
      "Rate limit reached. Sleeping for: 894\n",
      "Rate limit reached. Sleeping for: 894\n",
      "Rate limit reached. Sleeping for: 894\n",
      "Rate limit reached. Sleeping for: 894\n",
      "Rate limit reached. Sleeping for: 894\n",
      "Rate limit reached. Sleeping for: 894\n",
      "Rate limit reached. Sleeping for: 894\n",
      "Rate limit reached. Sleeping for: 894\n"
     ]
    }
   ],
   "source": [
    "out_path = os.path.join(DATA_PATH, f'congress_follower_lists.jsonl')\n",
    "exception_congress = get_follower_lists(author_ids=congress_ids, out_path=out_path, api=api)"
   ],
   "metadata": {
    "collapsed": false
   }
  },
  {
   "cell_type": "code",
   "execution_count": null,
   "outputs": [],
   "source": [],
   "metadata": {
    "collapsed": false
   }
  }
 ],
 "metadata": {
  "kernelspec": {
   "display_name": "Python 3",
   "language": "python",
   "name": "python3"
  },
  "language_info": {
   "codemirror_mode": {
    "name": "ipython",
    "version": 2
   },
   "file_extension": ".py",
   "mimetype": "text/x-python",
   "name": "python",
   "nbconvert_exporter": "python",
   "pygments_lexer": "ipython2",
   "version": "2.7.6"
  }
 },
 "nbformat": 4,
 "nbformat_minor": 0
}
