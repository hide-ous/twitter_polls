{
 "cells": [
  {
   "cell_type": "code",
   "execution_count": 1,
   "outputs": [],
   "source": [
    "import json\n",
    "import re\n",
    "import requests\n",
    "import shutil\n",
    "from urllib.parse import urlparse\n",
    "import os\n",
    "\n",
    "from tqdm import tqdm"
   ],
   "metadata": {
    "collapsed": false
   }
  },
  {
   "cell_type": "code",
   "execution_count": 2,
   "outputs": [],
   "source": [
    "DATA_FOLDER = \"data\"\n",
    "\n",
    "urls = dict()\n",
    "with open(f'{DATA_FOLDER}/followers_rehydrated.jsonl') as i:\n",
    "    for l in i:\n",
    "        j = json.loads(l)\n",
    "        urls[j['id']] = j['profile_image_url']\n",
    "\n",
    "with open(f'{DATA_FOLDER}/follower_pic_urls.csv', 'w+') as o:\n",
    "    o.write('\\n'.join(f\"{k},{v}\" for k, v in urls.items()))"
   ],
   "metadata": {
    "collapsed": false
   }
  },
  {
   "cell_type": "code",
   "execution_count": 3,
   "outputs": [
    {
     "data": {
      "text/plain": "(5516064, 4192342)"
     },
     "execution_count": 3,
     "metadata": {},
     "output_type": "execute_result"
    }
   ],
   "source": [
    "len(urls), len(set(urls.values()))"
   ],
   "metadata": {
    "collapsed": false
   }
  },
  {
   "cell_type": "code",
   "execution_count": 4,
   "outputs": [],
   "source": [
    "from collections import Counter\n",
    "url_counts = Counter(urls.values())"
   ],
   "metadata": {
    "collapsed": false
   }
  },
  {
   "cell_type": "code",
   "execution_count": 5,
   "outputs": [
    {
     "data": {
      "text/plain": "[('https://abs.twimg.com/sticky/default_profile_images/default_profile_normal.png',\n  1320808),\n ('', 2916),\n ('https://pbs.twimg.com/profile_images/852969926163808256/SaSysP9k_normal.jpg',\n  1),\n ('https://pbs.twimg.com/profile_images/1454018403274948610/9QgH-Lj3_normal.jpg',\n  1),\n ('https://pbs.twimg.com/profile_images/640041222082465792/4g-y6Ztk_normal.jpg',\n  1),\n ('https://pbs.twimg.com/profile_images/1426330123238744064/9Itp8R6e_normal.jpg',\n  1),\n ('https://pbs.twimg.com/profile_images/545913341063864320/8S9obh5d_normal.jpeg',\n  1),\n ('https://pbs.twimg.com/profile_images/647018342511869952/xNYCPG6z_normal.jpg',\n  1),\n ('https://pbs.twimg.com/profile_images/983837066369863680/ltPhdbYq_normal.jpg',\n  1),\n ('https://pbs.twimg.com/profile_images/571637185968939009/Fzu0V3ZR_normal.jpeg',\n  1)]"
     },
     "execution_count": 5,
     "metadata": {},
     "output_type": "execute_result"
    }
   ],
   "source": [
    "url_counts.most_common(10) # the default and empty urls should be blacklisted"
   ],
   "metadata": {
    "collapsed": false
   }
  },
  {
   "cell_type": "code",
   "execution_count": null,
   "outputs": [
    {
     "name": "stderr",
     "output_type": "stream",
     "text": [
      "pictures:   0%|          | 1226/5516064 [07:20<543:31:39,  2.82it/s]"
     ]
    }
   ],
   "source": [
    "errors = []\n",
    "overwrite = True\n",
    "\n",
    "for k, v in tqdm(urls.items(), desc='pictures', total = len(urls)):\n",
    "    if v in {\"\",'https://abs.twimg.com/sticky/default_profile_images/default_profile_normal.png'}:\n",
    "        continue\n",
    "    path = urlparse(v).path\n",
    "    ext = os.path.splitext(path)[1]\n",
    "    v = re.sub(f\"^(?P<needed>.*)(?P<unneeded>_normal)(?P<ext>{ext})$\",r\"\\g<needed>\\g<ext>\",  v)\n",
    "    out_path = f\"{DATA_FOLDER}/img/{k[:2]}/{k[2:4]}/{k}{ext}\"\n",
    "    if os.path.exists(out_path) and not overwrite:\n",
    "        continue\n",
    "    os.makedirs(os.path.dirname(out_path), exist_ok=True)\n",
    "    try:\n",
    "        r = requests.get(v, stream=True)\n",
    "        if r.status_code == 200:\n",
    "            with open(out_path, 'wb') as f:\n",
    "                r.raw.decode_content = True\n",
    "                shutil.copyfileobj(r.raw, f)\n",
    "        else:\n",
    "            errors.append(k)\n",
    "    except:\n",
    "        errors.append(k)\n"
   ],
   "metadata": {
    "collapsed": false,
    "pycharm": {
     "is_executing": true
    }
   }
  },
  {
   "cell_type": "code",
   "execution_count": 12,
   "outputs": [
    {
     "data": {
      "text/plain": "['https://pbs.twimg.com/profile_images/852969926163808256/SaSysP9k_normal.jpg',\n 'https://pbs.twimg.com/profile_images/1454018403274948610/9QgH-Lj3_normal.jpg',\n 'https://pbs.twimg.com/profile_images/640041222082465792/4g-y6Ztk_normal.jpg']"
     },
     "execution_count": 12,
     "metadata": {},
     "output_type": "execute_result"
    }
   ],
   "source": [
    "list(urls.values())[:3]"
   ],
   "metadata": {
    "collapsed": false
   }
  },
  {
   "cell_type": "code",
   "execution_count": 16,
   "outputs": [
    {
     "data": {
      "text/plain": "'/profile_images/640041222082465792/4g-y6Ztk_normal.jpg'"
     },
     "execution_count": 16,
     "metadata": {},
     "output_type": "execute_result"
    }
   ],
   "source": [
    "urlparse('https://pbs.twimg.com/profile_images/640041222082465792/4g-y6Ztk_normal.jpg').path"
   ],
   "metadata": {
    "collapsed": false
   }
  },
  {
   "cell_type": "code",
   "execution_count": 17,
   "outputs": [],
   "source": [
    "v = 'https://pbs.twimg.com/profile_images/640041222082465792/4g-y6Ztk_normal.jpg'"
   ],
   "metadata": {
    "collapsed": false
   }
  },
  {
   "cell_type": "code",
   "execution_count": 51,
   "outputs": [
    {
     "data": {
      "text/plain": "'https://pbs.twimg.com/profile_images/640041222082465792/4g-y6Ztk.jpg'"
     },
     "execution_count": 51,
     "metadata": {},
     "output_type": "execute_result"
    }
   ],
   "source": [
    "path = urlparse(v).path\n",
    "ext = os.path.splitext(path)[1]\n",
    "\n"
   ],
   "metadata": {
    "collapsed": false
   }
  },
  {
   "cell_type": "code",
   "execution_count": 50,
   "outputs": [
    {
     "data": {
      "text/plain": "''"
     },
     "execution_count": 50,
     "metadata": {},
     "output_type": "execute_result"
    }
   ],
   "source": [
    "ext"
   ],
   "metadata": {
    "collapsed": false
   }
  },
  {
   "cell_type": "code",
   "execution_count": null,
   "outputs": [],
   "source": [],
   "metadata": {
    "collapsed": false
   }
  }
 ],
 "metadata": {
  "kernelspec": {
   "display_name": "Python 3",
   "language": "python",
   "name": "python3"
  },
  "language_info": {
   "codemirror_mode": {
    "name": "ipython",
    "version": 2
   },
   "file_extension": ".py",
   "mimetype": "text/x-python",
   "name": "python",
   "nbconvert_exporter": "python",
   "pygments_lexer": "ipython2",
   "version": "2.7.6"
  }
 },
 "nbformat": 4,
 "nbformat_minor": 0
}
