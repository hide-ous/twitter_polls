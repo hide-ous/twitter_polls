{
 "cells": [
  {
   "cell_type": "code",
   "execution_count": 44,
   "metadata": {
    "collapsed": true
   },
   "outputs": [],
   "source": [
    "import json\n",
    "import os\n",
    "from functools import partial\n",
    "\n",
    "import pandas as pd\n",
    "from backoff import on_exception, expo\n",
    "from geopy.exc import GeocoderUnavailable, GeocoderTimedOut\n",
    "from geopy.geocoders import Nominatim\n",
    "from ratelimit import limits, sleep_and_retry\n",
    "from tqdm import tqdm"
   ]
  },
  {
   "cell_type": "code",
   "execution_count": 3,
   "outputs": [],
   "source": [
    "DUMMY_LOCATION_STRS = [\"Berlin, Deutschland\",\n",
    "\"France\",\n",
    "\"Paris et plein Centre\",\n",
    "\"Punjab, Pakistan\",\n",
    "\"South Africa\",\n",
    "\"Boulder, Colorado\",\n",
    "\"NONE\",\n",
    "\"London\",\n",
    "\"United States\",\n",
    "\"Ethiopia\",\n",
    "\"Ethiopia\",\n",
    "\"TΧ\",\n",
    "\"NONE\",\n",
    "\"Paris, Mulhouse, sur la route\",\n",
    "\"London\",\n",
    "\"Barcelona\",\n",
    "\"Liverpool\",\n",
    "\"Bay Area, CA\"]"
   ],
   "metadata": {
    "collapsed": false
   }
  },
  {
   "cell_type": "code",
   "execution_count": 4,
   "outputs": [],
   "source": [
    "DATA_PATH = 'data'"
   ],
   "metadata": {
    "collapsed": false
   }
  },
  {
   "cell_type": "code",
   "execution_count": 40,
   "outputs": [],
   "source": [
    "@sleep_and_retry\n",
    "@on_exception(expo, GeocoderTimedOut, max_tries=8)\n",
    "@limits(calls=1, period=1)\n",
    "def get_location(location_str, geolocator, **kwargs):\n",
    "    try:\n",
    "        return geolocator.geocode(location_str, **kwargs)\n",
    "    except GeocoderUnavailable as e:\n",
    "        return None"
   ],
   "metadata": {
    "collapsed": false
   }
  },
  {
   "cell_type": "code",
   "execution_count": 20,
   "outputs": [],
   "source": [
    "@sleep_and_retry\n",
    "@on_exception(expo, GeocoderTimedOut, max_tries=8)\n",
    "@limits(calls=1, period=1)\n",
    "def reverse_location(location_obj, geolocator, **kwargs):\n",
    "    try:\n",
    "        coords = \",\".join((location_obj.raw['lat'], location_obj.raw['lon']))\n",
    "    except AttributeError as e:\n",
    "        return None\n",
    "    try:\n",
    "        return geolocator.reverse(coords, **kwargs)\n",
    "    except GeocoderUnavailable as e:\n",
    "        return None"
   ],
   "metadata": {
    "collapsed": false
   }
  },
  {
   "cell_type": "code",
   "execution_count": 25,
   "outputs": [],
   "source": [
    "def read_locations(users_path=None):\n",
    "    \"\"\"\n",
    "    reads the input data\n",
    "    :return: a dataframe with a column `location_str` containing the description of the location\n",
    "    \"\"\"\n",
    "    if users_path is None:\n",
    "        return pd.DataFrame(DUMMY_LOCATION_STRS, columns=['location_str'], index=range(len(DUMMY_LOCATION_STRS)))\n",
    "    else:\n",
    "        return pd.read_json(os.path.join(DATA_PATH, 'followers_2016_rehydrated.jsonl'),\n",
    "                            lines=True\n",
    "                            ).rename(columns={'location':'location_str'}\n",
    "                                     ).set_index('id').dropna(subset=['location_str'])\n",
    "\n",
    "        # with open(users_path, encoding='utf8') as f:\n",
    "        #     # users = {k:v for l in f for k, v in json.loads(l).items()}\n",
    "        #\n",
    "        #     users = pd.concat(\n",
    "        #         pd.DataFrame([dict(follower, **{'follows':pollster}) for follower in followers])\n",
    "        #         for l in f for pollster, followers in json.loads(l).items()\n",
    "        #     )\n",
    "        # return users\n"
   ],
   "metadata": {
    "collapsed": false
   }
  },
  {
   "cell_type": "code",
   "execution_count": 26,
   "outputs": [],
   "source": [
    "users = read_locations(os.path.join(DATA_PATH, 'followers_2016_rehydrated.jsonl'))"
   ],
   "metadata": {
    "collapsed": false
   }
  },
  {
   "cell_type": "code",
   "execution_count": 27,
   "outputs": [
    {
     "data": {
      "text/plain": "                                                     profile_image_url  \\\nid                                                                       \n1599787232           https://pbs.twimg.com/profile_images/966765484...   \n1549733678233837568  https://pbs.twimg.com/profile_images/155014899...   \n1586767903973511168  https://pbs.twimg.com/profile_images/158859749...   \n1578080496906641408  https://pbs.twimg.com/profile_images/158101944...   \n1550149641823469568  https://pbs.twimg.com/profile_images/155014977...   \n...                                                                ...   \n3941300294           https://pbs.twimg.com/profile_images/832659481...   \n824443214937497600   https://pbs.twimg.com/profile_images/857030758...   \n857648235585740800   https://pbs.twimg.com/profile_images/857651838...   \n2767912537           https://pbs.twimg.com/profile_images/781211374...   \n855446969183068160   https://pbs.twimg.com/profile_images/855447617...   \n\n                            username  \\\nid                                     \n1599787232                  OGUpcoin   \n1549733678233837568  hoffpavir_evely   \n1586767903973511168  richards_moniqu   \n1578080496906641408    angela13poole   \n1550149641823469568     giantstocks_   \n...                              ...   \n3941300294            RigHandSpirits   \n824443214937497600   BLISSMagAlberta   \n857648235585740800         Mizzboogz   \n2767912537               BigAlsSmoke   \n855446969183068160        shuutup_x3   \n\n                                                        public_metrics  \\\nid                                                                       \n1599787232           {'followers_count': 2121, 'following_count': 2...   \n1549733678233837568  {'followers_count': 150, 'following_count': 30...   \n1586767903973511168  {'followers_count': 117, 'following_count': 13...   \n1578080496906641408  {'followers_count': 166, 'following_count': 18...   \n1550149641823469568  {'followers_count': 226, 'following_count': 29...   \n...                                                                ...   \n3941300294           {'followers_count': 3804, 'following_count': 4...   \n824443214937497600   {'followers_count': 462, 'following_count': 13...   \n857648235585740800   {'followers_count': 29, 'following_count': 67,...   \n2767912537           {'followers_count': 23717, 'following_count': ...   \n855446969183068160   {'followers_count': 5, 'following_count': 71, ...   \n\n                                                           description  \\\nid                                                                       \n1599787232           I am the Co-Founder of $UPCOIN the #crypto cur...   \n1549733678233837568                                                      \n1586767903973511168                                                      \n1578080496906641408                                                      \n1550149641823469568  Investor & Trader. My tweets are all IMHO & ma...   \n...                                                                ...   \n3941300294           Pure Alberta Spirits! Vodka, rum, whiskey, moo...   \n824443214937497600   Attain total BLISS - articles featuring #beer ...   \n857648235585740800   Passionate about life and love , lgbt and prou...   \n2767912537           Big Al's Smoke & Gifts is the #1 premier smoke...   \n855446969183068160                                                       \n\n                     protected                created_at  verified  \\\nid                                                                   \n1599787232               False 2013-07-17 02:14:15+00:00     False   \n1549733678233837568      False 2022-07-20 12:31:24+00:00     False   \n1586767903973511168      False 2022-10-30 17:12:46+00:00     False   \n1578080496906641408      False 2022-10-06 17:51:41+00:00     False   \n1550149641823469568      False 2022-07-21 16:04:16+00:00     False   \n...                        ...                       ...       ...   \n3941300294               False 2015-10-19 00:19:13+00:00     False   \n824443214937497600       False 2017-01-26 02:25:54+00:00     False   \n857648235585740800       False 2017-04-27 17:30:48+00:00     False   \n2767912537               False 2014-08-25 20:56:23+00:00     False   \n855446969183068160       False 2017-04-21 15:43:45+00:00     False   \n\n                                         name  pinned_tweet_id  \\\nid                                                               \n1599787232           Glory2GloryStudio 🕊🇺🇸🇺🇦🕊     1.426972e+18   \n1549733678233837568                    Evelyn              NaN   \n1586767903973511168                   Monique              NaN   \n1578080496906641408                    Angela              NaN   \n1550149641823469568                Trader Joe              NaN   \n...                                       ...              ...   \n3941300294                Rig Hand Distillery              NaN   \n824443214937497600             BLISS Magazine     8.877268e+17   \n857648235585740800             Ashley Salazar              NaN   \n2767912537                     Big Al's Smoke              NaN   \n855446969183068160                     Cèline              NaN   \n\n                                                              entities  \\\nid                                                                       \n1599787232           {'url': {'urls': [{'start': 0, 'end': 23, 'url...   \n1549733678233837568  {'url': {'urls': [{'start': 0, 'end': 23, 'url...   \n1586767903973511168  {'url': {'urls': [{'start': 0, 'end': 23, 'url...   \n1578080496906641408  {'url': {'urls': [{'start': 0, 'end': 23, 'url...   \n1550149641823469568  {'description': {'hashtags': [{'start': 75, 'e...   \n...                                                                ...   \n3941300294           {'url': {'urls': [{'start': 0, 'end': 23, 'url...   \n824443214937497600   {'url': {'urls': [{'start': 0, 'end': 23, 'url...   \n857648235585740800   {'description': {'mentions': [{'start': 80, 'e...   \n2767912537           {'url': {'urls': [{'start': 0, 'end': 23, 'url...   \n855446969183068160                                                 NaN   \n\n                            location_str                      url withheld  \nid                                                                          \n1599787232                 United States  https://t.co/0jI9gEozYA      NaN  \n1549733678233837568           Bridgeport  https://t.co/iZAMWhQrsq      NaN  \n1586767903973511168             Murrieta  https://t.co/UEeJUFUrCW      NaN  \n1578080496906641408             Thornton  https://t.co/AlsYzn4XD2      NaN  \n1550149641823469568        United States                      NaN      NaN  \n...                                  ...                      ...      ...  \n3941300294                      Nisku AB  https://t.co/n63s3lApnK      NaN  \n824443214937497600       Alberta, Canada  https://t.co/Xfthprl0Ky      NaN  \n857648235585740800   High River, Alberta                      NaN      NaN  \n2767912537                  Berkeley, CA  https://t.co/Xeb2pE1Luq      NaN  \n855446969183068160      Bienna, Svizzera                      NaN      NaN  \n\n[23786 rows x 13 columns]",
      "text/html": "<div>\n<style scoped>\n    .dataframe tbody tr th:only-of-type {\n        vertical-align: middle;\n    }\n\n    .dataframe tbody tr th {\n        vertical-align: top;\n    }\n\n    .dataframe thead th {\n        text-align: right;\n    }\n</style>\n<table border=\"1\" class=\"dataframe\">\n  <thead>\n    <tr style=\"text-align: right;\">\n      <th></th>\n      <th>profile_image_url</th>\n      <th>username</th>\n      <th>public_metrics</th>\n      <th>description</th>\n      <th>protected</th>\n      <th>created_at</th>\n      <th>verified</th>\n      <th>name</th>\n      <th>pinned_tweet_id</th>\n      <th>entities</th>\n      <th>location_str</th>\n      <th>url</th>\n      <th>withheld</th>\n    </tr>\n    <tr>\n      <th>id</th>\n      <th></th>\n      <th></th>\n      <th></th>\n      <th></th>\n      <th></th>\n      <th></th>\n      <th></th>\n      <th></th>\n      <th></th>\n      <th></th>\n      <th></th>\n      <th></th>\n      <th></th>\n    </tr>\n  </thead>\n  <tbody>\n    <tr>\n      <th>1599787232</th>\n      <td>https://pbs.twimg.com/profile_images/966765484...</td>\n      <td>OGUpcoin</td>\n      <td>{'followers_count': 2121, 'following_count': 2...</td>\n      <td>I am the Co-Founder of $UPCOIN the #crypto cur...</td>\n      <td>False</td>\n      <td>2013-07-17 02:14:15+00:00</td>\n      <td>False</td>\n      <td>Glory2GloryStudio 🕊🇺🇸🇺🇦🕊</td>\n      <td>1.426972e+18</td>\n      <td>{'url': {'urls': [{'start': 0, 'end': 23, 'url...</td>\n      <td>United States</td>\n      <td>https://t.co/0jI9gEozYA</td>\n      <td>NaN</td>\n    </tr>\n    <tr>\n      <th>1549733678233837568</th>\n      <td>https://pbs.twimg.com/profile_images/155014899...</td>\n      <td>hoffpavir_evely</td>\n      <td>{'followers_count': 150, 'following_count': 30...</td>\n      <td></td>\n      <td>False</td>\n      <td>2022-07-20 12:31:24+00:00</td>\n      <td>False</td>\n      <td>Evelyn</td>\n      <td>NaN</td>\n      <td>{'url': {'urls': [{'start': 0, 'end': 23, 'url...</td>\n      <td>Bridgeport</td>\n      <td>https://t.co/iZAMWhQrsq</td>\n      <td>NaN</td>\n    </tr>\n    <tr>\n      <th>1586767903973511168</th>\n      <td>https://pbs.twimg.com/profile_images/158859749...</td>\n      <td>richards_moniqu</td>\n      <td>{'followers_count': 117, 'following_count': 13...</td>\n      <td></td>\n      <td>False</td>\n      <td>2022-10-30 17:12:46+00:00</td>\n      <td>False</td>\n      <td>Monique</td>\n      <td>NaN</td>\n      <td>{'url': {'urls': [{'start': 0, 'end': 23, 'url...</td>\n      <td>Murrieta</td>\n      <td>https://t.co/UEeJUFUrCW</td>\n      <td>NaN</td>\n    </tr>\n    <tr>\n      <th>1578080496906641408</th>\n      <td>https://pbs.twimg.com/profile_images/158101944...</td>\n      <td>angela13poole</td>\n      <td>{'followers_count': 166, 'following_count': 18...</td>\n      <td></td>\n      <td>False</td>\n      <td>2022-10-06 17:51:41+00:00</td>\n      <td>False</td>\n      <td>Angela</td>\n      <td>NaN</td>\n      <td>{'url': {'urls': [{'start': 0, 'end': 23, 'url...</td>\n      <td>Thornton</td>\n      <td>https://t.co/AlsYzn4XD2</td>\n      <td>NaN</td>\n    </tr>\n    <tr>\n      <th>1550149641823469568</th>\n      <td>https://pbs.twimg.com/profile_images/155014977...</td>\n      <td>giantstocks_</td>\n      <td>{'followers_count': 226, 'following_count': 29...</td>\n      <td>Investor &amp; Trader. My tweets are all IMHO &amp; ma...</td>\n      <td>False</td>\n      <td>2022-07-21 16:04:16+00:00</td>\n      <td>False</td>\n      <td>Trader Joe</td>\n      <td>NaN</td>\n      <td>{'description': {'hashtags': [{'start': 75, 'e...</td>\n      <td>United States</td>\n      <td>NaN</td>\n      <td>NaN</td>\n    </tr>\n    <tr>\n      <th>...</th>\n      <td>...</td>\n      <td>...</td>\n      <td>...</td>\n      <td>...</td>\n      <td>...</td>\n      <td>...</td>\n      <td>...</td>\n      <td>...</td>\n      <td>...</td>\n      <td>...</td>\n      <td>...</td>\n      <td>...</td>\n      <td>...</td>\n    </tr>\n    <tr>\n      <th>3941300294</th>\n      <td>https://pbs.twimg.com/profile_images/832659481...</td>\n      <td>RigHandSpirits</td>\n      <td>{'followers_count': 3804, 'following_count': 4...</td>\n      <td>Pure Alberta Spirits! Vodka, rum, whiskey, moo...</td>\n      <td>False</td>\n      <td>2015-10-19 00:19:13+00:00</td>\n      <td>False</td>\n      <td>Rig Hand Distillery</td>\n      <td>NaN</td>\n      <td>{'url': {'urls': [{'start': 0, 'end': 23, 'url...</td>\n      <td>Nisku AB</td>\n      <td>https://t.co/n63s3lApnK</td>\n      <td>NaN</td>\n    </tr>\n    <tr>\n      <th>824443214937497600</th>\n      <td>https://pbs.twimg.com/profile_images/857030758...</td>\n      <td>BLISSMagAlberta</td>\n      <td>{'followers_count': 462, 'following_count': 13...</td>\n      <td>Attain total BLISS - articles featuring #beer ...</td>\n      <td>False</td>\n      <td>2017-01-26 02:25:54+00:00</td>\n      <td>False</td>\n      <td>BLISS Magazine</td>\n      <td>8.877268e+17</td>\n      <td>{'url': {'urls': [{'start': 0, 'end': 23, 'url...</td>\n      <td>Alberta, Canada</td>\n      <td>https://t.co/Xfthprl0Ky</td>\n      <td>NaN</td>\n    </tr>\n    <tr>\n      <th>857648235585740800</th>\n      <td>https://pbs.twimg.com/profile_images/857651838...</td>\n      <td>Mizzboogz</td>\n      <td>{'followers_count': 29, 'following_count': 67,...</td>\n      <td>Passionate about life and love , lgbt and prou...</td>\n      <td>False</td>\n      <td>2017-04-27 17:30:48+00:00</td>\n      <td>False</td>\n      <td>Ashley Salazar</td>\n      <td>NaN</td>\n      <td>{'description': {'mentions': [{'start': 80, 'e...</td>\n      <td>High River, Alberta</td>\n      <td>NaN</td>\n      <td>NaN</td>\n    </tr>\n    <tr>\n      <th>2767912537</th>\n      <td>https://pbs.twimg.com/profile_images/781211374...</td>\n      <td>BigAlsSmoke</td>\n      <td>{'followers_count': 23717, 'following_count': ...</td>\n      <td>Big Al's Smoke &amp; Gifts is the #1 premier smoke...</td>\n      <td>False</td>\n      <td>2014-08-25 20:56:23+00:00</td>\n      <td>False</td>\n      <td>Big Al's Smoke</td>\n      <td>NaN</td>\n      <td>{'url': {'urls': [{'start': 0, 'end': 23, 'url...</td>\n      <td>Berkeley, CA</td>\n      <td>https://t.co/Xeb2pE1Luq</td>\n      <td>NaN</td>\n    </tr>\n    <tr>\n      <th>855446969183068160</th>\n      <td>https://pbs.twimg.com/profile_images/855447617...</td>\n      <td>shuutup_x3</td>\n      <td>{'followers_count': 5, 'following_count': 71, ...</td>\n      <td></td>\n      <td>False</td>\n      <td>2017-04-21 15:43:45+00:00</td>\n      <td>False</td>\n      <td>Cèline</td>\n      <td>NaN</td>\n      <td>NaN</td>\n      <td>Bienna, Svizzera</td>\n      <td>NaN</td>\n      <td>NaN</td>\n    </tr>\n  </tbody>\n</table>\n<p>23786 rows × 13 columns</p>\n</div>"
     },
     "execution_count": 27,
     "metadata": {},
     "output_type": "execute_result"
    }
   ],
   "source": [
    "users"
   ],
   "metadata": {
    "collapsed": false
   }
  },
  {
   "cell_type": "code",
   "execution_count": 28,
   "outputs": [],
   "source": [
    "# read the data\n",
    "locations = read_locations(os.path.join(DATA_PATH, 'followers_2016_rehydrated.jsonl'))\n",
    "# initialize the geolocator service\n",
    "geolocator = Nominatim(user_agent=\"twitter_poll_bio_geocoding_v0.0.1\")\n"
   ],
   "metadata": {
    "collapsed": false
   }
  },
  {
   "cell_type": "code",
   "execution_count": 34,
   "outputs": [],
   "source": [
    "unique_locations = set(locations.location_str.unique())"
   ],
   "metadata": {
    "collapsed": false
   }
  },
  {
   "cell_type": "code",
   "execution_count": 41,
   "outputs": [],
   "source": [
    "resolved = dict()\n",
    "tested = set()"
   ],
   "metadata": {
    "collapsed": false
   }
  },
  {
   "cell_type": "code",
   "execution_count": null,
   "outputs": [
    {
     "name": "stderr",
     "output_type": "stream",
     "text": [
      "  1%|          | 136/11456 [01:00<1:33:14,  2.02it/s]"
     ]
    }
   ],
   "source": [
    "for location in tqdm(unique_locations):\n",
    "    if location in tested:\n",
    "        continue\n",
    "    resolved[location] = get_location(location, geolocator)\n",
    "    tested.add(location)"
   ],
   "metadata": {
    "collapsed": false,
    "pycharm": {
     "is_executing": true
    }
   }
  },
  {
   "cell_type": "code",
   "execution_count": 29,
   "outputs": [
    {
     "ename": "GeocoderTimedOut",
     "evalue": "Service timed out",
     "output_type": "error",
     "traceback": [
      "\u001B[1;31m---------------------------------------------------------------------------\u001B[0m",
      "\u001B[1;31mTimeoutError\u001B[0m                              Traceback (most recent call last)",
      "File \u001B[1;32mC:\\Python310\\lib\\urllib\\request.py:1348\u001B[0m, in \u001B[0;36mAbstractHTTPHandler.do_open\u001B[1;34m(self, http_class, req, **http_conn_args)\u001B[0m\n\u001B[0;32m   1347\u001B[0m \u001B[38;5;28;01mtry\u001B[39;00m:\n\u001B[1;32m-> 1348\u001B[0m     \u001B[43mh\u001B[49m\u001B[38;5;241;43m.\u001B[39;49m\u001B[43mrequest\u001B[49m\u001B[43m(\u001B[49m\u001B[43mreq\u001B[49m\u001B[38;5;241;43m.\u001B[39;49m\u001B[43mget_method\u001B[49m\u001B[43m(\u001B[49m\u001B[43m)\u001B[49m\u001B[43m,\u001B[49m\u001B[43m \u001B[49m\u001B[43mreq\u001B[49m\u001B[38;5;241;43m.\u001B[39;49m\u001B[43mselector\u001B[49m\u001B[43m,\u001B[49m\u001B[43m \u001B[49m\u001B[43mreq\u001B[49m\u001B[38;5;241;43m.\u001B[39;49m\u001B[43mdata\u001B[49m\u001B[43m,\u001B[49m\u001B[43m \u001B[49m\u001B[43mheaders\u001B[49m\u001B[43m,\u001B[49m\n\u001B[0;32m   1349\u001B[0m \u001B[43m              \u001B[49m\u001B[43mencode_chunked\u001B[49m\u001B[38;5;241;43m=\u001B[39;49m\u001B[43mreq\u001B[49m\u001B[38;5;241;43m.\u001B[39;49m\u001B[43mhas_header\u001B[49m\u001B[43m(\u001B[49m\u001B[38;5;124;43m'\u001B[39;49m\u001B[38;5;124;43mTransfer-encoding\u001B[39;49m\u001B[38;5;124;43m'\u001B[39;49m\u001B[43m)\u001B[49m\u001B[43m)\u001B[49m\n\u001B[0;32m   1350\u001B[0m \u001B[38;5;28;01mexcept\u001B[39;00m \u001B[38;5;167;01mOSError\u001B[39;00m \u001B[38;5;28;01mas\u001B[39;00m err: \u001B[38;5;66;03m# timeout error\u001B[39;00m\n",
      "File \u001B[1;32mC:\\Python310\\lib\\http\\client.py:1282\u001B[0m, in \u001B[0;36mHTTPConnection.request\u001B[1;34m(self, method, url, body, headers, encode_chunked)\u001B[0m\n\u001B[0;32m   1281\u001B[0m \u001B[38;5;250m\u001B[39m\u001B[38;5;124;03m\"\"\"Send a complete request to the server.\"\"\"\u001B[39;00m\n\u001B[1;32m-> 1282\u001B[0m \u001B[38;5;28;43mself\u001B[39;49m\u001B[38;5;241;43m.\u001B[39;49m\u001B[43m_send_request\u001B[49m\u001B[43m(\u001B[49m\u001B[43mmethod\u001B[49m\u001B[43m,\u001B[49m\u001B[43m \u001B[49m\u001B[43murl\u001B[49m\u001B[43m,\u001B[49m\u001B[43m \u001B[49m\u001B[43mbody\u001B[49m\u001B[43m,\u001B[49m\u001B[43m \u001B[49m\u001B[43mheaders\u001B[49m\u001B[43m,\u001B[49m\u001B[43m \u001B[49m\u001B[43mencode_chunked\u001B[49m\u001B[43m)\u001B[49m\n",
      "File \u001B[1;32mC:\\Python310\\lib\\http\\client.py:1328\u001B[0m, in \u001B[0;36mHTTPConnection._send_request\u001B[1;34m(self, method, url, body, headers, encode_chunked)\u001B[0m\n\u001B[0;32m   1327\u001B[0m     body \u001B[38;5;241m=\u001B[39m _encode(body, \u001B[38;5;124m'\u001B[39m\u001B[38;5;124mbody\u001B[39m\u001B[38;5;124m'\u001B[39m)\n\u001B[1;32m-> 1328\u001B[0m \u001B[38;5;28;43mself\u001B[39;49m\u001B[38;5;241;43m.\u001B[39;49m\u001B[43mendheaders\u001B[49m\u001B[43m(\u001B[49m\u001B[43mbody\u001B[49m\u001B[43m,\u001B[49m\u001B[43m \u001B[49m\u001B[43mencode_chunked\u001B[49m\u001B[38;5;241;43m=\u001B[39;49m\u001B[43mencode_chunked\u001B[49m\u001B[43m)\u001B[49m\n",
      "File \u001B[1;32mC:\\Python310\\lib\\http\\client.py:1277\u001B[0m, in \u001B[0;36mHTTPConnection.endheaders\u001B[1;34m(self, message_body, encode_chunked)\u001B[0m\n\u001B[0;32m   1276\u001B[0m     \u001B[38;5;28;01mraise\u001B[39;00m CannotSendHeader()\n\u001B[1;32m-> 1277\u001B[0m \u001B[38;5;28;43mself\u001B[39;49m\u001B[38;5;241;43m.\u001B[39;49m\u001B[43m_send_output\u001B[49m\u001B[43m(\u001B[49m\u001B[43mmessage_body\u001B[49m\u001B[43m,\u001B[49m\u001B[43m \u001B[49m\u001B[43mencode_chunked\u001B[49m\u001B[38;5;241;43m=\u001B[39;49m\u001B[43mencode_chunked\u001B[49m\u001B[43m)\u001B[49m\n",
      "File \u001B[1;32mC:\\Python310\\lib\\http\\client.py:1037\u001B[0m, in \u001B[0;36mHTTPConnection._send_output\u001B[1;34m(self, message_body, encode_chunked)\u001B[0m\n\u001B[0;32m   1036\u001B[0m \u001B[38;5;28;01mdel\u001B[39;00m \u001B[38;5;28mself\u001B[39m\u001B[38;5;241m.\u001B[39m_buffer[:]\n\u001B[1;32m-> 1037\u001B[0m \u001B[38;5;28;43mself\u001B[39;49m\u001B[38;5;241;43m.\u001B[39;49m\u001B[43msend\u001B[49m\u001B[43m(\u001B[49m\u001B[43mmsg\u001B[49m\u001B[43m)\u001B[49m\n\u001B[0;32m   1039\u001B[0m \u001B[38;5;28;01mif\u001B[39;00m message_body \u001B[38;5;129;01mis\u001B[39;00m \u001B[38;5;129;01mnot\u001B[39;00m \u001B[38;5;28;01mNone\u001B[39;00m:\n\u001B[0;32m   1040\u001B[0m \n\u001B[0;32m   1041\u001B[0m     \u001B[38;5;66;03m# create a consistent interface to message_body\u001B[39;00m\n",
      "File \u001B[1;32mC:\\Python310\\lib\\http\\client.py:975\u001B[0m, in \u001B[0;36mHTTPConnection.send\u001B[1;34m(self, data)\u001B[0m\n\u001B[0;32m    974\u001B[0m \u001B[38;5;28;01mif\u001B[39;00m \u001B[38;5;28mself\u001B[39m\u001B[38;5;241m.\u001B[39mauto_open:\n\u001B[1;32m--> 975\u001B[0m     \u001B[38;5;28;43mself\u001B[39;49m\u001B[38;5;241;43m.\u001B[39;49m\u001B[43mconnect\u001B[49m\u001B[43m(\u001B[49m\u001B[43m)\u001B[49m\n\u001B[0;32m    976\u001B[0m \u001B[38;5;28;01melse\u001B[39;00m:\n",
      "File \u001B[1;32mC:\\Python310\\lib\\http\\client.py:1447\u001B[0m, in \u001B[0;36mHTTPSConnection.connect\u001B[1;34m(self)\u001B[0m\n\u001B[0;32m   1445\u001B[0m \u001B[38;5;124m\"\u001B[39m\u001B[38;5;124mConnect to a host on a given (SSL) port.\u001B[39m\u001B[38;5;124m\"\u001B[39m\n\u001B[1;32m-> 1447\u001B[0m \u001B[38;5;28;43msuper\u001B[39;49m\u001B[43m(\u001B[49m\u001B[43m)\u001B[49m\u001B[38;5;241;43m.\u001B[39;49m\u001B[43mconnect\u001B[49m\u001B[43m(\u001B[49m\u001B[43m)\u001B[49m\n\u001B[0;32m   1449\u001B[0m \u001B[38;5;28;01mif\u001B[39;00m \u001B[38;5;28mself\u001B[39m\u001B[38;5;241m.\u001B[39m_tunnel_host:\n",
      "File \u001B[1;32mC:\\Python310\\lib\\http\\client.py:941\u001B[0m, in \u001B[0;36mHTTPConnection.connect\u001B[1;34m(self)\u001B[0m\n\u001B[0;32m    940\u001B[0m sys\u001B[38;5;241m.\u001B[39maudit(\u001B[38;5;124m\"\u001B[39m\u001B[38;5;124mhttp.client.connect\u001B[39m\u001B[38;5;124m\"\u001B[39m, \u001B[38;5;28mself\u001B[39m, \u001B[38;5;28mself\u001B[39m\u001B[38;5;241m.\u001B[39mhost, \u001B[38;5;28mself\u001B[39m\u001B[38;5;241m.\u001B[39mport)\n\u001B[1;32m--> 941\u001B[0m \u001B[38;5;28mself\u001B[39m\u001B[38;5;241m.\u001B[39msock \u001B[38;5;241m=\u001B[39m \u001B[38;5;28;43mself\u001B[39;49m\u001B[38;5;241;43m.\u001B[39;49m\u001B[43m_create_connection\u001B[49m\u001B[43m(\u001B[49m\n\u001B[0;32m    942\u001B[0m \u001B[43m    \u001B[49m\u001B[43m(\u001B[49m\u001B[38;5;28;43mself\u001B[39;49m\u001B[38;5;241;43m.\u001B[39;49m\u001B[43mhost\u001B[49m\u001B[43m,\u001B[49m\u001B[38;5;28;43mself\u001B[39;49m\u001B[38;5;241;43m.\u001B[39;49m\u001B[43mport\u001B[49m\u001B[43m)\u001B[49m\u001B[43m,\u001B[49m\u001B[43m \u001B[49m\u001B[38;5;28;43mself\u001B[39;49m\u001B[38;5;241;43m.\u001B[39;49m\u001B[43mtimeout\u001B[49m\u001B[43m,\u001B[49m\u001B[43m \u001B[49m\u001B[38;5;28;43mself\u001B[39;49m\u001B[38;5;241;43m.\u001B[39;49m\u001B[43msource_address\u001B[49m\u001B[43m)\u001B[49m\n\u001B[0;32m    943\u001B[0m \u001B[38;5;66;03m# Might fail in OSs that don't implement TCP_NODELAY\u001B[39;00m\n",
      "File \u001B[1;32mC:\\Python310\\lib\\socket.py:845\u001B[0m, in \u001B[0;36mcreate_connection\u001B[1;34m(address, timeout, source_address)\u001B[0m\n\u001B[0;32m    844\u001B[0m \u001B[38;5;28;01mtry\u001B[39;00m:\n\u001B[1;32m--> 845\u001B[0m     \u001B[38;5;28;01mraise\u001B[39;00m err\n\u001B[0;32m    846\u001B[0m \u001B[38;5;28;01mfinally\u001B[39;00m:\n\u001B[0;32m    847\u001B[0m     \u001B[38;5;66;03m# Break explicitly a reference cycle\u001B[39;00m\n",
      "File \u001B[1;32mC:\\Python310\\lib\\socket.py:833\u001B[0m, in \u001B[0;36mcreate_connection\u001B[1;34m(address, timeout, source_address)\u001B[0m\n\u001B[0;32m    832\u001B[0m     sock\u001B[38;5;241m.\u001B[39mbind(source_address)\n\u001B[1;32m--> 833\u001B[0m \u001B[43msock\u001B[49m\u001B[38;5;241;43m.\u001B[39;49m\u001B[43mconnect\u001B[49m\u001B[43m(\u001B[49m\u001B[43msa\u001B[49m\u001B[43m)\u001B[49m\n\u001B[0;32m    834\u001B[0m \u001B[38;5;66;03m# Break explicitly a reference cycle\u001B[39;00m\n",
      "\u001B[1;31mTimeoutError\u001B[0m: timed out",
      "\nDuring handling of the above exception, another exception occurred:\n",
      "\u001B[1;31mURLError\u001B[0m                                  Traceback (most recent call last)",
      "File \u001B[1;32m~\\PycharmProjects\\twitter_polls\\venv\\lib\\site-packages\\geopy\\adapters.py:297\u001B[0m, in \u001B[0;36mURLLibAdapter.get_text\u001B[1;34m(self, url, timeout, headers)\u001B[0m\n\u001B[0;32m    296\u001B[0m \u001B[38;5;28;01mtry\u001B[39;00m:\n\u001B[1;32m--> 297\u001B[0m     page \u001B[38;5;241m=\u001B[39m \u001B[38;5;28;43mself\u001B[39;49m\u001B[38;5;241;43m.\u001B[39;49m\u001B[43murlopen\u001B[49m\u001B[43m(\u001B[49m\u001B[43mreq\u001B[49m\u001B[43m,\u001B[49m\u001B[43m \u001B[49m\u001B[43mtimeout\u001B[49m\u001B[38;5;241;43m=\u001B[39;49m\u001B[43mtimeout\u001B[49m\u001B[43m)\u001B[49m\n\u001B[0;32m    298\u001B[0m \u001B[38;5;28;01mexcept\u001B[39;00m \u001B[38;5;167;01mException\u001B[39;00m \u001B[38;5;28;01mas\u001B[39;00m error:\n",
      "File \u001B[1;32mC:\\Python310\\lib\\urllib\\request.py:519\u001B[0m, in \u001B[0;36mOpenerDirector.open\u001B[1;34m(self, fullurl, data, timeout)\u001B[0m\n\u001B[0;32m    518\u001B[0m sys\u001B[38;5;241m.\u001B[39maudit(\u001B[38;5;124m'\u001B[39m\u001B[38;5;124murllib.Request\u001B[39m\u001B[38;5;124m'\u001B[39m, req\u001B[38;5;241m.\u001B[39mfull_url, req\u001B[38;5;241m.\u001B[39mdata, req\u001B[38;5;241m.\u001B[39mheaders, req\u001B[38;5;241m.\u001B[39mget_method())\n\u001B[1;32m--> 519\u001B[0m response \u001B[38;5;241m=\u001B[39m \u001B[38;5;28;43mself\u001B[39;49m\u001B[38;5;241;43m.\u001B[39;49m\u001B[43m_open\u001B[49m\u001B[43m(\u001B[49m\u001B[43mreq\u001B[49m\u001B[43m,\u001B[49m\u001B[43m \u001B[49m\u001B[43mdata\u001B[49m\u001B[43m)\u001B[49m\n\u001B[0;32m    521\u001B[0m \u001B[38;5;66;03m# post-process response\u001B[39;00m\n",
      "File \u001B[1;32mC:\\Python310\\lib\\urllib\\request.py:536\u001B[0m, in \u001B[0;36mOpenerDirector._open\u001B[1;34m(self, req, data)\u001B[0m\n\u001B[0;32m    535\u001B[0m protocol \u001B[38;5;241m=\u001B[39m req\u001B[38;5;241m.\u001B[39mtype\n\u001B[1;32m--> 536\u001B[0m result \u001B[38;5;241m=\u001B[39m \u001B[38;5;28;43mself\u001B[39;49m\u001B[38;5;241;43m.\u001B[39;49m\u001B[43m_call_chain\u001B[49m\u001B[43m(\u001B[49m\u001B[38;5;28;43mself\u001B[39;49m\u001B[38;5;241;43m.\u001B[39;49m\u001B[43mhandle_open\u001B[49m\u001B[43m,\u001B[49m\u001B[43m \u001B[49m\u001B[43mprotocol\u001B[49m\u001B[43m,\u001B[49m\u001B[43m \u001B[49m\u001B[43mprotocol\u001B[49m\u001B[43m \u001B[49m\u001B[38;5;241;43m+\u001B[39;49m\n\u001B[0;32m    537\u001B[0m \u001B[43m                          \u001B[49m\u001B[38;5;124;43m'\u001B[39;49m\u001B[38;5;124;43m_open\u001B[39;49m\u001B[38;5;124;43m'\u001B[39;49m\u001B[43m,\u001B[49m\u001B[43m \u001B[49m\u001B[43mreq\u001B[49m\u001B[43m)\u001B[49m\n\u001B[0;32m    538\u001B[0m \u001B[38;5;28;01mif\u001B[39;00m result:\n",
      "File \u001B[1;32mC:\\Python310\\lib\\urllib\\request.py:496\u001B[0m, in \u001B[0;36mOpenerDirector._call_chain\u001B[1;34m(self, chain, kind, meth_name, *args)\u001B[0m\n\u001B[0;32m    495\u001B[0m func \u001B[38;5;241m=\u001B[39m \u001B[38;5;28mgetattr\u001B[39m(handler, meth_name)\n\u001B[1;32m--> 496\u001B[0m result \u001B[38;5;241m=\u001B[39m \u001B[43mfunc\u001B[49m\u001B[43m(\u001B[49m\u001B[38;5;241;43m*\u001B[39;49m\u001B[43margs\u001B[49m\u001B[43m)\u001B[49m\n\u001B[0;32m    497\u001B[0m \u001B[38;5;28;01mif\u001B[39;00m result \u001B[38;5;129;01mis\u001B[39;00m \u001B[38;5;129;01mnot\u001B[39;00m \u001B[38;5;28;01mNone\u001B[39;00m:\n",
      "File \u001B[1;32mC:\\Python310\\lib\\urllib\\request.py:1391\u001B[0m, in \u001B[0;36mHTTPSHandler.https_open\u001B[1;34m(self, req)\u001B[0m\n\u001B[0;32m   1390\u001B[0m \u001B[38;5;28;01mdef\u001B[39;00m \u001B[38;5;21mhttps_open\u001B[39m(\u001B[38;5;28mself\u001B[39m, req):\n\u001B[1;32m-> 1391\u001B[0m     \u001B[38;5;28;01mreturn\u001B[39;00m \u001B[38;5;28;43mself\u001B[39;49m\u001B[38;5;241;43m.\u001B[39;49m\u001B[43mdo_open\u001B[49m\u001B[43m(\u001B[49m\u001B[43mhttp\u001B[49m\u001B[38;5;241;43m.\u001B[39;49m\u001B[43mclient\u001B[49m\u001B[38;5;241;43m.\u001B[39;49m\u001B[43mHTTPSConnection\u001B[49m\u001B[43m,\u001B[49m\u001B[43m \u001B[49m\u001B[43mreq\u001B[49m\u001B[43m,\u001B[49m\n\u001B[0;32m   1392\u001B[0m \u001B[43m        \u001B[49m\u001B[43mcontext\u001B[49m\u001B[38;5;241;43m=\u001B[39;49m\u001B[38;5;28;43mself\u001B[39;49m\u001B[38;5;241;43m.\u001B[39;49m\u001B[43m_context\u001B[49m\u001B[43m,\u001B[49m\u001B[43m \u001B[49m\u001B[43mcheck_hostname\u001B[49m\u001B[38;5;241;43m=\u001B[39;49m\u001B[38;5;28;43mself\u001B[39;49m\u001B[38;5;241;43m.\u001B[39;49m\u001B[43m_check_hostname\u001B[49m\u001B[43m)\u001B[49m\n",
      "File \u001B[1;32mC:\\Python310\\lib\\urllib\\request.py:1351\u001B[0m, in \u001B[0;36mAbstractHTTPHandler.do_open\u001B[1;34m(self, http_class, req, **http_conn_args)\u001B[0m\n\u001B[0;32m   1350\u001B[0m \u001B[38;5;28;01mexcept\u001B[39;00m \u001B[38;5;167;01mOSError\u001B[39;00m \u001B[38;5;28;01mas\u001B[39;00m err: \u001B[38;5;66;03m# timeout error\u001B[39;00m\n\u001B[1;32m-> 1351\u001B[0m     \u001B[38;5;28;01mraise\u001B[39;00m URLError(err)\n\u001B[0;32m   1352\u001B[0m r \u001B[38;5;241m=\u001B[39m h\u001B[38;5;241m.\u001B[39mgetresponse()\n",
      "\u001B[1;31mURLError\u001B[0m: <urlopen error timed out>",
      "\nDuring handling of the above exception, another exception occurred:\n",
      "\u001B[1;31mGeocoderTimedOut\u001B[0m                          Traceback (most recent call last)",
      "Cell \u001B[1;32mIn[29], line 2\u001B[0m\n\u001B[0;32m      1\u001B[0m \u001B[38;5;66;03m# apply the geolocator\u001B[39;00m\n\u001B[1;32m----> 2\u001B[0m locations[\u001B[38;5;124m'\u001B[39m\u001B[38;5;124mlocation_obj\u001B[39m\u001B[38;5;124m'\u001B[39m] \u001B[38;5;241m=\u001B[39m \u001B[43mlocations\u001B[49m\u001B[38;5;241;43m.\u001B[39;49m\u001B[43mlocation_str\u001B[49m\u001B[38;5;241;43m.\u001B[39;49m\u001B[43mapply\u001B[49m\u001B[43m(\u001B[49m\u001B[43mpartial\u001B[49m\u001B[43m(\u001B[49m\u001B[43mget_location\u001B[49m\u001B[43m,\u001B[49m\u001B[43m \u001B[49m\u001B[43mgeolocator\u001B[49m\u001B[38;5;241;43m=\u001B[39;49m\u001B[43mgeolocator\u001B[49m\u001B[43m)\u001B[49m\u001B[43m)\u001B[49m\n",
      "File \u001B[1;32m~\\PycharmProjects\\twitter_polls\\venv\\lib\\site-packages\\pandas\\core\\series.py:4771\u001B[0m, in \u001B[0;36mSeries.apply\u001B[1;34m(self, func, convert_dtype, args, **kwargs)\u001B[0m\n\u001B[0;32m   4661\u001B[0m \u001B[38;5;28;01mdef\u001B[39;00m \u001B[38;5;21mapply\u001B[39m(\n\u001B[0;32m   4662\u001B[0m     \u001B[38;5;28mself\u001B[39m,\n\u001B[0;32m   4663\u001B[0m     func: AggFuncType,\n\u001B[1;32m   (...)\u001B[0m\n\u001B[0;32m   4666\u001B[0m     \u001B[38;5;241m*\u001B[39m\u001B[38;5;241m*\u001B[39mkwargs,\n\u001B[0;32m   4667\u001B[0m ) \u001B[38;5;241m-\u001B[39m\u001B[38;5;241m>\u001B[39m DataFrame \u001B[38;5;241m|\u001B[39m Series:\n\u001B[0;32m   4668\u001B[0m \u001B[38;5;250m    \u001B[39m\u001B[38;5;124;03m\"\"\"\u001B[39;00m\n\u001B[0;32m   4669\u001B[0m \u001B[38;5;124;03m    Invoke function on values of Series.\u001B[39;00m\n\u001B[0;32m   4670\u001B[0m \n\u001B[1;32m   (...)\u001B[0m\n\u001B[0;32m   4769\u001B[0m \u001B[38;5;124;03m    dtype: float64\u001B[39;00m\n\u001B[0;32m   4770\u001B[0m \u001B[38;5;124;03m    \"\"\"\u001B[39;00m\n\u001B[1;32m-> 4771\u001B[0m     \u001B[38;5;28;01mreturn\u001B[39;00m \u001B[43mSeriesApply\u001B[49m\u001B[43m(\u001B[49m\u001B[38;5;28;43mself\u001B[39;49m\u001B[43m,\u001B[49m\u001B[43m \u001B[49m\u001B[43mfunc\u001B[49m\u001B[43m,\u001B[49m\u001B[43m \u001B[49m\u001B[43mconvert_dtype\u001B[49m\u001B[43m,\u001B[49m\u001B[43m \u001B[49m\u001B[43margs\u001B[49m\u001B[43m,\u001B[49m\u001B[43m \u001B[49m\u001B[43mkwargs\u001B[49m\u001B[43m)\u001B[49m\u001B[38;5;241;43m.\u001B[39;49m\u001B[43mapply\u001B[49m\u001B[43m(\u001B[49m\u001B[43m)\u001B[49m\n",
      "File \u001B[1;32m~\\PycharmProjects\\twitter_polls\\venv\\lib\\site-packages\\pandas\\core\\apply.py:1105\u001B[0m, in \u001B[0;36mSeriesApply.apply\u001B[1;34m(self)\u001B[0m\n\u001B[0;32m   1102\u001B[0m     \u001B[38;5;28;01mreturn\u001B[39;00m \u001B[38;5;28mself\u001B[39m\u001B[38;5;241m.\u001B[39mapply_str()\n\u001B[0;32m   1104\u001B[0m \u001B[38;5;66;03m# self.f is Callable\u001B[39;00m\n\u001B[1;32m-> 1105\u001B[0m \u001B[38;5;28;01mreturn\u001B[39;00m \u001B[38;5;28;43mself\u001B[39;49m\u001B[38;5;241;43m.\u001B[39;49m\u001B[43mapply_standard\u001B[49m\u001B[43m(\u001B[49m\u001B[43m)\u001B[49m\n",
      "File \u001B[1;32m~\\PycharmProjects\\twitter_polls\\venv\\lib\\site-packages\\pandas\\core\\apply.py:1156\u001B[0m, in \u001B[0;36mSeriesApply.apply_standard\u001B[1;34m(self)\u001B[0m\n\u001B[0;32m   1154\u001B[0m     \u001B[38;5;28;01melse\u001B[39;00m:\n\u001B[0;32m   1155\u001B[0m         values \u001B[38;5;241m=\u001B[39m obj\u001B[38;5;241m.\u001B[39mastype(\u001B[38;5;28mobject\u001B[39m)\u001B[38;5;241m.\u001B[39m_values\n\u001B[1;32m-> 1156\u001B[0m         mapped \u001B[38;5;241m=\u001B[39m \u001B[43mlib\u001B[49m\u001B[38;5;241;43m.\u001B[39;49m\u001B[43mmap_infer\u001B[49m\u001B[43m(\u001B[49m\n\u001B[0;32m   1157\u001B[0m \u001B[43m            \u001B[49m\u001B[43mvalues\u001B[49m\u001B[43m,\u001B[49m\n\u001B[0;32m   1158\u001B[0m \u001B[43m            \u001B[49m\u001B[43mf\u001B[49m\u001B[43m,\u001B[49m\n\u001B[0;32m   1159\u001B[0m \u001B[43m            \u001B[49m\u001B[43mconvert\u001B[49m\u001B[38;5;241;43m=\u001B[39;49m\u001B[38;5;28;43mself\u001B[39;49m\u001B[38;5;241;43m.\u001B[39;49m\u001B[43mconvert_dtype\u001B[49m\u001B[43m,\u001B[49m\n\u001B[0;32m   1160\u001B[0m \u001B[43m        \u001B[49m\u001B[43m)\u001B[49m\n\u001B[0;32m   1162\u001B[0m \u001B[38;5;28;01mif\u001B[39;00m \u001B[38;5;28mlen\u001B[39m(mapped) \u001B[38;5;129;01mand\u001B[39;00m \u001B[38;5;28misinstance\u001B[39m(mapped[\u001B[38;5;241m0\u001B[39m], ABCSeries):\n\u001B[0;32m   1163\u001B[0m     \u001B[38;5;66;03m# GH#43986 Need to do list(mapped) in order to get treated as nested\u001B[39;00m\n\u001B[0;32m   1164\u001B[0m     \u001B[38;5;66;03m#  See also GH#25959 regarding EA support\u001B[39;00m\n\u001B[0;32m   1165\u001B[0m     \u001B[38;5;28;01mreturn\u001B[39;00m obj\u001B[38;5;241m.\u001B[39m_constructor_expanddim(\u001B[38;5;28mlist\u001B[39m(mapped), index\u001B[38;5;241m=\u001B[39mobj\u001B[38;5;241m.\u001B[39mindex)\n",
      "File \u001B[1;32m~\\PycharmProjects\\twitter_polls\\venv\\lib\\site-packages\\pandas\\_libs\\lib.pyx:2918\u001B[0m, in \u001B[0;36mpandas._libs.lib.map_infer\u001B[1;34m()\u001B[0m\n",
      "File \u001B[1;32m~\\PycharmProjects\\twitter_polls\\venv\\lib\\site-packages\\ratelimit\\decorators.py:113\u001B[0m, in \u001B[0;36msleep_and_retry.<locals>.wrapper\u001B[1;34m(*args, **kargs)\u001B[0m\n\u001B[0;32m    111\u001B[0m \u001B[38;5;28;01mwhile\u001B[39;00m \u001B[38;5;28;01mTrue\u001B[39;00m:\n\u001B[0;32m    112\u001B[0m     \u001B[38;5;28;01mtry\u001B[39;00m:\n\u001B[1;32m--> 113\u001B[0m         \u001B[38;5;28;01mreturn\u001B[39;00m func(\u001B[38;5;241m*\u001B[39margs, \u001B[38;5;241m*\u001B[39m\u001B[38;5;241m*\u001B[39mkargs)\n\u001B[0;32m    114\u001B[0m     \u001B[38;5;28;01mexcept\u001B[39;00m RateLimitException \u001B[38;5;28;01mas\u001B[39;00m exception:\n\u001B[0;32m    115\u001B[0m         time\u001B[38;5;241m.\u001B[39msleep(exception\u001B[38;5;241m.\u001B[39mperiod_remaining)\n",
      "File \u001B[1;32m~\\PycharmProjects\\twitter_polls\\venv\\lib\\site-packages\\ratelimit\\decorators.py:80\u001B[0m, in \u001B[0;36mRateLimitDecorator.__call__.<locals>.wrapper\u001B[1;34m(*args, **kargs)\u001B[0m\n\u001B[0;32m     77\u001B[0m             \u001B[38;5;28;01mraise\u001B[39;00m RateLimitException(\u001B[38;5;124m'\u001B[39m\u001B[38;5;124mtoo many calls\u001B[39m\u001B[38;5;124m'\u001B[39m, period_remaining)\n\u001B[0;32m     78\u001B[0m         \u001B[38;5;28;01mreturn\u001B[39;00m\n\u001B[1;32m---> 80\u001B[0m \u001B[38;5;28;01mreturn\u001B[39;00m func(\u001B[38;5;241m*\u001B[39margs, \u001B[38;5;241m*\u001B[39m\u001B[38;5;241m*\u001B[39mkargs)\n",
      "Cell \u001B[1;32mIn[5], line 5\u001B[0m, in \u001B[0;36mget_location\u001B[1;34m(location_str, geolocator, **kwargs)\u001B[0m\n\u001B[0;32m      1\u001B[0m \u001B[38;5;129m@sleep_and_retry\u001B[39m\n\u001B[0;32m      2\u001B[0m \u001B[38;5;129m@limits\u001B[39m(calls\u001B[38;5;241m=\u001B[39m\u001B[38;5;241m1\u001B[39m, period\u001B[38;5;241m=\u001B[39m\u001B[38;5;241m1\u001B[39m)\n\u001B[0;32m      3\u001B[0m \u001B[38;5;28;01mdef\u001B[39;00m \u001B[38;5;21mget_location\u001B[39m(location_str, geolocator, \u001B[38;5;241m*\u001B[39m\u001B[38;5;241m*\u001B[39mkwargs):\n\u001B[0;32m      4\u001B[0m     \u001B[38;5;28;01mtry\u001B[39;00m:\n\u001B[1;32m----> 5\u001B[0m         \u001B[38;5;28;01mreturn\u001B[39;00m geolocator\u001B[38;5;241m.\u001B[39mgeocode(location_str, \u001B[38;5;241m*\u001B[39m\u001B[38;5;241m*\u001B[39mkwargs)\n\u001B[0;32m      6\u001B[0m     \u001B[38;5;28;01mexcept\u001B[39;00m GeocoderUnavailable \u001B[38;5;28;01mas\u001B[39;00m e:\n\u001B[0;32m      7\u001B[0m         \u001B[38;5;28;01mreturn\u001B[39;00m \u001B[38;5;28;01mNone\u001B[39;00m\n",
      "File \u001B[1;32m~\\PycharmProjects\\twitter_polls\\venv\\lib\\site-packages\\geopy\\geocoders\\nominatim.py:297\u001B[0m, in \u001B[0;36mNominatim.geocode\u001B[1;34m(self, query, exactly_one, timeout, limit, addressdetails, language, geometry, extratags, country_codes, viewbox, bounded, featuretype, namedetails)\u001B[0m\n\u001B[0;32m    295\u001B[0m logger\u001B[38;5;241m.\u001B[39mdebug(\u001B[38;5;124m\"\u001B[39m\u001B[38;5;132;01m%s\u001B[39;00m\u001B[38;5;124m.geocode: \u001B[39m\u001B[38;5;132;01m%s\u001B[39;00m\u001B[38;5;124m\"\u001B[39m, \u001B[38;5;28mself\u001B[39m\u001B[38;5;241m.\u001B[39m\u001B[38;5;18m__class__\u001B[39m\u001B[38;5;241m.\u001B[39m\u001B[38;5;18m__name__\u001B[39m, url)\n\u001B[0;32m    296\u001B[0m callback \u001B[38;5;241m=\u001B[39m partial(\u001B[38;5;28mself\u001B[39m\u001B[38;5;241m.\u001B[39m_parse_json, exactly_one\u001B[38;5;241m=\u001B[39mexactly_one)\n\u001B[1;32m--> 297\u001B[0m \u001B[38;5;28;01mreturn\u001B[39;00m \u001B[38;5;28;43mself\u001B[39;49m\u001B[38;5;241;43m.\u001B[39;49m\u001B[43m_call_geocoder\u001B[49m\u001B[43m(\u001B[49m\u001B[43murl\u001B[49m\u001B[43m,\u001B[49m\u001B[43m \u001B[49m\u001B[43mcallback\u001B[49m\u001B[43m,\u001B[49m\u001B[43m \u001B[49m\u001B[43mtimeout\u001B[49m\u001B[38;5;241;43m=\u001B[39;49m\u001B[43mtimeout\u001B[49m\u001B[43m)\u001B[49m\n",
      "File \u001B[1;32m~\\PycharmProjects\\twitter_polls\\venv\\lib\\site-packages\\geopy\\geocoders\\base.py:368\u001B[0m, in \u001B[0;36mGeocoder._call_geocoder\u001B[1;34m(self, url, callback, timeout, is_json, headers)\u001B[0m\n\u001B[0;32m    366\u001B[0m \u001B[38;5;28;01mtry\u001B[39;00m:\n\u001B[0;32m    367\u001B[0m     \u001B[38;5;28;01mif\u001B[39;00m is_json:\n\u001B[1;32m--> 368\u001B[0m         result \u001B[38;5;241m=\u001B[39m \u001B[38;5;28;43mself\u001B[39;49m\u001B[38;5;241;43m.\u001B[39;49m\u001B[43madapter\u001B[49m\u001B[38;5;241;43m.\u001B[39;49m\u001B[43mget_json\u001B[49m\u001B[43m(\u001B[49m\u001B[43murl\u001B[49m\u001B[43m,\u001B[49m\u001B[43m \u001B[49m\u001B[43mtimeout\u001B[49m\u001B[38;5;241;43m=\u001B[39;49m\u001B[43mtimeout\u001B[49m\u001B[43m,\u001B[49m\u001B[43m \u001B[49m\u001B[43mheaders\u001B[49m\u001B[38;5;241;43m=\u001B[39;49m\u001B[43mreq_headers\u001B[49m\u001B[43m)\u001B[49m\n\u001B[0;32m    369\u001B[0m     \u001B[38;5;28;01melse\u001B[39;00m:\n\u001B[0;32m    370\u001B[0m         result \u001B[38;5;241m=\u001B[39m \u001B[38;5;28mself\u001B[39m\u001B[38;5;241m.\u001B[39madapter\u001B[38;5;241m.\u001B[39mget_text(url, timeout\u001B[38;5;241m=\u001B[39mtimeout, headers\u001B[38;5;241m=\u001B[39mreq_headers)\n",
      "File \u001B[1;32m~\\PycharmProjects\\twitter_polls\\venv\\lib\\site-packages\\geopy\\adapters.py:286\u001B[0m, in \u001B[0;36mURLLibAdapter.get_json\u001B[1;34m(self, url, timeout, headers)\u001B[0m\n\u001B[0;32m    285\u001B[0m \u001B[38;5;28;01mdef\u001B[39;00m \u001B[38;5;21mget_json\u001B[39m(\u001B[38;5;28mself\u001B[39m, url, \u001B[38;5;241m*\u001B[39m, timeout, headers):\n\u001B[1;32m--> 286\u001B[0m     text \u001B[38;5;241m=\u001B[39m \u001B[38;5;28;43mself\u001B[39;49m\u001B[38;5;241;43m.\u001B[39;49m\u001B[43mget_text\u001B[49m\u001B[43m(\u001B[49m\u001B[43murl\u001B[49m\u001B[43m,\u001B[49m\u001B[43m \u001B[49m\u001B[43mtimeout\u001B[49m\u001B[38;5;241;43m=\u001B[39;49m\u001B[43mtimeout\u001B[49m\u001B[43m,\u001B[49m\u001B[43m \u001B[49m\u001B[43mheaders\u001B[49m\u001B[38;5;241;43m=\u001B[39;49m\u001B[43mheaders\u001B[49m\u001B[43m)\u001B[49m\n\u001B[0;32m    287\u001B[0m     \u001B[38;5;28;01mtry\u001B[39;00m:\n\u001B[0;32m    288\u001B[0m         \u001B[38;5;28;01mreturn\u001B[39;00m json\u001B[38;5;241m.\u001B[39mloads(text)\n",
      "File \u001B[1;32m~\\PycharmProjects\\twitter_polls\\venv\\lib\\site-packages\\geopy\\adapters.py:315\u001B[0m, in \u001B[0;36mURLLibAdapter.get_text\u001B[1;34m(self, url, timeout, headers)\u001B[0m\n\u001B[0;32m    313\u001B[0m \u001B[38;5;28;01melif\u001B[39;00m \u001B[38;5;28misinstance\u001B[39m(error, URLError):\n\u001B[0;32m    314\u001B[0m     \u001B[38;5;28;01mif\u001B[39;00m \u001B[38;5;124m\"\u001B[39m\u001B[38;5;124mtimed out\u001B[39m\u001B[38;5;124m\"\u001B[39m \u001B[38;5;129;01min\u001B[39;00m message:\n\u001B[1;32m--> 315\u001B[0m         \u001B[38;5;28;01mraise\u001B[39;00m GeocoderTimedOut(\u001B[38;5;124m\"\u001B[39m\u001B[38;5;124mService timed out\u001B[39m\u001B[38;5;124m\"\u001B[39m)\n\u001B[0;32m    316\u001B[0m     \u001B[38;5;28;01melif\u001B[39;00m \u001B[38;5;124m\"\u001B[39m\u001B[38;5;124munreachable\u001B[39m\u001B[38;5;124m\"\u001B[39m \u001B[38;5;129;01min\u001B[39;00m message:\n\u001B[0;32m    317\u001B[0m         \u001B[38;5;28;01mraise\u001B[39;00m GeocoderUnavailable(\u001B[38;5;124m\"\u001B[39m\u001B[38;5;124mService not available\u001B[39m\u001B[38;5;124m\"\u001B[39m)\n",
      "\u001B[1;31mGeocoderTimedOut\u001B[0m: Service timed out"
     ]
    }
   ],
   "source": [
    "# # apply the geolocator\n",
    "# locations['location_obj'] = locations.location_str.apply(partial(get_location, geolocator=geolocator))"
   ],
   "metadata": {
    "collapsed": false
   }
  },
  {
   "cell_type": "markdown",
   "source": [
    "Not everything finds a match on Nominatim, esp. when there are natural language descriptions.\n",
    "\n",
    "Perhaps we could give it a pass of NER for GEO entities first"
   ],
   "metadata": {
    "collapsed": false
   }
  },
  {
   "cell_type": "code",
   "execution_count": null,
   "outputs": [],
   "source": [
    "locations[locations.location_obj.isna()]"
   ],
   "metadata": {
    "collapsed": false
   }
  },
  {
   "cell_type": "markdown",
   "source": [
    "The information returned by the `geocode` function is quite limited, because it tries to fit the specific string.\n",
    "For example, states are rarely included in the object. Reverse geocoding helps with generalizing in this case."
   ],
   "metadata": {
    "collapsed": false
   }
  },
  {
   "cell_type": "code",
   "execution_count": 32,
   "outputs": [],
   "source": [
    "# apply the reverse geolocator\n",
    "locations['location_obj_reversed'] = locations.location_obj.apply(partial(reverse_location, geolocator=geolocator))"
   ],
   "metadata": {
    "collapsed": false
   }
  },
  {
   "cell_type": "code",
   "execution_count": 33,
   "outputs": [
    {
     "data": {
      "text/plain": "            railway              road           suburb borough  \\\n0  Unter den Linden  Unter den Linden            Mitte   Mitte   \n1               NaN              D 51              NaN     NaN   \n3               NaN               NaN              NaN     NaN   \n4               NaN               NaN  Tokologo Ward 3     NaN   \n5               NaN   Arapahoe Avenue              NaN     NaN   \n\n                          city ISO3166-2-lvl4 postcode        country  \\\n0                       Berlin          DE-BE    10117    Deutschland   \n1                          NaN         FR-CVL    36230         France   \n3                          NaN          PK-PB    35090        پاکستان   \n4  Tokologo Local Municipality          ZA-FS      NaN   South Africa   \n5                      Boulder          US-CO    80306  United States   \n\n  country_code    village  ...                state                 region  \\\n0           de        NaN  ...                  NaN                    NaN   \n1           fr  Tranzault  ...  Centre-Val de Loire  France métropolitaine   \n3           pk        NaN  ...                پنجاب                    NaN   \n4           za        NaN  ...           Free State                    NaN   \n5           us        NaN  ...             Colorado                    NaN   \n\n            subdistrict house_number tourism neighbourhood ISO3166-2-lvl8  \\\n0                   NaN          NaN     NaN           NaN            NaN   \n1                   NaN          NaN     NaN           NaN            NaN   \n3  Ahmedpur Sial Tehsil          NaN     NaN           NaN            NaN   \n4                   NaN          NaN     NaN           NaN            NaN   \n5                   NaN         1843     NaN           NaN            NaN   \n\n  state_district quarter city_district  \n0            NaN     NaN           NaN  \n1            NaN     NaN           NaN  \n3            NaN     NaN           NaN  \n4            NaN     NaN           NaN  \n5            NaN     NaN           NaN  \n\n[5 rows x 23 columns]",
      "text/html": "<div>\n<style scoped>\n    .dataframe tbody tr th:only-of-type {\n        vertical-align: middle;\n    }\n\n    .dataframe tbody tr th {\n        vertical-align: top;\n    }\n\n    .dataframe thead th {\n        text-align: right;\n    }\n</style>\n<table border=\"1\" class=\"dataframe\">\n  <thead>\n    <tr style=\"text-align: right;\">\n      <th></th>\n      <th>railway</th>\n      <th>road</th>\n      <th>suburb</th>\n      <th>borough</th>\n      <th>city</th>\n      <th>ISO3166-2-lvl4</th>\n      <th>postcode</th>\n      <th>country</th>\n      <th>country_code</th>\n      <th>village</th>\n      <th>...</th>\n      <th>state</th>\n      <th>region</th>\n      <th>subdistrict</th>\n      <th>house_number</th>\n      <th>tourism</th>\n      <th>neighbourhood</th>\n      <th>ISO3166-2-lvl8</th>\n      <th>state_district</th>\n      <th>quarter</th>\n      <th>city_district</th>\n    </tr>\n  </thead>\n  <tbody>\n    <tr>\n      <th>0</th>\n      <td>Unter den Linden</td>\n      <td>Unter den Linden</td>\n      <td>Mitte</td>\n      <td>Mitte</td>\n      <td>Berlin</td>\n      <td>DE-BE</td>\n      <td>10117</td>\n      <td>Deutschland</td>\n      <td>de</td>\n      <td>NaN</td>\n      <td>...</td>\n      <td>NaN</td>\n      <td>NaN</td>\n      <td>NaN</td>\n      <td>NaN</td>\n      <td>NaN</td>\n      <td>NaN</td>\n      <td>NaN</td>\n      <td>NaN</td>\n      <td>NaN</td>\n      <td>NaN</td>\n    </tr>\n    <tr>\n      <th>1</th>\n      <td>NaN</td>\n      <td>D 51</td>\n      <td>NaN</td>\n      <td>NaN</td>\n      <td>NaN</td>\n      <td>FR-CVL</td>\n      <td>36230</td>\n      <td>France</td>\n      <td>fr</td>\n      <td>Tranzault</td>\n      <td>...</td>\n      <td>Centre-Val de Loire</td>\n      <td>France métropolitaine</td>\n      <td>NaN</td>\n      <td>NaN</td>\n      <td>NaN</td>\n      <td>NaN</td>\n      <td>NaN</td>\n      <td>NaN</td>\n      <td>NaN</td>\n      <td>NaN</td>\n    </tr>\n    <tr>\n      <th>3</th>\n      <td>NaN</td>\n      <td>NaN</td>\n      <td>NaN</td>\n      <td>NaN</td>\n      <td>NaN</td>\n      <td>PK-PB</td>\n      <td>35090</td>\n      <td>پاکستان</td>\n      <td>pk</td>\n      <td>NaN</td>\n      <td>...</td>\n      <td>پنجاب</td>\n      <td>NaN</td>\n      <td>Ahmedpur Sial Tehsil</td>\n      <td>NaN</td>\n      <td>NaN</td>\n      <td>NaN</td>\n      <td>NaN</td>\n      <td>NaN</td>\n      <td>NaN</td>\n      <td>NaN</td>\n    </tr>\n    <tr>\n      <th>4</th>\n      <td>NaN</td>\n      <td>NaN</td>\n      <td>Tokologo Ward 3</td>\n      <td>NaN</td>\n      <td>Tokologo Local Municipality</td>\n      <td>ZA-FS</td>\n      <td>NaN</td>\n      <td>South Africa</td>\n      <td>za</td>\n      <td>NaN</td>\n      <td>...</td>\n      <td>Free State</td>\n      <td>NaN</td>\n      <td>NaN</td>\n      <td>NaN</td>\n      <td>NaN</td>\n      <td>NaN</td>\n      <td>NaN</td>\n      <td>NaN</td>\n      <td>NaN</td>\n      <td>NaN</td>\n    </tr>\n    <tr>\n      <th>5</th>\n      <td>NaN</td>\n      <td>Arapahoe Avenue</td>\n      <td>NaN</td>\n      <td>NaN</td>\n      <td>Boulder</td>\n      <td>US-CO</td>\n      <td>80306</td>\n      <td>United States</td>\n      <td>us</td>\n      <td>NaN</td>\n      <td>...</td>\n      <td>Colorado</td>\n      <td>NaN</td>\n      <td>NaN</td>\n      <td>1843</td>\n      <td>NaN</td>\n      <td>NaN</td>\n      <td>NaN</td>\n      <td>NaN</td>\n      <td>NaN</td>\n      <td>NaN</td>\n    </tr>\n  </tbody>\n</table>\n<p>5 rows × 23 columns</p>\n</div>"
     },
     "execution_count": 33,
     "metadata": {},
     "output_type": "execute_result"
    }
   ],
   "source": [
    "# unpack address information\n",
    "addresses = pd.DataFrame(locations.location_obj_reversed.dropna().apply(lambda x:pd.Series(x.raw['address'])))\n",
    "addresses.head()"
   ],
   "metadata": {
    "collapsed": false
   }
  },
  {
   "cell_type": "code",
   "execution_count": 34,
   "outputs": [],
   "source": [
    "# merge with the original dataframe\n",
    "locations = pd.merge(locations, addresses, left_index=True, right_index=True)"
   ],
   "metadata": {
    "collapsed": false
   }
  },
  {
   "cell_type": "code",
   "execution_count": 35,
   "outputs": [
    {
     "data": {
      "text/plain": "           location_str country_code\n0   Berlin, Deutschland           de\n1                France           fr\n3      Punjab, Pakistan           pk\n4          South Africa           za\n5     Boulder, Colorado           us\n6                  NONE           it\n7                London           gb\n8         United States           us\n9              Ethiopia           et\n10             Ethiopia           et\n11                   TΧ           th\n12                 NONE           it\n14               London           gb\n15            Barcelona           es\n16            Liverpool           gb\n17         Bay Area, CA           us",
      "text/html": "<div>\n<style scoped>\n    .dataframe tbody tr th:only-of-type {\n        vertical-align: middle;\n    }\n\n    .dataframe tbody tr th {\n        vertical-align: top;\n    }\n\n    .dataframe thead th {\n        text-align: right;\n    }\n</style>\n<table border=\"1\" class=\"dataframe\">\n  <thead>\n    <tr style=\"text-align: right;\">\n      <th></th>\n      <th>location_str</th>\n      <th>country_code</th>\n    </tr>\n  </thead>\n  <tbody>\n    <tr>\n      <th>0</th>\n      <td>Berlin, Deutschland</td>\n      <td>de</td>\n    </tr>\n    <tr>\n      <th>1</th>\n      <td>France</td>\n      <td>fr</td>\n    </tr>\n    <tr>\n      <th>3</th>\n      <td>Punjab, Pakistan</td>\n      <td>pk</td>\n    </tr>\n    <tr>\n      <th>4</th>\n      <td>South Africa</td>\n      <td>za</td>\n    </tr>\n    <tr>\n      <th>5</th>\n      <td>Boulder, Colorado</td>\n      <td>us</td>\n    </tr>\n    <tr>\n      <th>6</th>\n      <td>NONE</td>\n      <td>it</td>\n    </tr>\n    <tr>\n      <th>7</th>\n      <td>London</td>\n      <td>gb</td>\n    </tr>\n    <tr>\n      <th>8</th>\n      <td>United States</td>\n      <td>us</td>\n    </tr>\n    <tr>\n      <th>9</th>\n      <td>Ethiopia</td>\n      <td>et</td>\n    </tr>\n    <tr>\n      <th>10</th>\n      <td>Ethiopia</td>\n      <td>et</td>\n    </tr>\n    <tr>\n      <th>11</th>\n      <td>TΧ</td>\n      <td>th</td>\n    </tr>\n    <tr>\n      <th>12</th>\n      <td>NONE</td>\n      <td>it</td>\n    </tr>\n    <tr>\n      <th>14</th>\n      <td>London</td>\n      <td>gb</td>\n    </tr>\n    <tr>\n      <th>15</th>\n      <td>Barcelona</td>\n      <td>es</td>\n    </tr>\n    <tr>\n      <th>16</th>\n      <td>Liverpool</td>\n      <td>gb</td>\n    </tr>\n    <tr>\n      <th>17</th>\n      <td>Bay Area, CA</td>\n      <td>us</td>\n    </tr>\n  </tbody>\n</table>\n</div>"
     },
     "execution_count": 35,
     "metadata": {},
     "output_type": "execute_result"
    }
   ],
   "source": [
    "locations[['location_str', 'country_code']]"
   ],
   "metadata": {
    "collapsed": false
   }
  },
  {
   "cell_type": "markdown",
   "source": [
    "some errors appear bizarre -- hard to correct"
   ],
   "metadata": {
    "collapsed": false
   }
  },
  {
   "cell_type": "code",
   "execution_count": 36,
   "outputs": [
    {
     "data": {
      "text/plain": "{'place_id': 43010750,\n 'licence': 'Data © OpenStreetMap contributors, ODbL 1.0. https://osm.org/copyright',\n 'osm_type': 'node',\n 'osm_id': 3641278609,\n 'boundingbox': ['13.7846492', '13.7946492', '100.4346142', '100.4446142'],\n 'lat': '13.7896492',\n 'lon': '100.4396142',\n 'display_name': 'ชุมทางตลิ่งชัน, ทางพิเศษประจิมรัถยา, แขวงตลิ่งชัน, เขตตลิ่งชัน, กรุงเทพมหานคร, 10170, ประเทศไทย',\n 'class': 'railway',\n 'type': 'station',\n 'importance': 0.3740116294168639,\n 'icon': 'https://nominatim.openstreetmap.org/ui/mapicons/transport_train_station2.p.20.png'}"
     },
     "execution_count": 36,
     "metadata": {},
     "output_type": "execute_result"
    }
   ],
   "source": [
    "locations.loc[11].location_obj.raw"
   ],
   "metadata": {
    "collapsed": false
   }
  },
  {
   "cell_type": "code",
   "execution_count": 38,
   "outputs": [],
   "source": [
    "# save data\n",
    "os.makedirs(DATA_PATH, exist_ok=True)\n",
    "locations[['location_str', 'country_code']].to_csv(os.path.join(DATA_PATH, 'bio_country_codes.csv'))\n",
    "locations[['location_str', 'railway',\n",
    "           'road', 'suburb', 'borough', 'city', 'ISO3166-2-lvl4', 'postcode',\n",
    "           'country', 'country_code', 'village', 'municipality', 'county',\n",
    "           'ISO3166-2-lvl6', 'state', 'region', 'subdistrict', 'house_number',\n",
    "           'tourism', 'neighbourhood', 'ISO3166-2-lvl8', 'state_district',\n",
    "           'quarter', 'city_district']].to_csv(os.path.join(DATA_PATH, 'bio_locations.csv'))\n",
    "locations.to_pickle(os.path.join(DATA_PATH, 'bio_locations.pkl'))\n"
   ],
   "metadata": {
    "collapsed": false
   }
  },
  {
   "cell_type": "code",
   "execution_count": null,
   "outputs": [],
   "source": [],
   "metadata": {
    "collapsed": false
   }
  }
 ],
 "metadata": {
  "kernelspec": {
   "display_name": "Python 3",
   "language": "python",
   "name": "python3"
  },
  "language_info": {
   "codemirror_mode": {
    "name": "ipython",
    "version": 2
   },
   "file_extension": ".py",
   "mimetype": "text/x-python",
   "name": "python",
   "nbconvert_exporter": "python",
   "pygments_lexer": "ipython2",
   "version": "2.7.6"
  }
 },
 "nbformat": 4,
 "nbformat_minor": 0
}
