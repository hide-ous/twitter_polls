{
 "cells": [
  {
   "cell_type": "code",
   "execution_count": 2,
   "metadata": {
    "collapsed": true
   },
   "outputs": [],
   "source": [
    "import os\n",
    "import pandas as pd\n",
    "from collections import Counter\n",
    "import re\n",
    "import pickle\n",
    "\n",
    "from geopy.exc import GeocoderUnavailable\n",
    "from geopy.geocoders import Nominatim\n",
    "from ratelimit import limits, sleep_and_retry\n",
    "from geopy.distance import distance"
   ]
  },
  {
   "cell_type": "code",
   "execution_count": 3,
   "outputs": [],
   "source": [
    "DUMMY_LOCATION_STRS = [\"Berlin, Deutschland\",\n",
    "\"France\",\n",
    "\"Paris et plein Centre\",\n",
    "\"Punjab, Pakistan\",\n",
    "\"South Africa\",\n",
    "\"Boulder, Colorado\",\n",
    "\"NONE\",\n",
    "\"London\",\n",
    "\"United States\",\n",
    "\"Ethiopia\",\n",
    "\"Ethiopia\",\n",
    "\"TΧ\",\n",
    "\"NONE\",\n",
    "\"Paris, Mulhouse, sur la route\",\n",
    "\"London\",\n",
    "\"Barcelona\",\n",
    "\"Liverpool\",\n",
    "\"Bay Area, CA\"]"
   ],
   "metadata": {
    "collapsed": false
   }
  },
  {
   "cell_type": "code",
   "execution_count": 5,
   "outputs": [],
   "source": [
    "def read_locations(): #TODO: update to real data\n",
    "    return DUMMY_LOCATION_STRS"
   ],
   "metadata": {
    "collapsed": false
   }
  },
  {
   "cell_type": "code",
   "execution_count": null,
   "outputs": [],
   "source": [],
   "metadata": {
    "collapsed": false
   }
  }
 ],
 "metadata": {
  "kernelspec": {
   "display_name": "Python 3",
   "language": "python",
   "name": "python3"
  },
  "language_info": {
   "codemirror_mode": {
    "name": "ipython",
    "version": 2
   },
   "file_extension": ".py",
   "mimetype": "text/x-python",
   "name": "python",
   "nbconvert_exporter": "python",
   "pygments_lexer": "ipython2",
   "version": "2.7.6"
  }
 },
 "nbformat": 4,
 "nbformat_minor": 0
}
