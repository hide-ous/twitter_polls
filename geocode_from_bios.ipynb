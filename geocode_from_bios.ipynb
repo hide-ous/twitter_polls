{
 "cells": [
  {
   "cell_type": "code",
   "execution_count": 1,
   "metadata": {
    "collapsed": true,
    "ExecuteTime": {
     "start_time": "2023-04-21T13:42:35.239775Z",
     "end_time": "2023-04-21T13:42:35.525172Z"
    }
   },
   "outputs": [],
   "source": [
    "import json\n",
    "import os\n",
    "from functools import partial\n",
    "\n",
    "import pandas as pd\n",
    "from backoff import on_exception, expo\n",
    "from geopy import Photon, Point\n",
    "from geopy.exc import GeocoderUnavailable, GeocoderTimedOut\n",
    "from geopy.geocoders import Nominatim\n",
    "from ratelimit import limits, sleep_and_retry\n",
    "from tqdm import tqdm\n",
    "import pickle\n",
    "import shutil\n",
    "\n",
    "from data_utils import get_follow_from_lists\n"
   ]
  },
  {
   "cell_type": "code",
   "execution_count": 3,
   "outputs": [],
   "source": [
    "DATA_PATH = 'data'"
   ],
   "metadata": {
    "collapsed": false,
    "ExecuteTime": {
     "start_time": "2023-04-21T13:42:35.541178Z",
     "end_time": "2023-04-21T13:42:35.562142Z"
    }
   }
  },
  {
   "cell_type": "code",
   "execution_count": 4,
   "outputs": [],
   "source": [
    "# @sleep_and_retry\n",
    "# @on_exception(expo, GeocoderTimedOut, max_tries=8)\n",
    "# @limits(calls=1, period=1)\n",
    "def get_location(location_str, geolocator, **kwargs):\n",
    "    try:\n",
    "        return geolocator.geocode(location_str, **kwargs)\n",
    "    except GeocoderUnavailable as e:\n",
    "        return None"
   ],
   "metadata": {
    "collapsed": false,
    "ExecuteTime": {
     "start_time": "2023-04-21T13:24:54.380824Z",
     "end_time": "2023-04-21T13:24:54.396274Z"
    }
   }
  },
  {
   "cell_type": "code",
   "execution_count": 5,
   "outputs": [],
   "source": [
    "# @sleep_and_retry\n",
    "# @on_exception(expo, GeocoderTimedOut, max_tries=8)\n",
    "# @limits(calls=1, period=1)\n",
    "def reverse_location(location_obj, geolocator, **kwargs):\n",
    "    try:\n",
    "\n",
    "        # coords = \",\".join(map(str, location_obj.raw['geometry']['coordinates']))\n",
    "        # coords = tuple(location_obj.raw['geometry']['coordinates'])\n",
    "        lon, lat = location_obj.raw['geometry']['coordinates']\n",
    "        coords = Point(lat, lon)\n",
    "    except AttributeError as e:\n",
    "        return None\n",
    "    try:\n",
    "        return geolocator.reverse(coords, **kwargs)\n",
    "    except GeocoderUnavailable as e:\n",
    "        return None"
   ],
   "metadata": {
    "collapsed": false,
    "ExecuteTime": {
     "start_time": "2023-04-21T13:24:56.373062Z",
     "end_time": "2023-04-21T13:24:56.382568Z"
    }
   }
  },
  {
   "cell_type": "code",
   "execution_count": 6,
   "outputs": [],
   "source": [
    "def read_locations(users_path):\n",
    "    \"\"\"\n",
    "    reads the input data\n",
    "    :return: a dataframe with a column `location_str` containing the description of the location\n",
    "    \"\"\"\n",
    "    followers = list()\n",
    "    with open(os.path.join(DATA_PATH, users_path)) as f:\n",
    "        for l in f:\n",
    "            follower = json.loads(l)\n",
    "            if not 'location' in follower: continue\n",
    "            follower = {'id': follower['id'],\n",
    "                        'location_str': follower['location']}\n",
    "            followers.append(follower)\n",
    "    return pd.DataFrame(followers).set_index('id').dropna(subset=['location_str'])\n",
    "    # return pd.read_json(os.path.join(DATA_PATH, users_path),\n",
    "    #                     lines=True\n",
    "    #                     ).rename(columns={'location':'location_str'}\n",
    "    #                              ).set_index('id').dropna(subset=['location_str'])\n",
    "\n",
    "        # with open(users_path, encoding='utf8') as f:\n",
    "        #     # users = {k:v for l in f for k, v in json.loads(l).items()}\n",
    "        #\n",
    "        #     users = pd.concat(\n",
    "        #         pd.DataFrame([dict(follower, **{'follows':pollster}) for follower in followers])\n",
    "        #         for l in f for pollster, followers in json.loads(l).items()\n",
    "        #     )\n",
    "        # return users\n"
   ],
   "metadata": {
    "collapsed": false,
    "ExecuteTime": {
     "start_time": "2023-04-21T13:24:57.488819Z",
     "end_time": "2023-04-21T13:24:57.504448Z"
    }
   }
  },
  {
   "cell_type": "code",
   "execution_count": 16,
   "outputs": [],
   "source": [
    "# initialize the geolocator service\n",
    "# geolocator = Nominatim(user_agent=\"twitter_poll_bio_geocoding_v0.0.1\",\n",
    "#                        domain='localhost:8080/nominatim', scheme='http')\n",
    "# geolocator = Nominatim(user_agent=\"twitter_poll_bio_geocoding_v0.0.1\",\n",
    "#                        domain='localhost:8080', scheme='http')\n",
    "geolocator = Photon(user_agent=\"twitter_poll_bio_geocoding_v0.0.1\",\n",
    "                       domain='localhost:2322', scheme='http')"
   ],
   "metadata": {
    "collapsed": false,
    "ExecuteTime": {
     "start_time": "2023-04-20T09:49:19.038551Z",
     "end_time": "2023-04-20T09:49:19.054552Z"
    }
   }
  },
  {
   "cell_type": "code",
   "execution_count": 7,
   "outputs": [],
   "source": [
    "# users = read_locations(os.path.join(DATA_PATH, 'followers_rehydrated.jsonl'))\n",
    "# # pd.read_json('data/followers_rehydrated.jsonl', lines=True, nrows=100)\n",
    "# users=pd.read_json('data/followers_rehydrated.jsonl',\n",
    "#                             lines=True\n",
    "#                             ).rename(columns={'location':'location_str'}\n",
    "#                                      ).set_index('id').dropna(subset=['location_str'])"
   ],
   "metadata": {
    "collapsed": false
   }
  },
  {
   "cell_type": "code",
   "execution_count": 23,
   "outputs": [],
   "source": [
    "fnames = [fname for fname in os.listdir(DATA_PATH) if fname.endswith('rehydrated.jsonl') and not fname.startswith('complotto') and not fname.startswith('followers')]"
   ],
   "metadata": {
    "collapsed": false,
    "ExecuteTime": {
     "start_time": "2023-04-20T16:22:36.383406Z",
     "end_time": "2023-04-20T16:22:36.386408Z"
    }
   }
  },
  {
   "cell_type": "code",
   "execution_count": 24,
   "outputs": [
    {
     "data": {
      "text/plain": "['authors_rehydrated.jsonl',\n 'newer_followees_rehydrated.jsonl',\n 'newer_followers_rehydrated.jsonl',\n 'new_followees_of_authors_rehydrated.jsonl',\n 'new_followees_rehydrated.jsonl',\n 'new_followers_rehydrated.jsonl',\n 'repliers_rehydrated.jsonl']"
     },
     "execution_count": 24,
     "metadata": {},
     "output_type": "execute_result"
    }
   ],
   "source": [
    "fnames"
   ],
   "metadata": {
    "collapsed": false,
    "ExecuteTime": {
     "start_time": "2023-04-20T16:22:36.582527Z",
     "end_time": "2023-04-20T16:22:36.593528Z"
    }
   }
  },
  {
   "cell_type": "code",
   "execution_count": 25,
   "outputs": [
    {
     "name": "stdout",
     "output_type": "stream",
     "text": [
      "authors_rehydrated.jsonl\n",
      "newer_followees_rehydrated.jsonl\n",
      "newer_followers_rehydrated.jsonl\n",
      "new_followees_of_authors_rehydrated.jsonl\n",
      "new_followees_rehydrated.jsonl\n",
      "new_followers_rehydrated.jsonl\n",
      "repliers_rehydrated.jsonl\n"
     ]
    }
   ],
   "source": [
    "locations = list()\n",
    "for fname in fnames:\n",
    "    print(fname)\n",
    "    locations.append(read_locations(fname))\n"
   ],
   "metadata": {
    "collapsed": false,
    "ExecuteTime": {
     "start_time": "2023-04-20T16:22:36.755801Z",
     "end_time": "2023-04-20T16:24:20.161018Z"
    }
   }
  },
  {
   "cell_type": "code",
   "execution_count": 26,
   "outputs": [],
   "source": [
    "users=pd.concat(locations)"
   ],
   "metadata": {
    "collapsed": false,
    "ExecuteTime": {
     "start_time": "2023-04-20T16:24:20.163018Z",
     "end_time": "2023-04-20T16:24:20.432030Z"
    }
   }
  },
  {
   "cell_type": "code",
   "execution_count": 27,
   "outputs": [],
   "source": [
    "del locations"
   ],
   "metadata": {
    "collapsed": false,
    "ExecuteTime": {
     "start_time": "2023-04-20T16:24:20.689146Z",
     "end_time": "2023-04-20T16:24:20.702002Z"
    }
   }
  },
  {
   "cell_type": "code",
   "execution_count": 28,
   "outputs": [
    {
     "data": {
      "text/plain": "9015682"
     },
     "execution_count": 28,
     "metadata": {},
     "output_type": "execute_result"
    }
   ],
   "source": [
    "len(users)"
   ],
   "metadata": {
    "collapsed": false,
    "ExecuteTime": {
     "start_time": "2023-04-20T16:24:20.704001Z",
     "end_time": "2023-04-20T16:24:20.718363Z"
    }
   }
  },
  {
   "cell_type": "code",
   "execution_count": 29,
   "outputs": [],
   "source": [
    "users = users.reset_index().drop_duplicates('id').set_index('id')"
   ],
   "metadata": {
    "collapsed": false,
    "ExecuteTime": {
     "start_time": "2023-04-20T16:24:20.718363Z",
     "end_time": "2023-04-20T16:24:27.049158Z"
    }
   }
  },
  {
   "cell_type": "code",
   "execution_count": 30,
   "outputs": [
    {
     "data": {
      "text/plain": "7650422"
     },
     "execution_count": 30,
     "metadata": {},
     "output_type": "execute_result"
    }
   ],
   "source": [
    "len(users)"
   ],
   "metadata": {
    "collapsed": false,
    "ExecuteTime": {
     "start_time": "2023-04-20T16:24:27.050159Z",
     "end_time": "2023-04-20T16:24:27.065166Z"
    }
   }
  },
  {
   "cell_type": "code",
   "execution_count": 31,
   "outputs": [
    {
     "data": {
      "text/plain": "                                location_str\nid                                          \n130276212                         London, UK\n826272234578771969              Sierra Leone\n119027000                       Nashville TN\n43049667            En la cama de tu hermana\n40969530                      Sacramento, CA",
      "text/html": "<div>\n<style scoped>\n    .dataframe tbody tr th:only-of-type {\n        vertical-align: middle;\n    }\n\n    .dataframe tbody tr th {\n        vertical-align: top;\n    }\n\n    .dataframe thead th {\n        text-align: right;\n    }\n</style>\n<table border=\"1\" class=\"dataframe\">\n  <thead>\n    <tr style=\"text-align: right;\">\n      <th></th>\n      <th>location_str</th>\n    </tr>\n    <tr>\n      <th>id</th>\n      <th></th>\n    </tr>\n  </thead>\n  <tbody>\n    <tr>\n      <th>130276212</th>\n      <td>London, UK</td>\n    </tr>\n    <tr>\n      <th>826272234578771969</th>\n      <td>Sierra Leone</td>\n    </tr>\n    <tr>\n      <th>119027000</th>\n      <td>Nashville TN</td>\n    </tr>\n    <tr>\n      <th>43049667</th>\n      <td>En la cama de tu hermana</td>\n    </tr>\n    <tr>\n      <th>40969530</th>\n      <td>Sacramento, CA</td>\n    </tr>\n  </tbody>\n</table>\n</div>"
     },
     "execution_count": 31,
     "metadata": {},
     "output_type": "execute_result"
    }
   ],
   "source": [
    "users.head()"
   ],
   "metadata": {
    "collapsed": false,
    "ExecuteTime": {
     "start_time": "2023-04-20T16:24:27.066167Z",
     "end_time": "2023-04-20T16:24:27.109116Z"
    }
   }
  },
  {
   "cell_type": "code",
   "execution_count": 32,
   "outputs": [],
   "source": [
    "# followers = list()\n",
    "# with open('data/followers_rehydrated.jsonl') as f:\n",
    "#     for l in f:\n",
    "#         try:\n",
    "#             followers.append(json.loads(l))\n",
    "#         except:\n",
    "#             print(f\"can't parse {l.strip()}\")\n",
    "# users = pd.DataFrame(followers).rename(columns={'location':'location_str'}\n",
    "#                                      ).set_index('id').dropna(subset=['location_str'])\n",
    "# del followers\n",
    "# users.head(2)"
   ],
   "metadata": {
    "collapsed": false,
    "ExecuteTime": {
     "start_time": "2023-04-20T16:24:27.083505Z",
     "end_time": "2023-04-20T16:24:27.118915Z"
    }
   }
  },
  {
   "cell_type": "code",
   "execution_count": 33,
   "outputs": [],
   "source": [
    "# read the data\n",
    "# locations = read_locations(os.path.join(DATA_PATH, 'followers_rehydrated.jsonl'))\n",
    "locations = users\n"
   ],
   "metadata": {
    "collapsed": false,
    "ExecuteTime": {
     "start_time": "2023-04-20T16:24:27.097912Z",
     "end_time": "2023-04-20T16:24:27.140914Z"
    }
   }
  },
  {
   "cell_type": "code",
   "execution_count": 34,
   "outputs": [],
   "source": [
    "unique_locations = set(locations.location_str.unique())"
   ],
   "metadata": {
    "collapsed": false,
    "ExecuteTime": {
     "start_time": "2023-04-20T16:24:27.113920Z",
     "end_time": "2023-04-20T16:24:29.290922Z"
    }
   }
  },
  {
   "cell_type": "code",
   "execution_count": 35,
   "outputs": [
    {
     "data": {
      "text/plain": "7650422"
     },
     "execution_count": 35,
     "metadata": {},
     "output_type": "execute_result"
    }
   ],
   "source": [
    "len(locations)"
   ],
   "metadata": {
    "collapsed": false,
    "ExecuteTime": {
     "start_time": "2023-04-20T16:24:29.291923Z",
     "end_time": "2023-04-20T16:24:29.306943Z"
    }
   }
  },
  {
   "cell_type": "code",
   "execution_count": 36,
   "outputs": [
    {
     "data": {
      "text/plain": "1435262"
     },
     "execution_count": 36,
     "metadata": {},
     "output_type": "execute_result"
    }
   ],
   "source": [
    "len(unique_locations)"
   ],
   "metadata": {
    "collapsed": false,
    "ExecuteTime": {
     "start_time": "2023-04-20T16:24:29.306943Z",
     "end_time": "2023-04-20T16:24:29.350698Z"
    }
   }
  },
  {
   "cell_type": "code",
   "execution_count": 22,
   "outputs": [],
   "source": [
    "del locations"
   ],
   "metadata": {
    "collapsed": false,
    "ExecuteTime": {
     "start_time": "2023-04-20T09:20:49.595309Z",
     "end_time": "2023-04-20T09:20:49.632098Z"
    }
   }
  },
  {
   "cell_type": "code",
   "execution_count": 23,
   "outputs": [],
   "source": [
    "resolved = dict()\n",
    "tested = set()\n",
    "timed_out = set()\n",
    "excepted = set()"
   ],
   "metadata": {
    "collapsed": false,
    "ExecuteTime": {
     "start_time": "2023-04-20T09:20:49.611340Z",
     "end_time": "2023-04-20T09:20:49.632098Z"
    }
   }
  },
  {
   "cell_type": "code",
   "execution_count": 4,
   "outputs": [],
   "source": [
    "if os.path.exists(os.path.join(DATA_PATH, 'resolved.pkl')):\n",
    "    with open(os.path.join(DATA_PATH, 'resolved.pkl'), 'rb') as f:\n",
    "        resolved = pickle.load(f)\n",
    "else:\n",
    "    resolved = dict()\n",
    "if os.path.exists(os.path.join(DATA_PATH, 'tested.pkl')):\n",
    "    with open(os.path.join(DATA_PATH, 'tested.pkl'), 'rb') as f:\n",
    "        tested = pickle.load(f)\n",
    "else:\n",
    "    tested = set()\n",
    "if os.path.exists(os.path.join(DATA_PATH, 'timed_out.pkl')):\n",
    "    with open(os.path.join(DATA_PATH, 'timed_out.pkl'), 'rb') as f:\n",
    "        timed_out = pickle.load(f)\n",
    "else:\n",
    "    timed_out = set()\n",
    "if os.path.exists(os.path.join(DATA_PATH, 'excepted.pkl')):\n",
    "    with open(os.path.join(DATA_PATH, 'excepted.pkl'), 'rb') as f:\n",
    "        excepted = pickle.load(f)\n",
    "else:\n",
    "    excepted = set()\n"
   ],
   "metadata": {
    "collapsed": false,
    "ExecuteTime": {
     "start_time": "2023-04-21T13:44:29.715124Z",
     "end_time": "2023-04-21T13:44:52.798981Z"
    }
   }
  },
  {
   "cell_type": "code",
   "execution_count": 25,
   "outputs": [
    {
     "name": "stdout",
     "output_type": "stream",
     "text": [
      "2150687\n"
     ]
    }
   ],
   "source": [
    "print(len(resolved))"
   ],
   "metadata": {
    "collapsed": false,
    "ExecuteTime": {
     "start_time": "2023-04-20T09:21:16.185632Z",
     "end_time": "2023-04-20T09:21:16.201642Z"
    }
   }
  },
  {
   "cell_type": "code",
   "execution_count": 26,
   "outputs": [
    {
     "data": {
      "text/plain": "1"
     },
     "execution_count": 26,
     "metadata": {},
     "output_type": "execute_result"
    }
   ],
   "source": [
    "unique_locations=unique_locations.difference(resolved)\n",
    "len(unique_locations)"
   ],
   "metadata": {
    "collapsed": false,
    "ExecuteTime": {
     "start_time": "2023-04-20T09:21:16.201642Z",
     "end_time": "2023-04-20T09:21:16.627025Z"
    }
   }
  },
  {
   "cell_type": "code",
   "execution_count": 14,
   "outputs": [],
   "source": [
    "def checkpoint(to_pickle, fname, bkp_suffix='.bkp'):\n",
    "    fpath = os.path.join(DATA_PATH, fname)\n",
    "    if os.path.exists(fpath):\n",
    "        shutil.copyfile(fpath, fpath+bkp_suffix)\n",
    "    with open(fpath, 'wb+') as f:\n",
    "        pickle.dump(to_pickle, f)\n"
   ],
   "metadata": {
    "collapsed": false,
    "ExecuteTime": {
     "start_time": "2023-04-20T09:48:41.533360Z",
     "end_time": "2023-04-20T09:48:41.542362Z"
    }
   }
  },
  {
   "cell_type": "code",
   "execution_count": 27,
   "outputs": [
    {
     "name": "stderr",
     "output_type": "stream",
     "text": [
      "9664it [04:52, 33.03it/s] \n"
     ]
    }
   ],
   "source": [
    "unique_locations = sorted(unique_locations)\n",
    "for i, location in tqdm(enumerate(unique_locations)):\n",
    "    if location in tested:\n",
    "        continue\n",
    "    if (i % 10000) == 0:\n",
    "        # save data\n",
    "        for fname, to_pickle in {'resolved.pkl':resolved,\n",
    "                                'tested.pkl':tested,\n",
    "                                'timed_out.pkl':timed_out,\n",
    "                                'excepted.pkl':excepted,}.items() :\n",
    "            checkpoint(to_pickle, fname)\n",
    "\n",
    "    try:\n",
    "        resolved[location] = get_location(location, geolocator)\n",
    "    except GeocoderTimedOut as e:\n",
    "        timed_out.add(location)\n",
    "    except Exception as e:\n",
    "        excepted.add(location)\n",
    "    finally:\n",
    "        tested.add(location)"
   ],
   "metadata": {
    "collapsed": false,
    "ExecuteTime": {
     "start_time": "2023-04-17T11:58:08.836612Z",
     "end_time": "2023-04-17T12:03:01.609446Z"
    }
   }
  },
  {
   "cell_type": "code",
   "execution_count": 29,
   "outputs": [],
   "source": [
    "# save data\n",
    "for fname, to_pickle in {'resolved.pkl':resolved,\n",
    "                        'tested.pkl':tested,\n",
    "                        'timed_out.pkl':timed_out,\n",
    "                        'excepted.pkl':excepted,}.items() :\n",
    "    checkpoint(to_pickle, fname)"
   ],
   "metadata": {
    "collapsed": false,
    "ExecuteTime": {
     "start_time": "2023-04-17T12:03:17.533766Z",
     "end_time": "2023-04-17T12:03:42.625231Z"
    }
   }
  },
  {
   "cell_type": "code",
   "execution_count": 30,
   "outputs": [
    {
     "data": {
      "text/plain": "2"
     },
     "execution_count": 30,
     "metadata": {},
     "output_type": "execute_result"
    }
   ],
   "source": [
    "len(excepted)"
   ],
   "metadata": {
    "collapsed": false,
    "ExecuteTime": {
     "start_time": "2023-04-17T12:03:42.627232Z",
     "end_time": "2023-04-17T12:03:42.641856Z"
    }
   }
  },
  {
   "cell_type": "code",
   "execution_count": 12,
   "outputs": [],
   "source": [
    "resolved_reverse = dict()\n",
    "tested_reverse = set()\n",
    "timed_out_reverse = set()"
   ],
   "metadata": {
    "collapsed": false,
    "ExecuteTime": {
     "start_time": "2023-04-20T09:48:30.294618Z",
     "end_time": "2023-04-20T09:48:30.304618Z"
    }
   }
  },
  {
   "cell_type": "code",
   "execution_count": 5,
   "outputs": [],
   "source": [
    "if os.path.exists(os.path.join(DATA_PATH, 'resolved_reverse.pkl')):\n",
    "    with open(os.path.join(DATA_PATH, 'resolved_reverse.pkl'), 'rb') as f:\n",
    "        resolved_reverse = pickle.load(f)\n",
    "else:\n",
    "    resolved_reverse = dict()\n",
    "if os.path.exists(os.path.join(DATA_PATH, 'tested_reverse.pkl')):\n",
    "    with open(os.path.join(DATA_PATH, 'tested_reverse.pkl'), 'rb') as f:\n",
    "        tested_reverse = pickle.load(f)\n",
    "else:\n",
    "    tested_reverse = set()\n",
    "if os.path.exists(os.path.join(DATA_PATH, 'timed_out_reverse.pkl')):\n",
    "    with open(os.path.join(DATA_PATH, 'timed_out_reverse.pkl'), 'rb') as f:\n",
    "        timed_out_reverse = pickle.load(f)\n",
    "else:\n",
    "    timed_out_reverse = set()\n",
    "\n"
   ],
   "metadata": {
    "collapsed": false,
    "ExecuteTime": {
     "start_time": "2023-04-21T13:44:52.792878Z",
     "end_time": "2023-04-21T13:45:24.011853Z"
    }
   }
  },
  {
   "cell_type": "code",
   "execution_count": 17,
   "outputs": [
    {
     "name": "stderr",
     "output_type": "stream",
     "text": [
      "2150687it [43:14, 828.95it/s]  \n"
     ]
    }
   ],
   "source": [
    "for i, (location, location_obj) in tqdm(enumerate(resolved.items())):\n",
    "    if location in tested_reverse:\n",
    "        continue\n",
    "    if (i % 100000) == 0:\n",
    "        # save data\n",
    "        for fname, to_pickle in {'resolved_reverse.pkl':resolved_reverse,\n",
    "                                'tested_reverse.pkl':tested_reverse,\n",
    "                                'timed_out_reverse.pkl':timed_out_reverse,}.items() :\n",
    "            checkpoint(to_pickle, fname)\n",
    "\n",
    "    if not location_obj:\n",
    "        continue\n",
    "    try:\n",
    "        resolved_reverse[location] = reverse_location(location_obj, geolocator)\n",
    "    except GeocoderTimedOut as e:\n",
    "        timed_out_reverse.add(location)\n",
    "    except ValueError as e:\n",
    "        print(location_obj.raw)\n",
    "    finally:\n",
    "        tested_reverse.add(location)\n",
    "\n",
    "# save data\n",
    "for fname, to_pickle in {'resolved_reverse.pkl':resolved_reverse,\n",
    "                        'tested_reverse.pkl':tested_reverse,\n",
    "                        'timed_out_reverse.pkl':timed_out_reverse,}.items() :\n",
    "    checkpoint(to_pickle, fname)"
   ],
   "metadata": {
    "collapsed": false,
    "ExecuteTime": {
     "start_time": "2023-04-20T09:49:27.943000Z",
     "end_time": "2023-04-20T10:33:03.730516Z"
    }
   }
  },
  {
   "cell_type": "code",
   "execution_count": 8,
   "outputs": [],
   "source": [
    "with open(os.path.join(DATA_PATH, 'resolved_reverse.pkl'), 'rb') as f:\n",
    "    resolved_reverse = pickle.load(f)\n",
    "with open(os.path.join(DATA_PATH, 'tested_reverse.pkl'), 'rb') as f:\n",
    "    tested_reverse = pickle.load(f)\n",
    "with open(os.path.join(DATA_PATH, 'timed_out_reverse.pkl'), 'rb') as f:\n",
    "    timed_out_reverse = pickle.load(f)"
   ],
   "metadata": {
    "collapsed": false,
    "ExecuteTime": {
     "start_time": "2023-04-21T13:25:34.623313Z",
     "end_time": "2023-04-21T13:26:09.207978Z"
    }
   }
  },
  {
   "cell_type": "code",
   "execution_count": 19,
   "outputs": [
    {
     "data": {
      "text/plain": "0"
     },
     "execution_count": 19,
     "metadata": {},
     "output_type": "execute_result"
    }
   ],
   "source": [
    "len(timed_out_reverse)"
   ],
   "metadata": {
    "collapsed": false,
    "ExecuteTime": {
     "start_time": "2023-04-20T12:32:37.512569Z",
     "end_time": "2023-04-20T12:32:37.540564Z"
    }
   }
  },
  {
   "cell_type": "code",
   "execution_count": null,
   "outputs": [],
   "source": [
    "# followers = list()\n",
    "# with open('data/followers_rehydrated.jsonl') as f:\n",
    "#     for l in f:\n",
    "#         try:\n",
    "#             followers.append(json.loads(l))\n",
    "#         except:\n",
    "#             print(f\"can't parse {l.strip()}\")\n",
    "# locations = pd.DataFrame(followers).rename(columns={'location':'location_str'}\n",
    "#                                      ).set_index('id').dropna(subset=['location_str'])\n",
    "# del followers"
   ],
   "metadata": {
    "collapsed": false
   }
  },
  {
   "cell_type": "markdown",
   "source": [],
   "metadata": {
    "collapsed": false
   }
  },
  {
   "cell_type": "code",
   "execution_count": 37,
   "outputs": [],
   "source": [
    "locations['location_obj'] = locations.location_str.map(resolved)"
   ],
   "metadata": {
    "collapsed": false,
    "ExecuteTime": {
     "start_time": "2023-04-20T16:24:29.322700Z",
     "end_time": "2023-04-20T16:24:33.992361Z"
    }
   }
  },
  {
   "cell_type": "code",
   "execution_count": 38,
   "outputs": [],
   "source": [
    "# # apply the geolocator\n",
    "# locations['location_obj'] = locations.location_str.apply(partial(get_location, geolocator=geolocator))"
   ],
   "metadata": {
    "collapsed": false,
    "ExecuteTime": {
     "start_time": "2023-04-20T16:24:33.994362Z",
     "end_time": "2023-04-20T16:24:34.009179Z"
    }
   }
  },
  {
   "cell_type": "markdown",
   "source": [
    "Not everything finds a match on Nominatim, esp. when there are natural language descriptions.\n",
    "\n",
    "Perhaps we could give it a pass of NER for GEO entities first"
   ],
   "metadata": {
    "collapsed": false
   }
  },
  {
   "cell_type": "code",
   "execution_count": 39,
   "outputs": [
    {
     "data": {
      "text/plain": "                                       location_str location_obj\nid                                                              \n61608747                   USA|EUROPE|ASIA|GLOBAL✈️         None\n286209052                       Giacarta, Indonesia         None\n51016617                                         🇴🇲         None\n1237149314587095041                             幻想郷         None\n576563652                          GΞRΜΑΝΨ || CRΞΤΞ         None\n...                                             ...          ...\n191522610            His Presence #Grid: AAAA-AEXC          None\n988063845758332931                        うまい、うますぎる         None\n318593865            آنجاکه تیرعدو برتنش ناله میکند         None\n3294303660                    بھکر دے نال پنڈ وچ___         None\n424944896                                  @StaxDFS         None\n\n[305514 rows x 2 columns]",
      "text/html": "<div>\n<style scoped>\n    .dataframe tbody tr th:only-of-type {\n        vertical-align: middle;\n    }\n\n    .dataframe tbody tr th {\n        vertical-align: top;\n    }\n\n    .dataframe thead th {\n        text-align: right;\n    }\n</style>\n<table border=\"1\" class=\"dataframe\">\n  <thead>\n    <tr style=\"text-align: right;\">\n      <th></th>\n      <th>location_str</th>\n      <th>location_obj</th>\n    </tr>\n    <tr>\n      <th>id</th>\n      <th></th>\n      <th></th>\n    </tr>\n  </thead>\n  <tbody>\n    <tr>\n      <th>61608747</th>\n      <td>USA|EUROPE|ASIA|GLOBAL✈️</td>\n      <td>None</td>\n    </tr>\n    <tr>\n      <th>286209052</th>\n      <td>Giacarta, Indonesia</td>\n      <td>None</td>\n    </tr>\n    <tr>\n      <th>51016617</th>\n      <td>🇴🇲</td>\n      <td>None</td>\n    </tr>\n    <tr>\n      <th>1237149314587095041</th>\n      <td>幻想郷</td>\n      <td>None</td>\n    </tr>\n    <tr>\n      <th>576563652</th>\n      <td>GΞRΜΑΝΨ || CRΞΤΞ</td>\n      <td>None</td>\n    </tr>\n    <tr>\n      <th>...</th>\n      <td>...</td>\n      <td>...</td>\n    </tr>\n    <tr>\n      <th>191522610</th>\n      <td>His Presence #Grid: AAAA-AEXC</td>\n      <td>None</td>\n    </tr>\n    <tr>\n      <th>988063845758332931</th>\n      <td>うまい、うますぎる</td>\n      <td>None</td>\n    </tr>\n    <tr>\n      <th>318593865</th>\n      <td>آنجاکه تیرعدو برتنش ناله میکند</td>\n      <td>None</td>\n    </tr>\n    <tr>\n      <th>3294303660</th>\n      <td>بھکر دے نال پنڈ وچ___</td>\n      <td>None</td>\n    </tr>\n    <tr>\n      <th>424944896</th>\n      <td>@StaxDFS</td>\n      <td>None</td>\n    </tr>\n  </tbody>\n</table>\n<p>305514 rows × 2 columns</p>\n</div>"
     },
     "execution_count": 39,
     "metadata": {},
     "output_type": "execute_result"
    }
   ],
   "source": [
    "locations[locations.location_obj.isna()]"
   ],
   "metadata": {
    "collapsed": false,
    "ExecuteTime": {
     "start_time": "2023-04-20T16:24:34.394552Z",
     "end_time": "2023-04-20T16:24:34.895462Z"
    }
   }
  },
  {
   "cell_type": "markdown",
   "source": [
    "The information returned by the `geocode` function is quite limited, because it tries to fit the specific string.\n",
    "For example, states are rarely included in the object. Reverse geocoding helps with generalizing in this case."
   ],
   "metadata": {
    "collapsed": false
   }
  },
  {
   "cell_type": "code",
   "execution_count": 40,
   "outputs": [],
   "source": [
    "locations['location_obj_reversed'] = locations.location_str.map(resolved_reverse)"
   ],
   "metadata": {
    "collapsed": false,
    "ExecuteTime": {
     "start_time": "2023-04-20T16:24:34.897467Z",
     "end_time": "2023-04-20T16:24:39.076796Z"
    }
   }
  },
  {
   "cell_type": "code",
   "execution_count": 41,
   "outputs": [],
   "source": [
    "# # apply the reverse geolocator\n",
    "# locations['location_obj_reversed'] = locations.location_obj.apply(partial(reverse_location, geolocator=geolocator))"
   ],
   "metadata": {
    "collapsed": false,
    "ExecuteTime": {
     "start_time": "2023-04-20T16:24:39.077798Z",
     "end_time": "2023-04-20T16:24:39.091199Z"
    }
   }
  },
  {
   "cell_type": "code",
   "execution_count": 42,
   "outputs": [],
   "source": [
    "for _, x in resolved.items():\n",
    "    break"
   ],
   "metadata": {
    "collapsed": false,
    "ExecuteTime": {
     "start_time": "2023-04-20T16:24:39.093199Z",
     "end_time": "2023-04-20T16:24:39.119211Z"
    }
   }
  },
  {
   "cell_type": "code",
   "execution_count": 43,
   "outputs": [
    {
     "data": {
      "text/plain": "                                location_str  \\\nid                                             \n130276212                         London, UK   \n826272234578771969              Sierra Leone   \n119027000                       Nashville TN   \n43049667            En la cama de tu hermana   \n40969530                      Sacramento, CA   \n\n                                                         location_obj  \\\nid                                                                      \n130276212           (Royal Courts of Justice, Strand, WC2A 2LL, St...   \n826272234578771969  (Sierra Leone, Sierra Leone, (8.6400349, -11.8...   \n119027000           (Germantown Nashville, TN, Nashville, Tennesse...   \n43049667             (Çamaş, Ordu, Türkiye, (40.9025607, 37.5281141))   \n40969530            (Sacramento, California, United States, (38.58...   \n\n                                                location_obj_reversed  \nid                                                                     \n130276212           (Royal Courts of Justice, Strand, WC2A 2LL, St...  \n826272234578771969  (Sierra Leone, Sierra Leone, (8.6400349, -11.8...  \n119027000           (Germantown Nashville, TN, Nashville, Tennesse...  \n43049667             (Çamaş, Ordu, Türkiye, (40.9025607, 37.5281141))  \n40969530            (Sacramento, California, United States, (38.58...  ",
      "text/html": "<div>\n<style scoped>\n    .dataframe tbody tr th:only-of-type {\n        vertical-align: middle;\n    }\n\n    .dataframe tbody tr th {\n        vertical-align: top;\n    }\n\n    .dataframe thead th {\n        text-align: right;\n    }\n</style>\n<table border=\"1\" class=\"dataframe\">\n  <thead>\n    <tr style=\"text-align: right;\">\n      <th></th>\n      <th>location_str</th>\n      <th>location_obj</th>\n      <th>location_obj_reversed</th>\n    </tr>\n    <tr>\n      <th>id</th>\n      <th></th>\n      <th></th>\n      <th></th>\n    </tr>\n  </thead>\n  <tbody>\n    <tr>\n      <th>130276212</th>\n      <td>London, UK</td>\n      <td>(Royal Courts of Justice, Strand, WC2A 2LL, St...</td>\n      <td>(Royal Courts of Justice, Strand, WC2A 2LL, St...</td>\n    </tr>\n    <tr>\n      <th>826272234578771969</th>\n      <td>Sierra Leone</td>\n      <td>(Sierra Leone, Sierra Leone, (8.6400349, -11.8...</td>\n      <td>(Sierra Leone, Sierra Leone, (8.6400349, -11.8...</td>\n    </tr>\n    <tr>\n      <th>119027000</th>\n      <td>Nashville TN</td>\n      <td>(Germantown Nashville, TN, Nashville, Tennesse...</td>\n      <td>(Germantown Nashville, TN, Nashville, Tennesse...</td>\n    </tr>\n    <tr>\n      <th>43049667</th>\n      <td>En la cama de tu hermana</td>\n      <td>(Çamaş, Ordu, Türkiye, (40.9025607, 37.5281141))</td>\n      <td>(Çamaş, Ordu, Türkiye, (40.9025607, 37.5281141))</td>\n    </tr>\n    <tr>\n      <th>40969530</th>\n      <td>Sacramento, CA</td>\n      <td>(Sacramento, California, United States, (38.58...</td>\n      <td>(Sacramento, California, United States, (38.58...</td>\n    </tr>\n  </tbody>\n</table>\n</div>"
     },
     "execution_count": 43,
     "metadata": {},
     "output_type": "execute_result"
    }
   ],
   "source": [
    "locations.head()"
   ],
   "metadata": {
    "collapsed": false,
    "ExecuteTime": {
     "start_time": "2023-04-20T16:24:39.178211Z",
     "end_time": "2023-04-20T16:24:39.187212Z"
    }
   }
  },
  {
   "cell_type": "code",
   "execution_count": 44,
   "outputs": [
    {
     "data": {
      "text/plain": "                       osm_id  \\\nid                              \n130276212             2335557   \n826272234578771969     192777   \n119027000           684389959   \n43049667              1839069   \n40969530              6232940   \n\n                                                               extent  \\\nid                                                                      \n130276212            [-0.1144269, 51.5149928, -0.1117005, 51.5134019]   \n826272234578771969         [-13.5003389, 9.999973, -10.271683, 6.755]   \n119027000           [-86.7949367, 36.1819095, -86.7838047, 36.1733...   \n43049667             [37.4695687, 40.9600667, 37.5864881, 40.8280504]   \n40969530               [-121.56012, 38.685506, -121.36274, 38.437574]   \n\n                           country       city countrycode  postcode  \\\nid                                                                    \n130276212           United Kingdom     London          GB  WC2A 2LL   \n826272234578771969    Sierra Leone        NaN          SL       NaN   \n119027000            United States  Nashville          US       NaN   \n43049667                   Türkiye        NaN          TR       NaN   \n40969530             United States        NaN          US       NaN   \n\n                            locality          county      type osm_type  \\\nid                                                                        \n130276212           St Clement Danes  Greater London     house        R   \n826272234578771969               NaN             NaN   country        R   \n119027000                        NaN        Davidson  locality        W   \n43049667                         NaN             NaN      city        R   \n40969530                         NaN      Sacramento      city        R   \n\n                    osm_key  street district      osm_value  \\\nid                                                            \n130276212           amenity  Strand  Holborn     courthouse   \n826272234578771969    place     NaN      NaN        country   \n119027000             place     NaN      NaN  neighbourhood   \n43049667              place     NaN      NaN           town   \n40969530              place     NaN      NaN           city   \n\n                                        name       state housenumber  \nid                                                                    \n130276212            Royal Courts of Justice     England         NaN  \n826272234578771969              Sierra Leone         NaN         NaN  \n119027000           Germantown Nashville, TN   Tennessee         NaN  \n43049667                               Çamaş        Ordu         NaN  \n40969530                          Sacramento  California         NaN  ",
      "text/html": "<div>\n<style scoped>\n    .dataframe tbody tr th:only-of-type {\n        vertical-align: middle;\n    }\n\n    .dataframe tbody tr th {\n        vertical-align: top;\n    }\n\n    .dataframe thead th {\n        text-align: right;\n    }\n</style>\n<table border=\"1\" class=\"dataframe\">\n  <thead>\n    <tr style=\"text-align: right;\">\n      <th></th>\n      <th>osm_id</th>\n      <th>extent</th>\n      <th>country</th>\n      <th>city</th>\n      <th>countrycode</th>\n      <th>postcode</th>\n      <th>locality</th>\n      <th>county</th>\n      <th>type</th>\n      <th>osm_type</th>\n      <th>osm_key</th>\n      <th>street</th>\n      <th>district</th>\n      <th>osm_value</th>\n      <th>name</th>\n      <th>state</th>\n      <th>housenumber</th>\n    </tr>\n    <tr>\n      <th>id</th>\n      <th></th>\n      <th></th>\n      <th></th>\n      <th></th>\n      <th></th>\n      <th></th>\n      <th></th>\n      <th></th>\n      <th></th>\n      <th></th>\n      <th></th>\n      <th></th>\n      <th></th>\n      <th></th>\n      <th></th>\n      <th></th>\n      <th></th>\n    </tr>\n  </thead>\n  <tbody>\n    <tr>\n      <th>130276212</th>\n      <td>2335557</td>\n      <td>[-0.1144269, 51.5149928, -0.1117005, 51.5134019]</td>\n      <td>United Kingdom</td>\n      <td>London</td>\n      <td>GB</td>\n      <td>WC2A 2LL</td>\n      <td>St Clement Danes</td>\n      <td>Greater London</td>\n      <td>house</td>\n      <td>R</td>\n      <td>amenity</td>\n      <td>Strand</td>\n      <td>Holborn</td>\n      <td>courthouse</td>\n      <td>Royal Courts of Justice</td>\n      <td>England</td>\n      <td>NaN</td>\n    </tr>\n    <tr>\n      <th>826272234578771969</th>\n      <td>192777</td>\n      <td>[-13.5003389, 9.999973, -10.271683, 6.755]</td>\n      <td>Sierra Leone</td>\n      <td>NaN</td>\n      <td>SL</td>\n      <td>NaN</td>\n      <td>NaN</td>\n      <td>NaN</td>\n      <td>country</td>\n      <td>R</td>\n      <td>place</td>\n      <td>NaN</td>\n      <td>NaN</td>\n      <td>country</td>\n      <td>Sierra Leone</td>\n      <td>NaN</td>\n      <td>NaN</td>\n    </tr>\n    <tr>\n      <th>119027000</th>\n      <td>684389959</td>\n      <td>[-86.7949367, 36.1819095, -86.7838047, 36.1733...</td>\n      <td>United States</td>\n      <td>Nashville</td>\n      <td>US</td>\n      <td>NaN</td>\n      <td>NaN</td>\n      <td>Davidson</td>\n      <td>locality</td>\n      <td>W</td>\n      <td>place</td>\n      <td>NaN</td>\n      <td>NaN</td>\n      <td>neighbourhood</td>\n      <td>Germantown Nashville, TN</td>\n      <td>Tennessee</td>\n      <td>NaN</td>\n    </tr>\n    <tr>\n      <th>43049667</th>\n      <td>1839069</td>\n      <td>[37.4695687, 40.9600667, 37.5864881, 40.8280504]</td>\n      <td>Türkiye</td>\n      <td>NaN</td>\n      <td>TR</td>\n      <td>NaN</td>\n      <td>NaN</td>\n      <td>NaN</td>\n      <td>city</td>\n      <td>R</td>\n      <td>place</td>\n      <td>NaN</td>\n      <td>NaN</td>\n      <td>town</td>\n      <td>Çamaş</td>\n      <td>Ordu</td>\n      <td>NaN</td>\n    </tr>\n    <tr>\n      <th>40969530</th>\n      <td>6232940</td>\n      <td>[-121.56012, 38.685506, -121.36274, 38.437574]</td>\n      <td>United States</td>\n      <td>NaN</td>\n      <td>US</td>\n      <td>NaN</td>\n      <td>NaN</td>\n      <td>Sacramento</td>\n      <td>city</td>\n      <td>R</td>\n      <td>place</td>\n      <td>NaN</td>\n      <td>NaN</td>\n      <td>city</td>\n      <td>Sacramento</td>\n      <td>California</td>\n      <td>NaN</td>\n    </tr>\n  </tbody>\n</table>\n</div>"
     },
     "execution_count": 44,
     "metadata": {},
     "output_type": "execute_result"
    }
   ],
   "source": [
    "# unpack address information\n",
    "addresses = pd.DataFrame(locations.location_obj_reversed.dropna().apply(lambda x:pd.Series(x.raw['properties'])))\n",
    "addresses.head()"
   ],
   "metadata": {
    "collapsed": false,
    "ExecuteTime": {
     "start_time": "2023-04-20T16:24:39.187212Z",
     "end_time": "2023-04-20T16:41:49.035245Z"
    }
   }
  },
  {
   "cell_type": "code",
   "execution_count": 45,
   "outputs": [
    {
     "name": "stdout",
     "output_type": "stream",
     "text": [
      "wtf\n"
     ]
    }
   ],
   "source": [
    "print('wtf')"
   ],
   "metadata": {
    "collapsed": false,
    "ExecuteTime": {
     "start_time": "2023-04-20T16:41:49.037248Z",
     "end_time": "2023-04-20T16:41:49.051269Z"
    }
   }
  },
  {
   "cell_type": "code",
   "execution_count": null,
   "outputs": [
    {
     "name": "stderr",
     "output_type": "stream",
     "text": [
      "Traceback (most recent call last):\n",
      "  File \"C:\\Users\\hide\\PycharmProjects\\twitter_polls\\venv\\lib\\site-packages\\pandas\\core\\internals\\construction.py\", line 869, in to_arrays\n",
      "    arr, columns = _list_of_series_to_arrays(data, columns)\n",
      "RuntimeError: Object of type <class 'numpy.ndarray'> appears to be C subclassed NumPy array, void scalar, or allocated in a non-standard way.NumPy reserves the right to change the size of these structures. Projects are required to take this into account by either recompiling against a specific NumPy version or padding the struct and enforcing a maximum NumPy version.\n"
     ]
    }
   ],
   "source": [
    " # unpack address information\n",
    "addresses_orig = pd.DataFrame(locations.location_obj.dropna().apply(lambda x:pd.Series(x.raw['properties'])))\n",
    "addresses_orig.head()"
   ],
   "metadata": {
    "collapsed": false
   }
  },
  {
   "cell_type": "code",
   "execution_count": null,
   "outputs": [],
   "source": [
    "addresses_orig[addresses_orig.countrycode=='US'].groupby('state').size().sort_values(ascending=False)"
   ],
   "metadata": {
    "collapsed": false
   }
  },
  {
   "cell_type": "code",
   "execution_count": null,
   "outputs": [],
   "source": [
    "# merge with the original dataframe\n",
    "locations = pd.merge(locations, addresses_orig, left_index=True, right_index=True)"
   ],
   "metadata": {
    "collapsed": false
   }
  },
  {
   "cell_type": "code",
   "execution_count": null,
   "outputs": [],
   "source": [
    "locations[['location_str', 'countrycode']]"
   ],
   "metadata": {
    "collapsed": false
   }
  },
  {
   "cell_type": "markdown",
   "source": [
    "some errors appear bizarre -- hard to correct"
   ],
   "metadata": {
    "collapsed": false
   }
  },
  {
   "cell_type": "code",
   "execution_count": null,
   "outputs": [],
   "source": [
    "def latlong(location_obj):\n",
    "    try:\n",
    "        lon, lat = location_obj.raw['geometry']['coordinates']\n",
    "        return pd.Series({'lat':lat, 'lon':lon})\n",
    "    except AttributeError as e:\n",
    "        return pd.Series({'lat':None, 'lon':None})\n",
    "\n",
    "locations = pd.merge(locations, locations.location_obj.apply(latlong), left_index=True, right_index=True)"
   ],
   "metadata": {
    "collapsed": false
   }
  },
  {
   "cell_type": "code",
   "execution_count": null,
   "outputs": [],
   "source": [
    "# save data\n",
    "os.makedirs(DATA_PATH, exist_ok=True)\n",
    "locations[['location_str', 'countrycode']].to_csv(os.path.join(DATA_PATH, 'bio_country_codes.csv'))\n",
    "\n",
    "locations.to_pickle(os.path.join(DATA_PATH, 'bio_locations.pkl'))\n"
   ],
   "metadata": {
    "collapsed": false
   }
  },
  {
   "cell_type": "code",
   "execution_count": null,
   "outputs": [],
   "source": [
    "locations = pd.read_pickle(os.path.join(DATA_PATH, 'bio_locations.pkl'))"
   ],
   "metadata": {
    "collapsed": false,
    "ExecuteTime": {
     "start_time": "2023-04-14T16:07:43.309207Z",
     "end_time": "2023-04-14T16:09:09.441319Z"
    }
   }
  },
  {
   "cell_type": "code",
   "execution_count": null,
   "outputs": [],
   "source": [
    "locations.columns"
   ],
   "metadata": {
    "collapsed": false,
    "ExecuteTime": {
     "start_time": "2023-04-14T16:09:09.442317Z",
     "end_time": "2023-04-14T16:09:09.455828Z"
    }
   }
  },
  {
   "cell_type": "code",
   "execution_count": null,
   "outputs": [],
   "source": [
    "locations.name_y.head()"
   ],
   "metadata": {
    "collapsed": false,
    "ExecuteTime": {
     "start_time": "2023-04-14T16:09:09.455828Z",
     "end_time": "2023-04-14T16:09:09.501451Z"
    }
   }
  },
  {
   "cell_type": "code",
   "execution_count": null,
   "outputs": [],
   "source": [
    "locations.groupby('countrycode').size().sort_values(ascending=False)"
   ],
   "metadata": {
    "collapsed": false,
    "ExecuteTime": {
     "start_time": "2023-04-14T16:09:09.472404Z",
     "end_time": "2023-04-14T16:09:10.467089Z"
    }
   }
  },
  {
   "cell_type": "code",
   "execution_count": null,
   "outputs": [],
   "source": [
    "locations[locations.countrycode=='US'].groupby('state').size().sort_values(ascending=False)"
   ],
   "metadata": {
    "collapsed": false,
    "ExecuteTime": {
     "start_time": "2023-04-14T16:09:10.467089Z",
     "end_time": "2023-04-14T16:09:12.980408Z"
    }
   }
  },
  {
   "cell_type": "code",
   "execution_count": null,
   "outputs": [],
   "source": [
    "locations[['location_str','osm_type', 'osm_id', 'extent', 'country',\n",
    "       'osm_key', 'countrycode', 'osm_value', 'name_y', 'type', 'city',\n",
    "       'postcode', 'locality', 'district', 'state', 'county', 'street',\n",
    "       'housenumber', 'lat', 'lon']].rename(columns={'name_y':\"location_name\"}).to_csv(os.path.join(DATA_PATH, 'bio_locations.csv'))"
   ],
   "metadata": {
    "collapsed": false
   }
  },
  {
   "cell_type": "code",
   "execution_count": null,
   "outputs": [],
   "source": [
    "locations.location_obj.head()"
   ],
   "metadata": {
    "collapsed": false
   }
  },
  {
   "cell_type": "code",
   "execution_count": 6,
   "outputs": [],
   "source": [
    "resolved_df = pd.DataFrame(loc.raw['geometry']|loc.raw['properties']|{'location_str': k} for k, loc in resolved.items() if loc)\n",
    "resolved_df.head()\n",
    "resolved_df['lat'] = resolved_df.coordinates.apply(lambda x:x[1])\n",
    "resolved_df['lon'] = resolved_df.coordinates.apply(lambda x:x[0])\n",
    "del resolved_df['coordinates']\n",
    "resolved_df.to_csv(os.path.join(DATA_PATH, 'locations_resolved.csv'), encoding='utf8')"
   ],
   "metadata": {
    "collapsed": false,
    "ExecuteTime": {
     "start_time": "2023-04-21T13:45:24.012853Z",
     "end_time": "2023-04-21T13:45:41.526738Z"
    }
   }
  },
  {
   "cell_type": "code",
   "execution_count": 11,
   "outputs": [],
   "source": [
    "resolved_reverse_df = pd.DataFrame(loc.raw['geometry']|loc.raw['properties']|{'location_str': k} for k, loc in resolved_reverse.items() if loc)\n",
    "resolved_reverse_df.head()\n",
    "resolved_reverse_df['lat'] = resolved_reverse_df.coordinates.apply(lambda x:x[1])\n",
    "resolved_reverse_df['lon'] = resolved_reverse_df.coordinates.apply(lambda x:x[0])\n",
    "del resolved_reverse_df['coordinates']\n",
    "resolved_reverse_df.to_csv(os.path.join(DATA_PATH, 'locations_resolved_reverse.csv'), encoding='utf8')"
   ],
   "metadata": {
    "collapsed": false,
    "ExecuteTime": {
     "start_time": "2023-04-21T13:48:57.932649Z",
     "end_time": "2023-04-21T13:49:19.924560Z"
    }
   }
  },
  {
   "cell_type": "code",
   "execution_count": null,
   "outputs": [],
   "source": [],
   "metadata": {
    "collapsed": false
   }
  }
 ],
 "metadata": {
  "kernelspec": {
   "display_name": "Python 3",
   "language": "python",
   "name": "python3"
  },
  "language_info": {
   "codemirror_mode": {
    "name": "ipython",
    "version": 2
   },
   "file_extension": ".py",
   "mimetype": "text/x-python",
   "name": "python",
   "nbconvert_exporter": "python",
   "pygments_lexer": "ipython2",
   "version": "2.7.6"
  }
 },
 "nbformat": 4,
 "nbformat_minor": 0
}
