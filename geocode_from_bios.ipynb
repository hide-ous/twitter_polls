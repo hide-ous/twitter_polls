{
 "cells": [
  {
   "cell_type": "code",
   "execution_count": 24,
   "metadata": {
    "collapsed": true
   },
   "outputs": [],
   "source": [
    "import os\n",
    "from functools import partial\n",
    "\n",
    "import pandas as pd\n",
    "\n",
    "from geopy.exc import GeocoderUnavailable\n",
    "from geopy.geocoders import Nominatim\n",
    "from ratelimit import limits, sleep_and_retry"
   ]
  },
  {
   "cell_type": "code",
   "execution_count": 25,
   "outputs": [],
   "source": [
    "DUMMY_LOCATION_STRS = [\"Berlin, Deutschland\",\n",
    "\"France\",\n",
    "\"Paris et plein Centre\",\n",
    "\"Punjab, Pakistan\",\n",
    "\"South Africa\",\n",
    "\"Boulder, Colorado\",\n",
    "\"NONE\",\n",
    "\"London\",\n",
    "\"United States\",\n",
    "\"Ethiopia\",\n",
    "\"Ethiopia\",\n",
    "\"TΧ\",\n",
    "\"NONE\",\n",
    "\"Paris, Mulhouse, sur la route\",\n",
    "\"London\",\n",
    "\"Barcelona\",\n",
    "\"Liverpool\",\n",
    "\"Bay Area, CA\"]"
   ],
   "metadata": {
    "collapsed": false
   }
  },
  {
   "cell_type": "code",
   "execution_count": 28,
   "outputs": [],
   "source": [
    "@sleep_and_retry\n",
    "@limits(calls=1, period=1)\n",
    "def get_location(location_str, geolocator, **kwargs):\n",
    "    try:\n",
    "        return geolocator.geocode(location_str, **kwargs)\n",
    "    except GeocoderUnavailable as e:\n",
    "        return None"
   ],
   "metadata": {
    "collapsed": false
   }
  },
  {
   "cell_type": "code",
   "execution_count": 26,
   "outputs": [],
   "source": [
    "def read_locations(): #TODO: update to real data\n",
    "    \"\"\"\n",
    "    reads the input data\n",
    "    :return: a dataframe with a column `location_str` containing the description of the location\n",
    "    \"\"\"\n",
    "    return pd.DataFrame(DUMMY_LOCATION_STRS, columns=['location_str'], index=range(len(DUMMY_LOCATION_STRS)))"
   ],
   "metadata": {
    "collapsed": false
   }
  },
  {
   "cell_type": "code",
   "execution_count": 31,
   "outputs": [],
   "source": [
    "@sleep_and_retry\n",
    "@limits(calls=1, period=1)\n",
    "def reverse_location(location_obj, geolocator, **kwargs):\n",
    "    try:\n",
    "        coords = \",\".join((location_obj.raw['lat'], location_obj.raw['lon']))\n",
    "    except AttributeError as e:\n",
    "        return None\n",
    "    try:\n",
    "        return geolocator.reverse(coords, **kwargs)\n",
    "    except GeocoderUnavailable as e:\n",
    "        return None"
   ],
   "metadata": {
    "collapsed": false
   }
  },
  {
   "cell_type": "code",
   "execution_count": 27,
   "outputs": [],
   "source": [
    "# read the data\n",
    "locations = read_locations()\n",
    "# initialize the geolocator service\n",
    "geolocator = Nominatim(user_agent=\"twitter_poll_bio_geocoding_v0.0.1\")\n"
   ],
   "metadata": {
    "collapsed": false
   }
  },
  {
   "cell_type": "code",
   "execution_count": 29,
   "outputs": [],
   "source": [
    "# apply the geolocator\n",
    "locations['location_obj'] = locations.location_str.apply(partial(get_location, geolocator=geolocator))"
   ],
   "metadata": {
    "collapsed": false
   }
  },
  {
   "cell_type": "markdown",
   "source": [
    "Not everything finds a match on Nominatim, esp. when there are natural language descriptions.\n",
    "\n",
    "Perhaps we could give it a pass of NER for GEO entities first"
   ],
   "metadata": {
    "collapsed": false
   }
  },
  {
   "cell_type": "code",
   "execution_count": 30,
   "outputs": [
    {
     "data": {
      "text/plain": "                     location_str location_obj\n2           Paris et plein Centre         None\n13  Paris, Mulhouse, sur la route         None",
      "text/html": "<div>\n<style scoped>\n    .dataframe tbody tr th:only-of-type {\n        vertical-align: middle;\n    }\n\n    .dataframe tbody tr th {\n        vertical-align: top;\n    }\n\n    .dataframe thead th {\n        text-align: right;\n    }\n</style>\n<table border=\"1\" class=\"dataframe\">\n  <thead>\n    <tr style=\"text-align: right;\">\n      <th></th>\n      <th>location_str</th>\n      <th>location_obj</th>\n    </tr>\n  </thead>\n  <tbody>\n    <tr>\n      <th>2</th>\n      <td>Paris et plein Centre</td>\n      <td>None</td>\n    </tr>\n    <tr>\n      <th>13</th>\n      <td>Paris, Mulhouse, sur la route</td>\n      <td>None</td>\n    </tr>\n  </tbody>\n</table>\n</div>"
     },
     "execution_count": 30,
     "metadata": {},
     "output_type": "execute_result"
    }
   ],
   "source": [
    "locations[locations.location_obj.isna()]"
   ],
   "metadata": {
    "collapsed": false
   }
  },
  {
   "cell_type": "markdown",
   "source": [
    "The information returned by the `geocode` function is quite limited, because it tries to fit the specific string.\n",
    "For example, states are rarely included in the object. Reverse geocoding helps with generalizing in this case."
   ],
   "metadata": {
    "collapsed": false
   }
  },
  {
   "cell_type": "code",
   "execution_count": 32,
   "outputs": [],
   "source": [
    "# apply the reverse geolocator\n",
    "locations['location_obj_reversed'] = locations.location_obj.apply(partial(reverse_location, geolocator=geolocator))"
   ],
   "metadata": {
    "collapsed": false
   }
  },
  {
   "cell_type": "code",
   "execution_count": 33,
   "outputs": [
    {
     "data": {
      "text/plain": "            railway              road           suburb borough  \\\n0  Unter den Linden  Unter den Linden            Mitte   Mitte   \n1               NaN              D 51              NaN     NaN   \n3               NaN               NaN              NaN     NaN   \n4               NaN               NaN  Tokologo Ward 3     NaN   \n5               NaN   Arapahoe Avenue              NaN     NaN   \n\n                          city ISO3166-2-lvl4 postcode        country  \\\n0                       Berlin          DE-BE    10117    Deutschland   \n1                          NaN         FR-CVL    36230         France   \n3                          NaN          PK-PB    35090        پاکستان   \n4  Tokologo Local Municipality          ZA-FS      NaN   South Africa   \n5                      Boulder          US-CO    80306  United States   \n\n  country_code    village  ...                state                 region  \\\n0           de        NaN  ...                  NaN                    NaN   \n1           fr  Tranzault  ...  Centre-Val de Loire  France métropolitaine   \n3           pk        NaN  ...                پنجاب                    NaN   \n4           za        NaN  ...           Free State                    NaN   \n5           us        NaN  ...             Colorado                    NaN   \n\n            subdistrict house_number tourism neighbourhood ISO3166-2-lvl8  \\\n0                   NaN          NaN     NaN           NaN            NaN   \n1                   NaN          NaN     NaN           NaN            NaN   \n3  Ahmedpur Sial Tehsil          NaN     NaN           NaN            NaN   \n4                   NaN          NaN     NaN           NaN            NaN   \n5                   NaN         1843     NaN           NaN            NaN   \n\n  state_district quarter city_district  \n0            NaN     NaN           NaN  \n1            NaN     NaN           NaN  \n3            NaN     NaN           NaN  \n4            NaN     NaN           NaN  \n5            NaN     NaN           NaN  \n\n[5 rows x 23 columns]",
      "text/html": "<div>\n<style scoped>\n    .dataframe tbody tr th:only-of-type {\n        vertical-align: middle;\n    }\n\n    .dataframe tbody tr th {\n        vertical-align: top;\n    }\n\n    .dataframe thead th {\n        text-align: right;\n    }\n</style>\n<table border=\"1\" class=\"dataframe\">\n  <thead>\n    <tr style=\"text-align: right;\">\n      <th></th>\n      <th>railway</th>\n      <th>road</th>\n      <th>suburb</th>\n      <th>borough</th>\n      <th>city</th>\n      <th>ISO3166-2-lvl4</th>\n      <th>postcode</th>\n      <th>country</th>\n      <th>country_code</th>\n      <th>village</th>\n      <th>...</th>\n      <th>state</th>\n      <th>region</th>\n      <th>subdistrict</th>\n      <th>house_number</th>\n      <th>tourism</th>\n      <th>neighbourhood</th>\n      <th>ISO3166-2-lvl8</th>\n      <th>state_district</th>\n      <th>quarter</th>\n      <th>city_district</th>\n    </tr>\n  </thead>\n  <tbody>\n    <tr>\n      <th>0</th>\n      <td>Unter den Linden</td>\n      <td>Unter den Linden</td>\n      <td>Mitte</td>\n      <td>Mitte</td>\n      <td>Berlin</td>\n      <td>DE-BE</td>\n      <td>10117</td>\n      <td>Deutschland</td>\n      <td>de</td>\n      <td>NaN</td>\n      <td>...</td>\n      <td>NaN</td>\n      <td>NaN</td>\n      <td>NaN</td>\n      <td>NaN</td>\n      <td>NaN</td>\n      <td>NaN</td>\n      <td>NaN</td>\n      <td>NaN</td>\n      <td>NaN</td>\n      <td>NaN</td>\n    </tr>\n    <tr>\n      <th>1</th>\n      <td>NaN</td>\n      <td>D 51</td>\n      <td>NaN</td>\n      <td>NaN</td>\n      <td>NaN</td>\n      <td>FR-CVL</td>\n      <td>36230</td>\n      <td>France</td>\n      <td>fr</td>\n      <td>Tranzault</td>\n      <td>...</td>\n      <td>Centre-Val de Loire</td>\n      <td>France métropolitaine</td>\n      <td>NaN</td>\n      <td>NaN</td>\n      <td>NaN</td>\n      <td>NaN</td>\n      <td>NaN</td>\n      <td>NaN</td>\n      <td>NaN</td>\n      <td>NaN</td>\n    </tr>\n    <tr>\n      <th>3</th>\n      <td>NaN</td>\n      <td>NaN</td>\n      <td>NaN</td>\n      <td>NaN</td>\n      <td>NaN</td>\n      <td>PK-PB</td>\n      <td>35090</td>\n      <td>پاکستان</td>\n      <td>pk</td>\n      <td>NaN</td>\n      <td>...</td>\n      <td>پنجاب</td>\n      <td>NaN</td>\n      <td>Ahmedpur Sial Tehsil</td>\n      <td>NaN</td>\n      <td>NaN</td>\n      <td>NaN</td>\n      <td>NaN</td>\n      <td>NaN</td>\n      <td>NaN</td>\n      <td>NaN</td>\n    </tr>\n    <tr>\n      <th>4</th>\n      <td>NaN</td>\n      <td>NaN</td>\n      <td>Tokologo Ward 3</td>\n      <td>NaN</td>\n      <td>Tokologo Local Municipality</td>\n      <td>ZA-FS</td>\n      <td>NaN</td>\n      <td>South Africa</td>\n      <td>za</td>\n      <td>NaN</td>\n      <td>...</td>\n      <td>Free State</td>\n      <td>NaN</td>\n      <td>NaN</td>\n      <td>NaN</td>\n      <td>NaN</td>\n      <td>NaN</td>\n      <td>NaN</td>\n      <td>NaN</td>\n      <td>NaN</td>\n      <td>NaN</td>\n    </tr>\n    <tr>\n      <th>5</th>\n      <td>NaN</td>\n      <td>Arapahoe Avenue</td>\n      <td>NaN</td>\n      <td>NaN</td>\n      <td>Boulder</td>\n      <td>US-CO</td>\n      <td>80306</td>\n      <td>United States</td>\n      <td>us</td>\n      <td>NaN</td>\n      <td>...</td>\n      <td>Colorado</td>\n      <td>NaN</td>\n      <td>NaN</td>\n      <td>1843</td>\n      <td>NaN</td>\n      <td>NaN</td>\n      <td>NaN</td>\n      <td>NaN</td>\n      <td>NaN</td>\n      <td>NaN</td>\n    </tr>\n  </tbody>\n</table>\n<p>5 rows × 23 columns</p>\n</div>"
     },
     "execution_count": 33,
     "metadata": {},
     "output_type": "execute_result"
    }
   ],
   "source": [
    "# unpack address information\n",
    "addresses = pd.DataFrame(locations.location_obj_reversed.dropna().apply(lambda x:pd.Series(x.raw['address'])))\n",
    "addresses.head()"
   ],
   "metadata": {
    "collapsed": false
   }
  },
  {
   "cell_type": "code",
   "execution_count": 34,
   "outputs": [],
   "source": [
    "# merge with the original dataframe\n",
    "locations = pd.merge(locations, addresses, left_index=True, right_index=True)"
   ],
   "metadata": {
    "collapsed": false
   }
  },
  {
   "cell_type": "code",
   "execution_count": 35,
   "outputs": [
    {
     "data": {
      "text/plain": "           location_str country_code\n0   Berlin, Deutschland           de\n1                France           fr\n3      Punjab, Pakistan           pk\n4          South Africa           za\n5     Boulder, Colorado           us\n6                  NONE           it\n7                London           gb\n8         United States           us\n9              Ethiopia           et\n10             Ethiopia           et\n11                   TΧ           th\n12                 NONE           it\n14               London           gb\n15            Barcelona           es\n16            Liverpool           gb\n17         Bay Area, CA           us",
      "text/html": "<div>\n<style scoped>\n    .dataframe tbody tr th:only-of-type {\n        vertical-align: middle;\n    }\n\n    .dataframe tbody tr th {\n        vertical-align: top;\n    }\n\n    .dataframe thead th {\n        text-align: right;\n    }\n</style>\n<table border=\"1\" class=\"dataframe\">\n  <thead>\n    <tr style=\"text-align: right;\">\n      <th></th>\n      <th>location_str</th>\n      <th>country_code</th>\n    </tr>\n  </thead>\n  <tbody>\n    <tr>\n      <th>0</th>\n      <td>Berlin, Deutschland</td>\n      <td>de</td>\n    </tr>\n    <tr>\n      <th>1</th>\n      <td>France</td>\n      <td>fr</td>\n    </tr>\n    <tr>\n      <th>3</th>\n      <td>Punjab, Pakistan</td>\n      <td>pk</td>\n    </tr>\n    <tr>\n      <th>4</th>\n      <td>South Africa</td>\n      <td>za</td>\n    </tr>\n    <tr>\n      <th>5</th>\n      <td>Boulder, Colorado</td>\n      <td>us</td>\n    </tr>\n    <tr>\n      <th>6</th>\n      <td>NONE</td>\n      <td>it</td>\n    </tr>\n    <tr>\n      <th>7</th>\n      <td>London</td>\n      <td>gb</td>\n    </tr>\n    <tr>\n      <th>8</th>\n      <td>United States</td>\n      <td>us</td>\n    </tr>\n    <tr>\n      <th>9</th>\n      <td>Ethiopia</td>\n      <td>et</td>\n    </tr>\n    <tr>\n      <th>10</th>\n      <td>Ethiopia</td>\n      <td>et</td>\n    </tr>\n    <tr>\n      <th>11</th>\n      <td>TΧ</td>\n      <td>th</td>\n    </tr>\n    <tr>\n      <th>12</th>\n      <td>NONE</td>\n      <td>it</td>\n    </tr>\n    <tr>\n      <th>14</th>\n      <td>London</td>\n      <td>gb</td>\n    </tr>\n    <tr>\n      <th>15</th>\n      <td>Barcelona</td>\n      <td>es</td>\n    </tr>\n    <tr>\n      <th>16</th>\n      <td>Liverpool</td>\n      <td>gb</td>\n    </tr>\n    <tr>\n      <th>17</th>\n      <td>Bay Area, CA</td>\n      <td>us</td>\n    </tr>\n  </tbody>\n</table>\n</div>"
     },
     "execution_count": 35,
     "metadata": {},
     "output_type": "execute_result"
    }
   ],
   "source": [
    "locations[['location_str', 'country_code']]"
   ],
   "metadata": {
    "collapsed": false
   }
  },
  {
   "cell_type": "markdown",
   "source": [
    "some errors appear bizarre -- hard to correct"
   ],
   "metadata": {
    "collapsed": false
   }
  },
  {
   "cell_type": "code",
   "execution_count": 36,
   "outputs": [
    {
     "data": {
      "text/plain": "{'place_id': 43010750,\n 'licence': 'Data © OpenStreetMap contributors, ODbL 1.0. https://osm.org/copyright',\n 'osm_type': 'node',\n 'osm_id': 3641278609,\n 'boundingbox': ['13.7846492', '13.7946492', '100.4346142', '100.4446142'],\n 'lat': '13.7896492',\n 'lon': '100.4396142',\n 'display_name': 'ชุมทางตลิ่งชัน, ทางพิเศษประจิมรัถยา, แขวงตลิ่งชัน, เขตตลิ่งชัน, กรุงเทพมหานคร, 10170, ประเทศไทย',\n 'class': 'railway',\n 'type': 'station',\n 'importance': 0.3740116294168639,\n 'icon': 'https://nominatim.openstreetmap.org/ui/mapicons/transport_train_station2.p.20.png'}"
     },
     "execution_count": 36,
     "metadata": {},
     "output_type": "execute_result"
    }
   ],
   "source": [
    "locations.loc[11].location_obj.raw"
   ],
   "metadata": {
    "collapsed": false
   }
  },
  {
   "cell_type": "code",
   "execution_count": 38,
   "outputs": [],
   "source": [
    "# save data\n",
    "DATA_PATH = 'data'\n",
    "os.makedirs(DATA_PATH, exist_ok=True)\n",
    "locations[['location_str', 'country_code']].to_csv(os.path.join(DATA_PATH, 'bio_country_codes.csv'))\n",
    "locations[['location_str', 'railway',\n",
    "           'road', 'suburb', 'borough', 'city', 'ISO3166-2-lvl4', 'postcode',\n",
    "           'country', 'country_code', 'village', 'municipality', 'county',\n",
    "           'ISO3166-2-lvl6', 'state', 'region', 'subdistrict', 'house_number',\n",
    "           'tourism', 'neighbourhood', 'ISO3166-2-lvl8', 'state_district',\n",
    "           'quarter', 'city_district']].to_csv(os.path.join(DATA_PATH, 'bio_locations.csv'))\n",
    "locations.to_pickle(os.path.join(DATA_PATH, 'bio_locations.pkl'))\n"
   ],
   "metadata": {
    "collapsed": false
   }
  },
  {
   "cell_type": "code",
   "execution_count": 38,
   "outputs": [],
   "source": [],
   "metadata": {
    "collapsed": false
   }
  }
 ],
 "metadata": {
  "kernelspec": {
   "display_name": "Python 3",
   "language": "python",
   "name": "python3"
  },
  "language_info": {
   "codemirror_mode": {
    "name": "ipython",
    "version": 2
   },
   "file_extension": ".py",
   "mimetype": "text/x-python",
   "name": "python",
   "nbconvert_exporter": "python",
   "pygments_lexer": "ipython2",
   "version": "2.7.6"
  }
 },
 "nbformat": 4,
 "nbformat_minor": 0
}
