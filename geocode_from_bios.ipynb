{
 "cells": [
  {
   "cell_type": "code",
   "execution_count": 50,
   "metadata": {
    "collapsed": true
   },
   "outputs": [],
   "source": [
    "import json\n",
    "import os\n",
    "from functools import partial\n",
    "\n",
    "import pandas as pd\n",
    "from backoff import on_exception, expo\n",
    "from geopy.exc import GeocoderUnavailable, GeocoderTimedOut\n",
    "from geopy.geocoders import Nominatim\n",
    "from ratelimit import limits, sleep_and_retry\n",
    "from tqdm import tqdm\n",
    "import pickle"
   ]
  },
  {
   "cell_type": "code",
   "execution_count": 3,
   "outputs": [],
   "source": [
    "DUMMY_LOCATION_STRS = [\"Berlin, Deutschland\",\n",
    "\"France\",\n",
    "\"Paris et plein Centre\",\n",
    "\"Punjab, Pakistan\",\n",
    "\"South Africa\",\n",
    "\"Boulder, Colorado\",\n",
    "\"NONE\",\n",
    "\"London\",\n",
    "\"United States\",\n",
    "\"Ethiopia\",\n",
    "\"Ethiopia\",\n",
    "\"TΧ\",\n",
    "\"NONE\",\n",
    "\"Paris, Mulhouse, sur la route\",\n",
    "\"London\",\n",
    "\"Barcelona\",\n",
    "\"Liverpool\",\n",
    "\"Bay Area, CA\"]"
   ],
   "metadata": {
    "collapsed": false
   }
  },
  {
   "cell_type": "code",
   "execution_count": 4,
   "outputs": [],
   "source": [
    "DATA_PATH = 'data'"
   ],
   "metadata": {
    "collapsed": false
   }
  },
  {
   "cell_type": "code",
   "execution_count": 40,
   "outputs": [],
   "source": [
    "@sleep_and_retry\n",
    "@on_exception(expo, GeocoderTimedOut, max_tries=8)\n",
    "@limits(calls=1, period=1)\n",
    "def get_location(location_str, geolocator, **kwargs):\n",
    "    try:\n",
    "        return geolocator.geocode(location_str, **kwargs)\n",
    "    except GeocoderUnavailable as e:\n",
    "        return None"
   ],
   "metadata": {
    "collapsed": false
   }
  },
  {
   "cell_type": "code",
   "execution_count": 20,
   "outputs": [],
   "source": [
    "@sleep_and_retry\n",
    "@on_exception(expo, GeocoderTimedOut, max_tries=8)\n",
    "@limits(calls=1, period=1)\n",
    "def reverse_location(location_obj, geolocator, **kwargs):\n",
    "    try:\n",
    "        coords = \",\".join((location_obj.raw['lat'], location_obj.raw['lon']))\n",
    "    except AttributeError as e:\n",
    "        return None\n",
    "    try:\n",
    "        return geolocator.reverse(coords, **kwargs)\n",
    "    except GeocoderUnavailable as e:\n",
    "        return None"
   ],
   "metadata": {
    "collapsed": false
   }
  },
  {
   "cell_type": "code",
   "execution_count": 25,
   "outputs": [],
   "source": [
    "def read_locations(users_path=None):\n",
    "    \"\"\"\n",
    "    reads the input data\n",
    "    :return: a dataframe with a column `location_str` containing the description of the location\n",
    "    \"\"\"\n",
    "    if users_path is None:\n",
    "        return pd.DataFrame(DUMMY_LOCATION_STRS, columns=['location_str'], index=range(len(DUMMY_LOCATION_STRS)))\n",
    "    else:\n",
    "        return pd.read_json(os.path.join(DATA_PATH, 'followers_2016_rehydrated.jsonl'),\n",
    "                            lines=True\n",
    "                            ).rename(columns={'location':'location_str'}\n",
    "                                     ).set_index('id').dropna(subset=['location_str'])\n",
    "\n",
    "        # with open(users_path, encoding='utf8') as f:\n",
    "        #     # users = {k:v for l in f for k, v in json.loads(l).items()}\n",
    "        #\n",
    "        #     users = pd.concat(\n",
    "        #         pd.DataFrame([dict(follower, **{'follows':pollster}) for follower in followers])\n",
    "        #         for l in f for pollster, followers in json.loads(l).items()\n",
    "        #     )\n",
    "        # return users\n"
   ],
   "metadata": {
    "collapsed": false
   }
  },
  {
   "cell_type": "code",
   "execution_count": 26,
   "outputs": [],
   "source": [
    "users = read_locations(os.path.join(DATA_PATH, 'followers_2016_rehydrated.jsonl'))"
   ],
   "metadata": {
    "collapsed": false
   }
  },
  {
   "cell_type": "code",
   "execution_count": 27,
   "outputs": [
    {
     "data": {
      "text/plain": "                                                     profile_image_url  \\\nid                                                                       \n1599787232           https://pbs.twimg.com/profile_images/966765484...   \n1549733678233837568  https://pbs.twimg.com/profile_images/155014899...   \n1586767903973511168  https://pbs.twimg.com/profile_images/158859749...   \n1578080496906641408  https://pbs.twimg.com/profile_images/158101944...   \n1550149641823469568  https://pbs.twimg.com/profile_images/155014977...   \n...                                                                ...   \n3941300294           https://pbs.twimg.com/profile_images/832659481...   \n824443214937497600   https://pbs.twimg.com/profile_images/857030758...   \n857648235585740800   https://pbs.twimg.com/profile_images/857651838...   \n2767912537           https://pbs.twimg.com/profile_images/781211374...   \n855446969183068160   https://pbs.twimg.com/profile_images/855447617...   \n\n                            username  \\\nid                                     \n1599787232                  OGUpcoin   \n1549733678233837568  hoffpavir_evely   \n1586767903973511168  richards_moniqu   \n1578080496906641408    angela13poole   \n1550149641823469568     giantstocks_   \n...                              ...   \n3941300294            RigHandSpirits   \n824443214937497600   BLISSMagAlberta   \n857648235585740800         Mizzboogz   \n2767912537               BigAlsSmoke   \n855446969183068160        shuutup_x3   \n\n                                                        public_metrics  \\\nid                                                                       \n1599787232           {'followers_count': 2121, 'following_count': 2...   \n1549733678233837568  {'followers_count': 150, 'following_count': 30...   \n1586767903973511168  {'followers_count': 117, 'following_count': 13...   \n1578080496906641408  {'followers_count': 166, 'following_count': 18...   \n1550149641823469568  {'followers_count': 226, 'following_count': 29...   \n...                                                                ...   \n3941300294           {'followers_count': 3804, 'following_count': 4...   \n824443214937497600   {'followers_count': 462, 'following_count': 13...   \n857648235585740800   {'followers_count': 29, 'following_count': 67,...   \n2767912537           {'followers_count': 23717, 'following_count': ...   \n855446969183068160   {'followers_count': 5, 'following_count': 71, ...   \n\n                                                           description  \\\nid                                                                       \n1599787232           I am the Co-Founder of $UPCOIN the #crypto cur...   \n1549733678233837568                                                      \n1586767903973511168                                                      \n1578080496906641408                                                      \n1550149641823469568  Investor & Trader. My tweets are all IMHO & ma...   \n...                                                                ...   \n3941300294           Pure Alberta Spirits! Vodka, rum, whiskey, moo...   \n824443214937497600   Attain total BLISS - articles featuring #beer ...   \n857648235585740800   Passionate about life and love , lgbt and prou...   \n2767912537           Big Al's Smoke & Gifts is the #1 premier smoke...   \n855446969183068160                                                       \n\n                     protected                created_at  verified  \\\nid                                                                   \n1599787232               False 2013-07-17 02:14:15+00:00     False   \n1549733678233837568      False 2022-07-20 12:31:24+00:00     False   \n1586767903973511168      False 2022-10-30 17:12:46+00:00     False   \n1578080496906641408      False 2022-10-06 17:51:41+00:00     False   \n1550149641823469568      False 2022-07-21 16:04:16+00:00     False   \n...                        ...                       ...       ...   \n3941300294               False 2015-10-19 00:19:13+00:00     False   \n824443214937497600       False 2017-01-26 02:25:54+00:00     False   \n857648235585740800       False 2017-04-27 17:30:48+00:00     False   \n2767912537               False 2014-08-25 20:56:23+00:00     False   \n855446969183068160       False 2017-04-21 15:43:45+00:00     False   \n\n                                         name  pinned_tweet_id  \\\nid                                                               \n1599787232           Glory2GloryStudio 🕊🇺🇸🇺🇦🕊     1.426972e+18   \n1549733678233837568                    Evelyn              NaN   \n1586767903973511168                   Monique              NaN   \n1578080496906641408                    Angela              NaN   \n1550149641823469568                Trader Joe              NaN   \n...                                       ...              ...   \n3941300294                Rig Hand Distillery              NaN   \n824443214937497600             BLISS Magazine     8.877268e+17   \n857648235585740800             Ashley Salazar              NaN   \n2767912537                     Big Al's Smoke              NaN   \n855446969183068160                     Cèline              NaN   \n\n                                                              entities  \\\nid                                                                       \n1599787232           {'url': {'urls': [{'start': 0, 'end': 23, 'url...   \n1549733678233837568  {'url': {'urls': [{'start': 0, 'end': 23, 'url...   \n1586767903973511168  {'url': {'urls': [{'start': 0, 'end': 23, 'url...   \n1578080496906641408  {'url': {'urls': [{'start': 0, 'end': 23, 'url...   \n1550149641823469568  {'description': {'hashtags': [{'start': 75, 'e...   \n...                                                                ...   \n3941300294           {'url': {'urls': [{'start': 0, 'end': 23, 'url...   \n824443214937497600   {'url': {'urls': [{'start': 0, 'end': 23, 'url...   \n857648235585740800   {'description': {'mentions': [{'start': 80, 'e...   \n2767912537           {'url': {'urls': [{'start': 0, 'end': 23, 'url...   \n855446969183068160                                                 NaN   \n\n                            location_str                      url withheld  \nid                                                                          \n1599787232                 United States  https://t.co/0jI9gEozYA      NaN  \n1549733678233837568           Bridgeport  https://t.co/iZAMWhQrsq      NaN  \n1586767903973511168             Murrieta  https://t.co/UEeJUFUrCW      NaN  \n1578080496906641408             Thornton  https://t.co/AlsYzn4XD2      NaN  \n1550149641823469568        United States                      NaN      NaN  \n...                                  ...                      ...      ...  \n3941300294                      Nisku AB  https://t.co/n63s3lApnK      NaN  \n824443214937497600       Alberta, Canada  https://t.co/Xfthprl0Ky      NaN  \n857648235585740800   High River, Alberta                      NaN      NaN  \n2767912537                  Berkeley, CA  https://t.co/Xeb2pE1Luq      NaN  \n855446969183068160      Bienna, Svizzera                      NaN      NaN  \n\n[23786 rows x 13 columns]",
      "text/html": "<div>\n<style scoped>\n    .dataframe tbody tr th:only-of-type {\n        vertical-align: middle;\n    }\n\n    .dataframe tbody tr th {\n        vertical-align: top;\n    }\n\n    .dataframe thead th {\n        text-align: right;\n    }\n</style>\n<table border=\"1\" class=\"dataframe\">\n  <thead>\n    <tr style=\"text-align: right;\">\n      <th></th>\n      <th>profile_image_url</th>\n      <th>username</th>\n      <th>public_metrics</th>\n      <th>description</th>\n      <th>protected</th>\n      <th>created_at</th>\n      <th>verified</th>\n      <th>name</th>\n      <th>pinned_tweet_id</th>\n      <th>entities</th>\n      <th>location_str</th>\n      <th>url</th>\n      <th>withheld</th>\n    </tr>\n    <tr>\n      <th>id</th>\n      <th></th>\n      <th></th>\n      <th></th>\n      <th></th>\n      <th></th>\n      <th></th>\n      <th></th>\n      <th></th>\n      <th></th>\n      <th></th>\n      <th></th>\n      <th></th>\n      <th></th>\n    </tr>\n  </thead>\n  <tbody>\n    <tr>\n      <th>1599787232</th>\n      <td>https://pbs.twimg.com/profile_images/966765484...</td>\n      <td>OGUpcoin</td>\n      <td>{'followers_count': 2121, 'following_count': 2...</td>\n      <td>I am the Co-Founder of $UPCOIN the #crypto cur...</td>\n      <td>False</td>\n      <td>2013-07-17 02:14:15+00:00</td>\n      <td>False</td>\n      <td>Glory2GloryStudio 🕊🇺🇸🇺🇦🕊</td>\n      <td>1.426972e+18</td>\n      <td>{'url': {'urls': [{'start': 0, 'end': 23, 'url...</td>\n      <td>United States</td>\n      <td>https://t.co/0jI9gEozYA</td>\n      <td>NaN</td>\n    </tr>\n    <tr>\n      <th>1549733678233837568</th>\n      <td>https://pbs.twimg.com/profile_images/155014899...</td>\n      <td>hoffpavir_evely</td>\n      <td>{'followers_count': 150, 'following_count': 30...</td>\n      <td></td>\n      <td>False</td>\n      <td>2022-07-20 12:31:24+00:00</td>\n      <td>False</td>\n      <td>Evelyn</td>\n      <td>NaN</td>\n      <td>{'url': {'urls': [{'start': 0, 'end': 23, 'url...</td>\n      <td>Bridgeport</td>\n      <td>https://t.co/iZAMWhQrsq</td>\n      <td>NaN</td>\n    </tr>\n    <tr>\n      <th>1586767903973511168</th>\n      <td>https://pbs.twimg.com/profile_images/158859749...</td>\n      <td>richards_moniqu</td>\n      <td>{'followers_count': 117, 'following_count': 13...</td>\n      <td></td>\n      <td>False</td>\n      <td>2022-10-30 17:12:46+00:00</td>\n      <td>False</td>\n      <td>Monique</td>\n      <td>NaN</td>\n      <td>{'url': {'urls': [{'start': 0, 'end': 23, 'url...</td>\n      <td>Murrieta</td>\n      <td>https://t.co/UEeJUFUrCW</td>\n      <td>NaN</td>\n    </tr>\n    <tr>\n      <th>1578080496906641408</th>\n      <td>https://pbs.twimg.com/profile_images/158101944...</td>\n      <td>angela13poole</td>\n      <td>{'followers_count': 166, 'following_count': 18...</td>\n      <td></td>\n      <td>False</td>\n      <td>2022-10-06 17:51:41+00:00</td>\n      <td>False</td>\n      <td>Angela</td>\n      <td>NaN</td>\n      <td>{'url': {'urls': [{'start': 0, 'end': 23, 'url...</td>\n      <td>Thornton</td>\n      <td>https://t.co/AlsYzn4XD2</td>\n      <td>NaN</td>\n    </tr>\n    <tr>\n      <th>1550149641823469568</th>\n      <td>https://pbs.twimg.com/profile_images/155014977...</td>\n      <td>giantstocks_</td>\n      <td>{'followers_count': 226, 'following_count': 29...</td>\n      <td>Investor &amp; Trader. My tweets are all IMHO &amp; ma...</td>\n      <td>False</td>\n      <td>2022-07-21 16:04:16+00:00</td>\n      <td>False</td>\n      <td>Trader Joe</td>\n      <td>NaN</td>\n      <td>{'description': {'hashtags': [{'start': 75, 'e...</td>\n      <td>United States</td>\n      <td>NaN</td>\n      <td>NaN</td>\n    </tr>\n    <tr>\n      <th>...</th>\n      <td>...</td>\n      <td>...</td>\n      <td>...</td>\n      <td>...</td>\n      <td>...</td>\n      <td>...</td>\n      <td>...</td>\n      <td>...</td>\n      <td>...</td>\n      <td>...</td>\n      <td>...</td>\n      <td>...</td>\n      <td>...</td>\n    </tr>\n    <tr>\n      <th>3941300294</th>\n      <td>https://pbs.twimg.com/profile_images/832659481...</td>\n      <td>RigHandSpirits</td>\n      <td>{'followers_count': 3804, 'following_count': 4...</td>\n      <td>Pure Alberta Spirits! Vodka, rum, whiskey, moo...</td>\n      <td>False</td>\n      <td>2015-10-19 00:19:13+00:00</td>\n      <td>False</td>\n      <td>Rig Hand Distillery</td>\n      <td>NaN</td>\n      <td>{'url': {'urls': [{'start': 0, 'end': 23, 'url...</td>\n      <td>Nisku AB</td>\n      <td>https://t.co/n63s3lApnK</td>\n      <td>NaN</td>\n    </tr>\n    <tr>\n      <th>824443214937497600</th>\n      <td>https://pbs.twimg.com/profile_images/857030758...</td>\n      <td>BLISSMagAlberta</td>\n      <td>{'followers_count': 462, 'following_count': 13...</td>\n      <td>Attain total BLISS - articles featuring #beer ...</td>\n      <td>False</td>\n      <td>2017-01-26 02:25:54+00:00</td>\n      <td>False</td>\n      <td>BLISS Magazine</td>\n      <td>8.877268e+17</td>\n      <td>{'url': {'urls': [{'start': 0, 'end': 23, 'url...</td>\n      <td>Alberta, Canada</td>\n      <td>https://t.co/Xfthprl0Ky</td>\n      <td>NaN</td>\n    </tr>\n    <tr>\n      <th>857648235585740800</th>\n      <td>https://pbs.twimg.com/profile_images/857651838...</td>\n      <td>Mizzboogz</td>\n      <td>{'followers_count': 29, 'following_count': 67,...</td>\n      <td>Passionate about life and love , lgbt and prou...</td>\n      <td>False</td>\n      <td>2017-04-27 17:30:48+00:00</td>\n      <td>False</td>\n      <td>Ashley Salazar</td>\n      <td>NaN</td>\n      <td>{'description': {'mentions': [{'start': 80, 'e...</td>\n      <td>High River, Alberta</td>\n      <td>NaN</td>\n      <td>NaN</td>\n    </tr>\n    <tr>\n      <th>2767912537</th>\n      <td>https://pbs.twimg.com/profile_images/781211374...</td>\n      <td>BigAlsSmoke</td>\n      <td>{'followers_count': 23717, 'following_count': ...</td>\n      <td>Big Al's Smoke &amp; Gifts is the #1 premier smoke...</td>\n      <td>False</td>\n      <td>2014-08-25 20:56:23+00:00</td>\n      <td>False</td>\n      <td>Big Al's Smoke</td>\n      <td>NaN</td>\n      <td>{'url': {'urls': [{'start': 0, 'end': 23, 'url...</td>\n      <td>Berkeley, CA</td>\n      <td>https://t.co/Xeb2pE1Luq</td>\n      <td>NaN</td>\n    </tr>\n    <tr>\n      <th>855446969183068160</th>\n      <td>https://pbs.twimg.com/profile_images/855447617...</td>\n      <td>shuutup_x3</td>\n      <td>{'followers_count': 5, 'following_count': 71, ...</td>\n      <td></td>\n      <td>False</td>\n      <td>2017-04-21 15:43:45+00:00</td>\n      <td>False</td>\n      <td>Cèline</td>\n      <td>NaN</td>\n      <td>NaN</td>\n      <td>Bienna, Svizzera</td>\n      <td>NaN</td>\n      <td>NaN</td>\n    </tr>\n  </tbody>\n</table>\n<p>23786 rows × 13 columns</p>\n</div>"
     },
     "execution_count": 27,
     "metadata": {},
     "output_type": "execute_result"
    }
   ],
   "source": [
    "users"
   ],
   "metadata": {
    "collapsed": false
   }
  },
  {
   "cell_type": "code",
   "execution_count": 28,
   "outputs": [],
   "source": [
    "# read the data\n",
    "locations = read_locations(os.path.join(DATA_PATH, 'followers_2016_rehydrated.jsonl'))\n",
    "# initialize the geolocator service\n",
    "geolocator = Nominatim(user_agent=\"twitter_poll_bio_geocoding_v0.0.1\")\n"
   ],
   "metadata": {
    "collapsed": false
   }
  },
  {
   "cell_type": "code",
   "execution_count": 34,
   "outputs": [],
   "source": [
    "unique_locations = set(locations.location_str.unique())"
   ],
   "metadata": {
    "collapsed": false
   }
  },
  {
   "cell_type": "code",
   "execution_count": 47,
   "outputs": [],
   "source": [
    "resolved = dict()\n",
    "tested = set()\n",
    "timed_out = set()"
   ],
   "metadata": {
    "collapsed": false
   }
  },
  {
   "cell_type": "code",
   "execution_count": 48,
   "outputs": [
    {
     "name": "stderr",
     "output_type": "stream",
     "text": [
      "100%|██████████| 11456/11456 [4:53:29<00:00,  1.54s/it]  \n"
     ]
    }
   ],
   "source": [
    "for location in tqdm(unique_locations):\n",
    "    if location in tested:\n",
    "        continue\n",
    "    try:\n",
    "        resolved[location] = get_location(location, geolocator)\n",
    "    except GeocoderTimedOut as e:\n",
    "        timed_out.add(location)\n",
    "    finally:\n",
    "        tested.add(location)"
   ],
   "metadata": {
    "collapsed": false
   }
  },
  {
   "cell_type": "code",
   "execution_count": 52,
   "outputs": [],
   "source": [
    "# save data\n",
    "with open(os.path.join(DATA_PATH, 'resolved.pkl'), 'wb+') as f:\n",
    "    pickle.dump(resolved, f)\n",
    "with open(os.path.join(DATA_PATH, 'tested.pkl'), 'wb+') as f:\n",
    "    pickle.dump(tested, f)\n",
    "with open(os.path.join(DATA_PATH, 'timed_out.pkl'), 'wb+') as f:\n",
    "    pickle.dump(timed_out, f)"
   ],
   "metadata": {
    "collapsed": false
   }
  },
  {
   "cell_type": "code",
   "execution_count": 53,
   "outputs": [
    {
     "data": {
      "text/plain": "85"
     },
     "execution_count": 53,
     "metadata": {},
     "output_type": "execute_result"
    }
   ],
   "source": [
    "len(timed_out)"
   ],
   "metadata": {
    "collapsed": false
   }
  },
  {
   "cell_type": "code",
   "execution_count": 56,
   "outputs": [],
   "source": [
    "resolved_reverse = dict()\n",
    "tested_reverse = set()\n",
    "timed_out_reverse = set()"
   ],
   "metadata": {
    "collapsed": false
   }
  },
  {
   "cell_type": "code",
   "execution_count": 58,
   "outputs": [
    {
     "name": "stderr",
     "output_type": "stream",
     "text": [
      "100%|██████████| 11371/11371 [2:12:52<00:00,  1.43it/s] \n"
     ]
    }
   ],
   "source": [
    "for location, location_obj in tqdm(resolved.items()):\n",
    "    if location in tested_reverse:\n",
    "        continue\n",
    "    if not location_obj:\n",
    "        continue\n",
    "    try:\n",
    "        resolved_reverse[location] = reverse_location(location_obj, geolocator)\n",
    "    except GeocoderTimedOut as e:\n",
    "        timed_out_reverse.add(location)\n",
    "    finally:\n",
    "        tested_reverse.add(location)\n",
    "\n",
    "# save data\n",
    "with open(os.path.join(DATA_PATH, 'resolved_reverse.pkl'), 'wb+') as f:\n",
    "    pickle.dump(resolved_reverse, f)\n",
    "with open(os.path.join(DATA_PATH, 'tested_reverse.pkl'), 'wb+') as f:\n",
    "    pickle.dump(tested_reverse, f)\n",
    "with open(os.path.join(DATA_PATH, 'timed_out_reverse.pkl'), 'wb+') as f:\n",
    "    pickle.dump(timed_out_reverse, f)"
   ],
   "metadata": {
    "collapsed": false
   }
  },
  {
   "cell_type": "code",
   "execution_count": 60,
   "outputs": [],
   "source": [
    "locations['location_obj'] = locations.location_str.map(resolved)"
   ],
   "metadata": {
    "collapsed": false
   }
  },
  {
   "cell_type": "code",
   "execution_count": 61,
   "outputs": [],
   "source": [
    "# # apply the geolocator\n",
    "# locations['location_obj'] = locations.location_str.apply(partial(get_location, geolocator=geolocator))"
   ],
   "metadata": {
    "collapsed": false
   }
  },
  {
   "cell_type": "markdown",
   "source": [
    "Not everything finds a match on Nominatim, esp. when there are natural language descriptions.\n",
    "\n",
    "Perhaps we could give it a pass of NER for GEO entities first"
   ],
   "metadata": {
    "collapsed": false
   }
  },
  {
   "cell_type": "code",
   "execution_count": 62,
   "outputs": [
    {
     "data": {
      "text/plain": "                                                    profile_image_url  \\\nid                                                                      \n751961088829165568  https://pbs.twimg.com/profile_images/751970961...   \n64699857            https://pbs.twimg.com/profile_images/138706008...   \n66807863            https://pbs.twimg.com/profile_images/158794761...   \n18149467            https://pbs.twimg.com/profile_images/157335018...   \n856527548           https://pbs.twimg.com/profile_images/131668088...   \n...                                                               ...   \n769432417786400768  https://pbs.twimg.com/profile_images/147385500...   \n133330131           https://pbs.twimg.com/profile_images/142134646...   \n560555551           https://pbs.twimg.com/profile_images/115405474...   \n2988888533          https://pbs.twimg.com/profile_images/557760155...   \n2634377088          https://pbs.twimg.com/profile_images/150734556...   \n\n                         username  \\\nid                                  \n751961088829165568     Ariamjen31   \n64699857                writebore   \n66807863            malachiobrien   \n18149467              paulcastain   \n856527548             AdriaanG_LP   \n...                           ...   \n769432417786400768       Huskey1A   \n133330131                777CHACO   \n560555551              organicdot   \n2988888533            WaxSpecials   \n2634377088                 O2vape   \n\n                                                       public_metrics  \\\nid                                                                      \n751961088829165568  {'followers_count': 1112, 'following_count': 1...   \n64699857            {'followers_count': 230, 'following_count': 85...   \n66807863            {'followers_count': 42883, 'following_count': ...   \n18149467            {'followers_count': 107574, 'following_count':...   \n856527548           {'followers_count': 66643, 'following_count': ...   \n...                                                               ...   \n769432417786400768  {'followers_count': 913, 'following_count': 16...   \n133330131           {'followers_count': 1606, 'following_count': 1...   \n560555551           {'followers_count': 2595, 'following_count': 5...   \n2988888533          {'followers_count': 5858, 'following_count': 1...   \n2634377088          {'followers_count': 60282, 'following_count': ...   \n\n                                                          description  \\\nid                                                                      \n751961088829165568                                                      \n64699857            Readingofnovelsshortstoriesnewspapersandmagazi...   \n66807863            FASTING| PRAYER-🏃Unofficial Guinness World Rec...   \n18149467            Builder Of Unstoppable Sales Teams. Sales Trai...   \n856527548           I’m an Activist for: Improved Leadership @Thin...   \n...                                                               ...   \n769432417786400768  Put your FAITH in GOD and his son, our LORD an...   \n133330131           I 'm World Traveler, I see the World with the ...   \n560555551           Organic food and natural health advocate Veget...   \n2988888533              What can I say? I LOVE WEED, MUSIC & CRYPTO 😍   \n2634377088          Your ONLY source for innovative vape products!...   \n\n                    protected                created_at  verified  \\\nid                                                                  \n751961088829165568      False 2016-07-10 02:07:49+00:00     False   \n64699857                False 2009-08-11 12:29:27+00:00     False   \n66807863                False 2009-08-18 21:30:31+00:00     False   \n18149467                False 2008-12-15 23:01:06+00:00     False   \n856527548               False 2012-10-01 15:12:12+00:00     False   \n...                       ...                       ...       ...   \n769432417786400768      False 2016-08-27 07:12:38+00:00     False   \n133330131               False 2010-04-15 14:48:12+00:00     False   \n560555551               False 2012-04-22 19:54:10+00:00     False   \n2988888533              False 2015-01-21 04:39:14+00:00     False   \n2634377088              False 2014-07-13 03:07:14+00:00     False   \n\n                                                              name  \\\nid                                                                   \n751961088829165568                                        𝐀𝐫𝐢𝐚𝐦@𝟎𝟓   \n64699857                                             David Sheahan   \n66807863            DrMalachi.eth - (Dr. Run) - Marathon Every Day   \n18149467                                              Paul Castain   \n856527548                                       Adriaan Groenewald   \n...                                                            ...   \n769432417786400768                                       HuskeyDog   \n133330131                                                    CHACO   \n560555551                                             Dorothy Dent   \n2988888533                                            Wax Specials   \n2634377088                                                  O2VAPE   \n\n                    pinned_tweet_id  \\\nid                                    \n751961088829165568     1.564578e+18   \n64699857               8.358071e+17   \n66807863                        NaN   \n18149467               1.501960e+18   \n856527548                       NaN   \n...                             ...   \n769432417786400768              NaN   \n133330131              1.458844e+18   \n560555551                       NaN   \n2988888533                      NaN   \n2634377088             1.431674e+18   \n\n                                                             entities  \\\nid                                                                      \n751961088829165568                                                NaN   \n64699857                                                          NaN   \n66807863                                                          NaN   \n18149467            {'url': {'urls': [{'start': 0, 'end': 23, 'url...   \n856527548           {'url': {'urls': [{'start': 0, 'end': 23, 'url...   \n...                                                               ...   \n769432417786400768  {'description': {'hashtags': [{'start': 70, 'e...   \n133330131                                                         NaN   \n560555551                                                         NaN   \n2988888533                                                        NaN   \n2634377088          {'url': {'urls': [{'start': 0, 'end': 23, 'url...   \n\n                                      location_str                      url  \\\nid                                                                            \n751961088829165568              Near in the Ocean🌊                      NaN   \n64699857                                   Dedhill                      NaN   \n66807863            Semi-Professional Ultra Runner                      NaN   \n18149467              In A Sales Bullpen Near You!  https://t.co/lAEMwIKJ8J   \n856527548              Global - in the digital age  https://t.co/mxJvL6dNIK   \n...                                            ...                      ...   \n769432417786400768          No Mandates, Missouri                       NaN   \n133330131               Honolulu Hawaii /The Earth                      NaN   \n560555551           California land o’fruits &nuts                      NaN   \n2988888533                          Bay Area, Cali                      NaN   \n2634377088                VETERAN OWNED & OPERATED  https://t.co/xuma0Wmoik   \n\n                   withheld location_obj  \nid                                        \n751961088829165568      NaN         None  \n64699857                NaN         None  \n66807863                NaN         None  \n18149467                NaN         None  \n856527548               NaN         None  \n...                     ...          ...  \n769432417786400768      NaN         None  \n133330131               NaN         None  \n560555551               NaN         None  \n2988888533              NaN         None  \n2634377088              NaN         None  \n\n[2642 rows x 14 columns]",
      "text/html": "<div>\n<style scoped>\n    .dataframe tbody tr th:only-of-type {\n        vertical-align: middle;\n    }\n\n    .dataframe tbody tr th {\n        vertical-align: top;\n    }\n\n    .dataframe thead th {\n        text-align: right;\n    }\n</style>\n<table border=\"1\" class=\"dataframe\">\n  <thead>\n    <tr style=\"text-align: right;\">\n      <th></th>\n      <th>profile_image_url</th>\n      <th>username</th>\n      <th>public_metrics</th>\n      <th>description</th>\n      <th>protected</th>\n      <th>created_at</th>\n      <th>verified</th>\n      <th>name</th>\n      <th>pinned_tweet_id</th>\n      <th>entities</th>\n      <th>location_str</th>\n      <th>url</th>\n      <th>withheld</th>\n      <th>location_obj</th>\n    </tr>\n    <tr>\n      <th>id</th>\n      <th></th>\n      <th></th>\n      <th></th>\n      <th></th>\n      <th></th>\n      <th></th>\n      <th></th>\n      <th></th>\n      <th></th>\n      <th></th>\n      <th></th>\n      <th></th>\n      <th></th>\n      <th></th>\n    </tr>\n  </thead>\n  <tbody>\n    <tr>\n      <th>751961088829165568</th>\n      <td>https://pbs.twimg.com/profile_images/751970961...</td>\n      <td>Ariamjen31</td>\n      <td>{'followers_count': 1112, 'following_count': 1...</td>\n      <td></td>\n      <td>False</td>\n      <td>2016-07-10 02:07:49+00:00</td>\n      <td>False</td>\n      <td>𝐀𝐫𝐢𝐚𝐦@𝟎𝟓</td>\n      <td>1.564578e+18</td>\n      <td>NaN</td>\n      <td>Near in the Ocean🌊</td>\n      <td>NaN</td>\n      <td>NaN</td>\n      <td>None</td>\n    </tr>\n    <tr>\n      <th>64699857</th>\n      <td>https://pbs.twimg.com/profile_images/138706008...</td>\n      <td>writebore</td>\n      <td>{'followers_count': 230, 'following_count': 85...</td>\n      <td>Readingofnovelsshortstoriesnewspapersandmagazi...</td>\n      <td>False</td>\n      <td>2009-08-11 12:29:27+00:00</td>\n      <td>False</td>\n      <td>David Sheahan</td>\n      <td>8.358071e+17</td>\n      <td>NaN</td>\n      <td>Dedhill</td>\n      <td>NaN</td>\n      <td>NaN</td>\n      <td>None</td>\n    </tr>\n    <tr>\n      <th>66807863</th>\n      <td>https://pbs.twimg.com/profile_images/158794761...</td>\n      <td>malachiobrien</td>\n      <td>{'followers_count': 42883, 'following_count': ...</td>\n      <td>FASTING| PRAYER-🏃Unofficial Guinness World Rec...</td>\n      <td>False</td>\n      <td>2009-08-18 21:30:31+00:00</td>\n      <td>False</td>\n      <td>DrMalachi.eth - (Dr. Run) - Marathon Every Day</td>\n      <td>NaN</td>\n      <td>NaN</td>\n      <td>Semi-Professional Ultra Runner</td>\n      <td>NaN</td>\n      <td>NaN</td>\n      <td>None</td>\n    </tr>\n    <tr>\n      <th>18149467</th>\n      <td>https://pbs.twimg.com/profile_images/157335018...</td>\n      <td>paulcastain</td>\n      <td>{'followers_count': 107574, 'following_count':...</td>\n      <td>Builder Of Unstoppable Sales Teams. Sales Trai...</td>\n      <td>False</td>\n      <td>2008-12-15 23:01:06+00:00</td>\n      <td>False</td>\n      <td>Paul Castain</td>\n      <td>1.501960e+18</td>\n      <td>{'url': {'urls': [{'start': 0, 'end': 23, 'url...</td>\n      <td>In A Sales Bullpen Near You!</td>\n      <td>https://t.co/lAEMwIKJ8J</td>\n      <td>NaN</td>\n      <td>None</td>\n    </tr>\n    <tr>\n      <th>856527548</th>\n      <td>https://pbs.twimg.com/profile_images/131668088...</td>\n      <td>AdriaanG_LP</td>\n      <td>{'followers_count': 66643, 'following_count': ...</td>\n      <td>I’m an Activist for: Improved Leadership @Thin...</td>\n      <td>False</td>\n      <td>2012-10-01 15:12:12+00:00</td>\n      <td>False</td>\n      <td>Adriaan Groenewald</td>\n      <td>NaN</td>\n      <td>{'url': {'urls': [{'start': 0, 'end': 23, 'url...</td>\n      <td>Global - in the digital age</td>\n      <td>https://t.co/mxJvL6dNIK</td>\n      <td>NaN</td>\n      <td>None</td>\n    </tr>\n    <tr>\n      <th>...</th>\n      <td>...</td>\n      <td>...</td>\n      <td>...</td>\n      <td>...</td>\n      <td>...</td>\n      <td>...</td>\n      <td>...</td>\n      <td>...</td>\n      <td>...</td>\n      <td>...</td>\n      <td>...</td>\n      <td>...</td>\n      <td>...</td>\n      <td>...</td>\n    </tr>\n    <tr>\n      <th>769432417786400768</th>\n      <td>https://pbs.twimg.com/profile_images/147385500...</td>\n      <td>Huskey1A</td>\n      <td>{'followers_count': 913, 'following_count': 16...</td>\n      <td>Put your FAITH in GOD and his son, our LORD an...</td>\n      <td>False</td>\n      <td>2016-08-27 07:12:38+00:00</td>\n      <td>False</td>\n      <td>HuskeyDog</td>\n      <td>NaN</td>\n      <td>{'description': {'hashtags': [{'start': 70, 'e...</td>\n      <td>No Mandates, Missouri</td>\n      <td>NaN</td>\n      <td>NaN</td>\n      <td>None</td>\n    </tr>\n    <tr>\n      <th>133330131</th>\n      <td>https://pbs.twimg.com/profile_images/142134646...</td>\n      <td>777CHACO</td>\n      <td>{'followers_count': 1606, 'following_count': 1...</td>\n      <td>I 'm World Traveler, I see the World with the ...</td>\n      <td>False</td>\n      <td>2010-04-15 14:48:12+00:00</td>\n      <td>False</td>\n      <td>CHACO</td>\n      <td>1.458844e+18</td>\n      <td>NaN</td>\n      <td>Honolulu Hawaii /The Earth</td>\n      <td>NaN</td>\n      <td>NaN</td>\n      <td>None</td>\n    </tr>\n    <tr>\n      <th>560555551</th>\n      <td>https://pbs.twimg.com/profile_images/115405474...</td>\n      <td>organicdot</td>\n      <td>{'followers_count': 2595, 'following_count': 5...</td>\n      <td>Organic food and natural health advocate Veget...</td>\n      <td>False</td>\n      <td>2012-04-22 19:54:10+00:00</td>\n      <td>False</td>\n      <td>Dorothy Dent</td>\n      <td>NaN</td>\n      <td>NaN</td>\n      <td>California land o’fruits &amp;nuts</td>\n      <td>NaN</td>\n      <td>NaN</td>\n      <td>None</td>\n    </tr>\n    <tr>\n      <th>2988888533</th>\n      <td>https://pbs.twimg.com/profile_images/557760155...</td>\n      <td>WaxSpecials</td>\n      <td>{'followers_count': 5858, 'following_count': 1...</td>\n      <td>What can I say? I LOVE WEED, MUSIC &amp; CRYPTO 😍</td>\n      <td>False</td>\n      <td>2015-01-21 04:39:14+00:00</td>\n      <td>False</td>\n      <td>Wax Specials</td>\n      <td>NaN</td>\n      <td>NaN</td>\n      <td>Bay Area, Cali</td>\n      <td>NaN</td>\n      <td>NaN</td>\n      <td>None</td>\n    </tr>\n    <tr>\n      <th>2634377088</th>\n      <td>https://pbs.twimg.com/profile_images/150734556...</td>\n      <td>O2vape</td>\n      <td>{'followers_count': 60282, 'following_count': ...</td>\n      <td>Your ONLY source for innovative vape products!...</td>\n      <td>False</td>\n      <td>2014-07-13 03:07:14+00:00</td>\n      <td>False</td>\n      <td>O2VAPE</td>\n      <td>1.431674e+18</td>\n      <td>{'url': {'urls': [{'start': 0, 'end': 23, 'url...</td>\n      <td>VETERAN OWNED &amp; OPERATED</td>\n      <td>https://t.co/xuma0Wmoik</td>\n      <td>NaN</td>\n      <td>None</td>\n    </tr>\n  </tbody>\n</table>\n<p>2642 rows × 14 columns</p>\n</div>"
     },
     "execution_count": 62,
     "metadata": {},
     "output_type": "execute_result"
    }
   ],
   "source": [
    "locations[locations.location_obj.isna()]"
   ],
   "metadata": {
    "collapsed": false
   }
  },
  {
   "cell_type": "markdown",
   "source": [
    "The information returned by the `geocode` function is quite limited, because it tries to fit the specific string.\n",
    "For example, states are rarely included in the object. Reverse geocoding helps with generalizing in this case."
   ],
   "metadata": {
    "collapsed": false
   }
  },
  {
   "cell_type": "code",
   "execution_count": 65,
   "outputs": [],
   "source": [
    "locations['location_obj_reversed'] = locations.location_str.map(resolved_reverse)"
   ],
   "metadata": {
    "collapsed": false
   }
  },
  {
   "cell_type": "code",
   "execution_count": 63,
   "outputs": [],
   "source": [
    "# # apply the reverse geolocator\n",
    "# locations['location_obj_reversed'] = locations.location_obj.apply(partial(reverse_location, geolocator=geolocator))"
   ],
   "metadata": {
    "collapsed": false
   }
  },
  {
   "cell_type": "code",
   "execution_count": 66,
   "outputs": [
    {
     "data": {
      "text/plain": "                                     county        state ISO3166-2-lvl4  \\\nid                                                                        \n1599787232                   Decatur County       Kansas          US-KS   \n1549733678233837568  Greater Bridgeport COG  Connecticut          US-CT   \n1586767903973511168        Riverside County   California          US-CA   \n1578080496906641408            Adams County     Colorado          US-CO   \n1550149641823469568          Decatur County       Kansas          US-KS   \n\n                           country country_code  \\\nid                                                \n1599787232           United States           us   \n1549733678233837568  United States           us   \n1586767903973511168  United States           us   \n1578080496906641408  United States           us   \n1550149641823469568  United States           us   \n\n                                                   road  \\\nid                                                        \n1599787232                                          NaN   \n1549733678233837568  Governor John Davis Lodge Turnpike   \n1586767903973511168                       Kalmia Street   \n1578080496906641408                  Civic Center Drive   \n1550149641823469568                                 NaN   \n\n                                      neighbourhood        city postcode  \\\nid                                                                         \n1599787232                                      NaN         NaN      NaN   \n1549733678233837568  Bassickville Historic District  Bridgeport    06601   \n1586767903973511168                             NaN    Murrieta    92562   \n1578080496906641408                             NaN    Thornton    80229   \n1550149641823469568                             NaN         NaN      NaN   \n\n                                   amenity  ... archipelago subward ward  \\\nid                                          ...                            \n1599787232                             NaN  ...         NaN     NaN  NaN   \n1549733678233837568                    NaN  ...         NaN     NaN  NaN   \n1586767903973511168                    NaN  ...         NaN     NaN  NaN   \n1578080496906641408  Thornton Civic Center  ...         NaN     NaN  NaN   \n1550149641823469568                    NaN  ...         NaN     NaN  NaN   \n\n                    square allotments landuse community zone ISO3166-2-lvl10  \\\nid                                                                             \n1599787232             NaN        NaN     NaN       NaN  NaN             NaN   \n1549733678233837568    NaN        NaN     NaN       NaN  NaN             NaN   \n1586767903973511168    NaN        NaN     NaN       NaN  NaN             NaN   \n1578080496906641408    NaN        NaN     NaN       NaN  NaN             NaN   \n1550149641823469568    NaN        NaN     NaN       NaN  NaN             NaN   \n\n                    banner  \nid                          \n1599787232             NaN  \n1549733678233837568    NaN  \n1586767903973511168    NaN  \n1578080496906641408    NaN  \n1550149641823469568    NaN  \n\n[5 rows x 70 columns]",
      "text/html": "<div>\n<style scoped>\n    .dataframe tbody tr th:only-of-type {\n        vertical-align: middle;\n    }\n\n    .dataframe tbody tr th {\n        vertical-align: top;\n    }\n\n    .dataframe thead th {\n        text-align: right;\n    }\n</style>\n<table border=\"1\" class=\"dataframe\">\n  <thead>\n    <tr style=\"text-align: right;\">\n      <th></th>\n      <th>county</th>\n      <th>state</th>\n      <th>ISO3166-2-lvl4</th>\n      <th>country</th>\n      <th>country_code</th>\n      <th>road</th>\n      <th>neighbourhood</th>\n      <th>city</th>\n      <th>postcode</th>\n      <th>amenity</th>\n      <th>...</th>\n      <th>archipelago</th>\n      <th>subward</th>\n      <th>ward</th>\n      <th>square</th>\n      <th>allotments</th>\n      <th>landuse</th>\n      <th>community</th>\n      <th>zone</th>\n      <th>ISO3166-2-lvl10</th>\n      <th>banner</th>\n    </tr>\n    <tr>\n      <th>id</th>\n      <th></th>\n      <th></th>\n      <th></th>\n      <th></th>\n      <th></th>\n      <th></th>\n      <th></th>\n      <th></th>\n      <th></th>\n      <th></th>\n      <th></th>\n      <th></th>\n      <th></th>\n      <th></th>\n      <th></th>\n      <th></th>\n      <th></th>\n      <th></th>\n      <th></th>\n      <th></th>\n      <th></th>\n    </tr>\n  </thead>\n  <tbody>\n    <tr>\n      <th>1599787232</th>\n      <td>Decatur County</td>\n      <td>Kansas</td>\n      <td>US-KS</td>\n      <td>United States</td>\n      <td>us</td>\n      <td>NaN</td>\n      <td>NaN</td>\n      <td>NaN</td>\n      <td>NaN</td>\n      <td>NaN</td>\n      <td>...</td>\n      <td>NaN</td>\n      <td>NaN</td>\n      <td>NaN</td>\n      <td>NaN</td>\n      <td>NaN</td>\n      <td>NaN</td>\n      <td>NaN</td>\n      <td>NaN</td>\n      <td>NaN</td>\n      <td>NaN</td>\n    </tr>\n    <tr>\n      <th>1549733678233837568</th>\n      <td>Greater Bridgeport COG</td>\n      <td>Connecticut</td>\n      <td>US-CT</td>\n      <td>United States</td>\n      <td>us</td>\n      <td>Governor John Davis Lodge Turnpike</td>\n      <td>Bassickville Historic District</td>\n      <td>Bridgeport</td>\n      <td>06601</td>\n      <td>NaN</td>\n      <td>...</td>\n      <td>NaN</td>\n      <td>NaN</td>\n      <td>NaN</td>\n      <td>NaN</td>\n      <td>NaN</td>\n      <td>NaN</td>\n      <td>NaN</td>\n      <td>NaN</td>\n      <td>NaN</td>\n      <td>NaN</td>\n    </tr>\n    <tr>\n      <th>1586767903973511168</th>\n      <td>Riverside County</td>\n      <td>California</td>\n      <td>US-CA</td>\n      <td>United States</td>\n      <td>us</td>\n      <td>Kalmia Street</td>\n      <td>NaN</td>\n      <td>Murrieta</td>\n      <td>92562</td>\n      <td>NaN</td>\n      <td>...</td>\n      <td>NaN</td>\n      <td>NaN</td>\n      <td>NaN</td>\n      <td>NaN</td>\n      <td>NaN</td>\n      <td>NaN</td>\n      <td>NaN</td>\n      <td>NaN</td>\n      <td>NaN</td>\n      <td>NaN</td>\n    </tr>\n    <tr>\n      <th>1578080496906641408</th>\n      <td>Adams County</td>\n      <td>Colorado</td>\n      <td>US-CO</td>\n      <td>United States</td>\n      <td>us</td>\n      <td>Civic Center Drive</td>\n      <td>NaN</td>\n      <td>Thornton</td>\n      <td>80229</td>\n      <td>Thornton Civic Center</td>\n      <td>...</td>\n      <td>NaN</td>\n      <td>NaN</td>\n      <td>NaN</td>\n      <td>NaN</td>\n      <td>NaN</td>\n      <td>NaN</td>\n      <td>NaN</td>\n      <td>NaN</td>\n      <td>NaN</td>\n      <td>NaN</td>\n    </tr>\n    <tr>\n      <th>1550149641823469568</th>\n      <td>Decatur County</td>\n      <td>Kansas</td>\n      <td>US-KS</td>\n      <td>United States</td>\n      <td>us</td>\n      <td>NaN</td>\n      <td>NaN</td>\n      <td>NaN</td>\n      <td>NaN</td>\n      <td>NaN</td>\n      <td>...</td>\n      <td>NaN</td>\n      <td>NaN</td>\n      <td>NaN</td>\n      <td>NaN</td>\n      <td>NaN</td>\n      <td>NaN</td>\n      <td>NaN</td>\n      <td>NaN</td>\n      <td>NaN</td>\n      <td>NaN</td>\n    </tr>\n  </tbody>\n</table>\n<p>5 rows × 70 columns</p>\n</div>"
     },
     "execution_count": 66,
     "metadata": {},
     "output_type": "execute_result"
    }
   ],
   "source": [
    "# unpack address information\n",
    "addresses = pd.DataFrame(locations.location_obj_reversed.dropna().apply(lambda x:pd.Series(x.raw['address'])))\n",
    "addresses.head()"
   ],
   "metadata": {
    "collapsed": false
   }
  },
  {
   "cell_type": "code",
   "execution_count": 67,
   "outputs": [],
   "source": [
    "# merge with the original dataframe\n",
    "locations = pd.merge(locations, addresses, left_index=True, right_index=True)"
   ],
   "metadata": {
    "collapsed": false
   }
  },
  {
   "cell_type": "code",
   "execution_count": 68,
   "outputs": [
    {
     "data": {
      "text/plain": "                            location_str country_code\nid                                                   \n10285                        Orlando, FL           us\n451943                   Perugia - Italy           it\n614543                    Biella - Italy           it\n687203                        London-ish           al\n785595                     Dallas, Texas           us\n...                                  ...          ...\n1613973600650027008           Fresno, CA           us\n1613993985361727488  Bandung, Jawa Barat           id\n1614036014535680000                Egypt           eg\n1614049376480935936                  ATX           kz\n1614093412499685376    Brasilia, Brasile           br\n\n[21641 rows x 2 columns]",
      "text/html": "<div>\n<style scoped>\n    .dataframe tbody tr th:only-of-type {\n        vertical-align: middle;\n    }\n\n    .dataframe tbody tr th {\n        vertical-align: top;\n    }\n\n    .dataframe thead th {\n        text-align: right;\n    }\n</style>\n<table border=\"1\" class=\"dataframe\">\n  <thead>\n    <tr style=\"text-align: right;\">\n      <th></th>\n      <th>location_str</th>\n      <th>country_code</th>\n    </tr>\n    <tr>\n      <th>id</th>\n      <th></th>\n      <th></th>\n    </tr>\n  </thead>\n  <tbody>\n    <tr>\n      <th>10285</th>\n      <td>Orlando, FL</td>\n      <td>us</td>\n    </tr>\n    <tr>\n      <th>451943</th>\n      <td>Perugia - Italy</td>\n      <td>it</td>\n    </tr>\n    <tr>\n      <th>614543</th>\n      <td>Biella - Italy</td>\n      <td>it</td>\n    </tr>\n    <tr>\n      <th>687203</th>\n      <td>London-ish</td>\n      <td>al</td>\n    </tr>\n    <tr>\n      <th>785595</th>\n      <td>Dallas, Texas</td>\n      <td>us</td>\n    </tr>\n    <tr>\n      <th>...</th>\n      <td>...</td>\n      <td>...</td>\n    </tr>\n    <tr>\n      <th>1613973600650027008</th>\n      <td>Fresno, CA</td>\n      <td>us</td>\n    </tr>\n    <tr>\n      <th>1613993985361727488</th>\n      <td>Bandung, Jawa Barat</td>\n      <td>id</td>\n    </tr>\n    <tr>\n      <th>1614036014535680000</th>\n      <td>Egypt</td>\n      <td>eg</td>\n    </tr>\n    <tr>\n      <th>1614049376480935936</th>\n      <td>ATX</td>\n      <td>kz</td>\n    </tr>\n    <tr>\n      <th>1614093412499685376</th>\n      <td>Brasilia, Brasile</td>\n      <td>br</td>\n    </tr>\n  </tbody>\n</table>\n<p>21641 rows × 2 columns</p>\n</div>"
     },
     "execution_count": 68,
     "metadata": {},
     "output_type": "execute_result"
    }
   ],
   "source": [
    "locations[['location_str', 'country_code']]"
   ],
   "metadata": {
    "collapsed": false
   }
  },
  {
   "cell_type": "markdown",
   "source": [
    "some errors appear bizarre -- hard to correct"
   ],
   "metadata": {
    "collapsed": false
   }
  },
  {
   "cell_type": "code",
   "execution_count": 71,
   "outputs": [
    {
     "data": {
      "text/plain": "{'place_id': 52010716,\n 'licence': 'Data © OpenStreetMap contributors, ODbL 1.0. https://osm.org/copyright',\n 'osm_type': 'node',\n 'osm_id': 4602247639,\n 'boundingbox': ['41.3311355', '41.3312355', '19.8173253', '19.8174253'],\n 'lat': '41.3311855',\n 'lon': '19.8173753',\n 'display_name': 'London, Bulevardi Zogu i Parë, Qendra, Njësia Bashkiake Nr. 9, Tiranë, Bashkia Tiranë, Qarku i Tiranës, Shqipëria Qendrore, 1005, Shqipëria',\n 'class': 'amenity',\n 'type': 'cafe',\n 'importance': 0.11000999999999997,\n 'icon': 'https://nominatim.openstreetmap.org/ui/mapicons/food_cafe.p.20.png'}"
     },
     "execution_count": 71,
     "metadata": {},
     "output_type": "execute_result"
    }
   ],
   "source": [
    "locations.loc[687203].location_obj.raw"
   ],
   "metadata": {
    "collapsed": false
   }
  },
  {
   "cell_type": "code",
   "execution_count": 75,
   "outputs": [],
   "source": [
    "def latlong(location_obj):\n",
    "    try:\n",
    "        return pd.Series({'lat':location_obj.raw['lat'], 'lon':location_obj.raw['lon']})\n",
    "    except AttributeError as e:\n",
    "        return pd.Series({'lat':None, 'lon':None})\n",
    "\n",
    "locations = pd.merge(locations, locations.location_obj.apply(latlong), left_index=True, right_index=True)"
   ],
   "metadata": {
    "collapsed": false
   }
  },
  {
   "cell_type": "code",
   "execution_count": 76,
   "outputs": [],
   "source": [
    "# save data\n",
    "os.makedirs(DATA_PATH, exist_ok=True)\n",
    "locations[['location_str', 'country_code']].to_csv(os.path.join(DATA_PATH, 'bio_country_codes.csv'))\n",
    "locations[['location_str', 'railway',\n",
    "           'road', 'suburb', 'borough', 'city', 'ISO3166-2-lvl4', 'postcode',\n",
    "           'country', 'country_code', 'village', 'municipality', 'county',\n",
    "           'ISO3166-2-lvl6', 'state', 'region', 'subdistrict', 'house_number',\n",
    "           'tourism', 'neighbourhood', 'ISO3166-2-lvl8', 'state_district',\n",
    "           'quarter', 'city_district', 'lat', 'lon']].to_csv(os.path.join(DATA_PATH, 'bio_locations.csv'))\n",
    "locations.to_pickle(os.path.join(DATA_PATH, 'bio_locations.pkl'))\n"
   ],
   "metadata": {
    "collapsed": false
   }
  },
  {
   "cell_type": "code",
   "execution_count": null,
   "outputs": [],
   "source": [],
   "metadata": {
    "collapsed": false
   }
  }
 ],
 "metadata": {
  "kernelspec": {
   "display_name": "Python 3",
   "language": "python",
   "name": "python3"
  },
  "language_info": {
   "codemirror_mode": {
    "name": "ipython",
    "version": 2
   },
   "file_extension": ".py",
   "mimetype": "text/x-python",
   "name": "python",
   "nbconvert_exporter": "python",
   "pygments_lexer": "ipython2",
   "version": "2.7.6"
  }
 },
 "nbformat": 4,
 "nbformat_minor": 0
}
