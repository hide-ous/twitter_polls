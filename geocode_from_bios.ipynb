{
 "cells": [
  {
   "cell_type": "code",
   "execution_count": 1,
   "metadata": {
    "collapsed": true
   },
   "outputs": [],
   "source": [
    "import json\n",
    "import os\n",
    "from functools import partial\n",
    "\n",
    "import pandas as pd\n",
    "from backoff import on_exception, expo\n",
    "from geopy import Photon, Point\n",
    "from geopy.exc import GeocoderUnavailable, GeocoderTimedOut\n",
    "from geopy.geocoders import Nominatim\n",
    "from ratelimit import limits, sleep_and_retry\n",
    "from tqdm import tqdm\n",
    "import pickle"
   ]
  },
  {
   "cell_type": "code",
   "execution_count": 2,
   "outputs": [],
   "source": [
    "DUMMY_LOCATION_STRS = [\"Berlin, Deutschland\",\n",
    "\"France\",\n",
    "\"Paris et plein Centre\",\n",
    "\"Punjab, Pakistan\",\n",
    "\"South Africa\",\n",
    "\"Boulder, Colorado\",\n",
    "\"NONE\",\n",
    "\"London\",\n",
    "\"United States\",\n",
    "\"Ethiopia\",\n",
    "\"Ethiopia\",\n",
    "\"TΧ\",\n",
    "\"NONE\",\n",
    "\"Paris, Mulhouse, sur la route\",\n",
    "\"London\",\n",
    "\"Barcelona\",\n",
    "\"Liverpool\",\n",
    "\"Bay Area, CA\"]"
   ],
   "metadata": {
    "collapsed": false
   }
  },
  {
   "cell_type": "code",
   "execution_count": 3,
   "outputs": [],
   "source": [
    "DATA_PATH = 'data'"
   ],
   "metadata": {
    "collapsed": false
   }
  },
  {
   "cell_type": "code",
   "execution_count": 4,
   "outputs": [],
   "source": [
    "# @sleep_and_retry\n",
    "# @on_exception(expo, GeocoderTimedOut, max_tries=8)\n",
    "# @limits(calls=1, period=1)\n",
    "def get_location(location_str, geolocator, **kwargs):\n",
    "    try:\n",
    "        return geolocator.geocode(location_str, **kwargs)\n",
    "    except GeocoderUnavailable as e:\n",
    "        return None"
   ],
   "metadata": {
    "collapsed": false
   }
  },
  {
   "cell_type": "code",
   "execution_count": 5,
   "outputs": [],
   "source": [
    "# @sleep_and_retry\n",
    "# @on_exception(expo, GeocoderTimedOut, max_tries=8)\n",
    "# @limits(calls=1, period=1)\n",
    "def reverse_location(location_obj, geolocator, **kwargs):\n",
    "    try:\n",
    "\n",
    "        # coords = \",\".join(map(str, location_obj.raw['geometry']['coordinates']))\n",
    "        # coords = tuple(location_obj.raw['geometry']['coordinates'])\n",
    "        lon, lat = location_obj.raw['geometry']['coordinates']\n",
    "        coords = Point(lat, lon)\n",
    "    except AttributeError as e:\n",
    "        return None\n",
    "    try:\n",
    "        return geolocator.reverse(coords, **kwargs)\n",
    "    except GeocoderUnavailable as e:\n",
    "        return None"
   ],
   "metadata": {
    "collapsed": false
   }
  },
  {
   "cell_type": "code",
   "execution_count": 6,
   "outputs": [],
   "source": [
    "def read_locations(users_path=None):\n",
    "    \"\"\"\n",
    "    reads the input data\n",
    "    :return: a dataframe with a column `location_str` containing the description of the location\n",
    "    \"\"\"\n",
    "    if users_path is None:\n",
    "        return pd.DataFrame(DUMMY_LOCATION_STRS, columns=['location_str'], index=range(len(DUMMY_LOCATION_STRS)))\n",
    "    else:\n",
    "        return pd.read_json(os.path.join(DATA_PATH, users_path),\n",
    "                            lines=True\n",
    "                            ).rename(columns={'location':'location_str'}\n",
    "                                     ).set_index('id').dropna(subset=['location_str'])\n",
    "\n",
    "        # with open(users_path, encoding='utf8') as f:\n",
    "        #     # users = {k:v for l in f for k, v in json.loads(l).items()}\n",
    "        #\n",
    "        #     users = pd.concat(\n",
    "        #         pd.DataFrame([dict(follower, **{'follows':pollster}) for follower in followers])\n",
    "        #         for l in f for pollster, followers in json.loads(l).items()\n",
    "        #     )\n",
    "        # return users\n"
   ],
   "metadata": {
    "collapsed": false
   }
  },
  {
   "cell_type": "code",
   "execution_count": 7,
   "outputs": [],
   "source": [
    "# users = read_locations(os.path.join(DATA_PATH, 'followers_rehydrated.jsonl'))\n",
    "# # pd.read_json('data/followers_rehydrated.jsonl', lines=True, nrows=100)\n",
    "# users=pd.read_json('data/followers_rehydrated.jsonl',\n",
    "#                             lines=True\n",
    "#                             ).rename(columns={'location':'location_str'}\n",
    "#                                      ).set_index('id').dropna(subset=['location_str'])"
   ],
   "metadata": {
    "collapsed": false
   }
  },
  {
   "cell_type": "code",
   "execution_count": 8,
   "outputs": [],
   "source": [
    "followers = list()\n",
    "with open('data/followers_rehydrated.jsonl') as f:\n",
    "    for l in f:\n",
    "        try:\n",
    "            followers.append(json.loads(l))\n",
    "        except:\n",
    "            print(f\"can't parse {l.strip()}\")"
   ],
   "metadata": {
    "collapsed": false
   }
  },
  {
   "cell_type": "code",
   "execution_count": 9,
   "outputs": [],
   "source": [
    "users = pd.DataFrame(followers).rename(columns={'location':'location_str'}\n",
    "                                     ).set_index('id').dropna(subset=['location_str'])"
   ],
   "metadata": {
    "collapsed": false
   }
  },
  {
   "cell_type": "code",
   "execution_count": 10,
   "outputs": [],
   "source": [
    "del followers"
   ],
   "metadata": {
    "collapsed": false
   }
  },
  {
   "cell_type": "code",
   "execution_count": 11,
   "outputs": [
    {
     "data": {
      "text/plain": "                        name  \\\nid                             \n3070230547           京犬@ポケモン   \n1454016580874997763  Gift So   \n\n                                                     profile_image_url  \\\nid                                                                       \n3070230547           https://pbs.twimg.com/profile_images/852969926...   \n1454016580874997763  https://pbs.twimg.com/profile_images/145401840...   \n\n                                    location_str  \\\nid                                                 \n3070230547                                    日本   \n1454016580874997763  Republic of the Philippines   \n\n                                                        public_metrics  \\\nid                                                                       \n3070230547           {'followers_count': 2422, 'following_count': 2...   \n1454016580874997763  {'followers_count': 6, 'following_count': 93, ...   \n\n                     protected     pinned_tweet_id         username  \\\nid                                                                    \n3070230547               False  799393599917957120         inu_2525   \n1454016580874997763      False                 NaN  hermajestygifty   \n\n                                                           description  \\\nid                                                                       \n3070230547                                   ゲーム垢用。仲良ししてくださいね！ #モンハン女子   \n1454016580874997763  Unwrap the 🎁.                                 ...   \n\n                                   created_at  verified  \\\nid                                                        \n3070230547           2015-03-09T19:15:39.000Z     False   \n1454016580874997763  2021-10-29T09:26:00.000Z     False   \n\n                                                              entities  url  \\\nid                                                                            \n3070230547           {'description': {'hashtags': [{'start': 18, 'e...  NaN   \n1454016580874997763                                                NaN  NaN   \n\n                    withheld  \nid                            \n3070230547               NaN  \n1454016580874997763      NaN  ",
      "text/html": "<div>\n<style scoped>\n    .dataframe tbody tr th:only-of-type {\n        vertical-align: middle;\n    }\n\n    .dataframe tbody tr th {\n        vertical-align: top;\n    }\n\n    .dataframe thead th {\n        text-align: right;\n    }\n</style>\n<table border=\"1\" class=\"dataframe\">\n  <thead>\n    <tr style=\"text-align: right;\">\n      <th></th>\n      <th>name</th>\n      <th>profile_image_url</th>\n      <th>location_str</th>\n      <th>public_metrics</th>\n      <th>protected</th>\n      <th>pinned_tweet_id</th>\n      <th>username</th>\n      <th>description</th>\n      <th>created_at</th>\n      <th>verified</th>\n      <th>entities</th>\n      <th>url</th>\n      <th>withheld</th>\n    </tr>\n    <tr>\n      <th>id</th>\n      <th></th>\n      <th></th>\n      <th></th>\n      <th></th>\n      <th></th>\n      <th></th>\n      <th></th>\n      <th></th>\n      <th></th>\n      <th></th>\n      <th></th>\n      <th></th>\n      <th></th>\n    </tr>\n  </thead>\n  <tbody>\n    <tr>\n      <th>3070230547</th>\n      <td>京犬@ポケモン</td>\n      <td>https://pbs.twimg.com/profile_images/852969926...</td>\n      <td>日本</td>\n      <td>{'followers_count': 2422, 'following_count': 2...</td>\n      <td>False</td>\n      <td>799393599917957120</td>\n      <td>inu_2525</td>\n      <td>ゲーム垢用。仲良ししてくださいね！ #モンハン女子</td>\n      <td>2015-03-09T19:15:39.000Z</td>\n      <td>False</td>\n      <td>{'description': {'hashtags': [{'start': 18, 'e...</td>\n      <td>NaN</td>\n      <td>NaN</td>\n    </tr>\n    <tr>\n      <th>1454016580874997763</th>\n      <td>Gift So</td>\n      <td>https://pbs.twimg.com/profile_images/145401840...</td>\n      <td>Republic of the Philippines</td>\n      <td>{'followers_count': 6, 'following_count': 93, ...</td>\n      <td>False</td>\n      <td>NaN</td>\n      <td>hermajestygifty</td>\n      <td>Unwrap the 🎁.                                 ...</td>\n      <td>2021-10-29T09:26:00.000Z</td>\n      <td>False</td>\n      <td>NaN</td>\n      <td>NaN</td>\n      <td>NaN</td>\n    </tr>\n  </tbody>\n</table>\n</div>"
     },
     "execution_count": 11,
     "metadata": {},
     "output_type": "execute_result"
    }
   ],
   "source": [
    "users.head(2)"
   ],
   "metadata": {
    "collapsed": false
   }
  },
  {
   "cell_type": "code",
   "execution_count": 19,
   "outputs": [],
   "source": [
    "# read the data\n",
    "# locations = read_locations(os.path.join(DATA_PATH, 'followers_rehydrated.jsonl'))\n",
    "locations = users\n",
    "# initialize the geolocator service\n",
    "# geolocator = Nominatim(user_agent=\"twitter_poll_bio_geocoding_v0.0.1\",\n",
    "#                        domain='localhost:8080/nominatim', scheme='http')\n",
    "# geolocator = Nominatim(user_agent=\"twitter_poll_bio_geocoding_v0.0.1\",\n",
    "#                        domain='localhost:8080', scheme='http')\n",
    "geolocator = Photon(user_agent=\"twitter_poll_bio_geocoding_v0.0.1\",\n",
    "                       domain='localhost:2322', scheme='http')"
   ],
   "metadata": {
    "collapsed": false
   }
  },
  {
   "cell_type": "code",
   "execution_count": 20,
   "outputs": [],
   "source": [
    "unique_locations = set(locations.location_str.unique())"
   ],
   "metadata": {
    "collapsed": false
   }
  },
  {
   "cell_type": "code",
   "execution_count": 21,
   "outputs": [
    {
     "data": {
      "text/plain": "6003783"
     },
     "execution_count": 21,
     "metadata": {},
     "output_type": "execute_result"
    }
   ],
   "source": [
    "len(locations)"
   ],
   "metadata": {
    "collapsed": false
   }
  },
  {
   "cell_type": "code",
   "execution_count": 22,
   "outputs": [
    {
     "data": {
      "text/plain": "1131028"
     },
     "execution_count": 22,
     "metadata": {},
     "output_type": "execute_result"
    }
   ],
   "source": [
    "len(unique_locations)"
   ],
   "metadata": {
    "collapsed": false
   }
  },
  {
   "cell_type": "code",
   "execution_count": 23,
   "outputs": [],
   "source": [
    "del locations"
   ],
   "metadata": {
    "collapsed": false
   }
  },
  {
   "cell_type": "code",
   "execution_count": 24,
   "outputs": [],
   "source": [
    "if os.path.exists(os.path.join(DATA_PATH, 'resolved.pkl')):\n",
    "    with open(os.path.join(DATA_PATH, 'resolved.pkl'), 'rb') as f:\n",
    "        resolved = pickle.load(f)\n",
    "else:\n",
    "    resolved = dict()\n",
    "if os.path.exists(os.path.join(DATA_PATH, 'tested.pkl')):\n",
    "    with open(os.path.join(DATA_PATH, 'tested.pkl'), 'rb') as f:\n",
    "        tested = pickle.load(f)\n",
    "else:\n",
    "    tested = set()\n",
    "if os.path.exists(os.path.join(DATA_PATH, 'timed_out.pkl')):\n",
    "    with open(os.path.join(DATA_PATH, 'timed_out.pkl'), 'rb') as f:\n",
    "        timed_out = pickle.load(f)\n",
    "else:\n",
    "    timed_out = set()\n",
    "if os.path.exists(os.path.join(DATA_PATH, 'excepted.pkl')):\n",
    "    with open(os.path.join(DATA_PATH, 'excepted.pkl'), 'rb') as f:\n",
    "        excepted = pickle.load(f)\n",
    "else:\n",
    "    excepted = set()\n"
   ],
   "metadata": {
    "collapsed": false
   }
  },
  {
   "cell_type": "code",
   "execution_count": null,
   "outputs": [
    {
     "name": "stderr",
     "output_type": "stream",
     "text": [
      "6711it [07:22, 49.17it/s]"
     ]
    }
   ],
   "source": [
    "unique_locations = sorted(unique_locations)\n",
    "for i, location in tqdm(enumerate(unique_locations)):\n",
    "    if location in tested:\n",
    "        continue\n",
    "    if (i % 1000) == 0:\n",
    "                # save data\n",
    "        with open(os.path.join(DATA_PATH, 'resolved.pkl'), 'wb+') as f:\n",
    "            pickle.dump(resolved, f)\n",
    "        with open(os.path.join(DATA_PATH, 'tested.pkl'), 'wb+') as f:\n",
    "            pickle.dump(tested, f)\n",
    "        with open(os.path.join(DATA_PATH, 'timed_out.pkl'), 'wb+') as f:\n",
    "            pickle.dump(timed_out, f)\n",
    "        with open(os.path.join(DATA_PATH, 'excepted.pkl'), 'wb+') as f:\n",
    "            pickle.dump(excepted, f)\n",
    "    try:\n",
    "        resolved[location] = get_location(location, geolocator)\n",
    "    except GeocoderTimedOut as e:\n",
    "        timed_out.add(location)\n",
    "    except Exception as e:\n",
    "        excepted.add(location)\n",
    "    finally:\n",
    "        tested.add(location)"
   ],
   "metadata": {
    "collapsed": false,
    "pycharm": {
     "is_executing": true
    }
   }
  },
  {
   "cell_type": "code",
   "execution_count": null,
   "outputs": [],
   "source": [
    "# save data\n",
    "with open(os.path.join(DATA_PATH, 'resolved.pkl'), 'wb+') as f:\n",
    "    pickle.dump(resolved, f)\n",
    "with open(os.path.join(DATA_PATH, 'tested.pkl'), 'wb+') as f:\n",
    "    pickle.dump(tested, f)\n",
    "with open(os.path.join(DATA_PATH, 'timed_out.pkl'), 'wb+') as f:\n",
    "    pickle.dump(timed_out, f)\n",
    "with open(os.path.join(DATA_PATH, 'excepted.pkl'), 'wb+') as f:\n",
    "    pickle.dump(excepted, f)"
   ],
   "metadata": {
    "collapsed": false
   }
  },
  {
   "cell_type": "code",
   "execution_count": null,
   "outputs": [],
   "source": [
    "len(timed_out)"
   ],
   "metadata": {
    "collapsed": false
   }
  },
  {
   "cell_type": "code",
   "execution_count": null,
   "outputs": [],
   "source": [
    "resolved_reverse = dict()\n",
    "tested_reverse = set()\n",
    "timed_out_reverse = set()"
   ],
   "metadata": {
    "collapsed": false
   }
  },
  {
   "cell_type": "code",
   "execution_count": null,
   "outputs": [],
   "source": [
    "for location, location_obj in tqdm(resolved.items()):\n",
    "    if location in tested_reverse:\n",
    "        continue\n",
    "    if not location_obj:\n",
    "        continue\n",
    "    try:\n",
    "        resolved_reverse[location] = reverse_location(location_obj, geolocator)\n",
    "    except GeocoderTimedOut as e:\n",
    "        timed_out_reverse.add(location)\n",
    "    except ValueError as e:\n",
    "        print(location_obj.raw)\n",
    "    finally:\n",
    "        tested_reverse.add(location)\n",
    "\n",
    "# save data\n",
    "with open(os.path.join(DATA_PATH, 'resolved_reverse.pkl'), 'wb+') as f:\n",
    "    pickle.dump(resolved_reverse, f)\n",
    "with open(os.path.join(DATA_PATH, 'tested_reverse.pkl'), 'wb+') as f:\n",
    "    pickle.dump(tested_reverse, f)\n",
    "with open(os.path.join(DATA_PATH, 'timed_out_reverse.pkl'), 'wb+') as f:\n",
    "    pickle.dump(timed_out_reverse, f)"
   ],
   "metadata": {
    "collapsed": false
   }
  },
  {
   "cell_type": "code",
   "execution_count": null,
   "outputs": [],
   "source": [
    "locations['location_obj'] = locations.location_str.map(resolved)"
   ],
   "metadata": {
    "collapsed": false
   }
  },
  {
   "cell_type": "code",
   "execution_count": null,
   "outputs": [],
   "source": [
    "# # apply the geolocator\n",
    "# locations['location_obj'] = locations.location_str.apply(partial(get_location, geolocator=geolocator))"
   ],
   "metadata": {
    "collapsed": false
   }
  },
  {
   "cell_type": "markdown",
   "source": [
    "Not everything finds a match on Nominatim, esp. when there are natural language descriptions.\n",
    "\n",
    "Perhaps we could give it a pass of NER for GEO entities first"
   ],
   "metadata": {
    "collapsed": false
   }
  },
  {
   "cell_type": "code",
   "execution_count": null,
   "outputs": [],
   "source": [
    "locations[locations.location_obj.isna()]"
   ],
   "metadata": {
    "collapsed": false
   }
  },
  {
   "cell_type": "markdown",
   "source": [
    "The information returned by the `geocode` function is quite limited, because it tries to fit the specific string.\n",
    "For example, states are rarely included in the object. Reverse geocoding helps with generalizing in this case."
   ],
   "metadata": {
    "collapsed": false
   }
  },
  {
   "cell_type": "code",
   "execution_count": 65,
   "outputs": [],
   "source": [
    "locations['location_obj_reversed'] = locations.location_str.map(resolved_reverse)"
   ],
   "metadata": {
    "collapsed": false
   }
  },
  {
   "cell_type": "code",
   "execution_count": 63,
   "outputs": [],
   "source": [
    "# # apply the reverse geolocator\n",
    "# locations['location_obj_reversed'] = locations.location_obj.apply(partial(reverse_location, geolocator=geolocator))"
   ],
   "metadata": {
    "collapsed": false
   }
  },
  {
   "cell_type": "code",
   "execution_count": 66,
   "outputs": [
    {
     "data": {
      "text/plain": "                                     county        state ISO3166-2-lvl4  \\\nid                                                                        \n1599787232                   Decatur County       Kansas          US-KS   \n1549733678233837568  Greater Bridgeport COG  Connecticut          US-CT   \n1586767903973511168        Riverside County   California          US-CA   \n1578080496906641408            Adams County     Colorado          US-CO   \n1550149641823469568          Decatur County       Kansas          US-KS   \n\n                           country country_code  \\\nid                                                \n1599787232           United States           us   \n1549733678233837568  United States           us   \n1586767903973511168  United States           us   \n1578080496906641408  United States           us   \n1550149641823469568  United States           us   \n\n                                                   road  \\\nid                                                        \n1599787232                                          NaN   \n1549733678233837568  Governor John Davis Lodge Turnpike   \n1586767903973511168                       Kalmia Street   \n1578080496906641408                  Civic Center Drive   \n1550149641823469568                                 NaN   \n\n                                      neighbourhood        city postcode  \\\nid                                                                         \n1599787232                                      NaN         NaN      NaN   \n1549733678233837568  Bassickville Historic District  Bridgeport    06601   \n1586767903973511168                             NaN    Murrieta    92562   \n1578080496906641408                             NaN    Thornton    80229   \n1550149641823469568                             NaN         NaN      NaN   \n\n                                   amenity  ... archipelago subward ward  \\\nid                                          ...                            \n1599787232                             NaN  ...         NaN     NaN  NaN   \n1549733678233837568                    NaN  ...         NaN     NaN  NaN   \n1586767903973511168                    NaN  ...         NaN     NaN  NaN   \n1578080496906641408  Thornton Civic Center  ...         NaN     NaN  NaN   \n1550149641823469568                    NaN  ...         NaN     NaN  NaN   \n\n                    square allotments landuse community zone ISO3166-2-lvl10  \\\nid                                                                             \n1599787232             NaN        NaN     NaN       NaN  NaN             NaN   \n1549733678233837568    NaN        NaN     NaN       NaN  NaN             NaN   \n1586767903973511168    NaN        NaN     NaN       NaN  NaN             NaN   \n1578080496906641408    NaN        NaN     NaN       NaN  NaN             NaN   \n1550149641823469568    NaN        NaN     NaN       NaN  NaN             NaN   \n\n                    banner  \nid                          \n1599787232             NaN  \n1549733678233837568    NaN  \n1586767903973511168    NaN  \n1578080496906641408    NaN  \n1550149641823469568    NaN  \n\n[5 rows x 70 columns]",
      "text/html": "<div>\n<style scoped>\n    .dataframe tbody tr th:only-of-type {\n        vertical-align: middle;\n    }\n\n    .dataframe tbody tr th {\n        vertical-align: top;\n    }\n\n    .dataframe thead th {\n        text-align: right;\n    }\n</style>\n<table border=\"1\" class=\"dataframe\">\n  <thead>\n    <tr style=\"text-align: right;\">\n      <th></th>\n      <th>county</th>\n      <th>state</th>\n      <th>ISO3166-2-lvl4</th>\n      <th>country</th>\n      <th>country_code</th>\n      <th>road</th>\n      <th>neighbourhood</th>\n      <th>city</th>\n      <th>postcode</th>\n      <th>amenity</th>\n      <th>...</th>\n      <th>archipelago</th>\n      <th>subward</th>\n      <th>ward</th>\n      <th>square</th>\n      <th>allotments</th>\n      <th>landuse</th>\n      <th>community</th>\n      <th>zone</th>\n      <th>ISO3166-2-lvl10</th>\n      <th>banner</th>\n    </tr>\n    <tr>\n      <th>id</th>\n      <th></th>\n      <th></th>\n      <th></th>\n      <th></th>\n      <th></th>\n      <th></th>\n      <th></th>\n      <th></th>\n      <th></th>\n      <th></th>\n      <th></th>\n      <th></th>\n      <th></th>\n      <th></th>\n      <th></th>\n      <th></th>\n      <th></th>\n      <th></th>\n      <th></th>\n      <th></th>\n      <th></th>\n    </tr>\n  </thead>\n  <tbody>\n    <tr>\n      <th>1599787232</th>\n      <td>Decatur County</td>\n      <td>Kansas</td>\n      <td>US-KS</td>\n      <td>United States</td>\n      <td>us</td>\n      <td>NaN</td>\n      <td>NaN</td>\n      <td>NaN</td>\n      <td>NaN</td>\n      <td>NaN</td>\n      <td>...</td>\n      <td>NaN</td>\n      <td>NaN</td>\n      <td>NaN</td>\n      <td>NaN</td>\n      <td>NaN</td>\n      <td>NaN</td>\n      <td>NaN</td>\n      <td>NaN</td>\n      <td>NaN</td>\n      <td>NaN</td>\n    </tr>\n    <tr>\n      <th>1549733678233837568</th>\n      <td>Greater Bridgeport COG</td>\n      <td>Connecticut</td>\n      <td>US-CT</td>\n      <td>United States</td>\n      <td>us</td>\n      <td>Governor John Davis Lodge Turnpike</td>\n      <td>Bassickville Historic District</td>\n      <td>Bridgeport</td>\n      <td>06601</td>\n      <td>NaN</td>\n      <td>...</td>\n      <td>NaN</td>\n      <td>NaN</td>\n      <td>NaN</td>\n      <td>NaN</td>\n      <td>NaN</td>\n      <td>NaN</td>\n      <td>NaN</td>\n      <td>NaN</td>\n      <td>NaN</td>\n      <td>NaN</td>\n    </tr>\n    <tr>\n      <th>1586767903973511168</th>\n      <td>Riverside County</td>\n      <td>California</td>\n      <td>US-CA</td>\n      <td>United States</td>\n      <td>us</td>\n      <td>Kalmia Street</td>\n      <td>NaN</td>\n      <td>Murrieta</td>\n      <td>92562</td>\n      <td>NaN</td>\n      <td>...</td>\n      <td>NaN</td>\n      <td>NaN</td>\n      <td>NaN</td>\n      <td>NaN</td>\n      <td>NaN</td>\n      <td>NaN</td>\n      <td>NaN</td>\n      <td>NaN</td>\n      <td>NaN</td>\n      <td>NaN</td>\n    </tr>\n    <tr>\n      <th>1578080496906641408</th>\n      <td>Adams County</td>\n      <td>Colorado</td>\n      <td>US-CO</td>\n      <td>United States</td>\n      <td>us</td>\n      <td>Civic Center Drive</td>\n      <td>NaN</td>\n      <td>Thornton</td>\n      <td>80229</td>\n      <td>Thornton Civic Center</td>\n      <td>...</td>\n      <td>NaN</td>\n      <td>NaN</td>\n      <td>NaN</td>\n      <td>NaN</td>\n      <td>NaN</td>\n      <td>NaN</td>\n      <td>NaN</td>\n      <td>NaN</td>\n      <td>NaN</td>\n      <td>NaN</td>\n    </tr>\n    <tr>\n      <th>1550149641823469568</th>\n      <td>Decatur County</td>\n      <td>Kansas</td>\n      <td>US-KS</td>\n      <td>United States</td>\n      <td>us</td>\n      <td>NaN</td>\n      <td>NaN</td>\n      <td>NaN</td>\n      <td>NaN</td>\n      <td>NaN</td>\n      <td>...</td>\n      <td>NaN</td>\n      <td>NaN</td>\n      <td>NaN</td>\n      <td>NaN</td>\n      <td>NaN</td>\n      <td>NaN</td>\n      <td>NaN</td>\n      <td>NaN</td>\n      <td>NaN</td>\n      <td>NaN</td>\n    </tr>\n  </tbody>\n</table>\n<p>5 rows × 70 columns</p>\n</div>"
     },
     "execution_count": 66,
     "metadata": {},
     "output_type": "execute_result"
    }
   ],
   "source": [
    "# unpack address information\n",
    "addresses = pd.DataFrame(locations.location_obj_reversed.dropna().apply(lambda x:pd.Series(x.raw['address'])))\n",
    "addresses.head()"
   ],
   "metadata": {
    "collapsed": false
   }
  },
  {
   "cell_type": "code",
   "execution_count": 67,
   "outputs": [],
   "source": [
    "# merge with the original dataframe\n",
    "locations = pd.merge(locations, addresses, left_index=True, right_index=True)"
   ],
   "metadata": {
    "collapsed": false
   }
  },
  {
   "cell_type": "code",
   "execution_count": 68,
   "outputs": [
    {
     "data": {
      "text/plain": "                            location_str country_code\nid                                                   \n10285                        Orlando, FL           us\n451943                   Perugia - Italy           it\n614543                    Biella - Italy           it\n687203                        London-ish           al\n785595                     Dallas, Texas           us\n...                                  ...          ...\n1613973600650027008           Fresno, CA           us\n1613993985361727488  Bandung, Jawa Barat           id\n1614036014535680000                Egypt           eg\n1614049376480935936                  ATX           kz\n1614093412499685376    Brasilia, Brasile           br\n\n[21641 rows x 2 columns]",
      "text/html": "<div>\n<style scoped>\n    .dataframe tbody tr th:only-of-type {\n        vertical-align: middle;\n    }\n\n    .dataframe tbody tr th {\n        vertical-align: top;\n    }\n\n    .dataframe thead th {\n        text-align: right;\n    }\n</style>\n<table border=\"1\" class=\"dataframe\">\n  <thead>\n    <tr style=\"text-align: right;\">\n      <th></th>\n      <th>location_str</th>\n      <th>country_code</th>\n    </tr>\n    <tr>\n      <th>id</th>\n      <th></th>\n      <th></th>\n    </tr>\n  </thead>\n  <tbody>\n    <tr>\n      <th>10285</th>\n      <td>Orlando, FL</td>\n      <td>us</td>\n    </tr>\n    <tr>\n      <th>451943</th>\n      <td>Perugia - Italy</td>\n      <td>it</td>\n    </tr>\n    <tr>\n      <th>614543</th>\n      <td>Biella - Italy</td>\n      <td>it</td>\n    </tr>\n    <tr>\n      <th>687203</th>\n      <td>London-ish</td>\n      <td>al</td>\n    </tr>\n    <tr>\n      <th>785595</th>\n      <td>Dallas, Texas</td>\n      <td>us</td>\n    </tr>\n    <tr>\n      <th>...</th>\n      <td>...</td>\n      <td>...</td>\n    </tr>\n    <tr>\n      <th>1613973600650027008</th>\n      <td>Fresno, CA</td>\n      <td>us</td>\n    </tr>\n    <tr>\n      <th>1613993985361727488</th>\n      <td>Bandung, Jawa Barat</td>\n      <td>id</td>\n    </tr>\n    <tr>\n      <th>1614036014535680000</th>\n      <td>Egypt</td>\n      <td>eg</td>\n    </tr>\n    <tr>\n      <th>1614049376480935936</th>\n      <td>ATX</td>\n      <td>kz</td>\n    </tr>\n    <tr>\n      <th>1614093412499685376</th>\n      <td>Brasilia, Brasile</td>\n      <td>br</td>\n    </tr>\n  </tbody>\n</table>\n<p>21641 rows × 2 columns</p>\n</div>"
     },
     "execution_count": 68,
     "metadata": {},
     "output_type": "execute_result"
    }
   ],
   "source": [
    "locations[['location_str', 'country_code']]"
   ],
   "metadata": {
    "collapsed": false
   }
  },
  {
   "cell_type": "markdown",
   "source": [
    "some errors appear bizarre -- hard to correct"
   ],
   "metadata": {
    "collapsed": false
   }
  },
  {
   "cell_type": "code",
   "execution_count": 71,
   "outputs": [
    {
     "data": {
      "text/plain": "{'place_id': 52010716,\n 'licence': 'Data © OpenStreetMap contributors, ODbL 1.0. https://osm.org/copyright',\n 'osm_type': 'node',\n 'osm_id': 4602247639,\n 'boundingbox': ['41.3311355', '41.3312355', '19.8173253', '19.8174253'],\n 'lat': '41.3311855',\n 'lon': '19.8173753',\n 'display_name': 'London, Bulevardi Zogu i Parë, Qendra, Njësia Bashkiake Nr. 9, Tiranë, Bashkia Tiranë, Qarku i Tiranës, Shqipëria Qendrore, 1005, Shqipëria',\n 'class': 'amenity',\n 'type': 'cafe',\n 'importance': 0.11000999999999997,\n 'icon': 'https://nominatim.openstreetmap.org/ui/mapicons/food_cafe.p.20.png'}"
     },
     "execution_count": 71,
     "metadata": {},
     "output_type": "execute_result"
    }
   ],
   "source": [
    "locations.loc[687203].location_obj.raw"
   ],
   "metadata": {
    "collapsed": false
   }
  },
  {
   "cell_type": "code",
   "execution_count": 75,
   "outputs": [],
   "source": [
    "def latlong(location_obj):\n",
    "    try:\n",
    "        return pd.Series({'lat':location_obj.raw['lat'], 'lon':location_obj.raw['lon']})\n",
    "    except AttributeError as e:\n",
    "        return pd.Series({'lat':None, 'lon':None})\n",
    "\n",
    "locations = pd.merge(locations, locations.location_obj.apply(latlong), left_index=True, right_index=True)"
   ],
   "metadata": {
    "collapsed": false
   }
  },
  {
   "cell_type": "code",
   "execution_count": 76,
   "outputs": [],
   "source": [
    "# save data\n",
    "os.makedirs(DATA_PATH, exist_ok=True)\n",
    "locations[['location_str', 'country_code']].to_csv(os.path.join(DATA_PATH, 'bio_country_codes.csv'))\n",
    "locations[['location_str', 'railway',\n",
    "           'road', 'suburb', 'borough', 'city', 'ISO3166-2-lvl4', 'postcode',\n",
    "           'country', 'country_code', 'village', 'municipality', 'county',\n",
    "           'ISO3166-2-lvl6', 'state', 'region', 'subdistrict', 'house_number',\n",
    "           'tourism', 'neighbourhood', 'ISO3166-2-lvl8', 'state_district',\n",
    "           'quarter', 'city_district', 'lat', 'lon']].to_csv(os.path.join(DATA_PATH, 'bio_locations.csv'))\n",
    "locations.to_pickle(os.path.join(DATA_PATH, 'bio_locations.pkl'))\n"
   ],
   "metadata": {
    "collapsed": false
   }
  },
  {
   "cell_type": "code",
   "execution_count": 79,
   "outputs": [
    {
     "data": {
      "text/plain": "country_code\nus    17169\ngb     2261\nca     1078\nit      843\nin      821\n      ...  \nbt        1\nmc        1\nbz        1\nmg        1\ncv        1\nLength: 177, dtype: int64"
     },
     "execution_count": 79,
     "metadata": {},
     "output_type": "execute_result"
    }
   ],
   "source": [
    "locations.groupby('country_code').size().sort_values(ascending=False)"
   ],
   "metadata": {
    "collapsed": false
   }
  },
  {
   "cell_type": "code",
   "execution_count": 83,
   "outputs": [
    {
     "data": {
      "text/plain": "state\nGeorgia                         2986\nKansas                          2907\nCalifornia                      1928\nFlorida                         1609\nMassachusetts                    742\nNew York                         719\nNorth Carolina                   361\nNew Jersey                       361\nOhio                             343\nArizona                          337\nIllinois                         315\nPennsylvania                     272\nNevada                           260\nTennessee                        230\nMichigan                         191\nDistrict of Columbia             182\nOregon                           164\nWashington                       160\nIndiana                          155\nVirginia                         147\nMissouri                         147\nColorado                         146\nUtah                             143\nAlabama                          132\nMaryland                         130\nOklahoma                         130\nWisconsin                        109\nKentucky                         107\nMinnesota                        103\nSouth Carolina                    96\nArkansas                          62\nLouisiana                         57\nConnecticut                       55\nNew Hampshire                     53\nMississippi                       49\nIdaho                             49\nNew Mexico                        47\nIowa                              45\nNebraska                          45\nMaine                             44\nNorth Dakota                      37\nRhode Island                      35\nWest Virginia                     28\nTexas                             28\nMontana                           23\nHawaii                            23\nWyoming                           21\nPuerto Rico                       19\nDelaware                          18\nGuam                              14\nAlaska                            13\nSouth Dakota                      11\nVermont                            9\nNorthern Mariana Islands           4\nUnited States Virgin Islands       1\ndtype: int64"
     },
     "execution_count": 83,
     "metadata": {},
     "output_type": "execute_result"
    }
   ],
   "source": [
    "locations[locations.country_code=='us'].groupby('state').size().sort_values(ascending=False)"
   ],
   "metadata": {
    "collapsed": false
   }
  },
  {
   "cell_type": "code",
   "execution_count": null,
   "outputs": [],
   "source": [],
   "metadata": {
    "collapsed": false
   }
  }
 ],
 "metadata": {
  "kernelspec": {
   "display_name": "Python 3",
   "language": "python",
   "name": "python3"
  },
  "language_info": {
   "codemirror_mode": {
    "name": "ipython",
    "version": 2
   },
   "file_extension": ".py",
   "mimetype": "text/x-python",
   "name": "python",
   "nbconvert_exporter": "python",
   "pygments_lexer": "ipython2",
   "version": "2.7.6"
  }
 },
 "nbformat": 4,
 "nbformat_minor": 0
}
