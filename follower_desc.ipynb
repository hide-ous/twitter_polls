{
 "cells": [
  {
   "cell_type": "code",
   "execution_count": 56,
   "metadata": {
    "collapsed": true
   },
   "outputs": [],
   "source": [
    "import os\n",
    "import re\n",
    "\n",
    "import pandas as pd\n",
    "from sklearn.feature_extraction.text import HashingVectorizer\n",
    "from sklearn.decomposition import FactorAnalysis, TruncatedSVD\n"
   ]
  },
  {
   "cell_type": "code",
   "execution_count": 19,
   "outputs": [],
   "source": [
    "DATA_PATH = 'data'\n",
    "\n",
    "df = pd.read_json(os.path.join(DATA_PATH, 'followers_2016_rehydrated.jsonl'),\n",
    "                            lines=True\n",
    "                            ).set_index('id')"
   ],
   "metadata": {
    "collapsed": false
   }
  },
  {
   "cell_type": "code",
   "execution_count": 20,
   "outputs": [
    {
     "data": {
      "text/plain": "                                                     profile_image_url  \\\nid                                                                       \n1596715669684363264  https://pbs.twimg.com/profile_images/160820000...   \n1599548681694466048  https://pbs.twimg.com/profile_images/159954889...   \n1557880267653533696  https://pbs.twimg.com/profile_images/155788042...   \n1559378560384507904  https://pbs.twimg.com/profile_images/155937871...   \n1588616089159843840  https://pbs.twimg.com/profile_images/158861629...   \n\n                            username  \\\nid                                     \n1596715669684363264   Alyssa12348597   \n1599548681694466048      ElisaFenlon   \n1557880267653533696    AleciaDelbene   \n1559378560384507904  CharleighPotti1   \n1588616089159843840  CatherineSeagr8   \n\n                                                        public_metrics  \\\nid                                                                       \n1596715669684363264  {'followers_count': 149, 'following_count': 35...   \n1599548681694466048  {'followers_count': 3, 'following_count': 304,...   \n1557880267653533696  {'followers_count': 37, 'following_count': 169...   \n1559378560384507904  {'followers_count': 33, 'following_count': 163...   \n1588616089159843840  {'followers_count': 12, 'following_count': 703...   \n\n                                                           description  \\\nid                                                                       \n1596715669684363264  Like fitness do yoga, Play golf for fun not pr...   \n1599548681694466048                                                      \n1557880267653533696                                 🙊Trampoline🧡Artist   \n1559378560384507904                                                      \n1588616089159843840                                                      \n\n                     protected                created_at  verified  \\\nid                                                                   \n1596715669684363264      False 2022-11-27 04:01:08+00:00     False   \n1599548681694466048      False 2022-12-04 23:38:49+00:00     False   \n1557880267653533696      False 2022-08-12 00:03:04+00:00     False   \n1559378560384507904      False 2022-08-16 03:16:45+00:00     False   \n1588616089159843840      False 2022-11-04 19:36:17+00:00     False   \n\n                                    name  pinned_tweet_id entities location  \\\nid                                                                            \n1596715669684363264     Beautiful flower              NaN      NaN      NaN   \n1599548681694466048         Elisa Fenlon              NaN      NaN      NaN   \n1557880267653533696       Alecia Delbene              NaN      NaN      NaN   \n1559378560384507904    Charleigh Pottier              NaN      NaN      NaN   \n1588616089159843840  Catherine Seagroves              NaN      NaN      NaN   \n\n                     url withheld  \nid                                 \n1596715669684363264  NaN      NaN  \n1599548681694466048  NaN      NaN  \n1557880267653533696  NaN      NaN  \n1559378560384507904  NaN      NaN  \n1588616089159843840  NaN      NaN  ",
      "text/html": "<div>\n<style scoped>\n    .dataframe tbody tr th:only-of-type {\n        vertical-align: middle;\n    }\n\n    .dataframe tbody tr th {\n        vertical-align: top;\n    }\n\n    .dataframe thead th {\n        text-align: right;\n    }\n</style>\n<table border=\"1\" class=\"dataframe\">\n  <thead>\n    <tr style=\"text-align: right;\">\n      <th></th>\n      <th>profile_image_url</th>\n      <th>username</th>\n      <th>public_metrics</th>\n      <th>description</th>\n      <th>protected</th>\n      <th>created_at</th>\n      <th>verified</th>\n      <th>name</th>\n      <th>pinned_tweet_id</th>\n      <th>entities</th>\n      <th>location</th>\n      <th>url</th>\n      <th>withheld</th>\n    </tr>\n    <tr>\n      <th>id</th>\n      <th></th>\n      <th></th>\n      <th></th>\n      <th></th>\n      <th></th>\n      <th></th>\n      <th></th>\n      <th></th>\n      <th></th>\n      <th></th>\n      <th></th>\n      <th></th>\n      <th></th>\n    </tr>\n  </thead>\n  <tbody>\n    <tr>\n      <th>1596715669684363264</th>\n      <td>https://pbs.twimg.com/profile_images/160820000...</td>\n      <td>Alyssa12348597</td>\n      <td>{'followers_count': 149, 'following_count': 35...</td>\n      <td>Like fitness do yoga, Play golf for fun not pr...</td>\n      <td>False</td>\n      <td>2022-11-27 04:01:08+00:00</td>\n      <td>False</td>\n      <td>Beautiful flower</td>\n      <td>NaN</td>\n      <td>NaN</td>\n      <td>NaN</td>\n      <td>NaN</td>\n      <td>NaN</td>\n    </tr>\n    <tr>\n      <th>1599548681694466048</th>\n      <td>https://pbs.twimg.com/profile_images/159954889...</td>\n      <td>ElisaFenlon</td>\n      <td>{'followers_count': 3, 'following_count': 304,...</td>\n      <td></td>\n      <td>False</td>\n      <td>2022-12-04 23:38:49+00:00</td>\n      <td>False</td>\n      <td>Elisa Fenlon</td>\n      <td>NaN</td>\n      <td>NaN</td>\n      <td>NaN</td>\n      <td>NaN</td>\n      <td>NaN</td>\n    </tr>\n    <tr>\n      <th>1557880267653533696</th>\n      <td>https://pbs.twimg.com/profile_images/155788042...</td>\n      <td>AleciaDelbene</td>\n      <td>{'followers_count': 37, 'following_count': 169...</td>\n      <td>🙊Trampoline🧡Artist</td>\n      <td>False</td>\n      <td>2022-08-12 00:03:04+00:00</td>\n      <td>False</td>\n      <td>Alecia Delbene</td>\n      <td>NaN</td>\n      <td>NaN</td>\n      <td>NaN</td>\n      <td>NaN</td>\n      <td>NaN</td>\n    </tr>\n    <tr>\n      <th>1559378560384507904</th>\n      <td>https://pbs.twimg.com/profile_images/155937871...</td>\n      <td>CharleighPotti1</td>\n      <td>{'followers_count': 33, 'following_count': 163...</td>\n      <td></td>\n      <td>False</td>\n      <td>2022-08-16 03:16:45+00:00</td>\n      <td>False</td>\n      <td>Charleigh Pottier</td>\n      <td>NaN</td>\n      <td>NaN</td>\n      <td>NaN</td>\n      <td>NaN</td>\n      <td>NaN</td>\n    </tr>\n    <tr>\n      <th>1588616089159843840</th>\n      <td>https://pbs.twimg.com/profile_images/158861629...</td>\n      <td>CatherineSeagr8</td>\n      <td>{'followers_count': 12, 'following_count': 703...</td>\n      <td></td>\n      <td>False</td>\n      <td>2022-11-04 19:36:17+00:00</td>\n      <td>False</td>\n      <td>Catherine Seagroves</td>\n      <td>NaN</td>\n      <td>NaN</td>\n      <td>NaN</td>\n      <td>NaN</td>\n      <td>NaN</td>\n    </tr>\n  </tbody>\n</table>\n</div>"
     },
     "execution_count": 20,
     "metadata": {},
     "output_type": "execute_result"
    }
   ],
   "source": [
    "df.head()"
   ],
   "metadata": {
    "collapsed": false
   }
  },
  {
   "cell_type": "code",
   "execution_count": 21,
   "outputs": [
    {
     "data": {
      "text/plain": "                                                     profile_image_url  \\\nid                                                                       \n1596715669684363264  https://pbs.twimg.com/profile_images/160820000...   \n1599548681694466048  https://pbs.twimg.com/profile_images/159954889...   \n1557880267653533696  https://pbs.twimg.com/profile_images/155788042...   \n1559378560384507904  https://pbs.twimg.com/profile_images/155937871...   \n1588616089159843840  https://pbs.twimg.com/profile_images/158861629...   \n...                                                                ...   \n824443214937497600   https://pbs.twimg.com/profile_images/857030758...   \n857648235585740800   https://pbs.twimg.com/profile_images/857651838...   \n2767912537           https://pbs.twimg.com/profile_images/781211374...   \n856170519036612608   https://abs.twimg.com/sticky/default_profile_i...   \n855446969183068160   https://pbs.twimg.com/profile_images/855447617...   \n\n                            username  \\\nid                                     \n1596715669684363264   Alyssa12348597   \n1599548681694466048      ElisaFenlon   \n1557880267653533696    AleciaDelbene   \n1559378560384507904  CharleighPotti1   \n1588616089159843840  CatherineSeagr8   \n...                              ...   \n824443214937497600   BLISSMagAlberta   \n857648235585740800         Mizzboogz   \n2767912537               BigAlsSmoke   \n856170519036612608        FurrerLynn   \n855446969183068160        shuutup_x3   \n\n                                                        public_metrics  \\\nid                                                                       \n1596715669684363264  {'followers_count': 149, 'following_count': 35...   \n1599548681694466048  {'followers_count': 3, 'following_count': 304,...   \n1557880267653533696  {'followers_count': 37, 'following_count': 169...   \n1559378560384507904  {'followers_count': 33, 'following_count': 163...   \n1588616089159843840  {'followers_count': 12, 'following_count': 703...   \n...                                                                ...   \n824443214937497600   {'followers_count': 462, 'following_count': 13...   \n857648235585740800   {'followers_count': 29, 'following_count': 67,...   \n2767912537           {'followers_count': 23717, 'following_count': ...   \n856170519036612608   {'followers_count': 2, 'following_count': 58, ...   \n855446969183068160   {'followers_count': 5, 'following_count': 71, ...   \n\n                                                           description  \\\nid                                                                       \n1596715669684363264  Like fitness do yoga, Play golf for fun not pr...   \n1599548681694466048                                                      \n1557880267653533696                                 🙊Trampoline🧡Artist   \n1559378560384507904                                                      \n1588616089159843840                                                      \n...                                                                ...   \n824443214937497600   Attain total BLISS - articles featuring #beer ...   \n857648235585740800   Passionate about life and love , lgbt and prou...   \n2767912537           Big Al's Smoke & Gifts is the #1 premier smoke...   \n856170519036612608                                                       \n855446969183068160                                                       \n\n                     protected                created_at  verified  \\\nid                                                                   \n1596715669684363264      False 2022-11-27 04:01:08+00:00     False   \n1599548681694466048      False 2022-12-04 23:38:49+00:00     False   \n1557880267653533696      False 2022-08-12 00:03:04+00:00     False   \n1559378560384507904      False 2022-08-16 03:16:45+00:00     False   \n1588616089159843840      False 2022-11-04 19:36:17+00:00     False   \n...                        ...                       ...       ...   \n824443214937497600       False 2017-01-26 02:25:54+00:00     False   \n857648235585740800       False 2017-04-27 17:30:48+00:00     False   \n2767912537               False 2014-08-25 20:56:23+00:00     False   \n856170519036612608       False 2017-04-23 15:38:53+00:00     False   \n855446969183068160       False 2017-04-21 15:43:45+00:00     False   \n\n                                    name  pinned_tweet_id  \\\nid                                                          \n1596715669684363264     Beautiful flower              NaN   \n1599548681694466048         Elisa Fenlon              NaN   \n1557880267653533696       Alecia Delbene              NaN   \n1559378560384507904    Charleigh Pottier              NaN   \n1588616089159843840  Catherine Seagroves              NaN   \n...                                  ...              ...   \n824443214937497600        BLISS Magazine     8.877268e+17   \n857648235585740800        Ashley Salazar              NaN   \n2767912537                Big Al's Smoke              NaN   \n856170519036612608           Lynn Furrer              NaN   \n855446969183068160                Cèline              NaN   \n\n                                                              entities  \\\nid                                                                       \n1596715669684363264                                                NaN   \n1599548681694466048                                                NaN   \n1557880267653533696                                                NaN   \n1559378560384507904                                                NaN   \n1588616089159843840                                                NaN   \n...                                                                ...   \n824443214937497600   {'url': {'urls': [{'start': 0, 'end': 23, 'url...   \n857648235585740800   {'description': {'mentions': [{'start': 80, 'e...   \n2767912537           {'url': {'urls': [{'start': 0, 'end': 23, 'url...   \n856170519036612608                                                 NaN   \n855446969183068160                                                 NaN   \n\n                                location                      url withheld  \nid                                                                          \n1596715669684363264                  NaN                      NaN      NaN  \n1599548681694466048                  NaN                      NaN      NaN  \n1557880267653533696                  NaN                      NaN      NaN  \n1559378560384507904                  NaN                      NaN      NaN  \n1588616089159843840                  NaN                      NaN      NaN  \n...                                  ...                      ...      ...  \n824443214937497600       Alberta, Canada  https://t.co/Xfthprl0Ky      NaN  \n857648235585740800   High River, Alberta                      NaN      NaN  \n2767912537                  Berkeley, CA  https://t.co/Xeb2pE1Luq      NaN  \n856170519036612608                   NaN                      NaN      NaN  \n855446969183068160      Bienna, Svizzera                      NaN      NaN  \n\n[44590 rows x 13 columns]",
      "text/html": "<div>\n<style scoped>\n    .dataframe tbody tr th:only-of-type {\n        vertical-align: middle;\n    }\n\n    .dataframe tbody tr th {\n        vertical-align: top;\n    }\n\n    .dataframe thead th {\n        text-align: right;\n    }\n</style>\n<table border=\"1\" class=\"dataframe\">\n  <thead>\n    <tr style=\"text-align: right;\">\n      <th></th>\n      <th>profile_image_url</th>\n      <th>username</th>\n      <th>public_metrics</th>\n      <th>description</th>\n      <th>protected</th>\n      <th>created_at</th>\n      <th>verified</th>\n      <th>name</th>\n      <th>pinned_tweet_id</th>\n      <th>entities</th>\n      <th>location</th>\n      <th>url</th>\n      <th>withheld</th>\n    </tr>\n    <tr>\n      <th>id</th>\n      <th></th>\n      <th></th>\n      <th></th>\n      <th></th>\n      <th></th>\n      <th></th>\n      <th></th>\n      <th></th>\n      <th></th>\n      <th></th>\n      <th></th>\n      <th></th>\n      <th></th>\n    </tr>\n  </thead>\n  <tbody>\n    <tr>\n      <th>1596715669684363264</th>\n      <td>https://pbs.twimg.com/profile_images/160820000...</td>\n      <td>Alyssa12348597</td>\n      <td>{'followers_count': 149, 'following_count': 35...</td>\n      <td>Like fitness do yoga, Play golf for fun not pr...</td>\n      <td>False</td>\n      <td>2022-11-27 04:01:08+00:00</td>\n      <td>False</td>\n      <td>Beautiful flower</td>\n      <td>NaN</td>\n      <td>NaN</td>\n      <td>NaN</td>\n      <td>NaN</td>\n      <td>NaN</td>\n    </tr>\n    <tr>\n      <th>1599548681694466048</th>\n      <td>https://pbs.twimg.com/profile_images/159954889...</td>\n      <td>ElisaFenlon</td>\n      <td>{'followers_count': 3, 'following_count': 304,...</td>\n      <td></td>\n      <td>False</td>\n      <td>2022-12-04 23:38:49+00:00</td>\n      <td>False</td>\n      <td>Elisa Fenlon</td>\n      <td>NaN</td>\n      <td>NaN</td>\n      <td>NaN</td>\n      <td>NaN</td>\n      <td>NaN</td>\n    </tr>\n    <tr>\n      <th>1557880267653533696</th>\n      <td>https://pbs.twimg.com/profile_images/155788042...</td>\n      <td>AleciaDelbene</td>\n      <td>{'followers_count': 37, 'following_count': 169...</td>\n      <td>🙊Trampoline🧡Artist</td>\n      <td>False</td>\n      <td>2022-08-12 00:03:04+00:00</td>\n      <td>False</td>\n      <td>Alecia Delbene</td>\n      <td>NaN</td>\n      <td>NaN</td>\n      <td>NaN</td>\n      <td>NaN</td>\n      <td>NaN</td>\n    </tr>\n    <tr>\n      <th>1559378560384507904</th>\n      <td>https://pbs.twimg.com/profile_images/155937871...</td>\n      <td>CharleighPotti1</td>\n      <td>{'followers_count': 33, 'following_count': 163...</td>\n      <td></td>\n      <td>False</td>\n      <td>2022-08-16 03:16:45+00:00</td>\n      <td>False</td>\n      <td>Charleigh Pottier</td>\n      <td>NaN</td>\n      <td>NaN</td>\n      <td>NaN</td>\n      <td>NaN</td>\n      <td>NaN</td>\n    </tr>\n    <tr>\n      <th>1588616089159843840</th>\n      <td>https://pbs.twimg.com/profile_images/158861629...</td>\n      <td>CatherineSeagr8</td>\n      <td>{'followers_count': 12, 'following_count': 703...</td>\n      <td></td>\n      <td>False</td>\n      <td>2022-11-04 19:36:17+00:00</td>\n      <td>False</td>\n      <td>Catherine Seagroves</td>\n      <td>NaN</td>\n      <td>NaN</td>\n      <td>NaN</td>\n      <td>NaN</td>\n      <td>NaN</td>\n    </tr>\n    <tr>\n      <th>...</th>\n      <td>...</td>\n      <td>...</td>\n      <td>...</td>\n      <td>...</td>\n      <td>...</td>\n      <td>...</td>\n      <td>...</td>\n      <td>...</td>\n      <td>...</td>\n      <td>...</td>\n      <td>...</td>\n      <td>...</td>\n      <td>...</td>\n    </tr>\n    <tr>\n      <th>824443214937497600</th>\n      <td>https://pbs.twimg.com/profile_images/857030758...</td>\n      <td>BLISSMagAlberta</td>\n      <td>{'followers_count': 462, 'following_count': 13...</td>\n      <td>Attain total BLISS - articles featuring #beer ...</td>\n      <td>False</td>\n      <td>2017-01-26 02:25:54+00:00</td>\n      <td>False</td>\n      <td>BLISS Magazine</td>\n      <td>8.877268e+17</td>\n      <td>{'url': {'urls': [{'start': 0, 'end': 23, 'url...</td>\n      <td>Alberta, Canada</td>\n      <td>https://t.co/Xfthprl0Ky</td>\n      <td>NaN</td>\n    </tr>\n    <tr>\n      <th>857648235585740800</th>\n      <td>https://pbs.twimg.com/profile_images/857651838...</td>\n      <td>Mizzboogz</td>\n      <td>{'followers_count': 29, 'following_count': 67,...</td>\n      <td>Passionate about life and love , lgbt and prou...</td>\n      <td>False</td>\n      <td>2017-04-27 17:30:48+00:00</td>\n      <td>False</td>\n      <td>Ashley Salazar</td>\n      <td>NaN</td>\n      <td>{'description': {'mentions': [{'start': 80, 'e...</td>\n      <td>High River, Alberta</td>\n      <td>NaN</td>\n      <td>NaN</td>\n    </tr>\n    <tr>\n      <th>2767912537</th>\n      <td>https://pbs.twimg.com/profile_images/781211374...</td>\n      <td>BigAlsSmoke</td>\n      <td>{'followers_count': 23717, 'following_count': ...</td>\n      <td>Big Al's Smoke &amp; Gifts is the #1 premier smoke...</td>\n      <td>False</td>\n      <td>2014-08-25 20:56:23+00:00</td>\n      <td>False</td>\n      <td>Big Al's Smoke</td>\n      <td>NaN</td>\n      <td>{'url': {'urls': [{'start': 0, 'end': 23, 'url...</td>\n      <td>Berkeley, CA</td>\n      <td>https://t.co/Xeb2pE1Luq</td>\n      <td>NaN</td>\n    </tr>\n    <tr>\n      <th>856170519036612608</th>\n      <td>https://abs.twimg.com/sticky/default_profile_i...</td>\n      <td>FurrerLynn</td>\n      <td>{'followers_count': 2, 'following_count': 58, ...</td>\n      <td></td>\n      <td>False</td>\n      <td>2017-04-23 15:38:53+00:00</td>\n      <td>False</td>\n      <td>Lynn Furrer</td>\n      <td>NaN</td>\n      <td>NaN</td>\n      <td>NaN</td>\n      <td>NaN</td>\n      <td>NaN</td>\n    </tr>\n    <tr>\n      <th>855446969183068160</th>\n      <td>https://pbs.twimg.com/profile_images/855447617...</td>\n      <td>shuutup_x3</td>\n      <td>{'followers_count': 5, 'following_count': 71, ...</td>\n      <td></td>\n      <td>False</td>\n      <td>2017-04-21 15:43:45+00:00</td>\n      <td>False</td>\n      <td>Cèline</td>\n      <td>NaN</td>\n      <td>NaN</td>\n      <td>Bienna, Svizzera</td>\n      <td>NaN</td>\n      <td>NaN</td>\n    </tr>\n  </tbody>\n</table>\n<p>44590 rows × 13 columns</p>\n</div>"
     },
     "execution_count": 21,
     "metadata": {},
     "output_type": "execute_result"
    }
   ],
   "source": [
    "df[~df.description.isna()]"
   ],
   "metadata": {
    "collapsed": false
   }
  },
  {
   "cell_type": "code",
   "execution_count": 54,
   "outputs": [],
   "source": [
    "remove_urls = lambda stringliteral: re.sub(r'http\\S+', '', stringliteral)"
   ],
   "metadata": {
    "collapsed": false
   }
  },
  {
   "cell_type": "code",
   "execution_count": 57,
   "outputs": [],
   "source": [
    "descs = df.description.dropna().apply(remove_urls).str.strip()"
   ],
   "metadata": {
    "collapsed": false
   }
  },
  {
   "cell_type": "code",
   "execution_count": 58,
   "outputs": [],
   "source": [
    "descs = descs[descs.str.len()>0]"
   ],
   "metadata": {
    "collapsed": false
   }
  },
  {
   "cell_type": "code",
   "execution_count": 59,
   "outputs": [],
   "source": [
    "vec = HashingVectorizer(stop_words='english', n_features=10**4)"
   ],
   "metadata": {
    "collapsed": false
   }
  },
  {
   "cell_type": "code",
   "execution_count": 60,
   "outputs": [],
   "source": [
    "descs_vec = vec.fit_transform(descs)"
   ],
   "metadata": {
    "collapsed": false
   }
  },
  {
   "cell_type": "code",
   "execution_count": 61,
   "outputs": [
    {
     "data": {
      "text/plain": "<29449x10000 sparse matrix of type '<class 'numpy.float64'>'\n\twith 240381 stored elements in Compressed Sparse Row format>"
     },
     "execution_count": 61,
     "metadata": {},
     "output_type": "execute_result"
    }
   ],
   "source": [
    "descs_vec"
   ],
   "metadata": {
    "collapsed": false
   }
  },
  {
   "cell_type": "code",
   "execution_count": 68,
   "outputs": [],
   "source": [
    "svd = TruncatedSVD(n_components=3)"
   ],
   "metadata": {
    "collapsed": false
   }
  },
  {
   "cell_type": "code",
   "execution_count": 69,
   "outputs": [],
   "source": [
    "descs_svd = svd.fit_transform(descs_vec)"
   ],
   "metadata": {
    "collapsed": false
   }
  },
  {
   "cell_type": "code",
   "execution_count": 72,
   "outputs": [],
   "source": [
    "descs_df = pd.DataFrame(descs_svd, columns=['component1', 'component2', 'component3'], index=descs.index)"
   ],
   "metadata": {
    "collapsed": false
   }
  },
  {
   "cell_type": "code",
   "execution_count": 73,
   "outputs": [],
   "source": [
    "descs_df['desc'] = descs"
   ],
   "metadata": {
    "collapsed": false
   }
  },
  {
   "cell_type": "code",
   "execution_count": 74,
   "outputs": [
    {
     "data": {
      "text/plain": "                     component1                                           desc\nid                                                                            \n1041659562221162496    0.352973                                          LIFE👌\n169189767              0.352973                                        MY LIFE\n1563861351117774848    0.352973                            Everything in life…\n3668114774             0.328663                 Life Is Life, God is Great 👌 👌\n706366726682705920     0.290830  A life without cause is a life without effect\n...                         ...                                            ...\n1191761651017691136    0.855076                                    I love LOVE\n742642138177933312     0.855076                                     I love you\n490148865              0.855076                                         ♥ Love\n1216658117028646912    0.855076                                       One love\n1407967752             0.855076                              love to every one\n\n[30201 rows x 2 columns]",
      "text/html": "<div>\n<style scoped>\n    .dataframe tbody tr th:only-of-type {\n        vertical-align: middle;\n    }\n\n    .dataframe tbody tr th {\n        vertical-align: top;\n    }\n\n    .dataframe thead th {\n        text-align: right;\n    }\n</style>\n<table border=\"1\" class=\"dataframe\">\n  <thead>\n    <tr style=\"text-align: right;\">\n      <th></th>\n      <th>component1</th>\n      <th>desc</th>\n    </tr>\n    <tr>\n      <th>id</th>\n      <th></th>\n      <th></th>\n    </tr>\n  </thead>\n  <tbody>\n    <tr>\n      <th>1041659562221162496</th>\n      <td>0.352973</td>\n      <td>LIFE👌</td>\n    </tr>\n    <tr>\n      <th>169189767</th>\n      <td>0.352973</td>\n      <td>MY LIFE</td>\n    </tr>\n    <tr>\n      <th>1563861351117774848</th>\n      <td>0.352973</td>\n      <td>Everything in life…</td>\n    </tr>\n    <tr>\n      <th>3668114774</th>\n      <td>0.328663</td>\n      <td>Life Is Life, God is Great 👌 👌</td>\n    </tr>\n    <tr>\n      <th>706366726682705920</th>\n      <td>0.290830</td>\n      <td>A life without cause is a life without effect</td>\n    </tr>\n    <tr>\n      <th>...</th>\n      <td>...</td>\n      <td>...</td>\n    </tr>\n    <tr>\n      <th>1191761651017691136</th>\n      <td>0.855076</td>\n      <td>I love LOVE</td>\n    </tr>\n    <tr>\n      <th>742642138177933312</th>\n      <td>0.855076</td>\n      <td>I love you</td>\n    </tr>\n    <tr>\n      <th>490148865</th>\n      <td>0.855076</td>\n      <td>♥ Love</td>\n    </tr>\n    <tr>\n      <th>1216658117028646912</th>\n      <td>0.855076</td>\n      <td>One love</td>\n    </tr>\n    <tr>\n      <th>1407967752</th>\n      <td>0.855076</td>\n      <td>love to every one</td>\n    </tr>\n  </tbody>\n</table>\n<p>30201 rows × 2 columns</p>\n</div>"
     },
     "execution_count": 74,
     "metadata": {},
     "output_type": "execute_result"
    }
   ],
   "source": [
    "descs_df.loc[descs_df.component2.sort_values(ascending=False).index, ['component1', 'desc']]"
   ],
   "metadata": {
    "collapsed": false
   }
  },
  {
   "cell_type": "code",
   "execution_count": 76,
   "outputs": [
    {
     "data": {
      "text/plain": "                     component2  \\\nid                                \n177683234             -0.215536   \n755967018717720576    -0.461123   \n1572628003753967616   -0.461123   \n1701243529            -0.461123   \n4530295034            -0.461123   \n...                         ...   \n3078559381             0.145249   \n759084188029030400     0.135100   \n167488086              0.126769   \n24677924               0.200546   \n858815523634728960     0.207616   \n\n                                                                  desc  \nid                                                                      \n177683234            I love life, I love music,I love food,I love B...  \n755967018717720576                                          I Love me.  \n1572628003753967616                                             LOVE💚🙏  \n1701243529           I DO, I DO, I DO,, I DO IT FOR YOU!... LOVE YO...  \n4530295034                    love yourself more than they ever could.  \n...                                                                ...  \n3078559381           God loving and Pink Floyd. Conservative belief...  \n759084188029030400   @dohertyshannen my amazing and beautiful idol ...  \n167488086            soy un amor , inténtalo una y mil veces mas ha...  \n24677924                         Leafs fan, lawn bowler, walker, DSPer  \n858815523634728960   @NICKIMINAJ and @Carmelo_WWE stan 🦄 Queen foll...  \n\n[30201 rows x 2 columns]",
      "text/html": "<div>\n<style scoped>\n    .dataframe tbody tr th:only-of-type {\n        vertical-align: middle;\n    }\n\n    .dataframe tbody tr th {\n        vertical-align: top;\n    }\n\n    .dataframe thead th {\n        text-align: right;\n    }\n</style>\n<table border=\"1\" class=\"dataframe\">\n  <thead>\n    <tr style=\"text-align: right;\">\n      <th></th>\n      <th>component2</th>\n      <th>desc</th>\n    </tr>\n    <tr>\n      <th>id</th>\n      <th></th>\n      <th></th>\n    </tr>\n  </thead>\n  <tbody>\n    <tr>\n      <th>177683234</th>\n      <td>-0.215536</td>\n      <td>I love life, I love music,I love food,I love B...</td>\n    </tr>\n    <tr>\n      <th>755967018717720576</th>\n      <td>-0.461123</td>\n      <td>I Love me.</td>\n    </tr>\n    <tr>\n      <th>1572628003753967616</th>\n      <td>-0.461123</td>\n      <td>LOVE💚🙏</td>\n    </tr>\n    <tr>\n      <th>1701243529</th>\n      <td>-0.461123</td>\n      <td>I DO, I DO, I DO,, I DO IT FOR YOU!... LOVE YO...</td>\n    </tr>\n    <tr>\n      <th>4530295034</th>\n      <td>-0.461123</td>\n      <td>love yourself more than they ever could.</td>\n    </tr>\n    <tr>\n      <th>...</th>\n      <td>...</td>\n      <td>...</td>\n    </tr>\n    <tr>\n      <th>3078559381</th>\n      <td>0.145249</td>\n      <td>God loving and Pink Floyd. Conservative belief...</td>\n    </tr>\n    <tr>\n      <th>759084188029030400</th>\n      <td>0.135100</td>\n      <td>@dohertyshannen my amazing and beautiful idol ...</td>\n    </tr>\n    <tr>\n      <th>167488086</th>\n      <td>0.126769</td>\n      <td>soy un amor , inténtalo una y mil veces mas ha...</td>\n    </tr>\n    <tr>\n      <th>24677924</th>\n      <td>0.200546</td>\n      <td>Leafs fan, lawn bowler, walker, DSPer</td>\n    </tr>\n    <tr>\n      <th>858815523634728960</th>\n      <td>0.207616</td>\n      <td>@NICKIMINAJ and @Carmelo_WWE stan 🦄 Queen foll...</td>\n    </tr>\n  </tbody>\n</table>\n<p>30201 rows × 2 columns</p>\n</div>"
     },
     "execution_count": 76,
     "metadata": {},
     "output_type": "execute_result"
    }
   ],
   "source": [
    "descs_df.loc[descs_df.component1.sort_values(ascending=False).index, ['component2', 'desc']]\n"
   ],
   "metadata": {
    "collapsed": false
   }
  },
  {
   "cell_type": "code",
   "execution_count": 77,
   "outputs": [
    {
     "data": {
      "text/plain": "                     component3  \\\nid                                \n177683234              0.153722   \n755967018717720576     0.127824   \n1572628003753967616    0.127824   \n1701243529             0.127824   \n4530295034             0.127824   \n...                         ...   \n3078559381            -0.069309   \n759084188029030400    -0.052998   \n167488086             -0.042409   \n24677924              -0.102644   \n858815523634728960    -0.062474   \n\n                                                                  desc  \nid                                                                      \n177683234            I love life, I love music,I love food,I love B...  \n755967018717720576                                          I Love me.  \n1572628003753967616                                             LOVE💚🙏  \n1701243529           I DO, I DO, I DO,, I DO IT FOR YOU!... LOVE YO...  \n4530295034                    love yourself more than they ever could.  \n...                                                                ...  \n3078559381           God loving and Pink Floyd. Conservative belief...  \n759084188029030400   @dohertyshannen my amazing and beautiful idol ...  \n167488086            soy un amor , inténtalo una y mil veces mas ha...  \n24677924                         Leafs fan, lawn bowler, walker, DSPer  \n858815523634728960   @NICKIMINAJ and @Carmelo_WWE stan 🦄 Queen foll...  \n\n[30201 rows x 2 columns]",
      "text/html": "<div>\n<style scoped>\n    .dataframe tbody tr th:only-of-type {\n        vertical-align: middle;\n    }\n\n    .dataframe tbody tr th {\n        vertical-align: top;\n    }\n\n    .dataframe thead th {\n        text-align: right;\n    }\n</style>\n<table border=\"1\" class=\"dataframe\">\n  <thead>\n    <tr style=\"text-align: right;\">\n      <th></th>\n      <th>component3</th>\n      <th>desc</th>\n    </tr>\n    <tr>\n      <th>id</th>\n      <th></th>\n      <th></th>\n    </tr>\n  </thead>\n  <tbody>\n    <tr>\n      <th>177683234</th>\n      <td>0.153722</td>\n      <td>I love life, I love music,I love food,I love B...</td>\n    </tr>\n    <tr>\n      <th>755967018717720576</th>\n      <td>0.127824</td>\n      <td>I Love me.</td>\n    </tr>\n    <tr>\n      <th>1572628003753967616</th>\n      <td>0.127824</td>\n      <td>LOVE💚🙏</td>\n    </tr>\n    <tr>\n      <th>1701243529</th>\n      <td>0.127824</td>\n      <td>I DO, I DO, I DO,, I DO IT FOR YOU!... LOVE YO...</td>\n    </tr>\n    <tr>\n      <th>4530295034</th>\n      <td>0.127824</td>\n      <td>love yourself more than they ever could.</td>\n    </tr>\n    <tr>\n      <th>...</th>\n      <td>...</td>\n      <td>...</td>\n    </tr>\n    <tr>\n      <th>3078559381</th>\n      <td>-0.069309</td>\n      <td>God loving and Pink Floyd. Conservative belief...</td>\n    </tr>\n    <tr>\n      <th>759084188029030400</th>\n      <td>-0.052998</td>\n      <td>@dohertyshannen my amazing and beautiful idol ...</td>\n    </tr>\n    <tr>\n      <th>167488086</th>\n      <td>-0.042409</td>\n      <td>soy un amor , inténtalo una y mil veces mas ha...</td>\n    </tr>\n    <tr>\n      <th>24677924</th>\n      <td>-0.102644</td>\n      <td>Leafs fan, lawn bowler, walker, DSPer</td>\n    </tr>\n    <tr>\n      <th>858815523634728960</th>\n      <td>-0.062474</td>\n      <td>@NICKIMINAJ and @Carmelo_WWE stan 🦄 Queen foll...</td>\n    </tr>\n  </tbody>\n</table>\n<p>30201 rows × 2 columns</p>\n</div>"
     },
     "execution_count": 77,
     "metadata": {},
     "output_type": "execute_result"
    }
   ],
   "source": [
    "descs_df.loc[descs_df.component1.sort_values(ascending=False).index, ['component3', 'desc']]"
   ],
   "metadata": {
    "collapsed": false
   }
  },
  {
   "cell_type": "code",
   "execution_count": 67,
   "outputs": [],
   "source": [],
   "metadata": {
    "collapsed": false
   }
  }
 ],
 "metadata": {
  "kernelspec": {
   "display_name": "Python 3",
   "language": "python",
   "name": "python3"
  },
  "language_info": {
   "codemirror_mode": {
    "name": "ipython",
    "version": 2
   },
   "file_extension": ".py",
   "mimetype": "text/x-python",
   "name": "python",
   "nbconvert_exporter": "python",
   "pygments_lexer": "ipython2",
   "version": "2.7.6"
  }
 },
 "nbformat": 4,
 "nbformat_minor": 0
}
