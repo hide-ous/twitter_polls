{
 "cells": [
  {
   "cell_type": "code",
   "execution_count": 1,
   "metadata": {
    "collapsed": true
   },
   "outputs": [
    {
     "data": {
      "text/plain": "True"
     },
     "execution_count": 1,
     "metadata": {},
     "output_type": "execute_result"
    }
   ],
   "source": [
    "import os\n",
    "\n",
    "from data_utils import YEARS, DATA_PATH, get_authors_from_follower_lists, get_authors_from_keys, get_repliers\n",
    "from twitter_utils import get_api, get_followee_lists\n"
   ]
  },
  {
   "cell_type": "code",
   "execution_count": 3,
   "outputs": [],
   "source": [
    "api = get_api()"
   ],
   "metadata": {
    "collapsed": false
   }
  },
  {
   "cell_type": "code",
   "execution_count": null,
   "outputs": [],
   "source": [
    "exception_users=dict()\n",
    "for year in YEARS:\n",
    "    out_path = os.path.join(DATA_PATH, f'followee_lists_{year}.jsonl')\n",
    "    existing_users = get_authors_from_follower_lists(out_path)\n",
    "\n",
    "    fpath = os.path.join(DATA_PATH, f'polls_{year}_author_ids.json')\n",
    "    author_ids = get_authors_from_keys(fpath)\n",
    "    author_ids = [id for id in author_ids if id not in existing_users]\n",
    "    print(f\"{len(author_ids)} users to scrape\")\n",
    "    exception_users.update(get_followee_lists(author_ids, out_path, api))"
   ],
   "metadata": {
    "collapsed": false,
    "pycharm": {
     "is_executing": true
    }
   }
  },
  {
   "cell_type": "code",
   "execution_count": 5,
   "outputs": [
    {
     "data": {
      "text/plain": "8157"
     },
     "execution_count": 5,
     "metadata": {},
     "output_type": "execute_result"
    }
   ],
   "source": [
    "repliers = get_repliers()\n",
    "len(repliers)\n",
    "out_path = os.path.join(DATA_PATH, f'followee_lists_of_repliers.jsonl')\n",
    "existing_users = get_authors_from_follower_lists(out_path)\n",
    "print(f'found {len(existing_users)} scraped users')\n",
    "\n",
    "repliers = [i for i in repliers if i not in existing_users]"
   ],
   "metadata": {
    "collapsed": false
   }
  },
  {
   "cell_type": "code",
   "execution_count": null,
   "outputs": [
    {
     "name": "stderr",
     "output_type": "stream",
     "text": [
      "checking followers:   0%|          | 5/8157 [00:01<50:16,  2.70it/s]"
     ]
    },
    {
     "name": "stdout",
     "output_type": "stream",
     "text": [
      "401 Unauthorized\n",
      "Not authorized.\n",
      "1001211633669206016\n"
     ]
    },
    {
     "name": "stderr",
     "output_type": "stream",
     "text": [
      "checking followers:   0%|          | 14/8157 [00:04<38:37,  3.51it/s]Rate limit reached. Sleeping for: 896\n",
      "checking followers:   0%|          | 26/8157 [15:05<12:34:36,  5.57s/it]  Rate limit reached. Sleeping for: 897\n",
      "checking followers:   1%|          | 41/8157 [30:08<4:56:05,  2.19s/it]   Rate limit reached. Sleeping for: 896\n",
      "checking followers:   1%|          | 49/8157 [45:09<51:10:21, 22.72s/it]  Rate limit reached. Sleeping for: 893\n",
      "checking followers:   1%|          | 56/8157 [1:00:13<76:40:45, 34.08s/it]  Rate limit reached. Sleeping for: 893\n",
      "checking followers:   1%|          | 69/8157 [1:15:15<10:25:05,  4.64s/it]  Rate limit reached. Sleeping for: 895\n",
      "checking followers:   1%|          | 77/8157 [1:30:14<51:00:40, 22.73s/it]  "
     ]
    },
    {
     "name": "stdout",
     "output_type": "stream",
     "text": [
      "401 Unauthorized\n",
      "Not authorized.\n",
      "1021918737040134144\n"
     ]
    },
    {
     "name": "stderr",
     "output_type": "stream",
     "text": [
      "checking followers:   1%|          | 80/8157 [1:30:16<18:24:32,  8.21s/it]Rate limit reached. Sleeping for: 895\n",
      "checking followers:   1%|          | 92/8157 [1:45:16<12:44:05,  5.68s/it]  Rate limit reached. Sleeping for: 895\n",
      "checking followers:   1%|          | 96/8157 [2:00:15<210:37:52, 94.07s/it] "
     ]
    },
    {
     "name": "stdout",
     "output_type": "stream",
     "text": [
      "401 Unauthorized\n",
      "Not authorized.\n",
      "1025797428023382017\n"
     ]
    },
    {
     "name": "stderr",
     "output_type": "stream",
     "text": [
      "checking followers:   1%|          | 101/8157 [2:00:17<35:50:19, 16.02s/it]"
     ]
    },
    {
     "name": "stdout",
     "output_type": "stream",
     "text": [
      "401 Unauthorized\n",
      "Not authorized.\n",
      "1026846128\n"
     ]
    },
    {
     "name": "stderr",
     "output_type": "stream",
     "text": [
      "checking followers:   1%|▏         | 104/8157 [2:00:17<12:37:24,  5.64s/it]Rate limit reached. Sleeping for: 896\n",
      "checking followers:   1%|▏         | 116/8157 [2:15:19<12:53:41,  5.77s/it]  Rate limit reached. Sleeping for: 896\n",
      "checking followers:   2%|▏         | 131/8157 [2:30:21<4:45:30,  2.13s/it]   Rate limit reached. Sleeping for: 895\n",
      "checking followers:   2%|▏         | 134/8157 [2:45:18<295:50:12, 132.74s/it]"
     ]
    },
    {
     "name": "stdout",
     "output_type": "stream",
     "text": [
      "401 Unauthorized\n",
      "Not authorized.\n",
      "1033484908214267905\n"
     ]
    },
    {
     "name": "stderr",
     "output_type": "stream",
     "text": [
      "checking followers:   2%|▏         | 143/8157 [2:45:22<12:35:54,  5.66s/it]  Rate limit reached. Sleeping for: 895\n",
      "checking followers:   2%|▏         | 150/8157 [3:00:20<72:12:00, 32.46s/it]  Rate limit reached. Sleeping for: 895\n",
      "checking followers:   2%|▏         | 162/8157 [3:15:24<13:28:50,  6.07s/it]  Rate limit reached. Sleeping for: 896\n",
      "checking followers:   2%|▏         | 175/8157 [3:30:26<9:15:28,  4.18s/it]   Rate limit reached. Sleeping for: 896\n",
      "checking followers:   2%|▏         | 183/8157 [3:45:28<50:20:56, 22.73s/it]  "
     ]
    },
    {
     "name": "stdout",
     "output_type": "stream",
     "text": [
      "401 Unauthorized\n",
      "Not authorized.\n",
      "1046935582239145985\n"
     ]
    },
    {
     "name": "stderr",
     "output_type": "stream",
     "text": [
      "Rate limit reached. Sleeping for: 895\n",
      "checking followers:   2%|▏         | 196/8157 [4:00:29<9:17:51,  4.20s/it]   Rate limit reached. Sleeping for: 896\n",
      "checking followers:   3%|▎         | 209/8157 [4:15:29<8:50:33,  4.01s/it]   Rate limit reached. Sleeping for: 896\n",
      "checking followers:   3%|▎         | 224/8157 [4:30:31<4:37:49,  2.10s/it]   Rate limit reached. Sleeping for: 896\n",
      "checking followers:   3%|▎         | 237/8157 [4:45:33<9:02:23,  4.11s/it]   Rate limit reached. Sleeping for: 895\n",
      "checking followers:   3%|▎         | 250/8157 [5:00:34<8:59:55,  4.10s/it]   Rate limit reached. Sleeping for: 895\n",
      "checking followers:   3%|▎         | 257/8157 [5:15:32<70:44:23, 32.24s/it]  "
     ]
    },
    {
     "name": "stdout",
     "output_type": "stream",
     "text": [
      "401 Unauthorized\n",
      "Not authorized.\n",
      "1065464738312802304\n"
     ]
    },
    {
     "name": "stderr",
     "output_type": "stream",
     "text": [
      "checking followers:   3%|▎         | 264/8157 [5:15:34<6:20:55,  2.90s/it] Rate limit reached. Sleeping for: 896\n",
      "checking followers:   3%|▎         | 279/8157 [5:30:36<4:40:16,  2.13s/it]   Rate limit reached. Sleeping for: 895\n",
      "checking followers:   3%|▎         | 285/8157 [5:45:34<100:02:00, 45.75s/it] "
     ]
    },
    {
     "name": "stdout",
     "output_type": "stream",
     "text": [
      "404 Not Found\n",
      "34 - Sorry, that page does not exist.\n",
      "1074443098242117633\n"
     ]
    },
    {
     "name": "stderr",
     "output_type": "stream",
     "text": [
      "checking followers:   4%|▎         | 293/8157 [5:45:36<6:15:04,  2.86s/it]  Rate limit reached. Sleeping for: 896\n",
      "checking followers:   4%|▎         | 304/8157 [6:00:38<17:54:28,  8.21s/it]  Rate limit reached. Sleeping for: 896\n",
      "checking followers:   4%|▍         | 317/8157 [6:15:40<8:54:42,  4.09s/it]   Rate limit reached. Sleeping for: 896\n",
      "checking followers:   4%|▍         | 328/8157 [6:30:41<17:28:10,  8.03s/it]  Rate limit reached. Sleeping for: 895\n",
      "checking followers:   4%|▍         | 341/8157 [6:45:42<8:52:38,  4.09s/it]   "
     ]
    },
    {
     "name": "stdout",
     "output_type": "stream",
     "text": [
      "401 Unauthorized\n",
      "Not authorized.\n",
      "1089017406389870593\n"
     ]
    },
    {
     "name": "stderr",
     "output_type": "stream",
     "text": [
      "Rate limit reached. Sleeping for: 896\n",
      "checking followers:   4%|▍         | 355/8157 [7:00:45<6:28:07,  2.98s/it]   Rate limit reached. Sleeping for: 895\n",
      "checking followers:   4%|▍         | 362/8157 [7:15:46<69:59:18, 32.32s/it]  Rate limit reached. Sleeping for: 895\n",
      "checking followers:   5%|▍         | 373/8157 [7:30:48<19:06:17,  8.84s/it]  Rate limit reached. Sleeping for: 895\n",
      "checking followers:   5%|▍         | 387/8157 [7:45:48<6:17:20,  2.91s/it]   Rate limit reached. Sleeping for: 896\n",
      "checking followers:   5%|▍         | 399/8157 [8:00:49<12:06:14,  5.62s/it]  Rate limit reached. Sleeping for: 896\n",
      "checking followers:   5%|▌         | 411/8157 [8:15:51<12:22:35,  5.75s/it]  Rate limit reached. Sleeping for: 896\n",
      "checking followers:   5%|▌         | 425/8157 [8:30:52<6:12:16,  2.89s/it]   Rate limit reached. Sleeping for: 897\n",
      "checking followers:   5%|▌         | 433/8157 [8:45:56<49:34:15, 23.10s/it]  Rate limit reached. Sleeping for: 895\n",
      "checking followers:   5%|▌         | 444/8157 [9:00:57<18:10:18,  8.48s/it]  Rate limit reached. Sleeping for: 895\n",
      "checking followers:   6%|▌         | 457/8157 [9:15:57<8:41:34,  4.06s/it]   Rate limit reached. Sleeping for: 895\n",
      "checking followers:   6%|▌         | 469/8157 [9:30:59<12:20:02,  5.78s/it]  Rate limit reached. Sleeping for: 895\n",
      "checking followers:   6%|▌         | 482/8157 [9:46:00<8:53:26,  4.17s/it]   Rate limit reached. Sleeping for: 895\n",
      "checking followers:   6%|▌         | 495/8157 [10:01:00<8:33:01,  4.02s/it]   Rate limit reached. Sleeping for: 896\n",
      "checking followers:   6%|▌         | 507/8157 [10:16:02<12:07:42,  5.71s/it]  Rate limit reached. Sleeping for: 896\n",
      "checking followers:   6%|▋         | 521/8157 [10:31:02<6:12:34,  2.93s/it]   Rate limit reached. Sleeping for: 896\n",
      "checking followers:   7%|▋         | 536/8157 [10:46:04<4:27:23,  2.11s/it]   Rate limit reached. Sleeping for: 896\n",
      "checking followers:   7%|▋         | 550/8157 [11:01:06<6:07:31,  2.90s/it]   Rate limit reached. Sleeping for: 896\n",
      "checking followers:   7%|▋         | 564/8157 [11:16:08<6:09:05,  2.92s/it]   Rate limit reached. Sleeping for: 896\n",
      "checking followers:   7%|▋         | 577/8157 [11:31:10<8:37:50,  4.10s/it]   Rate limit reached. Sleeping for: 895\n",
      "checking followers:   7%|▋         | 591/8157 [11:46:10<6:11:32,  2.95s/it]   Rate limit reached. Sleeping for: 896\n",
      "checking followers:   7%|▋         | 604/8157 [12:01:12<8:40:12,  4.13s/it]   Rate limit reached. Sleeping for: 896\n",
      "checking followers:   8%|▊         | 612/8157 [12:16:11<47:24:17, 22.62s/it]  "
     ]
    },
    {
     "name": "stdout",
     "output_type": "stream",
     "text": [
      "404 Not Found\n",
      "34 - Sorry, that page does not exist.\n",
      "1162434119579643905\n"
     ]
    },
    {
     "name": "stderr",
     "output_type": "stream",
     "text": [
      "checking followers:   8%|▊         | 618/8157 [12:16:13<6:08:45,  2.93s/it] Rate limit reached. Sleeping for: 896\n",
      "checking followers:   8%|▊         | 630/8157 [12:31:15<11:45:01,  5.62s/it]  Rate limit reached. Sleeping for: 895\n",
      "checking followers:   8%|▊         | 644/8157 [12:46:15<6:08:08,  2.94s/it]   Rate limit reached. Sleeping for: 896\n",
      "checking followers:   8%|▊         | 657/8157 [13:01:16<8:25:52,  4.05s/it]   Rate limit reached. Sleeping for: 896\n",
      "checking followers:   8%|▊         | 670/8157 [13:16:18<8:28:43,  4.08s/it]   Rate limit reached. Sleeping for: 895\n",
      "checking followers:   8%|▊         | 680/8157 [13:31:19<23:45:47, 11.44s/it]  Rate limit reached. Sleeping for: 896\n",
      "checking followers:   9%|▊         | 695/8157 [13:46:21<4:24:01,  2.12s/it]   Rate limit reached. Sleeping for: 897\n",
      "checking followers:   9%|▊         | 708/8157 [14:01:23<8:42:09,  4.21s/it]   Rate limit reached. Sleeping for: 896\n",
      "checking followers:   9%|▉         | 722/8157 [14:16:24<6:00:23,  2.91s/it]   Rate limit reached. Sleeping for: 896\n",
      "checking followers:   9%|▉         | 736/8157 [14:31:27<6:07:16,  2.97s/it]   Rate limit reached. Sleeping for: 896\n",
      "checking followers:   9%|▉         | 748/8157 [14:46:28<12:01:09,  5.84s/it]  Rate limit reached. Sleeping for: 896\n",
      "checking followers:   9%|▉         | 762/8157 [15:01:30<6:09:39,  3.00s/it]   Rate limit reached. Sleeping for: 896\n",
      "checking followers:   9%|▉         | 774/8157 [15:16:32<11:48:58,  5.76s/it]  Rate limit reached. Sleeping for: 895\n",
      "checking followers:  10%|▉         | 788/8157 [15:31:32<6:11:13,  3.02s/it]   Rate limit reached. Sleeping for: 896\n",
      "checking followers:  10%|▉         | 794/8157 [15:46:35<94:54:34, 46.40s/it]  Rate limit reached. Sleeping for: 894\n",
      "checking followers:  10%|▉         | 807/8157 [16:01:34<9:24:52,  4.61s/it]   Rate limit reached. Sleeping for: 896\n",
      "checking followers:  10%|█         | 821/8157 [16:16:36<5:57:54,  2.93s/it]   Rate limit reached. Sleeping for: 896\n",
      "checking followers:  10%|█         | 832/8157 [16:31:37<16:40:08,  8.19s/it]  Rate limit reached. Sleeping for: 895\n",
      "checking followers:  10%|█         | 846/8157 [16:46:38<5:55:56,  2.92s/it]   Rate limit reached. Sleeping for: 896\n",
      "checking followers:  10%|█         | 854/8157 [17:01:41<46:17:25, 22.82s/it]  Rate limit reached. Sleeping for: 895\n",
      "checking followers:  11%|█         | 864/8157 [17:16:41<23:59:24, 11.84s/it]  Rate limit reached. Sleeping for: 895\n",
      "checking followers:  11%|█         | 878/8157 [17:31:42<5:59:36,  2.96s/it]   Rate limit reached. Sleeping for: 896\n",
      "checking followers:  11%|█         | 891/8157 [17:46:44<8:08:30,  4.03s/it]   Rate limit reached. Sleeping for: 896\n"
     ]
    }
   ],
   "source": [
    "exception_users = dict()\n",
    "exception_users.update(get_followee_lists(repliers, out_path, api))"
   ],
   "metadata": {
    "collapsed": false,
    "pycharm": {
     "is_executing": true
    }
   }
  },
  {
   "cell_type": "markdown",
   "source": [],
   "metadata": {
    "collapsed": false
   }
  }
 ],
 "metadata": {
  "kernelspec": {
   "display_name": "Python 3",
   "language": "python",
   "name": "python3"
  },
  "language_info": {
   "codemirror_mode": {
    "name": "ipython",
    "version": 2
   },
   "file_extension": ".py",
   "mimetype": "text/x-python",
   "name": "python",
   "nbconvert_exporter": "python",
   "pygments_lexer": "ipython2",
   "version": "2.7.6"
  }
 },
 "nbformat": 4,
 "nbformat_minor": 0
}
