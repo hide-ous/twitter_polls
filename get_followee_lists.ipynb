{
 "cells": [
  {
   "cell_type": "code",
   "execution_count": 1,
   "metadata": {
    "collapsed": true
   },
   "outputs": [],
   "source": [
    "import os\n",
    "\n",
    "import numpy as np\n",
    "import pandas as pd\n",
    "\n",
    "from data_utils import YEARS, DATA_PATH, get_authors_from_follower_lists, get_authors_from_keys, get_retweeters_repliers, write_error_users\n",
    "from twitter_utils import get_api, get_followee_lists\n",
    "import json\n"
   ]
  },
  {
   "cell_type": "code",
   "execution_count": 2,
   "outputs": [],
   "source": [
    "api = get_api()"
   ],
   "metadata": {
    "collapsed": false
   }
  },
  {
   "cell_type": "code",
   "execution_count": null,
   "outputs": [],
   "source": [
    "exception_users=dict()\n",
    "for year in YEARS:\n",
    "    out_path = os.path.join(DATA_PATH, f'followee_lists_{year}.jsonl')\n",
    "    existing_users = get_authors_from_follower_lists(out_path)\n",
    "\n",
    "    fpath = os.path.join(DATA_PATH, f'polls_{year}_author_ids.json')\n",
    "    author_ids = get_authors_from_keys(fpath)\n",
    "    author_ids = [id for id in author_ids if id not in existing_users]\n",
    "    print(f\"{len(author_ids)} users to scrape\")\n",
    "    exception_users.update(get_followee_lists(author_ids, out_path, api))"
   ],
   "metadata": {
    "collapsed": false
   }
  },
  {
   "cell_type": "code",
   "execution_count": 7,
   "outputs": [],
   "source": [
    "ids = set()\n",
    "repliers = set(get_retweeters_repliers())\n",
    "out_path = os.path.join(DATA_PATH, 'followee_lists_of_retweeters_repliers.jsonl')\n",
    "with open(out_path, 'w+') as fo:\n",
    "    for fname in ['followee_lists_of_repliers_stephen.jsonl', 'followee_lists_of_repliers.jsonl']:\n",
    "        fpath = os.path.join(DATA_PATH, fname)\n",
    "        with open(fpath) as f:\n",
    "            for l in f:\n",
    "                id_ = list(json.loads(l).keys())[0]\n",
    "                if (id_ not in ids) and id_ in repliers:\n",
    "                    ids.add(id_)\n",
    "                    fo.write(l)\n",
    "len(ids)"
   ],
   "metadata": {
    "collapsed": false
   }
  },
  {
   "cell_type": "code",
   "execution_count": 9,
   "outputs": [
    {
     "name": "stdout",
     "output_type": "stream",
     "text": [
      "found 8065 scraped users\n"
     ]
    }
   ],
   "source": [
    "repliers = get_retweeters_repliers()\n",
    "len(repliers)\n",
    "# out_path = os.path.join(DATA_PATH, f'followee_lists_of_repliers.jsonl')\n",
    "existing_users = get_authors_from_follower_lists(out_path)\n",
    "print(f'found {len(existing_users)} scraped users')\n",
    "\n",
    "repliers = [i for i in repliers if i not in existing_users]"
   ],
   "metadata": {
    "collapsed": false
   }
  },
  {
   "cell_type": "code",
   "execution_count": 10,
   "outputs": [
    {
     "data": {
      "text/plain": "90"
     },
     "execution_count": 10,
     "metadata": {},
     "output_type": "execute_result"
    }
   ],
   "source": [
    "len(repliers)"
   ],
   "metadata": {
    "collapsed": false
   }
  },
  {
   "cell_type": "code",
   "execution_count": 11,
   "outputs": [
    {
     "name": "stderr",
     "output_type": "stream",
     "text": [
      "checking followees:   2%|▏         | 2/90 [00:00<00:25,  3.46it/s]"
     ]
    },
    {
     "name": "stdout",
     "output_type": "stream",
     "text": [
      "401 Unauthorized\n",
      "Not authorized.\n",
      "1021918737040134144\n"
     ]
    },
    {
     "name": "stderr",
     "output_type": "stream",
     "text": [
      "checking followees:   4%|▍         | 4/90 [00:01<00:20,  4.16it/s]"
     ]
    },
    {
     "name": "stdout",
     "output_type": "stream",
     "text": [
      "401 Unauthorized\n",
      "Not authorized.\n",
      "1025797428023382017\n"
     ]
    },
    {
     "name": "stderr",
     "output_type": "stream",
     "text": [
      "checking followees:   9%|▉         | 8/90 [00:02<00:20,  3.99it/s]"
     ]
    },
    {
     "name": "stdout",
     "output_type": "stream",
     "text": [
      "401 Unauthorized\n",
      "Not authorized.\n",
      "1065464738312802304\n"
     ]
    },
    {
     "name": "stderr",
     "output_type": "stream",
     "text": [
      "checking followees:  10%|█         | 9/90 [00:02<00:19,  4.11it/s]"
     ]
    },
    {
     "name": "stdout",
     "output_type": "stream",
     "text": [
      "404 Not Found\n",
      "34 - Sorry, that page does not exist.\n",
      "1074443098242117633\n"
     ]
    },
    {
     "name": "stderr",
     "output_type": "stream",
     "text": [
      "checking followees:  12%|█▏        | 11/90 [00:02<00:17,  4.41it/s]"
     ]
    },
    {
     "name": "stdout",
     "output_type": "stream",
     "text": [
      "401 Unauthorized\n",
      "Not authorized.\n",
      "1089017406389870593\n",
      "404 Not Found\n",
      "34 - Sorry, that page does not exist.\n",
      "1162434119579643905\n"
     ]
    },
    {
     "name": "stderr",
     "output_type": "stream",
     "text": [
      "checking followees:  17%|█▋        | 15/90 [00:03<00:16,  4.51it/s]"
     ]
    },
    {
     "name": "stdout",
     "output_type": "stream",
     "text": [
      "401 Unauthorized\n",
      "Not authorized.\n",
      "1280496301889773571\n"
     ]
    },
    {
     "name": "stderr",
     "output_type": "stream",
     "text": [
      "Rate limit reached. Sleeping for: 896\n",
      "checking followees:  19%|█▉        | 17/90 [15:01<3:50:03, 189.09s/it]"
     ]
    },
    {
     "name": "stdout",
     "output_type": "stream",
     "text": [
      "401 Unauthorized\n",
      "Not authorized.\n",
      "1299929713\n"
     ]
    },
    {
     "name": "stderr",
     "output_type": "stream",
     "text": [
      "checking followees:  20%|██        | 18/90 [15:01<2:38:48, 132.34s/it]"
     ]
    },
    {
     "name": "stdout",
     "output_type": "stream",
     "text": [
      "401 Unauthorized\n",
      "Not authorized.\n",
      "1368356112\n"
     ]
    },
    {
     "name": "stderr",
     "output_type": "stream",
     "text": [
      "checking followees:  21%|██        | 19/90 [15:01<1:49:38, 92.66s/it] "
     ]
    },
    {
     "name": "stdout",
     "output_type": "stream",
     "text": [
      "401 Unauthorized\n",
      "Not authorized.\n",
      "1371572360\n"
     ]
    },
    {
     "name": "stderr",
     "output_type": "stream",
     "text": [
      "checking followees:  22%|██▏       | 20/90 [15:02<1:15:43, 64.90s/it]"
     ]
    },
    {
     "name": "stdout",
     "output_type": "stream",
     "text": [
      "401 Unauthorized\n",
      "Not authorized.\n",
      "138166067\n"
     ]
    },
    {
     "name": "stderr",
     "output_type": "stream",
     "text": [
      "checking followees:  29%|██▉       | 26/90 [15:03<08:21,  7.84s/it]  "
     ]
    },
    {
     "name": "stdout",
     "output_type": "stream",
     "text": [
      "401 Unauthorized\n",
      "Not authorized.\n",
      "1662369638\n"
     ]
    },
    {
     "name": "stderr",
     "output_type": "stream",
     "text": [
      "checking followees:  30%|███       | 27/90 [15:03<05:49,  5.55s/it]"
     ]
    },
    {
     "name": "stdout",
     "output_type": "stream",
     "text": [
      "401 Unauthorized\n",
      "Not authorized.\n",
      "18151915\n"
     ]
    },
    {
     "name": "stderr",
     "output_type": "stream",
     "text": [
      "checking followees:  32%|███▏      | 29/90 [15:04<02:53,  2.84s/it]"
     ]
    },
    {
     "name": "stdout",
     "output_type": "stream",
     "text": [
      "401 Unauthorized\n",
      "Not authorized.\n",
      "23684807\n"
     ]
    },
    {
     "name": "stderr",
     "output_type": "stream",
     "text": [
      "checking followees:  33%|███▎      | 30/90 [15:04<02:03,  2.05s/it]"
     ]
    },
    {
     "name": "stdout",
     "output_type": "stream",
     "text": [
      "401 Unauthorized\n",
      "Not authorized.\n",
      "2760254494\n"
     ]
    },
    {
     "name": "stderr",
     "output_type": "stream",
     "text": [
      "Rate limit reached. Sleeping for: 896\n",
      "checking followees:  34%|███▍      | 31/90 [30:01<4:26:10, 270.68s/it]"
     ]
    },
    {
     "name": "stdout",
     "output_type": "stream",
     "text": [
      "401 Unauthorized\n",
      "Not authorized.\n",
      "2773494490\n"
     ]
    },
    {
     "name": "stderr",
     "output_type": "stream",
     "text": [
      "checking followees:  36%|███▌      | 32/90 [30:02<3:03:13, 189.54s/it]"
     ]
    },
    {
     "name": "stdout",
     "output_type": "stream",
     "text": [
      "401 Unauthorized\n",
      "Not authorized.\n",
      "282317637\n"
     ]
    },
    {
     "name": "stderr",
     "output_type": "stream",
     "text": [
      "checking followees:  37%|███▋      | 33/90 [30:02<2:06:06, 132.74s/it]"
     ]
    },
    {
     "name": "stdout",
     "output_type": "stream",
     "text": [
      "404 Not Found\n",
      "34 - Sorry, that page does not exist.\n",
      "2959772663\n"
     ]
    },
    {
     "name": "stderr",
     "output_type": "stream",
     "text": [
      "checking followees:  39%|███▉      | 35/90 [30:02<59:43, 65.15s/it]   "
     ]
    },
    {
     "name": "stdout",
     "output_type": "stream",
     "text": [
      "401 Unauthorized\n",
      "Not authorized.\n",
      "316589610\n",
      "404 Not Found\n",
      "34 - Sorry, that page does not exist.\n",
      "3226743216\n"
     ]
    },
    {
     "name": "stderr",
     "output_type": "stream",
     "text": [
      "checking followees:  40%|████      | 36/90 [30:02<41:06, 45.67s/it]"
     ]
    },
    {
     "name": "stdout",
     "output_type": "stream",
     "text": [
      "401 Unauthorized\n",
      "Not authorized.\n",
      "327715590\n"
     ]
    },
    {
     "name": "stderr",
     "output_type": "stream",
     "text": [
      "checking followees:  44%|████▍     | 40/90 [30:03<09:16, 11.14s/it]"
     ]
    },
    {
     "name": "stdout",
     "output_type": "stream",
     "text": [
      "401 Unauthorized\n",
      "Not authorized.\n",
      "337659716\n",
      "404 Not Found\n",
      "34 - Sorry, that page does not exist.\n",
      "35888706\n"
     ]
    },
    {
     "name": "stderr",
     "output_type": "stream",
     "text": [
      "checking followees:  46%|████▌     | 41/90 [30:04<06:25,  7.87s/it]"
     ]
    },
    {
     "name": "stdout",
     "output_type": "stream",
     "text": [
      "401 Unauthorized\n",
      "Not authorized.\n",
      "374463980\n"
     ]
    },
    {
     "name": "stderr",
     "output_type": "stream",
     "text": [
      "checking followees:  48%|████▊     | 43/90 [30:05<03:13,  4.12s/it]Rate limit reached. Sleeping for: 896\n"
     ]
    },
    {
     "name": "stdout",
     "output_type": "stream",
     "text": [
      "401 Unauthorized\n",
      "Not authorized.\n",
      "442813650\n"
     ]
    },
    {
     "name": "stderr",
     "output_type": "stream",
     "text": [
      "checking followees:  50%|█████     | 45/90 [45:03<2:22:54, 190.55s/it]"
     ]
    },
    {
     "name": "stdout",
     "output_type": "stream",
     "text": [
      "401 Unauthorized\n",
      "Not authorized.\n",
      "487727086\n"
     ]
    },
    {
     "name": "stderr",
     "output_type": "stream",
     "text": [
      "checking followees:  51%|█████     | 46/90 [45:03<1:37:51, 133.45s/it]"
     ]
    },
    {
     "name": "stdout",
     "output_type": "stream",
     "text": [
      "401 Unauthorized\n",
      "Not authorized.\n",
      "585998080\n"
     ]
    },
    {
     "name": "stderr",
     "output_type": "stream",
     "text": [
      "checking followees:  54%|█████▍    | 49/90 [45:03<31:23, 45.93s/it]   "
     ]
    },
    {
     "name": "stdout",
     "output_type": "stream",
     "text": [
      "401 Unauthorized\n",
      "Not authorized.\n",
      "757297449941602304\n",
      "404 Not Found\n",
      "34 - Sorry, that page does not exist.\n",
      "772877229814607872\n"
     ]
    },
    {
     "name": "stderr",
     "output_type": "stream",
     "text": [
      "checking followees:  57%|█████▋    | 51/90 [45:04<14:41, 22.61s/it]"
     ]
    },
    {
     "name": "stdout",
     "output_type": "stream",
     "text": [
      "401 Unauthorized\n",
      "Not authorized.\n",
      "778077812\n"
     ]
    },
    {
     "name": "stderr",
     "output_type": "stream",
     "text": [
      "checking followees:  58%|█████▊    | 52/90 [45:04<10:04, 15.90s/it]"
     ]
    },
    {
     "name": "stdout",
     "output_type": "stream",
     "text": [
      "401 Unauthorized\n",
      "Not authorized.\n",
      "787003418867097600\n"
     ]
    },
    {
     "name": "stderr",
     "output_type": "stream",
     "text": [
      "checking followees:  61%|██████    | 55/90 [45:06<03:20,  5.72s/it]"
     ]
    },
    {
     "name": "stdout",
     "output_type": "stream",
     "text": [
      "401 Unauthorized\n",
      "Not authorized.\n",
      "834733897\n"
     ]
    },
    {
     "name": "stderr",
     "output_type": "stream",
     "text": [
      "checking followees:  62%|██████▏   | 56/90 [45:06<02:18,  4.07s/it]Rate limit reached. Sleeping for: 896\n",
      "checking followees:  69%|██████▉   | 62/90 [1:00:05<21:25, 45.92s/it]   "
     ]
    },
    {
     "name": "stdout",
     "output_type": "stream",
     "text": [
      "401 Unauthorized\n",
      "Not authorized.\n",
      "869303616066252806\n",
      "401 Unauthorized\n",
      "Not authorized.\n",
      "870820028169437184\n"
     ]
    },
    {
     "name": "stderr",
     "output_type": "stream",
     "text": [
      "checking followees:  71%|███████   | 64/90 [1:00:05<09:49, 22.68s/it]"
     ]
    },
    {
     "name": "stdout",
     "output_type": "stream",
     "text": [
      "404 Not Found\n",
      "34 - Sorry, that page does not exist.\n",
      "923751968488771584\n"
     ]
    },
    {
     "name": "stderr",
     "output_type": "stream",
     "text": [
      "checking followees:  76%|███████▌  | 68/90 [1:00:07<02:07,  5.79s/it]Rate limit reached. Sleeping for: 896\n",
      "checking followees:  77%|███████▋  | 69/90 [1:15:05<1:35:39, 273.31s/it]"
     ]
    },
    {
     "name": "stdout",
     "output_type": "stream",
     "text": [
      "401 Unauthorized\n",
      "Not authorized.\n",
      "937421256147775489\n"
     ]
    },
    {
     "name": "stderr",
     "output_type": "stream",
     "text": [
      "checking followees:  82%|████████▏ | 74/90 [1:15:06<12:19, 46.21s/it]   "
     ]
    },
    {
     "name": "stdout",
     "output_type": "stream",
     "text": [
      "401 Unauthorized\n",
      "Not authorized.\n",
      "984015104\n"
     ]
    },
    {
     "name": "stderr",
     "output_type": "stream",
     "text": [
      "checking followees:  90%|█████████ | 81/90 [1:15:09<00:37,  4.14s/it]Rate limit reached. Sleeping for: 895\n",
      "checking followees: 100%|██████████| 90/90 [1:30:09<00:00, 60.10s/it] \n"
     ]
    }
   ],
   "source": [
    "exception_users = dict()\n",
    "exception_users.update(get_followee_lists(repliers, out_path, api))"
   ],
   "metadata": {
    "collapsed": false
   }
  },
  {
   "cell_type": "code",
   "execution_count": 18,
   "outputs": [],
   "source": [
    "from data_utils import write_error_users\n",
    "\n",
    "write_error_users(exception_users, os.path.join(DATA_PATH, 'repliers_missing.jsonl'))\n"
   ],
   "metadata": {
    "collapsed": false
   }
  },
  {
   "cell_type": "code",
   "execution_count": 28,
   "outputs": [
    {
     "name": "stderr",
     "output_type": "stream",
     "text": [
      "checking followees:   1%|          | 15/2686 [00:04<14:28,  3.08it/s]Rate limit reached. Sleeping for: 895\n",
      "checking followees:   1%|          | 29/2686 [15:04<2:08:10,  2.89s/it]   Rate limit reached. Sleeping for: 896\n",
      "checking followees:   2%|▏         | 44/2686 [30:05<1:31:57,  2.09s/it]   Rate limit reached. Sleeping for: 896\n",
      "checking followees:   2%|▏         | 57/2686 [45:07<2:55:38,  4.01s/it]   Rate limit reached. Sleeping for: 896\n",
      "checking followees:   3%|▎         | 72/2686 [1:00:08<1:30:03,  2.07s/it]   Rate limit reached. Sleeping for: 897\n",
      "checking followees:   3%|▎         | 87/2686 [1:15:09<1:29:14,  2.06s/it]   Rate limit reached. Sleeping for: 896\n",
      "checking followees:   4%|▍         | 101/2686 [1:30:10<2:03:01,  2.86s/it]  Rate limit reached. Sleeping for: 896\n",
      "checking followees:   4%|▍         | 113/2686 [1:45:12<4:01:09,  5.62s/it]   Rate limit reached. Sleeping for: 895\n",
      "checking followees:   5%|▍         | 126/2686 [2:00:12<2:54:29,  4.09s/it]   Rate limit reached. Sleeping for: 896\n",
      "checking followees:   5%|▌         | 135/2686 [2:15:14<11:17:31, 15.94s/it]  Rate limit reached. Sleeping for: 895\n",
      "checking followees:   6%|▌         | 148/2686 [2:30:14<2:55:35,  4.15s/it]   Rate limit reached. Sleeping for: 896\n",
      "checking followees:   6%|▌         | 161/2686 [2:45:16<2:57:30,  4.22s/it]   Rate limit reached. Sleeping for: 895\n",
      "checking followees:   6%|▋         | 168/2686 [3:00:18<22:53:02, 32.72s/it]  Rate limit reached. Sleeping for: 895\n",
      "checking followees:   7%|▋         | 181/2686 [3:15:18<3:00:06,  4.31s/it]   Rate limit reached. Sleeping for: 895\n",
      "checking followees:   7%|▋         | 192/2686 [3:30:18<5:31:02,  7.96s/it]   Rate limit reached. Sleeping for: 895\n",
      "checking followees:   8%|▊         | 204/2686 [3:45:19<3:58:11,  5.76s/it]   Rate limit reached. Sleeping for: 895\n",
      "checking followees:   8%|▊         | 215/2686 [4:00:21<5:31:52,  8.06s/it]   Rate limit reached. Sleeping for: 895\n",
      "checking followees:   9%|▊         | 230/2686 [4:15:21<1:26:31,  2.11s/it]   Rate limit reached. Sleeping for: 896\n",
      "checking followees:   9%|▉         | 242/2686 [4:30:23<3:52:42,  5.71s/it]   Rate limit reached. Sleeping for: 895\n",
      "checking followees:   9%|▉         | 255/2686 [4:45:23<2:44:42,  4.07s/it]   Rate limit reached. Sleeping for: 896\n",
      "checking followees:  10%|▉         | 268/2686 [5:00:25<2:46:21,  4.13s/it]   Rate limit reached. Sleeping for: 896\n",
      "checking followees:  10%|█         | 277/2686 [5:15:25<10:41:44, 15.98s/it]  Rate limit reached. Sleeping for: 895\n",
      "checking followees:  11%|█         | 291/2686 [5:30:28<2:02:08,  3.06s/it]   Rate limit reached. Sleeping for: 895\n",
      "checking followees:  11%|█▏        | 305/2686 [5:45:29<1:54:39,  2.89s/it]   Rate limit reached. Sleeping for: 895\n",
      "checking followees:  12%|█▏        | 312/2686 [6:00:28<21:12:51, 32.17s/it]  "
     ]
    },
    {
     "name": "stdout",
     "output_type": "stream",
     "text": [
      "401 Unauthorized\n",
      "Not authorized.\n",
      "1183504734071734276\n"
     ]
    },
    {
     "name": "stderr",
     "output_type": "stream",
     "text": [
      "checking followees:  12%|█▏        | 318/2686 [6:00:30<2:42:26,  4.12s/it] Rate limit reached. Sleeping for: 896\n",
      "checking followees:  12%|█▏        | 332/2686 [6:15:31<1:54:37,  2.92s/it]   Rate limit reached. Sleeping for: 895\n",
      "checking followees:  13%|█▎        | 347/2686 [6:30:32<1:21:15,  2.08s/it]   Rate limit reached. Sleeping for: 895\n",
      "checking followees:  13%|█▎        | 360/2686 [6:45:32<2:34:19,  3.98s/it]   Rate limit reached. Sleeping for: 896\n",
      "checking followees:  14%|█▍        | 374/2686 [7:00:34<1:53:16,  2.94s/it]   Rate limit reached. Sleeping for: 895\n",
      "checking followees:  14%|█▍        | 388/2686 [7:15:34<1:52:48,  2.95s/it]   Rate limit reached. Sleeping for: 896\n",
      "checking followees:  15%|█▍        | 402/2686 [7:30:36<1:49:36,  2.88s/it]   Rate limit reached. Sleeping for: 896\n",
      "checking followees:  16%|█▌        | 417/2686 [7:45:37<1:18:43,  2.08s/it]   Rate limit reached. Sleeping for: 897\n",
      "checking followees:  16%|█▌        | 432/2686 [8:00:39<1:17:57,  2.08s/it]   Rate limit reached. Sleeping for: 896\n",
      "checking followees:  16%|█▋        | 441/2686 [8:15:41<9:56:25, 15.94s/it]   Rate limit reached. Sleeping for: 895\n",
      "checking followees:  17%|█▋        | 453/2686 [8:30:42<3:38:33,  5.87s/it]   Rate limit reached. Sleeping for: 896\n",
      "checking followees:  17%|█▋        | 467/2686 [8:45:44<1:47:53,  2.92s/it]   Rate limit reached. Sleeping for: 896\n",
      "checking followees:  18%|█▊        | 481/2686 [9:00:45<1:46:45,  2.90s/it]   Rate limit reached. Sleeping for: 896\n",
      "checking followees:  18%|█▊        | 493/2686 [9:15:47<3:25:02,  5.61s/it]   Rate limit reached. Sleeping for: 895\n",
      "checking followees:  19%|█▉        | 508/2686 [9:30:47<1:16:50,  2.12s/it]   Rate limit reached. Sleeping for: 896\n",
      "checking followees:  19%|█▉        | 521/2686 [9:45:49<2:24:52,  4.02s/it]   Rate limit reached. Sleeping for: 895\n",
      "checking followees:  20%|█▉        | 535/2686 [10:00:49<1:42:58,  2.87s/it]   Rate limit reached. Sleeping for: 896\n",
      "checking followees:  20%|██        | 550/2686 [10:15:50<1:14:31,  2.09s/it]   Rate limit reached. Sleeping for: 896\n",
      "checking followees:  21%|██        | 565/2686 [10:30:51<1:13:31,  2.08s/it]   Rate limit reached. Sleeping for: 896\n",
      "checking followees:  22%|██▏       | 578/2686 [10:45:53<2:21:12,  4.02s/it]   Rate limit reached. Sleeping for: 895\n",
      "checking followees:  22%|██▏       | 591/2686 [11:00:53<2:25:33,  4.17s/it]   Rate limit reached. Sleeping for: 896\n",
      "checking followees:  23%|██▎       | 606/2686 [11:15:55<1:14:03,  2.14s/it]   Rate limit reached. Sleeping for: 896\n",
      "checking followees:  23%|██▎       | 619/2686 [11:30:56<2:18:25,  4.02s/it]   Rate limit reached. Sleeping for: 897\n",
      "checking followees:  24%|██▎       | 634/2686 [11:45:58<1:12:39,  2.12s/it]   Rate limit reached. Sleeping for: 897\n",
      "checking followees:  24%|██▍       | 644/2686 [12:01:01<6:28:49, 11.42s/it]   Rate limit reached. Sleeping for: 896\n",
      "checking followees:  24%|██▍       | 658/2686 [12:16:02<1:39:55,  2.96s/it]   Rate limit reached. Sleeping for: 895\n",
      "checking followees:  25%|██▌       | 673/2686 [12:31:02<1:10:38,  2.11s/it]   Rate limit reached. Sleeping for: 896\n",
      "checking followees:  26%|██▌       | 688/2686 [12:46:04<1:09:39,  2.09s/it]   Rate limit reached. Sleeping for: 896\n",
      "checking followees:  26%|██▌       | 702/2686 [13:01:05<1:40:11,  3.03s/it]   Rate limit reached. Sleeping for: 896\n",
      "checking followees:  27%|██▋       | 716/2686 [13:16:06<1:35:10,  2.90s/it]   Rate limit reached. Sleeping for: 896\n",
      "checking followees:  27%|██▋       | 727/2686 [13:31:07<4:23:35,  8.07s/it]   Rate limit reached. Sleeping for: 895\n",
      "checking followees:  28%|██▊       | 742/2686 [13:46:08<1:09:10,  2.13s/it]   Rate limit reached. Sleeping for: 896\n",
      "checking followees:  28%|██▊       | 756/2686 [14:01:10<1:33:42,  2.91s/it]   Rate limit reached. Sleeping for: 895\n",
      "checking followees:  29%|██▊       | 769/2686 [14:16:11<2:10:21,  4.08s/it]   Rate limit reached. Sleeping for: 895\n",
      "checking followees:  29%|██▉       | 781/2686 [14:31:12<3:09:14,  5.96s/it]   Rate limit reached. Sleeping for: 895\n",
      "checking followees:  30%|██▉       | 793/2686 [14:46:13<3:02:55,  5.80s/it]   Rate limit reached. Sleeping for: 895\n",
      "checking followees:  30%|███       | 808/2686 [15:01:14<1:08:33,  2.19s/it]   Rate limit reached. Sleeping for: 895\n",
      "checking followees:  30%|███       | 817/2686 [15:16:16<8:17:03, 15.96s/it]   Rate limit reached. Sleeping for: 895\n",
      "checking followees:  31%|███       | 827/2686 [15:31:16<6:04:28, 11.76s/it]   Rate limit reached. Sleeping for: 896\n",
      "checking followees:  31%|███       | 838/2686 [15:46:17<4:12:34,  8.20s/it]   Rate limit reached. Sleeping for: 895\n",
      "Rate limit reached. Sleeping for: 894\n",
      "checking followees:  31%|███▏      | 841/2686 [16:16:19<137:13:03, 267.74s/it]Rate limit reached. Sleeping for: 894\n",
      "checking followees:  31%|███▏      | 844/2686 [16:31:22<115:03:09, 224.86s/it]Rate limit reached. Sleeping for: 894\n",
      "checking followees:  32%|███▏      | 856/2686 [16:46:22<4:28:02,  8.79s/it]   Rate limit reached. Sleeping for: 895\n",
      "checking followees:  32%|███▏      | 866/2686 [17:01:23<5:53:31, 11.65s/it]   Rate limit reached. Sleeping for: 895\n",
      "checking followees:  33%|███▎      | 875/2686 [17:16:25<8:13:33, 16.35s/it]   Rate limit reached. Sleeping for: 895\n",
      "checking followees:  33%|███▎      | 884/2686 [17:31:25<8:20:08, 16.65s/it]   Rate limit reached. Sleeping for: 895\n",
      "checking followees:  33%|███▎      | 898/2686 [17:46:26<1:29:26,  3.00s/it]   Rate limit reached. Sleeping for: 895\n",
      "checking followees:  34%|███▍      | 912/2686 [18:01:27<1:26:57,  2.94s/it]   Rate limit reached. Sleeping for: 895\n",
      "checking followees:  34%|███▍      | 923/2686 [18:16:28<3:57:42,  8.09s/it]   Rate limit reached. Sleeping for: 895\n",
      "checking followees:  35%|███▍      | 936/2686 [18:31:29<1:58:49,  4.07s/it]   Rate limit reached. Sleeping for: 895\n",
      "checking followees:  35%|███▌      | 948/2686 [18:46:31<2:50:29,  5.89s/it]   Rate limit reached. Sleeping for: 895\n",
      "checking followees:  36%|███▌      | 961/2686 [19:01:31<2:01:18,  4.22s/it]   Rate limit reached. Sleeping for: 895\n",
      "checking followees:  36%|███▋      | 975/2686 [19:16:32<1:24:24,  2.96s/it]   Rate limit reached. Sleeping for: 895\n",
      "checking followees:  37%|███▋      | 984/2686 [19:31:33<7:32:54, 15.97s/it]   Rate limit reached. Sleeping for: 895\n",
      "checking followees:  37%|███▋      | 998/2686 [19:46:34<1:26:13,  3.06s/it]   Rate limit reached. Sleeping for: 896\n",
      "checking followees:  38%|███▊      | 1011/2686 [20:01:36<1:55:33,  4.14s/it]  Rate limit reached. Sleeping for: 896\n",
      "checking followees:  38%|███▊      | 1024/2686 [20:16:37<1:51:51,  4.04s/it]   Rate limit reached. Sleeping for: 896\n",
      "checking followees:  39%|███▊      | 1035/2686 [20:31:39<3:44:57,  8.18s/it]   Rate limit reached. Sleeping for: 895\n",
      "checking followees:  39%|███▉      | 1046/2686 [20:46:41<3:41:02,  8.09s/it]   Rate limit reached. Sleeping for: 895\n",
      "checking followees:  39%|███▉      | 1053/2686 [21:01:39<14:46:46, 32.58s/it]  Rate limit reached. Sleeping for: 895\n",
      "checking followees:  40%|███▉      | 1062/2686 [21:16:43<7:46:23, 17.23s/it]   Rate limit reached. Sleeping for: 895\n",
      "checking followees:  40%|████      | 1076/2686 [21:31:44<1:21:42,  3.05s/it]   Rate limit reached. Sleeping for: 896\n",
      "checking followees:  40%|████      | 1086/2686 [21:46:46<5:02:04, 11.33s/it]   Rate limit reached. Sleeping for: 895\n",
      "checking followees:  41%|████      | 1094/2686 [22:01:45<10:12:06, 23.07s/it]  Rate limit reached. Sleeping for: 896\n",
      "checking followees:  41%|████      | 1106/2686 [22:16:49<2:40:41,  6.10s/it]   Rate limit reached. Sleeping for: 896\n",
      "checking followees:  41%|████▏     | 1112/2686 [22:31:51<20:37:18, 47.17s/it]  Rate limit reached. Sleeping for: 895\n",
      "checking followees:  42%|████▏     | 1122/2686 [22:46:53<5:30:06, 12.66s/it]   Rate limit reached. Sleeping for: 895\n",
      "checking followees:  42%|████▏     | 1132/2686 [23:01:53<5:02:04, 11.66s/it]   Rate limit reached. Sleeping for: 895\n",
      "checking followees:  43%|████▎     | 1143/2686 [23:16:54<3:34:46,  8.35s/it]   Rate limit reached. Sleeping for: 895\n",
      "checking followees:  43%|████▎     | 1155/2686 [23:31:55<2:27:55,  5.80s/it]   Rate limit reached. Sleeping for: 895\n",
      "checking followees:  43%|████▎     | 1164/2686 [23:46:55<6:47:42, 16.07s/it]   "
     ]
    },
    {
     "name": "stdout",
     "output_type": "stream",
     "text": [
      "401 Unauthorized\n",
      "Not authorized.\n",
      "2773494490\n"
     ]
    },
    {
     "name": "stderr",
     "output_type": "stream",
     "text": [
      "checking followees:  43%|████▎     | 1166/2686 [23:46:56<3:25:47,  8.12s/it]Rate limit reached. Sleeping for: 895\n",
      "checking followees:  44%|████▍     | 1177/2686 [24:01:56<3:25:17,  8.16s/it]   Rate limit reached. Sleeping for: 896\n",
      "checking followees:  44%|████▍     | 1191/2686 [24:16:58<1:12:17,  2.90s/it]   Rate limit reached. Sleeping for: 897\n",
      "checking followees:  45%|████▍     | 1200/2686 [24:32:01<6:42:32, 16.25s/it]   Rate limit reached. Sleeping for: 894\n",
      "checking followees:  45%|████▌     | 1213/2686 [24:47:01<1:42:09,  4.16s/it]   Rate limit reached. Sleeping for: 896\n",
      "checking followees:  46%|████▌     | 1228/2686 [25:02:02<52:19,  2.15s/it]     Rate limit reached. Sleeping for: 895\n",
      "checking followees:  46%|████▌     | 1240/2686 [25:17:04<2:22:23,  5.91s/it]   Rate limit reached. Sleeping for: 894\n",
      "checking followees:  47%|████▋     | 1253/2686 [25:32:04<1:39:44,  4.18s/it]   Rate limit reached. Sleeping for: 895\n",
      "checking followees:  47%|████▋     | 1265/2686 [25:47:05<2:18:34,  5.85s/it]   Rate limit reached. Sleeping for: 895\n",
      "checking followees:  47%|████▋     | 1274/2686 [26:02:06<6:18:07, 16.07s/it]   Rate limit reached. Sleeping for: 895\n",
      "checking followees:  48%|████▊     | 1285/2686 [26:17:08<3:13:04,  8.27s/it]   Rate limit reached. Sleeping for: 895\n",
      "checking followees:  48%|████▊     | 1298/2686 [26:32:09<1:38:54,  4.28s/it]   Rate limit reached. Sleeping for: 896\n",
      "checking followees:  49%|████▉     | 1311/2686 [26:47:10<1:33:18,  4.07s/it]   Rate limit reached. Sleeping for: 896\n",
      "checking followees:  49%|████▉     | 1325/2686 [27:02:12<1:07:07,  2.96s/it]   Rate limit reached. Sleeping for: 895\n",
      "checking followees:  50%|████▉     | 1335/2686 [27:17:13<4:17:57, 11.46s/it]   Rate limit reached. Sleeping for: 894\n",
      "checking followees:  50%|████▉     | 1341/2686 [27:32:15<17:46:36, 47.58s/it]  Rate limit reached. Sleeping for: 895\n",
      "checking followees:  50%|█████     | 1352/2686 [27:47:17<3:22:10,  9.09s/it]   Rate limit reached. Sleeping for: 895\n",
      "checking followees:  51%|█████     | 1362/2686 [28:02:18<4:18:12, 11.70s/it]   Rate limit reached. Sleeping for: 895\n",
      "checking followees:  51%|█████     | 1373/2686 [28:17:19<2:59:21,  8.20s/it]   Rate limit reached. Sleeping for: 895\n",
      "checking followees:  52%|█████▏    | 1385/2686 [28:32:20<2:04:05,  5.72s/it]   Rate limit reached. Sleeping for: 895\n",
      "checking followees:  52%|█████▏    | 1394/2686 [28:47:21<5:48:30, 16.18s/it]  Rate limit reached. Sleeping for: 896\n",
      "checking followees:  52%|█████▏    | 1405/2686 [29:02:23<2:57:36,  8.32s/it]   Rate limit reached. Sleeping for: 895\n",
      "checking followees:  53%|█████▎    | 1417/2686 [29:17:24<2:02:06,  5.77s/it]  Rate limit reached. Sleeping for: 896\n",
      "checking followees:  53%|█████▎    | 1428/2686 [29:32:26<2:51:09,  8.16s/it]  Rate limit reached. Sleeping for: 895\n",
      "checking followees:  54%|█████▎    | 1441/2686 [29:47:26<1:26:38,  4.18s/it]  Rate limit reached. Sleeping for: 896\n",
      "checking followees:  54%|█████▍    | 1454/2686 [30:02:28<1:24:00,  4.09s/it]  Rate limit reached. Sleeping for: 895\n",
      "checking followees:  55%|█████▍    | 1465/2686 [30:17:29<2:44:10,  8.07s/it]  Rate limit reached. Sleeping for: 896\n",
      "checking followees:  55%|█████▍    | 1475/2686 [30:32:32<3:52:43, 11.53s/it]  Rate limit reached. Sleeping for: 896\n",
      "checking followees:  55%|█████▌    | 1483/2686 [30:47:34<7:52:19, 23.56s/it]  Rate limit reached. Sleeping for: 895\n",
      "checking followees:  56%|█████▌    | 1497/2686 [31:02:35<1:01:21,  3.10s/it]  Rate limit reached. Sleeping for: 896\n",
      "checking followees:  56%|█████▌    | 1504/2686 [31:17:37<10:39:35, 32.47s/it] Rate limit reached. Sleeping for: 895\n",
      "checking followees:  56%|█████▋    | 1516/2686 [31:32:38<2:00:02,  6.16s/it]  Rate limit reached. Sleeping for: 895\n",
      "checking followees:  57%|█████▋    | 1528/2686 [31:47:39<1:51:55,  5.80s/it]  Rate limit reached. Sleeping for: 895\n",
      "checking followees:  57%|█████▋    | 1541/2686 [32:02:40<1:17:37,  4.07s/it]  Rate limit reached. Sleeping for: 896\n",
      "checking followees:  58%|█████▊    | 1550/2686 [32:17:42<5:04:14, 16.07s/it]  Rate limit reached. Sleeping for: 895\n",
      "checking followees:  58%|█████▊    | 1563/2686 [32:32:42<1:18:30,  4.19s/it]  Rate limit reached. Sleeping for: 896\n",
      "checking followees:  59%|█████▊    | 1575/2686 [32:47:44<1:45:45,  5.71s/it]  Rate limit reached. Sleeping for: 895\n",
      "checking followees:  59%|█████▉    | 1586/2686 [33:02:45<2:27:57,  8.07s/it]  Rate limit reached. Sleeping for: 895\n",
      "checking followees:  59%|█████▉    | 1596/2686 [33:17:46<3:28:24, 11.47s/it]  Rate limit reached. Sleeping for: 895\n",
      "checking followees:  60%|█████▉    | 1610/2686 [33:32:46<53:15,  2.97s/it]    Rate limit reached. Sleeping for: 896\n",
      "checking followees:  60%|██████    | 1621/2686 [33:47:49<2:27:44,  8.32s/it]  Rate limit reached. Sleeping for: 895\n",
      "checking followees:  61%|██████    | 1635/2686 [34:02:49<50:49,  2.90s/it]    Rate limit reached. Sleeping for: 896\n",
      "checking followees:  61%|██████▏   | 1648/2686 [34:17:50<1:10:44,  4.09s/it]  Rate limit reached. Sleeping for: 896\n",
      "checking followees:  62%|██████▏   | 1659/2686 [34:32:53<2:22:05,  8.30s/it]  Rate limit reached. Sleeping for: 895\n",
      "checking followees:  62%|██████▏   | 1665/2686 [34:47:54<13:18:11, 46.91s/it] Rate limit reached. Sleeping for: 894\n",
      "checking followees:  62%|██████▏   | 1673/2686 [35:02:54<7:11:26, 25.55s/it]  Rate limit reached. Sleeping for: 895\n",
      "checking followees:  63%|██████▎   | 1684/2686 [35:17:55<2:24:04,  8.63s/it]  Rate limit reached. Sleeping for: 895\n",
      "checking followees:  63%|██████▎   | 1696/2686 [35:32:56<1:36:01,  5.82s/it]  Rate limit reached. Sleeping for: 895\n",
      "checking followees:  63%|██████▎   | 1703/2686 [35:47:57<8:57:52, 32.83s/it]  Rate limit reached. Sleeping for: 895\n",
      "checking followees:  64%|██████▍   | 1714/2686 [36:02:58<2:20:45,  8.69s/it]  Rate limit reached. Sleeping for: 895\n",
      "checking followees:  64%|██████▍   | 1727/2686 [36:17:59<1:05:48,  4.12s/it]  Rate limit reached. Sleeping for: 895\n",
      "checking followees:  65%|██████▍   | 1734/2686 [36:33:00<8:39:27, 32.74s/it]  Rate limit reached. Sleeping for: 894\n",
      "checking followees:  65%|██████▌   | 1747/2686 [36:48:00<1:07:15,  4.30s/it]  Rate limit reached. Sleeping for: 896\n",
      "checking followees:  65%|██████▌   | 1758/2686 [37:03:02<2:09:08,  8.35s/it]  Rate limit reached. Sleeping for: 895\n",
      "checking followees:  66%|██████▌   | 1769/2686 [37:18:03<2:03:57,  8.11s/it]  Rate limit reached. Sleeping for: 895\n",
      "checking followees:  66%|██████▋   | 1780/2686 [37:33:04<2:02:23,  8.11s/it]  Rate limit reached. Sleeping for: 895\n",
      "checking followees:  67%|██████▋   | 1793/2686 [37:48:05<1:01:20,  4.12s/it]  Rate limit reached. Sleeping for: 896\n",
      "checking followees:  67%|██████▋   | 1802/2686 [38:03:05<3:57:07, 16.09s/it]  Rate limit reached. Sleeping for: 895\n",
      "checking followees:  68%|██████▊   | 1816/2686 [38:18:07<44:00,  3.03s/it]    Rate limit reached. Sleeping for: 896\n",
      "checking followees:  68%|██████▊   | 1829/2686 [38:33:10<58:18,  4.08s/it]    Rate limit reached. Sleeping for: 895\n",
      "checking followees:  69%|██████▊   | 1842/2686 [38:48:10<56:52,  4.04s/it]    Rate limit reached. Sleeping for: 895\n",
      "checking followees:  69%|██████▉   | 1852/2686 [39:03:10<2:37:40, 11.34s/it]  Rate limit reached. Sleeping for: 896\n",
      "checking followees:  69%|██████▉   | 1861/2686 [39:18:13<3:47:07, 16.52s/it]  Rate limit reached. Sleeping for: 895\n",
      "checking followees:  70%|██████▉   | 1872/2686 [39:33:13<1:51:55,  8.25s/it]  Rate limit reached. Sleeping for: 895\n",
      "checking followees:  70%|███████   | 1884/2686 [39:48:15<1:17:43,  5.81s/it]  Rate limit reached. Sleeping for: 896\n",
      "checking followees:  71%|███████   | 1898/2686 [40:03:17<38:54,  2.96s/it]    Rate limit reached. Sleeping for: 896\n",
      "checking followees:  71%|███████   | 1911/2686 [40:18:18<52:20,  4.05s/it]    Rate limit reached. Sleeping for: 895\n",
      "checking followees:  72%|███████▏  | 1922/2686 [40:33:20<1:41:46,  7.99s/it]  Rate limit reached. Sleeping for: 895\n",
      "checking followees:  72%|███████▏  | 1935/2686 [40:48:21<51:51,  4.14s/it]    Rate limit reached. Sleeping for: 896\n",
      "checking followees:  73%|███████▎  | 1948/2686 [41:03:22<49:42,  4.04s/it]    Rate limit reached. Sleeping for: 896\n",
      "checking followees:  73%|███████▎  | 1961/2686 [41:18:24<49:33,  4.10s/it]    Rate limit reached. Sleeping for: 896\n",
      "checking followees:  73%|███████▎  | 1973/2686 [41:33:24<1:07:30,  5.68s/it]  Rate limit reached. Sleeping for: 896\n",
      "checking followees:  74%|███████▍  | 1985/2686 [41:48:28<1:06:37,  5.70s/it]  Rate limit reached. Sleeping for: 895\n",
      "checking followees:  74%|███████▍  | 1996/2686 [42:03:28<1:31:57,  8.00s/it]  Rate limit reached. Sleeping for: 896\n",
      "checking followees:  75%|███████▍  | 2008/2686 [42:18:30<1:05:13,  5.77s/it]  Rate limit reached. Sleeping for: 895\n",
      "checking followees:  75%|███████▌  | 2016/2686 [42:33:31<4:15:59, 22.92s/it]  Rate limit reached. Sleeping for: 895\n",
      "checking followees:  76%|███████▌  | 2029/2686 [42:48:32<47:23,  4.33s/it]    Rate limit reached. Sleeping for: 895\n",
      "checking followees:  76%|███████▌  | 2038/2686 [43:03:33<2:53:40, 16.08s/it]  Rate limit reached. Sleeping for: 895\n",
      "checking followees:  76%|███████▌  | 2045/2686 [43:18:32<5:56:11, 33.34s/it]  Rate limit reached. Sleeping for: 894\n",
      "checking followees:  76%|███████▋  | 2054/2686 [43:33:35<3:02:31, 17.33s/it]  Rate limit reached. Sleeping for: 895\n",
      "checking followees:  77%|███████▋  | 2068/2686 [43:48:36<30:54,  3.00s/it]    Rate limit reached. Sleeping for: 895\n",
      "checking followees:  77%|███████▋  | 2081/2686 [44:03:36<40:20,  4.00s/it]    Rate limit reached. Sleeping for: 896\n",
      "checking followees:  78%|███████▊  | 2095/2686 [44:18:38<28:53,  2.93s/it]    Rate limit reached. Sleeping for: 895\n",
      "checking followees:  78%|███████▊  | 2102/2686 [44:33:37<5:12:57, 32.15s/it]  Rate limit reached. Sleeping for: 895\n",
      "checking followees:  79%|███████▊  | 2112/2686 [44:48:39<1:57:29, 12.28s/it]  Rate limit reached. Sleeping for: 895\n",
      "checking followees:  79%|███████▉  | 2119/2686 [45:03:42<5:13:03, 33.13s/it]  Rate limit reached. Sleeping for: 894\n",
      "checking followees:  79%|███████▉  | 2133/2686 [45:18:41<28:20,  3.08s/it]    Rate limit reached. Sleeping for: 896\n",
      "checking followees:  80%|███████▉  | 2140/2686 [45:33:43<4:54:01, 32.31s/it]  Rate limit reached. Sleeping for: 895\n",
      "checking followees:  80%|████████  | 2152/2686 [45:48:44<54:32,  6.13s/it]    Rate limit reached. Sleeping for: 896\n",
      "checking followees:  81%|████████  | 2166/2686 [46:03:46<25:55,  2.99s/it]    Rate limit reached. Sleeping for: 896\n",
      "checking followees:  81%|████████  | 2176/2686 [46:18:48<1:37:13, 11.44s/it]  Rate limit reached. Sleeping for: 895\n",
      "checking followees:  81%|████████▏ | 2187/2686 [46:33:49<1:07:43,  8.14s/it]  Rate limit reached. Sleeping for: 895\n",
      "checking followees:  82%|████████▏ | 2202/2686 [46:48:50<17:21,  2.15s/it]    Rate limit reached. Sleeping for: 896\n",
      "checking followees:  82%|████████▏ | 2213/2686 [47:03:52<1:02:48,  7.97s/it]  Rate limit reached. Sleeping for: 895\n",
      "checking followees:  83%|████████▎ | 2225/2686 [47:18:53<45:19,  5.90s/it]    Rate limit reached. Sleeping for: 896\n",
      "checking followees:  83%|████████▎ | 2235/2686 [47:33:55<1:25:14, 11.34s/it]  Rate limit reached. Sleeping for: 895\n",
      "checking followees:  83%|████████▎ | 2241/2686 [47:48:53<5:47:01, 46.79s/it]  "
     ]
    },
    {
     "name": "stdout",
     "output_type": "stream",
     "text": [
      "404 Not Found\n",
      "34 - Sorry, that page does not exist.\n",
      "821464321817542657\n"
     ]
    },
    {
     "name": "stderr",
     "output_type": "stream",
     "text": [
      "checking followees:  84%|████████▎ | 2248/2686 [47:48:55<30:50,  4.22s/it]  Rate limit reached. Sleeping for: 895\n",
      "checking followees:  84%|████████▍ | 2260/2686 [48:03:56<40:38,  5.72s/it]    Rate limit reached. Sleeping for: 895\n",
      "checking followees:  85%|████████▍ | 2274/2686 [48:18:57<20:42,  3.02s/it]    Rate limit reached. Sleeping for: 895\n",
      "checking followees:  85%|████████▌ | 2286/2686 [48:33:58<38:16,  5.74s/it]    Rate limit reached. Sleeping for: 895\n",
      "checking followees:  86%|████████▌ | 2297/2686 [48:48:59<53:07,  8.19s/it]    Rate limit reached. Sleeping for: 895\n",
      "checking followees:  86%|████████▌ | 2308/2686 [49:04:00<51:31,  8.18s/it]    Rate limit reached. Sleeping for: 895\n",
      "checking followees:  86%|████████▋ | 2319/2686 [49:19:00<49:10,  8.04s/it]    Rate limit reached. Sleeping for: 895\n",
      "checking followees:  87%|████████▋ | 2332/2686 [49:34:02<24:13,  4.11s/it]    Rate limit reached. Sleeping for: 895\n",
      "checking followees:  87%|████████▋ | 2345/2686 [49:49:03<22:51,  4.02s/it]    Rate limit reached. Sleeping for: 896\n",
      "checking followees:  88%|████████▊ | 2360/2686 [50:04:04<11:30,  2.12s/it]    Rate limit reached. Sleeping for: 896\n",
      "checking followees:  88%|████████▊ | 2375/2686 [50:19:06<10:56,  2.11s/it]    Rate limit reached. Sleeping for: 895\n",
      "checking followees:  89%|████████▉ | 2388/2686 [50:34:07<20:21,  4.10s/it]    Rate limit reached. Sleeping for: 895\n",
      "checking followees:  89%|████████▉ | 2397/2686 [50:49:08<1:17:58, 16.19s/it]  Rate limit reached. Sleeping for: 895\n",
      "checking followees:  90%|████████▉ | 2408/2686 [51:04:09<38:25,  8.29s/it]    Rate limit reached. Sleeping for: 895\n",
      "checking followees:  90%|████████▉ | 2417/2686 [51:19:10<1:13:12, 16.33s/it]  Rate limit reached. Sleeping for: 895\n",
      "checking followees:  90%|█████████ | 2427/2686 [51:34:12<50:20, 11.66s/it]    Rate limit reached. Sleeping for: 894\n",
      "checking followees:  91%|█████████ | 2440/2686 [51:49:12<17:08,  4.18s/it]    Rate limit reached. Sleeping for: 896\n",
      "checking followees:  91%|█████████▏| 2452/2686 [52:04:13<22:35,  5.79s/it]    Rate limit reached. Sleeping for: 896\n",
      "checking followees:  92%|█████████▏| 2463/2686 [52:19:15<30:04,  8.09s/it]    Rate limit reached. Sleeping for: 895\n",
      "checking followees:  92%|█████████▏| 2470/2686 [52:34:17<2:00:35, 33.50s/it]  Rate limit reached. Sleeping for: 894\n",
      "checking followees:  92%|█████████▏| 2480/2686 [52:49:17<41:54, 12.20s/it]    Rate limit reached. Sleeping for: 895\n",
      "checking followees:  93%|█████████▎| 2495/2686 [53:04:18<07:09,  2.25s/it]    Rate limit reached. Sleeping for: 895\n",
      "checking followees:  93%|█████████▎| 2507/2686 [53:19:19<17:15,  5.79s/it]    Rate limit reached. Sleeping for: 895\n",
      "checking followees:  94%|█████████▍| 2520/2686 [53:34:20<11:13,  4.06s/it]    "
     ]
    },
    {
     "name": "stdout",
     "output_type": "stream",
     "text": [
      "401 Unauthorized\n",
      "Not authorized.\n",
      "919982894\n"
     ]
    },
    {
     "name": "stderr",
     "output_type": "stream",
     "text": [
      "Rate limit reached. Sleeping for: 895\n",
      "checking followees:  94%|█████████▍| 2534/2686 [53:49:21<07:28,  2.95s/it]    Rate limit reached. Sleeping for: 895\n",
      "checking followees:  95%|█████████▍| 2543/2686 [54:04:23<38:34, 16.19s/it]    Rate limit reached. Sleeping for: 895\n",
      "checking followees:  95%|█████████▌| 2557/2686 [54:19:24<06:37,  3.08s/it]    Rate limit reached. Sleeping for: 896\n",
      "checking followees:  96%|█████████▌| 2568/2686 [54:34:25<15:41,  7.97s/it]   Rate limit reached. Sleeping for: 895\n",
      "checking followees:  96%|█████████▌| 2579/2686 [54:49:27<14:36,  8.19s/it]   Rate limit reached. Sleeping for: 895\n",
      "checking followees:  97%|█████████▋| 2593/2686 [55:04:28<04:38,  3.00s/it]   Rate limit reached. Sleeping for: 895\n",
      "checking followees:  97%|█████████▋| 2608/2686 [55:19:29<02:51,  2.20s/it]   Rate limit reached. Sleeping for: 895\n",
      "checking followees:  98%|█████████▊| 2620/2686 [55:34:29<06:15,  5.69s/it]   Rate limit reached. Sleeping for: 896\n",
      "checking followees:  98%|█████████▊| 2628/2686 [55:49:32<22:19, 23.09s/it]   Rate limit reached. Sleeping for: 894\n",
      "checking followees:  98%|█████████▊| 2642/2686 [56:04:32<02:16,  3.10s/it]   Rate limit reached. Sleeping for: 895\n",
      "checking followees:  99%|█████████▉| 2656/2686 [56:19:33<01:29,  2.97s/it]   Rate limit reached. Sleeping for: 895\n",
      "checking followees:  99%|█████████▉| 2669/2686 [56:34:34<01:10,  4.13s/it]   Rate limit reached. Sleeping for: 895\n",
      "checking followees: 100%|█████████▉| 2681/2686 [56:49:35<00:29,  5.80s/it]   Rate limit reached. Sleeping for: 896\n",
      "checking followees: 100%|██████████| 2686/2686 [57:04:34<00:00, 76.50s/it] \n"
     ]
    }
   ],
   "source": [
    "from data_utils import get_new_retweeters_repliers\n",
    "out_path = os.path.join(DATA_PATH, 'followee_lists_of_new_retweeters_repliers.jsonl')\n",
    "\n",
    "repliers = get_new_retweeters_repliers()\n",
    "\n",
    "exception_users_new = dict()\n",
    "exception_users_new.update(get_followee_lists(repliers, out_path, api))"
   ],
   "metadata": {
    "collapsed": false
   }
  },
  {
   "cell_type": "code",
   "execution_count": 29,
   "outputs": [
    {
     "name": "stderr",
     "output_type": "stream",
     "text": [
      "checking followees:   7%|▋         | 15/204 [00:03<00:43,  4.32it/s]Rate limit reached. Sleeping for: 896\n",
      "checking followees:  15%|█▍        | 30/204 [15:04<05:59,  2.07s/it]    Rate limit reached. Sleeping for: 896\n",
      "checking followees:  22%|██▏       | 45/204 [30:05<05:30,  2.08s/it]    Rate limit reached. Sleeping for: 896\n",
      "checking followees:  29%|██▉       | 60/204 [45:06<05:05,  2.12s/it]    Rate limit reached. Sleeping for: 896\n",
      "checking followees:  37%|███▋      | 75/204 [1:00:07<04:37,  2.15s/it]    Rate limit reached. Sleeping for: 896\n",
      "checking followees:  42%|████▏     | 86/204 [1:15:08<15:48,  8.04s/it]   Rate limit reached. Sleeping for: 896\n",
      "checking followees:  50%|████▉     | 101/204 [1:30:10<03:41,  2.15s/it]  Rate limit reached. Sleeping for: 896\n",
      "checking followees:  56%|█████▋    | 115/204 [1:45:12<04:15,  2.88s/it]   Rate limit reached. Sleeping for: 896\n",
      "checking followees:  63%|██████▎   | 129/204 [2:00:13<03:36,  2.88s/it]   Rate limit reached. Sleeping for: 895\n",
      "checking followees:  67%|██████▋   | 136/204 [2:15:11<36:23, 32.11s/it]   Rate limit reached. Sleeping for: 895\n",
      "checking followees:  72%|███████▏  | 147/204 [2:30:14<08:06,  8.54s/it]   Rate limit reached. Sleeping for: 896\n",
      "checking followees:  79%|███████▉  | 162/204 [2:45:16<01:32,  2.19s/it]   Rate limit reached. Sleeping for: 896\n",
      "checking followees:  87%|████████▋ | 177/204 [3:00:17<00:56,  2.10s/it]   Rate limit reached. Sleeping for: 896\n",
      "checking followees:  93%|█████████▎| 190/204 [3:15:18<00:56,  4.03s/it]   Rate limit reached. Sleeping for: 896\n",
      "checking followees:  99%|█████████▊| 201/204 [3:30:21<00:24,  8.04s/it] Rate limit reached. Sleeping for: 895\n",
      "checking followees: 100%|██████████| 204/204 [3:45:18<00:00, 66.27s/it] \n"
     ]
    }
   ],
   "source": [
    "from data_utils import get_new_author_ids\n",
    "out_path = os.path.join(DATA_PATH, 'followee_lists_new.jsonl')\n",
    "\n",
    "new_authors = get_new_author_ids()\n",
    "\n",
    "exception_users_new = dict()\n",
    "exception_users_new.update(get_followee_lists(new_authors, out_path, api))"
   ],
   "metadata": {
    "collapsed": false
   }
  },
  {
   "cell_type": "code",
   "execution_count": 30,
   "outputs": [],
   "source": [
    "write_error_users(exception_users, os.path.join(DATA_PATH, 'new_authors_missing.jsonl'))"
   ],
   "metadata": {
    "collapsed": false
   }
  },
  {
   "cell_type": "code",
   "execution_count": 3,
   "outputs": [
    {
     "name": "stderr",
     "output_type": "stream",
     "text": [
      "checking followees:   3%|▎         | 14/482 [00:03<01:44,  4.46it/s]Rate limit reached. Sleeping for: 896\n",
      "checking followees:   6%|▌         | 29/482 [15:04<15:34,  2.06s/it]    Rate limit reached. Sleeping for: 896\n",
      "checking followees:   9%|▊         | 42/482 [30:05<30:16,  4.13s/it]    Rate limit reached. Sleeping for: 896\n",
      "checking followees:  10%|█         | 50/482 [45:07<2:45:09, 22.94s/it]  Rate limit reached. Sleeping for: 895\n",
      "checking followees:  13%|█▎        | 62/482 [1:00:07<41:38,  5.95s/it]    Rate limit reached. Sleeping for: 896\n",
      "checking followees:  16%|█▌        | 76/482 [1:15:09<19:40,  2.91s/it]    Rate limit reached. Sleeping for: 897\n",
      "checking followees:  17%|█▋        | 81/482 [1:30:10<7:18:31, 65.62s/it]  Rate limit reached. Sleeping for: 895\n",
      "checking followees:  18%|█▊        | 86/482 [1:45:10<8:21:43, 76.02s/it]  "
     ]
    },
    {
     "name": "stdout",
     "output_type": "stream",
     "text": [
      "404 Not Found\n",
      "34 - Sorry, that page does not exist.\n",
      "1224122849553780737\n"
     ]
    },
    {
     "name": "stderr",
     "output_type": "stream",
     "text": [
      "checking followees:  20%|█▉        | 95/482 [1:45:12<21:18,  3.30s/it]  Rate limit reached. Sleeping for: 896\n",
      "checking followees:  23%|██▎       | 109/482 [2:00:13<17:58,  2.89s/it]   Rate limit reached. Sleeping for: 896\n",
      "checking followees:  25%|██▍       | 120/482 [2:15:15<47:55,  7.94s/it]    Rate limit reached. Sleeping for: 895\n",
      "checking followees:  28%|██▊       | 133/482 [2:30:16<24:42,  4.25s/it]    Rate limit reached. Sleeping for: 895\n",
      "checking followees:  30%|███       | 147/482 [2:45:16<16:39,  2.98s/it]    Rate limit reached. Sleeping for: 896\n",
      "checking followees:  33%|███▎      | 159/482 [3:00:16<30:03,  5.59s/it]    Rate limit reached. Sleeping for: 896\n",
      "checking followees:  36%|███▌      | 174/482 [3:15:18<10:41,  2.08s/it]    Rate limit reached. Sleeping for: 896\n",
      "checking followees:  38%|███▊      | 185/482 [3:30:20<39:42,  8.02s/it]    Rate limit reached. Sleeping for: 895\n",
      "checking followees:  40%|████      | 194/482 [3:45:21<1:17:35, 16.16s/it]  Rate limit reached. Sleeping for: 896\n",
      "checking followees:  41%|████      | 197/482 [4:00:18<10:53:29, 137.58s/it]"
     ]
    },
    {
     "name": "stdout",
     "output_type": "stream",
     "text": [
      "401 Unauthorized\n",
      "Not authorized.\n",
      "2198461859\n"
     ]
    },
    {
     "name": "stderr",
     "output_type": "stream",
     "text": [
      "checking followees:  43%|████▎     | 207/482 [4:00:21<19:35,  4.28s/it]    Rate limit reached. Sleeping for: 896\n",
      "checking followees:  44%|████▍     | 212/482 [4:15:24<4:56:21, 65.86s/it]  Rate limit reached. Sleeping for: 895\n",
      "checking followees:  47%|████▋     | 225/482 [4:30:23<19:41,  4.60s/it]    Rate limit reached. Sleeping for: 896\n",
      "checking followees:  49%|████▉     | 238/482 [4:45:26<16:23,  4.03s/it]    Rate limit reached. Sleeping for: 895\n",
      "checking followees:  52%|█████▏    | 251/482 [5:00:26<15:24,  4.00s/it]    Rate limit reached. Sleeping for: 896\n",
      "checking followees:  53%|█████▎    | 255/482 [5:15:24<5:54:02, 93.58s/it]  Rate limit reached. Sleeping for: 895\n",
      "Rate limit reached. Sleeping for: 894\n",
      "Rate limit reached. Sleeping for: 894\n",
      "Rate limit reached. Sleeping for: 894\n",
      "Rate limit reached. Sleeping for: 894\n",
      "Rate limit reached. Sleeping for: 894\n",
      "Rate limit reached. Sleeping for: 894\n",
      "Rate limit reached. Sleeping for: 894\n",
      "Rate limit reached. Sleeping for: 894\n",
      "Rate limit reached. Sleeping for: 894\n",
      "checking followees:  56%|█████▌    | 269/482 [7:45:38<1:36:09, 27.09s/it]    Rate limit reached. Sleeping for: 895\n",
      "checking followees:  59%|█████▉    | 284/482 [8:00:37<07:13,  2.19s/it]    Rate limit reached. Sleeping for: 897\n",
      "checking followees:  62%|██████▏   | 297/482 [8:15:39<12:23,  4.02s/it]    Rate limit reached. Sleeping for: 895\n",
      "checking followees:  63%|██████▎   | 306/482 [8:30:40<47:22, 16.15s/it]    Rate limit reached. Sleeping for: 895\n",
      "checking followees:  66%|██████▌   | 318/482 [8:45:41<15:54,  5.82s/it]    Rate limit reached. Sleeping for: 896\n",
      "checking followees:  68%|██████▊   | 330/482 [9:00:43<14:58,  5.91s/it]    Rate limit reached. Sleeping for: 895\n",
      "checking followees:  70%|███████   | 339/482 [9:15:42<38:05, 15.99s/it]    Rate limit reached. Sleeping for: 896\n",
      "checking followees:  73%|███████▎  | 351/482 [9:30:45<12:43,  5.83s/it]    Rate limit reached. Sleeping for: 895\n",
      "Rate limit reached. Sleeping for: 894\n",
      "Rate limit reached. Sleeping for: 894\n",
      "Rate limit reached. Sleeping for: 894\n",
      "Rate limit reached. Sleeping for: 894\n",
      "Rate limit reached. Sleeping for: 894\n",
      "Rate limit reached. Sleeping for: 894\n",
      "checking followees:  76%|███████▌  | 364/482 [11:15:51<52:15, 26.57s/it]     Rate limit reached. Sleeping for: 896\n",
      "checking followees:  79%|███████▊  | 379/482 [11:30:52<03:44,  2.18s/it]   Rate limit reached. Sleeping for: 896\n",
      "checking followees:  82%|████████▏ | 394/482 [11:45:54<03:04,  2.09s/it]   Rate limit reached. Sleeping for: 896\n",
      "checking followees:  83%|████████▎ | 398/482 [12:00:53<2:10:33, 93.25s/it] Rate limit reached. Sleeping for: 895\n",
      "checking followees:  85%|████████▍ | 408/482 [12:15:57<17:24, 14.11s/it]   Rate limit reached. Sleeping for: 895\n",
      "checking followees:  85%|████████▌ | 411/482 [12:30:54<2:41:48, 136.74s/it]"
     ]
    },
    {
     "name": "stdout",
     "output_type": "stream",
     "text": [
      "404 Not Found\n",
      "34 - Sorry, that page does not exist.\n",
      "83969065\n"
     ]
    },
    {
     "name": "stderr",
     "output_type": "stream",
     "text": [
      "checking followees:  87%|████████▋ | 418/482 [12:30:58<12:40, 11.88s/it]   Rate limit reached. Sleeping for: 896\n",
      "checking followees:  90%|████████▉ | 432/482 [12:45:59<02:34,  3.09s/it]   Rate limit reached. Sleeping for: 897\n",
      "checking followees:  91%|█████████▏| 441/482 [13:01:02<11:04, 16.20s/it]   Rate limit reached. Sleeping for: 896\n",
      "checking followees:  93%|█████████▎| 446/482 [13:16:04<40:45, 67.92s/it]   Rate limit reached. Sleeping for: 895\n",
      "checking followees:  96%|█████████▌| 461/482 [13:31:04<00:50,  2.39s/it]   Rate limit reached. Sleeping for: 896\n",
      "checking followees:  97%|█████████▋| 468/482 [13:46:06<07:31, 32.24s/it]   Rate limit reached. Sleeping for: 895\n",
      "checking followees: 100%|██████████| 482/482 [14:01:06<00:00, 104.70s/it]  \n"
     ]
    },
    {
     "ename": "NameError",
     "evalue": "name 'write_error_users' is not defined",
     "output_type": "error",
     "traceback": [
      "\u001B[1;31m---------------------------------------------------------------------------\u001B[0m",
      "\u001B[1;31mNameError\u001B[0m                                 Traceback (most recent call last)",
      "Cell \u001B[1;32mIn[3], line 7\u001B[0m\n\u001B[0;32m      5\u001B[0m errpath \u001B[38;5;241m=\u001B[39m os\u001B[38;5;241m.\u001B[39mpath\u001B[38;5;241m.\u001B[39mjoin(DATA_PATH, \u001B[38;5;124m'\u001B[39m\u001B[38;5;124mauthors_missing.jsonl\u001B[39m\u001B[38;5;124m'\u001B[39m)\n\u001B[0;32m      6\u001B[0m exception_users \u001B[38;5;241m=\u001B[39m get_followee_lists(newer_author_ids, out_path, api)\n\u001B[1;32m----> 7\u001B[0m \u001B[43mwrite_error_users\u001B[49m(exception_users, errpath)\n",
      "\u001B[1;31mNameError\u001B[0m: name 'write_error_users' is not defined"
     ]
    }
   ],
   "source": [
    "from data_utils import get_newer_author_ids\n",
    "\n",
    "newer_author_ids = get_newer_author_ids('all-new-polls.json')\n",
    "out_path = os.path.join(DATA_PATH, f'followee_lists_newer.jsonl')\n",
    "errpath = os.path.join(DATA_PATH, 'authors_missing.jsonl')\n",
    "exception_users = get_followee_lists(newer_author_ids, out_path, api)\n",
    "write_error_users(exception_users, errpath)"
   ],
   "metadata": {
    "collapsed": false
   }
  },
  {
   "cell_type": "code",
   "execution_count": 5,
   "outputs": [],
   "source": [
    "write_error_users(exception_users, errpath)"
   ],
   "metadata": {
    "collapsed": false
   }
  },
  {
   "cell_type": "code",
   "execution_count": 3,
   "outputs": [],
   "source": [
    "import pandas as pd\n",
    "ids = set()\n",
    "with open('data/overlapping_followers_2020.csv') as f:\n",
    "    for l in f:\n",
    "        ids.add(l.strip().split(' ')[1])"
   ],
   "metadata": {
    "collapsed": false
   }
  },
  {
   "cell_type": "code",
   "execution_count": 4,
   "outputs": [],
   "source": [
    "existing_users = set()\n",
    "for out_path in [os.path.join('data', fname) for fname in os.listdir('data') if fname.startswith('followee_lists')]:\n",
    "    existing_users.update(get_authors_from_follower_lists(out_path))"
   ],
   "metadata": {
    "collapsed": false
   }
  },
  {
   "cell_type": "code",
   "execution_count": 5,
   "outputs": [
    {
     "data": {
      "text/plain": "(1298903, 1291707)"
     },
     "execution_count": 5,
     "metadata": {},
     "output_type": "execute_result"
    }
   ],
   "source": [
    "remaining_ids = ids.difference(existing_users)\n",
    "len(ids), len(remaining_ids)"
   ],
   "metadata": {
    "collapsed": false
   }
  },
  {
   "cell_type": "code",
   "execution_count": 6,
   "outputs": [],
   "source": [
    "some_ids = np.random.choice(list(remaining_ids), 10000)"
   ],
   "metadata": {
    "collapsed": false
   }
  },
  {
   "cell_type": "code",
   "execution_count": null,
   "outputs": [
    {
     "name": "stderr",
     "output_type": "stream",
     "text": [
      "checking followees:   0%|          | 10/10000 [00:02<42:54,  3.88it/s]"
     ]
    },
    {
     "name": "stdout",
     "output_type": "stream",
     "text": [
      "401 Unauthorized\n",
      "Not authorized.\n",
      "729678101869924354\n"
     ]
    },
    {
     "name": "stderr",
     "output_type": "stream",
     "text": [
      "checking followees:   0%|          | 15/10000 [00:03<39:59,  4.16it/s]Rate limit reached. Sleeping for: 897\n",
      "checking followees:   0%|          | 16/10000 [15:02<750:27:40, 270.60s/it]"
     ]
    },
    {
     "name": "stdout",
     "output_type": "stream",
     "text": [
      "401 Unauthorized\n",
      "Not authorized.\n",
      "1287188491932258304\n"
     ]
    },
    {
     "name": "stderr",
     "output_type": "stream",
     "text": [
      "checking followees:   0%|          | 18/10000 [15:02<367:25:22, 132.51s/it]"
     ]
    },
    {
     "name": "stdout",
     "output_type": "stream",
     "text": [
      "401 Unauthorized\n",
      "Not authorized.\n",
      "853602729524174850\n"
     ]
    },
    {
     "name": "stderr",
     "output_type": "stream",
     "text": [
      "checking followees:   0%|          | 21/10000 [15:03<126:25:06, 45.61s/it] "
     ]
    },
    {
     "name": "stdout",
     "output_type": "stream",
     "text": [
      "401 Unauthorized\n",
      "Not authorized.\n",
      "1265736768344788993\n"
     ]
    },
    {
     "name": "stderr",
     "output_type": "stream",
     "text": [
      "checking followees:   0%|          | 28/10000 [15:06<11:12:40,  4.05s/it] Rate limit reached. Sleeping for: 895\n",
      "checking followees:   0%|          | 33/10000 [30:05<181:28:09, 65.55s/it] "
     ]
    },
    {
     "name": "stdout",
     "output_type": "stream",
     "text": [
      "401 Unauthorized\n",
      "Not authorized.\n",
      "83673742\n"
     ]
    },
    {
     "name": "stderr",
     "output_type": "stream",
     "text": [
      "checking followees:   0%|          | 42/10000 [30:07<7:59:20,  2.89s/it]  Rate limit reached. Sleeping for: 896\n",
      "checking followees:   1%|          | 52/10000 [45:08<31:00:34, 11.22s/it]  "
     ]
    },
    {
     "name": "stdout",
     "output_type": "stream",
     "text": [
      "401 Unauthorized\n",
      "Not authorized.\n",
      "1614877772320481280\n"
     ]
    },
    {
     "name": "stderr",
     "output_type": "stream",
     "text": [
      "checking followees:   1%|          | 53/10000 [45:08<21:52:48,  7.92s/it]"
     ]
    },
    {
     "name": "stdout",
     "output_type": "stream",
     "text": [
      "404 Not Found\n",
      "34 - Sorry, that page does not exist.\n",
      "1575254404604772352\n"
     ]
    },
    {
     "name": "stderr",
     "output_type": "stream",
     "text": [
      "checking followees:   1%|          | 54/10000 [45:09<15:38:51,  5.66s/it]Rate limit reached. Sleeping for: 895\n",
      "checking followees:   1%|          | 55/10000 [1:00:05<753:54:41, 272.91s/it]"
     ]
    },
    {
     "name": "stdout",
     "output_type": "stream",
     "text": [
      "401 Unauthorized\n",
      "Not authorized.\n",
      "772845506242441217\n"
     ]
    },
    {
     "name": "stderr",
     "output_type": "stream",
     "text": [
      "checking followees:   1%|          | 63/10000 [1:00:10<44:14:20, 16.03s/it]  Rate limit reached. Sleeping for: 895\n",
      "checking followees:   1%|          | 70/10000 [1:15:08<91:33:51, 33.20s/it]  "
     ]
    },
    {
     "name": "stdout",
     "output_type": "stream",
     "text": [
      "404 Not Found\n",
      "34 - Sorry, that page does not exist.\n",
      "983402159638241280\n"
     ]
    },
    {
     "name": "stderr",
     "output_type": "stream",
     "text": [
      "checking followees:   1%|          | 74/10000 [1:15:09<22:27:06,  8.14s/it]"
     ]
    },
    {
     "name": "stdout",
     "output_type": "stream",
     "text": [
      "401 Unauthorized\n",
      "Not authorized.\n",
      "54600137\n"
     ]
    },
    {
     "name": "stderr",
     "output_type": "stream",
     "text": [
      "checking followees:   1%|          | 75/10000 [1:15:10<15:53:53,  5.77s/it]"
     ]
    },
    {
     "name": "stdout",
     "output_type": "stream",
     "text": [
      "401 Unauthorized\n",
      "Not authorized.\n",
      "96500503\n"
     ]
    },
    {
     "name": "stderr",
     "output_type": "stream",
     "text": [
      "checking followees:   1%|          | 76/10000 [1:15:10<11:19:58,  4.11s/it]Rate limit reached. Sleeping for: 896\n",
      "checking followees:   1%|          | 79/10000 [1:30:08<367:45:30, 133.45s/it]"
     ]
    },
    {
     "name": "stdout",
     "output_type": "stream",
     "text": [
      "401 Unauthorized\n",
      "Not authorized.\n",
      "1140976002971131904\n"
     ]
    },
    {
     "name": "stderr",
     "output_type": "stream",
     "text": [
      "checking followees:   1%|          | 82/10000 [1:30:10<127:17:48, 46.21s/it] "
     ]
    },
    {
     "name": "stdout",
     "output_type": "stream",
     "text": [
      "401 Unauthorized\n",
      "Not authorized.\n",
      "703341504467771394\n"
     ]
    },
    {
     "name": "stderr",
     "output_type": "stream",
     "text": [
      "checking followees:   1%|          | 86/10000 [1:30:12<31:11:12, 11.32s/it] Rate limit reached. Sleeping for: 895\n",
      "checking followees:   1%|          | 99/10000 [1:45:12<11:18:52,  4.11s/it]  "
     ]
    },
    {
     "name": "stdout",
     "output_type": "stream",
     "text": [
      "401 Unauthorized\n",
      "Not authorized.\n",
      "1206356364\n"
     ]
    },
    {
     "name": "stderr",
     "output_type": "stream",
     "text": [
      "checking followees:   1%|          | 101/10000 [1:45:12<5:59:22,  2.18s/it]Rate limit reached. Sleeping for: 896\n",
      "checking followees:   1%|          | 102/10000 [2:00:10<744:27:25, 270.77s/it]"
     ]
    },
    {
     "name": "stdout",
     "output_type": "stream",
     "text": [
      "401 Unauthorized\n",
      "Not authorized.\n",
      "258746697\n"
     ]
    },
    {
     "name": "stderr",
     "output_type": "stream",
     "text": [
      "checking followees:   1%|          | 107/10000 [2:00:11<125:34:59, 45.70s/it] Rate limit reached. Sleeping for: 896\n",
      "checking followees:   1%|          | 111/10000 [2:15:17<286:27:31, 104.28s/it]Rate limit reached. Sleeping for: 895\n",
      "checking followees:   1%|          | 115/10000 [2:30:15<322:36:19, 117.49s/it]"
     ]
    },
    {
     "name": "stdout",
     "output_type": "stream",
     "text": [
      "401 Unauthorized\n",
      "Not authorized.\n",
      "1405129089971859457\n"
     ]
    },
    {
     "name": "stderr",
     "output_type": "stream",
     "text": [
      "checking followees:   1%|          | 119/10000 [2:30:16<77:58:54, 28.41s/it]  "
     ]
    },
    {
     "name": "stdout",
     "output_type": "stream",
     "text": [
      "401 Unauthorized\n",
      "Not authorized.\n",
      "1617678616841560064\n"
     ]
    },
    {
     "name": "stderr",
     "output_type": "stream",
     "text": [
      "checking followees:   1%|          | 123/10000 [2:30:17<19:19:28,  7.04s/it]Rate limit reached. Sleeping for: 896\n",
      "checking followees:   1%|▏         | 125/10000 [2:45:16<527:18:51, 192.24s/it]"
     ]
    },
    {
     "name": "stdout",
     "output_type": "stream",
     "text": [
      "401 Unauthorized\n",
      "Not authorized.\n",
      "1009933242198347782\n"
     ]
    },
    {
     "name": "stderr",
     "output_type": "stream",
     "text": [
      "checking followees:   1%|▏         | 130/10000 [2:45:17<89:24:11, 32.61s/it]  "
     ]
    },
    {
     "name": "stdout",
     "output_type": "stream",
     "text": [
      "401 Unauthorized\n",
      "Not authorized.\n",
      "1240081557148372992\n"
     ]
    },
    {
     "name": "stderr",
     "output_type": "stream",
     "text": [
      "checking followees:   1%|▏         | 132/10000 [2:45:18<44:10:45, 16.12s/it]"
     ]
    },
    {
     "name": "stdout",
     "output_type": "stream",
     "text": [
      "401 Unauthorized\n",
      "Not authorized.\n",
      "2227435979\n"
     ]
    },
    {
     "name": "stderr",
     "output_type": "stream",
     "text": [
      "checking followees:   1%|▏         | 133/10000 [2:45:18<31:05:44, 11.35s/it]"
     ]
    },
    {
     "name": "stdout",
     "output_type": "stream",
     "text": [
      "401 Unauthorized\n",
      "Not authorized.\n",
      "52703696\n"
     ]
    },
    {
     "name": "stderr",
     "output_type": "stream",
     "text": [
      "checking followees:   1%|▏         | 135/10000 [2:45:19<15:38:13,  5.71s/it]"
     ]
    },
    {
     "name": "stdout",
     "output_type": "stream",
     "text": [
      "401 Unauthorized\n",
      "Not authorized.\n",
      "4566428117\n"
     ]
    },
    {
     "name": "stderr",
     "output_type": "stream",
     "text": [
      "checking followees:   1%|▏         | 137/10000 [2:45:19<7:59:08,  2.91s/it] "
     ]
    },
    {
     "name": "stdout",
     "output_type": "stream",
     "text": [
      "401 Unauthorized\n",
      "Not authorized.\n",
      "194110186\n"
     ]
    },
    {
     "name": "stderr",
     "output_type": "stream",
     "text": [
      "Rate limit reached. Sleeping for: 896\n",
      "checking followees:   1%|▏         | 143/10000 [3:00:18<125:27:05, 45.82s/it] "
     ]
    },
    {
     "name": "stdout",
     "output_type": "stream",
     "text": [
      "401 Unauthorized\n",
      "Not authorized.\n",
      "307268882\n"
     ]
    },
    {
     "name": "stderr",
     "output_type": "stream",
     "text": [
      "checking followees:   2%|▏         | 150/10000 [3:00:21<11:11:11,  4.09s/it] "
     ]
    },
    {
     "name": "stdout",
     "output_type": "stream",
     "text": [
      "404 Not Found\n",
      "34 - Sorry, that page does not exist.\n",
      "1583775217515741185\n"
     ]
    },
    {
     "name": "stderr",
     "output_type": "stream",
     "text": [
      "Rate limit reached. Sleeping for: 897\n",
      "checking followees:   2%|▏         | 158/10000 [3:15:22<62:07:58, 22.73s/it]  "
     ]
    },
    {
     "name": "stdout",
     "output_type": "stream",
     "text": [
      "401 Unauthorized\n",
      "Not authorized.\n",
      "34994114\n"
     ]
    },
    {
     "name": "stderr",
     "output_type": "stream",
     "text": [
      "checking followees:   2%|▏         | 163/10000 [3:15:23<11:05:11,  4.06s/it]Rate limit reached. Sleeping for: 896\n",
      "checking followees:   2%|▏         | 168/10000 [3:30:22<178:56:36, 65.52s/it] "
     ]
    },
    {
     "name": "stdout",
     "output_type": "stream",
     "text": [
      "401 Unauthorized\n",
      "Not authorized.\n",
      "420361821\n"
     ]
    },
    {
     "name": "stderr",
     "output_type": "stream",
     "text": [
      "checking followees:   2%|▏         | 175/10000 [3:30:24<15:20:33,  5.62s/it] Rate limit reached. Sleeping for: 896\n",
      "checking followees:   2%|▏         | 178/10000 [3:45:24<366:17:27, 134.25s/it]"
     ]
    },
    {
     "name": "stdout",
     "output_type": "stream",
     "text": [
      "401 Unauthorized\n",
      "Not authorized.\n",
      "744083072178593792\n"
     ]
    },
    {
     "name": "stderr",
     "output_type": "stream",
     "text": [
      "checking followees:   2%|▏         | 179/10000 [3:45:24<256:34:35, 94.05s/it] Rate limit reached. Sleeping for: 895\n",
      "Rate limit reached. Sleeping for: 894\n",
      "checking followees:   2%|▏         | 188/10000 [4:15:30<96:04:21, 35.25s/it]   Rate limit reached. Sleeping for: 896\n",
      "checking followees:   2%|▏         | 200/10000 [4:30:31<16:26:19,  6.04s/it]  "
     ]
    },
    {
     "name": "stdout",
     "output_type": "stream",
     "text": [
      "401 Unauthorized\n",
      "Not authorized.\n",
      "1324458043149557766\n"
     ]
    },
    {
     "name": "stderr",
     "output_type": "stream",
     "text": [
      "checking followees:   2%|▏         | 203/10000 [4:30:31<6:10:29,  2.27s/it] Rate limit reached. Sleeping for: 897\n",
      "checking followees:   2%|▏         | 206/10000 [4:45:30<361:44:08, 132.96s/it]"
     ]
    },
    {
     "name": "stdout",
     "output_type": "stream",
     "text": [
      "401 Unauthorized\n",
      "Not authorized.\n",
      "1500879136730062848\n"
     ]
    },
    {
     "name": "stderr",
     "output_type": "stream",
     "text": [
      "checking followees:   2%|▏         | 210/10000 [4:45:32<87:56:07, 32.34s/it]  Rate limit reached. Sleeping for: 896\n",
      "Rate limit reached. Sleeping for: 894\n",
      "checking followees:   2%|▏         | 215/10000 [5:15:36<368:10:51, 135.46s/it] "
     ]
    },
    {
     "name": "stdout",
     "output_type": "stream",
     "text": [
      "404 Not Found\n",
      "34 - Sorry, that page does not exist.\n",
      "21589996\n"
     ]
    },
    {
     "name": "stderr",
     "output_type": "stream",
     "text": [
      "checking followees:   2%|▏         | 218/10000 [5:15:36<126:38:30, 46.61s/it] "
     ]
    },
    {
     "name": "stdout",
     "output_type": "stream",
     "text": [
      "401 Unauthorized\n",
      "Not authorized.\n",
      "1233863740501700610\n"
     ]
    },
    {
     "name": "stderr",
     "output_type": "stream",
     "text": [
      "checking followees:   2%|▏         | 219/10000 [5:15:37<88:49:04, 32.69s/it] Rate limit reached. Sleeping for: 896\n",
      "checking followees:   2%|▏         | 222/10000 [5:30:36<389:49:16, 143.52s/it]"
     ]
    },
    {
     "name": "stdout",
     "output_type": "stream",
     "text": [
      "401 Unauthorized\n",
      "Not authorized.\n",
      "1111053488929284096\n"
     ]
    },
    {
     "name": "stderr",
     "output_type": "stream",
     "text": [
      "checking followees:   2%|▏         | 224/10000 [5:30:37<191:39:44, 70.58s/it] "
     ]
    },
    {
     "name": "stdout",
     "output_type": "stream",
     "text": [
      "404 Not Found\n",
      "34 - Sorry, that page does not exist.\n",
      "1139935701208903680\n"
     ]
    },
    {
     "name": "stderr",
     "output_type": "stream",
     "text": [
      "checking followees:   2%|▏         | 228/10000 [5:30:38<46:28:57, 17.12s/it] Rate limit reached. Sleeping for: 895\n",
      "checking followees:   2%|▏         | 240/10000 [5:45:40<15:44:07,  5.80s/it]  Rate limit reached. Sleeping for: 896\n",
      "checking followees:   2%|▏         | 248/10000 [6:00:39<61:36:04, 22.74s/it]  "
     ]
    },
    {
     "name": "stdout",
     "output_type": "stream",
     "text": [
      "401 Unauthorized\n",
      "Not authorized.\n",
      "460071769\n"
     ]
    },
    {
     "name": "stderr",
     "output_type": "stream",
     "text": [
      "checking followees:   3%|▎         | 252/10000 [6:00:40<15:20:44,  5.67s/it]"
     ]
    },
    {
     "name": "stdout",
     "output_type": "stream",
     "text": [
      "401 Unauthorized\n",
      "Not authorized.\n",
      "892781174\n"
     ]
    },
    {
     "name": "stderr",
     "output_type": "stream",
     "text": [
      "checking followees:   3%|▎         | 254/10000 [6:00:41<7:50:05,  2.89s/it] Rate limit reached. Sleeping for: 896\n",
      "checking followees:   3%|▎         | 257/10000 [6:15:39<360:07:18, 133.06s/it]"
     ]
    },
    {
     "name": "stdout",
     "output_type": "stream",
     "text": [
      "401 Unauthorized\n",
      "Not authorized.\n",
      "267801131\n"
     ]
    },
    {
     "name": "stderr",
     "output_type": "stream",
     "text": [
      "checking followees:   3%|▎         | 259/10000 [6:15:39<176:43:57, 65.32s/it] "
     ]
    },
    {
     "name": "stdout",
     "output_type": "stream",
     "text": [
      "401 Unauthorized\n",
      "Not authorized.\n",
      "750999200666640384\n"
     ]
    },
    {
     "name": "stderr",
     "output_type": "stream",
     "text": [
      "checking followees:   3%|▎         | 261/10000 [6:15:40<86:52:36, 32.11s/it] "
     ]
    },
    {
     "name": "stdout",
     "output_type": "stream",
     "text": [
      "401 Unauthorized\n",
      "Not authorized.\n",
      "743448153760882688\n"
     ]
    },
    {
     "name": "stderr",
     "output_type": "stream",
     "text": [
      "checking followees:   3%|▎         | 268/10000 [6:15:42<7:50:23,  2.90s/it] Rate limit reached. Sleeping for: 896\n",
      "checking followees:   3%|▎         | 276/10000 [6:30:42<61:00:40, 22.59s/it]  "
     ]
    },
    {
     "name": "stdout",
     "output_type": "stream",
     "text": [
      "401 Unauthorized\n",
      "Not authorized.\n",
      "1022745444\n"
     ]
    },
    {
     "name": "stderr",
     "output_type": "stream",
     "text": [
      "checking followees:   3%|▎         | 283/10000 [6:30:44<5:42:46,  2.12s/it] Rate limit reached. Sleeping for: 896\n",
      "checking followees:   3%|▎         | 285/10000 [6:45:41<511:35:22, 189.58s/it]"
     ]
    },
    {
     "name": "stdout",
     "output_type": "stream",
     "text": [
      "401 Unauthorized\n",
      "Not authorized.\n",
      "818814998898245633\n"
     ]
    },
    {
     "name": "stderr",
     "output_type": "stream",
     "text": [
      "checking followees:   3%|▎         | 289/10000 [6:45:42<123:14:37, 45.69s/it] "
     ]
    },
    {
     "name": "stdout",
     "output_type": "stream",
     "text": [
      "401 Unauthorized\n",
      "Not authorized.\n",
      "514448249\n"
     ]
    },
    {
     "name": "stderr",
     "output_type": "stream",
     "text": [
      "checking followees:   3%|▎         | 292/10000 [6:45:43<42:49:29, 15.88s/it] "
     ]
    },
    {
     "name": "stdout",
     "output_type": "stream",
     "text": [
      "401 Unauthorized\n",
      "Not authorized.\n",
      "411843621\n"
     ]
    },
    {
     "name": "stderr",
     "output_type": "stream",
     "text": [
      "checking followees:   3%|▎         | 297/10000 [6:45:45<7:55:20,  2.94s/it] Rate limit reached. Sleeping for: 896\n",
      "checking followees:   3%|▎         | 301/10000 [7:00:43<251:05:09, 93.20s/it] Rate limit reached. Sleeping for: 895\n",
      "checking followees:   3%|▎         | 303/10000 [7:15:47<634:22:20, 235.51s/it]"
     ]
    },
    {
     "name": "stdout",
     "output_type": "stream",
     "text": [
      "401 Unauthorized\n",
      "Not authorized.\n",
      "4526462961\n"
     ]
    },
    {
     "name": "stderr",
     "output_type": "stream",
     "text": [
      "checking followees:   3%|▎         | 305/10000 [7:15:47<311:04:09, 115.51s/it]"
     ]
    },
    {
     "name": "stdout",
     "output_type": "stream",
     "text": [
      "401 Unauthorized\n",
      "Not authorized.\n",
      "481256687\n"
     ]
    },
    {
     "name": "stderr",
     "output_type": "stream",
     "text": [
      "checking followees:   3%|▎         | 307/10000 [7:15:48<152:43:33, 56.72s/it] "
     ]
    },
    {
     "name": "stdout",
     "output_type": "stream",
     "text": [
      "401 Unauthorized\n",
      "Not authorized.\n",
      "440204727\n"
     ]
    },
    {
     "name": "stderr",
     "output_type": "stream",
     "text": [
      "checking followees:   3%|▎         | 309/10000 [7:15:48<75:08:15, 27.91s/it] Rate limit reached. Sleeping for: 896\n",
      "checking followees:   3%|▎         | 320/10000 [7:30:49<22:42:22,  8.44s/it]  "
     ]
    },
    {
     "name": "stdout",
     "output_type": "stream",
     "text": [
      "401 Unauthorized\n",
      "Not authorized.\n",
      "2370105777\n"
     ]
    },
    {
     "name": "stderr",
     "output_type": "stream",
     "text": [
      "checking followees:   3%|▎         | 323/10000 [7:30:49<8:09:54,  3.04s/it] Rate limit reached. Sleeping for: 897\n",
      "checking followees:   3%|▎         | 324/10000 [7:45:48<730:11:06, 271.67s/it]"
     ]
    },
    {
     "name": "stdout",
     "output_type": "stream",
     "text": [
      "401 Unauthorized\n",
      "Not authorized.\n",
      "869829919\n"
     ]
    },
    {
     "name": "stderr",
     "output_type": "stream",
     "text": [
      "checking followees:   3%|▎         | 330/10000 [7:45:49<86:27:19, 32.19s/it]  "
     ]
    },
    {
     "name": "stdout",
     "output_type": "stream",
     "text": [
      "401 Unauthorized\n",
      "Not authorized.\n",
      "197845724\n"
     ]
    },
    {
     "name": "stderr",
     "output_type": "stream",
     "text": [
      "checking followees:   3%|▎         | 337/10000 [7:45:52<7:49:23,  2.91s/it] Rate limit reached. Sleeping for: 897\n",
      "checking followees:   3%|▎         | 344/10000 [8:00:51<86:13:52, 32.15s/it]  "
     ]
    },
    {
     "name": "stdout",
     "output_type": "stream",
     "text": [
      "401 Unauthorized\n",
      "Not authorized.\n",
      "1120983227005571072\n"
     ]
    },
    {
     "name": "stderr",
     "output_type": "stream",
     "text": [
      "checking followees:   3%|▎         | 348/10000 [8:00:52<21:09:45,  7.89s/it]"
     ]
    },
    {
     "name": "stdout",
     "output_type": "stream",
     "text": [
      "401 Unauthorized\n",
      "Not authorized.\n",
      "20106621\n"
     ]
    },
    {
     "name": "stderr",
     "output_type": "stream",
     "text": [
      "checking followees:   4%|▎         | 352/10000 [8:00:53<5:37:19,  2.10s/it] Rate limit reached. Sleeping for: 897\n",
      "checking followees:   4%|▎         | 361/10000 [8:15:54<42:23:00, 15.83s/it]  "
     ]
    },
    {
     "name": "stdout",
     "output_type": "stream",
     "text": [
      "401 Unauthorized\n",
      "Not authorized.\n",
      "341493177\n"
     ]
    },
    {
     "name": "stderr",
     "output_type": "stream",
     "text": [
      "checking followees:   4%|▎         | 362/10000 [8:15:54<29:49:51, 11.14s/it]"
     ]
    },
    {
     "name": "stdout",
     "output_type": "stream",
     "text": [
      "401 Unauthorized\n",
      "Not authorized.\n",
      "111681860\n"
     ]
    },
    {
     "name": "stderr",
     "output_type": "stream",
     "text": [
      "checking followees:   4%|▎         | 366/10000 [8:15:55<7:43:48,  2.89s/it] "
     ]
    },
    {
     "name": "stdout",
     "output_type": "stream",
     "text": [
      "401 Unauthorized\n",
      "Not authorized.\n",
      "4500154709\n"
     ]
    },
    {
     "name": "stderr",
     "output_type": "stream",
     "text": [
      "checking followees:   4%|▎         | 367/10000 [8:15:55<5:35:08,  2.09s/it]Rate limit reached. Sleeping for: 897\n",
      "checking followees:   4%|▎         | 373/10000 [8:30:55<122:20:05, 45.75s/it] Rate limit reached. Sleeping for: 895\n",
      "checking followees:   4%|▍         | 379/10000 [8:45:59<138:02:12, 51.65s/it] Rate limit reached. Sleeping for: 895\n",
      "checking followees:   4%|▍         | 382/10000 [9:00:56<399:42:24, 149.61s/it]"
     ]
    },
    {
     "name": "stdout",
     "output_type": "stream",
     "text": [
      "401 Unauthorized\n",
      "Not authorized.\n",
      "3180704024\n"
     ]
    },
    {
     "name": "stderr",
     "output_type": "stream",
     "text": [
      "checking followees:   4%|▍         | 386/10000 [9:00:57<96:21:48, 36.08s/it]  "
     ]
    },
    {
     "name": "stdout",
     "output_type": "stream",
     "text": [
      "401 Unauthorized\n",
      "Not authorized.\n",
      "729616244589072384\n"
     ]
    },
    {
     "name": "stderr",
     "output_type": "stream",
     "text": [
      "checking followees:   4%|▍         | 392/10000 [9:00:59<12:03:04,  4.52s/it]Rate limit reached. Sleeping for: 896\n",
      "checking followees:   4%|▍         | 402/10000 [9:16:01<30:29:05, 11.43s/it]  "
     ]
    },
    {
     "name": "stdout",
     "output_type": "stream",
     "text": [
      "401 Unauthorized\n",
      "Not authorized.\n",
      "325029792\n"
     ]
    },
    {
     "name": "stderr",
     "output_type": "stream",
     "text": [
      "checking followees:   4%|▍         | 404/10000 [9:16:01<15:21:05,  5.76s/it]Rate limit reached. Sleeping for: 896\n",
      "checking followees:   4%|▍         | 414/10000 [9:31:03<30:14:38, 11.36s/it]  Rate limit reached. Sleeping for: 896\n",
      "checking followees:   4%|▍         | 416/10000 [9:46:01<516:45:00, 194.10s/it]"
     ]
    },
    {
     "name": "stdout",
     "output_type": "stream",
     "text": [
      "401 Unauthorized\n",
      "Not authorized.\n",
      "1220621708517953537\n"
     ]
    },
    {
     "name": "stderr",
     "output_type": "stream",
     "text": [
      "checking followees:   4%|▍         | 425/10000 [9:46:03<21:30:21,  8.09s/it]  "
     ]
    },
    {
     "name": "stdout",
     "output_type": "stream",
     "text": [
      "401 Unauthorized\n",
      "Not authorized.\n",
      "1898847816\n"
     ]
    },
    {
     "name": "stderr",
     "output_type": "stream",
     "text": [
      "checking followees:   4%|▍         | 429/10000 [9:46:04<5:45:15,  2.16s/it] Rate limit reached. Sleeping for: 897\n",
      "checking followees:   4%|▍         | 430/10000 [10:01:03<720:33:09, 271.05s/it]"
     ]
    },
    {
     "name": "stdout",
     "output_type": "stream",
     "text": [
      "401 Unauthorized\n",
      "Not authorized.\n",
      "2914103373\n"
     ]
    },
    {
     "name": "stderr",
     "output_type": "stream",
     "text": [
      "checking followees:   4%|▍         | 436/10000 [10:01:04<85:14:14, 32.08s/it]  "
     ]
    },
    {
     "name": "stdout",
     "output_type": "stream",
     "text": [
      "401 Unauthorized\n",
      "Not authorized.\n",
      "1279971338015260674\n"
     ]
    },
    {
     "name": "stderr",
     "output_type": "stream",
     "text": [
      "checking followees:   4%|▍         | 444/10000 [10:01:07<5:40:13,  2.14s/it] Rate limit reached. Sleeping for: 897\n",
      "checking followees:   4%|▍         | 448/10000 [10:16:06<247:04:04, 93.12s/it] "
     ]
    },
    {
     "name": "stdout",
     "output_type": "stream",
     "text": [
      "401 Unauthorized\n",
      "Not authorized.\n",
      "513731998\n"
     ]
    },
    {
     "name": "stderr",
     "output_type": "stream",
     "text": [
      "checking followees:   5%|▍         | 456/10000 [10:16:08<14:54:35,  5.62s/it] "
     ]
    },
    {
     "name": "stdout",
     "output_type": "stream",
     "text": [
      "401 Unauthorized\n",
      "Not authorized.\n",
      "3360091233\n",
      "401 Unauthorized\n",
      "Not authorized.\n",
      "1422112066354262018\n"
     ]
    },
    {
     "name": "stderr",
     "output_type": "stream",
     "text": [
      "checking followees:   5%|▍         | 459/10000 [10:16:09<5:29:51,  2.07s/it] Rate limit reached. Sleeping for: 897\n",
      "checking followees:   5%|▍         | 474/10000 [10:31:11<5:37:16,  2.12s/it]   Rate limit reached. Sleeping for: 896\n"
     ]
    },
    {
     "name": "stdout",
     "output_type": "stream",
     "text": [
      "401 Unauthorized\n",
      "Not authorized.\n",
      "47621568\n"
     ]
    },
    {
     "name": "stderr",
     "output_type": "stream",
     "text": [
      "checking followees:   5%|▍         | 479/10000 [10:46:09<172:24:50, 65.19s/it] "
     ]
    },
    {
     "name": "stdout",
     "output_type": "stream",
     "text": [
      "401 Unauthorized\n",
      "Not authorized.\n",
      "315091102\n"
     ]
    },
    {
     "name": "stderr",
     "output_type": "stream",
     "text": [
      "checking followees:   5%|▍         | 487/10000 [10:46:12<10:46:10,  4.08s/it] Rate limit reached. Sleeping for: 896\n",
      "checking followees:   5%|▍         | 499/10000 [11:01:14<15:10:08,  5.75s/it]  Rate limit reached. Sleeping for: 895\n",
      "checking followees:   5%|▌         | 507/10000 [11:16:14<60:07:10, 22.80s/it]  Rate limit reached. Sleeping for: 895\n",
      "checking followees:   5%|▌         | 509/10000 [11:31:17<529:16:44, 200.76s/it]"
     ]
    },
    {
     "name": "stdout",
     "output_type": "stream",
     "text": [
      "401 Unauthorized\n",
      "Not authorized.\n",
      "1428818342446518272\n"
     ]
    },
    {
     "name": "stderr",
     "output_type": "stream",
     "text": [
      "Rate limit reached. Sleeping for: 894\n",
      "checking followees:   5%|▌         | 511/10000 [11:46:12<755:07:39, 286.49s/it] "
     ]
    },
    {
     "name": "stdout",
     "output_type": "stream",
     "text": [
      "401 Unauthorized\n",
      "Not authorized.\n",
      "1512463260271919109\n"
     ]
    },
    {
     "name": "stderr",
     "output_type": "stream",
     "text": [
      "checking followees:   5%|▌         | 522/10000 [11:46:16<15:52:15,  6.03s/it]  Rate limit reached. Sleeping for: 896\n",
      "checking followees:   5%|▌         | 537/10000 [12:01:17<5:31:03,  2.10s/it]   Rate limit reached. Sleeping for: 896\n",
      "checking followees:   5%|▌         | 538/10000 [12:16:15<711:28:34, 270.69s/it]"
     ]
    },
    {
     "name": "stdout",
     "output_type": "stream",
     "text": [
      "401 Unauthorized\n",
      "Not authorized.\n",
      "1075473044464906241\n"
     ]
    },
    {
     "name": "stderr",
     "output_type": "stream",
     "text": [
      "checking followees:   5%|▌         | 539/10000 [12:16:15<498:09:08, 189.55s/it]"
     ]
    },
    {
     "name": "stdout",
     "output_type": "stream",
     "text": [
      "401 Unauthorized\n",
      "Not authorized.\n",
      "762978959084564480\n"
     ]
    },
    {
     "name": "stderr",
     "output_type": "stream",
     "text": [
      "checking followees:   5%|▌         | 543/10000 [12:16:16<119:59:10, 45.68s/it] "
     ]
    },
    {
     "name": "stdout",
     "output_type": "stream",
     "text": [
      "401 Unauthorized\n",
      "Not authorized.\n",
      "88888442\n"
     ]
    },
    {
     "name": "stderr",
     "output_type": "stream",
     "text": [
      "checking followees:   5%|▌         | 546/10000 [12:16:16<41:30:23, 15.81s/it] "
     ]
    },
    {
     "name": "stdout",
     "output_type": "stream",
     "text": [
      "401 Unauthorized\n",
      "Not authorized.\n",
      "36924653\n"
     ]
    },
    {
     "name": "stderr",
     "output_type": "stream",
     "text": [
      "checking followees:   5%|▌         | 549/10000 [12:16:17<14:37:30,  5.57s/it]"
     ]
    },
    {
     "name": "stdout",
     "output_type": "stream",
     "text": [
      "401 Unauthorized\n",
      "Not authorized.\n",
      "387957760\n"
     ]
    },
    {
     "name": "stderr",
     "output_type": "stream",
     "text": [
      "checking followees:   6%|▌         | 552/10000 [12:16:18<5:24:03,  2.06s/it] Rate limit reached. Sleeping for: 897\n",
      "checking followees:   6%|▌         | 566/10000 [12:31:20<7:41:58,  2.94s/it]   Rate limit reached. Sleeping for: 896\n",
      "checking followees:   6%|▌         | 571/10000 [12:46:19<171:18:45, 65.41s/it] "
     ]
    },
    {
     "name": "stdout",
     "output_type": "stream",
     "text": [
      "404 Not Found\n",
      "34 - Sorry, that page does not exist.\n",
      "1007989800\n"
     ]
    },
    {
     "name": "stderr",
     "output_type": "stream",
     "text": [
      "checking followees:   6%|▌         | 577/10000 [12:46:22<20:51:33,  7.97s/it] "
     ]
    },
    {
     "name": "stdout",
     "output_type": "stream",
     "text": [
      "401 Unauthorized\n",
      "Not authorized.\n",
      "20703137\n"
     ]
    },
    {
     "name": "stderr",
     "output_type": "stream",
     "text": [
      "Rate limit reached. Sleeping for: 895\n",
      "checking followees:   6%|▌         | 581/10000 [13:01:19<246:46:24, 94.32s/it] "
     ]
    },
    {
     "name": "stdout",
     "output_type": "stream",
     "text": [
      "401 Unauthorized\n",
      "Not authorized.\n",
      "2290429812\n"
     ]
    },
    {
     "name": "stderr",
     "output_type": "stream",
     "text": [
      "checking followees:   6%|▌         | 586/10000 [13:01:20<42:04:20, 16.09s/it] "
     ]
    },
    {
     "name": "stdout",
     "output_type": "stream",
     "text": [
      "401 Unauthorized\n",
      "Not authorized.\n",
      "1271349645621460993\n"
     ]
    },
    {
     "name": "stderr",
     "output_type": "stream",
     "text": [
      "checking followees:   6%|▌         | 587/10000 [13:01:21<29:37:26, 11.33s/it]"
     ]
    },
    {
     "name": "stdout",
     "output_type": "stream",
     "text": [
      "401 Unauthorized\n",
      "Not authorized.\n",
      "1282080620508848129\n"
     ]
    },
    {
     "name": "stderr",
     "output_type": "stream",
     "text": [
      "checking followees:   6%|▌         | 591/10000 [13:01:22<7:37:08,  2.92s/it] "
     ]
    },
    {
     "name": "stdout",
     "output_type": "stream",
     "text": [
      "401 Unauthorized\n",
      "Not authorized.\n",
      "20702901\n"
     ]
    },
    {
     "name": "stderr",
     "output_type": "stream",
     "text": [
      "Rate limit reached. Sleeping for: 896\n",
      "checking followees:   6%|▌         | 592/10000 [13:16:19<709:00:18, 271.30s/it]"
     ]
    },
    {
     "name": "stdout",
     "output_type": "stream",
     "text": [
      "401 Unauthorized\n",
      "Not authorized.\n",
      "309516318\n"
     ]
    },
    {
     "name": "stderr",
     "output_type": "stream",
     "text": [
      "checking followees:   6%|▌         | 600/10000 [13:16:22<41:30:11, 15.89s/it]  "
     ]
    },
    {
     "name": "stdout",
     "output_type": "stream",
     "text": [
      "401 Unauthorized\n",
      "Not authorized.\n",
      "939625285225287680\n"
     ]
    },
    {
     "name": "stderr",
     "output_type": "stream",
     "text": [
      "checking followees:   6%|▌         | 604/10000 [13:16:23<10:32:49,  4.04s/it]Rate limit reached. Sleeping for: 896\n",
      "checking followees:   6%|▌         | 615/10000 [13:31:25<20:58:15,  8.04s/it]  Rate limit reached. Sleeping for: 895\n",
      "checking followees:   6%|▌         | 620/10000 [13:46:23<172:20:48, 66.15s/it] Rate limit reached. Sleeping for: 894\n",
      "Rate limit reached. Sleeping for: 894\n",
      "Rate limit reached. Sleeping for: 894\n",
      "Rate limit reached. Sleeping for: 895\n",
      "Rate limit reached. Sleeping for: 894\n",
      "checking followees:   6%|▋         | 626/10000 [15:01:32<612:41:52, 235.30s/it]  Rate limit reached. Sleeping for: 895\n",
      "checking followees:   6%|▋         | 637/10000 [15:16:33<32:33:06, 12.52s/it]   Rate limit reached. Sleeping for: 895\n",
      "checking followees:   6%|▋         | 640/10000 [15:31:30<354:14:34, 136.25s/it]"
     ]
    },
    {
     "name": "stdout",
     "output_type": "stream",
     "text": [
      "401 Unauthorized\n",
      "Not authorized.\n",
      "2162104655\n"
     ]
    },
    {
     "name": "stderr",
     "output_type": "stream",
     "text": [
      "checking followees:   6%|▋         | 649/10000 [15:31:32<14:49:55,  5.71s/it]  "
     ]
    },
    {
     "name": "stdout",
     "output_type": "stream",
     "text": [
      "401 Unauthorized\n",
      "Not authorized.\n",
      "27051032\n"
     ]
    },
    {
     "name": "stderr",
     "output_type": "stream",
     "text": [
      "checking followees:   7%|▋         | 651/10000 [15:31:33<7:32:59,  2.91s/it] Rate limit reached. Sleeping for: 896\n",
      "checking followees:   7%|▋         | 665/10000 [15:46:34<7:29:07,  2.89s/it]   Rate limit reached. Sleeping for: 896\n",
      "checking followees:   7%|▋         | 672/10000 [16:01:33<83:17:06, 32.14s/it]  "
     ]
    },
    {
     "name": "stdout",
     "output_type": "stream",
     "text": [
      "401 Unauthorized\n",
      "Not authorized.\n",
      "4708073235\n"
     ]
    },
    {
     "name": "stderr",
     "output_type": "stream",
     "text": [
      "checking followees:   7%|▋         | 676/10000 [16:01:34<20:36:55,  7.96s/it]"
     ]
    },
    {
     "name": "stdout",
     "output_type": "stream",
     "text": [
      "401 Unauthorized\n",
      "Not authorized.\n",
      "1240718141203890176\n"
     ]
    },
    {
     "name": "stderr",
     "output_type": "stream",
     "text": [
      "checking followees:   7%|▋         | 677/10000 [16:01:35<14:36:04,  5.64s/it]"
     ]
    },
    {
     "name": "stdout",
     "output_type": "stream",
     "text": [
      "401 Unauthorized\n",
      "Not authorized.\n",
      "1313586913064955907\n"
     ]
    },
    {
     "name": "stderr",
     "output_type": "stream",
     "text": [
      "checking followees:   7%|▋         | 679/10000 [16:01:35<7:27:11,  2.88s/it] Rate limit reached. Sleeping for: 896\n",
      "checking followees:   7%|▋         | 692/10000 [16:16:35<10:17:44,  3.98s/it]  "
     ]
    },
    {
     "name": "stdout",
     "output_type": "stream",
     "text": [
      "401 Unauthorized\n",
      "Not authorized.\n",
      "1274841518\n"
     ]
    },
    {
     "name": "stderr",
     "output_type": "stream",
     "text": [
      "checking followees:   7%|▋         | 694/10000 [16:16:36<5:19:29,  2.06s/it] Rate limit reached. Sleeping for: 896\n",
      "checking followees:   7%|▋         | 706/10000 [16:31:37<14:59:35,  5.81s/it]  Rate limit reached. Sleeping for: 896\n",
      "checking followees:   7%|▋         | 721/10000 [16:46:38<5:27:04,  2.11s/it]   Rate limit reached. Sleeping for: 896\n",
      "checking followees:   7%|▋         | 727/10000 [17:01:37<117:50:33, 45.75s/it] "
     ]
    },
    {
     "name": "stdout",
     "output_type": "stream",
     "text": [
      "401 Unauthorized\n",
      "Not authorized.\n",
      "1515299460980613121\n"
     ]
    },
    {
     "name": "stderr",
     "output_type": "stream",
     "text": [
      "checking followees:   7%|▋         | 728/10000 [17:01:37<82:38:24, 32.09s/it] "
     ]
    },
    {
     "name": "stdout",
     "output_type": "stream",
     "text": [
      "401 Unauthorized\n",
      "Not authorized.\n",
      "86578605\n"
     ]
    },
    {
     "name": "stderr",
     "output_type": "stream",
     "text": [
      "checking followees:   7%|▋         | 730/10000 [17:01:38<40:45:10, 15.83s/it]"
     ]
    },
    {
     "name": "stdout",
     "output_type": "stream",
     "text": [
      "401 Unauthorized\n",
      "Not authorized.\n",
      "965733551193968640\n"
     ]
    },
    {
     "name": "stderr",
     "output_type": "stream",
     "text": [
      "checking followees:   7%|▋         | 732/10000 [17:01:39<21:02:19,  8.17s/it]Rate limit reached. Sleeping for: 896\n",
      "checking followees:   7%|▋         | 743/10000 [17:16:41<20:35:41,  8.01s/it]  "
     ]
    },
    {
     "name": "stdout",
     "output_type": "stream",
     "text": [
      "401 Unauthorized\n",
      "Not authorized.\n",
      "110257698\n"
     ]
    },
    {
     "name": "stderr",
     "output_type": "stream",
     "text": [
      "Rate limit reached. Sleeping for: 896\n",
      "checking followees:   8%|▊         | 758/10000 [17:31:42<5:24:39,  2.11s/it]   Rate limit reached. Sleeping for: 896\n",
      "checking followees:   8%|▊         | 767/10000 [17:46:42<40:38:55, 15.85s/it]  "
     ]
    },
    {
     "name": "stdout",
     "output_type": "stream",
     "text": [
      "401 Unauthorized\n",
      "Not authorized.\n",
      "227713930\n"
     ]
    },
    {
     "name": "stderr",
     "output_type": "stream",
     "text": [
      "checking followees:   8%|▊         | 772/10000 [17:46:43<7:36:35,  2.97s/it] Rate limit reached. Sleeping for: 896\n",
      "checking followees:   8%|▊         | 787/10000 [18:01:44<5:18:25,  2.07s/it]   Rate limit reached. Sleeping for: 897\n",
      "checking followees:   8%|▊         | 791/10000 [18:16:44<238:10:24, 93.11s/it] "
     ]
    },
    {
     "name": "stdout",
     "output_type": "stream",
     "text": [
      "401 Unauthorized\n",
      "Not authorized.\n",
      "224332357\n"
     ]
    },
    {
     "name": "stderr",
     "output_type": "stream",
     "text": [
      "checking followees:   8%|▊         | 793/10000 [18:16:44<116:58:09, 45.74s/it]"
     ]
    },
    {
     "name": "stdout",
     "output_type": "stream",
     "text": [
      "401 Unauthorized\n",
      "Not authorized.\n",
      "861842632619810816\n"
     ]
    },
    {
     "name": "stderr",
     "output_type": "stream",
     "text": [
      "checking followees:   8%|▊         | 799/10000 [18:16:46<14:23:36,  5.63s/it] "
     ]
    },
    {
     "name": "stdout",
     "output_type": "stream",
     "text": [
      "401 Unauthorized\n",
      "Not authorized.\n",
      "1581406677005467649\n"
     ]
    },
    {
     "name": "stderr",
     "output_type": "stream",
     "text": [
      "checking followees:   8%|▊         | 801/10000 [18:16:46<7:20:03,  2.87s/it] Rate limit reached. Sleeping for: 897\n"
     ]
    },
    {
     "name": "stdout",
     "output_type": "stream",
     "text": [
      "401 Unauthorized\n",
      "Not authorized.\n",
      "1217807893\n"
     ]
    }
   ],
   "source": [
    "out_path = os.path.join(DATA_PATH, f'followee_lists_overlapping.jsonl')\n",
    "errpath = os.path.join(DATA_PATH, 'authors_missing.jsonl')\n",
    "exception_users = get_followee_lists(some_ids, out_path, api)\n",
    "write_error_users(exception_users, errpath)"
   ],
   "metadata": {
    "collapsed": false,
    "pycharm": {
     "is_executing": true
    }
   }
  },
  {
   "cell_type": "markdown",
   "source": [],
   "metadata": {
    "collapsed": false
   }
  }
 ],
 "metadata": {
  "kernelspec": {
   "display_name": "Python 3",
   "language": "python",
   "name": "python3"
  },
  "language_info": {
   "codemirror_mode": {
    "name": "ipython",
    "version": 2
   },
   "file_extension": ".py",
   "mimetype": "text/x-python",
   "name": "python",
   "nbconvert_exporter": "python",
   "pygments_lexer": "ipython2",
   "version": "2.7.6"
  }
 },
 "nbformat": 4,
 "nbformat_minor": 0
}
