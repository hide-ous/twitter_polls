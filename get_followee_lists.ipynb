{
 "cells": [
  {
   "cell_type": "code",
   "execution_count": 1,
   "metadata": {
    "collapsed": true
   },
   "outputs": [],
   "source": [
    "import os\n",
    "\n",
    "import numpy as np\n",
    "import pandas as pd\n",
    "\n",
    "from data_utils import YEARS, DATA_PATH, get_authors_from_follower_lists, get_authors_from_keys, get_retweeters_repliers, write_error_users\n",
    "from twitter_utils import get_api, get_followee_lists\n",
    "import json\n"
   ]
  },
  {
   "cell_type": "code",
   "execution_count": 2,
   "outputs": [],
   "source": [
    "api = get_api()"
   ],
   "metadata": {
    "collapsed": false
   }
  },
  {
   "cell_type": "code",
   "execution_count": null,
   "outputs": [],
   "source": [
    "exception_users=dict()\n",
    "for year in YEARS:\n",
    "    out_path = os.path.join(DATA_PATH, f'followee_lists_{year}.jsonl')\n",
    "    existing_users = get_authors_from_follower_lists(out_path)\n",
    "\n",
    "    fpath = os.path.join(DATA_PATH, f'polls_{year}_author_ids.json')\n",
    "    author_ids = get_authors_from_keys(fpath)\n",
    "    author_ids = [id for id in author_ids if id not in existing_users]\n",
    "    print(f\"{len(author_ids)} users to scrape\")\n",
    "    exception_users.update(get_followee_lists(author_ids, out_path, api))"
   ],
   "metadata": {
    "collapsed": false
   }
  },
  {
   "cell_type": "code",
   "execution_count": 7,
   "outputs": [],
   "source": [
    "ids = set()\n",
    "repliers = set(get_retweeters_repliers())\n",
    "out_path = os.path.join(DATA_PATH, 'followee_lists_of_retweeters_repliers.jsonl')\n",
    "with open(out_path, 'w+') as fo:\n",
    "    for fname in ['followee_lists_of_repliers_stephen.jsonl', 'followee_lists_of_repliers.jsonl']:\n",
    "        fpath = os.path.join(DATA_PATH, fname)\n",
    "        with open(fpath) as f:\n",
    "            for l in f:\n",
    "                id_ = list(json.loads(l).keys())[0]\n",
    "                if (id_ not in ids) and id_ in repliers:\n",
    "                    ids.add(id_)\n",
    "                    fo.write(l)\n",
    "len(ids)"
   ],
   "metadata": {
    "collapsed": false
   }
  },
  {
   "cell_type": "code",
   "execution_count": 9,
   "outputs": [
    {
     "name": "stdout",
     "output_type": "stream",
     "text": [
      "found 8065 scraped users\n"
     ]
    }
   ],
   "source": [
    "repliers = get_retweeters_repliers()\n",
    "len(repliers)\n",
    "# out_path = os.path.join(DATA_PATH, f'followee_lists_of_repliers.jsonl')\n",
    "existing_users = get_authors_from_follower_lists(out_path)\n",
    "print(f'found {len(existing_users)} scraped users')\n",
    "\n",
    "repliers = [i for i in repliers if i not in existing_users]"
   ],
   "metadata": {
    "collapsed": false
   }
  },
  {
   "cell_type": "code",
   "execution_count": 10,
   "outputs": [
    {
     "data": {
      "text/plain": "90"
     },
     "execution_count": 10,
     "metadata": {},
     "output_type": "execute_result"
    }
   ],
   "source": [
    "len(repliers)"
   ],
   "metadata": {
    "collapsed": false
   }
  },
  {
   "cell_type": "code",
   "execution_count": 11,
   "outputs": [
    {
     "name": "stderr",
     "output_type": "stream",
     "text": [
      "checking followees:   2%|▏         | 2/90 [00:00<00:25,  3.46it/s]"
     ]
    },
    {
     "name": "stdout",
     "output_type": "stream",
     "text": [
      "401 Unauthorized\n",
      "Not authorized.\n",
      "1021918737040134144\n"
     ]
    },
    {
     "name": "stderr",
     "output_type": "stream",
     "text": [
      "checking followees:   4%|▍         | 4/90 [00:01<00:20,  4.16it/s]"
     ]
    },
    {
     "name": "stdout",
     "output_type": "stream",
     "text": [
      "401 Unauthorized\n",
      "Not authorized.\n",
      "1025797428023382017\n"
     ]
    },
    {
     "name": "stderr",
     "output_type": "stream",
     "text": [
      "checking followees:   9%|▉         | 8/90 [00:02<00:20,  3.99it/s]"
     ]
    },
    {
     "name": "stdout",
     "output_type": "stream",
     "text": [
      "401 Unauthorized\n",
      "Not authorized.\n",
      "1065464738312802304\n"
     ]
    },
    {
     "name": "stderr",
     "output_type": "stream",
     "text": [
      "checking followees:  10%|█         | 9/90 [00:02<00:19,  4.11it/s]"
     ]
    },
    {
     "name": "stdout",
     "output_type": "stream",
     "text": [
      "404 Not Found\n",
      "34 - Sorry, that page does not exist.\n",
      "1074443098242117633\n"
     ]
    },
    {
     "name": "stderr",
     "output_type": "stream",
     "text": [
      "checking followees:  12%|█▏        | 11/90 [00:02<00:17,  4.41it/s]"
     ]
    },
    {
     "name": "stdout",
     "output_type": "stream",
     "text": [
      "401 Unauthorized\n",
      "Not authorized.\n",
      "1089017406389870593\n",
      "404 Not Found\n",
      "34 - Sorry, that page does not exist.\n",
      "1162434119579643905\n"
     ]
    },
    {
     "name": "stderr",
     "output_type": "stream",
     "text": [
      "checking followees:  17%|█▋        | 15/90 [00:03<00:16,  4.51it/s]"
     ]
    },
    {
     "name": "stdout",
     "output_type": "stream",
     "text": [
      "401 Unauthorized\n",
      "Not authorized.\n",
      "1280496301889773571\n"
     ]
    },
    {
     "name": "stderr",
     "output_type": "stream",
     "text": [
      "Rate limit reached. Sleeping for: 896\n",
      "checking followees:  19%|█▉        | 17/90 [15:01<3:50:03, 189.09s/it]"
     ]
    },
    {
     "name": "stdout",
     "output_type": "stream",
     "text": [
      "401 Unauthorized\n",
      "Not authorized.\n",
      "1299929713\n"
     ]
    },
    {
     "name": "stderr",
     "output_type": "stream",
     "text": [
      "checking followees:  20%|██        | 18/90 [15:01<2:38:48, 132.34s/it]"
     ]
    },
    {
     "name": "stdout",
     "output_type": "stream",
     "text": [
      "401 Unauthorized\n",
      "Not authorized.\n",
      "1368356112\n"
     ]
    },
    {
     "name": "stderr",
     "output_type": "stream",
     "text": [
      "checking followees:  21%|██        | 19/90 [15:01<1:49:38, 92.66s/it] "
     ]
    },
    {
     "name": "stdout",
     "output_type": "stream",
     "text": [
      "401 Unauthorized\n",
      "Not authorized.\n",
      "1371572360\n"
     ]
    },
    {
     "name": "stderr",
     "output_type": "stream",
     "text": [
      "checking followees:  22%|██▏       | 20/90 [15:02<1:15:43, 64.90s/it]"
     ]
    },
    {
     "name": "stdout",
     "output_type": "stream",
     "text": [
      "401 Unauthorized\n",
      "Not authorized.\n",
      "138166067\n"
     ]
    },
    {
     "name": "stderr",
     "output_type": "stream",
     "text": [
      "checking followees:  29%|██▉       | 26/90 [15:03<08:21,  7.84s/it]  "
     ]
    },
    {
     "name": "stdout",
     "output_type": "stream",
     "text": [
      "401 Unauthorized\n",
      "Not authorized.\n",
      "1662369638\n"
     ]
    },
    {
     "name": "stderr",
     "output_type": "stream",
     "text": [
      "checking followees:  30%|███       | 27/90 [15:03<05:49,  5.55s/it]"
     ]
    },
    {
     "name": "stdout",
     "output_type": "stream",
     "text": [
      "401 Unauthorized\n",
      "Not authorized.\n",
      "18151915\n"
     ]
    },
    {
     "name": "stderr",
     "output_type": "stream",
     "text": [
      "checking followees:  32%|███▏      | 29/90 [15:04<02:53,  2.84s/it]"
     ]
    },
    {
     "name": "stdout",
     "output_type": "stream",
     "text": [
      "401 Unauthorized\n",
      "Not authorized.\n",
      "23684807\n"
     ]
    },
    {
     "name": "stderr",
     "output_type": "stream",
     "text": [
      "checking followees:  33%|███▎      | 30/90 [15:04<02:03,  2.05s/it]"
     ]
    },
    {
     "name": "stdout",
     "output_type": "stream",
     "text": [
      "401 Unauthorized\n",
      "Not authorized.\n",
      "2760254494\n"
     ]
    },
    {
     "name": "stderr",
     "output_type": "stream",
     "text": [
      "Rate limit reached. Sleeping for: 896\n",
      "checking followees:  34%|███▍      | 31/90 [30:01<4:26:10, 270.68s/it]"
     ]
    },
    {
     "name": "stdout",
     "output_type": "stream",
     "text": [
      "401 Unauthorized\n",
      "Not authorized.\n",
      "2773494490\n"
     ]
    },
    {
     "name": "stderr",
     "output_type": "stream",
     "text": [
      "checking followees:  36%|███▌      | 32/90 [30:02<3:03:13, 189.54s/it]"
     ]
    },
    {
     "name": "stdout",
     "output_type": "stream",
     "text": [
      "401 Unauthorized\n",
      "Not authorized.\n",
      "282317637\n"
     ]
    },
    {
     "name": "stderr",
     "output_type": "stream",
     "text": [
      "checking followees:  37%|███▋      | 33/90 [30:02<2:06:06, 132.74s/it]"
     ]
    },
    {
     "name": "stdout",
     "output_type": "stream",
     "text": [
      "404 Not Found\n",
      "34 - Sorry, that page does not exist.\n",
      "2959772663\n"
     ]
    },
    {
     "name": "stderr",
     "output_type": "stream",
     "text": [
      "checking followees:  39%|███▉      | 35/90 [30:02<59:43, 65.15s/it]   "
     ]
    },
    {
     "name": "stdout",
     "output_type": "stream",
     "text": [
      "401 Unauthorized\n",
      "Not authorized.\n",
      "316589610\n",
      "404 Not Found\n",
      "34 - Sorry, that page does not exist.\n",
      "3226743216\n"
     ]
    },
    {
     "name": "stderr",
     "output_type": "stream",
     "text": [
      "checking followees:  40%|████      | 36/90 [30:02<41:06, 45.67s/it]"
     ]
    },
    {
     "name": "stdout",
     "output_type": "stream",
     "text": [
      "401 Unauthorized\n",
      "Not authorized.\n",
      "327715590\n"
     ]
    },
    {
     "name": "stderr",
     "output_type": "stream",
     "text": [
      "checking followees:  44%|████▍     | 40/90 [30:03<09:16, 11.14s/it]"
     ]
    },
    {
     "name": "stdout",
     "output_type": "stream",
     "text": [
      "401 Unauthorized\n",
      "Not authorized.\n",
      "337659716\n",
      "404 Not Found\n",
      "34 - Sorry, that page does not exist.\n",
      "35888706\n"
     ]
    },
    {
     "name": "stderr",
     "output_type": "stream",
     "text": [
      "checking followees:  46%|████▌     | 41/90 [30:04<06:25,  7.87s/it]"
     ]
    },
    {
     "name": "stdout",
     "output_type": "stream",
     "text": [
      "401 Unauthorized\n",
      "Not authorized.\n",
      "374463980\n"
     ]
    },
    {
     "name": "stderr",
     "output_type": "stream",
     "text": [
      "checking followees:  48%|████▊     | 43/90 [30:05<03:13,  4.12s/it]Rate limit reached. Sleeping for: 896\n"
     ]
    },
    {
     "name": "stdout",
     "output_type": "stream",
     "text": [
      "401 Unauthorized\n",
      "Not authorized.\n",
      "442813650\n"
     ]
    },
    {
     "name": "stderr",
     "output_type": "stream",
     "text": [
      "checking followees:  50%|█████     | 45/90 [45:03<2:22:54, 190.55s/it]"
     ]
    },
    {
     "name": "stdout",
     "output_type": "stream",
     "text": [
      "401 Unauthorized\n",
      "Not authorized.\n",
      "487727086\n"
     ]
    },
    {
     "name": "stderr",
     "output_type": "stream",
     "text": [
      "checking followees:  51%|█████     | 46/90 [45:03<1:37:51, 133.45s/it]"
     ]
    },
    {
     "name": "stdout",
     "output_type": "stream",
     "text": [
      "401 Unauthorized\n",
      "Not authorized.\n",
      "585998080\n"
     ]
    },
    {
     "name": "stderr",
     "output_type": "stream",
     "text": [
      "checking followees:  54%|█████▍    | 49/90 [45:03<31:23, 45.93s/it]   "
     ]
    },
    {
     "name": "stdout",
     "output_type": "stream",
     "text": [
      "401 Unauthorized\n",
      "Not authorized.\n",
      "757297449941602304\n",
      "404 Not Found\n",
      "34 - Sorry, that page does not exist.\n",
      "772877229814607872\n"
     ]
    },
    {
     "name": "stderr",
     "output_type": "stream",
     "text": [
      "checking followees:  57%|█████▋    | 51/90 [45:04<14:41, 22.61s/it]"
     ]
    },
    {
     "name": "stdout",
     "output_type": "stream",
     "text": [
      "401 Unauthorized\n",
      "Not authorized.\n",
      "778077812\n"
     ]
    },
    {
     "name": "stderr",
     "output_type": "stream",
     "text": [
      "checking followees:  58%|█████▊    | 52/90 [45:04<10:04, 15.90s/it]"
     ]
    },
    {
     "name": "stdout",
     "output_type": "stream",
     "text": [
      "401 Unauthorized\n",
      "Not authorized.\n",
      "787003418867097600\n"
     ]
    },
    {
     "name": "stderr",
     "output_type": "stream",
     "text": [
      "checking followees:  61%|██████    | 55/90 [45:06<03:20,  5.72s/it]"
     ]
    },
    {
     "name": "stdout",
     "output_type": "stream",
     "text": [
      "401 Unauthorized\n",
      "Not authorized.\n",
      "834733897\n"
     ]
    },
    {
     "name": "stderr",
     "output_type": "stream",
     "text": [
      "checking followees:  62%|██████▏   | 56/90 [45:06<02:18,  4.07s/it]Rate limit reached. Sleeping for: 896\n",
      "checking followees:  69%|██████▉   | 62/90 [1:00:05<21:25, 45.92s/it]   "
     ]
    },
    {
     "name": "stdout",
     "output_type": "stream",
     "text": [
      "401 Unauthorized\n",
      "Not authorized.\n",
      "869303616066252806\n",
      "401 Unauthorized\n",
      "Not authorized.\n",
      "870820028169437184\n"
     ]
    },
    {
     "name": "stderr",
     "output_type": "stream",
     "text": [
      "checking followees:  71%|███████   | 64/90 [1:00:05<09:49, 22.68s/it]"
     ]
    },
    {
     "name": "stdout",
     "output_type": "stream",
     "text": [
      "404 Not Found\n",
      "34 - Sorry, that page does not exist.\n",
      "923751968488771584\n"
     ]
    },
    {
     "name": "stderr",
     "output_type": "stream",
     "text": [
      "checking followees:  76%|███████▌  | 68/90 [1:00:07<02:07,  5.79s/it]Rate limit reached. Sleeping for: 896\n",
      "checking followees:  77%|███████▋  | 69/90 [1:15:05<1:35:39, 273.31s/it]"
     ]
    },
    {
     "name": "stdout",
     "output_type": "stream",
     "text": [
      "401 Unauthorized\n",
      "Not authorized.\n",
      "937421256147775489\n"
     ]
    },
    {
     "name": "stderr",
     "output_type": "stream",
     "text": [
      "checking followees:  82%|████████▏ | 74/90 [1:15:06<12:19, 46.21s/it]   "
     ]
    },
    {
     "name": "stdout",
     "output_type": "stream",
     "text": [
      "401 Unauthorized\n",
      "Not authorized.\n",
      "984015104\n"
     ]
    },
    {
     "name": "stderr",
     "output_type": "stream",
     "text": [
      "checking followees:  90%|█████████ | 81/90 [1:15:09<00:37,  4.14s/it]Rate limit reached. Sleeping for: 895\n",
      "checking followees: 100%|██████████| 90/90 [1:30:09<00:00, 60.10s/it] \n"
     ]
    }
   ],
   "source": [
    "exception_users = dict()\n",
    "exception_users.update(get_followee_lists(repliers, out_path, api))"
   ],
   "metadata": {
    "collapsed": false
   }
  },
  {
   "cell_type": "code",
   "execution_count": 18,
   "outputs": [],
   "source": [
    "from data_utils import write_error_users\n",
    "\n",
    "write_error_users(exception_users, os.path.join(DATA_PATH, 'repliers_missing.jsonl'))\n"
   ],
   "metadata": {
    "collapsed": false
   }
  },
  {
   "cell_type": "code",
   "execution_count": 28,
   "outputs": [
    {
     "name": "stderr",
     "output_type": "stream",
     "text": [
      "checking followees:   1%|          | 15/2686 [00:04<14:28,  3.08it/s]Rate limit reached. Sleeping for: 895\n",
      "checking followees:   1%|          | 29/2686 [15:04<2:08:10,  2.89s/it]   Rate limit reached. Sleeping for: 896\n",
      "checking followees:   2%|▏         | 44/2686 [30:05<1:31:57,  2.09s/it]   Rate limit reached. Sleeping for: 896\n",
      "checking followees:   2%|▏         | 57/2686 [45:07<2:55:38,  4.01s/it]   Rate limit reached. Sleeping for: 896\n",
      "checking followees:   3%|▎         | 72/2686 [1:00:08<1:30:03,  2.07s/it]   Rate limit reached. Sleeping for: 897\n",
      "checking followees:   3%|▎         | 87/2686 [1:15:09<1:29:14,  2.06s/it]   Rate limit reached. Sleeping for: 896\n",
      "checking followees:   4%|▍         | 101/2686 [1:30:10<2:03:01,  2.86s/it]  Rate limit reached. Sleeping for: 896\n",
      "checking followees:   4%|▍         | 113/2686 [1:45:12<4:01:09,  5.62s/it]   Rate limit reached. Sleeping for: 895\n",
      "checking followees:   5%|▍         | 126/2686 [2:00:12<2:54:29,  4.09s/it]   Rate limit reached. Sleeping for: 896\n",
      "checking followees:   5%|▌         | 135/2686 [2:15:14<11:17:31, 15.94s/it]  Rate limit reached. Sleeping for: 895\n",
      "checking followees:   6%|▌         | 148/2686 [2:30:14<2:55:35,  4.15s/it]   Rate limit reached. Sleeping for: 896\n",
      "checking followees:   6%|▌         | 161/2686 [2:45:16<2:57:30,  4.22s/it]   Rate limit reached. Sleeping for: 895\n",
      "checking followees:   6%|▋         | 168/2686 [3:00:18<22:53:02, 32.72s/it]  Rate limit reached. Sleeping for: 895\n",
      "checking followees:   7%|▋         | 181/2686 [3:15:18<3:00:06,  4.31s/it]   Rate limit reached. Sleeping for: 895\n",
      "checking followees:   7%|▋         | 192/2686 [3:30:18<5:31:02,  7.96s/it]   Rate limit reached. Sleeping for: 895\n",
      "checking followees:   8%|▊         | 204/2686 [3:45:19<3:58:11,  5.76s/it]   Rate limit reached. Sleeping for: 895\n",
      "checking followees:   8%|▊         | 215/2686 [4:00:21<5:31:52,  8.06s/it]   Rate limit reached. Sleeping for: 895\n",
      "checking followees:   9%|▊         | 230/2686 [4:15:21<1:26:31,  2.11s/it]   Rate limit reached. Sleeping for: 896\n",
      "checking followees:   9%|▉         | 242/2686 [4:30:23<3:52:42,  5.71s/it]   Rate limit reached. Sleeping for: 895\n",
      "checking followees:   9%|▉         | 255/2686 [4:45:23<2:44:42,  4.07s/it]   Rate limit reached. Sleeping for: 896\n",
      "checking followees:  10%|▉         | 268/2686 [5:00:25<2:46:21,  4.13s/it]   Rate limit reached. Sleeping for: 896\n",
      "checking followees:  10%|█         | 277/2686 [5:15:25<10:41:44, 15.98s/it]  Rate limit reached. Sleeping for: 895\n",
      "checking followees:  11%|█         | 291/2686 [5:30:28<2:02:08,  3.06s/it]   Rate limit reached. Sleeping for: 895\n",
      "checking followees:  11%|█▏        | 305/2686 [5:45:29<1:54:39,  2.89s/it]   Rate limit reached. Sleeping for: 895\n",
      "checking followees:  12%|█▏        | 312/2686 [6:00:28<21:12:51, 32.17s/it]  "
     ]
    },
    {
     "name": "stdout",
     "output_type": "stream",
     "text": [
      "401 Unauthorized\n",
      "Not authorized.\n",
      "1183504734071734276\n"
     ]
    },
    {
     "name": "stderr",
     "output_type": "stream",
     "text": [
      "checking followees:  12%|█▏        | 318/2686 [6:00:30<2:42:26,  4.12s/it] Rate limit reached. Sleeping for: 896\n",
      "checking followees:  12%|█▏        | 332/2686 [6:15:31<1:54:37,  2.92s/it]   Rate limit reached. Sleeping for: 895\n",
      "checking followees:  13%|█▎        | 347/2686 [6:30:32<1:21:15,  2.08s/it]   Rate limit reached. Sleeping for: 895\n",
      "checking followees:  13%|█▎        | 360/2686 [6:45:32<2:34:19,  3.98s/it]   Rate limit reached. Sleeping for: 896\n",
      "checking followees:  14%|█▍        | 374/2686 [7:00:34<1:53:16,  2.94s/it]   Rate limit reached. Sleeping for: 895\n",
      "checking followees:  14%|█▍        | 388/2686 [7:15:34<1:52:48,  2.95s/it]   Rate limit reached. Sleeping for: 896\n",
      "checking followees:  15%|█▍        | 402/2686 [7:30:36<1:49:36,  2.88s/it]   Rate limit reached. Sleeping for: 896\n",
      "checking followees:  16%|█▌        | 417/2686 [7:45:37<1:18:43,  2.08s/it]   Rate limit reached. Sleeping for: 897\n",
      "checking followees:  16%|█▌        | 432/2686 [8:00:39<1:17:57,  2.08s/it]   Rate limit reached. Sleeping for: 896\n",
      "checking followees:  16%|█▋        | 441/2686 [8:15:41<9:56:25, 15.94s/it]   Rate limit reached. Sleeping for: 895\n",
      "checking followees:  17%|█▋        | 453/2686 [8:30:42<3:38:33,  5.87s/it]   Rate limit reached. Sleeping for: 896\n",
      "checking followees:  17%|█▋        | 467/2686 [8:45:44<1:47:53,  2.92s/it]   Rate limit reached. Sleeping for: 896\n",
      "checking followees:  18%|█▊        | 481/2686 [9:00:45<1:46:45,  2.90s/it]   Rate limit reached. Sleeping for: 896\n",
      "checking followees:  18%|█▊        | 493/2686 [9:15:47<3:25:02,  5.61s/it]   Rate limit reached. Sleeping for: 895\n",
      "checking followees:  19%|█▉        | 508/2686 [9:30:47<1:16:50,  2.12s/it]   Rate limit reached. Sleeping for: 896\n",
      "checking followees:  19%|█▉        | 521/2686 [9:45:49<2:24:52,  4.02s/it]   Rate limit reached. Sleeping for: 895\n",
      "checking followees:  20%|█▉        | 535/2686 [10:00:49<1:42:58,  2.87s/it]   Rate limit reached. Sleeping for: 896\n",
      "checking followees:  20%|██        | 550/2686 [10:15:50<1:14:31,  2.09s/it]   Rate limit reached. Sleeping for: 896\n",
      "checking followees:  21%|██        | 565/2686 [10:30:51<1:13:31,  2.08s/it]   Rate limit reached. Sleeping for: 896\n",
      "checking followees:  22%|██▏       | 578/2686 [10:45:53<2:21:12,  4.02s/it]   Rate limit reached. Sleeping for: 895\n",
      "checking followees:  22%|██▏       | 591/2686 [11:00:53<2:25:33,  4.17s/it]   Rate limit reached. Sleeping for: 896\n",
      "checking followees:  23%|██▎       | 606/2686 [11:15:55<1:14:03,  2.14s/it]   Rate limit reached. Sleeping for: 896\n",
      "checking followees:  23%|██▎       | 619/2686 [11:30:56<2:18:25,  4.02s/it]   Rate limit reached. Sleeping for: 897\n",
      "checking followees:  24%|██▎       | 634/2686 [11:45:58<1:12:39,  2.12s/it]   Rate limit reached. Sleeping for: 897\n",
      "checking followees:  24%|██▍       | 644/2686 [12:01:01<6:28:49, 11.42s/it]   Rate limit reached. Sleeping for: 896\n",
      "checking followees:  24%|██▍       | 658/2686 [12:16:02<1:39:55,  2.96s/it]   Rate limit reached. Sleeping for: 895\n",
      "checking followees:  25%|██▌       | 673/2686 [12:31:02<1:10:38,  2.11s/it]   Rate limit reached. Sleeping for: 896\n",
      "checking followees:  26%|██▌       | 688/2686 [12:46:04<1:09:39,  2.09s/it]   Rate limit reached. Sleeping for: 896\n",
      "checking followees:  26%|██▌       | 702/2686 [13:01:05<1:40:11,  3.03s/it]   Rate limit reached. Sleeping for: 896\n",
      "checking followees:  27%|██▋       | 716/2686 [13:16:06<1:35:10,  2.90s/it]   Rate limit reached. Sleeping for: 896\n",
      "checking followees:  27%|██▋       | 727/2686 [13:31:07<4:23:35,  8.07s/it]   Rate limit reached. Sleeping for: 895\n",
      "checking followees:  28%|██▊       | 742/2686 [13:46:08<1:09:10,  2.13s/it]   Rate limit reached. Sleeping for: 896\n",
      "checking followees:  28%|██▊       | 756/2686 [14:01:10<1:33:42,  2.91s/it]   Rate limit reached. Sleeping for: 895\n",
      "checking followees:  29%|██▊       | 769/2686 [14:16:11<2:10:21,  4.08s/it]   Rate limit reached. Sleeping for: 895\n",
      "checking followees:  29%|██▉       | 781/2686 [14:31:12<3:09:14,  5.96s/it]   Rate limit reached. Sleeping for: 895\n",
      "checking followees:  30%|██▉       | 793/2686 [14:46:13<3:02:55,  5.80s/it]   Rate limit reached. Sleeping for: 895\n",
      "checking followees:  30%|███       | 808/2686 [15:01:14<1:08:33,  2.19s/it]   Rate limit reached. Sleeping for: 895\n",
      "checking followees:  30%|███       | 817/2686 [15:16:16<8:17:03, 15.96s/it]   Rate limit reached. Sleeping for: 895\n",
      "checking followees:  31%|███       | 827/2686 [15:31:16<6:04:28, 11.76s/it]   Rate limit reached. Sleeping for: 896\n",
      "checking followees:  31%|███       | 838/2686 [15:46:17<4:12:34,  8.20s/it]   Rate limit reached. Sleeping for: 895\n",
      "Rate limit reached. Sleeping for: 894\n",
      "checking followees:  31%|███▏      | 841/2686 [16:16:19<137:13:03, 267.74s/it]Rate limit reached. Sleeping for: 894\n",
      "checking followees:  31%|███▏      | 844/2686 [16:31:22<115:03:09, 224.86s/it]Rate limit reached. Sleeping for: 894\n",
      "checking followees:  32%|███▏      | 856/2686 [16:46:22<4:28:02,  8.79s/it]   Rate limit reached. Sleeping for: 895\n",
      "checking followees:  32%|███▏      | 866/2686 [17:01:23<5:53:31, 11.65s/it]   Rate limit reached. Sleeping for: 895\n",
      "checking followees:  33%|███▎      | 875/2686 [17:16:25<8:13:33, 16.35s/it]   Rate limit reached. Sleeping for: 895\n",
      "checking followees:  33%|███▎      | 884/2686 [17:31:25<8:20:08, 16.65s/it]   Rate limit reached. Sleeping for: 895\n",
      "checking followees:  33%|███▎      | 898/2686 [17:46:26<1:29:26,  3.00s/it]   Rate limit reached. Sleeping for: 895\n",
      "checking followees:  34%|███▍      | 912/2686 [18:01:27<1:26:57,  2.94s/it]   Rate limit reached. Sleeping for: 895\n",
      "checking followees:  34%|███▍      | 923/2686 [18:16:28<3:57:42,  8.09s/it]   Rate limit reached. Sleeping for: 895\n",
      "checking followees:  35%|███▍      | 936/2686 [18:31:29<1:58:49,  4.07s/it]   Rate limit reached. Sleeping for: 895\n",
      "checking followees:  35%|███▌      | 948/2686 [18:46:31<2:50:29,  5.89s/it]   Rate limit reached. Sleeping for: 895\n",
      "checking followees:  36%|███▌      | 961/2686 [19:01:31<2:01:18,  4.22s/it]   Rate limit reached. Sleeping for: 895\n",
      "checking followees:  36%|███▋      | 975/2686 [19:16:32<1:24:24,  2.96s/it]   Rate limit reached. Sleeping for: 895\n",
      "checking followees:  37%|███▋      | 984/2686 [19:31:33<7:32:54, 15.97s/it]   Rate limit reached. Sleeping for: 895\n",
      "checking followees:  37%|███▋      | 998/2686 [19:46:34<1:26:13,  3.06s/it]   Rate limit reached. Sleeping for: 896\n",
      "checking followees:  38%|███▊      | 1011/2686 [20:01:36<1:55:33,  4.14s/it]  Rate limit reached. Sleeping for: 896\n",
      "checking followees:  38%|███▊      | 1024/2686 [20:16:37<1:51:51,  4.04s/it]   Rate limit reached. Sleeping for: 896\n",
      "checking followees:  39%|███▊      | 1035/2686 [20:31:39<3:44:57,  8.18s/it]   Rate limit reached. Sleeping for: 895\n",
      "checking followees:  39%|███▉      | 1046/2686 [20:46:41<3:41:02,  8.09s/it]   Rate limit reached. Sleeping for: 895\n",
      "checking followees:  39%|███▉      | 1053/2686 [21:01:39<14:46:46, 32.58s/it]  Rate limit reached. Sleeping for: 895\n",
      "checking followees:  40%|███▉      | 1062/2686 [21:16:43<7:46:23, 17.23s/it]   Rate limit reached. Sleeping for: 895\n",
      "checking followees:  40%|████      | 1076/2686 [21:31:44<1:21:42,  3.05s/it]   Rate limit reached. Sleeping for: 896\n",
      "checking followees:  40%|████      | 1086/2686 [21:46:46<5:02:04, 11.33s/it]   Rate limit reached. Sleeping for: 895\n",
      "checking followees:  41%|████      | 1094/2686 [22:01:45<10:12:06, 23.07s/it]  Rate limit reached. Sleeping for: 896\n",
      "checking followees:  41%|████      | 1106/2686 [22:16:49<2:40:41,  6.10s/it]   Rate limit reached. Sleeping for: 896\n",
      "checking followees:  41%|████▏     | 1112/2686 [22:31:51<20:37:18, 47.17s/it]  Rate limit reached. Sleeping for: 895\n",
      "checking followees:  42%|████▏     | 1122/2686 [22:46:53<5:30:06, 12.66s/it]   Rate limit reached. Sleeping for: 895\n",
      "checking followees:  42%|████▏     | 1132/2686 [23:01:53<5:02:04, 11.66s/it]   Rate limit reached. Sleeping for: 895\n",
      "checking followees:  43%|████▎     | 1143/2686 [23:16:54<3:34:46,  8.35s/it]   Rate limit reached. Sleeping for: 895\n",
      "checking followees:  43%|████▎     | 1155/2686 [23:31:55<2:27:55,  5.80s/it]   Rate limit reached. Sleeping for: 895\n",
      "checking followees:  43%|████▎     | 1164/2686 [23:46:55<6:47:42, 16.07s/it]   "
     ]
    },
    {
     "name": "stdout",
     "output_type": "stream",
     "text": [
      "401 Unauthorized\n",
      "Not authorized.\n",
      "2773494490\n"
     ]
    },
    {
     "name": "stderr",
     "output_type": "stream",
     "text": [
      "checking followees:  43%|████▎     | 1166/2686 [23:46:56<3:25:47,  8.12s/it]Rate limit reached. Sleeping for: 895\n",
      "checking followees:  44%|████▍     | 1177/2686 [24:01:56<3:25:17,  8.16s/it]   Rate limit reached. Sleeping for: 896\n",
      "checking followees:  44%|████▍     | 1191/2686 [24:16:58<1:12:17,  2.90s/it]   Rate limit reached. Sleeping for: 897\n",
      "checking followees:  45%|████▍     | 1200/2686 [24:32:01<6:42:32, 16.25s/it]   Rate limit reached. Sleeping for: 894\n",
      "checking followees:  45%|████▌     | 1213/2686 [24:47:01<1:42:09,  4.16s/it]   Rate limit reached. Sleeping for: 896\n",
      "checking followees:  46%|████▌     | 1228/2686 [25:02:02<52:19,  2.15s/it]     Rate limit reached. Sleeping for: 895\n",
      "checking followees:  46%|████▌     | 1240/2686 [25:17:04<2:22:23,  5.91s/it]   Rate limit reached. Sleeping for: 894\n",
      "checking followees:  47%|████▋     | 1253/2686 [25:32:04<1:39:44,  4.18s/it]   Rate limit reached. Sleeping for: 895\n",
      "checking followees:  47%|████▋     | 1265/2686 [25:47:05<2:18:34,  5.85s/it]   Rate limit reached. Sleeping for: 895\n",
      "checking followees:  47%|████▋     | 1274/2686 [26:02:06<6:18:07, 16.07s/it]   Rate limit reached. Sleeping for: 895\n",
      "checking followees:  48%|████▊     | 1285/2686 [26:17:08<3:13:04,  8.27s/it]   Rate limit reached. Sleeping for: 895\n",
      "checking followees:  48%|████▊     | 1298/2686 [26:32:09<1:38:54,  4.28s/it]   Rate limit reached. Sleeping for: 896\n",
      "checking followees:  49%|████▉     | 1311/2686 [26:47:10<1:33:18,  4.07s/it]   Rate limit reached. Sleeping for: 896\n",
      "checking followees:  49%|████▉     | 1325/2686 [27:02:12<1:07:07,  2.96s/it]   Rate limit reached. Sleeping for: 895\n",
      "checking followees:  50%|████▉     | 1335/2686 [27:17:13<4:17:57, 11.46s/it]   Rate limit reached. Sleeping for: 894\n",
      "checking followees:  50%|████▉     | 1341/2686 [27:32:15<17:46:36, 47.58s/it]  Rate limit reached. Sleeping for: 895\n",
      "checking followees:  50%|█████     | 1352/2686 [27:47:17<3:22:10,  9.09s/it]   Rate limit reached. Sleeping for: 895\n",
      "checking followees:  51%|█████     | 1362/2686 [28:02:18<4:18:12, 11.70s/it]   Rate limit reached. Sleeping for: 895\n",
      "checking followees:  51%|█████     | 1373/2686 [28:17:19<2:59:21,  8.20s/it]   Rate limit reached. Sleeping for: 895\n",
      "checking followees:  52%|█████▏    | 1385/2686 [28:32:20<2:04:05,  5.72s/it]   Rate limit reached. Sleeping for: 895\n",
      "checking followees:  52%|█████▏    | 1394/2686 [28:47:21<5:48:30, 16.18s/it]  Rate limit reached. Sleeping for: 896\n",
      "checking followees:  52%|█████▏    | 1405/2686 [29:02:23<2:57:36,  8.32s/it]   Rate limit reached. Sleeping for: 895\n",
      "checking followees:  53%|█████▎    | 1417/2686 [29:17:24<2:02:06,  5.77s/it]  Rate limit reached. Sleeping for: 896\n",
      "checking followees:  53%|█████▎    | 1428/2686 [29:32:26<2:51:09,  8.16s/it]  Rate limit reached. Sleeping for: 895\n",
      "checking followees:  54%|█████▎    | 1441/2686 [29:47:26<1:26:38,  4.18s/it]  Rate limit reached. Sleeping for: 896\n",
      "checking followees:  54%|█████▍    | 1454/2686 [30:02:28<1:24:00,  4.09s/it]  Rate limit reached. Sleeping for: 895\n",
      "checking followees:  55%|█████▍    | 1465/2686 [30:17:29<2:44:10,  8.07s/it]  Rate limit reached. Sleeping for: 896\n",
      "checking followees:  55%|█████▍    | 1475/2686 [30:32:32<3:52:43, 11.53s/it]  Rate limit reached. Sleeping for: 896\n",
      "checking followees:  55%|█████▌    | 1483/2686 [30:47:34<7:52:19, 23.56s/it]  Rate limit reached. Sleeping for: 895\n",
      "checking followees:  56%|█████▌    | 1497/2686 [31:02:35<1:01:21,  3.10s/it]  Rate limit reached. Sleeping for: 896\n",
      "checking followees:  56%|█████▌    | 1504/2686 [31:17:37<10:39:35, 32.47s/it] Rate limit reached. Sleeping for: 895\n",
      "checking followees:  56%|█████▋    | 1516/2686 [31:32:38<2:00:02,  6.16s/it]  Rate limit reached. Sleeping for: 895\n",
      "checking followees:  57%|█████▋    | 1528/2686 [31:47:39<1:51:55,  5.80s/it]  Rate limit reached. Sleeping for: 895\n",
      "checking followees:  57%|█████▋    | 1541/2686 [32:02:40<1:17:37,  4.07s/it]  Rate limit reached. Sleeping for: 896\n",
      "checking followees:  58%|█████▊    | 1550/2686 [32:17:42<5:04:14, 16.07s/it]  Rate limit reached. Sleeping for: 895\n",
      "checking followees:  58%|█████▊    | 1563/2686 [32:32:42<1:18:30,  4.19s/it]  Rate limit reached. Sleeping for: 896\n",
      "checking followees:  59%|█████▊    | 1575/2686 [32:47:44<1:45:45,  5.71s/it]  Rate limit reached. Sleeping for: 895\n",
      "checking followees:  59%|█████▉    | 1586/2686 [33:02:45<2:27:57,  8.07s/it]  Rate limit reached. Sleeping for: 895\n",
      "checking followees:  59%|█████▉    | 1596/2686 [33:17:46<3:28:24, 11.47s/it]  Rate limit reached. Sleeping for: 895\n",
      "checking followees:  60%|█████▉    | 1610/2686 [33:32:46<53:15,  2.97s/it]    Rate limit reached. Sleeping for: 896\n",
      "checking followees:  60%|██████    | 1621/2686 [33:47:49<2:27:44,  8.32s/it]  Rate limit reached. Sleeping for: 895\n",
      "checking followees:  61%|██████    | 1635/2686 [34:02:49<50:49,  2.90s/it]    Rate limit reached. Sleeping for: 896\n",
      "checking followees:  61%|██████▏   | 1648/2686 [34:17:50<1:10:44,  4.09s/it]  Rate limit reached. Sleeping for: 896\n",
      "checking followees:  62%|██████▏   | 1659/2686 [34:32:53<2:22:05,  8.30s/it]  Rate limit reached. Sleeping for: 895\n",
      "checking followees:  62%|██████▏   | 1665/2686 [34:47:54<13:18:11, 46.91s/it] Rate limit reached. Sleeping for: 894\n",
      "checking followees:  62%|██████▏   | 1673/2686 [35:02:54<7:11:26, 25.55s/it]  Rate limit reached. Sleeping for: 895\n",
      "checking followees:  63%|██████▎   | 1684/2686 [35:17:55<2:24:04,  8.63s/it]  Rate limit reached. Sleeping for: 895\n",
      "checking followees:  63%|██████▎   | 1696/2686 [35:32:56<1:36:01,  5.82s/it]  Rate limit reached. Sleeping for: 895\n",
      "checking followees:  63%|██████▎   | 1703/2686 [35:47:57<8:57:52, 32.83s/it]  Rate limit reached. Sleeping for: 895\n",
      "checking followees:  64%|██████▍   | 1714/2686 [36:02:58<2:20:45,  8.69s/it]  Rate limit reached. Sleeping for: 895\n",
      "checking followees:  64%|██████▍   | 1727/2686 [36:17:59<1:05:48,  4.12s/it]  Rate limit reached. Sleeping for: 895\n",
      "checking followees:  65%|██████▍   | 1734/2686 [36:33:00<8:39:27, 32.74s/it]  Rate limit reached. Sleeping for: 894\n",
      "checking followees:  65%|██████▌   | 1747/2686 [36:48:00<1:07:15,  4.30s/it]  Rate limit reached. Sleeping for: 896\n",
      "checking followees:  65%|██████▌   | 1758/2686 [37:03:02<2:09:08,  8.35s/it]  Rate limit reached. Sleeping for: 895\n",
      "checking followees:  66%|██████▌   | 1769/2686 [37:18:03<2:03:57,  8.11s/it]  Rate limit reached. Sleeping for: 895\n",
      "checking followees:  66%|██████▋   | 1780/2686 [37:33:04<2:02:23,  8.11s/it]  Rate limit reached. Sleeping for: 895\n",
      "checking followees:  67%|██████▋   | 1793/2686 [37:48:05<1:01:20,  4.12s/it]  Rate limit reached. Sleeping for: 896\n",
      "checking followees:  67%|██████▋   | 1802/2686 [38:03:05<3:57:07, 16.09s/it]  Rate limit reached. Sleeping for: 895\n",
      "checking followees:  68%|██████▊   | 1816/2686 [38:18:07<44:00,  3.03s/it]    Rate limit reached. Sleeping for: 896\n",
      "checking followees:  68%|██████▊   | 1829/2686 [38:33:10<58:18,  4.08s/it]    Rate limit reached. Sleeping for: 895\n",
      "checking followees:  69%|██████▊   | 1842/2686 [38:48:10<56:52,  4.04s/it]    Rate limit reached. Sleeping for: 895\n",
      "checking followees:  69%|██████▉   | 1852/2686 [39:03:10<2:37:40, 11.34s/it]  Rate limit reached. Sleeping for: 896\n",
      "checking followees:  69%|██████▉   | 1861/2686 [39:18:13<3:47:07, 16.52s/it]  Rate limit reached. Sleeping for: 895\n",
      "checking followees:  70%|██████▉   | 1872/2686 [39:33:13<1:51:55,  8.25s/it]  Rate limit reached. Sleeping for: 895\n",
      "checking followees:  70%|███████   | 1884/2686 [39:48:15<1:17:43,  5.81s/it]  Rate limit reached. Sleeping for: 896\n",
      "checking followees:  71%|███████   | 1898/2686 [40:03:17<38:54,  2.96s/it]    Rate limit reached. Sleeping for: 896\n",
      "checking followees:  71%|███████   | 1911/2686 [40:18:18<52:20,  4.05s/it]    Rate limit reached. Sleeping for: 895\n",
      "checking followees:  72%|███████▏  | 1922/2686 [40:33:20<1:41:46,  7.99s/it]  Rate limit reached. Sleeping for: 895\n",
      "checking followees:  72%|███████▏  | 1935/2686 [40:48:21<51:51,  4.14s/it]    Rate limit reached. Sleeping for: 896\n",
      "checking followees:  73%|███████▎  | 1948/2686 [41:03:22<49:42,  4.04s/it]    Rate limit reached. Sleeping for: 896\n",
      "checking followees:  73%|███████▎  | 1961/2686 [41:18:24<49:33,  4.10s/it]    Rate limit reached. Sleeping for: 896\n",
      "checking followees:  73%|███████▎  | 1973/2686 [41:33:24<1:07:30,  5.68s/it]  Rate limit reached. Sleeping for: 896\n",
      "checking followees:  74%|███████▍  | 1985/2686 [41:48:28<1:06:37,  5.70s/it]  Rate limit reached. Sleeping for: 895\n",
      "checking followees:  74%|███████▍  | 1996/2686 [42:03:28<1:31:57,  8.00s/it]  Rate limit reached. Sleeping for: 896\n",
      "checking followees:  75%|███████▍  | 2008/2686 [42:18:30<1:05:13,  5.77s/it]  Rate limit reached. Sleeping for: 895\n",
      "checking followees:  75%|███████▌  | 2016/2686 [42:33:31<4:15:59, 22.92s/it]  Rate limit reached. Sleeping for: 895\n",
      "checking followees:  76%|███████▌  | 2029/2686 [42:48:32<47:23,  4.33s/it]    Rate limit reached. Sleeping for: 895\n",
      "checking followees:  76%|███████▌  | 2038/2686 [43:03:33<2:53:40, 16.08s/it]  Rate limit reached. Sleeping for: 895\n",
      "checking followees:  76%|███████▌  | 2045/2686 [43:18:32<5:56:11, 33.34s/it]  Rate limit reached. Sleeping for: 894\n",
      "checking followees:  76%|███████▋  | 2054/2686 [43:33:35<3:02:31, 17.33s/it]  Rate limit reached. Sleeping for: 895\n",
      "checking followees:  77%|███████▋  | 2068/2686 [43:48:36<30:54,  3.00s/it]    Rate limit reached. Sleeping for: 895\n",
      "checking followees:  77%|███████▋  | 2081/2686 [44:03:36<40:20,  4.00s/it]    Rate limit reached. Sleeping for: 896\n",
      "checking followees:  78%|███████▊  | 2095/2686 [44:18:38<28:53,  2.93s/it]    Rate limit reached. Sleeping for: 895\n",
      "checking followees:  78%|███████▊  | 2102/2686 [44:33:37<5:12:57, 32.15s/it]  Rate limit reached. Sleeping for: 895\n",
      "checking followees:  79%|███████▊  | 2112/2686 [44:48:39<1:57:29, 12.28s/it]  Rate limit reached. Sleeping for: 895\n",
      "checking followees:  79%|███████▉  | 2119/2686 [45:03:42<5:13:03, 33.13s/it]  Rate limit reached. Sleeping for: 894\n",
      "checking followees:  79%|███████▉  | 2133/2686 [45:18:41<28:20,  3.08s/it]    Rate limit reached. Sleeping for: 896\n",
      "checking followees:  80%|███████▉  | 2140/2686 [45:33:43<4:54:01, 32.31s/it]  Rate limit reached. Sleeping for: 895\n",
      "checking followees:  80%|████████  | 2152/2686 [45:48:44<54:32,  6.13s/it]    Rate limit reached. Sleeping for: 896\n",
      "checking followees:  81%|████████  | 2166/2686 [46:03:46<25:55,  2.99s/it]    Rate limit reached. Sleeping for: 896\n",
      "checking followees:  81%|████████  | 2176/2686 [46:18:48<1:37:13, 11.44s/it]  Rate limit reached. Sleeping for: 895\n",
      "checking followees:  81%|████████▏ | 2187/2686 [46:33:49<1:07:43,  8.14s/it]  Rate limit reached. Sleeping for: 895\n",
      "checking followees:  82%|████████▏ | 2202/2686 [46:48:50<17:21,  2.15s/it]    Rate limit reached. Sleeping for: 896\n",
      "checking followees:  82%|████████▏ | 2213/2686 [47:03:52<1:02:48,  7.97s/it]  Rate limit reached. Sleeping for: 895\n",
      "checking followees:  83%|████████▎ | 2225/2686 [47:18:53<45:19,  5.90s/it]    Rate limit reached. Sleeping for: 896\n",
      "checking followees:  83%|████████▎ | 2235/2686 [47:33:55<1:25:14, 11.34s/it]  Rate limit reached. Sleeping for: 895\n",
      "checking followees:  83%|████████▎ | 2241/2686 [47:48:53<5:47:01, 46.79s/it]  "
     ]
    },
    {
     "name": "stdout",
     "output_type": "stream",
     "text": [
      "404 Not Found\n",
      "34 - Sorry, that page does not exist.\n",
      "821464321817542657\n"
     ]
    },
    {
     "name": "stderr",
     "output_type": "stream",
     "text": [
      "checking followees:  84%|████████▎ | 2248/2686 [47:48:55<30:50,  4.22s/it]  Rate limit reached. Sleeping for: 895\n",
      "checking followees:  84%|████████▍ | 2260/2686 [48:03:56<40:38,  5.72s/it]    Rate limit reached. Sleeping for: 895\n",
      "checking followees:  85%|████████▍ | 2274/2686 [48:18:57<20:42,  3.02s/it]    Rate limit reached. Sleeping for: 895\n",
      "checking followees:  85%|████████▌ | 2286/2686 [48:33:58<38:16,  5.74s/it]    Rate limit reached. Sleeping for: 895\n",
      "checking followees:  86%|████████▌ | 2297/2686 [48:48:59<53:07,  8.19s/it]    Rate limit reached. Sleeping for: 895\n",
      "checking followees:  86%|████████▌ | 2308/2686 [49:04:00<51:31,  8.18s/it]    Rate limit reached. Sleeping for: 895\n",
      "checking followees:  86%|████████▋ | 2319/2686 [49:19:00<49:10,  8.04s/it]    Rate limit reached. Sleeping for: 895\n",
      "checking followees:  87%|████████▋ | 2332/2686 [49:34:02<24:13,  4.11s/it]    Rate limit reached. Sleeping for: 895\n",
      "checking followees:  87%|████████▋ | 2345/2686 [49:49:03<22:51,  4.02s/it]    Rate limit reached. Sleeping for: 896\n",
      "checking followees:  88%|████████▊ | 2360/2686 [50:04:04<11:30,  2.12s/it]    Rate limit reached. Sleeping for: 896\n",
      "checking followees:  88%|████████▊ | 2375/2686 [50:19:06<10:56,  2.11s/it]    Rate limit reached. Sleeping for: 895\n",
      "checking followees:  89%|████████▉ | 2388/2686 [50:34:07<20:21,  4.10s/it]    Rate limit reached. Sleeping for: 895\n",
      "checking followees:  89%|████████▉ | 2397/2686 [50:49:08<1:17:58, 16.19s/it]  Rate limit reached. Sleeping for: 895\n",
      "checking followees:  90%|████████▉ | 2408/2686 [51:04:09<38:25,  8.29s/it]    Rate limit reached. Sleeping for: 895\n",
      "checking followees:  90%|████████▉ | 2417/2686 [51:19:10<1:13:12, 16.33s/it]  Rate limit reached. Sleeping for: 895\n",
      "checking followees:  90%|█████████ | 2427/2686 [51:34:12<50:20, 11.66s/it]    Rate limit reached. Sleeping for: 894\n",
      "checking followees:  91%|█████████ | 2440/2686 [51:49:12<17:08,  4.18s/it]    Rate limit reached. Sleeping for: 896\n",
      "checking followees:  91%|█████████▏| 2452/2686 [52:04:13<22:35,  5.79s/it]    Rate limit reached. Sleeping for: 896\n",
      "checking followees:  92%|█████████▏| 2463/2686 [52:19:15<30:04,  8.09s/it]    Rate limit reached. Sleeping for: 895\n",
      "checking followees:  92%|█████████▏| 2470/2686 [52:34:17<2:00:35, 33.50s/it]  Rate limit reached. Sleeping for: 894\n",
      "checking followees:  92%|█████████▏| 2480/2686 [52:49:17<41:54, 12.20s/it]    Rate limit reached. Sleeping for: 895\n",
      "checking followees:  93%|█████████▎| 2495/2686 [53:04:18<07:09,  2.25s/it]    Rate limit reached. Sleeping for: 895\n",
      "checking followees:  93%|█████████▎| 2507/2686 [53:19:19<17:15,  5.79s/it]    Rate limit reached. Sleeping for: 895\n",
      "checking followees:  94%|█████████▍| 2520/2686 [53:34:20<11:13,  4.06s/it]    "
     ]
    },
    {
     "name": "stdout",
     "output_type": "stream",
     "text": [
      "401 Unauthorized\n",
      "Not authorized.\n",
      "919982894\n"
     ]
    },
    {
     "name": "stderr",
     "output_type": "stream",
     "text": [
      "Rate limit reached. Sleeping for: 895\n",
      "checking followees:  94%|█████████▍| 2534/2686 [53:49:21<07:28,  2.95s/it]    Rate limit reached. Sleeping for: 895\n",
      "checking followees:  95%|█████████▍| 2543/2686 [54:04:23<38:34, 16.19s/it]    Rate limit reached. Sleeping for: 895\n",
      "checking followees:  95%|█████████▌| 2557/2686 [54:19:24<06:37,  3.08s/it]    Rate limit reached. Sleeping for: 896\n",
      "checking followees:  96%|█████████▌| 2568/2686 [54:34:25<15:41,  7.97s/it]   Rate limit reached. Sleeping for: 895\n",
      "checking followees:  96%|█████████▌| 2579/2686 [54:49:27<14:36,  8.19s/it]   Rate limit reached. Sleeping for: 895\n",
      "checking followees:  97%|█████████▋| 2593/2686 [55:04:28<04:38,  3.00s/it]   Rate limit reached. Sleeping for: 895\n",
      "checking followees:  97%|█████████▋| 2608/2686 [55:19:29<02:51,  2.20s/it]   Rate limit reached. Sleeping for: 895\n",
      "checking followees:  98%|█████████▊| 2620/2686 [55:34:29<06:15,  5.69s/it]   Rate limit reached. Sleeping for: 896\n",
      "checking followees:  98%|█████████▊| 2628/2686 [55:49:32<22:19, 23.09s/it]   Rate limit reached. Sleeping for: 894\n",
      "checking followees:  98%|█████████▊| 2642/2686 [56:04:32<02:16,  3.10s/it]   Rate limit reached. Sleeping for: 895\n",
      "checking followees:  99%|█████████▉| 2656/2686 [56:19:33<01:29,  2.97s/it]   Rate limit reached. Sleeping for: 895\n",
      "checking followees:  99%|█████████▉| 2669/2686 [56:34:34<01:10,  4.13s/it]   Rate limit reached. Sleeping for: 895\n",
      "checking followees: 100%|█████████▉| 2681/2686 [56:49:35<00:29,  5.80s/it]   Rate limit reached. Sleeping for: 896\n",
      "checking followees: 100%|██████████| 2686/2686 [57:04:34<00:00, 76.50s/it] \n"
     ]
    }
   ],
   "source": [
    "from data_utils import get_new_retweeters_repliers\n",
    "out_path = os.path.join(DATA_PATH, 'followee_lists_of_new_retweeters_repliers.jsonl')\n",
    "\n",
    "repliers = get_new_retweeters_repliers()\n",
    "\n",
    "exception_users_new = dict()\n",
    "exception_users_new.update(get_followee_lists(repliers, out_path, api))"
   ],
   "metadata": {
    "collapsed": false
   }
  },
  {
   "cell_type": "code",
   "execution_count": 29,
   "outputs": [
    {
     "name": "stderr",
     "output_type": "stream",
     "text": [
      "checking followees:   7%|▋         | 15/204 [00:03<00:43,  4.32it/s]Rate limit reached. Sleeping for: 896\n",
      "checking followees:  15%|█▍        | 30/204 [15:04<05:59,  2.07s/it]    Rate limit reached. Sleeping for: 896\n",
      "checking followees:  22%|██▏       | 45/204 [30:05<05:30,  2.08s/it]    Rate limit reached. Sleeping for: 896\n",
      "checking followees:  29%|██▉       | 60/204 [45:06<05:05,  2.12s/it]    Rate limit reached. Sleeping for: 896\n",
      "checking followees:  37%|███▋      | 75/204 [1:00:07<04:37,  2.15s/it]    Rate limit reached. Sleeping for: 896\n",
      "checking followees:  42%|████▏     | 86/204 [1:15:08<15:48,  8.04s/it]   Rate limit reached. Sleeping for: 896\n",
      "checking followees:  50%|████▉     | 101/204 [1:30:10<03:41,  2.15s/it]  Rate limit reached. Sleeping for: 896\n",
      "checking followees:  56%|█████▋    | 115/204 [1:45:12<04:15,  2.88s/it]   Rate limit reached. Sleeping for: 896\n",
      "checking followees:  63%|██████▎   | 129/204 [2:00:13<03:36,  2.88s/it]   Rate limit reached. Sleeping for: 895\n",
      "checking followees:  67%|██████▋   | 136/204 [2:15:11<36:23, 32.11s/it]   Rate limit reached. Sleeping for: 895\n",
      "checking followees:  72%|███████▏  | 147/204 [2:30:14<08:06,  8.54s/it]   Rate limit reached. Sleeping for: 896\n",
      "checking followees:  79%|███████▉  | 162/204 [2:45:16<01:32,  2.19s/it]   Rate limit reached. Sleeping for: 896\n",
      "checking followees:  87%|████████▋ | 177/204 [3:00:17<00:56,  2.10s/it]   Rate limit reached. Sleeping for: 896\n",
      "checking followees:  93%|█████████▎| 190/204 [3:15:18<00:56,  4.03s/it]   Rate limit reached. Sleeping for: 896\n",
      "checking followees:  99%|█████████▊| 201/204 [3:30:21<00:24,  8.04s/it] Rate limit reached. Sleeping for: 895\n",
      "checking followees: 100%|██████████| 204/204 [3:45:18<00:00, 66.27s/it] \n"
     ]
    }
   ],
   "source": [
    "from data_utils import get_new_author_ids\n",
    "out_path = os.path.join(DATA_PATH, 'followee_lists_new.jsonl')\n",
    "\n",
    "new_authors = get_new_author_ids()\n",
    "\n",
    "exception_users_new = dict()\n",
    "exception_users_new.update(get_followee_lists(new_authors, out_path, api))"
   ],
   "metadata": {
    "collapsed": false
   }
  },
  {
   "cell_type": "code",
   "execution_count": 30,
   "outputs": [],
   "source": [
    "write_error_users(exception_users, os.path.join(DATA_PATH, 'new_authors_missing.jsonl'))"
   ],
   "metadata": {
    "collapsed": false
   }
  },
  {
   "cell_type": "code",
   "execution_count": 3,
   "outputs": [
    {
     "name": "stderr",
     "output_type": "stream",
     "text": [
      "checking followees:   3%|▎         | 14/482 [00:03<01:44,  4.46it/s]Rate limit reached. Sleeping for: 896\n",
      "checking followees:   6%|▌         | 29/482 [15:04<15:34,  2.06s/it]    Rate limit reached. Sleeping for: 896\n",
      "checking followees:   9%|▊         | 42/482 [30:05<30:16,  4.13s/it]    Rate limit reached. Sleeping for: 896\n",
      "checking followees:  10%|█         | 50/482 [45:07<2:45:09, 22.94s/it]  Rate limit reached. Sleeping for: 895\n",
      "checking followees:  13%|█▎        | 62/482 [1:00:07<41:38,  5.95s/it]    Rate limit reached. Sleeping for: 896\n",
      "checking followees:  16%|█▌        | 76/482 [1:15:09<19:40,  2.91s/it]    Rate limit reached. Sleeping for: 897\n",
      "checking followees:  17%|█▋        | 81/482 [1:30:10<7:18:31, 65.62s/it]  Rate limit reached. Sleeping for: 895\n",
      "checking followees:  18%|█▊        | 86/482 [1:45:10<8:21:43, 76.02s/it]  "
     ]
    },
    {
     "name": "stdout",
     "output_type": "stream",
     "text": [
      "404 Not Found\n",
      "34 - Sorry, that page does not exist.\n",
      "1224122849553780737\n"
     ]
    },
    {
     "name": "stderr",
     "output_type": "stream",
     "text": [
      "checking followees:  20%|█▉        | 95/482 [1:45:12<21:18,  3.30s/it]  Rate limit reached. Sleeping for: 896\n",
      "checking followees:  23%|██▎       | 109/482 [2:00:13<17:58,  2.89s/it]   Rate limit reached. Sleeping for: 896\n",
      "checking followees:  25%|██▍       | 120/482 [2:15:15<47:55,  7.94s/it]    Rate limit reached. Sleeping for: 895\n",
      "checking followees:  28%|██▊       | 133/482 [2:30:16<24:42,  4.25s/it]    Rate limit reached. Sleeping for: 895\n",
      "checking followees:  30%|███       | 147/482 [2:45:16<16:39,  2.98s/it]    Rate limit reached. Sleeping for: 896\n",
      "checking followees:  33%|███▎      | 159/482 [3:00:16<30:03,  5.59s/it]    Rate limit reached. Sleeping for: 896\n",
      "checking followees:  36%|███▌      | 174/482 [3:15:18<10:41,  2.08s/it]    Rate limit reached. Sleeping for: 896\n",
      "checking followees:  38%|███▊      | 185/482 [3:30:20<39:42,  8.02s/it]    Rate limit reached. Sleeping for: 895\n",
      "checking followees:  40%|████      | 194/482 [3:45:21<1:17:35, 16.16s/it]  Rate limit reached. Sleeping for: 896\n",
      "checking followees:  41%|████      | 197/482 [4:00:18<10:53:29, 137.58s/it]"
     ]
    },
    {
     "name": "stdout",
     "output_type": "stream",
     "text": [
      "401 Unauthorized\n",
      "Not authorized.\n",
      "2198461859\n"
     ]
    },
    {
     "name": "stderr",
     "output_type": "stream",
     "text": [
      "checking followees:  43%|████▎     | 207/482 [4:00:21<19:35,  4.28s/it]    Rate limit reached. Sleeping for: 896\n",
      "checking followees:  44%|████▍     | 212/482 [4:15:24<4:56:21, 65.86s/it]  Rate limit reached. Sleeping for: 895\n",
      "checking followees:  47%|████▋     | 225/482 [4:30:23<19:41,  4.60s/it]    Rate limit reached. Sleeping for: 896\n",
      "checking followees:  49%|████▉     | 238/482 [4:45:26<16:23,  4.03s/it]    Rate limit reached. Sleeping for: 895\n",
      "checking followees:  52%|█████▏    | 251/482 [5:00:26<15:24,  4.00s/it]    Rate limit reached. Sleeping for: 896\n",
      "checking followees:  53%|█████▎    | 255/482 [5:15:24<5:54:02, 93.58s/it]  Rate limit reached. Sleeping for: 895\n",
      "Rate limit reached. Sleeping for: 894\n",
      "Rate limit reached. Sleeping for: 894\n",
      "Rate limit reached. Sleeping for: 894\n",
      "Rate limit reached. Sleeping for: 894\n",
      "Rate limit reached. Sleeping for: 894\n",
      "Rate limit reached. Sleeping for: 894\n",
      "Rate limit reached. Sleeping for: 894\n",
      "Rate limit reached. Sleeping for: 894\n",
      "Rate limit reached. Sleeping for: 894\n",
      "checking followees:  56%|█████▌    | 269/482 [7:45:38<1:36:09, 27.09s/it]    Rate limit reached. Sleeping for: 895\n",
      "checking followees:  59%|█████▉    | 284/482 [8:00:37<07:13,  2.19s/it]    Rate limit reached. Sleeping for: 897\n",
      "checking followees:  62%|██████▏   | 297/482 [8:15:39<12:23,  4.02s/it]    Rate limit reached. Sleeping for: 895\n",
      "checking followees:  63%|██████▎   | 306/482 [8:30:40<47:22, 16.15s/it]    Rate limit reached. Sleeping for: 895\n",
      "checking followees:  66%|██████▌   | 318/482 [8:45:41<15:54,  5.82s/it]    Rate limit reached. Sleeping for: 896\n",
      "checking followees:  68%|██████▊   | 330/482 [9:00:43<14:58,  5.91s/it]    Rate limit reached. Sleeping for: 895\n",
      "checking followees:  70%|███████   | 339/482 [9:15:42<38:05, 15.99s/it]    Rate limit reached. Sleeping for: 896\n",
      "checking followees:  73%|███████▎  | 351/482 [9:30:45<12:43,  5.83s/it]    Rate limit reached. Sleeping for: 895\n",
      "Rate limit reached. Sleeping for: 894\n",
      "Rate limit reached. Sleeping for: 894\n",
      "Rate limit reached. Sleeping for: 894\n",
      "Rate limit reached. Sleeping for: 894\n",
      "Rate limit reached. Sleeping for: 894\n",
      "Rate limit reached. Sleeping for: 894\n",
      "checking followees:  76%|███████▌  | 364/482 [11:15:51<52:15, 26.57s/it]     Rate limit reached. Sleeping for: 896\n",
      "checking followees:  79%|███████▊  | 379/482 [11:30:52<03:44,  2.18s/it]   Rate limit reached. Sleeping for: 896\n",
      "checking followees:  82%|████████▏ | 394/482 [11:45:54<03:04,  2.09s/it]   Rate limit reached. Sleeping for: 896\n",
      "checking followees:  83%|████████▎ | 398/482 [12:00:53<2:10:33, 93.25s/it] Rate limit reached. Sleeping for: 895\n",
      "checking followees:  85%|████████▍ | 408/482 [12:15:57<17:24, 14.11s/it]   Rate limit reached. Sleeping for: 895\n",
      "checking followees:  85%|████████▌ | 411/482 [12:30:54<2:41:48, 136.74s/it]"
     ]
    },
    {
     "name": "stdout",
     "output_type": "stream",
     "text": [
      "404 Not Found\n",
      "34 - Sorry, that page does not exist.\n",
      "83969065\n"
     ]
    },
    {
     "name": "stderr",
     "output_type": "stream",
     "text": [
      "checking followees:  87%|████████▋ | 418/482 [12:30:58<12:40, 11.88s/it]   Rate limit reached. Sleeping for: 896\n",
      "checking followees:  90%|████████▉ | 432/482 [12:45:59<02:34,  3.09s/it]   Rate limit reached. Sleeping for: 897\n",
      "checking followees:  91%|█████████▏| 441/482 [13:01:02<11:04, 16.20s/it]   Rate limit reached. Sleeping for: 896\n",
      "checking followees:  93%|█████████▎| 446/482 [13:16:04<40:45, 67.92s/it]   Rate limit reached. Sleeping for: 895\n",
      "checking followees:  96%|█████████▌| 461/482 [13:31:04<00:50,  2.39s/it]   Rate limit reached. Sleeping for: 896\n",
      "checking followees:  97%|█████████▋| 468/482 [13:46:06<07:31, 32.24s/it]   Rate limit reached. Sleeping for: 895\n",
      "checking followees: 100%|██████████| 482/482 [14:01:06<00:00, 104.70s/it]  \n"
     ]
    },
    {
     "ename": "NameError",
     "evalue": "name 'write_error_users' is not defined",
     "output_type": "error",
     "traceback": [
      "\u001B[1;31m---------------------------------------------------------------------------\u001B[0m",
      "\u001B[1;31mNameError\u001B[0m                                 Traceback (most recent call last)",
      "Cell \u001B[1;32mIn[3], line 7\u001B[0m\n\u001B[0;32m      5\u001B[0m errpath \u001B[38;5;241m=\u001B[39m os\u001B[38;5;241m.\u001B[39mpath\u001B[38;5;241m.\u001B[39mjoin(DATA_PATH, \u001B[38;5;124m'\u001B[39m\u001B[38;5;124mauthors_missing.jsonl\u001B[39m\u001B[38;5;124m'\u001B[39m)\n\u001B[0;32m      6\u001B[0m exception_users \u001B[38;5;241m=\u001B[39m get_followee_lists(newer_author_ids, out_path, api)\n\u001B[1;32m----> 7\u001B[0m \u001B[43mwrite_error_users\u001B[49m(exception_users, errpath)\n",
      "\u001B[1;31mNameError\u001B[0m: name 'write_error_users' is not defined"
     ]
    }
   ],
   "source": [
    "from data_utils import get_newer_author_ids\n",
    "\n",
    "newer_author_ids = get_newer_author_ids('all-new-polls.json')\n",
    "out_path = os.path.join(DATA_PATH, f'followee_lists_newer.jsonl')\n",
    "errpath = os.path.join(DATA_PATH, 'authors_missing.jsonl')\n",
    "exception_users = get_followee_lists(newer_author_ids, out_path, api)\n",
    "write_error_users(exception_users, errpath)"
   ],
   "metadata": {
    "collapsed": false
   }
  },
  {
   "cell_type": "code",
   "execution_count": 5,
   "outputs": [],
   "source": [
    "write_error_users(exception_users, errpath)"
   ],
   "metadata": {
    "collapsed": false
   }
  },
  {
   "cell_type": "code",
   "execution_count": 3,
   "outputs": [],
   "source": [
    "import pandas as pd\n",
    "ids = set()\n",
    "with open('data/overlapping_followers_2020.csv') as f:\n",
    "    for l in f:\n",
    "        ids.add(l.strip().split(' ')[1])"
   ],
   "metadata": {
    "collapsed": false
   }
  },
  {
   "cell_type": "code",
   "execution_count": 4,
   "outputs": [],
   "source": [
    "existing_users = set()\n",
    "for out_path in [os.path.join('data', fname) for fname in os.listdir('data') if fname.startswith('followee_lists')]:\n",
    "    existing_users.update(get_authors_from_follower_lists(out_path))"
   ],
   "metadata": {
    "collapsed": false
   }
  },
  {
   "cell_type": "code",
   "execution_count": 5,
   "outputs": [
    {
     "data": {
      "text/plain": "(1298903, 1291921)"
     },
     "execution_count": 5,
     "metadata": {},
     "output_type": "execute_result"
    }
   ],
   "source": [
    "remaining_ids = ids.difference(existing_users)\n",
    "len(ids), len(remaining_ids)"
   ],
   "metadata": {
    "collapsed": false
   }
  },
  {
   "cell_type": "code",
   "execution_count": 6,
   "outputs": [],
   "source": [
    "some_ids = np.random.choice(list(remaining_ids), 10000)"
   ],
   "metadata": {
    "collapsed": false
   }
  },
  {
   "cell_type": "code",
   "execution_count": null,
   "outputs": [
    {
     "name": "stderr",
     "output_type": "stream",
     "text": [
      "checking followees:   0%|          | 14/10000 [00:03<38:36,  4.31it/s]"
     ]
    },
    {
     "name": "stdout",
     "output_type": "stream",
     "text": [
      "401 Unauthorized\n",
      "Not authorized.\n",
      "1483947327790460932\n"
     ]
    },
    {
     "name": "stderr",
     "output_type": "stream",
     "text": [
      "checking followees:   0%|          | 15/10000 [00:03<37:19,  4.46it/s]Rate limit reached. Sleeping for: 896\n"
     ]
    }
   ],
   "source": [
    "out_path = os.path.join(DATA_PATH, f'followee_lists_overlapping.jsonl')\n",
    "errpath = os.path.join(DATA_PATH, 'authors_missing.jsonl')\n",
    "exception_users = get_followee_lists(some_ids, out_path, api)\n",
    "write_error_users(exception_users, errpath)"
   ],
   "metadata": {
    "collapsed": false,
    "pycharm": {
     "is_executing": true
    }
   }
  },
  {
   "cell_type": "markdown",
   "source": [],
   "metadata": {
    "collapsed": false
   }
  }
 ],
 "metadata": {
  "kernelspec": {
   "display_name": "Python 3",
   "language": "python",
   "name": "python3"
  },
  "language_info": {
   "codemirror_mode": {
    "name": "ipython",
    "version": 2
   },
   "file_extension": ".py",
   "mimetype": "text/x-python",
   "name": "python",
   "nbconvert_exporter": "python",
   "pygments_lexer": "ipython2",
   "version": "2.7.6"
  }
 },
 "nbformat": 4,
 "nbformat_minor": 0
}
