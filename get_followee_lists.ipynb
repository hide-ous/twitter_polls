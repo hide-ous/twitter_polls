{
 "cells": [
  {
   "cell_type": "code",
   "execution_count": 6,
   "metadata": {
    "collapsed": true
   },
   "outputs": [],
   "source": [
    "import os\n",
    "\n",
    "import pandas as pd\n",
    "\n",
    "from data_utils import YEARS, DATA_PATH, get_authors_from_follower_lists, get_authors_from_keys, get_retweeters_repliers\n",
    "from twitter_utils import get_api, get_followee_lists\n",
    "import json\n"
   ]
  },
  {
   "cell_type": "code",
   "execution_count": 2,
   "outputs": [],
   "source": [
    "api = get_api()"
   ],
   "metadata": {
    "collapsed": false
   }
  },
  {
   "cell_type": "code",
   "execution_count": null,
   "outputs": [],
   "source": [
    "exception_users=dict()\n",
    "for year in YEARS:\n",
    "    out_path = os.path.join(DATA_PATH, f'followee_lists_{year}.jsonl')\n",
    "    existing_users = get_authors_from_follower_lists(out_path)\n",
    "\n",
    "    fpath = os.path.join(DATA_PATH, f'polls_{year}_author_ids.json')\n",
    "    author_ids = get_authors_from_keys(fpath)\n",
    "    author_ids = [id for id in author_ids if id not in existing_users]\n",
    "    print(f\"{len(author_ids)} users to scrape\")\n",
    "    exception_users.update(get_followee_lists(author_ids, out_path, api))"
   ],
   "metadata": {
    "collapsed": false
   }
  },
  {
   "cell_type": "code",
   "execution_count": 7,
   "outputs": [],
   "source": [
    "ids = set()\n",
    "repliers = set(get_retweeters_repliers())\n",
    "out_path = os.path.join(DATA_PATH, 'followee_lists_of_retweeters_repliers.jsonl')\n",
    "with open(out_path, 'w+') as fo:\n",
    "    for fname in ['followee_lists_of_repliers_stephen.jsonl', 'followee_lists_of_repliers.jsonl']:\n",
    "        fpath = os.path.join(DATA_PATH, fname)\n",
    "        with open(fpath) as f:\n",
    "            for l in f:\n",
    "                id_ = list(json.loads(l).keys())[0]\n",
    "                if (id_ not in ids) and id_ in repliers:\n",
    "                    ids.add(id_)\n",
    "                    fo.write(l)\n",
    "len(ids)"
   ],
   "metadata": {
    "collapsed": false
   }
  },
  {
   "cell_type": "code",
   "execution_count": 9,
   "outputs": [
    {
     "name": "stdout",
     "output_type": "stream",
     "text": [
      "found 8065 scraped users\n"
     ]
    }
   ],
   "source": [
    "repliers = get_retweeters_repliers()\n",
    "len(repliers)\n",
    "# out_path = os.path.join(DATA_PATH, f'followee_lists_of_repliers.jsonl')\n",
    "existing_users = get_authors_from_follower_lists(out_path)\n",
    "print(f'found {len(existing_users)} scraped users')\n",
    "\n",
    "repliers = [i for i in repliers if i not in existing_users]"
   ],
   "metadata": {
    "collapsed": false
   }
  },
  {
   "cell_type": "code",
   "execution_count": 10,
   "outputs": [
    {
     "data": {
      "text/plain": "90"
     },
     "execution_count": 10,
     "metadata": {},
     "output_type": "execute_result"
    }
   ],
   "source": [
    "len(repliers)"
   ],
   "metadata": {
    "collapsed": false
   }
  },
  {
   "cell_type": "code",
   "execution_count": null,
   "outputs": [
    {
     "name": "stderr",
     "output_type": "stream",
     "text": [
      "checking followees:   2%|▏         | 2/90 [00:00<00:25,  3.46it/s]"
     ]
    },
    {
     "name": "stdout",
     "output_type": "stream",
     "text": [
      "401 Unauthorized\n",
      "Not authorized.\n",
      "1021918737040134144\n"
     ]
    },
    {
     "name": "stderr",
     "output_type": "stream",
     "text": [
      "checking followees:   4%|▍         | 4/90 [00:01<00:20,  4.16it/s]"
     ]
    },
    {
     "name": "stdout",
     "output_type": "stream",
     "text": [
      "401 Unauthorized\n",
      "Not authorized.\n",
      "1025797428023382017\n"
     ]
    },
    {
     "name": "stderr",
     "output_type": "stream",
     "text": [
      "checking followees:   9%|▉         | 8/90 [00:02<00:20,  3.99it/s]"
     ]
    },
    {
     "name": "stdout",
     "output_type": "stream",
     "text": [
      "401 Unauthorized\n",
      "Not authorized.\n",
      "1065464738312802304\n"
     ]
    },
    {
     "name": "stderr",
     "output_type": "stream",
     "text": [
      "checking followees:  10%|█         | 9/90 [00:02<00:19,  4.11it/s]"
     ]
    },
    {
     "name": "stdout",
     "output_type": "stream",
     "text": [
      "404 Not Found\n",
      "34 - Sorry, that page does not exist.\n",
      "1074443098242117633\n"
     ]
    },
    {
     "name": "stderr",
     "output_type": "stream",
     "text": [
      "checking followees:  12%|█▏        | 11/90 [00:02<00:17,  4.41it/s]"
     ]
    },
    {
     "name": "stdout",
     "output_type": "stream",
     "text": [
      "401 Unauthorized\n",
      "Not authorized.\n",
      "1089017406389870593\n",
      "404 Not Found\n",
      "34 - Sorry, that page does not exist.\n",
      "1162434119579643905\n"
     ]
    },
    {
     "name": "stderr",
     "output_type": "stream",
     "text": [
      "checking followees:  17%|█▋        | 15/90 [00:03<00:16,  4.51it/s]"
     ]
    },
    {
     "name": "stdout",
     "output_type": "stream",
     "text": [
      "401 Unauthorized\n",
      "Not authorized.\n",
      "1280496301889773571\n"
     ]
    },
    {
     "name": "stderr",
     "output_type": "stream",
     "text": [
      "Rate limit reached. Sleeping for: 896\n"
     ]
    }
   ],
   "source": [
    "exception_users = dict()\n",
    "exception_users.update(get_followee_lists(repliers, out_path, api))"
   ],
   "metadata": {
    "collapsed": false,
    "pycharm": {
     "is_executing": true
    }
   }
  },
  {
   "cell_type": "markdown",
   "source": [],
   "metadata": {
    "collapsed": false
   }
  }
 ],
 "metadata": {
  "kernelspec": {
   "display_name": "Python 3",
   "language": "python",
   "name": "python3"
  },
  "language_info": {
   "codemirror_mode": {
    "name": "ipython",
    "version": 2
   },
   "file_extension": ".py",
   "mimetype": "text/x-python",
   "name": "python",
   "nbconvert_exporter": "python",
   "pygments_lexer": "ipython2",
   "version": "2.7.6"
  }
 },
 "nbformat": 4,
 "nbformat_minor": 0
}
