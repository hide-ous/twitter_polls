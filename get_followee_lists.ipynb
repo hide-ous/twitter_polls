{
 "cells": [
  {
   "cell_type": "code",
   "execution_count": 1,
   "metadata": {
    "collapsed": true
   },
   "outputs": [
    {
     "data": {
      "text/plain": "True"
     },
     "execution_count": 1,
     "metadata": {},
     "output_type": "execute_result"
    }
   ],
   "source": [
    "import json\n",
    "\n",
    "from tqdm import tqdm\n",
    "import tweepy\n",
    "from dotenv import load_dotenv\n",
    "import os\n",
    "\n",
    "from tweepy import TweepyException\n",
    "\n",
    "load_dotenv()  # load environment variables from .env"
   ]
  },
  {
   "cell_type": "code",
   "execution_count": 2,
   "outputs": [],
   "source": [
    "DATA_PATH = 'data'\n",
    "YEARS = [2016, 2020]"
   ],
   "metadata": {
    "collapsed": false
   }
  },
  {
   "cell_type": "code",
   "execution_count": 3,
   "outputs": [],
   "source": [
    "auth = tweepy.OAuth2BearerHandler(\n",
    "    bearer_token= os.environ['BEARER'])\n",
    "api = tweepy.API(auth, wait_on_rate_limit=True)"
   ],
   "metadata": {
    "collapsed": false
   }
  },
  {
   "cell_type": "code",
   "execution_count": 4,
   "outputs": [],
   "source": [
    "exception_users = dict()"
   ],
   "metadata": {
    "collapsed": false
   }
  },
  {
   "cell_type": "code",
   "execution_count": null,
   "outputs": [
    {
     "name": "stderr",
     "output_type": "stream",
     "text": [
      "checking followees of poll authors:   1%|          | 3/401 [00:00<01:50,  3.62it/s]"
     ]
    },
    {
     "name": "stdout",
     "output_type": "stream",
     "text": [
      "404 Not Found\n",
      "34 - Sorry, that page does not exist.\n",
      "2515437133\n"
     ]
    },
    {
     "name": "stderr",
     "output_type": "stream",
     "text": [
      "checking followees of poll authors:   2%|▏         | 10/401 [00:03<02:22,  2.75it/s]Rate limit reached. Sleeping for: 895\n",
      "checking followees of poll authors:   3%|▎         | 11/401 [15:06<29:57:50, 276.59s/it]Rate limit reached. Sleeping for: 894\n",
      "checking followees of poll authors:   6%|▌         | 25/401 [30:04<29:11,  4.66s/it]    Rate limit reached. Sleeping for: 897\n",
      "checking followees of poll authors:   9%|▉         | 38/401 [45:07<24:58,  4.13s/it]    Rate limit reached. Sleeping for: 896\n",
      "checking followees of poll authors:  11%|█▏        | 46/401 [1:00:07<2:15:12, 22.85s/it]  "
     ]
    },
    {
     "name": "stdout",
     "output_type": "stream",
     "text": [
      "401 Unauthorized\n",
      "Not authorized.\n",
      "502096522\n"
     ]
    },
    {
     "name": "stderr",
     "output_type": "stream",
     "text": [
      "checking followees of poll authors:  12%|█▏        | 49/401 [1:00:08<46:51,  7.99s/it]  Rate limit reached. Sleeping for: 896\n",
      "checking followees of poll authors:  16%|█▌        | 64/401 [1:15:09<12:00,  2.14s/it]    "
     ]
    },
    {
     "name": "stdout",
     "output_type": "stream",
     "text": [
      "401 Unauthorized\n",
      "Not authorized.\n",
      "349240397\n"
     ]
    },
    {
     "name": "stderr",
     "output_type": "stream",
     "text": [
      "Rate limit reached. Sleeping for: 896\n",
      "checking followees of poll authors:  17%|█▋        | 68/401 [1:30:10<8:37:44, 93.29s/it]  "
     ]
    },
    {
     "name": "stdout",
     "output_type": "stream",
     "text": [
      "401 Unauthorized\n",
      "Not authorized.\n",
      "155939890\n"
     ]
    },
    {
     "name": "stderr",
     "output_type": "stream",
     "text": [
      "checking followees of poll authors:  18%|█▊        | 71/401 [1:30:11<2:57:16, 32.23s/it]Rate limit reached. Sleeping for: 895\n",
      "checking followees of poll authors:  21%|██        | 85/401 [1:45:12<16:20,  3.10s/it]    Rate limit reached. Sleeping for: 895\n",
      "checking followees of poll authors:  21%|██▏       | 86/401 [2:00:09<23:43:22, 271.12s/it]"
     ]
    },
    {
     "name": "stdout",
     "output_type": "stream",
     "text": [
      "401 Unauthorized\n",
      "Not authorized.\n",
      "3151903901\n"
     ]
    },
    {
     "name": "stderr",
     "output_type": "stream",
     "text": [
      "checking followees of poll authors:  24%|██▍       | 97/401 [2:00:13<29:06,  5.75s/it]    Rate limit reached. Sleeping for: 895\n",
      "checking followees of poll authors:  25%|██▌       | 101/401 [2:15:12<7:50:20, 94.07s/it]  "
     ]
    },
    {
     "name": "stdout",
     "output_type": "stream",
     "text": [
      "401 Unauthorized\n",
      "Not authorized.\n",
      "871921008\n"
     ]
    },
    {
     "name": "stderr",
     "output_type": "stream",
     "text": [
      "checking followees of poll authors:  26%|██▌       | 105/401 [2:15:14<1:53:21, 22.98s/it]Rate limit reached. Sleeping for: 895\n",
      "checking followees of poll authors:  29%|██▉       | 118/401 [2:30:15<20:09,  4.27s/it]    Rate limit reached. Sleeping for: 895\n",
      "checking followees of poll authors:  32%|███▏      | 130/401 [2:45:15<25:39,  5.68s/it]    Rate limit reached. Sleeping for: 896\n",
      "checking followees of poll authors:  35%|███▌      | 142/401 [3:00:17<24:43,  5.73s/it]    Rate limit reached. Sleeping for: 895\n",
      "checking followees of poll authors:  38%|███▊      | 154/401 [3:15:17<23:25,  5.69s/it]    Rate limit reached. Sleeping for: 895\n",
      "checking followees of poll authors:  40%|████      | 162/401 [3:30:16<1:30:32, 22.73s/it]  "
     ]
    },
    {
     "name": "stdout",
     "output_type": "stream",
     "text": [
      "401 Unauthorized\n",
      "Not authorized.\n",
      "215886325\n"
     ]
    },
    {
     "name": "stderr",
     "output_type": "stream",
     "text": [
      "checking followees of poll authors:  41%|████      | 164/401 [3:30:17<44:38, 11.30s/it]  Rate limit reached. Sleeping for: 896\n",
      "checking followees of poll authors:  44%|████▍     | 178/401 [3:45:20<10:53,  2.93s/it]    Rate limit reached. Sleeping for: 896\n",
      "checking followees of poll authors:  48%|████▊     | 193/401 [4:00:21<07:18,  2.11s/it]    Rate limit reached. Sleeping for: 896\n",
      "Rate limit reached. Sleeping for: 894\n",
      "Rate limit reached. Sleeping for: 894\n",
      "Rate limit reached. Sleeping for: 894\n",
      "Rate limit reached. Sleeping for: 894\n",
      "Rate limit reached. Sleeping for: 894\n",
      "checking followees of poll authors:  51%|█████     | 204/401 [5:30:27<2:31:39, 46.19s/it]   Rate limit reached. Sleeping for: 896\n",
      "Rate limit reached. Sleeping for: 895\n",
      "checking followees of poll authors:  52%|█████▏    | 209/401 [6:00:29<7:20:33, 137.68s/it] "
     ]
    },
    {
     "name": "stdout",
     "output_type": "stream",
     "text": [
      "404 Not Found\n",
      "34 - Sorry, that page does not exist.\n",
      "742938016495378433\n"
     ]
    },
    {
     "name": "stderr",
     "output_type": "stream",
     "text": [
      "checking followees of poll authors:  53%|█████▎    | 212/401 [6:00:30<2:29:17, 47.39s/it] Rate limit reached. Sleeping for: 896\n",
      "checking followees of poll authors:  53%|█████▎    | 214/401 [6:15:33<11:03:15, 212.81s/it]Rate limit reached. Sleeping for: 895\n",
      "Rate limit reached. Sleeping for: 895\n",
      "Rate limit reached. Sleeping for: 894\n",
      "Rate limit reached. Sleeping for: 894\n",
      "Rate limit reached. Sleeping for: 893\n",
      "Rate limit reached. Sleeping for: 894\n",
      "checking followees of poll authors:  54%|█████▍    | 218/401 [7:45:42<30:53:45, 607.79s/it] Rate limit reached. Sleeping for: 895\n",
      "checking followees of poll authors:  57%|█████▋    | 227/401 [8:00:42<1:56:52, 40.30s/it]  Rate limit reached. Sleeping for: 895\n",
      "checking followees of poll authors:  59%|█████▉    | 237/401 [8:15:42<33:32, 12.27s/it]    Rate limit reached. Sleeping for: 895\n",
      "Rate limit reached. Sleeping for: 894\n",
      "checking followees of poll authors:  59%|█████▉    | 238/401 [8:45:47<24:53:49, 549.87s/it]Rate limit reached. Sleeping for: 894\n",
      "checking followees of poll authors:  62%|██████▏   | 249/401 [9:00:44<47:18, 18.67s/it]    "
     ]
    },
    {
     "name": "stdout",
     "output_type": "stream",
     "text": [
      "404 Not Found\n",
      "34 - Sorry, that page does not exist.\n",
      "3224102715\n"
     ]
    },
    {
     "name": "stderr",
     "output_type": "stream",
     "text": [
      "checking followees of poll authors:  63%|██████▎   | 253/401 [9:00:45<11:32,  4.68s/it]Rate limit reached. Sleeping for: 897\n"
     ]
    },
    {
     "name": "stdout",
     "output_type": "stream",
     "text": [
      "401 Unauthorized\n",
      "Not authorized.\n",
      "206061601\n"
     ]
    },
    {
     "name": "stderr",
     "output_type": "stream",
     "text": [
      "checking followees of poll authors:  64%|██████▍   | 256/401 [9:15:44<5:23:19, 133.79s/it] "
     ]
    },
    {
     "name": "stdout",
     "output_type": "stream",
     "text": [
      "401 Unauthorized\n",
      "Not authorized.\n",
      "390502765\n"
     ]
    },
    {
     "name": "stderr",
     "output_type": "stream",
     "text": [
      "checking followees of poll authors:  65%|██████▍   | 260/401 [9:15:46<1:16:12, 32.43s/it] "
     ]
    },
    {
     "name": "stdout",
     "output_type": "stream",
     "text": [
      "401 Unauthorized\n",
      "Not authorized.\n",
      "414845225\n"
     ]
    },
    {
     "name": "stderr",
     "output_type": "stream",
     "text": [
      "checking followees of poll authors:  66%|██████▋   | 266/401 [9:15:48<09:07,  4.05s/it]  Rate limit reached. Sleeping for: 896\n",
      "checking followees of poll authors:  70%|██████▉   | 280/401 [9:30:49<05:54,  2.93s/it]    Rate limit reached. Sleeping for: 896\n",
      "checking followees of poll authors:  74%|███████▎  | 295/401 [9:45:50<03:44,  2.12s/it]   Rate limit reached. Sleeping for: 896\n",
      "checking followees of poll authors:  77%|███████▋  | 307/401 [10:00:52<08:55,  5.69s/it]   Rate limit reached. Sleeping for: 897\n",
      "checking followees of poll authors:  77%|███████▋  | 309/401 [10:15:50<4:53:41, 191.54s/it]"
     ]
    },
    {
     "name": "stdout",
     "output_type": "stream",
     "text": [
      "404 Not Found\n",
      "34 - Sorry, that page does not exist.\n",
      "261306457\n"
     ]
    },
    {
     "name": "stderr",
     "output_type": "stream",
     "text": [
      "checking followees of poll authors:  79%|███████▉  | 317/401 [10:15:53<15:50, 11.32s/it]   "
     ]
    },
    {
     "name": "stdout",
     "output_type": "stream",
     "text": [
      "404 Not Found\n",
      "34 - Sorry, that page does not exist.\n",
      "2669804190\n"
     ]
    },
    {
     "name": "stderr",
     "output_type": "stream",
     "text": [
      "checking followees of poll authors:  80%|████████  | 321/401 [10:15:54<03:56,  2.95s/it]Rate limit reached. Sleeping for: 896\n",
      "checking followees of poll authors:  82%|████████▏ | 328/401 [10:30:53<39:10, 32.20s/it]   "
     ]
    },
    {
     "name": "stdout",
     "output_type": "stream",
     "text": [
      "401 Unauthorized\n",
      "Not authorized.\n",
      "728059399\n"
     ]
    },
    {
     "name": "stderr",
     "output_type": "stream",
     "text": [
      "checking followees of poll authors:  84%|████████▎ | 335/401 [10:30:55<03:08,  2.86s/it]Rate limit reached. Sleeping for: 896\n",
      "checking followees of poll authors:  87%|████████▋ | 350/401 [10:45:57<01:50,  2.16s/it]   Rate limit reached. Sleeping for: 895\n",
      "checking followees of poll authors:  88%|████████▊ | 352/401 [11:00:53<2:34:39, 189.37s/it]"
     ]
    },
    {
     "name": "stdout",
     "output_type": "stream",
     "text": [
      "401 Unauthorized\n",
      "Not authorized.\n",
      "206061601\n"
     ]
    },
    {
     "name": "stderr",
     "output_type": "stream",
     "text": [
      "checking followees of poll authors:  88%|████████▊ | 353/401 [11:00:53<1:46:06, 132.63s/it]"
     ]
    },
    {
     "name": "stdout",
     "output_type": "stream",
     "text": [
      "401 Unauthorized\n",
      "Not authorized.\n",
      "728059399\n"
     ]
    },
    {
     "name": "stderr",
     "output_type": "stream",
     "text": [
      "checking followees of poll authors:  90%|████████▉ | 360/401 [11:00:56<07:41, 11.26s/it]   "
     ]
    },
    {
     "name": "stdout",
     "output_type": "stream",
     "text": [
      "404 Not Found\n",
      "34 - Sorry, that page does not exist.\n",
      "752989213851877377\n"
     ]
    },
    {
     "name": "stderr",
     "output_type": "stream",
     "text": [
      "checking followees of poll authors:  91%|█████████ | 363/401 [11:00:57<02:32,  4.02s/it]Rate limit reached. Sleeping for: 896\n",
      "checking followees of poll authors:  91%|█████████▏| 366/401 [11:15:56<1:18:04, 133.85s/it]Rate limit reached. Sleeping for: 894\n",
      "checking followees of poll authors:  95%|█████████▍| 380/401 [11:30:59<01:18,  3.75s/it]   Rate limit reached. Sleeping for: 896\n",
      "checking followees of poll authors:  97%|█████████▋| 387/401 [11:46:01<07:33, 32.37s/it]   Rate limit reached. Sleeping for: 895\n",
      "checking followees of poll authors:  99%|█████████▉| 398/401 [12:01:00<00:25,  8.50s/it]   "
     ]
    },
    {
     "name": "stdout",
     "output_type": "stream",
     "text": [
      "401 Unauthorized\n",
      "Not authorized.\n",
      "2381862440\n"
     ]
    },
    {
     "name": "stderr",
     "output_type": "stream",
     "text": [
      "checking followees of poll authors: 100%|██████████| 401/401 [12:01:01<00:00, 107.88s/it]\n",
      "checking followees of poll authors:   0%|          | 0/993 [00:00<?, ?it/s]Rate limit reached. Sleeping for: 896\n",
      "checking followees of poll authors:   1%|          | 7/993 [15:00<9:33:18, 34.89s/it]   "
     ]
    },
    {
     "name": "stdout",
     "output_type": "stream",
     "text": [
      "401 Unauthorized\n",
      "Not authorized.\n",
      "86815264\n"
     ]
    },
    {
     "name": "stderr",
     "output_type": "stream",
     "text": [
      "checking followees of poll authors:   1%|          | 8/993 [15:00<6:31:38, 23.86s/it]"
     ]
    },
    {
     "name": "stdout",
     "output_type": "stream",
     "text": [
      "401 Unauthorized\n",
      "Not authorized.\n",
      "1594409988\n"
     ]
    },
    {
     "name": "stderr",
     "output_type": "stream",
     "text": [
      "checking followees of poll authors:   1%|          | 12/993 [15:01<1:32:32,  5.66s/it]Rate limit reached. Sleeping for: 896\n",
      "checking followees of poll authors:   1%|▏         | 13/993 [29:59<75:05:10, 275.83s/it]"
     ]
    },
    {
     "name": "stdout",
     "output_type": "stream",
     "text": [
      "401 Unauthorized\n",
      "Not authorized.\n",
      "1594409988\n"
     ]
    },
    {
     "name": "stderr",
     "output_type": "stream",
     "text": [
      "checking followees of poll authors:   2%|▏         | 15/993 [29:59<36:34:27, 134.63s/it]"
     ]
    },
    {
     "name": "stdout",
     "output_type": "stream",
     "text": [
      "401 Unauthorized\n",
      "Not authorized.\n",
      "1594409988\n"
     ]
    },
    {
     "name": "stderr",
     "output_type": "stream",
     "text": [
      "checking followees of poll authors:   2%|▏         | 17/993 [30:00<17:52:15, 65.92s/it] "
     ]
    },
    {
     "name": "stdout",
     "output_type": "stream",
     "text": [
      "401 Unauthorized\n",
      "Not authorized.\n",
      "1194495690191360004\n"
     ]
    },
    {
     "name": "stderr",
     "output_type": "stream",
     "text": [
      "checking followees of poll authors:   3%|▎         | 25/993 [30:02<1:05:35,  4.07s/it] "
     ]
    },
    {
     "name": "stdout",
     "output_type": "stream",
     "text": [
      "401 Unauthorized\n",
      "Not authorized.\n",
      "1594409988\n"
     ]
    },
    {
     "name": "stderr",
     "output_type": "stream",
     "text": [
      "checking followees of poll authors:   3%|▎         | 26/993 [30:03<46:53,  2.91s/it]  Rate limit reached. Sleeping for: 896\n"
     ]
    },
    {
     "name": "stdout",
     "output_type": "stream",
     "text": [
      "404 Not Found\n",
      "34 - Sorry, that page does not exist.\n",
      "42841187\n"
     ]
    },
    {
     "name": "stderr",
     "output_type": "stream",
     "text": [
      "checking followees of poll authors:   3%|▎         | 27/993 [45:00<72:47:38, 271.28s/it]"
     ]
    },
    {
     "name": "stdout",
     "output_type": "stream",
     "text": [
      "401 Unauthorized\n",
      "Not authorized.\n",
      "86815264\n"
     ]
    },
    {
     "name": "stderr",
     "output_type": "stream",
     "text": [
      "checking followees of poll authors:   3%|▎         | 31/993 [45:01<17:27:17, 65.32s/it] "
     ]
    },
    {
     "name": "stdout",
     "output_type": "stream",
     "text": [
      "404 Not Found\n",
      "34 - Sorry, that page does not exist.\n",
      "209684798\n"
     ]
    },
    {
     "name": "stderr",
     "output_type": "stream",
     "text": [
      "checking followees of poll authors:   3%|▎         | 34/993 [45:02<6:00:50, 22.58s/it] "
     ]
    },
    {
     "name": "stdout",
     "output_type": "stream",
     "text": [
      "401 Unauthorized\n",
      "Not authorized.\n",
      "4875048329\n"
     ]
    },
    {
     "name": "stderr",
     "output_type": "stream",
     "text": [
      "checking followees of poll authors:   4%|▍         | 38/993 [45:03<1:28:48,  5.58s/it]"
     ]
    },
    {
     "name": "stdout",
     "output_type": "stream",
     "text": [
      "404 Not Found\n",
      "34 - Sorry, that page does not exist.\n",
      "553581707\n"
     ]
    },
    {
     "name": "stderr",
     "output_type": "stream",
     "text": [
      "checking followees of poll authors:   4%|▍         | 39/993 [45:03<1:03:08,  3.97s/it]"
     ]
    },
    {
     "name": "stdout",
     "output_type": "stream",
     "text": [
      "401 Unauthorized\n",
      "Not authorized.\n",
      "86815264\n",
      "404 Not Found\n",
      "34 - Sorry, that page does not exist.\n",
      "3140006645\n"
     ]
    },
    {
     "name": "stderr",
     "output_type": "stream",
     "text": [
      "checking followees of poll authors:   4%|▍         | 41/993 [45:04<32:42,  2.06s/it]  Rate limit reached. Sleeping for: 896\n",
      "checking followees of poll authors:   4%|▍         | 44/993 [1:00:01<34:59:35, 132.75s/it]"
     ]
    },
    {
     "name": "stdout",
     "output_type": "stream",
     "text": [
      "401 Unauthorized\n",
      "Not authorized.\n",
      "86815264\n"
     ]
    },
    {
     "name": "stderr",
     "output_type": "stream",
     "text": [
      "checking followees of poll authors:   5%|▍         | 45/993 [1:00:02<24:29:13, 92.99s/it] "
     ]
    },
    {
     "name": "stdout",
     "output_type": "stream",
     "text": [
      "404 Not Found\n",
      "34 - Sorry, that page does not exist.\n",
      "401757176\n"
     ]
    },
    {
     "name": "stderr",
     "output_type": "stream",
     "text": [
      "checking followees of poll authors:   5%|▌         | 52/993 [1:00:05<2:04:50,  7.96s/it] Rate limit reached. Sleeping for: 895\n",
      "checking followees of poll authors:   6%|▌         | 62/993 [1:15:06<2:57:42, 11.45s/it]  "
     ]
    },
    {
     "name": "stdout",
     "output_type": "stream",
     "text": [
      "401 Unauthorized\n",
      "Not authorized.\n",
      "24096463\n"
     ]
    },
    {
     "name": "stderr",
     "output_type": "stream",
     "text": [
      "checking followees of poll authors:   6%|▋         | 64/993 [1:15:06<1:29:20,  5.77s/it]Rate limit reached. Sleeping for: 895\n",
      "checking followees of poll authors:   7%|▋         | 74/993 [1:30:07<2:54:16, 11.38s/it]  Rate limit reached. Sleeping for: 895\n",
      "checking followees of poll authors:   8%|▊         | 82/993 [1:45:08<5:57:55, 23.57s/it]  Rate limit reached. Sleeping for: 895\n",
      "checking followees of poll authors:   9%|▉         | 93/993 [2:00:09<2:04:50,  8.32s/it]  Rate limit reached. Sleeping for: 895\n",
      "checking followees of poll authors:  10%|▉         | 95/993 [2:15:06<47:59:34, 192.40s/it]"
     ]
    },
    {
     "name": "stdout",
     "output_type": "stream",
     "text": [
      "401 Unauthorized\n",
      "Not authorized.\n",
      "3389073989\n"
     ]
    },
    {
     "name": "stderr",
     "output_type": "stream",
     "text": [
      "checking followees of poll authors:  10%|█         | 103/993 [2:15:10<2:49:13, 11.41s/it] Rate limit reached. Sleeping for: 895\n",
      "checking followees of poll authors:  11%|█         | 110/993 [2:30:09<8:03:55, 32.88s/it]  "
     ]
    },
    {
     "name": "stdout",
     "output_type": "stream",
     "text": [
      "401 Unauthorized\n",
      "Not authorized.\n",
      "786209354\n"
     ]
    },
    {
     "name": "stderr",
     "output_type": "stream",
     "text": [
      "checking followees of poll authors:  11%|█▏        | 114/993 [2:30:11<2:01:13,  8.27s/it]Rate limit reached. Sleeping for: 895\n",
      "checking followees of poll authors:  12%|█▏        | 124/993 [2:45:12<2:45:17, 11.41s/it]  "
     ]
    },
    {
     "name": "stdout",
     "output_type": "stream",
     "text": [
      "401 Unauthorized\n",
      "Not authorized.\n",
      "1089300681872175104\n"
     ]
    },
    {
     "name": "stderr",
     "output_type": "stream",
     "text": [
      "Rate limit reached. Sleeping for: 895\n",
      "checking followees of poll authors:  14%|█▎        | 136/993 [3:00:13<1:23:42,  5.86s/it]  Rate limit reached. Sleeping for: 895\n",
      "checking followees of poll authors:  15%|█▍        | 148/993 [3:15:14<1:22:28,  5.86s/it]  Rate limit reached. Sleeping for: 896\n",
      "checking followees of poll authors:  16%|█▌        | 157/993 [3:30:16<3:45:10, 16.16s/it]  Rate limit reached. Sleeping for: 895\n",
      "checking followees of poll authors:  17%|█▋        | 169/993 [3:45:16<1:20:10,  5.84s/it]  Rate limit reached. Sleeping for: 895\n",
      "checking followees of poll authors:  18%|█▊        | 179/993 [4:00:17<2:35:42, 11.48s/it]  Rate limit reached. Sleeping for: 895\n",
      "checking followees of poll authors:  19%|█▉        | 188/993 [4:15:18<3:41:00, 16.47s/it]  Rate limit reached. Sleeping for: 895\n",
      "checking followees of poll authors:  20%|█▉        | 197/993 [4:30:19<3:40:01, 16.59s/it]  Rate limit reached. Sleeping for: 895\n",
      "checking followees of poll authors:  21%|██        | 207/993 [4:45:21<2:34:31, 11.80s/it]  Rate limit reached. Sleeping for: 895\n",
      "checking followees of poll authors:  22%|██▏       | 217/993 [5:00:22<2:30:58, 11.67s/it]  Rate limit reached. Sleeping for: 895\n",
      "checking followees of poll authors:  23%|██▎       | 227/993 [5:15:23<2:29:18, 11.70s/it]  Rate limit reached. Sleeping for: 895\n",
      "checking followees of poll authors:  23%|██▎       | 228/993 [5:30:20<58:53:17, 277.12s/it]"
     ]
    },
    {
     "name": "stdout",
     "output_type": "stream",
     "text": [
      "401 Unauthorized\n",
      "Not authorized.\n",
      "1037663718686031879\n"
     ]
    },
    {
     "name": "stderr",
     "output_type": "stream",
     "text": [
      "checking followees of poll authors:  24%|██▍       | 239/993 [5:30:24<1:14:11,  5.90s/it]  Rate limit reached. Sleeping for: 895\n",
      "checking followees of poll authors:  25%|██▌       | 249/993 [5:45:25<2:21:48, 11.44s/it]  Rate limit reached. Sleeping for: 895\n",
      "checking followees of poll authors:  26%|██▌       | 260/993 [6:00:27<1:41:43,  8.33s/it]  Rate limit reached. Sleeping for: 894\n",
      "checking followees of poll authors:  27%|██▋       | 268/993 [6:15:25<4:36:51, 22.91s/it]  "
     ]
    },
    {
     "name": "stdout",
     "output_type": "stream",
     "text": [
      "404 Not Found\n",
      "34 - Sorry, that page does not exist.\n",
      "4030465994\n"
     ]
    },
    {
     "name": "stderr",
     "output_type": "stream",
     "text": [
      "checking followees of poll authors:  27%|██▋       | 271/993 [6:15:27<1:37:22,  8.09s/it]Rate limit reached. Sleeping for: 895\n",
      "checking followees of poll authors:  28%|██▊       | 282/993 [6:30:28<1:38:32,  8.32s/it]  Rate limit reached. Sleeping for: 895\n",
      "checking followees of poll authors:  29%|██▉       | 290/993 [6:45:30<4:31:13, 23.15s/it]  Rate limit reached. Sleeping for: 895\n",
      "checking followees of poll authors:  30%|██▉       | 297/993 [7:00:31<6:35:40, 34.11s/it]  Rate limit reached. Sleeping for: 895\n",
      "checking followees of poll authors:  31%|███       | 304/993 [7:15:31<6:40:00, 34.83s/it]  "
     ]
    },
    {
     "name": "stdout",
     "output_type": "stream",
     "text": [
      "404 Not Found\n",
      "34 - Sorry, that page does not exist.\n",
      "1257444286934781952\n"
     ]
    },
    {
     "name": "stderr",
     "output_type": "stream",
     "text": [
      "checking followees of poll authors:  31%|███       | 307/993 [7:15:33<2:19:27, 12.20s/it]"
     ]
    },
    {
     "name": "stdout",
     "output_type": "stream",
     "text": [
      "404 Not Found\n",
      "34 - Sorry, that page does not exist.\n",
      "1201768582402711552\n"
     ]
    },
    {
     "name": "stderr",
     "output_type": "stream",
     "text": [
      "Rate limit reached. Sleeping for: 895\n",
      "checking followees of poll authors:  32%|███▏      | 318/993 [7:30:33<1:32:49,  8.25s/it]  Rate limit reached. Sleeping for: 895\n",
      "checking followees of poll authors:  33%|███▎      | 329/993 [7:45:35<1:30:58,  8.22s/it]  Rate limit reached. Sleeping for: 895\n",
      "checking followees of poll authors:  34%|███▍      | 337/993 [8:00:34<4:10:34, 22.92s/it]  "
     ]
    },
    {
     "name": "stdout",
     "output_type": "stream",
     "text": [
      "401 Unauthorized\n",
      "Not authorized.\n",
      "1077552804930224128\n"
     ]
    },
    {
     "name": "stderr",
     "output_type": "stream",
     "text": [
      "checking followees of poll authors:  34%|███▍      | 340/993 [8:00:36<1:29:14,  8.20s/it]Rate limit reached. Sleeping for: 895\n",
      "checking followees of poll authors:  35%|███▌      | 351/993 [8:15:37<1:28:03,  8.23s/it]  Rate limit reached. Sleeping for: 895\n",
      "checking followees of poll authors:  37%|███▋      | 364/993 [8:30:37<42:50,  4.09s/it]    Rate limit reached. Sleeping for: 895\n",
      "checking followees of poll authors:  37%|███▋      | 370/993 [8:45:35<7:56:38, 45.90s/it]  "
     ]
    },
    {
     "name": "stdout",
     "output_type": "stream",
     "text": [
      "404 Not Found\n",
      "34 - Sorry, that page does not exist.\n",
      "1273811445269106688\n"
     ]
    },
    {
     "name": "stderr",
     "output_type": "stream",
     "text": [
      "checking followees of poll authors:  38%|███▊      | 376/993 [8:45:37<57:26,  5.59s/it]  "
     ]
    },
    {
     "name": "stdout",
     "output_type": "stream",
     "text": [
      "404 Not Found\n",
      "34 - Sorry, that page does not exist.\n",
      "1109108413966049280\n"
     ]
    },
    {
     "name": "stderr",
     "output_type": "stream",
     "text": [
      "checking followees of poll authors:  38%|███▊      | 378/993 [8:45:37<29:40,  2.89s/it]Rate limit reached. Sleeping for: 896\n",
      "checking followees of poll authors:  38%|███▊      | 382/993 [9:00:36<15:49:39, 93.26s/it] Rate limit reached. Sleeping for: 895\n",
      "Rate limit reached. Sleeping for: 894\n",
      "checking followees of poll authors:  40%|███▉      | 394/993 [9:30:41<2:02:57, 12.32s/it]   "
     ]
    },
    {
     "name": "stdout",
     "output_type": "stream",
     "text": [
      "401 Unauthorized\n",
      "Not authorized.\n",
      "2930966494\n"
     ]
    },
    {
     "name": "stderr",
     "output_type": "stream",
     "text": [
      "Rate limit reached. Sleeping for: 896\n",
      "checking followees of poll authors:  40%|████      | 402/993 [9:45:41<3:49:10, 23.27s/it]  "
     ]
    },
    {
     "name": "stdout",
     "output_type": "stream",
     "text": [
      "401 Unauthorized\n",
      "Not authorized.\n",
      "1277427101633613824\n"
     ]
    },
    {
     "name": "stderr",
     "output_type": "stream",
     "text": [
      "checking followees of poll authors:  41%|████      | 406/993 [9:45:42<57:17,  5.86s/it]  Rate limit reached. Sleeping for: 895\n",
      "checking followees of poll authors:  42%|████▏     | 419/993 [10:00:43<39:21,  4.11s/it]    Rate limit reached. Sleeping for: 896\n",
      "checking followees of poll authors:  42%|████▏     | 421/993 [10:15:41<30:16:34, 190.55s/it]"
     ]
    },
    {
     "name": "stdout",
     "output_type": "stream",
     "text": [
      "401 Unauthorized\n",
      "Not authorized.\n",
      "30109729\n"
     ]
    },
    {
     "name": "stderr",
     "output_type": "stream",
     "text": [
      "checking followees of poll authors:  44%|████▎     | 432/993 [10:15:44<37:46,  4.04s/it]    Rate limit reached. Sleeping for: 896\n",
      "checking followees of poll authors:  45%|████▍     | 443/993 [10:30:46<1:16:16,  8.32s/it]  Rate limit reached. Sleeping for: 896\n",
      "checking followees of poll authors:  46%|████▌     | 454/993 [10:45:48<1:12:07,  8.03s/it]  Rate limit reached. Sleeping for: 896\n",
      "checking followees of poll authors:  46%|████▌     | 456/993 [11:00:46<28:42:53, 192.50s/it]"
     ]
    },
    {
     "name": "stdout",
     "output_type": "stream",
     "text": [
      "404 Not Found\n",
      "34 - Sorry, that page does not exist.\n",
      "1302297223632482305\n"
     ]
    },
    {
     "name": "stderr",
     "output_type": "stream",
     "text": [
      "checking followees of poll authors:  47%|████▋     | 469/993 [11:00:49<18:28,  2.11s/it]    Rate limit reached. Sleeping for: 896\n",
      "checking followees of poll authors:  49%|████▊     | 484/993 [11:15:50<17:56,  2.11s/it]    Rate limit reached. Sleeping for: 896\n",
      "checking followees of poll authors:  50%|█████     | 499/993 [11:30:51<16:59,  2.06s/it]    Rate limit reached. Sleeping for: 896\n",
      "checking followees of poll authors:  51%|█████     | 507/993 [11:45:52<3:03:07, 22.61s/it]  "
     ]
    },
    {
     "name": "stdout",
     "output_type": "stream",
     "text": [
      "404 Not Found\n",
      "34 - Sorry, that page does not exist.\n",
      "2275031188\n"
     ]
    },
    {
     "name": "stderr",
     "output_type": "stream",
     "text": [
      "checking followees of poll authors:  51%|█████▏    | 509/993 [11:45:53<1:30:13, 11.19s/it]"
     ]
    },
    {
     "name": "stdout",
     "output_type": "stream",
     "text": [
      "404 Not Found\n",
      "34 - Sorry, that page does not exist.\n",
      "946409530853855232\n"
     ]
    },
    {
     "name": "stderr",
     "output_type": "stream",
     "text": [
      "checking followees of poll authors:  51%|█████▏    | 510/993 [11:45:53<1:03:32,  7.89s/it]Rate limit reached. Sleeping for: 896\n",
      "checking followees of poll authors:  52%|█████▏    | 516/993 [12:00:52<6:09:40, 46.50s/it]  "
     ]
    },
    {
     "name": "stdout",
     "output_type": "stream",
     "text": [
      "401 Unauthorized\n",
      "Not authorized.\n",
      "1077552804930224128\n"
     ]
    },
    {
     "name": "stderr",
     "output_type": "stream",
     "text": [
      "checking followees of poll authors:  53%|█████▎    | 522/993 [12:00:55<45:49,  5.84s/it]  Rate limit reached. Sleeping for: 896\n",
      "checking followees of poll authors:  54%|█████▍    | 536/993 [12:15:56<22:48,  3.00s/it]    Rate limit reached. Sleeping for: 896\n",
      "checking followees of poll authors:  55%|█████▍    | 544/993 [12:30:55<2:49:05, 22.60s/it]  Rate limit reached. Sleeping for: 894\n",
      "checking followees of poll authors:  56%|█████▌    | 553/993 [12:45:58<2:03:01, 16.78s/it]  "
     ]
    },
    {
     "name": "stdout",
     "output_type": "stream",
     "text": [
      "404 Not Found\n",
      "34 - Sorry, that page does not exist.\n",
      "1066864102406946816\n"
     ]
    },
    {
     "name": "stderr",
     "output_type": "stream",
     "text": [
      "Rate limit reached. Sleeping for: 896\n",
      "checking followees of poll authors:  57%|█████▋    | 562/993 [13:00:57<1:57:51, 16.41s/it]  "
     ]
    },
    {
     "name": "stdout",
     "output_type": "stream",
     "text": [
      "404 Not Found\n",
      "34 - Sorry, that page does not exist.\n",
      "743520822610911233\n"
     ]
    },
    {
     "name": "stderr",
     "output_type": "stream",
     "text": [
      "checking followees of poll authors:  57%|█████▋    | 568/993 [13:00:59<15:03,  2.13s/it]  Rate limit reached. Sleeping for: 897\n",
      "checking followees of poll authors:  58%|█████▊    | 580/993 [13:16:01<38:56,  5.66s/it]    Rate limit reached. Sleeping for: 895\n",
      "checking followees of poll authors:  60%|█████▉    | 595/993 [13:31:01<13:54,  2.10s/it]    Rate limit reached. Sleeping for: 896\n",
      "checking followees of poll authors:  61%|██████    | 606/993 [13:46:02<51:08,  7.93s/it]    "
     ]
    },
    {
     "name": "stdout",
     "output_type": "stream",
     "text": [
      "401 Unauthorized\n",
      "Not authorized.\n",
      "32372752\n"
     ]
    },
    {
     "name": "stderr",
     "output_type": "stream",
     "text": [
      "checking followees of poll authors:  61%|██████    | 608/993 [13:46:02<25:42,  4.01s/it]"
     ]
    },
    {
     "name": "stdout",
     "output_type": "stream",
     "text": [
      "404 Not Found\n",
      "34 - Sorry, that page does not exist.\n",
      "2268746017\n"
     ]
    },
    {
     "name": "stderr",
     "output_type": "stream",
     "text": [
      "checking followees of poll authors:  61%|██████▏   | 610/993 [13:46:03<13:16,  2.08s/it]Rate limit reached. Sleeping for: 896\n"
     ]
    }
   ],
   "source": [
    "for year in YEARS:\n",
    "    out_path = os.path.join(DATA_PATH, f'followee_lists_{year}.jsonl')\n",
    "    existing_users = set()\n",
    "    if os.path.exists(out_path):\n",
    "        with open(out_path) as f:\n",
    "            existing_users.update(k for l in f for k in json.loads(l))\n",
    "            print(f'found {len(existing_users)} scraped users')\n",
    "\n",
    "    with open(os.path.join(DATA_PATH, f'polls_{year}_author_ids.json')) as f:\n",
    "        author_ids = [id for id in json.load(f) if id not in existing_users]\n",
    "\n",
    "    with open(out_path, 'a+', encoding='utf8') as f:\n",
    "        for author_id in tqdm(author_ids, desc='checking followees of poll authors'):\n",
    "            followee_ids = []\n",
    "            try:\n",
    "                for page in tweepy.Cursor(api.get_friend_ids, user_id = author_id, count = 5000).pages():\n",
    "                    followee_ids.extend(page)\n",
    "                f.write(json.dumps({author_id:followee_ids}) + '\\n')\n",
    "            except TweepyException as e:\n",
    "                print(e)\n",
    "                print(author_id)\n",
    "                exception_users[id]=e\n"
   ],
   "metadata": {
    "collapsed": false,
    "pycharm": {
     "is_executing": true
    }
   }
  },
  {
   "cell_type": "code",
   "execution_count": null,
   "outputs": [],
   "source": [
    "# client = tweepy.Client(bearer_token=os.environ['BEARER'],\n",
    "#                        wait_on_rate_limit=True)\n",
    "# author_id = author_ids[0]\n",
    "# user_fields = ['id']\n",
    "# response = client.get_users_followers(id=author_id, user_fields=user_fields, max_results=1000)\n",
    "# one_user = response.data[0]\n",
    "# one_user.data\n",
    "# next_token = response.meta['next_token']"
   ],
   "metadata": {
    "collapsed": false
   }
  },
  {
   "cell_type": "code",
   "execution_count": null,
   "outputs": [],
   "source": [],
   "metadata": {
    "collapsed": false
   }
  },
  {
   "cell_type": "markdown",
   "source": [],
   "metadata": {
    "collapsed": false
   }
  }
 ],
 "metadata": {
  "kernelspec": {
   "display_name": "Python 3",
   "language": "python",
   "name": "python3"
  },
  "language_info": {
   "codemirror_mode": {
    "name": "ipython",
    "version": 2
   },
   "file_extension": ".py",
   "mimetype": "text/x-python",
   "name": "python",
   "nbconvert_exporter": "python",
   "pygments_lexer": "ipython2",
   "version": "2.7.6"
  }
 },
 "nbformat": 4,
 "nbformat_minor": 0
}
